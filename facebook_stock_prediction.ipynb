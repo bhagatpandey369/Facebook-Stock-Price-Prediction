{
  "metadata": {
    "kernelspec": {
      "display_name": "Python 3",
      "name": "python3"
    },
    "language_info": {
      "pygments_lexer": "ipython3",
      "nbconvert_exporter": "python",
      "version": "3.6.4",
      "file_extension": ".py",
      "codemirror_mode": {
        "name": "ipython",
        "version": 3
      },
      "name": "python",
      "mimetype": "text/x-python"
    },
    "kaggle": {
      "accelerator": "nvidiaTeslaT4",
      "dataSources": [
        {
          "sourceId": 6217264,
          "sourceType": "datasetVersion",
          "datasetId": 3570475
        }
      ],
      "dockerImageVersionId": 30528,
      "isInternetEnabled": true,
      "language": "python",
      "sourceType": "notebook",
      "isGpuEnabled": true
    },
    "colab": {
      "provenance": [],
      "gpuType": "T4"
    },
    "accelerator": "GPU"
  },
  "nbformat_minor": 0,
  "nbformat": 4,
  "cells": [
    {
      "cell_type": "markdown",
      "source": [
        "## Import libraries"
      ],
      "metadata": {
        "id": "ASgMTvSLoc3m"
      }
    },
    {
      "cell_type": "code",
      "source": [
        "import numpy as np\n",
        "import pandas as pd\n",
        "import tensorflow as tf\n",
        "\n",
        "import plotly.express as px\n",
        "import statsmodels.api as sm\n",
        "import matplotlib.pyplot as plt\n",
        "import plotly.graph_objects as go\n",
        "\n",
        "from tensorflow import keras\n",
        "\n",
        "from keras.layers import GRU, Dropout, SimpleRNN, LSTM, Dense, SimpleRNN, GRU\n",
        "from keras.models import Sequential\n",
        "from sklearn.preprocessing import MinMaxScaler"
      ],
      "metadata": {
        "papermill": {
          "duration": 0.022501,
          "end_time": "2022-08-12T10:33:21.679982",
          "exception": false,
          "start_time": "2022-08-12T10:33:21.657481",
          "status": "completed"
        },
        "tags": [],
        "execution": {
          "iopub.status.busy": "2023-07-30T09:59:10.899941Z",
          "iopub.execute_input": "2023-07-30T09:59:10.90053Z",
          "iopub.status.idle": "2023-07-30T09:59:23.504454Z",
          "shell.execute_reply.started": "2023-07-30T09:59:10.900477Z",
          "shell.execute_reply": "2023-07-30T09:59:23.503475Z"
        },
        "trusted": true,
        "id": "N0iycZiIoc3o"
      },
      "outputs": [],
      "execution_count": 1
    },
    {
      "cell_type": "code",
      "source": [
        "pip install yfinance"
      ],
      "metadata": {
        "colab": {
          "base_uri": "https://localhost:8080/"
        },
        "id": "eGn6Kei9owO1",
        "outputId": "0f9d6111-1993-48be-cfcc-5ea92987fd19"
      },
      "execution_count": 2,
      "outputs": [
        {
          "output_type": "stream",
          "name": "stdout",
          "text": [
            "Requirement already satisfied: yfinance in /usr/local/lib/python3.10/dist-packages (0.2.50)\n",
            "Requirement already satisfied: pandas>=1.3.0 in /usr/local/lib/python3.10/dist-packages (from yfinance) (2.2.2)\n",
            "Requirement already satisfied: numpy>=1.16.5 in /usr/local/lib/python3.10/dist-packages (from yfinance) (1.26.4)\n",
            "Requirement already satisfied: requests>=2.31 in /usr/local/lib/python3.10/dist-packages (from yfinance) (2.32.3)\n",
            "Requirement already satisfied: multitasking>=0.0.7 in /usr/local/lib/python3.10/dist-packages (from yfinance) (0.0.11)\n",
            "Requirement already satisfied: lxml>=4.9.1 in /usr/local/lib/python3.10/dist-packages (from yfinance) (5.3.0)\n",
            "Requirement already satisfied: platformdirs>=2.0.0 in /usr/local/lib/python3.10/dist-packages (from yfinance) (4.3.6)\n",
            "Requirement already satisfied: pytz>=2022.5 in /usr/local/lib/python3.10/dist-packages (from yfinance) (2024.2)\n",
            "Requirement already satisfied: frozendict>=2.3.4 in /usr/local/lib/python3.10/dist-packages (from yfinance) (2.4.6)\n",
            "Requirement already satisfied: peewee>=3.16.2 in /usr/local/lib/python3.10/dist-packages (from yfinance) (3.17.8)\n",
            "Requirement already satisfied: beautifulsoup4>=4.11.1 in /usr/local/lib/python3.10/dist-packages (from yfinance) (4.12.3)\n",
            "Requirement already satisfied: html5lib>=1.1 in /usr/local/lib/python3.10/dist-packages (from yfinance) (1.1)\n",
            "Requirement already satisfied: soupsieve>1.2 in /usr/local/lib/python3.10/dist-packages (from beautifulsoup4>=4.11.1->yfinance) (2.6)\n",
            "Requirement already satisfied: six>=1.9 in /usr/local/lib/python3.10/dist-packages (from html5lib>=1.1->yfinance) (1.17.0)\n",
            "Requirement already satisfied: webencodings in /usr/local/lib/python3.10/dist-packages (from html5lib>=1.1->yfinance) (0.5.1)\n",
            "Requirement already satisfied: python-dateutil>=2.8.2 in /usr/local/lib/python3.10/dist-packages (from pandas>=1.3.0->yfinance) (2.8.2)\n",
            "Requirement already satisfied: tzdata>=2022.7 in /usr/local/lib/python3.10/dist-packages (from pandas>=1.3.0->yfinance) (2024.2)\n",
            "Requirement already satisfied: charset-normalizer<4,>=2 in /usr/local/lib/python3.10/dist-packages (from requests>=2.31->yfinance) (3.4.0)\n",
            "Requirement already satisfied: idna<4,>=2.5 in /usr/local/lib/python3.10/dist-packages (from requests>=2.31->yfinance) (3.10)\n",
            "Requirement already satisfied: urllib3<3,>=1.21.1 in /usr/local/lib/python3.10/dist-packages (from requests>=2.31->yfinance) (2.2.3)\n",
            "Requirement already satisfied: certifi>=2017.4.17 in /usr/local/lib/python3.10/dist-packages (from requests>=2.31->yfinance) (2024.12.14)\n"
          ]
        }
      ]
    },
    {
      "cell_type": "code",
      "source": [
        "import yfinance as yahooFinance"
      ],
      "metadata": {
        "id": "Lm40hFukoynn"
      },
      "execution_count": 3,
      "outputs": []
    },
    {
      "cell_type": "markdown",
      "source": [
        "## Load Data"
      ],
      "metadata": {
        "id": "vpKoEivQoc3p"
      }
    },
    {
      "cell_type": "code",
      "source": [
        "\n",
        "GetFacebookInformation = yahooFinance.Ticker(\"META\")\n",
        "df = GetFacebookInformation.history(period=\"max\")"
      ],
      "metadata": {
        "papermill": {
          "duration": 0.025174,
          "end_time": "2022-08-12T10:33:21.711748",
          "exception": false,
          "start_time": "2022-08-12T10:33:21.686574",
          "status": "completed"
        },
        "tags": [],
        "execution": {
          "iopub.status.busy": "2023-07-30T09:59:23.506288Z",
          "iopub.execute_input": "2023-07-30T09:59:23.506863Z",
          "iopub.status.idle": "2023-07-30T09:59:23.552843Z",
          "shell.execute_reply.started": "2023-07-30T09:59:23.506829Z",
          "shell.execute_reply": "2023-07-30T09:59:23.551938Z"
        },
        "trusted": true,
        "id": "MO1xA8AGoc3p"
      },
      "outputs": [],
      "execution_count": 4
    },
    {
      "cell_type": "code",
      "source": [
        "df.info()"
      ],
      "metadata": {
        "colab": {
          "base_uri": "https://localhost:8080/"
        },
        "id": "LQnhcYpdqAMx",
        "outputId": "d84673bc-7c5b-4998-da45-cd2c123613af"
      },
      "execution_count": 5,
      "outputs": [
        {
          "output_type": "stream",
          "name": "stdout",
          "text": [
            "<class 'pandas.core.frame.DataFrame'>\n",
            "DatetimeIndex: 3169 entries, 2012-05-18 00:00:00-04:00 to 2024-12-20 00:00:00-05:00\n",
            "Data columns (total 7 columns):\n",
            " #   Column        Non-Null Count  Dtype  \n",
            "---  ------        --------------  -----  \n",
            " 0   Open          3169 non-null   float64\n",
            " 1   High          3169 non-null   float64\n",
            " 2   Low           3169 non-null   float64\n",
            " 3   Close         3169 non-null   float64\n",
            " 4   Volume        3169 non-null   int64  \n",
            " 5   Dividends     3169 non-null   float64\n",
            " 6   Stock Splits  3169 non-null   float64\n",
            "dtypes: float64(6), int64(1)\n",
            "memory usage: 198.1 KB\n"
          ]
        }
      ]
    },
    {
      "cell_type": "code",
      "source": [
        "df"
      ],
      "metadata": {
        "colab": {
          "base_uri": "https://localhost:8080/",
          "height": 455
        },
        "id": "ypFYbppyqDo2",
        "outputId": "169887b1-7782-4428-f72b-cb4a1a72885a"
      },
      "execution_count": 6,
      "outputs": [
        {
          "output_type": "execute_result",
          "data": {
            "text/plain": [
              "                                 Open        High         Low       Close  \\\n",
              "Date                                                                        \n",
              "2012-05-18 00:00:00-04:00   41.889986   44.828761   37.855398   38.084522   \n",
              "2012-05-21 00:00:00-04:00   36.390988   36.520494   32.874422   33.900501   \n",
              "2012-05-22 00:00:00-04:00   32.485908   33.462179   30.822263   30.882034   \n",
              "2012-05-23 00:00:00-04:00   31.250625   32.376325   31.240663   31.878227   \n",
              "2012-05-24 00:00:00-04:00   32.824611   33.083620   31.649101   32.904305   \n",
              "...                               ...         ...         ...         ...   \n",
              "2024-12-16 00:00:00-05:00  629.979980  631.150024  618.580017  624.239990   \n",
              "2024-12-17 00:00:00-05:00  626.169983  632.369995  616.539978  619.440002   \n",
              "2024-12-18 00:00:00-05:00  621.000000  627.359985  596.320007  597.190002   \n",
              "2024-12-19 00:00:00-05:00  610.390015  611.520020  595.000000  595.570007   \n",
              "2024-12-20 00:00:00-05:00  590.580017  603.109985  580.000000  585.250000   \n",
              "\n",
              "                              Volume  Dividends  Stock Splits  \n",
              "Date                                                           \n",
              "2012-05-18 00:00:00-04:00  573576400        0.0           0.0  \n",
              "2012-05-21 00:00:00-04:00  168192700        0.0           0.0  \n",
              "2012-05-22 00:00:00-04:00  101786600        0.0           0.0  \n",
              "2012-05-23 00:00:00-04:00   73600000        0.0           0.0  \n",
              "2012-05-24 00:00:00-04:00   50237200        0.0           0.0  \n",
              "...                              ...        ...           ...  \n",
              "2024-12-16 00:00:00-05:00   10885600        0.5           0.0  \n",
              "2024-12-17 00:00:00-05:00   12897800        0.0           0.0  \n",
              "2024-12-18 00:00:00-05:00   17075500        0.0           0.0  \n",
              "2024-12-19 00:00:00-05:00   14958100        0.0           0.0  \n",
              "2024-12-20 00:00:00-05:00   48917700        0.0           0.0  \n",
              "\n",
              "[3169 rows x 7 columns]"
            ],
            "text/html": [
              "\n",
              "  <div id=\"df-fc6753d2-0289-492b-98cf-99d7ed34e8cf\" class=\"colab-df-container\">\n",
              "    <div>\n",
              "<style scoped>\n",
              "    .dataframe tbody tr th:only-of-type {\n",
              "        vertical-align: middle;\n",
              "    }\n",
              "\n",
              "    .dataframe tbody tr th {\n",
              "        vertical-align: top;\n",
              "    }\n",
              "\n",
              "    .dataframe thead th {\n",
              "        text-align: right;\n",
              "    }\n",
              "</style>\n",
              "<table border=\"1\" class=\"dataframe\">\n",
              "  <thead>\n",
              "    <tr style=\"text-align: right;\">\n",
              "      <th></th>\n",
              "      <th>Open</th>\n",
              "      <th>High</th>\n",
              "      <th>Low</th>\n",
              "      <th>Close</th>\n",
              "      <th>Volume</th>\n",
              "      <th>Dividends</th>\n",
              "      <th>Stock Splits</th>\n",
              "    </tr>\n",
              "    <tr>\n",
              "      <th>Date</th>\n",
              "      <th></th>\n",
              "      <th></th>\n",
              "      <th></th>\n",
              "      <th></th>\n",
              "      <th></th>\n",
              "      <th></th>\n",
              "      <th></th>\n",
              "    </tr>\n",
              "  </thead>\n",
              "  <tbody>\n",
              "    <tr>\n",
              "      <th>2012-05-18 00:00:00-04:00</th>\n",
              "      <td>41.889986</td>\n",
              "      <td>44.828761</td>\n",
              "      <td>37.855398</td>\n",
              "      <td>38.084522</td>\n",
              "      <td>573576400</td>\n",
              "      <td>0.0</td>\n",
              "      <td>0.0</td>\n",
              "    </tr>\n",
              "    <tr>\n",
              "      <th>2012-05-21 00:00:00-04:00</th>\n",
              "      <td>36.390988</td>\n",
              "      <td>36.520494</td>\n",
              "      <td>32.874422</td>\n",
              "      <td>33.900501</td>\n",
              "      <td>168192700</td>\n",
              "      <td>0.0</td>\n",
              "      <td>0.0</td>\n",
              "    </tr>\n",
              "    <tr>\n",
              "      <th>2012-05-22 00:00:00-04:00</th>\n",
              "      <td>32.485908</td>\n",
              "      <td>33.462179</td>\n",
              "      <td>30.822263</td>\n",
              "      <td>30.882034</td>\n",
              "      <td>101786600</td>\n",
              "      <td>0.0</td>\n",
              "      <td>0.0</td>\n",
              "    </tr>\n",
              "    <tr>\n",
              "      <th>2012-05-23 00:00:00-04:00</th>\n",
              "      <td>31.250625</td>\n",
              "      <td>32.376325</td>\n",
              "      <td>31.240663</td>\n",
              "      <td>31.878227</td>\n",
              "      <td>73600000</td>\n",
              "      <td>0.0</td>\n",
              "      <td>0.0</td>\n",
              "    </tr>\n",
              "    <tr>\n",
              "      <th>2012-05-24 00:00:00-04:00</th>\n",
              "      <td>32.824611</td>\n",
              "      <td>33.083620</td>\n",
              "      <td>31.649101</td>\n",
              "      <td>32.904305</td>\n",
              "      <td>50237200</td>\n",
              "      <td>0.0</td>\n",
              "      <td>0.0</td>\n",
              "    </tr>\n",
              "    <tr>\n",
              "      <th>...</th>\n",
              "      <td>...</td>\n",
              "      <td>...</td>\n",
              "      <td>...</td>\n",
              "      <td>...</td>\n",
              "      <td>...</td>\n",
              "      <td>...</td>\n",
              "      <td>...</td>\n",
              "    </tr>\n",
              "    <tr>\n",
              "      <th>2024-12-16 00:00:00-05:00</th>\n",
              "      <td>629.979980</td>\n",
              "      <td>631.150024</td>\n",
              "      <td>618.580017</td>\n",
              "      <td>624.239990</td>\n",
              "      <td>10885600</td>\n",
              "      <td>0.5</td>\n",
              "      <td>0.0</td>\n",
              "    </tr>\n",
              "    <tr>\n",
              "      <th>2024-12-17 00:00:00-05:00</th>\n",
              "      <td>626.169983</td>\n",
              "      <td>632.369995</td>\n",
              "      <td>616.539978</td>\n",
              "      <td>619.440002</td>\n",
              "      <td>12897800</td>\n",
              "      <td>0.0</td>\n",
              "      <td>0.0</td>\n",
              "    </tr>\n",
              "    <tr>\n",
              "      <th>2024-12-18 00:00:00-05:00</th>\n",
              "      <td>621.000000</td>\n",
              "      <td>627.359985</td>\n",
              "      <td>596.320007</td>\n",
              "      <td>597.190002</td>\n",
              "      <td>17075500</td>\n",
              "      <td>0.0</td>\n",
              "      <td>0.0</td>\n",
              "    </tr>\n",
              "    <tr>\n",
              "      <th>2024-12-19 00:00:00-05:00</th>\n",
              "      <td>610.390015</td>\n",
              "      <td>611.520020</td>\n",
              "      <td>595.000000</td>\n",
              "      <td>595.570007</td>\n",
              "      <td>14958100</td>\n",
              "      <td>0.0</td>\n",
              "      <td>0.0</td>\n",
              "    </tr>\n",
              "    <tr>\n",
              "      <th>2024-12-20 00:00:00-05:00</th>\n",
              "      <td>590.580017</td>\n",
              "      <td>603.109985</td>\n",
              "      <td>580.000000</td>\n",
              "      <td>585.250000</td>\n",
              "      <td>48917700</td>\n",
              "      <td>0.0</td>\n",
              "      <td>0.0</td>\n",
              "    </tr>\n",
              "  </tbody>\n",
              "</table>\n",
              "<p>3169 rows × 7 columns</p>\n",
              "</div>\n",
              "    <div class=\"colab-df-buttons\">\n",
              "\n",
              "  <div class=\"colab-df-container\">\n",
              "    <button class=\"colab-df-convert\" onclick=\"convertToInteractive('df-fc6753d2-0289-492b-98cf-99d7ed34e8cf')\"\n",
              "            title=\"Convert this dataframe to an interactive table.\"\n",
              "            style=\"display:none;\">\n",
              "\n",
              "  <svg xmlns=\"http://www.w3.org/2000/svg\" height=\"24px\" viewBox=\"0 -960 960 960\">\n",
              "    <path d=\"M120-120v-720h720v720H120Zm60-500h600v-160H180v160Zm220 220h160v-160H400v160Zm0 220h160v-160H400v160ZM180-400h160v-160H180v160Zm440 0h160v-160H620v160ZM180-180h160v-160H180v160Zm440 0h160v-160H620v160Z\"/>\n",
              "  </svg>\n",
              "    </button>\n",
              "\n",
              "  <style>\n",
              "    .colab-df-container {\n",
              "      display:flex;\n",
              "      gap: 12px;\n",
              "    }\n",
              "\n",
              "    .colab-df-convert {\n",
              "      background-color: #E8F0FE;\n",
              "      border: none;\n",
              "      border-radius: 50%;\n",
              "      cursor: pointer;\n",
              "      display: none;\n",
              "      fill: #1967D2;\n",
              "      height: 32px;\n",
              "      padding: 0 0 0 0;\n",
              "      width: 32px;\n",
              "    }\n",
              "\n",
              "    .colab-df-convert:hover {\n",
              "      background-color: #E2EBFA;\n",
              "      box-shadow: 0px 1px 2px rgba(60, 64, 67, 0.3), 0px 1px 3px 1px rgba(60, 64, 67, 0.15);\n",
              "      fill: #174EA6;\n",
              "    }\n",
              "\n",
              "    .colab-df-buttons div {\n",
              "      margin-bottom: 4px;\n",
              "    }\n",
              "\n",
              "    [theme=dark] .colab-df-convert {\n",
              "      background-color: #3B4455;\n",
              "      fill: #D2E3FC;\n",
              "    }\n",
              "\n",
              "    [theme=dark] .colab-df-convert:hover {\n",
              "      background-color: #434B5C;\n",
              "      box-shadow: 0px 1px 3px 1px rgba(0, 0, 0, 0.15);\n",
              "      filter: drop-shadow(0px 1px 2px rgba(0, 0, 0, 0.3));\n",
              "      fill: #FFFFFF;\n",
              "    }\n",
              "  </style>\n",
              "\n",
              "    <script>\n",
              "      const buttonEl =\n",
              "        document.querySelector('#df-fc6753d2-0289-492b-98cf-99d7ed34e8cf button.colab-df-convert');\n",
              "      buttonEl.style.display =\n",
              "        google.colab.kernel.accessAllowed ? 'block' : 'none';\n",
              "\n",
              "      async function convertToInteractive(key) {\n",
              "        const element = document.querySelector('#df-fc6753d2-0289-492b-98cf-99d7ed34e8cf');\n",
              "        const dataTable =\n",
              "          await google.colab.kernel.invokeFunction('convertToInteractive',\n",
              "                                                    [key], {});\n",
              "        if (!dataTable) return;\n",
              "\n",
              "        const docLinkHtml = 'Like what you see? Visit the ' +\n",
              "          '<a target=\"_blank\" href=https://colab.research.google.com/notebooks/data_table.ipynb>data table notebook</a>'\n",
              "          + ' to learn more about interactive tables.';\n",
              "        element.innerHTML = '';\n",
              "        dataTable['output_type'] = 'display_data';\n",
              "        await google.colab.output.renderOutput(dataTable, element);\n",
              "        const docLink = document.createElement('div');\n",
              "        docLink.innerHTML = docLinkHtml;\n",
              "        element.appendChild(docLink);\n",
              "      }\n",
              "    </script>\n",
              "  </div>\n",
              "\n",
              "\n",
              "<div id=\"df-c454c6de-744e-4ab1-889c-ca710f7a42bc\">\n",
              "  <button class=\"colab-df-quickchart\" onclick=\"quickchart('df-c454c6de-744e-4ab1-889c-ca710f7a42bc')\"\n",
              "            title=\"Suggest charts\"\n",
              "            style=\"display:none;\">\n",
              "\n",
              "<svg xmlns=\"http://www.w3.org/2000/svg\" height=\"24px\"viewBox=\"0 0 24 24\"\n",
              "     width=\"24px\">\n",
              "    <g>\n",
              "        <path d=\"M19 3H5c-1.1 0-2 .9-2 2v14c0 1.1.9 2 2 2h14c1.1 0 2-.9 2-2V5c0-1.1-.9-2-2-2zM9 17H7v-7h2v7zm4 0h-2V7h2v10zm4 0h-2v-4h2v4z\"/>\n",
              "    </g>\n",
              "</svg>\n",
              "  </button>\n",
              "\n",
              "<style>\n",
              "  .colab-df-quickchart {\n",
              "      --bg-color: #E8F0FE;\n",
              "      --fill-color: #1967D2;\n",
              "      --hover-bg-color: #E2EBFA;\n",
              "      --hover-fill-color: #174EA6;\n",
              "      --disabled-fill-color: #AAA;\n",
              "      --disabled-bg-color: #DDD;\n",
              "  }\n",
              "\n",
              "  [theme=dark] .colab-df-quickchart {\n",
              "      --bg-color: #3B4455;\n",
              "      --fill-color: #D2E3FC;\n",
              "      --hover-bg-color: #434B5C;\n",
              "      --hover-fill-color: #FFFFFF;\n",
              "      --disabled-bg-color: #3B4455;\n",
              "      --disabled-fill-color: #666;\n",
              "  }\n",
              "\n",
              "  .colab-df-quickchart {\n",
              "    background-color: var(--bg-color);\n",
              "    border: none;\n",
              "    border-radius: 50%;\n",
              "    cursor: pointer;\n",
              "    display: none;\n",
              "    fill: var(--fill-color);\n",
              "    height: 32px;\n",
              "    padding: 0;\n",
              "    width: 32px;\n",
              "  }\n",
              "\n",
              "  .colab-df-quickchart:hover {\n",
              "    background-color: var(--hover-bg-color);\n",
              "    box-shadow: 0 1px 2px rgba(60, 64, 67, 0.3), 0 1px 3px 1px rgba(60, 64, 67, 0.15);\n",
              "    fill: var(--button-hover-fill-color);\n",
              "  }\n",
              "\n",
              "  .colab-df-quickchart-complete:disabled,\n",
              "  .colab-df-quickchart-complete:disabled:hover {\n",
              "    background-color: var(--disabled-bg-color);\n",
              "    fill: var(--disabled-fill-color);\n",
              "    box-shadow: none;\n",
              "  }\n",
              "\n",
              "  .colab-df-spinner {\n",
              "    border: 2px solid var(--fill-color);\n",
              "    border-color: transparent;\n",
              "    border-bottom-color: var(--fill-color);\n",
              "    animation:\n",
              "      spin 1s steps(1) infinite;\n",
              "  }\n",
              "\n",
              "  @keyframes spin {\n",
              "    0% {\n",
              "      border-color: transparent;\n",
              "      border-bottom-color: var(--fill-color);\n",
              "      border-left-color: var(--fill-color);\n",
              "    }\n",
              "    20% {\n",
              "      border-color: transparent;\n",
              "      border-left-color: var(--fill-color);\n",
              "      border-top-color: var(--fill-color);\n",
              "    }\n",
              "    30% {\n",
              "      border-color: transparent;\n",
              "      border-left-color: var(--fill-color);\n",
              "      border-top-color: var(--fill-color);\n",
              "      border-right-color: var(--fill-color);\n",
              "    }\n",
              "    40% {\n",
              "      border-color: transparent;\n",
              "      border-right-color: var(--fill-color);\n",
              "      border-top-color: var(--fill-color);\n",
              "    }\n",
              "    60% {\n",
              "      border-color: transparent;\n",
              "      border-right-color: var(--fill-color);\n",
              "    }\n",
              "    80% {\n",
              "      border-color: transparent;\n",
              "      border-right-color: var(--fill-color);\n",
              "      border-bottom-color: var(--fill-color);\n",
              "    }\n",
              "    90% {\n",
              "      border-color: transparent;\n",
              "      border-bottom-color: var(--fill-color);\n",
              "    }\n",
              "  }\n",
              "</style>\n",
              "\n",
              "  <script>\n",
              "    async function quickchart(key) {\n",
              "      const quickchartButtonEl =\n",
              "        document.querySelector('#' + key + ' button');\n",
              "      quickchartButtonEl.disabled = true;  // To prevent multiple clicks.\n",
              "      quickchartButtonEl.classList.add('colab-df-spinner');\n",
              "      try {\n",
              "        const charts = await google.colab.kernel.invokeFunction(\n",
              "            'suggestCharts', [key], {});\n",
              "      } catch (error) {\n",
              "        console.error('Error during call to suggestCharts:', error);\n",
              "      }\n",
              "      quickchartButtonEl.classList.remove('colab-df-spinner');\n",
              "      quickchartButtonEl.classList.add('colab-df-quickchart-complete');\n",
              "    }\n",
              "    (() => {\n",
              "      let quickchartButtonEl =\n",
              "        document.querySelector('#df-c454c6de-744e-4ab1-889c-ca710f7a42bc button');\n",
              "      quickchartButtonEl.style.display =\n",
              "        google.colab.kernel.accessAllowed ? 'block' : 'none';\n",
              "    })();\n",
              "  </script>\n",
              "</div>\n",
              "\n",
              "  <div id=\"id_e68c1ee1-49c9-4610-8942-366d164e9fe4\">\n",
              "    <style>\n",
              "      .colab-df-generate {\n",
              "        background-color: #E8F0FE;\n",
              "        border: none;\n",
              "        border-radius: 50%;\n",
              "        cursor: pointer;\n",
              "        display: none;\n",
              "        fill: #1967D2;\n",
              "        height: 32px;\n",
              "        padding: 0 0 0 0;\n",
              "        width: 32px;\n",
              "      }\n",
              "\n",
              "      .colab-df-generate:hover {\n",
              "        background-color: #E2EBFA;\n",
              "        box-shadow: 0px 1px 2px rgba(60, 64, 67, 0.3), 0px 1px 3px 1px rgba(60, 64, 67, 0.15);\n",
              "        fill: #174EA6;\n",
              "      }\n",
              "\n",
              "      [theme=dark] .colab-df-generate {\n",
              "        background-color: #3B4455;\n",
              "        fill: #D2E3FC;\n",
              "      }\n",
              "\n",
              "      [theme=dark] .colab-df-generate:hover {\n",
              "        background-color: #434B5C;\n",
              "        box-shadow: 0px 1px 3px 1px rgba(0, 0, 0, 0.15);\n",
              "        filter: drop-shadow(0px 1px 2px rgba(0, 0, 0, 0.3));\n",
              "        fill: #FFFFFF;\n",
              "      }\n",
              "    </style>\n",
              "    <button class=\"colab-df-generate\" onclick=\"generateWithVariable('df')\"\n",
              "            title=\"Generate code using this dataframe.\"\n",
              "            style=\"display:none;\">\n",
              "\n",
              "  <svg xmlns=\"http://www.w3.org/2000/svg\" height=\"24px\"viewBox=\"0 0 24 24\"\n",
              "       width=\"24px\">\n",
              "    <path d=\"M7,19H8.4L18.45,9,17,7.55,7,17.6ZM5,21V16.75L18.45,3.32a2,2,0,0,1,2.83,0l1.4,1.43a1.91,1.91,0,0,1,.58,1.4,1.91,1.91,0,0,1-.58,1.4L9.25,21ZM18.45,9,17,7.55Zm-12,3A5.31,5.31,0,0,0,4.9,8.1,5.31,5.31,0,0,0,1,6.5,5.31,5.31,0,0,0,4.9,4.9,5.31,5.31,0,0,0,6.5,1,5.31,5.31,0,0,0,8.1,4.9,5.31,5.31,0,0,0,12,6.5,5.46,5.46,0,0,0,6.5,12Z\"/>\n",
              "  </svg>\n",
              "    </button>\n",
              "    <script>\n",
              "      (() => {\n",
              "      const buttonEl =\n",
              "        document.querySelector('#id_e68c1ee1-49c9-4610-8942-366d164e9fe4 button.colab-df-generate');\n",
              "      buttonEl.style.display =\n",
              "        google.colab.kernel.accessAllowed ? 'block' : 'none';\n",
              "\n",
              "      buttonEl.onclick = () => {\n",
              "        google.colab.notebook.generateWithVariable('df');\n",
              "      }\n",
              "      })();\n",
              "    </script>\n",
              "  </div>\n",
              "\n",
              "    </div>\n",
              "  </div>\n"
            ],
            "application/vnd.google.colaboratory.intrinsic+json": {
              "type": "dataframe",
              "variable_name": "df",
              "summary": "{\n  \"name\": \"df\",\n  \"rows\": 3169,\n  \"fields\": [\n    {\n      \"column\": \"Date\",\n      \"properties\": {\n        \"dtype\": \"date\",\n        \"min\": \"2012-05-18 00:00:00-04:00\",\n        \"max\": \"2024-12-20 00:00:00-05:00\",\n        \"num_unique_values\": 3169,\n        \"samples\": [\n          \"2013-05-24 00:00:00-04:00\",\n          \"2024-12-12 00:00:00-05:00\",\n          \"2016-03-29 00:00:00-04:00\"\n        ],\n        \"semantic_type\": \"\",\n        \"description\": \"\"\n      }\n    },\n    {\n      \"column\": \"Open\",\n      \"properties\": {\n        \"dtype\": \"number\",\n        \"std\": 128.7895900800501,\n        \"min\": 18.011199410722718,\n        \"max\": 630.9910048638284,\n        \"num_unique_values\": 3169,\n        \"samples\": [\n          24.874979459847893,\n          630.9910048638284,\n          113.39683665800791\n        ],\n        \"semantic_type\": \"\",\n        \"description\": \"\"\n      }\n    },\n    {\n      \"column\": \"High\",\n      \"properties\": {\n        \"dtype\": \"number\",\n        \"std\": 130.3534082588388,\n        \"min\": 18.200476928504592,\n        \"max\": 637.8854652597508,\n        \"num_unique_values\": 3169,\n        \"samples\": [\n          24.874979459847893,\n          636.1468190198666,\n          115.87735916081641\n        ],\n        \"semantic_type\": \"\",\n        \"description\": \"\"\n      }\n    },\n    {\n      \"column\": \"Low\",\n      \"properties\": {\n        \"dtype\": \"number\",\n        \"std\": 127.17434104103036,\n        \"min\": 17.483215555895605,\n        \"max\": 626.7044846004596,\n        \"num_unique_values\": 3168,\n        \"samples\": [\n          279.76129840164066,\n          120.88820672773099,\n          30.692756043341237\n        ],\n        \"semantic_type\": \"\",\n        \"description\": \"\"\n      }\n    },\n    {\n      \"column\": \"Close\",\n      \"properties\": {\n        \"dtype\": \"number\",\n        \"std\": 128.78249919068804,\n        \"min\": 17.66253089904785,\n        \"max\": 632.1700439453125,\n        \"num_unique_values\": 3003,\n        \"samples\": [\n          374.8282165527344,\n          496.8648376464844,\n          186.2784423828125\n        ],\n        \"semantic_type\": \"\",\n        \"description\": \"\"\n      }\n    },\n    {\n      \"column\": \"Volume\",\n      \"properties\": {\n        \"dtype\": \"number\",\n        \"std\": 25788028,\n        \"min\": 5467500,\n        \"max\": 573576400,\n        \"num_unique_values\": 3161,\n        \"samples\": [\n          51751900,\n          25961200,\n          24806900\n        ],\n        \"semantic_type\": \"\",\n        \"description\": \"\"\n      }\n    },\n    {\n      \"column\": \"Dividends\",\n      \"properties\": {\n        \"dtype\": \"number\",\n        \"std\": 0.017755509994196214,\n        \"min\": 0.0,\n        \"max\": 0.5,\n        \"num_unique_values\": 2,\n        \"samples\": [\n          0.5,\n          0.0\n        ],\n        \"semantic_type\": \"\",\n        \"description\": \"\"\n      }\n    },\n    {\n      \"column\": \"Stock Splits\",\n      \"properties\": {\n        \"dtype\": \"number\",\n        \"std\": 0.0,\n        \"min\": 0.0,\n        \"max\": 0.0,\n        \"num_unique_values\": 1,\n        \"samples\": [\n          0.0\n        ],\n        \"semantic_type\": \"\",\n        \"description\": \"\"\n      }\n    }\n  ]\n}"
            }
          },
          "metadata": {},
          "execution_count": 6
        }
      ]
    },
    {
      "cell_type": "markdown",
      "source": [
        "## EDA"
      ],
      "metadata": {
        "id": "AWhkN10Xoc3q"
      }
    },
    {
      "cell_type": "code",
      "source": [
        "\n",
        "df = df.reset_index()"
      ],
      "metadata": {
        "id": "Mam8OiW0qC-M"
      },
      "execution_count": 7,
      "outputs": []
    },
    {
      "cell_type": "code",
      "source": [
        "df"
      ],
      "metadata": {
        "colab": {
          "base_uri": "https://localhost:8080/",
          "height": 423
        },
        "id": "XhN6tgQ1upmj",
        "outputId": "38e6789f-eaa6-4ebe-ccdd-b0232438036d"
      },
      "execution_count": 8,
      "outputs": [
        {
          "output_type": "execute_result",
          "data": {
            "text/plain": [
              "                          Date        Open        High         Low  \\\n",
              "0    2012-05-18 00:00:00-04:00   41.889986   44.828761   37.855398   \n",
              "1    2012-05-21 00:00:00-04:00   36.390988   36.520494   32.874422   \n",
              "2    2012-05-22 00:00:00-04:00   32.485908   33.462179   30.822263   \n",
              "3    2012-05-23 00:00:00-04:00   31.250625   32.376325   31.240663   \n",
              "4    2012-05-24 00:00:00-04:00   32.824611   33.083620   31.649101   \n",
              "...                        ...         ...         ...         ...   \n",
              "3164 2024-12-16 00:00:00-05:00  629.979980  631.150024  618.580017   \n",
              "3165 2024-12-17 00:00:00-05:00  626.169983  632.369995  616.539978   \n",
              "3166 2024-12-18 00:00:00-05:00  621.000000  627.359985  596.320007   \n",
              "3167 2024-12-19 00:00:00-05:00  610.390015  611.520020  595.000000   \n",
              "3168 2024-12-20 00:00:00-05:00  590.580017  603.109985  580.000000   \n",
              "\n",
              "           Close     Volume  Dividends  Stock Splits  \n",
              "0      38.084522  573576400        0.0           0.0  \n",
              "1      33.900501  168192700        0.0           0.0  \n",
              "2      30.882034  101786600        0.0           0.0  \n",
              "3      31.878227   73600000        0.0           0.0  \n",
              "4      32.904305   50237200        0.0           0.0  \n",
              "...          ...        ...        ...           ...  \n",
              "3164  624.239990   10885600        0.5           0.0  \n",
              "3165  619.440002   12897800        0.0           0.0  \n",
              "3166  597.190002   17075500        0.0           0.0  \n",
              "3167  595.570007   14958100        0.0           0.0  \n",
              "3168  585.250000   48917700        0.0           0.0  \n",
              "\n",
              "[3169 rows x 8 columns]"
            ],
            "text/html": [
              "\n",
              "  <div id=\"df-f5954499-7b2d-400f-a252-c3785a660c85\" class=\"colab-df-container\">\n",
              "    <div>\n",
              "<style scoped>\n",
              "    .dataframe tbody tr th:only-of-type {\n",
              "        vertical-align: middle;\n",
              "    }\n",
              "\n",
              "    .dataframe tbody tr th {\n",
              "        vertical-align: top;\n",
              "    }\n",
              "\n",
              "    .dataframe thead th {\n",
              "        text-align: right;\n",
              "    }\n",
              "</style>\n",
              "<table border=\"1\" class=\"dataframe\">\n",
              "  <thead>\n",
              "    <tr style=\"text-align: right;\">\n",
              "      <th></th>\n",
              "      <th>Date</th>\n",
              "      <th>Open</th>\n",
              "      <th>High</th>\n",
              "      <th>Low</th>\n",
              "      <th>Close</th>\n",
              "      <th>Volume</th>\n",
              "      <th>Dividends</th>\n",
              "      <th>Stock Splits</th>\n",
              "    </tr>\n",
              "  </thead>\n",
              "  <tbody>\n",
              "    <tr>\n",
              "      <th>0</th>\n",
              "      <td>2012-05-18 00:00:00-04:00</td>\n",
              "      <td>41.889986</td>\n",
              "      <td>44.828761</td>\n",
              "      <td>37.855398</td>\n",
              "      <td>38.084522</td>\n",
              "      <td>573576400</td>\n",
              "      <td>0.0</td>\n",
              "      <td>0.0</td>\n",
              "    </tr>\n",
              "    <tr>\n",
              "      <th>1</th>\n",
              "      <td>2012-05-21 00:00:00-04:00</td>\n",
              "      <td>36.390988</td>\n",
              "      <td>36.520494</td>\n",
              "      <td>32.874422</td>\n",
              "      <td>33.900501</td>\n",
              "      <td>168192700</td>\n",
              "      <td>0.0</td>\n",
              "      <td>0.0</td>\n",
              "    </tr>\n",
              "    <tr>\n",
              "      <th>2</th>\n",
              "      <td>2012-05-22 00:00:00-04:00</td>\n",
              "      <td>32.485908</td>\n",
              "      <td>33.462179</td>\n",
              "      <td>30.822263</td>\n",
              "      <td>30.882034</td>\n",
              "      <td>101786600</td>\n",
              "      <td>0.0</td>\n",
              "      <td>0.0</td>\n",
              "    </tr>\n",
              "    <tr>\n",
              "      <th>3</th>\n",
              "      <td>2012-05-23 00:00:00-04:00</td>\n",
              "      <td>31.250625</td>\n",
              "      <td>32.376325</td>\n",
              "      <td>31.240663</td>\n",
              "      <td>31.878227</td>\n",
              "      <td>73600000</td>\n",
              "      <td>0.0</td>\n",
              "      <td>0.0</td>\n",
              "    </tr>\n",
              "    <tr>\n",
              "      <th>4</th>\n",
              "      <td>2012-05-24 00:00:00-04:00</td>\n",
              "      <td>32.824611</td>\n",
              "      <td>33.083620</td>\n",
              "      <td>31.649101</td>\n",
              "      <td>32.904305</td>\n",
              "      <td>50237200</td>\n",
              "      <td>0.0</td>\n",
              "      <td>0.0</td>\n",
              "    </tr>\n",
              "    <tr>\n",
              "      <th>...</th>\n",
              "      <td>...</td>\n",
              "      <td>...</td>\n",
              "      <td>...</td>\n",
              "      <td>...</td>\n",
              "      <td>...</td>\n",
              "      <td>...</td>\n",
              "      <td>...</td>\n",
              "      <td>...</td>\n",
              "    </tr>\n",
              "    <tr>\n",
              "      <th>3164</th>\n",
              "      <td>2024-12-16 00:00:00-05:00</td>\n",
              "      <td>629.979980</td>\n",
              "      <td>631.150024</td>\n",
              "      <td>618.580017</td>\n",
              "      <td>624.239990</td>\n",
              "      <td>10885600</td>\n",
              "      <td>0.5</td>\n",
              "      <td>0.0</td>\n",
              "    </tr>\n",
              "    <tr>\n",
              "      <th>3165</th>\n",
              "      <td>2024-12-17 00:00:00-05:00</td>\n",
              "      <td>626.169983</td>\n",
              "      <td>632.369995</td>\n",
              "      <td>616.539978</td>\n",
              "      <td>619.440002</td>\n",
              "      <td>12897800</td>\n",
              "      <td>0.0</td>\n",
              "      <td>0.0</td>\n",
              "    </tr>\n",
              "    <tr>\n",
              "      <th>3166</th>\n",
              "      <td>2024-12-18 00:00:00-05:00</td>\n",
              "      <td>621.000000</td>\n",
              "      <td>627.359985</td>\n",
              "      <td>596.320007</td>\n",
              "      <td>597.190002</td>\n",
              "      <td>17075500</td>\n",
              "      <td>0.0</td>\n",
              "      <td>0.0</td>\n",
              "    </tr>\n",
              "    <tr>\n",
              "      <th>3167</th>\n",
              "      <td>2024-12-19 00:00:00-05:00</td>\n",
              "      <td>610.390015</td>\n",
              "      <td>611.520020</td>\n",
              "      <td>595.000000</td>\n",
              "      <td>595.570007</td>\n",
              "      <td>14958100</td>\n",
              "      <td>0.0</td>\n",
              "      <td>0.0</td>\n",
              "    </tr>\n",
              "    <tr>\n",
              "      <th>3168</th>\n",
              "      <td>2024-12-20 00:00:00-05:00</td>\n",
              "      <td>590.580017</td>\n",
              "      <td>603.109985</td>\n",
              "      <td>580.000000</td>\n",
              "      <td>585.250000</td>\n",
              "      <td>48917700</td>\n",
              "      <td>0.0</td>\n",
              "      <td>0.0</td>\n",
              "    </tr>\n",
              "  </tbody>\n",
              "</table>\n",
              "<p>3169 rows × 8 columns</p>\n",
              "</div>\n",
              "    <div class=\"colab-df-buttons\">\n",
              "\n",
              "  <div class=\"colab-df-container\">\n",
              "    <button class=\"colab-df-convert\" onclick=\"convertToInteractive('df-f5954499-7b2d-400f-a252-c3785a660c85')\"\n",
              "            title=\"Convert this dataframe to an interactive table.\"\n",
              "            style=\"display:none;\">\n",
              "\n",
              "  <svg xmlns=\"http://www.w3.org/2000/svg\" height=\"24px\" viewBox=\"0 -960 960 960\">\n",
              "    <path d=\"M120-120v-720h720v720H120Zm60-500h600v-160H180v160Zm220 220h160v-160H400v160Zm0 220h160v-160H400v160ZM180-400h160v-160H180v160Zm440 0h160v-160H620v160ZM180-180h160v-160H180v160Zm440 0h160v-160H620v160Z\"/>\n",
              "  </svg>\n",
              "    </button>\n",
              "\n",
              "  <style>\n",
              "    .colab-df-container {\n",
              "      display:flex;\n",
              "      gap: 12px;\n",
              "    }\n",
              "\n",
              "    .colab-df-convert {\n",
              "      background-color: #E8F0FE;\n",
              "      border: none;\n",
              "      border-radius: 50%;\n",
              "      cursor: pointer;\n",
              "      display: none;\n",
              "      fill: #1967D2;\n",
              "      height: 32px;\n",
              "      padding: 0 0 0 0;\n",
              "      width: 32px;\n",
              "    }\n",
              "\n",
              "    .colab-df-convert:hover {\n",
              "      background-color: #E2EBFA;\n",
              "      box-shadow: 0px 1px 2px rgba(60, 64, 67, 0.3), 0px 1px 3px 1px rgba(60, 64, 67, 0.15);\n",
              "      fill: #174EA6;\n",
              "    }\n",
              "\n",
              "    .colab-df-buttons div {\n",
              "      margin-bottom: 4px;\n",
              "    }\n",
              "\n",
              "    [theme=dark] .colab-df-convert {\n",
              "      background-color: #3B4455;\n",
              "      fill: #D2E3FC;\n",
              "    }\n",
              "\n",
              "    [theme=dark] .colab-df-convert:hover {\n",
              "      background-color: #434B5C;\n",
              "      box-shadow: 0px 1px 3px 1px rgba(0, 0, 0, 0.15);\n",
              "      filter: drop-shadow(0px 1px 2px rgba(0, 0, 0, 0.3));\n",
              "      fill: #FFFFFF;\n",
              "    }\n",
              "  </style>\n",
              "\n",
              "    <script>\n",
              "      const buttonEl =\n",
              "        document.querySelector('#df-f5954499-7b2d-400f-a252-c3785a660c85 button.colab-df-convert');\n",
              "      buttonEl.style.display =\n",
              "        google.colab.kernel.accessAllowed ? 'block' : 'none';\n",
              "\n",
              "      async function convertToInteractive(key) {\n",
              "        const element = document.querySelector('#df-f5954499-7b2d-400f-a252-c3785a660c85');\n",
              "        const dataTable =\n",
              "          await google.colab.kernel.invokeFunction('convertToInteractive',\n",
              "                                                    [key], {});\n",
              "        if (!dataTable) return;\n",
              "\n",
              "        const docLinkHtml = 'Like what you see? Visit the ' +\n",
              "          '<a target=\"_blank\" href=https://colab.research.google.com/notebooks/data_table.ipynb>data table notebook</a>'\n",
              "          + ' to learn more about interactive tables.';\n",
              "        element.innerHTML = '';\n",
              "        dataTable['output_type'] = 'display_data';\n",
              "        await google.colab.output.renderOutput(dataTable, element);\n",
              "        const docLink = document.createElement('div');\n",
              "        docLink.innerHTML = docLinkHtml;\n",
              "        element.appendChild(docLink);\n",
              "      }\n",
              "    </script>\n",
              "  </div>\n",
              "\n",
              "\n",
              "<div id=\"df-c3ad65af-a8bc-4c8c-b6cc-08c477654427\">\n",
              "  <button class=\"colab-df-quickchart\" onclick=\"quickchart('df-c3ad65af-a8bc-4c8c-b6cc-08c477654427')\"\n",
              "            title=\"Suggest charts\"\n",
              "            style=\"display:none;\">\n",
              "\n",
              "<svg xmlns=\"http://www.w3.org/2000/svg\" height=\"24px\"viewBox=\"0 0 24 24\"\n",
              "     width=\"24px\">\n",
              "    <g>\n",
              "        <path d=\"M19 3H5c-1.1 0-2 .9-2 2v14c0 1.1.9 2 2 2h14c1.1 0 2-.9 2-2V5c0-1.1-.9-2-2-2zM9 17H7v-7h2v7zm4 0h-2V7h2v10zm4 0h-2v-4h2v4z\"/>\n",
              "    </g>\n",
              "</svg>\n",
              "  </button>\n",
              "\n",
              "<style>\n",
              "  .colab-df-quickchart {\n",
              "      --bg-color: #E8F0FE;\n",
              "      --fill-color: #1967D2;\n",
              "      --hover-bg-color: #E2EBFA;\n",
              "      --hover-fill-color: #174EA6;\n",
              "      --disabled-fill-color: #AAA;\n",
              "      --disabled-bg-color: #DDD;\n",
              "  }\n",
              "\n",
              "  [theme=dark] .colab-df-quickchart {\n",
              "      --bg-color: #3B4455;\n",
              "      --fill-color: #D2E3FC;\n",
              "      --hover-bg-color: #434B5C;\n",
              "      --hover-fill-color: #FFFFFF;\n",
              "      --disabled-bg-color: #3B4455;\n",
              "      --disabled-fill-color: #666;\n",
              "  }\n",
              "\n",
              "  .colab-df-quickchart {\n",
              "    background-color: var(--bg-color);\n",
              "    border: none;\n",
              "    border-radius: 50%;\n",
              "    cursor: pointer;\n",
              "    display: none;\n",
              "    fill: var(--fill-color);\n",
              "    height: 32px;\n",
              "    padding: 0;\n",
              "    width: 32px;\n",
              "  }\n",
              "\n",
              "  .colab-df-quickchart:hover {\n",
              "    background-color: var(--hover-bg-color);\n",
              "    box-shadow: 0 1px 2px rgba(60, 64, 67, 0.3), 0 1px 3px 1px rgba(60, 64, 67, 0.15);\n",
              "    fill: var(--button-hover-fill-color);\n",
              "  }\n",
              "\n",
              "  .colab-df-quickchart-complete:disabled,\n",
              "  .colab-df-quickchart-complete:disabled:hover {\n",
              "    background-color: var(--disabled-bg-color);\n",
              "    fill: var(--disabled-fill-color);\n",
              "    box-shadow: none;\n",
              "  }\n",
              "\n",
              "  .colab-df-spinner {\n",
              "    border: 2px solid var(--fill-color);\n",
              "    border-color: transparent;\n",
              "    border-bottom-color: var(--fill-color);\n",
              "    animation:\n",
              "      spin 1s steps(1) infinite;\n",
              "  }\n",
              "\n",
              "  @keyframes spin {\n",
              "    0% {\n",
              "      border-color: transparent;\n",
              "      border-bottom-color: var(--fill-color);\n",
              "      border-left-color: var(--fill-color);\n",
              "    }\n",
              "    20% {\n",
              "      border-color: transparent;\n",
              "      border-left-color: var(--fill-color);\n",
              "      border-top-color: var(--fill-color);\n",
              "    }\n",
              "    30% {\n",
              "      border-color: transparent;\n",
              "      border-left-color: var(--fill-color);\n",
              "      border-top-color: var(--fill-color);\n",
              "      border-right-color: var(--fill-color);\n",
              "    }\n",
              "    40% {\n",
              "      border-color: transparent;\n",
              "      border-right-color: var(--fill-color);\n",
              "      border-top-color: var(--fill-color);\n",
              "    }\n",
              "    60% {\n",
              "      border-color: transparent;\n",
              "      border-right-color: var(--fill-color);\n",
              "    }\n",
              "    80% {\n",
              "      border-color: transparent;\n",
              "      border-right-color: var(--fill-color);\n",
              "      border-bottom-color: var(--fill-color);\n",
              "    }\n",
              "    90% {\n",
              "      border-color: transparent;\n",
              "      border-bottom-color: var(--fill-color);\n",
              "    }\n",
              "  }\n",
              "</style>\n",
              "\n",
              "  <script>\n",
              "    async function quickchart(key) {\n",
              "      const quickchartButtonEl =\n",
              "        document.querySelector('#' + key + ' button');\n",
              "      quickchartButtonEl.disabled = true;  // To prevent multiple clicks.\n",
              "      quickchartButtonEl.classList.add('colab-df-spinner');\n",
              "      try {\n",
              "        const charts = await google.colab.kernel.invokeFunction(\n",
              "            'suggestCharts', [key], {});\n",
              "      } catch (error) {\n",
              "        console.error('Error during call to suggestCharts:', error);\n",
              "      }\n",
              "      quickchartButtonEl.classList.remove('colab-df-spinner');\n",
              "      quickchartButtonEl.classList.add('colab-df-quickchart-complete');\n",
              "    }\n",
              "    (() => {\n",
              "      let quickchartButtonEl =\n",
              "        document.querySelector('#df-c3ad65af-a8bc-4c8c-b6cc-08c477654427 button');\n",
              "      quickchartButtonEl.style.display =\n",
              "        google.colab.kernel.accessAllowed ? 'block' : 'none';\n",
              "    })();\n",
              "  </script>\n",
              "</div>\n",
              "\n",
              "  <div id=\"id_59e9e5f8-8673-428e-b7fc-d6b817299654\">\n",
              "    <style>\n",
              "      .colab-df-generate {\n",
              "        background-color: #E8F0FE;\n",
              "        border: none;\n",
              "        border-radius: 50%;\n",
              "        cursor: pointer;\n",
              "        display: none;\n",
              "        fill: #1967D2;\n",
              "        height: 32px;\n",
              "        padding: 0 0 0 0;\n",
              "        width: 32px;\n",
              "      }\n",
              "\n",
              "      .colab-df-generate:hover {\n",
              "        background-color: #E2EBFA;\n",
              "        box-shadow: 0px 1px 2px rgba(60, 64, 67, 0.3), 0px 1px 3px 1px rgba(60, 64, 67, 0.15);\n",
              "        fill: #174EA6;\n",
              "      }\n",
              "\n",
              "      [theme=dark] .colab-df-generate {\n",
              "        background-color: #3B4455;\n",
              "        fill: #D2E3FC;\n",
              "      }\n",
              "\n",
              "      [theme=dark] .colab-df-generate:hover {\n",
              "        background-color: #434B5C;\n",
              "        box-shadow: 0px 1px 3px 1px rgba(0, 0, 0, 0.15);\n",
              "        filter: drop-shadow(0px 1px 2px rgba(0, 0, 0, 0.3));\n",
              "        fill: #FFFFFF;\n",
              "      }\n",
              "    </style>\n",
              "    <button class=\"colab-df-generate\" onclick=\"generateWithVariable('df')\"\n",
              "            title=\"Generate code using this dataframe.\"\n",
              "            style=\"display:none;\">\n",
              "\n",
              "  <svg xmlns=\"http://www.w3.org/2000/svg\" height=\"24px\"viewBox=\"0 0 24 24\"\n",
              "       width=\"24px\">\n",
              "    <path d=\"M7,19H8.4L18.45,9,17,7.55,7,17.6ZM5,21V16.75L18.45,3.32a2,2,0,0,1,2.83,0l1.4,1.43a1.91,1.91,0,0,1,.58,1.4,1.91,1.91,0,0,1-.58,1.4L9.25,21ZM18.45,9,17,7.55Zm-12,3A5.31,5.31,0,0,0,4.9,8.1,5.31,5.31,0,0,0,1,6.5,5.31,5.31,0,0,0,4.9,4.9,5.31,5.31,0,0,0,6.5,1,5.31,5.31,0,0,0,8.1,4.9,5.31,5.31,0,0,0,12,6.5,5.46,5.46,0,0,0,6.5,12Z\"/>\n",
              "  </svg>\n",
              "    </button>\n",
              "    <script>\n",
              "      (() => {\n",
              "      const buttonEl =\n",
              "        document.querySelector('#id_59e9e5f8-8673-428e-b7fc-d6b817299654 button.colab-df-generate');\n",
              "      buttonEl.style.display =\n",
              "        google.colab.kernel.accessAllowed ? 'block' : 'none';\n",
              "\n",
              "      buttonEl.onclick = () => {\n",
              "        google.colab.notebook.generateWithVariable('df');\n",
              "      }\n",
              "      })();\n",
              "    </script>\n",
              "  </div>\n",
              "\n",
              "    </div>\n",
              "  </div>\n"
            ],
            "application/vnd.google.colaboratory.intrinsic+json": {
              "type": "dataframe",
              "variable_name": "df",
              "summary": "{\n  \"name\": \"df\",\n  \"rows\": 3169,\n  \"fields\": [\n    {\n      \"column\": \"Date\",\n      \"properties\": {\n        \"dtype\": \"date\",\n        \"min\": \"2012-05-18 00:00:00-04:00\",\n        \"max\": \"2024-12-20 00:00:00-05:00\",\n        \"num_unique_values\": 3169,\n        \"samples\": [\n          \"2013-05-24 00:00:00-04:00\",\n          \"2024-12-12 00:00:00-05:00\",\n          \"2016-03-29 00:00:00-04:00\"\n        ],\n        \"semantic_type\": \"\",\n        \"description\": \"\"\n      }\n    },\n    {\n      \"column\": \"Open\",\n      \"properties\": {\n        \"dtype\": \"number\",\n        \"std\": 128.7895900800501,\n        \"min\": 18.011199410722718,\n        \"max\": 630.9910048638284,\n        \"num_unique_values\": 3169,\n        \"samples\": [\n          24.874979459847893,\n          630.9910048638284,\n          113.39683665800791\n        ],\n        \"semantic_type\": \"\",\n        \"description\": \"\"\n      }\n    },\n    {\n      \"column\": \"High\",\n      \"properties\": {\n        \"dtype\": \"number\",\n        \"std\": 130.3534082588388,\n        \"min\": 18.200476928504592,\n        \"max\": 637.8854652597508,\n        \"num_unique_values\": 3169,\n        \"samples\": [\n          24.874979459847893,\n          636.1468190198666,\n          115.87735916081641\n        ],\n        \"semantic_type\": \"\",\n        \"description\": \"\"\n      }\n    },\n    {\n      \"column\": \"Low\",\n      \"properties\": {\n        \"dtype\": \"number\",\n        \"std\": 127.17434104103036,\n        \"min\": 17.483215555895605,\n        \"max\": 626.7044846004596,\n        \"num_unique_values\": 3168,\n        \"samples\": [\n          279.76129840164066,\n          120.88820672773099,\n          30.692756043341237\n        ],\n        \"semantic_type\": \"\",\n        \"description\": \"\"\n      }\n    },\n    {\n      \"column\": \"Close\",\n      \"properties\": {\n        \"dtype\": \"number\",\n        \"std\": 128.78249919068804,\n        \"min\": 17.66253089904785,\n        \"max\": 632.1700439453125,\n        \"num_unique_values\": 3003,\n        \"samples\": [\n          374.8282165527344,\n          496.8648376464844,\n          186.2784423828125\n        ],\n        \"semantic_type\": \"\",\n        \"description\": \"\"\n      }\n    },\n    {\n      \"column\": \"Volume\",\n      \"properties\": {\n        \"dtype\": \"number\",\n        \"std\": 25788028,\n        \"min\": 5467500,\n        \"max\": 573576400,\n        \"num_unique_values\": 3161,\n        \"samples\": [\n          51751900,\n          25961200,\n          24806900\n        ],\n        \"semantic_type\": \"\",\n        \"description\": \"\"\n      }\n    },\n    {\n      \"column\": \"Dividends\",\n      \"properties\": {\n        \"dtype\": \"number\",\n        \"std\": 0.017755509994196214,\n        \"min\": 0.0,\n        \"max\": 0.5,\n        \"num_unique_values\": 2,\n        \"samples\": [\n          0.5,\n          0.0\n        ],\n        \"semantic_type\": \"\",\n        \"description\": \"\"\n      }\n    },\n    {\n      \"column\": \"Stock Splits\",\n      \"properties\": {\n        \"dtype\": \"number\",\n        \"std\": 0.0,\n        \"min\": 0.0,\n        \"max\": 0.0,\n        \"num_unique_values\": 1,\n        \"samples\": [\n          0.0\n        ],\n        \"semantic_type\": \"\",\n        \"description\": \"\"\n      }\n    }\n  ]\n}"
            }
          },
          "metadata": {},
          "execution_count": 8
        }
      ]
    },
    {
      "cell_type": "code",
      "source": [
        "\n",
        "fig1 = px.line(df, x='Date', y='Close', title='Facebook Stock Price Over Time')\n",
        "fig1.show()"
      ],
      "metadata": {
        "execution": {
          "iopub.status.busy": "2023-07-30T09:59:23.55432Z",
          "iopub.execute_input": "2023-07-30T09:59:23.554687Z",
          "iopub.status.idle": "2023-07-30T09:59:25.098362Z",
          "shell.execute_reply.started": "2023-07-30T09:59:23.554653Z",
          "shell.execute_reply": "2023-07-30T09:59:25.097486Z"
        },
        "trusted": true,
        "colab": {
          "base_uri": "https://localhost:8080/",
          "height": 542
        },
        "id": "iEjQ374roc3q",
        "outputId": "1964afa7-e5f2-4ee0-9bca-9076aef27adb"
      },
      "outputs": [
        {
          "output_type": "display_data",
          "data": {
            "text/html": [
              "<html>\n",
              "<head><meta charset=\"utf-8\" /></head>\n",
              "<body>\n",
              "    <div>            <script src=\"https://cdnjs.cloudflare.com/ajax/libs/mathjax/2.7.5/MathJax.js?config=TeX-AMS-MML_SVG\"></script><script type=\"text/javascript\">if (window.MathJax && window.MathJax.Hub && window.MathJax.Hub.Config) {window.MathJax.Hub.Config({SVG: {font: \"STIX-Web\"}});}</script>                <script type=\"text/javascript\">window.PlotlyConfig = {MathJaxConfig: 'local'};</script>\n",
              "        <script charset=\"utf-8\" src=\"https://cdn.plot.ly/plotly-2.35.2.min.js\"></script>                <div id=\"1993435a-434b-40a2-9858-87bfeed2d1cc\" class=\"plotly-graph-div\" style=\"height:525px; width:100%;\"></div>            <script type=\"text/javascript\">                                    window.PLOTLYENV=window.PLOTLYENV || {};                                    if (document.getElementById(\"1993435a-434b-40a2-9858-87bfeed2d1cc\")) {                    Plotly.newPlot(                        \"1993435a-434b-40a2-9858-87bfeed2d1cc\",                        [{\"hovertemplate\":\"Date=%{x}\\u003cbr\\u003eClose=%{y}\\u003cextra\\u003e\\u003c\\u002fextra\\u003e\",\"legendgroup\":\"\",\"line\":{\"color\":\"#636efa\",\"dash\":\"solid\"},\"marker\":{\"symbol\":\"circle\"},\"mode\":\"lines\",\"name\":\"\",\"showlegend\":false,\"x\":[\"2012-05-18T00:00:00-04:00\",\"2012-05-21T00:00:00-04:00\",\"2012-05-22T00:00:00-04:00\",\"2012-05-23T00:00:00-04:00\",\"2012-05-24T00:00:00-04:00\",\"2012-05-25T00:00:00-04:00\",\"2012-05-29T00:00:00-04:00\",\"2012-05-30T00:00:00-04:00\",\"2012-05-31T00:00:00-04:00\",\"2012-06-01T00:00:00-04:00\",\"2012-06-04T00:00:00-04:00\",\"2012-06-05T00:00:00-04:00\",\"2012-06-06T00:00:00-04:00\",\"2012-06-07T00:00:00-04:00\",\"2012-06-08T00:00:00-04:00\",\"2012-06-11T00:00:00-04:00\",\"2012-06-12T00:00:00-04:00\",\"2012-06-13T00:00:00-04:00\",\"2012-06-14T00:00:00-04:00\",\"2012-06-15T00:00:00-04:00\",\"2012-06-18T00:00:00-04:00\",\"2012-06-19T00:00:00-04:00\",\"2012-06-20T00:00:00-04:00\",\"2012-06-21T00:00:00-04:00\",\"2012-06-22T00:00:00-04:00\",\"2012-06-25T00:00:00-04:00\",\"2012-06-26T00:00:00-04:00\",\"2012-06-27T00:00:00-04:00\",\"2012-06-28T00:00:00-04:00\",\"2012-06-29T00:00:00-04:00\",\"2012-07-02T00:00:00-04:00\",\"2012-07-03T00:00:00-04:00\",\"2012-07-05T00:00:00-04:00\",\"2012-07-06T00:00:00-04:00\",\"2012-07-09T00:00:00-04:00\",\"2012-07-10T00:00:00-04:00\",\"2012-07-11T00:00:00-04:00\",\"2012-07-12T00:00:00-04:00\",\"2012-07-13T00:00:00-04:00\",\"2012-07-16T00:00:00-04:00\",\"2012-07-17T00:00:00-04:00\",\"2012-07-18T00:00:00-04:00\",\"2012-07-19T00:00:00-04:00\",\"2012-07-20T00:00:00-04:00\",\"2012-07-23T00:00:00-04:00\",\"2012-07-24T00:00:00-04:00\",\"2012-07-25T00:00:00-04:00\",\"2012-07-26T00:00:00-04:00\",\"2012-07-27T00:00:00-04:00\",\"2012-07-30T00:00:00-04:00\",\"2012-07-31T00:00:00-04:00\",\"2012-08-01T00:00:00-04:00\",\"2012-08-02T00:00:00-04:00\",\"2012-08-03T00:00:00-04:00\",\"2012-08-06T00:00:00-04:00\",\"2012-08-07T00:00:00-04:00\",\"2012-08-08T00:00:00-04:00\",\"2012-08-09T00:00:00-04:00\",\"2012-08-10T00:00:00-04:00\",\"2012-08-13T00:00:00-04:00\",\"2012-08-14T00:00:00-04:00\",\"2012-08-15T00:00:00-04:00\",\"2012-08-16T00:00:00-04:00\",\"2012-08-17T00:00:00-04:00\",\"2012-08-20T00:00:00-04:00\",\"2012-08-21T00:00:00-04:00\",\"2012-08-22T00:00:00-04:00\",\"2012-08-23T00:00:00-04:00\",\"2012-08-24T00:00:00-04:00\",\"2012-08-27T00:00:00-04:00\",\"2012-08-28T00:00:00-04:00\",\"2012-08-29T00:00:00-04:00\",\"2012-08-30T00:00:00-04:00\",\"2012-08-31T00:00:00-04:00\",\"2012-09-04T00:00:00-04:00\",\"2012-09-05T00:00:00-04:00\",\"2012-09-06T00:00:00-04:00\",\"2012-09-07T00:00:00-04:00\",\"2012-09-10T00:00:00-04:00\",\"2012-09-11T00:00:00-04:00\",\"2012-09-12T00:00:00-04:00\",\"2012-09-13T00:00:00-04:00\",\"2012-09-14T00:00:00-04:00\",\"2012-09-17T00:00:00-04:00\",\"2012-09-18T00:00:00-04:00\",\"2012-09-19T00:00:00-04:00\",\"2012-09-20T00:00:00-04:00\",\"2012-09-21T00:00:00-04:00\",\"2012-09-24T00:00:00-04:00\",\"2012-09-25T00:00:00-04:00\",\"2012-09-26T00:00:00-04:00\",\"2012-09-27T00:00:00-04:00\",\"2012-09-28T00:00:00-04:00\",\"2012-10-01T00:00:00-04:00\",\"2012-10-02T00:00:00-04:00\",\"2012-10-03T00:00:00-04:00\",\"2012-10-04T00:00:00-04:00\",\"2012-10-05T00:00:00-04:00\",\"2012-10-08T00:00:00-04:00\",\"2012-10-09T00:00:00-04:00\",\"2012-10-10T00:00:00-04:00\",\"2012-10-11T00:00:00-04:00\",\"2012-10-12T00:00:00-04:00\",\"2012-10-15T00:00:00-04:00\",\"2012-10-16T00:00:00-04:00\",\"2012-10-17T00:00:00-04:00\",\"2012-10-18T00:00:00-04:00\",\"2012-10-19T00:00:00-04:00\",\"2012-10-22T00:00:00-04:00\",\"2012-10-23T00:00:00-04:00\",\"2012-10-24T00:00:00-04:00\",\"2012-10-25T00:00:00-04:00\",\"2012-10-26T00:00:00-04:00\",\"2012-10-31T00:00:00-04:00\",\"2012-11-01T00:00:00-04:00\",\"2012-11-02T00:00:00-04:00\",\"2012-11-05T00:00:00-05:00\",\"2012-11-06T00:00:00-05:00\",\"2012-11-07T00:00:00-05:00\",\"2012-11-08T00:00:00-05:00\",\"2012-11-09T00:00:00-05:00\",\"2012-11-12T00:00:00-05:00\",\"2012-11-13T00:00:00-05:00\",\"2012-11-14T00:00:00-05:00\",\"2012-11-15T00:00:00-05:00\",\"2012-11-16T00:00:00-05:00\",\"2012-11-19T00:00:00-05:00\",\"2012-11-20T00:00:00-05:00\",\"2012-11-21T00:00:00-05:00\",\"2012-11-23T00:00:00-05:00\",\"2012-11-26T00:00:00-05:00\",\"2012-11-27T00:00:00-05:00\",\"2012-11-28T00:00:00-05:00\",\"2012-11-29T00:00:00-05:00\",\"2012-11-30T00:00:00-05:00\",\"2012-12-03T00:00:00-05:00\",\"2012-12-04T00:00:00-05:00\",\"2012-12-05T00:00:00-05:00\",\"2012-12-06T00:00:00-05:00\",\"2012-12-07T00:00:00-05:00\",\"2012-12-10T00:00:00-05:00\",\"2012-12-11T00:00:00-05:00\",\"2012-12-12T00:00:00-05:00\",\"2012-12-13T00:00:00-05:00\",\"2012-12-14T00:00:00-05:00\",\"2012-12-17T00:00:00-05:00\",\"2012-12-18T00:00:00-05:00\",\"2012-12-19T00:00:00-05:00\",\"2012-12-20T00:00:00-05:00\",\"2012-12-21T00:00:00-05:00\",\"2012-12-24T00:00:00-05:00\",\"2012-12-26T00:00:00-05:00\",\"2012-12-27T00:00:00-05:00\",\"2012-12-28T00:00:00-05:00\",\"2012-12-31T00:00:00-05:00\",\"2013-01-02T00:00:00-05:00\",\"2013-01-03T00:00:00-05:00\",\"2013-01-04T00:00:00-05:00\",\"2013-01-07T00:00:00-05:00\",\"2013-01-08T00:00:00-05:00\",\"2013-01-09T00:00:00-05:00\",\"2013-01-10T00:00:00-05:00\",\"2013-01-11T00:00:00-05:00\",\"2013-01-14T00:00:00-05:00\",\"2013-01-15T00:00:00-05:00\",\"2013-01-16T00:00:00-05:00\",\"2013-01-17T00:00:00-05:00\",\"2013-01-18T00:00:00-05:00\",\"2013-01-22T00:00:00-05:00\",\"2013-01-23T00:00:00-05:00\",\"2013-01-24T00:00:00-05:00\",\"2013-01-25T00:00:00-05:00\",\"2013-01-28T00:00:00-05:00\",\"2013-01-29T00:00:00-05:00\",\"2013-01-30T00:00:00-05:00\",\"2013-01-31T00:00:00-05:00\",\"2013-02-01T00:00:00-05:00\",\"2013-02-04T00:00:00-05:00\",\"2013-02-05T00:00:00-05:00\",\"2013-02-06T00:00:00-05:00\",\"2013-02-07T00:00:00-05:00\",\"2013-02-08T00:00:00-05:00\",\"2013-02-11T00:00:00-05:00\",\"2013-02-12T00:00:00-05:00\",\"2013-02-13T00:00:00-05:00\",\"2013-02-14T00:00:00-05:00\",\"2013-02-15T00:00:00-05:00\",\"2013-02-19T00:00:00-05:00\",\"2013-02-20T00:00:00-05:00\",\"2013-02-21T00:00:00-05:00\",\"2013-02-22T00:00:00-05:00\",\"2013-02-25T00:00:00-05:00\",\"2013-02-26T00:00:00-05:00\",\"2013-02-27T00:00:00-05:00\",\"2013-02-28T00:00:00-05:00\",\"2013-03-01T00:00:00-05:00\",\"2013-03-04T00:00:00-05:00\",\"2013-03-05T00:00:00-05:00\",\"2013-03-06T00:00:00-05:00\",\"2013-03-07T00:00:00-05:00\",\"2013-03-08T00:00:00-05:00\",\"2013-03-11T00:00:00-04:00\",\"2013-03-12T00:00:00-04:00\",\"2013-03-13T00:00:00-04:00\",\"2013-03-14T00:00:00-04:00\",\"2013-03-15T00:00:00-04:00\",\"2013-03-18T00:00:00-04:00\",\"2013-03-19T00:00:00-04:00\",\"2013-03-20T00:00:00-04:00\",\"2013-03-21T00:00:00-04:00\",\"2013-03-22T00:00:00-04:00\",\"2013-03-25T00:00:00-04:00\",\"2013-03-26T00:00:00-04:00\",\"2013-03-27T00:00:00-04:00\",\"2013-03-28T00:00:00-04:00\",\"2013-04-01T00:00:00-04:00\",\"2013-04-02T00:00:00-04:00\",\"2013-04-03T00:00:00-04:00\",\"2013-04-04T00:00:00-04:00\",\"2013-04-05T00:00:00-04:00\",\"2013-04-08T00:00:00-04:00\",\"2013-04-09T00:00:00-04:00\",\"2013-04-10T00:00:00-04:00\",\"2013-04-11T00:00:00-04:00\",\"2013-04-12T00:00:00-04:00\",\"2013-04-15T00:00:00-04:00\",\"2013-04-16T00:00:00-04:00\",\"2013-04-17T00:00:00-04:00\",\"2013-04-18T00:00:00-04:00\",\"2013-04-19T00:00:00-04:00\",\"2013-04-22T00:00:00-04:00\",\"2013-04-23T00:00:00-04:00\",\"2013-04-24T00:00:00-04:00\",\"2013-04-25T00:00:00-04:00\",\"2013-04-26T00:00:00-04:00\",\"2013-04-29T00:00:00-04:00\",\"2013-04-30T00:00:00-04:00\",\"2013-05-01T00:00:00-04:00\",\"2013-05-02T00:00:00-04:00\",\"2013-05-03T00:00:00-04:00\",\"2013-05-06T00:00:00-04:00\",\"2013-05-07T00:00:00-04:00\",\"2013-05-08T00:00:00-04:00\",\"2013-05-09T00:00:00-04:00\",\"2013-05-10T00:00:00-04:00\",\"2013-05-13T00:00:00-04:00\",\"2013-05-14T00:00:00-04:00\",\"2013-05-15T00:00:00-04:00\",\"2013-05-16T00:00:00-04:00\",\"2013-05-17T00:00:00-04:00\",\"2013-05-20T00:00:00-04:00\",\"2013-05-21T00:00:00-04:00\",\"2013-05-22T00:00:00-04:00\",\"2013-05-23T00:00:00-04:00\",\"2013-05-24T00:00:00-04:00\",\"2013-05-28T00:00:00-04:00\",\"2013-05-29T00:00:00-04:00\",\"2013-05-30T00:00:00-04:00\",\"2013-05-31T00:00:00-04:00\",\"2013-06-03T00:00:00-04:00\",\"2013-06-04T00:00:00-04:00\",\"2013-06-05T00:00:00-04:00\",\"2013-06-06T00:00:00-04:00\",\"2013-06-07T00:00:00-04:00\",\"2013-06-10T00:00:00-04:00\",\"2013-06-11T00:00:00-04:00\",\"2013-06-12T00:00:00-04:00\",\"2013-06-13T00:00:00-04:00\",\"2013-06-14T00:00:00-04:00\",\"2013-06-17T00:00:00-04:00\",\"2013-06-18T00:00:00-04:00\",\"2013-06-19T00:00:00-04:00\",\"2013-06-20T00:00:00-04:00\",\"2013-06-21T00:00:00-04:00\",\"2013-06-24T00:00:00-04:00\",\"2013-06-25T00:00:00-04:00\",\"2013-06-26T00:00:00-04:00\",\"2013-06-27T00:00:00-04:00\",\"2013-06-28T00:00:00-04:00\",\"2013-07-01T00:00:00-04:00\",\"2013-07-02T00:00:00-04:00\",\"2013-07-03T00:00:00-04:00\",\"2013-07-05T00:00:00-04:00\",\"2013-07-08T00:00:00-04:00\",\"2013-07-09T00:00:00-04:00\",\"2013-07-10T00:00:00-04:00\",\"2013-07-11T00:00:00-04:00\",\"2013-07-12T00:00:00-04:00\",\"2013-07-15T00:00:00-04:00\",\"2013-07-16T00:00:00-04:00\",\"2013-07-17T00:00:00-04:00\",\"2013-07-18T00:00:00-04:00\",\"2013-07-19T00:00:00-04:00\",\"2013-07-22T00:00:00-04:00\",\"2013-07-23T00:00:00-04:00\",\"2013-07-24T00:00:00-04:00\",\"2013-07-25T00:00:00-04:00\",\"2013-07-26T00:00:00-04:00\",\"2013-07-29T00:00:00-04:00\",\"2013-07-30T00:00:00-04:00\",\"2013-07-31T00:00:00-04:00\",\"2013-08-01T00:00:00-04:00\",\"2013-08-02T00:00:00-04:00\",\"2013-08-05T00:00:00-04:00\",\"2013-08-06T00:00:00-04:00\",\"2013-08-07T00:00:00-04:00\",\"2013-08-08T00:00:00-04:00\",\"2013-08-09T00:00:00-04:00\",\"2013-08-12T00:00:00-04:00\",\"2013-08-13T00:00:00-04:00\",\"2013-08-14T00:00:00-04:00\",\"2013-08-15T00:00:00-04:00\",\"2013-08-16T00:00:00-04:00\",\"2013-08-19T00:00:00-04:00\",\"2013-08-20T00:00:00-04:00\",\"2013-08-21T00:00:00-04:00\",\"2013-08-22T00:00:00-04:00\",\"2013-08-23T00:00:00-04:00\",\"2013-08-26T00:00:00-04:00\",\"2013-08-27T00:00:00-04:00\",\"2013-08-28T00:00:00-04:00\",\"2013-08-29T00:00:00-04:00\",\"2013-08-30T00:00:00-04:00\",\"2013-09-03T00:00:00-04:00\",\"2013-09-04T00:00:00-04:00\",\"2013-09-05T00:00:00-04:00\",\"2013-09-06T00:00:00-04:00\",\"2013-09-09T00:00:00-04:00\",\"2013-09-10T00:00:00-04:00\",\"2013-09-11T00:00:00-04:00\",\"2013-09-12T00:00:00-04:00\",\"2013-09-13T00:00:00-04:00\",\"2013-09-16T00:00:00-04:00\",\"2013-09-17T00:00:00-04:00\",\"2013-09-18T00:00:00-04:00\",\"2013-09-19T00:00:00-04:00\",\"2013-09-20T00:00:00-04:00\",\"2013-09-23T00:00:00-04:00\",\"2013-09-24T00:00:00-04:00\",\"2013-09-25T00:00:00-04:00\",\"2013-09-26T00:00:00-04:00\",\"2013-09-27T00:00:00-04:00\",\"2013-09-30T00:00:00-04:00\",\"2013-10-01T00:00:00-04:00\",\"2013-10-02T00:00:00-04:00\",\"2013-10-03T00:00:00-04:00\",\"2013-10-04T00:00:00-04:00\",\"2013-10-07T00:00:00-04:00\",\"2013-10-08T00:00:00-04:00\",\"2013-10-09T00:00:00-04:00\",\"2013-10-10T00:00:00-04:00\",\"2013-10-11T00:00:00-04:00\",\"2013-10-14T00:00:00-04:00\",\"2013-10-15T00:00:00-04:00\",\"2013-10-16T00:00:00-04:00\",\"2013-10-17T00:00:00-04:00\",\"2013-10-18T00:00:00-04:00\",\"2013-10-21T00:00:00-04:00\",\"2013-10-22T00:00:00-04:00\",\"2013-10-23T00:00:00-04:00\",\"2013-10-24T00:00:00-04:00\",\"2013-10-25T00:00:00-04:00\",\"2013-10-28T00:00:00-04:00\",\"2013-10-29T00:00:00-04:00\",\"2013-10-30T00:00:00-04:00\",\"2013-10-31T00:00:00-04:00\",\"2013-11-01T00:00:00-04:00\",\"2013-11-04T00:00:00-05:00\",\"2013-11-05T00:00:00-05:00\",\"2013-11-06T00:00:00-05:00\",\"2013-11-07T00:00:00-05:00\",\"2013-11-08T00:00:00-05:00\",\"2013-11-11T00:00:00-05:00\",\"2013-11-12T00:00:00-05:00\",\"2013-11-13T00:00:00-05:00\",\"2013-11-14T00:00:00-05:00\",\"2013-11-15T00:00:00-05:00\",\"2013-11-18T00:00:00-05:00\",\"2013-11-19T00:00:00-05:00\",\"2013-11-20T00:00:00-05:00\",\"2013-11-21T00:00:00-05:00\",\"2013-11-22T00:00:00-05:00\",\"2013-11-25T00:00:00-05:00\",\"2013-11-26T00:00:00-05:00\",\"2013-11-27T00:00:00-05:00\",\"2013-11-29T00:00:00-05:00\",\"2013-12-02T00:00:00-05:00\",\"2013-12-03T00:00:00-05:00\",\"2013-12-04T00:00:00-05:00\",\"2013-12-05T00:00:00-05:00\",\"2013-12-06T00:00:00-05:00\",\"2013-12-09T00:00:00-05:00\",\"2013-12-10T00:00:00-05:00\",\"2013-12-11T00:00:00-05:00\",\"2013-12-12T00:00:00-05:00\",\"2013-12-13T00:00:00-05:00\",\"2013-12-16T00:00:00-05:00\",\"2013-12-17T00:00:00-05:00\",\"2013-12-18T00:00:00-05:00\",\"2013-12-19T00:00:00-05:00\",\"2013-12-20T00:00:00-05:00\",\"2013-12-23T00:00:00-05:00\",\"2013-12-24T00:00:00-05:00\",\"2013-12-26T00:00:00-05:00\",\"2013-12-27T00:00:00-05:00\",\"2013-12-30T00:00:00-05:00\",\"2013-12-31T00:00:00-05:00\",\"2014-01-02T00:00:00-05:00\",\"2014-01-03T00:00:00-05:00\",\"2014-01-06T00:00:00-05:00\",\"2014-01-07T00:00:00-05:00\",\"2014-01-08T00:00:00-05:00\",\"2014-01-09T00:00:00-05:00\",\"2014-01-10T00:00:00-05:00\",\"2014-01-13T00:00:00-05:00\",\"2014-01-14T00:00:00-05:00\",\"2014-01-15T00:00:00-05:00\",\"2014-01-16T00:00:00-05:00\",\"2014-01-17T00:00:00-05:00\",\"2014-01-21T00:00:00-05:00\",\"2014-01-22T00:00:00-05:00\",\"2014-01-23T00:00:00-05:00\",\"2014-01-24T00:00:00-05:00\",\"2014-01-27T00:00:00-05:00\",\"2014-01-28T00:00:00-05:00\",\"2014-01-29T00:00:00-05:00\",\"2014-01-30T00:00:00-05:00\",\"2014-01-31T00:00:00-05:00\",\"2014-02-03T00:00:00-05:00\",\"2014-02-04T00:00:00-05:00\",\"2014-02-05T00:00:00-05:00\",\"2014-02-06T00:00:00-05:00\",\"2014-02-07T00:00:00-05:00\",\"2014-02-10T00:00:00-05:00\",\"2014-02-11T00:00:00-05:00\",\"2014-02-12T00:00:00-05:00\",\"2014-02-13T00:00:00-05:00\",\"2014-02-14T00:00:00-05:00\",\"2014-02-18T00:00:00-05:00\",\"2014-02-19T00:00:00-05:00\",\"2014-02-20T00:00:00-05:00\",\"2014-02-21T00:00:00-05:00\",\"2014-02-24T00:00:00-05:00\",\"2014-02-25T00:00:00-05:00\",\"2014-02-26T00:00:00-05:00\",\"2014-02-27T00:00:00-05:00\",\"2014-02-28T00:00:00-05:00\",\"2014-03-03T00:00:00-05:00\",\"2014-03-04T00:00:00-05:00\",\"2014-03-05T00:00:00-05:00\",\"2014-03-06T00:00:00-05:00\",\"2014-03-07T00:00:00-05:00\",\"2014-03-10T00:00:00-04:00\",\"2014-03-11T00:00:00-04:00\",\"2014-03-12T00:00:00-04:00\",\"2014-03-13T00:00:00-04:00\",\"2014-03-14T00:00:00-04:00\",\"2014-03-17T00:00:00-04:00\",\"2014-03-18T00:00:00-04:00\",\"2014-03-19T00:00:00-04:00\",\"2014-03-20T00:00:00-04:00\",\"2014-03-21T00:00:00-04:00\",\"2014-03-24T00:00:00-04:00\",\"2014-03-25T00:00:00-04:00\",\"2014-03-26T00:00:00-04:00\",\"2014-03-27T00:00:00-04:00\",\"2014-03-28T00:00:00-04:00\",\"2014-03-31T00:00:00-04:00\",\"2014-04-01T00:00:00-04:00\",\"2014-04-02T00:00:00-04:00\",\"2014-04-03T00:00:00-04:00\",\"2014-04-04T00:00:00-04:00\",\"2014-04-07T00:00:00-04:00\",\"2014-04-08T00:00:00-04:00\",\"2014-04-09T00:00:00-04:00\",\"2014-04-10T00:00:00-04:00\",\"2014-04-11T00:00:00-04:00\",\"2014-04-14T00:00:00-04:00\",\"2014-04-15T00:00:00-04:00\",\"2014-04-16T00:00:00-04:00\",\"2014-04-17T00:00:00-04:00\",\"2014-04-21T00:00:00-04:00\",\"2014-04-22T00:00:00-04:00\",\"2014-04-23T00:00:00-04:00\",\"2014-04-24T00:00:00-04:00\",\"2014-04-25T00:00:00-04:00\",\"2014-04-28T00:00:00-04:00\",\"2014-04-29T00:00:00-04:00\",\"2014-04-30T00:00:00-04:00\",\"2014-05-01T00:00:00-04:00\",\"2014-05-02T00:00:00-04:00\",\"2014-05-05T00:00:00-04:00\",\"2014-05-06T00:00:00-04:00\",\"2014-05-07T00:00:00-04:00\",\"2014-05-08T00:00:00-04:00\",\"2014-05-09T00:00:00-04:00\",\"2014-05-12T00:00:00-04:00\",\"2014-05-13T00:00:00-04:00\",\"2014-05-14T00:00:00-04:00\",\"2014-05-15T00:00:00-04:00\",\"2014-05-16T00:00:00-04:00\",\"2014-05-19T00:00:00-04:00\",\"2014-05-20T00:00:00-04:00\",\"2014-05-21T00:00:00-04:00\",\"2014-05-22T00:00:00-04:00\",\"2014-05-23T00:00:00-04:00\",\"2014-05-27T00:00:00-04:00\",\"2014-05-28T00:00:00-04:00\",\"2014-05-29T00:00:00-04:00\",\"2014-05-30T00:00:00-04:00\",\"2014-06-02T00:00:00-04:00\",\"2014-06-03T00:00:00-04:00\",\"2014-06-04T00:00:00-04:00\",\"2014-06-05T00:00:00-04:00\",\"2014-06-06T00:00:00-04:00\",\"2014-06-09T00:00:00-04:00\",\"2014-06-10T00:00:00-04:00\",\"2014-06-11T00:00:00-04:00\",\"2014-06-12T00:00:00-04:00\",\"2014-06-13T00:00:00-04:00\",\"2014-06-16T00:00:00-04:00\",\"2014-06-17T00:00:00-04:00\",\"2014-06-18T00:00:00-04:00\",\"2014-06-19T00:00:00-04:00\",\"2014-06-20T00:00:00-04:00\",\"2014-06-23T00:00:00-04:00\",\"2014-06-24T00:00:00-04:00\",\"2014-06-25T00:00:00-04:00\",\"2014-06-26T00:00:00-04:00\",\"2014-06-27T00:00:00-04:00\",\"2014-06-30T00:00:00-04:00\",\"2014-07-01T00:00:00-04:00\",\"2014-07-02T00:00:00-04:00\",\"2014-07-03T00:00:00-04:00\",\"2014-07-07T00:00:00-04:00\",\"2014-07-08T00:00:00-04:00\",\"2014-07-09T00:00:00-04:00\",\"2014-07-10T00:00:00-04:00\",\"2014-07-11T00:00:00-04:00\",\"2014-07-14T00:00:00-04:00\",\"2014-07-15T00:00:00-04:00\",\"2014-07-16T00:00:00-04:00\",\"2014-07-17T00:00:00-04:00\",\"2014-07-18T00:00:00-04:00\",\"2014-07-21T00:00:00-04:00\",\"2014-07-22T00:00:00-04:00\",\"2014-07-23T00:00:00-04:00\",\"2014-07-24T00:00:00-04:00\",\"2014-07-25T00:00:00-04:00\",\"2014-07-28T00:00:00-04:00\",\"2014-07-29T00:00:00-04:00\",\"2014-07-30T00:00:00-04:00\",\"2014-07-31T00:00:00-04:00\",\"2014-08-01T00:00:00-04:00\",\"2014-08-04T00:00:00-04:00\",\"2014-08-05T00:00:00-04:00\",\"2014-08-06T00:00:00-04:00\",\"2014-08-07T00:00:00-04:00\",\"2014-08-08T00:00:00-04:00\",\"2014-08-11T00:00:00-04:00\",\"2014-08-12T00:00:00-04:00\",\"2014-08-13T00:00:00-04:00\",\"2014-08-14T00:00:00-04:00\",\"2014-08-15T00:00:00-04:00\",\"2014-08-18T00:00:00-04:00\",\"2014-08-19T00:00:00-04:00\",\"2014-08-20T00:00:00-04:00\",\"2014-08-21T00:00:00-04:00\",\"2014-08-22T00:00:00-04:00\",\"2014-08-25T00:00:00-04:00\",\"2014-08-26T00:00:00-04:00\",\"2014-08-27T00:00:00-04:00\",\"2014-08-28T00:00:00-04:00\",\"2014-08-29T00:00:00-04:00\",\"2014-09-02T00:00:00-04:00\",\"2014-09-03T00:00:00-04:00\",\"2014-09-04T00:00:00-04:00\",\"2014-09-05T00:00:00-04:00\",\"2014-09-08T00:00:00-04:00\",\"2014-09-09T00:00:00-04:00\",\"2014-09-10T00:00:00-04:00\",\"2014-09-11T00:00:00-04:00\",\"2014-09-12T00:00:00-04:00\",\"2014-09-15T00:00:00-04:00\",\"2014-09-16T00:00:00-04:00\",\"2014-09-17T00:00:00-04:00\",\"2014-09-18T00:00:00-04:00\",\"2014-09-19T00:00:00-04:00\",\"2014-09-22T00:00:00-04:00\",\"2014-09-23T00:00:00-04:00\",\"2014-09-24T00:00:00-04:00\",\"2014-09-25T00:00:00-04:00\",\"2014-09-26T00:00:00-04:00\",\"2014-09-29T00:00:00-04:00\",\"2014-09-30T00:00:00-04:00\",\"2014-10-01T00:00:00-04:00\",\"2014-10-02T00:00:00-04:00\",\"2014-10-03T00:00:00-04:00\",\"2014-10-06T00:00:00-04:00\",\"2014-10-07T00:00:00-04:00\",\"2014-10-08T00:00:00-04:00\",\"2014-10-09T00:00:00-04:00\",\"2014-10-10T00:00:00-04:00\",\"2014-10-13T00:00:00-04:00\",\"2014-10-14T00:00:00-04:00\",\"2014-10-15T00:00:00-04:00\",\"2014-10-16T00:00:00-04:00\",\"2014-10-17T00:00:00-04:00\",\"2014-10-20T00:00:00-04:00\",\"2014-10-21T00:00:00-04:00\",\"2014-10-22T00:00:00-04:00\",\"2014-10-23T00:00:00-04:00\",\"2014-10-24T00:00:00-04:00\",\"2014-10-27T00:00:00-04:00\",\"2014-10-28T00:00:00-04:00\",\"2014-10-29T00:00:00-04:00\",\"2014-10-30T00:00:00-04:00\",\"2014-10-31T00:00:00-04:00\",\"2014-11-03T00:00:00-05:00\",\"2014-11-04T00:00:00-05:00\",\"2014-11-05T00:00:00-05:00\",\"2014-11-06T00:00:00-05:00\",\"2014-11-07T00:00:00-05:00\",\"2014-11-10T00:00:00-05:00\",\"2014-11-11T00:00:00-05:00\",\"2014-11-12T00:00:00-05:00\",\"2014-11-13T00:00:00-05:00\",\"2014-11-14T00:00:00-05:00\",\"2014-11-17T00:00:00-05:00\",\"2014-11-18T00:00:00-05:00\",\"2014-11-19T00:00:00-05:00\",\"2014-11-20T00:00:00-05:00\",\"2014-11-21T00:00:00-05:00\",\"2014-11-24T00:00:00-05:00\",\"2014-11-25T00:00:00-05:00\",\"2014-11-26T00:00:00-05:00\",\"2014-11-28T00:00:00-05:00\",\"2014-12-01T00:00:00-05:00\",\"2014-12-02T00:00:00-05:00\",\"2014-12-03T00:00:00-05:00\",\"2014-12-04T00:00:00-05:00\",\"2014-12-05T00:00:00-05:00\",\"2014-12-08T00:00:00-05:00\",\"2014-12-09T00:00:00-05:00\",\"2014-12-10T00:00:00-05:00\",\"2014-12-11T00:00:00-05:00\",\"2014-12-12T00:00:00-05:00\",\"2014-12-15T00:00:00-05:00\",\"2014-12-16T00:00:00-05:00\",\"2014-12-17T00:00:00-05:00\",\"2014-12-18T00:00:00-05:00\",\"2014-12-19T00:00:00-05:00\",\"2014-12-22T00:00:00-05:00\",\"2014-12-23T00:00:00-05:00\",\"2014-12-24T00:00:00-05:00\",\"2014-12-26T00:00:00-05:00\",\"2014-12-29T00:00:00-05:00\",\"2014-12-30T00:00:00-05:00\",\"2014-12-31T00:00:00-05:00\",\"2015-01-02T00:00:00-05:00\",\"2015-01-05T00:00:00-05:00\",\"2015-01-06T00:00:00-05:00\",\"2015-01-07T00:00:00-05:00\",\"2015-01-08T00:00:00-05:00\",\"2015-01-09T00:00:00-05:00\",\"2015-01-12T00:00:00-05:00\",\"2015-01-13T00:00:00-05:00\",\"2015-01-14T00:00:00-05:00\",\"2015-01-15T00:00:00-05:00\",\"2015-01-16T00:00:00-05:00\",\"2015-01-20T00:00:00-05:00\",\"2015-01-21T00:00:00-05:00\",\"2015-01-22T00:00:00-05:00\",\"2015-01-23T00:00:00-05:00\",\"2015-01-26T00:00:00-05:00\",\"2015-01-27T00:00:00-05:00\",\"2015-01-28T00:00:00-05:00\",\"2015-01-29T00:00:00-05:00\",\"2015-01-30T00:00:00-05:00\",\"2015-02-02T00:00:00-05:00\",\"2015-02-03T00:00:00-05:00\",\"2015-02-04T00:00:00-05:00\",\"2015-02-05T00:00:00-05:00\",\"2015-02-06T00:00:00-05:00\",\"2015-02-09T00:00:00-05:00\",\"2015-02-10T00:00:00-05:00\",\"2015-02-11T00:00:00-05:00\",\"2015-02-12T00:00:00-05:00\",\"2015-02-13T00:00:00-05:00\",\"2015-02-17T00:00:00-05:00\",\"2015-02-18T00:00:00-05:00\",\"2015-02-19T00:00:00-05:00\",\"2015-02-20T00:00:00-05:00\",\"2015-02-23T00:00:00-05:00\",\"2015-02-24T00:00:00-05:00\",\"2015-02-25T00:00:00-05:00\",\"2015-02-26T00:00:00-05:00\",\"2015-02-27T00:00:00-05:00\",\"2015-03-02T00:00:00-05:00\",\"2015-03-03T00:00:00-05:00\",\"2015-03-04T00:00:00-05:00\",\"2015-03-05T00:00:00-05:00\",\"2015-03-06T00:00:00-05:00\",\"2015-03-09T00:00:00-04:00\",\"2015-03-10T00:00:00-04:00\",\"2015-03-11T00:00:00-04:00\",\"2015-03-12T00:00:00-04:00\",\"2015-03-13T00:00:00-04:00\",\"2015-03-16T00:00:00-04:00\",\"2015-03-17T00:00:00-04:00\",\"2015-03-18T00:00:00-04:00\",\"2015-03-19T00:00:00-04:00\",\"2015-03-20T00:00:00-04:00\",\"2015-03-23T00:00:00-04:00\",\"2015-03-24T00:00:00-04:00\",\"2015-03-25T00:00:00-04:00\",\"2015-03-26T00:00:00-04:00\",\"2015-03-27T00:00:00-04:00\",\"2015-03-30T00:00:00-04:00\",\"2015-03-31T00:00:00-04:00\",\"2015-04-01T00:00:00-04:00\",\"2015-04-02T00:00:00-04:00\",\"2015-04-06T00:00:00-04:00\",\"2015-04-07T00:00:00-04:00\",\"2015-04-08T00:00:00-04:00\",\"2015-04-09T00:00:00-04:00\",\"2015-04-10T00:00:00-04:00\",\"2015-04-13T00:00:00-04:00\",\"2015-04-14T00:00:00-04:00\",\"2015-04-15T00:00:00-04:00\",\"2015-04-16T00:00:00-04:00\",\"2015-04-17T00:00:00-04:00\",\"2015-04-20T00:00:00-04:00\",\"2015-04-21T00:00:00-04:00\",\"2015-04-22T00:00:00-04:00\",\"2015-04-23T00:00:00-04:00\",\"2015-04-24T00:00:00-04:00\",\"2015-04-27T00:00:00-04:00\",\"2015-04-28T00:00:00-04:00\",\"2015-04-29T00:00:00-04:00\",\"2015-04-30T00:00:00-04:00\",\"2015-05-01T00:00:00-04:00\",\"2015-05-04T00:00:00-04:00\",\"2015-05-05T00:00:00-04:00\",\"2015-05-06T00:00:00-04:00\",\"2015-05-07T00:00:00-04:00\",\"2015-05-08T00:00:00-04:00\",\"2015-05-11T00:00:00-04:00\",\"2015-05-12T00:00:00-04:00\",\"2015-05-13T00:00:00-04:00\",\"2015-05-14T00:00:00-04:00\",\"2015-05-15T00:00:00-04:00\",\"2015-05-18T00:00:00-04:00\",\"2015-05-19T00:00:00-04:00\",\"2015-05-20T00:00:00-04:00\",\"2015-05-21T00:00:00-04:00\",\"2015-05-22T00:00:00-04:00\",\"2015-05-26T00:00:00-04:00\",\"2015-05-27T00:00:00-04:00\",\"2015-05-28T00:00:00-04:00\",\"2015-05-29T00:00:00-04:00\",\"2015-06-01T00:00:00-04:00\",\"2015-06-02T00:00:00-04:00\",\"2015-06-03T00:00:00-04:00\",\"2015-06-04T00:00:00-04:00\",\"2015-06-05T00:00:00-04:00\",\"2015-06-08T00:00:00-04:00\",\"2015-06-09T00:00:00-04:00\",\"2015-06-10T00:00:00-04:00\",\"2015-06-11T00:00:00-04:00\",\"2015-06-12T00:00:00-04:00\",\"2015-06-15T00:00:00-04:00\",\"2015-06-16T00:00:00-04:00\",\"2015-06-17T00:00:00-04:00\",\"2015-06-18T00:00:00-04:00\",\"2015-06-19T00:00:00-04:00\",\"2015-06-22T00:00:00-04:00\",\"2015-06-23T00:00:00-04:00\",\"2015-06-24T00:00:00-04:00\",\"2015-06-25T00:00:00-04:00\",\"2015-06-26T00:00:00-04:00\",\"2015-06-29T00:00:00-04:00\",\"2015-06-30T00:00:00-04:00\",\"2015-07-01T00:00:00-04:00\",\"2015-07-02T00:00:00-04:00\",\"2015-07-06T00:00:00-04:00\",\"2015-07-07T00:00:00-04:00\",\"2015-07-08T00:00:00-04:00\",\"2015-07-09T00:00:00-04:00\",\"2015-07-10T00:00:00-04:00\",\"2015-07-13T00:00:00-04:00\",\"2015-07-14T00:00:00-04:00\",\"2015-07-15T00:00:00-04:00\",\"2015-07-16T00:00:00-04:00\",\"2015-07-17T00:00:00-04:00\",\"2015-07-20T00:00:00-04:00\",\"2015-07-21T00:00:00-04:00\",\"2015-07-22T00:00:00-04:00\",\"2015-07-23T00:00:00-04:00\",\"2015-07-24T00:00:00-04:00\",\"2015-07-27T00:00:00-04:00\",\"2015-07-28T00:00:00-04:00\",\"2015-07-29T00:00:00-04:00\",\"2015-07-30T00:00:00-04:00\",\"2015-07-31T00:00:00-04:00\",\"2015-08-03T00:00:00-04:00\",\"2015-08-04T00:00:00-04:00\",\"2015-08-05T00:00:00-04:00\",\"2015-08-06T00:00:00-04:00\",\"2015-08-07T00:00:00-04:00\",\"2015-08-10T00:00:00-04:00\",\"2015-08-11T00:00:00-04:00\",\"2015-08-12T00:00:00-04:00\",\"2015-08-13T00:00:00-04:00\",\"2015-08-14T00:00:00-04:00\",\"2015-08-17T00:00:00-04:00\",\"2015-08-18T00:00:00-04:00\",\"2015-08-19T00:00:00-04:00\",\"2015-08-20T00:00:00-04:00\",\"2015-08-21T00:00:00-04:00\",\"2015-08-24T00:00:00-04:00\",\"2015-08-25T00:00:00-04:00\",\"2015-08-26T00:00:00-04:00\",\"2015-08-27T00:00:00-04:00\",\"2015-08-28T00:00:00-04:00\",\"2015-08-31T00:00:00-04:00\",\"2015-09-01T00:00:00-04:00\",\"2015-09-02T00:00:00-04:00\",\"2015-09-03T00:00:00-04:00\",\"2015-09-04T00:00:00-04:00\",\"2015-09-08T00:00:00-04:00\",\"2015-09-09T00:00:00-04:00\",\"2015-09-10T00:00:00-04:00\",\"2015-09-11T00:00:00-04:00\",\"2015-09-14T00:00:00-04:00\",\"2015-09-15T00:00:00-04:00\",\"2015-09-16T00:00:00-04:00\",\"2015-09-17T00:00:00-04:00\",\"2015-09-18T00:00:00-04:00\",\"2015-09-21T00:00:00-04:00\",\"2015-09-22T00:00:00-04:00\",\"2015-09-23T00:00:00-04:00\",\"2015-09-24T00:00:00-04:00\",\"2015-09-25T00:00:00-04:00\",\"2015-09-28T00:00:00-04:00\",\"2015-09-29T00:00:00-04:00\",\"2015-09-30T00:00:00-04:00\",\"2015-10-01T00:00:00-04:00\",\"2015-10-02T00:00:00-04:00\",\"2015-10-05T00:00:00-04:00\",\"2015-10-06T00:00:00-04:00\",\"2015-10-07T00:00:00-04:00\",\"2015-10-08T00:00:00-04:00\",\"2015-10-09T00:00:00-04:00\",\"2015-10-12T00:00:00-04:00\",\"2015-10-13T00:00:00-04:00\",\"2015-10-14T00:00:00-04:00\",\"2015-10-15T00:00:00-04:00\",\"2015-10-16T00:00:00-04:00\",\"2015-10-19T00:00:00-04:00\",\"2015-10-20T00:00:00-04:00\",\"2015-10-21T00:00:00-04:00\",\"2015-10-22T00:00:00-04:00\",\"2015-10-23T00:00:00-04:00\",\"2015-10-26T00:00:00-04:00\",\"2015-10-27T00:00:00-04:00\",\"2015-10-28T00:00:00-04:00\",\"2015-10-29T00:00:00-04:00\",\"2015-10-30T00:00:00-04:00\",\"2015-11-02T00:00:00-05:00\",\"2015-11-03T00:00:00-05:00\",\"2015-11-04T00:00:00-05:00\",\"2015-11-05T00:00:00-05:00\",\"2015-11-06T00:00:00-05:00\",\"2015-11-09T00:00:00-05:00\",\"2015-11-10T00:00:00-05:00\",\"2015-11-11T00:00:00-05:00\",\"2015-11-12T00:00:00-05:00\",\"2015-11-13T00:00:00-05:00\",\"2015-11-16T00:00:00-05:00\",\"2015-11-17T00:00:00-05:00\",\"2015-11-18T00:00:00-05:00\",\"2015-11-19T00:00:00-05:00\",\"2015-11-20T00:00:00-05:00\",\"2015-11-23T00:00:00-05:00\",\"2015-11-24T00:00:00-05:00\",\"2015-11-25T00:00:00-05:00\",\"2015-11-27T00:00:00-05:00\",\"2015-11-30T00:00:00-05:00\",\"2015-12-01T00:00:00-05:00\",\"2015-12-02T00:00:00-05:00\",\"2015-12-03T00:00:00-05:00\",\"2015-12-04T00:00:00-05:00\",\"2015-12-07T00:00:00-05:00\",\"2015-12-08T00:00:00-05:00\",\"2015-12-09T00:00:00-05:00\",\"2015-12-10T00:00:00-05:00\",\"2015-12-11T00:00:00-05:00\",\"2015-12-14T00:00:00-05:00\",\"2015-12-15T00:00:00-05:00\",\"2015-12-16T00:00:00-05:00\",\"2015-12-17T00:00:00-05:00\",\"2015-12-18T00:00:00-05:00\",\"2015-12-21T00:00:00-05:00\",\"2015-12-22T00:00:00-05:00\",\"2015-12-23T00:00:00-05:00\",\"2015-12-24T00:00:00-05:00\",\"2015-12-28T00:00:00-05:00\",\"2015-12-29T00:00:00-05:00\",\"2015-12-30T00:00:00-05:00\",\"2015-12-31T00:00:00-05:00\",\"2016-01-04T00:00:00-05:00\",\"2016-01-05T00:00:00-05:00\",\"2016-01-06T00:00:00-05:00\",\"2016-01-07T00:00:00-05:00\",\"2016-01-08T00:00:00-05:00\",\"2016-01-11T00:00:00-05:00\",\"2016-01-12T00:00:00-05:00\",\"2016-01-13T00:00:00-05:00\",\"2016-01-14T00:00:00-05:00\",\"2016-01-15T00:00:00-05:00\",\"2016-01-19T00:00:00-05:00\",\"2016-01-20T00:00:00-05:00\",\"2016-01-21T00:00:00-05:00\",\"2016-01-22T00:00:00-05:00\",\"2016-01-25T00:00:00-05:00\",\"2016-01-26T00:00:00-05:00\",\"2016-01-27T00:00:00-05:00\",\"2016-01-28T00:00:00-05:00\",\"2016-01-29T00:00:00-05:00\",\"2016-02-01T00:00:00-05:00\",\"2016-02-02T00:00:00-05:00\",\"2016-02-03T00:00:00-05:00\",\"2016-02-04T00:00:00-05:00\",\"2016-02-05T00:00:00-05:00\",\"2016-02-08T00:00:00-05:00\",\"2016-02-09T00:00:00-05:00\",\"2016-02-10T00:00:00-05:00\",\"2016-02-11T00:00:00-05:00\",\"2016-02-12T00:00:00-05:00\",\"2016-02-16T00:00:00-05:00\",\"2016-02-17T00:00:00-05:00\",\"2016-02-18T00:00:00-05:00\",\"2016-02-19T00:00:00-05:00\",\"2016-02-22T00:00:00-05:00\",\"2016-02-23T00:00:00-05:00\",\"2016-02-24T00:00:00-05:00\",\"2016-02-25T00:00:00-05:00\",\"2016-02-26T00:00:00-05:00\",\"2016-02-29T00:00:00-05:00\",\"2016-03-01T00:00:00-05:00\",\"2016-03-02T00:00:00-05:00\",\"2016-03-03T00:00:00-05:00\",\"2016-03-04T00:00:00-05:00\",\"2016-03-07T00:00:00-05:00\",\"2016-03-08T00:00:00-05:00\",\"2016-03-09T00:00:00-05:00\",\"2016-03-10T00:00:00-05:00\",\"2016-03-11T00:00:00-05:00\",\"2016-03-14T00:00:00-04:00\",\"2016-03-15T00:00:00-04:00\",\"2016-03-16T00:00:00-04:00\",\"2016-03-17T00:00:00-04:00\",\"2016-03-18T00:00:00-04:00\",\"2016-03-21T00:00:00-04:00\",\"2016-03-22T00:00:00-04:00\",\"2016-03-23T00:00:00-04:00\",\"2016-03-24T00:00:00-04:00\",\"2016-03-28T00:00:00-04:00\",\"2016-03-29T00:00:00-04:00\",\"2016-03-30T00:00:00-04:00\",\"2016-03-31T00:00:00-04:00\",\"2016-04-01T00:00:00-04:00\",\"2016-04-04T00:00:00-04:00\",\"2016-04-05T00:00:00-04:00\",\"2016-04-06T00:00:00-04:00\",\"2016-04-07T00:00:00-04:00\",\"2016-04-08T00:00:00-04:00\",\"2016-04-11T00:00:00-04:00\",\"2016-04-12T00:00:00-04:00\",\"2016-04-13T00:00:00-04:00\",\"2016-04-14T00:00:00-04:00\",\"2016-04-15T00:00:00-04:00\",\"2016-04-18T00:00:00-04:00\",\"2016-04-19T00:00:00-04:00\",\"2016-04-20T00:00:00-04:00\",\"2016-04-21T00:00:00-04:00\",\"2016-04-22T00:00:00-04:00\",\"2016-04-25T00:00:00-04:00\",\"2016-04-26T00:00:00-04:00\",\"2016-04-27T00:00:00-04:00\",\"2016-04-28T00:00:00-04:00\",\"2016-04-29T00:00:00-04:00\",\"2016-05-02T00:00:00-04:00\",\"2016-05-03T00:00:00-04:00\",\"2016-05-04T00:00:00-04:00\",\"2016-05-05T00:00:00-04:00\",\"2016-05-06T00:00:00-04:00\",\"2016-05-09T00:00:00-04:00\",\"2016-05-10T00:00:00-04:00\",\"2016-05-11T00:00:00-04:00\",\"2016-05-12T00:00:00-04:00\",\"2016-05-13T00:00:00-04:00\",\"2016-05-16T00:00:00-04:00\",\"2016-05-17T00:00:00-04:00\",\"2016-05-18T00:00:00-04:00\",\"2016-05-19T00:00:00-04:00\",\"2016-05-20T00:00:00-04:00\",\"2016-05-23T00:00:00-04:00\",\"2016-05-24T00:00:00-04:00\",\"2016-05-25T00:00:00-04:00\",\"2016-05-26T00:00:00-04:00\",\"2016-05-27T00:00:00-04:00\",\"2016-05-31T00:00:00-04:00\",\"2016-06-01T00:00:00-04:00\",\"2016-06-02T00:00:00-04:00\",\"2016-06-03T00:00:00-04:00\",\"2016-06-06T00:00:00-04:00\",\"2016-06-07T00:00:00-04:00\",\"2016-06-08T00:00:00-04:00\",\"2016-06-09T00:00:00-04:00\",\"2016-06-10T00:00:00-04:00\",\"2016-06-13T00:00:00-04:00\",\"2016-06-14T00:00:00-04:00\",\"2016-06-15T00:00:00-04:00\",\"2016-06-16T00:00:00-04:00\",\"2016-06-17T00:00:00-04:00\",\"2016-06-20T00:00:00-04:00\",\"2016-06-21T00:00:00-04:00\",\"2016-06-22T00:00:00-04:00\",\"2016-06-23T00:00:00-04:00\",\"2016-06-24T00:00:00-04:00\",\"2016-06-27T00:00:00-04:00\",\"2016-06-28T00:00:00-04:00\",\"2016-06-29T00:00:00-04:00\",\"2016-06-30T00:00:00-04:00\",\"2016-07-01T00:00:00-04:00\",\"2016-07-05T00:00:00-04:00\",\"2016-07-06T00:00:00-04:00\",\"2016-07-07T00:00:00-04:00\",\"2016-07-08T00:00:00-04:00\",\"2016-07-11T00:00:00-04:00\",\"2016-07-12T00:00:00-04:00\",\"2016-07-13T00:00:00-04:00\",\"2016-07-14T00:00:00-04:00\",\"2016-07-15T00:00:00-04:00\",\"2016-07-18T00:00:00-04:00\",\"2016-07-19T00:00:00-04:00\",\"2016-07-20T00:00:00-04:00\",\"2016-07-21T00:00:00-04:00\",\"2016-07-22T00:00:00-04:00\",\"2016-07-25T00:00:00-04:00\",\"2016-07-26T00:00:00-04:00\",\"2016-07-27T00:00:00-04:00\",\"2016-07-28T00:00:00-04:00\",\"2016-07-29T00:00:00-04:00\",\"2016-08-01T00:00:00-04:00\",\"2016-08-02T00:00:00-04:00\",\"2016-08-03T00:00:00-04:00\",\"2016-08-04T00:00:00-04:00\",\"2016-08-05T00:00:00-04:00\",\"2016-08-08T00:00:00-04:00\",\"2016-08-09T00:00:00-04:00\",\"2016-08-10T00:00:00-04:00\",\"2016-08-11T00:00:00-04:00\",\"2016-08-12T00:00:00-04:00\",\"2016-08-15T00:00:00-04:00\",\"2016-08-16T00:00:00-04:00\",\"2016-08-17T00:00:00-04:00\",\"2016-08-18T00:00:00-04:00\",\"2016-08-19T00:00:00-04:00\",\"2016-08-22T00:00:00-04:00\",\"2016-08-23T00:00:00-04:00\",\"2016-08-24T00:00:00-04:00\",\"2016-08-25T00:00:00-04:00\",\"2016-08-26T00:00:00-04:00\",\"2016-08-29T00:00:00-04:00\",\"2016-08-30T00:00:00-04:00\",\"2016-08-31T00:00:00-04:00\",\"2016-09-01T00:00:00-04:00\",\"2016-09-02T00:00:00-04:00\",\"2016-09-06T00:00:00-04:00\",\"2016-09-07T00:00:00-04:00\",\"2016-09-08T00:00:00-04:00\",\"2016-09-09T00:00:00-04:00\",\"2016-09-12T00:00:00-04:00\",\"2016-09-13T00:00:00-04:00\",\"2016-09-14T00:00:00-04:00\",\"2016-09-15T00:00:00-04:00\",\"2016-09-16T00:00:00-04:00\",\"2016-09-19T00:00:00-04:00\",\"2016-09-20T00:00:00-04:00\",\"2016-09-21T00:00:00-04:00\",\"2016-09-22T00:00:00-04:00\",\"2016-09-23T00:00:00-04:00\",\"2016-09-26T00:00:00-04:00\",\"2016-09-27T00:00:00-04:00\",\"2016-09-28T00:00:00-04:00\",\"2016-09-29T00:00:00-04:00\",\"2016-09-30T00:00:00-04:00\",\"2016-10-03T00:00:00-04:00\",\"2016-10-04T00:00:00-04:00\",\"2016-10-05T00:00:00-04:00\",\"2016-10-06T00:00:00-04:00\",\"2016-10-07T00:00:00-04:00\",\"2016-10-10T00:00:00-04:00\",\"2016-10-11T00:00:00-04:00\",\"2016-10-12T00:00:00-04:00\",\"2016-10-13T00:00:00-04:00\",\"2016-10-14T00:00:00-04:00\",\"2016-10-17T00:00:00-04:00\",\"2016-10-18T00:00:00-04:00\",\"2016-10-19T00:00:00-04:00\",\"2016-10-20T00:00:00-04:00\",\"2016-10-21T00:00:00-04:00\",\"2016-10-24T00:00:00-04:00\",\"2016-10-25T00:00:00-04:00\",\"2016-10-26T00:00:00-04:00\",\"2016-10-27T00:00:00-04:00\",\"2016-10-28T00:00:00-04:00\",\"2016-10-31T00:00:00-04:00\",\"2016-11-01T00:00:00-04:00\",\"2016-11-02T00:00:00-04:00\",\"2016-11-03T00:00:00-04:00\",\"2016-11-04T00:00:00-04:00\",\"2016-11-07T00:00:00-05:00\",\"2016-11-08T00:00:00-05:00\",\"2016-11-09T00:00:00-05:00\",\"2016-11-10T00:00:00-05:00\",\"2016-11-11T00:00:00-05:00\",\"2016-11-14T00:00:00-05:00\",\"2016-11-15T00:00:00-05:00\",\"2016-11-16T00:00:00-05:00\",\"2016-11-17T00:00:00-05:00\",\"2016-11-18T00:00:00-05:00\",\"2016-11-21T00:00:00-05:00\",\"2016-11-22T00:00:00-05:00\",\"2016-11-23T00:00:00-05:00\",\"2016-11-25T00:00:00-05:00\",\"2016-11-28T00:00:00-05:00\",\"2016-11-29T00:00:00-05:00\",\"2016-11-30T00:00:00-05:00\",\"2016-12-01T00:00:00-05:00\",\"2016-12-02T00:00:00-05:00\",\"2016-12-05T00:00:00-05:00\",\"2016-12-06T00:00:00-05:00\",\"2016-12-07T00:00:00-05:00\",\"2016-12-08T00:00:00-05:00\",\"2016-12-09T00:00:00-05:00\",\"2016-12-12T00:00:00-05:00\",\"2016-12-13T00:00:00-05:00\",\"2016-12-14T00:00:00-05:00\",\"2016-12-15T00:00:00-05:00\",\"2016-12-16T00:00:00-05:00\",\"2016-12-19T00:00:00-05:00\",\"2016-12-20T00:00:00-05:00\",\"2016-12-21T00:00:00-05:00\",\"2016-12-22T00:00:00-05:00\",\"2016-12-23T00:00:00-05:00\",\"2016-12-27T00:00:00-05:00\",\"2016-12-28T00:00:00-05:00\",\"2016-12-29T00:00:00-05:00\",\"2016-12-30T00:00:00-05:00\",\"2017-01-03T00:00:00-05:00\",\"2017-01-04T00:00:00-05:00\",\"2017-01-05T00:00:00-05:00\",\"2017-01-06T00:00:00-05:00\",\"2017-01-09T00:00:00-05:00\",\"2017-01-10T00:00:00-05:00\",\"2017-01-11T00:00:00-05:00\",\"2017-01-12T00:00:00-05:00\",\"2017-01-13T00:00:00-05:00\",\"2017-01-17T00:00:00-05:00\",\"2017-01-18T00:00:00-05:00\",\"2017-01-19T00:00:00-05:00\",\"2017-01-20T00:00:00-05:00\",\"2017-01-23T00:00:00-05:00\",\"2017-01-24T00:00:00-05:00\",\"2017-01-25T00:00:00-05:00\",\"2017-01-26T00:00:00-05:00\",\"2017-01-27T00:00:00-05:00\",\"2017-01-30T00:00:00-05:00\",\"2017-01-31T00:00:00-05:00\",\"2017-02-01T00:00:00-05:00\",\"2017-02-02T00:00:00-05:00\",\"2017-02-03T00:00:00-05:00\",\"2017-02-06T00:00:00-05:00\",\"2017-02-07T00:00:00-05:00\",\"2017-02-08T00:00:00-05:00\",\"2017-02-09T00:00:00-05:00\",\"2017-02-10T00:00:00-05:00\",\"2017-02-13T00:00:00-05:00\",\"2017-02-14T00:00:00-05:00\",\"2017-02-15T00:00:00-05:00\",\"2017-02-16T00:00:00-05:00\",\"2017-02-17T00:00:00-05:00\",\"2017-02-21T00:00:00-05:00\",\"2017-02-22T00:00:00-05:00\",\"2017-02-23T00:00:00-05:00\",\"2017-02-24T00:00:00-05:00\",\"2017-02-27T00:00:00-05:00\",\"2017-02-28T00:00:00-05:00\",\"2017-03-01T00:00:00-05:00\",\"2017-03-02T00:00:00-05:00\",\"2017-03-03T00:00:00-05:00\",\"2017-03-06T00:00:00-05:00\",\"2017-03-07T00:00:00-05:00\",\"2017-03-08T00:00:00-05:00\",\"2017-03-09T00:00:00-05:00\",\"2017-03-10T00:00:00-05:00\",\"2017-03-13T00:00:00-04:00\",\"2017-03-14T00:00:00-04:00\",\"2017-03-15T00:00:00-04:00\",\"2017-03-16T00:00:00-04:00\",\"2017-03-17T00:00:00-04:00\",\"2017-03-20T00:00:00-04:00\",\"2017-03-21T00:00:00-04:00\",\"2017-03-22T00:00:00-04:00\",\"2017-03-23T00:00:00-04:00\",\"2017-03-24T00:00:00-04:00\",\"2017-03-27T00:00:00-04:00\",\"2017-03-28T00:00:00-04:00\",\"2017-03-29T00:00:00-04:00\",\"2017-03-30T00:00:00-04:00\",\"2017-03-31T00:00:00-04:00\",\"2017-04-03T00:00:00-04:00\",\"2017-04-04T00:00:00-04:00\",\"2017-04-05T00:00:00-04:00\",\"2017-04-06T00:00:00-04:00\",\"2017-04-07T00:00:00-04:00\",\"2017-04-10T00:00:00-04:00\",\"2017-04-11T00:00:00-04:00\",\"2017-04-12T00:00:00-04:00\",\"2017-04-13T00:00:00-04:00\",\"2017-04-17T00:00:00-04:00\",\"2017-04-18T00:00:00-04:00\",\"2017-04-19T00:00:00-04:00\",\"2017-04-20T00:00:00-04:00\",\"2017-04-21T00:00:00-04:00\",\"2017-04-24T00:00:00-04:00\",\"2017-04-25T00:00:00-04:00\",\"2017-04-26T00:00:00-04:00\",\"2017-04-27T00:00:00-04:00\",\"2017-04-28T00:00:00-04:00\",\"2017-05-01T00:00:00-04:00\",\"2017-05-02T00:00:00-04:00\",\"2017-05-03T00:00:00-04:00\",\"2017-05-04T00:00:00-04:00\",\"2017-05-05T00:00:00-04:00\",\"2017-05-08T00:00:00-04:00\",\"2017-05-09T00:00:00-04:00\",\"2017-05-10T00:00:00-04:00\",\"2017-05-11T00:00:00-04:00\",\"2017-05-12T00:00:00-04:00\",\"2017-05-15T00:00:00-04:00\",\"2017-05-16T00:00:00-04:00\",\"2017-05-17T00:00:00-04:00\",\"2017-05-18T00:00:00-04:00\",\"2017-05-19T00:00:00-04:00\",\"2017-05-22T00:00:00-04:00\",\"2017-05-23T00:00:00-04:00\",\"2017-05-24T00:00:00-04:00\",\"2017-05-25T00:00:00-04:00\",\"2017-05-26T00:00:00-04:00\",\"2017-05-30T00:00:00-04:00\",\"2017-05-31T00:00:00-04:00\",\"2017-06-01T00:00:00-04:00\",\"2017-06-02T00:00:00-04:00\",\"2017-06-05T00:00:00-04:00\",\"2017-06-06T00:00:00-04:00\",\"2017-06-07T00:00:00-04:00\",\"2017-06-08T00:00:00-04:00\",\"2017-06-09T00:00:00-04:00\",\"2017-06-12T00:00:00-04:00\",\"2017-06-13T00:00:00-04:00\",\"2017-06-14T00:00:00-04:00\",\"2017-06-15T00:00:00-04:00\",\"2017-06-16T00:00:00-04:00\",\"2017-06-19T00:00:00-04:00\",\"2017-06-20T00:00:00-04:00\",\"2017-06-21T00:00:00-04:00\",\"2017-06-22T00:00:00-04:00\",\"2017-06-23T00:00:00-04:00\",\"2017-06-26T00:00:00-04:00\",\"2017-06-27T00:00:00-04:00\",\"2017-06-28T00:00:00-04:00\",\"2017-06-29T00:00:00-04:00\",\"2017-06-30T00:00:00-04:00\",\"2017-07-03T00:00:00-04:00\",\"2017-07-05T00:00:00-04:00\",\"2017-07-06T00:00:00-04:00\",\"2017-07-07T00:00:00-04:00\",\"2017-07-10T00:00:00-04:00\",\"2017-07-11T00:00:00-04:00\",\"2017-07-12T00:00:00-04:00\",\"2017-07-13T00:00:00-04:00\",\"2017-07-14T00:00:00-04:00\",\"2017-07-17T00:00:00-04:00\",\"2017-07-18T00:00:00-04:00\",\"2017-07-19T00:00:00-04:00\",\"2017-07-20T00:00:00-04:00\",\"2017-07-21T00:00:00-04:00\",\"2017-07-24T00:00:00-04:00\",\"2017-07-25T00:00:00-04:00\",\"2017-07-26T00:00:00-04:00\",\"2017-07-27T00:00:00-04:00\",\"2017-07-28T00:00:00-04:00\",\"2017-07-31T00:00:00-04:00\",\"2017-08-01T00:00:00-04:00\",\"2017-08-02T00:00:00-04:00\",\"2017-08-03T00:00:00-04:00\",\"2017-08-04T00:00:00-04:00\",\"2017-08-07T00:00:00-04:00\",\"2017-08-08T00:00:00-04:00\",\"2017-08-09T00:00:00-04:00\",\"2017-08-10T00:00:00-04:00\",\"2017-08-11T00:00:00-04:00\",\"2017-08-14T00:00:00-04:00\",\"2017-08-15T00:00:00-04:00\",\"2017-08-16T00:00:00-04:00\",\"2017-08-17T00:00:00-04:00\",\"2017-08-18T00:00:00-04:00\",\"2017-08-21T00:00:00-04:00\",\"2017-08-22T00:00:00-04:00\",\"2017-08-23T00:00:00-04:00\",\"2017-08-24T00:00:00-04:00\",\"2017-08-25T00:00:00-04:00\",\"2017-08-28T00:00:00-04:00\",\"2017-08-29T00:00:00-04:00\",\"2017-08-30T00:00:00-04:00\",\"2017-08-31T00:00:00-04:00\",\"2017-09-01T00:00:00-04:00\",\"2017-09-05T00:00:00-04:00\",\"2017-09-06T00:00:00-04:00\",\"2017-09-07T00:00:00-04:00\",\"2017-09-08T00:00:00-04:00\",\"2017-09-11T00:00:00-04:00\",\"2017-09-12T00:00:00-04:00\",\"2017-09-13T00:00:00-04:00\",\"2017-09-14T00:00:00-04:00\",\"2017-09-15T00:00:00-04:00\",\"2017-09-18T00:00:00-04:00\",\"2017-09-19T00:00:00-04:00\",\"2017-09-20T00:00:00-04:00\",\"2017-09-21T00:00:00-04:00\",\"2017-09-22T00:00:00-04:00\",\"2017-09-25T00:00:00-04:00\",\"2017-09-26T00:00:00-04:00\",\"2017-09-27T00:00:00-04:00\",\"2017-09-28T00:00:00-04:00\",\"2017-09-29T00:00:00-04:00\",\"2017-10-02T00:00:00-04:00\",\"2017-10-03T00:00:00-04:00\",\"2017-10-04T00:00:00-04:00\",\"2017-10-05T00:00:00-04:00\",\"2017-10-06T00:00:00-04:00\",\"2017-10-09T00:00:00-04:00\",\"2017-10-10T00:00:00-04:00\",\"2017-10-11T00:00:00-04:00\",\"2017-10-12T00:00:00-04:00\",\"2017-10-13T00:00:00-04:00\",\"2017-10-16T00:00:00-04:00\",\"2017-10-17T00:00:00-04:00\",\"2017-10-18T00:00:00-04:00\",\"2017-10-19T00:00:00-04:00\",\"2017-10-20T00:00:00-04:00\",\"2017-10-23T00:00:00-04:00\",\"2017-10-24T00:00:00-04:00\",\"2017-10-25T00:00:00-04:00\",\"2017-10-26T00:00:00-04:00\",\"2017-10-27T00:00:00-04:00\",\"2017-10-30T00:00:00-04:00\",\"2017-10-31T00:00:00-04:00\",\"2017-11-01T00:00:00-04:00\",\"2017-11-02T00:00:00-04:00\",\"2017-11-03T00:00:00-04:00\",\"2017-11-06T00:00:00-05:00\",\"2017-11-07T00:00:00-05:00\",\"2017-11-08T00:00:00-05:00\",\"2017-11-09T00:00:00-05:00\",\"2017-11-10T00:00:00-05:00\",\"2017-11-13T00:00:00-05:00\",\"2017-11-14T00:00:00-05:00\",\"2017-11-15T00:00:00-05:00\",\"2017-11-16T00:00:00-05:00\",\"2017-11-17T00:00:00-05:00\",\"2017-11-20T00:00:00-05:00\",\"2017-11-21T00:00:00-05:00\",\"2017-11-22T00:00:00-05:00\",\"2017-11-24T00:00:00-05:00\",\"2017-11-27T00:00:00-05:00\",\"2017-11-28T00:00:00-05:00\",\"2017-11-29T00:00:00-05:00\",\"2017-11-30T00:00:00-05:00\",\"2017-12-01T00:00:00-05:00\",\"2017-12-04T00:00:00-05:00\",\"2017-12-05T00:00:00-05:00\",\"2017-12-06T00:00:00-05:00\",\"2017-12-07T00:00:00-05:00\",\"2017-12-08T00:00:00-05:00\",\"2017-12-11T00:00:00-05:00\",\"2017-12-12T00:00:00-05:00\",\"2017-12-13T00:00:00-05:00\",\"2017-12-14T00:00:00-05:00\",\"2017-12-15T00:00:00-05:00\",\"2017-12-18T00:00:00-05:00\",\"2017-12-19T00:00:00-05:00\",\"2017-12-20T00:00:00-05:00\",\"2017-12-21T00:00:00-05:00\",\"2017-12-22T00:00:00-05:00\",\"2017-12-26T00:00:00-05:00\",\"2017-12-27T00:00:00-05:00\",\"2017-12-28T00:00:00-05:00\",\"2017-12-29T00:00:00-05:00\",\"2018-01-02T00:00:00-05:00\",\"2018-01-03T00:00:00-05:00\",\"2018-01-04T00:00:00-05:00\",\"2018-01-05T00:00:00-05:00\",\"2018-01-08T00:00:00-05:00\",\"2018-01-09T00:00:00-05:00\",\"2018-01-10T00:00:00-05:00\",\"2018-01-11T00:00:00-05:00\",\"2018-01-12T00:00:00-05:00\",\"2018-01-16T00:00:00-05:00\",\"2018-01-17T00:00:00-05:00\",\"2018-01-18T00:00:00-05:00\",\"2018-01-19T00:00:00-05:00\",\"2018-01-22T00:00:00-05:00\",\"2018-01-23T00:00:00-05:00\",\"2018-01-24T00:00:00-05:00\",\"2018-01-25T00:00:00-05:00\",\"2018-01-26T00:00:00-05:00\",\"2018-01-29T00:00:00-05:00\",\"2018-01-30T00:00:00-05:00\",\"2018-01-31T00:00:00-05:00\",\"2018-02-01T00:00:00-05:00\",\"2018-02-02T00:00:00-05:00\",\"2018-02-05T00:00:00-05:00\",\"2018-02-06T00:00:00-05:00\",\"2018-02-07T00:00:00-05:00\",\"2018-02-08T00:00:00-05:00\",\"2018-02-09T00:00:00-05:00\",\"2018-02-12T00:00:00-05:00\",\"2018-02-13T00:00:00-05:00\",\"2018-02-14T00:00:00-05:00\",\"2018-02-15T00:00:00-05:00\",\"2018-02-16T00:00:00-05:00\",\"2018-02-20T00:00:00-05:00\",\"2018-02-21T00:00:00-05:00\",\"2018-02-22T00:00:00-05:00\",\"2018-02-23T00:00:00-05:00\",\"2018-02-26T00:00:00-05:00\",\"2018-02-27T00:00:00-05:00\",\"2018-02-28T00:00:00-05:00\",\"2018-03-01T00:00:00-05:00\",\"2018-03-02T00:00:00-05:00\",\"2018-03-05T00:00:00-05:00\",\"2018-03-06T00:00:00-05:00\",\"2018-03-07T00:00:00-05:00\",\"2018-03-08T00:00:00-05:00\",\"2018-03-09T00:00:00-05:00\",\"2018-03-12T00:00:00-04:00\",\"2018-03-13T00:00:00-04:00\",\"2018-03-14T00:00:00-04:00\",\"2018-03-15T00:00:00-04:00\",\"2018-03-16T00:00:00-04:00\",\"2018-03-19T00:00:00-04:00\",\"2018-03-20T00:00:00-04:00\",\"2018-03-21T00:00:00-04:00\",\"2018-03-22T00:00:00-04:00\",\"2018-03-23T00:00:00-04:00\",\"2018-03-26T00:00:00-04:00\",\"2018-03-27T00:00:00-04:00\",\"2018-03-28T00:00:00-04:00\",\"2018-03-29T00:00:00-04:00\",\"2018-04-02T00:00:00-04:00\",\"2018-04-03T00:00:00-04:00\",\"2018-04-04T00:00:00-04:00\",\"2018-04-05T00:00:00-04:00\",\"2018-04-06T00:00:00-04:00\",\"2018-04-09T00:00:00-04:00\",\"2018-04-10T00:00:00-04:00\",\"2018-04-11T00:00:00-04:00\",\"2018-04-12T00:00:00-04:00\",\"2018-04-13T00:00:00-04:00\",\"2018-04-16T00:00:00-04:00\",\"2018-04-17T00:00:00-04:00\",\"2018-04-18T00:00:00-04:00\",\"2018-04-19T00:00:00-04:00\",\"2018-04-20T00:00:00-04:00\",\"2018-04-23T00:00:00-04:00\",\"2018-04-24T00:00:00-04:00\",\"2018-04-25T00:00:00-04:00\",\"2018-04-26T00:00:00-04:00\",\"2018-04-27T00:00:00-04:00\",\"2018-04-30T00:00:00-04:00\",\"2018-05-01T00:00:00-04:00\",\"2018-05-02T00:00:00-04:00\",\"2018-05-03T00:00:00-04:00\",\"2018-05-04T00:00:00-04:00\",\"2018-05-07T00:00:00-04:00\",\"2018-05-08T00:00:00-04:00\",\"2018-05-09T00:00:00-04:00\",\"2018-05-10T00:00:00-04:00\",\"2018-05-11T00:00:00-04:00\",\"2018-05-14T00:00:00-04:00\",\"2018-05-15T00:00:00-04:00\",\"2018-05-16T00:00:00-04:00\",\"2018-05-17T00:00:00-04:00\",\"2018-05-18T00:00:00-04:00\",\"2018-05-21T00:00:00-04:00\",\"2018-05-22T00:00:00-04:00\",\"2018-05-23T00:00:00-04:00\",\"2018-05-24T00:00:00-04:00\",\"2018-05-25T00:00:00-04:00\",\"2018-05-29T00:00:00-04:00\",\"2018-05-30T00:00:00-04:00\",\"2018-05-31T00:00:00-04:00\",\"2018-06-01T00:00:00-04:00\",\"2018-06-04T00:00:00-04:00\",\"2018-06-05T00:00:00-04:00\",\"2018-06-06T00:00:00-04:00\",\"2018-06-07T00:00:00-04:00\",\"2018-06-08T00:00:00-04:00\",\"2018-06-11T00:00:00-04:00\",\"2018-06-12T00:00:00-04:00\",\"2018-06-13T00:00:00-04:00\",\"2018-06-14T00:00:00-04:00\",\"2018-06-15T00:00:00-04:00\",\"2018-06-18T00:00:00-04:00\",\"2018-06-19T00:00:00-04:00\",\"2018-06-20T00:00:00-04:00\",\"2018-06-21T00:00:00-04:00\",\"2018-06-22T00:00:00-04:00\",\"2018-06-25T00:00:00-04:00\",\"2018-06-26T00:00:00-04:00\",\"2018-06-27T00:00:00-04:00\",\"2018-06-28T00:00:00-04:00\",\"2018-06-29T00:00:00-04:00\",\"2018-07-02T00:00:00-04:00\",\"2018-07-03T00:00:00-04:00\",\"2018-07-05T00:00:00-04:00\",\"2018-07-06T00:00:00-04:00\",\"2018-07-09T00:00:00-04:00\",\"2018-07-10T00:00:00-04:00\",\"2018-07-11T00:00:00-04:00\",\"2018-07-12T00:00:00-04:00\",\"2018-07-13T00:00:00-04:00\",\"2018-07-16T00:00:00-04:00\",\"2018-07-17T00:00:00-04:00\",\"2018-07-18T00:00:00-04:00\",\"2018-07-19T00:00:00-04:00\",\"2018-07-20T00:00:00-04:00\",\"2018-07-23T00:00:00-04:00\",\"2018-07-24T00:00:00-04:00\",\"2018-07-25T00:00:00-04:00\",\"2018-07-26T00:00:00-04:00\",\"2018-07-27T00:00:00-04:00\",\"2018-07-30T00:00:00-04:00\",\"2018-07-31T00:00:00-04:00\",\"2018-08-01T00:00:00-04:00\",\"2018-08-02T00:00:00-04:00\",\"2018-08-03T00:00:00-04:00\",\"2018-08-06T00:00:00-04:00\",\"2018-08-07T00:00:00-04:00\",\"2018-08-08T00:00:00-04:00\",\"2018-08-09T00:00:00-04:00\",\"2018-08-10T00:00:00-04:00\",\"2018-08-13T00:00:00-04:00\",\"2018-08-14T00:00:00-04:00\",\"2018-08-15T00:00:00-04:00\",\"2018-08-16T00:00:00-04:00\",\"2018-08-17T00:00:00-04:00\",\"2018-08-20T00:00:00-04:00\",\"2018-08-21T00:00:00-04:00\",\"2018-08-22T00:00:00-04:00\",\"2018-08-23T00:00:00-04:00\",\"2018-08-24T00:00:00-04:00\",\"2018-08-27T00:00:00-04:00\",\"2018-08-28T00:00:00-04:00\",\"2018-08-29T00:00:00-04:00\",\"2018-08-30T00:00:00-04:00\",\"2018-08-31T00:00:00-04:00\",\"2018-09-04T00:00:00-04:00\",\"2018-09-05T00:00:00-04:00\",\"2018-09-06T00:00:00-04:00\",\"2018-09-07T00:00:00-04:00\",\"2018-09-10T00:00:00-04:00\",\"2018-09-11T00:00:00-04:00\",\"2018-09-12T00:00:00-04:00\",\"2018-09-13T00:00:00-04:00\",\"2018-09-14T00:00:00-04:00\",\"2018-09-17T00:00:00-04:00\",\"2018-09-18T00:00:00-04:00\",\"2018-09-19T00:00:00-04:00\",\"2018-09-20T00:00:00-04:00\",\"2018-09-21T00:00:00-04:00\",\"2018-09-24T00:00:00-04:00\",\"2018-09-25T00:00:00-04:00\",\"2018-09-26T00:00:00-04:00\",\"2018-09-27T00:00:00-04:00\",\"2018-09-28T00:00:00-04:00\",\"2018-10-01T00:00:00-04:00\",\"2018-10-02T00:00:00-04:00\",\"2018-10-03T00:00:00-04:00\",\"2018-10-04T00:00:00-04:00\",\"2018-10-05T00:00:00-04:00\",\"2018-10-08T00:00:00-04:00\",\"2018-10-09T00:00:00-04:00\",\"2018-10-10T00:00:00-04:00\",\"2018-10-11T00:00:00-04:00\",\"2018-10-12T00:00:00-04:00\",\"2018-10-15T00:00:00-04:00\",\"2018-10-16T00:00:00-04:00\",\"2018-10-17T00:00:00-04:00\",\"2018-10-18T00:00:00-04:00\",\"2018-10-19T00:00:00-04:00\",\"2018-10-22T00:00:00-04:00\",\"2018-10-23T00:00:00-04:00\",\"2018-10-24T00:00:00-04:00\",\"2018-10-25T00:00:00-04:00\",\"2018-10-26T00:00:00-04:00\",\"2018-10-29T00:00:00-04:00\",\"2018-10-30T00:00:00-04:00\",\"2018-10-31T00:00:00-04:00\",\"2018-11-01T00:00:00-04:00\",\"2018-11-02T00:00:00-04:00\",\"2018-11-05T00:00:00-05:00\",\"2018-11-06T00:00:00-05:00\",\"2018-11-07T00:00:00-05:00\",\"2018-11-08T00:00:00-05:00\",\"2018-11-09T00:00:00-05:00\",\"2018-11-12T00:00:00-05:00\",\"2018-11-13T00:00:00-05:00\",\"2018-11-14T00:00:00-05:00\",\"2018-11-15T00:00:00-05:00\",\"2018-11-16T00:00:00-05:00\",\"2018-11-19T00:00:00-05:00\",\"2018-11-20T00:00:00-05:00\",\"2018-11-21T00:00:00-05:00\",\"2018-11-23T00:00:00-05:00\",\"2018-11-26T00:00:00-05:00\",\"2018-11-27T00:00:00-05:00\",\"2018-11-28T00:00:00-05:00\",\"2018-11-29T00:00:00-05:00\",\"2018-11-30T00:00:00-05:00\",\"2018-12-03T00:00:00-05:00\",\"2018-12-04T00:00:00-05:00\",\"2018-12-06T00:00:00-05:00\",\"2018-12-07T00:00:00-05:00\",\"2018-12-10T00:00:00-05:00\",\"2018-12-11T00:00:00-05:00\",\"2018-12-12T00:00:00-05:00\",\"2018-12-13T00:00:00-05:00\",\"2018-12-14T00:00:00-05:00\",\"2018-12-17T00:00:00-05:00\",\"2018-12-18T00:00:00-05:00\",\"2018-12-19T00:00:00-05:00\",\"2018-12-20T00:00:00-05:00\",\"2018-12-21T00:00:00-05:00\",\"2018-12-24T00:00:00-05:00\",\"2018-12-26T00:00:00-05:00\",\"2018-12-27T00:00:00-05:00\",\"2018-12-28T00:00:00-05:00\",\"2018-12-31T00:00:00-05:00\",\"2019-01-02T00:00:00-05:00\",\"2019-01-03T00:00:00-05:00\",\"2019-01-04T00:00:00-05:00\",\"2019-01-07T00:00:00-05:00\",\"2019-01-08T00:00:00-05:00\",\"2019-01-09T00:00:00-05:00\",\"2019-01-10T00:00:00-05:00\",\"2019-01-11T00:00:00-05:00\",\"2019-01-14T00:00:00-05:00\",\"2019-01-15T00:00:00-05:00\",\"2019-01-16T00:00:00-05:00\",\"2019-01-17T00:00:00-05:00\",\"2019-01-18T00:00:00-05:00\",\"2019-01-22T00:00:00-05:00\",\"2019-01-23T00:00:00-05:00\",\"2019-01-24T00:00:00-05:00\",\"2019-01-25T00:00:00-05:00\",\"2019-01-28T00:00:00-05:00\",\"2019-01-29T00:00:00-05:00\",\"2019-01-30T00:00:00-05:00\",\"2019-01-31T00:00:00-05:00\",\"2019-02-01T00:00:00-05:00\",\"2019-02-04T00:00:00-05:00\",\"2019-02-05T00:00:00-05:00\",\"2019-02-06T00:00:00-05:00\",\"2019-02-07T00:00:00-05:00\",\"2019-02-08T00:00:00-05:00\",\"2019-02-11T00:00:00-05:00\",\"2019-02-12T00:00:00-05:00\",\"2019-02-13T00:00:00-05:00\",\"2019-02-14T00:00:00-05:00\",\"2019-02-15T00:00:00-05:00\",\"2019-02-19T00:00:00-05:00\",\"2019-02-20T00:00:00-05:00\",\"2019-02-21T00:00:00-05:00\",\"2019-02-22T00:00:00-05:00\",\"2019-02-25T00:00:00-05:00\",\"2019-02-26T00:00:00-05:00\",\"2019-02-27T00:00:00-05:00\",\"2019-02-28T00:00:00-05:00\",\"2019-03-01T00:00:00-05:00\",\"2019-03-04T00:00:00-05:00\",\"2019-03-05T00:00:00-05:00\",\"2019-03-06T00:00:00-05:00\",\"2019-03-07T00:00:00-05:00\",\"2019-03-08T00:00:00-05:00\",\"2019-03-11T00:00:00-04:00\",\"2019-03-12T00:00:00-04:00\",\"2019-03-13T00:00:00-04:00\",\"2019-03-14T00:00:00-04:00\",\"2019-03-15T00:00:00-04:00\",\"2019-03-18T00:00:00-04:00\",\"2019-03-19T00:00:00-04:00\",\"2019-03-20T00:00:00-04:00\",\"2019-03-21T00:00:00-04:00\",\"2019-03-22T00:00:00-04:00\",\"2019-03-25T00:00:00-04:00\",\"2019-03-26T00:00:00-04:00\",\"2019-03-27T00:00:00-04:00\",\"2019-03-28T00:00:00-04:00\",\"2019-03-29T00:00:00-04:00\",\"2019-04-01T00:00:00-04:00\",\"2019-04-02T00:00:00-04:00\",\"2019-04-03T00:00:00-04:00\",\"2019-04-04T00:00:00-04:00\",\"2019-04-05T00:00:00-04:00\",\"2019-04-08T00:00:00-04:00\",\"2019-04-09T00:00:00-04:00\",\"2019-04-10T00:00:00-04:00\",\"2019-04-11T00:00:00-04:00\",\"2019-04-12T00:00:00-04:00\",\"2019-04-15T00:00:00-04:00\",\"2019-04-16T00:00:00-04:00\",\"2019-04-17T00:00:00-04:00\",\"2019-04-18T00:00:00-04:00\",\"2019-04-22T00:00:00-04:00\",\"2019-04-23T00:00:00-04:00\",\"2019-04-24T00:00:00-04:00\",\"2019-04-25T00:00:00-04:00\",\"2019-04-26T00:00:00-04:00\",\"2019-04-29T00:00:00-04:00\",\"2019-04-30T00:00:00-04:00\",\"2019-05-01T00:00:00-04:00\",\"2019-05-02T00:00:00-04:00\",\"2019-05-03T00:00:00-04:00\",\"2019-05-06T00:00:00-04:00\",\"2019-05-07T00:00:00-04:00\",\"2019-05-08T00:00:00-04:00\",\"2019-05-09T00:00:00-04:00\",\"2019-05-10T00:00:00-04:00\",\"2019-05-13T00:00:00-04:00\",\"2019-05-14T00:00:00-04:00\",\"2019-05-15T00:00:00-04:00\",\"2019-05-16T00:00:00-04:00\",\"2019-05-17T00:00:00-04:00\",\"2019-05-20T00:00:00-04:00\",\"2019-05-21T00:00:00-04:00\",\"2019-05-22T00:00:00-04:00\",\"2019-05-23T00:00:00-04:00\",\"2019-05-24T00:00:00-04:00\",\"2019-05-28T00:00:00-04:00\",\"2019-05-29T00:00:00-04:00\",\"2019-05-30T00:00:00-04:00\",\"2019-05-31T00:00:00-04:00\",\"2019-06-03T00:00:00-04:00\",\"2019-06-04T00:00:00-04:00\",\"2019-06-05T00:00:00-04:00\",\"2019-06-06T00:00:00-04:00\",\"2019-06-07T00:00:00-04:00\",\"2019-06-10T00:00:00-04:00\",\"2019-06-11T00:00:00-04:00\",\"2019-06-12T00:00:00-04:00\",\"2019-06-13T00:00:00-04:00\",\"2019-06-14T00:00:00-04:00\",\"2019-06-17T00:00:00-04:00\",\"2019-06-18T00:00:00-04:00\",\"2019-06-19T00:00:00-04:00\",\"2019-06-20T00:00:00-04:00\",\"2019-06-21T00:00:00-04:00\",\"2019-06-24T00:00:00-04:00\",\"2019-06-25T00:00:00-04:00\",\"2019-06-26T00:00:00-04:00\",\"2019-06-27T00:00:00-04:00\",\"2019-06-28T00:00:00-04:00\",\"2019-07-01T00:00:00-04:00\",\"2019-07-02T00:00:00-04:00\",\"2019-07-03T00:00:00-04:00\",\"2019-07-05T00:00:00-04:00\",\"2019-07-08T00:00:00-04:00\",\"2019-07-09T00:00:00-04:00\",\"2019-07-10T00:00:00-04:00\",\"2019-07-11T00:00:00-04:00\",\"2019-07-12T00:00:00-04:00\",\"2019-07-15T00:00:00-04:00\",\"2019-07-16T00:00:00-04:00\",\"2019-07-17T00:00:00-04:00\",\"2019-07-18T00:00:00-04:00\",\"2019-07-19T00:00:00-04:00\",\"2019-07-22T00:00:00-04:00\",\"2019-07-23T00:00:00-04:00\",\"2019-07-24T00:00:00-04:00\",\"2019-07-25T00:00:00-04:00\",\"2019-07-26T00:00:00-04:00\",\"2019-07-29T00:00:00-04:00\",\"2019-07-30T00:00:00-04:00\",\"2019-07-31T00:00:00-04:00\",\"2019-08-01T00:00:00-04:00\",\"2019-08-02T00:00:00-04:00\",\"2019-08-05T00:00:00-04:00\",\"2019-08-06T00:00:00-04:00\",\"2019-08-07T00:00:00-04:00\",\"2019-08-08T00:00:00-04:00\",\"2019-08-09T00:00:00-04:00\",\"2019-08-12T00:00:00-04:00\",\"2019-08-13T00:00:00-04:00\",\"2019-08-14T00:00:00-04:00\",\"2019-08-15T00:00:00-04:00\",\"2019-08-16T00:00:00-04:00\",\"2019-08-19T00:00:00-04:00\",\"2019-08-20T00:00:00-04:00\",\"2019-08-21T00:00:00-04:00\",\"2019-08-22T00:00:00-04:00\",\"2019-08-23T00:00:00-04:00\",\"2019-08-26T00:00:00-04:00\",\"2019-08-27T00:00:00-04:00\",\"2019-08-28T00:00:00-04:00\",\"2019-08-29T00:00:00-04:00\",\"2019-08-30T00:00:00-04:00\",\"2019-09-03T00:00:00-04:00\",\"2019-09-04T00:00:00-04:00\",\"2019-09-05T00:00:00-04:00\",\"2019-09-06T00:00:00-04:00\",\"2019-09-09T00:00:00-04:00\",\"2019-09-10T00:00:00-04:00\",\"2019-09-11T00:00:00-04:00\",\"2019-09-12T00:00:00-04:00\",\"2019-09-13T00:00:00-04:00\",\"2019-09-16T00:00:00-04:00\",\"2019-09-17T00:00:00-04:00\",\"2019-09-18T00:00:00-04:00\",\"2019-09-19T00:00:00-04:00\",\"2019-09-20T00:00:00-04:00\",\"2019-09-23T00:00:00-04:00\",\"2019-09-24T00:00:00-04:00\",\"2019-09-25T00:00:00-04:00\",\"2019-09-26T00:00:00-04:00\",\"2019-09-27T00:00:00-04:00\",\"2019-09-30T00:00:00-04:00\",\"2019-10-01T00:00:00-04:00\",\"2019-10-02T00:00:00-04:00\",\"2019-10-03T00:00:00-04:00\",\"2019-10-04T00:00:00-04:00\",\"2019-10-07T00:00:00-04:00\",\"2019-10-08T00:00:00-04:00\",\"2019-10-09T00:00:00-04:00\",\"2019-10-10T00:00:00-04:00\",\"2019-10-11T00:00:00-04:00\",\"2019-10-14T00:00:00-04:00\",\"2019-10-15T00:00:00-04:00\",\"2019-10-16T00:00:00-04:00\",\"2019-10-17T00:00:00-04:00\",\"2019-10-18T00:00:00-04:00\",\"2019-10-21T00:00:00-04:00\",\"2019-10-22T00:00:00-04:00\",\"2019-10-23T00:00:00-04:00\",\"2019-10-24T00:00:00-04:00\",\"2019-10-25T00:00:00-04:00\",\"2019-10-28T00:00:00-04:00\",\"2019-10-29T00:00:00-04:00\",\"2019-10-30T00:00:00-04:00\",\"2019-10-31T00:00:00-04:00\",\"2019-11-01T00:00:00-04:00\",\"2019-11-04T00:00:00-05:00\",\"2019-11-05T00:00:00-05:00\",\"2019-11-06T00:00:00-05:00\",\"2019-11-07T00:00:00-05:00\",\"2019-11-08T00:00:00-05:00\",\"2019-11-11T00:00:00-05:00\",\"2019-11-12T00:00:00-05:00\",\"2019-11-13T00:00:00-05:00\",\"2019-11-14T00:00:00-05:00\",\"2019-11-15T00:00:00-05:00\",\"2019-11-18T00:00:00-05:00\",\"2019-11-19T00:00:00-05:00\",\"2019-11-20T00:00:00-05:00\",\"2019-11-21T00:00:00-05:00\",\"2019-11-22T00:00:00-05:00\",\"2019-11-25T00:00:00-05:00\",\"2019-11-26T00:00:00-05:00\",\"2019-11-27T00:00:00-05:00\",\"2019-11-29T00:00:00-05:00\",\"2019-12-02T00:00:00-05:00\",\"2019-12-03T00:00:00-05:00\",\"2019-12-04T00:00:00-05:00\",\"2019-12-05T00:00:00-05:00\",\"2019-12-06T00:00:00-05:00\",\"2019-12-09T00:00:00-05:00\",\"2019-12-10T00:00:00-05:00\",\"2019-12-11T00:00:00-05:00\",\"2019-12-12T00:00:00-05:00\",\"2019-12-13T00:00:00-05:00\",\"2019-12-16T00:00:00-05:00\",\"2019-12-17T00:00:00-05:00\",\"2019-12-18T00:00:00-05:00\",\"2019-12-19T00:00:00-05:00\",\"2019-12-20T00:00:00-05:00\",\"2019-12-23T00:00:00-05:00\",\"2019-12-24T00:00:00-05:00\",\"2019-12-26T00:00:00-05:00\",\"2019-12-27T00:00:00-05:00\",\"2019-12-30T00:00:00-05:00\",\"2019-12-31T00:00:00-05:00\",\"2020-01-02T00:00:00-05:00\",\"2020-01-03T00:00:00-05:00\",\"2020-01-06T00:00:00-05:00\",\"2020-01-07T00:00:00-05:00\",\"2020-01-08T00:00:00-05:00\",\"2020-01-09T00:00:00-05:00\",\"2020-01-10T00:00:00-05:00\",\"2020-01-13T00:00:00-05:00\",\"2020-01-14T00:00:00-05:00\",\"2020-01-15T00:00:00-05:00\",\"2020-01-16T00:00:00-05:00\",\"2020-01-17T00:00:00-05:00\",\"2020-01-21T00:00:00-05:00\",\"2020-01-22T00:00:00-05:00\",\"2020-01-23T00:00:00-05:00\",\"2020-01-24T00:00:00-05:00\",\"2020-01-27T00:00:00-05:00\",\"2020-01-28T00:00:00-05:00\",\"2020-01-29T00:00:00-05:00\",\"2020-01-30T00:00:00-05:00\",\"2020-01-31T00:00:00-05:00\",\"2020-02-03T00:00:00-05:00\",\"2020-02-04T00:00:00-05:00\",\"2020-02-05T00:00:00-05:00\",\"2020-02-06T00:00:00-05:00\",\"2020-02-07T00:00:00-05:00\",\"2020-02-10T00:00:00-05:00\",\"2020-02-11T00:00:00-05:00\",\"2020-02-12T00:00:00-05:00\",\"2020-02-13T00:00:00-05:00\",\"2020-02-14T00:00:00-05:00\",\"2020-02-18T00:00:00-05:00\",\"2020-02-19T00:00:00-05:00\",\"2020-02-20T00:00:00-05:00\",\"2020-02-21T00:00:00-05:00\",\"2020-02-24T00:00:00-05:00\",\"2020-02-25T00:00:00-05:00\",\"2020-02-26T00:00:00-05:00\",\"2020-02-27T00:00:00-05:00\",\"2020-02-28T00:00:00-05:00\",\"2020-03-02T00:00:00-05:00\",\"2020-03-03T00:00:00-05:00\",\"2020-03-04T00:00:00-05:00\",\"2020-03-05T00:00:00-05:00\",\"2020-03-06T00:00:00-05:00\",\"2020-03-09T00:00:00-04:00\",\"2020-03-10T00:00:00-04:00\",\"2020-03-11T00:00:00-04:00\",\"2020-03-12T00:00:00-04:00\",\"2020-03-13T00:00:00-04:00\",\"2020-03-16T00:00:00-04:00\",\"2020-03-17T00:00:00-04:00\",\"2020-03-18T00:00:00-04:00\",\"2020-03-19T00:00:00-04:00\",\"2020-03-20T00:00:00-04:00\",\"2020-03-23T00:00:00-04:00\",\"2020-03-24T00:00:00-04:00\",\"2020-03-25T00:00:00-04:00\",\"2020-03-26T00:00:00-04:00\",\"2020-03-27T00:00:00-04:00\",\"2020-03-30T00:00:00-04:00\",\"2020-03-31T00:00:00-04:00\",\"2020-04-01T00:00:00-04:00\",\"2020-04-02T00:00:00-04:00\",\"2020-04-03T00:00:00-04:00\",\"2020-04-06T00:00:00-04:00\",\"2020-04-07T00:00:00-04:00\",\"2020-04-08T00:00:00-04:00\",\"2020-04-09T00:00:00-04:00\",\"2020-04-13T00:00:00-04:00\",\"2020-04-14T00:00:00-04:00\",\"2020-04-15T00:00:00-04:00\",\"2020-04-16T00:00:00-04:00\",\"2020-04-17T00:00:00-04:00\",\"2020-04-20T00:00:00-04:00\",\"2020-04-21T00:00:00-04:00\",\"2020-04-22T00:00:00-04:00\",\"2020-04-23T00:00:00-04:00\",\"2020-04-24T00:00:00-04:00\",\"2020-04-27T00:00:00-04:00\",\"2020-04-28T00:00:00-04:00\",\"2020-04-29T00:00:00-04:00\",\"2020-04-30T00:00:00-04:00\",\"2020-05-01T00:00:00-04:00\",\"2020-05-04T00:00:00-04:00\",\"2020-05-05T00:00:00-04:00\",\"2020-05-06T00:00:00-04:00\",\"2020-05-07T00:00:00-04:00\",\"2020-05-08T00:00:00-04:00\",\"2020-05-11T00:00:00-04:00\",\"2020-05-12T00:00:00-04:00\",\"2020-05-13T00:00:00-04:00\",\"2020-05-14T00:00:00-04:00\",\"2020-05-15T00:00:00-04:00\",\"2020-05-18T00:00:00-04:00\",\"2020-05-19T00:00:00-04:00\",\"2020-05-20T00:00:00-04:00\",\"2020-05-21T00:00:00-04:00\",\"2020-05-22T00:00:00-04:00\",\"2020-05-26T00:00:00-04:00\",\"2020-05-27T00:00:00-04:00\",\"2020-05-28T00:00:00-04:00\",\"2020-05-29T00:00:00-04:00\",\"2020-06-01T00:00:00-04:00\",\"2020-06-02T00:00:00-04:00\",\"2020-06-03T00:00:00-04:00\",\"2020-06-04T00:00:00-04:00\",\"2020-06-05T00:00:00-04:00\",\"2020-06-08T00:00:00-04:00\",\"2020-06-09T00:00:00-04:00\",\"2020-06-10T00:00:00-04:00\",\"2020-06-11T00:00:00-04:00\",\"2020-06-12T00:00:00-04:00\",\"2020-06-15T00:00:00-04:00\",\"2020-06-16T00:00:00-04:00\",\"2020-06-17T00:00:00-04:00\",\"2020-06-18T00:00:00-04:00\",\"2020-06-19T00:00:00-04:00\",\"2020-06-22T00:00:00-04:00\",\"2020-06-23T00:00:00-04:00\",\"2020-06-24T00:00:00-04:00\",\"2020-06-25T00:00:00-04:00\",\"2020-06-26T00:00:00-04:00\",\"2020-06-29T00:00:00-04:00\",\"2020-06-30T00:00:00-04:00\",\"2020-07-01T00:00:00-04:00\",\"2020-07-02T00:00:00-04:00\",\"2020-07-06T00:00:00-04:00\",\"2020-07-07T00:00:00-04:00\",\"2020-07-08T00:00:00-04:00\",\"2020-07-09T00:00:00-04:00\",\"2020-07-10T00:00:00-04:00\",\"2020-07-13T00:00:00-04:00\",\"2020-07-14T00:00:00-04:00\",\"2020-07-15T00:00:00-04:00\",\"2020-07-16T00:00:00-04:00\",\"2020-07-17T00:00:00-04:00\",\"2020-07-20T00:00:00-04:00\",\"2020-07-21T00:00:00-04:00\",\"2020-07-22T00:00:00-04:00\",\"2020-07-23T00:00:00-04:00\",\"2020-07-24T00:00:00-04:00\",\"2020-07-27T00:00:00-04:00\",\"2020-07-28T00:00:00-04:00\",\"2020-07-29T00:00:00-04:00\",\"2020-07-30T00:00:00-04:00\",\"2020-07-31T00:00:00-04:00\",\"2020-08-03T00:00:00-04:00\",\"2020-08-04T00:00:00-04:00\",\"2020-08-05T00:00:00-04:00\",\"2020-08-06T00:00:00-04:00\",\"2020-08-07T00:00:00-04:00\",\"2020-08-10T00:00:00-04:00\",\"2020-08-11T00:00:00-04:00\",\"2020-08-12T00:00:00-04:00\",\"2020-08-13T00:00:00-04:00\",\"2020-08-14T00:00:00-04:00\",\"2020-08-17T00:00:00-04:00\",\"2020-08-18T00:00:00-04:00\",\"2020-08-19T00:00:00-04:00\",\"2020-08-20T00:00:00-04:00\",\"2020-08-21T00:00:00-04:00\",\"2020-08-24T00:00:00-04:00\",\"2020-08-25T00:00:00-04:00\",\"2020-08-26T00:00:00-04:00\",\"2020-08-27T00:00:00-04:00\",\"2020-08-28T00:00:00-04:00\",\"2020-08-31T00:00:00-04:00\",\"2020-09-01T00:00:00-04:00\",\"2020-09-02T00:00:00-04:00\",\"2020-09-03T00:00:00-04:00\",\"2020-09-04T00:00:00-04:00\",\"2020-09-08T00:00:00-04:00\",\"2020-09-09T00:00:00-04:00\",\"2020-09-10T00:00:00-04:00\",\"2020-09-11T00:00:00-04:00\",\"2020-09-14T00:00:00-04:00\",\"2020-09-15T00:00:00-04:00\",\"2020-09-16T00:00:00-04:00\",\"2020-09-17T00:00:00-04:00\",\"2020-09-18T00:00:00-04:00\",\"2020-09-21T00:00:00-04:00\",\"2020-09-22T00:00:00-04:00\",\"2020-09-23T00:00:00-04:00\",\"2020-09-24T00:00:00-04:00\",\"2020-09-25T00:00:00-04:00\",\"2020-09-28T00:00:00-04:00\",\"2020-09-29T00:00:00-04:00\",\"2020-09-30T00:00:00-04:00\",\"2020-10-01T00:00:00-04:00\",\"2020-10-02T00:00:00-04:00\",\"2020-10-05T00:00:00-04:00\",\"2020-10-06T00:00:00-04:00\",\"2020-10-07T00:00:00-04:00\",\"2020-10-08T00:00:00-04:00\",\"2020-10-09T00:00:00-04:00\",\"2020-10-12T00:00:00-04:00\",\"2020-10-13T00:00:00-04:00\",\"2020-10-14T00:00:00-04:00\",\"2020-10-15T00:00:00-04:00\",\"2020-10-16T00:00:00-04:00\",\"2020-10-19T00:00:00-04:00\",\"2020-10-20T00:00:00-04:00\",\"2020-10-21T00:00:00-04:00\",\"2020-10-22T00:00:00-04:00\",\"2020-10-23T00:00:00-04:00\",\"2020-10-26T00:00:00-04:00\",\"2020-10-27T00:00:00-04:00\",\"2020-10-28T00:00:00-04:00\",\"2020-10-29T00:00:00-04:00\",\"2020-10-30T00:00:00-04:00\",\"2020-11-02T00:00:00-05:00\",\"2020-11-03T00:00:00-05:00\",\"2020-11-04T00:00:00-05:00\",\"2020-11-05T00:00:00-05:00\",\"2020-11-06T00:00:00-05:00\",\"2020-11-09T00:00:00-05:00\",\"2020-11-10T00:00:00-05:00\",\"2020-11-11T00:00:00-05:00\",\"2020-11-12T00:00:00-05:00\",\"2020-11-13T00:00:00-05:00\",\"2020-11-16T00:00:00-05:00\",\"2020-11-17T00:00:00-05:00\",\"2020-11-18T00:00:00-05:00\",\"2020-11-19T00:00:00-05:00\",\"2020-11-20T00:00:00-05:00\",\"2020-11-23T00:00:00-05:00\",\"2020-11-24T00:00:00-05:00\",\"2020-11-25T00:00:00-05:00\",\"2020-11-27T00:00:00-05:00\",\"2020-11-30T00:00:00-05:00\",\"2020-12-01T00:00:00-05:00\",\"2020-12-02T00:00:00-05:00\",\"2020-12-03T00:00:00-05:00\",\"2020-12-04T00:00:00-05:00\",\"2020-12-07T00:00:00-05:00\",\"2020-12-08T00:00:00-05:00\",\"2020-12-09T00:00:00-05:00\",\"2020-12-10T00:00:00-05:00\",\"2020-12-11T00:00:00-05:00\",\"2020-12-14T00:00:00-05:00\",\"2020-12-15T00:00:00-05:00\",\"2020-12-16T00:00:00-05:00\",\"2020-12-17T00:00:00-05:00\",\"2020-12-18T00:00:00-05:00\",\"2020-12-21T00:00:00-05:00\",\"2020-12-22T00:00:00-05:00\",\"2020-12-23T00:00:00-05:00\",\"2020-12-24T00:00:00-05:00\",\"2020-12-28T00:00:00-05:00\",\"2020-12-29T00:00:00-05:00\",\"2020-12-30T00:00:00-05:00\",\"2020-12-31T00:00:00-05:00\",\"2021-01-04T00:00:00-05:00\",\"2021-01-05T00:00:00-05:00\",\"2021-01-06T00:00:00-05:00\",\"2021-01-07T00:00:00-05:00\",\"2021-01-08T00:00:00-05:00\",\"2021-01-11T00:00:00-05:00\",\"2021-01-12T00:00:00-05:00\",\"2021-01-13T00:00:00-05:00\",\"2021-01-14T00:00:00-05:00\",\"2021-01-15T00:00:00-05:00\",\"2021-01-19T00:00:00-05:00\",\"2021-01-20T00:00:00-05:00\",\"2021-01-21T00:00:00-05:00\",\"2021-01-22T00:00:00-05:00\",\"2021-01-25T00:00:00-05:00\",\"2021-01-26T00:00:00-05:00\",\"2021-01-27T00:00:00-05:00\",\"2021-01-28T00:00:00-05:00\",\"2021-01-29T00:00:00-05:00\",\"2021-02-01T00:00:00-05:00\",\"2021-02-02T00:00:00-05:00\",\"2021-02-03T00:00:00-05:00\",\"2021-02-04T00:00:00-05:00\",\"2021-02-05T00:00:00-05:00\",\"2021-02-08T00:00:00-05:00\",\"2021-02-09T00:00:00-05:00\",\"2021-02-10T00:00:00-05:00\",\"2021-02-11T00:00:00-05:00\",\"2021-02-12T00:00:00-05:00\",\"2021-02-16T00:00:00-05:00\",\"2021-02-17T00:00:00-05:00\",\"2021-02-18T00:00:00-05:00\",\"2021-02-19T00:00:00-05:00\",\"2021-02-22T00:00:00-05:00\",\"2021-02-23T00:00:00-05:00\",\"2021-02-24T00:00:00-05:00\",\"2021-02-25T00:00:00-05:00\",\"2021-02-26T00:00:00-05:00\",\"2021-03-01T00:00:00-05:00\",\"2021-03-02T00:00:00-05:00\",\"2021-03-03T00:00:00-05:00\",\"2021-03-04T00:00:00-05:00\",\"2021-03-05T00:00:00-05:00\",\"2021-03-08T00:00:00-05:00\",\"2021-03-09T00:00:00-05:00\",\"2021-03-10T00:00:00-05:00\",\"2021-03-11T00:00:00-05:00\",\"2021-03-12T00:00:00-05:00\",\"2021-03-15T00:00:00-04:00\",\"2021-03-16T00:00:00-04:00\",\"2021-03-17T00:00:00-04:00\",\"2021-03-18T00:00:00-04:00\",\"2021-03-19T00:00:00-04:00\",\"2021-03-22T00:00:00-04:00\",\"2021-03-23T00:00:00-04:00\",\"2021-03-24T00:00:00-04:00\",\"2021-03-25T00:00:00-04:00\",\"2021-03-26T00:00:00-04:00\",\"2021-03-29T00:00:00-04:00\",\"2021-03-30T00:00:00-04:00\",\"2021-03-31T00:00:00-04:00\",\"2021-04-01T00:00:00-04:00\",\"2021-04-05T00:00:00-04:00\",\"2021-04-06T00:00:00-04:00\",\"2021-04-07T00:00:00-04:00\",\"2021-04-08T00:00:00-04:00\",\"2021-04-09T00:00:00-04:00\",\"2021-04-12T00:00:00-04:00\",\"2021-04-13T00:00:00-04:00\",\"2021-04-14T00:00:00-04:00\",\"2021-04-15T00:00:00-04:00\",\"2021-04-16T00:00:00-04:00\",\"2021-04-19T00:00:00-04:00\",\"2021-04-20T00:00:00-04:00\",\"2021-04-21T00:00:00-04:00\",\"2021-04-22T00:00:00-04:00\",\"2021-04-23T00:00:00-04:00\",\"2021-04-26T00:00:00-04:00\",\"2021-04-27T00:00:00-04:00\",\"2021-04-28T00:00:00-04:00\",\"2021-04-29T00:00:00-04:00\",\"2021-04-30T00:00:00-04:00\",\"2021-05-03T00:00:00-04:00\",\"2021-05-04T00:00:00-04:00\",\"2021-05-05T00:00:00-04:00\",\"2021-05-06T00:00:00-04:00\",\"2021-05-07T00:00:00-04:00\",\"2021-05-10T00:00:00-04:00\",\"2021-05-11T00:00:00-04:00\",\"2021-05-12T00:00:00-04:00\",\"2021-05-13T00:00:00-04:00\",\"2021-05-14T00:00:00-04:00\",\"2021-05-17T00:00:00-04:00\",\"2021-05-18T00:00:00-04:00\",\"2021-05-19T00:00:00-04:00\",\"2021-05-20T00:00:00-04:00\",\"2021-05-21T00:00:00-04:00\",\"2021-05-24T00:00:00-04:00\",\"2021-05-25T00:00:00-04:00\",\"2021-05-26T00:00:00-04:00\",\"2021-05-27T00:00:00-04:00\",\"2021-05-28T00:00:00-04:00\",\"2021-06-01T00:00:00-04:00\",\"2021-06-02T00:00:00-04:00\",\"2021-06-03T00:00:00-04:00\",\"2021-06-04T00:00:00-04:00\",\"2021-06-07T00:00:00-04:00\",\"2021-06-08T00:00:00-04:00\",\"2021-06-09T00:00:00-04:00\",\"2021-06-10T00:00:00-04:00\",\"2021-06-11T00:00:00-04:00\",\"2021-06-14T00:00:00-04:00\",\"2021-06-15T00:00:00-04:00\",\"2021-06-16T00:00:00-04:00\",\"2021-06-17T00:00:00-04:00\",\"2021-06-18T00:00:00-04:00\",\"2021-06-21T00:00:00-04:00\",\"2021-06-22T00:00:00-04:00\",\"2021-06-23T00:00:00-04:00\",\"2021-06-24T00:00:00-04:00\",\"2021-06-25T00:00:00-04:00\",\"2021-06-28T00:00:00-04:00\",\"2021-06-29T00:00:00-04:00\",\"2021-06-30T00:00:00-04:00\",\"2021-07-01T00:00:00-04:00\",\"2021-07-02T00:00:00-04:00\",\"2021-07-06T00:00:00-04:00\",\"2021-07-07T00:00:00-04:00\",\"2021-07-08T00:00:00-04:00\",\"2021-07-09T00:00:00-04:00\",\"2021-07-12T00:00:00-04:00\",\"2021-07-13T00:00:00-04:00\",\"2021-07-14T00:00:00-04:00\",\"2021-07-15T00:00:00-04:00\",\"2021-07-16T00:00:00-04:00\",\"2021-07-19T00:00:00-04:00\",\"2021-07-20T00:00:00-04:00\",\"2021-07-21T00:00:00-04:00\",\"2021-07-22T00:00:00-04:00\",\"2021-07-23T00:00:00-04:00\",\"2021-07-26T00:00:00-04:00\",\"2021-07-27T00:00:00-04:00\",\"2021-07-28T00:00:00-04:00\",\"2021-07-29T00:00:00-04:00\",\"2021-07-30T00:00:00-04:00\",\"2021-08-02T00:00:00-04:00\",\"2021-08-03T00:00:00-04:00\",\"2021-08-04T00:00:00-04:00\",\"2021-08-05T00:00:00-04:00\",\"2021-08-06T00:00:00-04:00\",\"2021-08-09T00:00:00-04:00\",\"2021-08-10T00:00:00-04:00\",\"2021-08-11T00:00:00-04:00\",\"2021-08-12T00:00:00-04:00\",\"2021-08-13T00:00:00-04:00\",\"2021-08-16T00:00:00-04:00\",\"2021-08-17T00:00:00-04:00\",\"2021-08-18T00:00:00-04:00\",\"2021-08-19T00:00:00-04:00\",\"2021-08-20T00:00:00-04:00\",\"2021-08-23T00:00:00-04:00\",\"2021-08-24T00:00:00-04:00\",\"2021-08-25T00:00:00-04:00\",\"2021-08-26T00:00:00-04:00\",\"2021-08-27T00:00:00-04:00\",\"2021-08-30T00:00:00-04:00\",\"2021-08-31T00:00:00-04:00\",\"2021-09-01T00:00:00-04:00\",\"2021-09-02T00:00:00-04:00\",\"2021-09-03T00:00:00-04:00\",\"2021-09-07T00:00:00-04:00\",\"2021-09-08T00:00:00-04:00\",\"2021-09-09T00:00:00-04:00\",\"2021-09-10T00:00:00-04:00\",\"2021-09-13T00:00:00-04:00\",\"2021-09-14T00:00:00-04:00\",\"2021-09-15T00:00:00-04:00\",\"2021-09-16T00:00:00-04:00\",\"2021-09-17T00:00:00-04:00\",\"2021-09-20T00:00:00-04:00\",\"2021-09-21T00:00:00-04:00\",\"2021-09-22T00:00:00-04:00\",\"2021-09-23T00:00:00-04:00\",\"2021-09-24T00:00:00-04:00\",\"2021-09-27T00:00:00-04:00\",\"2021-09-28T00:00:00-04:00\",\"2021-09-29T00:00:00-04:00\",\"2021-09-30T00:00:00-04:00\",\"2021-10-01T00:00:00-04:00\",\"2021-10-04T00:00:00-04:00\",\"2021-10-05T00:00:00-04:00\",\"2021-10-06T00:00:00-04:00\",\"2021-10-07T00:00:00-04:00\",\"2021-10-08T00:00:00-04:00\",\"2021-10-11T00:00:00-04:00\",\"2021-10-12T00:00:00-04:00\",\"2021-10-13T00:00:00-04:00\",\"2021-10-14T00:00:00-04:00\",\"2021-10-15T00:00:00-04:00\",\"2021-10-18T00:00:00-04:00\",\"2021-10-19T00:00:00-04:00\",\"2021-10-20T00:00:00-04:00\",\"2021-10-21T00:00:00-04:00\",\"2021-10-22T00:00:00-04:00\",\"2021-10-25T00:00:00-04:00\",\"2021-10-26T00:00:00-04:00\",\"2021-10-27T00:00:00-04:00\",\"2021-10-28T00:00:00-04:00\",\"2021-10-29T00:00:00-04:00\",\"2021-11-01T00:00:00-04:00\",\"2021-11-02T00:00:00-04:00\",\"2021-11-03T00:00:00-04:00\",\"2021-11-04T00:00:00-04:00\",\"2021-11-05T00:00:00-04:00\",\"2021-11-08T00:00:00-05:00\",\"2021-11-09T00:00:00-05:00\",\"2021-11-10T00:00:00-05:00\",\"2021-11-11T00:00:00-05:00\",\"2021-11-12T00:00:00-05:00\",\"2021-11-15T00:00:00-05:00\",\"2021-11-16T00:00:00-05:00\",\"2021-11-17T00:00:00-05:00\",\"2021-11-18T00:00:00-05:00\",\"2021-11-19T00:00:00-05:00\",\"2021-11-22T00:00:00-05:00\",\"2021-11-23T00:00:00-05:00\",\"2021-11-24T00:00:00-05:00\",\"2021-11-26T00:00:00-05:00\",\"2021-11-29T00:00:00-05:00\",\"2021-11-30T00:00:00-05:00\",\"2021-12-01T00:00:00-05:00\",\"2021-12-02T00:00:00-05:00\",\"2021-12-03T00:00:00-05:00\",\"2021-12-06T00:00:00-05:00\",\"2021-12-07T00:00:00-05:00\",\"2021-12-08T00:00:00-05:00\",\"2021-12-09T00:00:00-05:00\",\"2021-12-10T00:00:00-05:00\",\"2021-12-13T00:00:00-05:00\",\"2021-12-14T00:00:00-05:00\",\"2021-12-15T00:00:00-05:00\",\"2021-12-16T00:00:00-05:00\",\"2021-12-17T00:00:00-05:00\",\"2021-12-20T00:00:00-05:00\",\"2021-12-21T00:00:00-05:00\",\"2021-12-22T00:00:00-05:00\",\"2021-12-23T00:00:00-05:00\",\"2021-12-27T00:00:00-05:00\",\"2021-12-28T00:00:00-05:00\",\"2021-12-29T00:00:00-05:00\",\"2021-12-30T00:00:00-05:00\",\"2021-12-31T00:00:00-05:00\",\"2022-01-03T00:00:00-05:00\",\"2022-01-04T00:00:00-05:00\",\"2022-01-05T00:00:00-05:00\",\"2022-01-06T00:00:00-05:00\",\"2022-01-07T00:00:00-05:00\",\"2022-01-10T00:00:00-05:00\",\"2022-01-11T00:00:00-05:00\",\"2022-01-12T00:00:00-05:00\",\"2022-01-13T00:00:00-05:00\",\"2022-01-14T00:00:00-05:00\",\"2022-01-18T00:00:00-05:00\",\"2022-01-19T00:00:00-05:00\",\"2022-01-20T00:00:00-05:00\",\"2022-01-21T00:00:00-05:00\",\"2022-01-24T00:00:00-05:00\",\"2022-01-25T00:00:00-05:00\",\"2022-01-26T00:00:00-05:00\",\"2022-01-27T00:00:00-05:00\",\"2022-01-28T00:00:00-05:00\",\"2022-01-31T00:00:00-05:00\",\"2022-02-01T00:00:00-05:00\",\"2022-02-02T00:00:00-05:00\",\"2022-02-03T00:00:00-05:00\",\"2022-02-04T00:00:00-05:00\",\"2022-02-07T00:00:00-05:00\",\"2022-02-08T00:00:00-05:00\",\"2022-02-09T00:00:00-05:00\",\"2022-02-10T00:00:00-05:00\",\"2022-02-11T00:00:00-05:00\",\"2022-02-14T00:00:00-05:00\",\"2022-02-15T00:00:00-05:00\",\"2022-02-16T00:00:00-05:00\",\"2022-02-17T00:00:00-05:00\",\"2022-02-18T00:00:00-05:00\",\"2022-02-22T00:00:00-05:00\",\"2022-02-23T00:00:00-05:00\",\"2022-02-24T00:00:00-05:00\",\"2022-02-25T00:00:00-05:00\",\"2022-02-28T00:00:00-05:00\",\"2022-03-01T00:00:00-05:00\",\"2022-03-02T00:00:00-05:00\",\"2022-03-03T00:00:00-05:00\",\"2022-03-04T00:00:00-05:00\",\"2022-03-07T00:00:00-05:00\",\"2022-03-08T00:00:00-05:00\",\"2022-03-09T00:00:00-05:00\",\"2022-03-10T00:00:00-05:00\",\"2022-03-11T00:00:00-05:00\",\"2022-03-14T00:00:00-04:00\",\"2022-03-15T00:00:00-04:00\",\"2022-03-16T00:00:00-04:00\",\"2022-03-17T00:00:00-04:00\",\"2022-03-18T00:00:00-04:00\",\"2022-03-21T00:00:00-04:00\",\"2022-03-22T00:00:00-04:00\",\"2022-03-23T00:00:00-04:00\",\"2022-03-24T00:00:00-04:00\",\"2022-03-25T00:00:00-04:00\",\"2022-03-28T00:00:00-04:00\",\"2022-03-29T00:00:00-04:00\",\"2022-03-30T00:00:00-04:00\",\"2022-03-31T00:00:00-04:00\",\"2022-04-01T00:00:00-04:00\",\"2022-04-04T00:00:00-04:00\",\"2022-04-05T00:00:00-04:00\",\"2022-04-06T00:00:00-04:00\",\"2022-04-07T00:00:00-04:00\",\"2022-04-08T00:00:00-04:00\",\"2022-04-11T00:00:00-04:00\",\"2022-04-12T00:00:00-04:00\",\"2022-04-13T00:00:00-04:00\",\"2022-04-14T00:00:00-04:00\",\"2022-04-18T00:00:00-04:00\",\"2022-04-19T00:00:00-04:00\",\"2022-04-20T00:00:00-04:00\",\"2022-04-21T00:00:00-04:00\",\"2022-04-22T00:00:00-04:00\",\"2022-04-25T00:00:00-04:00\",\"2022-04-26T00:00:00-04:00\",\"2022-04-27T00:00:00-04:00\",\"2022-04-28T00:00:00-04:00\",\"2022-04-29T00:00:00-04:00\",\"2022-05-02T00:00:00-04:00\",\"2022-05-03T00:00:00-04:00\",\"2022-05-04T00:00:00-04:00\",\"2022-05-05T00:00:00-04:00\",\"2022-05-06T00:00:00-04:00\",\"2022-05-09T00:00:00-04:00\",\"2022-05-10T00:00:00-04:00\",\"2022-05-11T00:00:00-04:00\",\"2022-05-12T00:00:00-04:00\",\"2022-05-13T00:00:00-04:00\",\"2022-05-16T00:00:00-04:00\",\"2022-05-17T00:00:00-04:00\",\"2022-05-18T00:00:00-04:00\",\"2022-05-19T00:00:00-04:00\",\"2022-05-20T00:00:00-04:00\",\"2022-05-23T00:00:00-04:00\",\"2022-05-24T00:00:00-04:00\",\"2022-05-25T00:00:00-04:00\",\"2022-05-26T00:00:00-04:00\",\"2022-05-27T00:00:00-04:00\",\"2022-05-31T00:00:00-04:00\",\"2022-06-01T00:00:00-04:00\",\"2022-06-02T00:00:00-04:00\",\"2022-06-03T00:00:00-04:00\",\"2022-06-06T00:00:00-04:00\",\"2022-06-07T00:00:00-04:00\",\"2022-06-08T00:00:00-04:00\",\"2022-06-09T00:00:00-04:00\",\"2022-06-10T00:00:00-04:00\",\"2022-06-13T00:00:00-04:00\",\"2022-06-14T00:00:00-04:00\",\"2022-06-15T00:00:00-04:00\",\"2022-06-16T00:00:00-04:00\",\"2022-06-17T00:00:00-04:00\",\"2022-06-21T00:00:00-04:00\",\"2022-06-22T00:00:00-04:00\",\"2022-06-23T00:00:00-04:00\",\"2022-06-24T00:00:00-04:00\",\"2022-06-27T00:00:00-04:00\",\"2022-06-28T00:00:00-04:00\",\"2022-06-29T00:00:00-04:00\",\"2022-06-30T00:00:00-04:00\",\"2022-07-01T00:00:00-04:00\",\"2022-07-05T00:00:00-04:00\",\"2022-07-06T00:00:00-04:00\",\"2022-07-07T00:00:00-04:00\",\"2022-07-08T00:00:00-04:00\",\"2022-07-11T00:00:00-04:00\",\"2022-07-12T00:00:00-04:00\",\"2022-07-13T00:00:00-04:00\",\"2022-07-14T00:00:00-04:00\",\"2022-07-15T00:00:00-04:00\",\"2022-07-18T00:00:00-04:00\",\"2022-07-19T00:00:00-04:00\",\"2022-07-20T00:00:00-04:00\",\"2022-07-21T00:00:00-04:00\",\"2022-07-22T00:00:00-04:00\",\"2022-07-25T00:00:00-04:00\",\"2022-07-26T00:00:00-04:00\",\"2022-07-27T00:00:00-04:00\",\"2022-07-28T00:00:00-04:00\",\"2022-07-29T00:00:00-04:00\",\"2022-08-01T00:00:00-04:00\",\"2022-08-02T00:00:00-04:00\",\"2022-08-03T00:00:00-04:00\",\"2022-08-04T00:00:00-04:00\",\"2022-08-05T00:00:00-04:00\",\"2022-08-08T00:00:00-04:00\",\"2022-08-09T00:00:00-04:00\",\"2022-08-10T00:00:00-04:00\",\"2022-08-11T00:00:00-04:00\",\"2022-08-12T00:00:00-04:00\",\"2022-08-15T00:00:00-04:00\",\"2022-08-16T00:00:00-04:00\",\"2022-08-17T00:00:00-04:00\",\"2022-08-18T00:00:00-04:00\",\"2022-08-19T00:00:00-04:00\",\"2022-08-22T00:00:00-04:00\",\"2022-08-23T00:00:00-04:00\",\"2022-08-24T00:00:00-04:00\",\"2022-08-25T00:00:00-04:00\",\"2022-08-26T00:00:00-04:00\",\"2022-08-29T00:00:00-04:00\",\"2022-08-30T00:00:00-04:00\",\"2022-08-31T00:00:00-04:00\",\"2022-09-01T00:00:00-04:00\",\"2022-09-02T00:00:00-04:00\",\"2022-09-06T00:00:00-04:00\",\"2022-09-07T00:00:00-04:00\",\"2022-09-08T00:00:00-04:00\",\"2022-09-09T00:00:00-04:00\",\"2022-09-12T00:00:00-04:00\",\"2022-09-13T00:00:00-04:00\",\"2022-09-14T00:00:00-04:00\",\"2022-09-15T00:00:00-04:00\",\"2022-09-16T00:00:00-04:00\",\"2022-09-19T00:00:00-04:00\",\"2022-09-20T00:00:00-04:00\",\"2022-09-21T00:00:00-04:00\",\"2022-09-22T00:00:00-04:00\",\"2022-09-23T00:00:00-04:00\",\"2022-09-26T00:00:00-04:00\",\"2022-09-27T00:00:00-04:00\",\"2022-09-28T00:00:00-04:00\",\"2022-09-29T00:00:00-04:00\",\"2022-09-30T00:00:00-04:00\",\"2022-10-03T00:00:00-04:00\",\"2022-10-04T00:00:00-04:00\",\"2022-10-05T00:00:00-04:00\",\"2022-10-06T00:00:00-04:00\",\"2022-10-07T00:00:00-04:00\",\"2022-10-10T00:00:00-04:00\",\"2022-10-11T00:00:00-04:00\",\"2022-10-12T00:00:00-04:00\",\"2022-10-13T00:00:00-04:00\",\"2022-10-14T00:00:00-04:00\",\"2022-10-17T00:00:00-04:00\",\"2022-10-18T00:00:00-04:00\",\"2022-10-19T00:00:00-04:00\",\"2022-10-20T00:00:00-04:00\",\"2022-10-21T00:00:00-04:00\",\"2022-10-24T00:00:00-04:00\",\"2022-10-25T00:00:00-04:00\",\"2022-10-26T00:00:00-04:00\",\"2022-10-27T00:00:00-04:00\",\"2022-10-28T00:00:00-04:00\",\"2022-10-31T00:00:00-04:00\",\"2022-11-01T00:00:00-04:00\",\"2022-11-02T00:00:00-04:00\",\"2022-11-03T00:00:00-04:00\",\"2022-11-04T00:00:00-04:00\",\"2022-11-07T00:00:00-05:00\",\"2022-11-08T00:00:00-05:00\",\"2022-11-09T00:00:00-05:00\",\"2022-11-10T00:00:00-05:00\",\"2022-11-11T00:00:00-05:00\",\"2022-11-14T00:00:00-05:00\",\"2022-11-15T00:00:00-05:00\",\"2022-11-16T00:00:00-05:00\",\"2022-11-17T00:00:00-05:00\",\"2022-11-18T00:00:00-05:00\",\"2022-11-21T00:00:00-05:00\",\"2022-11-22T00:00:00-05:00\",\"2022-11-23T00:00:00-05:00\",\"2022-11-25T00:00:00-05:00\",\"2022-11-28T00:00:00-05:00\",\"2022-11-29T00:00:00-05:00\",\"2022-11-30T00:00:00-05:00\",\"2022-12-01T00:00:00-05:00\",\"2022-12-02T00:00:00-05:00\",\"2022-12-05T00:00:00-05:00\",\"2022-12-06T00:00:00-05:00\",\"2022-12-07T00:00:00-05:00\",\"2022-12-08T00:00:00-05:00\",\"2022-12-09T00:00:00-05:00\",\"2022-12-12T00:00:00-05:00\",\"2022-12-13T00:00:00-05:00\",\"2022-12-14T00:00:00-05:00\",\"2022-12-15T00:00:00-05:00\",\"2022-12-16T00:00:00-05:00\",\"2022-12-19T00:00:00-05:00\",\"2022-12-20T00:00:00-05:00\",\"2022-12-21T00:00:00-05:00\",\"2022-12-22T00:00:00-05:00\",\"2022-12-23T00:00:00-05:00\",\"2022-12-27T00:00:00-05:00\",\"2022-12-28T00:00:00-05:00\",\"2022-12-29T00:00:00-05:00\",\"2022-12-30T00:00:00-05:00\",\"2023-01-03T00:00:00-05:00\",\"2023-01-04T00:00:00-05:00\",\"2023-01-05T00:00:00-05:00\",\"2023-01-06T00:00:00-05:00\",\"2023-01-09T00:00:00-05:00\",\"2023-01-10T00:00:00-05:00\",\"2023-01-11T00:00:00-05:00\",\"2023-01-12T00:00:00-05:00\",\"2023-01-13T00:00:00-05:00\",\"2023-01-17T00:00:00-05:00\",\"2023-01-18T00:00:00-05:00\",\"2023-01-19T00:00:00-05:00\",\"2023-01-20T00:00:00-05:00\",\"2023-01-23T00:00:00-05:00\",\"2023-01-24T00:00:00-05:00\",\"2023-01-25T00:00:00-05:00\",\"2023-01-26T00:00:00-05:00\",\"2023-01-27T00:00:00-05:00\",\"2023-01-30T00:00:00-05:00\",\"2023-01-31T00:00:00-05:00\",\"2023-02-01T00:00:00-05:00\",\"2023-02-02T00:00:00-05:00\",\"2023-02-03T00:00:00-05:00\",\"2023-02-06T00:00:00-05:00\",\"2023-02-07T00:00:00-05:00\",\"2023-02-08T00:00:00-05:00\",\"2023-02-09T00:00:00-05:00\",\"2023-02-10T00:00:00-05:00\",\"2023-02-13T00:00:00-05:00\",\"2023-02-14T00:00:00-05:00\",\"2023-02-15T00:00:00-05:00\",\"2023-02-16T00:00:00-05:00\",\"2023-02-17T00:00:00-05:00\",\"2023-02-21T00:00:00-05:00\",\"2023-02-22T00:00:00-05:00\",\"2023-02-23T00:00:00-05:00\",\"2023-02-24T00:00:00-05:00\",\"2023-02-27T00:00:00-05:00\",\"2023-02-28T00:00:00-05:00\",\"2023-03-01T00:00:00-05:00\",\"2023-03-02T00:00:00-05:00\",\"2023-03-03T00:00:00-05:00\",\"2023-03-06T00:00:00-05:00\",\"2023-03-07T00:00:00-05:00\",\"2023-03-08T00:00:00-05:00\",\"2023-03-09T00:00:00-05:00\",\"2023-03-10T00:00:00-05:00\",\"2023-03-13T00:00:00-04:00\",\"2023-03-14T00:00:00-04:00\",\"2023-03-15T00:00:00-04:00\",\"2023-03-16T00:00:00-04:00\",\"2023-03-17T00:00:00-04:00\",\"2023-03-20T00:00:00-04:00\",\"2023-03-21T00:00:00-04:00\",\"2023-03-22T00:00:00-04:00\",\"2023-03-23T00:00:00-04:00\",\"2023-03-24T00:00:00-04:00\",\"2023-03-27T00:00:00-04:00\",\"2023-03-28T00:00:00-04:00\",\"2023-03-29T00:00:00-04:00\",\"2023-03-30T00:00:00-04:00\",\"2023-03-31T00:00:00-04:00\",\"2023-04-03T00:00:00-04:00\",\"2023-04-04T00:00:00-04:00\",\"2023-04-05T00:00:00-04:00\",\"2023-04-06T00:00:00-04:00\",\"2023-04-10T00:00:00-04:00\",\"2023-04-11T00:00:00-04:00\",\"2023-04-12T00:00:00-04:00\",\"2023-04-13T00:00:00-04:00\",\"2023-04-14T00:00:00-04:00\",\"2023-04-17T00:00:00-04:00\",\"2023-04-18T00:00:00-04:00\",\"2023-04-19T00:00:00-04:00\",\"2023-04-20T00:00:00-04:00\",\"2023-04-21T00:00:00-04:00\",\"2023-04-24T00:00:00-04:00\",\"2023-04-25T00:00:00-04:00\",\"2023-04-26T00:00:00-04:00\",\"2023-04-27T00:00:00-04:00\",\"2023-04-28T00:00:00-04:00\",\"2023-05-01T00:00:00-04:00\",\"2023-05-02T00:00:00-04:00\",\"2023-05-03T00:00:00-04:00\",\"2023-05-04T00:00:00-04:00\",\"2023-05-05T00:00:00-04:00\",\"2023-05-08T00:00:00-04:00\",\"2023-05-09T00:00:00-04:00\",\"2023-05-10T00:00:00-04:00\",\"2023-05-11T00:00:00-04:00\",\"2023-05-12T00:00:00-04:00\",\"2023-05-15T00:00:00-04:00\",\"2023-05-16T00:00:00-04:00\",\"2023-05-17T00:00:00-04:00\",\"2023-05-18T00:00:00-04:00\",\"2023-05-19T00:00:00-04:00\",\"2023-05-22T00:00:00-04:00\",\"2023-05-23T00:00:00-04:00\",\"2023-05-24T00:00:00-04:00\",\"2023-05-25T00:00:00-04:00\",\"2023-05-26T00:00:00-04:00\",\"2023-05-30T00:00:00-04:00\",\"2023-05-31T00:00:00-04:00\",\"2023-06-01T00:00:00-04:00\",\"2023-06-02T00:00:00-04:00\",\"2023-06-05T00:00:00-04:00\",\"2023-06-06T00:00:00-04:00\",\"2023-06-07T00:00:00-04:00\",\"2023-06-08T00:00:00-04:00\",\"2023-06-09T00:00:00-04:00\",\"2023-06-12T00:00:00-04:00\",\"2023-06-13T00:00:00-04:00\",\"2023-06-14T00:00:00-04:00\",\"2023-06-15T00:00:00-04:00\",\"2023-06-16T00:00:00-04:00\",\"2023-06-20T00:00:00-04:00\",\"2023-06-21T00:00:00-04:00\",\"2023-06-22T00:00:00-04:00\",\"2023-06-23T00:00:00-04:00\",\"2023-06-26T00:00:00-04:00\",\"2023-06-27T00:00:00-04:00\",\"2023-06-28T00:00:00-04:00\",\"2023-06-29T00:00:00-04:00\",\"2023-06-30T00:00:00-04:00\",\"2023-07-03T00:00:00-04:00\",\"2023-07-05T00:00:00-04:00\",\"2023-07-06T00:00:00-04:00\",\"2023-07-07T00:00:00-04:00\",\"2023-07-10T00:00:00-04:00\",\"2023-07-11T00:00:00-04:00\",\"2023-07-12T00:00:00-04:00\",\"2023-07-13T00:00:00-04:00\",\"2023-07-14T00:00:00-04:00\",\"2023-07-17T00:00:00-04:00\",\"2023-07-18T00:00:00-04:00\",\"2023-07-19T00:00:00-04:00\",\"2023-07-20T00:00:00-04:00\",\"2023-07-21T00:00:00-04:00\",\"2023-07-24T00:00:00-04:00\",\"2023-07-25T00:00:00-04:00\",\"2023-07-26T00:00:00-04:00\",\"2023-07-27T00:00:00-04:00\",\"2023-07-28T00:00:00-04:00\",\"2023-07-31T00:00:00-04:00\",\"2023-08-01T00:00:00-04:00\",\"2023-08-02T00:00:00-04:00\",\"2023-08-03T00:00:00-04:00\",\"2023-08-04T00:00:00-04:00\",\"2023-08-07T00:00:00-04:00\",\"2023-08-08T00:00:00-04:00\",\"2023-08-09T00:00:00-04:00\",\"2023-08-10T00:00:00-04:00\",\"2023-08-11T00:00:00-04:00\",\"2023-08-14T00:00:00-04:00\",\"2023-08-15T00:00:00-04:00\",\"2023-08-16T00:00:00-04:00\",\"2023-08-17T00:00:00-04:00\",\"2023-08-18T00:00:00-04:00\",\"2023-08-21T00:00:00-04:00\",\"2023-08-22T00:00:00-04:00\",\"2023-08-23T00:00:00-04:00\",\"2023-08-24T00:00:00-04:00\",\"2023-08-25T00:00:00-04:00\",\"2023-08-28T00:00:00-04:00\",\"2023-08-29T00:00:00-04:00\",\"2023-08-30T00:00:00-04:00\",\"2023-08-31T00:00:00-04:00\",\"2023-09-01T00:00:00-04:00\",\"2023-09-05T00:00:00-04:00\",\"2023-09-06T00:00:00-04:00\",\"2023-09-07T00:00:00-04:00\",\"2023-09-08T00:00:00-04:00\",\"2023-09-11T00:00:00-04:00\",\"2023-09-12T00:00:00-04:00\",\"2023-09-13T00:00:00-04:00\",\"2023-09-14T00:00:00-04:00\",\"2023-09-15T00:00:00-04:00\",\"2023-09-18T00:00:00-04:00\",\"2023-09-19T00:00:00-04:00\",\"2023-09-20T00:00:00-04:00\",\"2023-09-21T00:00:00-04:00\",\"2023-09-22T00:00:00-04:00\",\"2023-09-25T00:00:00-04:00\",\"2023-09-26T00:00:00-04:00\",\"2023-09-27T00:00:00-04:00\",\"2023-09-28T00:00:00-04:00\",\"2023-09-29T00:00:00-04:00\",\"2023-10-02T00:00:00-04:00\",\"2023-10-03T00:00:00-04:00\",\"2023-10-04T00:00:00-04:00\",\"2023-10-05T00:00:00-04:00\",\"2023-10-06T00:00:00-04:00\",\"2023-10-09T00:00:00-04:00\",\"2023-10-10T00:00:00-04:00\",\"2023-10-11T00:00:00-04:00\",\"2023-10-12T00:00:00-04:00\",\"2023-10-13T00:00:00-04:00\",\"2023-10-16T00:00:00-04:00\",\"2023-10-17T00:00:00-04:00\",\"2023-10-18T00:00:00-04:00\",\"2023-10-19T00:00:00-04:00\",\"2023-10-20T00:00:00-04:00\",\"2023-10-23T00:00:00-04:00\",\"2023-10-24T00:00:00-04:00\",\"2023-10-25T00:00:00-04:00\",\"2023-10-26T00:00:00-04:00\",\"2023-10-27T00:00:00-04:00\",\"2023-10-30T00:00:00-04:00\",\"2023-10-31T00:00:00-04:00\",\"2023-11-01T00:00:00-04:00\",\"2023-11-02T00:00:00-04:00\",\"2023-11-03T00:00:00-04:00\",\"2023-11-06T00:00:00-05:00\",\"2023-11-07T00:00:00-05:00\",\"2023-11-08T00:00:00-05:00\",\"2023-11-09T00:00:00-05:00\",\"2023-11-10T00:00:00-05:00\",\"2023-11-13T00:00:00-05:00\",\"2023-11-14T00:00:00-05:00\",\"2023-11-15T00:00:00-05:00\",\"2023-11-16T00:00:00-05:00\",\"2023-11-17T00:00:00-05:00\",\"2023-11-20T00:00:00-05:00\",\"2023-11-21T00:00:00-05:00\",\"2023-11-22T00:00:00-05:00\",\"2023-11-24T00:00:00-05:00\",\"2023-11-27T00:00:00-05:00\",\"2023-11-28T00:00:00-05:00\",\"2023-11-29T00:00:00-05:00\",\"2023-11-30T00:00:00-05:00\",\"2023-12-01T00:00:00-05:00\",\"2023-12-04T00:00:00-05:00\",\"2023-12-05T00:00:00-05:00\",\"2023-12-06T00:00:00-05:00\",\"2023-12-07T00:00:00-05:00\",\"2023-12-08T00:00:00-05:00\",\"2023-12-11T00:00:00-05:00\",\"2023-12-12T00:00:00-05:00\",\"2023-12-13T00:00:00-05:00\",\"2023-12-14T00:00:00-05:00\",\"2023-12-15T00:00:00-05:00\",\"2023-12-18T00:00:00-05:00\",\"2023-12-19T00:00:00-05:00\",\"2023-12-20T00:00:00-05:00\",\"2023-12-21T00:00:00-05:00\",\"2023-12-22T00:00:00-05:00\",\"2023-12-26T00:00:00-05:00\",\"2023-12-27T00:00:00-05:00\",\"2023-12-28T00:00:00-05:00\",\"2023-12-29T00:00:00-05:00\",\"2024-01-02T00:00:00-05:00\",\"2024-01-03T00:00:00-05:00\",\"2024-01-04T00:00:00-05:00\",\"2024-01-05T00:00:00-05:00\",\"2024-01-08T00:00:00-05:00\",\"2024-01-09T00:00:00-05:00\",\"2024-01-10T00:00:00-05:00\",\"2024-01-11T00:00:00-05:00\",\"2024-01-12T00:00:00-05:00\",\"2024-01-16T00:00:00-05:00\",\"2024-01-17T00:00:00-05:00\",\"2024-01-18T00:00:00-05:00\",\"2024-01-19T00:00:00-05:00\",\"2024-01-22T00:00:00-05:00\",\"2024-01-23T00:00:00-05:00\",\"2024-01-24T00:00:00-05:00\",\"2024-01-25T00:00:00-05:00\",\"2024-01-26T00:00:00-05:00\",\"2024-01-29T00:00:00-05:00\",\"2024-01-30T00:00:00-05:00\",\"2024-01-31T00:00:00-05:00\",\"2024-02-01T00:00:00-05:00\",\"2024-02-02T00:00:00-05:00\",\"2024-02-05T00:00:00-05:00\",\"2024-02-06T00:00:00-05:00\",\"2024-02-07T00:00:00-05:00\",\"2024-02-08T00:00:00-05:00\",\"2024-02-09T00:00:00-05:00\",\"2024-02-12T00:00:00-05:00\",\"2024-02-13T00:00:00-05:00\",\"2024-02-14T00:00:00-05:00\",\"2024-02-15T00:00:00-05:00\",\"2024-02-16T00:00:00-05:00\",\"2024-02-20T00:00:00-05:00\",\"2024-02-21T00:00:00-05:00\",\"2024-02-22T00:00:00-05:00\",\"2024-02-23T00:00:00-05:00\",\"2024-02-26T00:00:00-05:00\",\"2024-02-27T00:00:00-05:00\",\"2024-02-28T00:00:00-05:00\",\"2024-02-29T00:00:00-05:00\",\"2024-03-01T00:00:00-05:00\",\"2024-03-04T00:00:00-05:00\",\"2024-03-05T00:00:00-05:00\",\"2024-03-06T00:00:00-05:00\",\"2024-03-07T00:00:00-05:00\",\"2024-03-08T00:00:00-05:00\",\"2024-03-11T00:00:00-04:00\",\"2024-03-12T00:00:00-04:00\",\"2024-03-13T00:00:00-04:00\",\"2024-03-14T00:00:00-04:00\",\"2024-03-15T00:00:00-04:00\",\"2024-03-18T00:00:00-04:00\",\"2024-03-19T00:00:00-04:00\",\"2024-03-20T00:00:00-04:00\",\"2024-03-21T00:00:00-04:00\",\"2024-03-22T00:00:00-04:00\",\"2024-03-25T00:00:00-04:00\",\"2024-03-26T00:00:00-04:00\",\"2024-03-27T00:00:00-04:00\",\"2024-03-28T00:00:00-04:00\",\"2024-04-01T00:00:00-04:00\",\"2024-04-02T00:00:00-04:00\",\"2024-04-03T00:00:00-04:00\",\"2024-04-04T00:00:00-04:00\",\"2024-04-05T00:00:00-04:00\",\"2024-04-08T00:00:00-04:00\",\"2024-04-09T00:00:00-04:00\",\"2024-04-10T00:00:00-04:00\",\"2024-04-11T00:00:00-04:00\",\"2024-04-12T00:00:00-04:00\",\"2024-04-15T00:00:00-04:00\",\"2024-04-16T00:00:00-04:00\",\"2024-04-17T00:00:00-04:00\",\"2024-04-18T00:00:00-04:00\",\"2024-04-19T00:00:00-04:00\",\"2024-04-22T00:00:00-04:00\",\"2024-04-23T00:00:00-04:00\",\"2024-04-24T00:00:00-04:00\",\"2024-04-25T00:00:00-04:00\",\"2024-04-26T00:00:00-04:00\",\"2024-04-29T00:00:00-04:00\",\"2024-04-30T00:00:00-04:00\",\"2024-05-01T00:00:00-04:00\",\"2024-05-02T00:00:00-04:00\",\"2024-05-03T00:00:00-04:00\",\"2024-05-06T00:00:00-04:00\",\"2024-05-07T00:00:00-04:00\",\"2024-05-08T00:00:00-04:00\",\"2024-05-09T00:00:00-04:00\",\"2024-05-10T00:00:00-04:00\",\"2024-05-13T00:00:00-04:00\",\"2024-05-14T00:00:00-04:00\",\"2024-05-15T00:00:00-04:00\",\"2024-05-16T00:00:00-04:00\",\"2024-05-17T00:00:00-04:00\",\"2024-05-20T00:00:00-04:00\",\"2024-05-21T00:00:00-04:00\",\"2024-05-22T00:00:00-04:00\",\"2024-05-23T00:00:00-04:00\",\"2024-05-24T00:00:00-04:00\",\"2024-05-28T00:00:00-04:00\",\"2024-05-29T00:00:00-04:00\",\"2024-05-30T00:00:00-04:00\",\"2024-05-31T00:00:00-04:00\",\"2024-06-03T00:00:00-04:00\",\"2024-06-04T00:00:00-04:00\",\"2024-06-05T00:00:00-04:00\",\"2024-06-06T00:00:00-04:00\",\"2024-06-07T00:00:00-04:00\",\"2024-06-10T00:00:00-04:00\",\"2024-06-11T00:00:00-04:00\",\"2024-06-12T00:00:00-04:00\",\"2024-06-13T00:00:00-04:00\",\"2024-06-14T00:00:00-04:00\",\"2024-06-17T00:00:00-04:00\",\"2024-06-18T00:00:00-04:00\",\"2024-06-20T00:00:00-04:00\",\"2024-06-21T00:00:00-04:00\",\"2024-06-24T00:00:00-04:00\",\"2024-06-25T00:00:00-04:00\",\"2024-06-26T00:00:00-04:00\",\"2024-06-27T00:00:00-04:00\",\"2024-06-28T00:00:00-04:00\",\"2024-07-01T00:00:00-04:00\",\"2024-07-02T00:00:00-04:00\",\"2024-07-03T00:00:00-04:00\",\"2024-07-05T00:00:00-04:00\",\"2024-07-08T00:00:00-04:00\",\"2024-07-09T00:00:00-04:00\",\"2024-07-10T00:00:00-04:00\",\"2024-07-11T00:00:00-04:00\",\"2024-07-12T00:00:00-04:00\",\"2024-07-15T00:00:00-04:00\",\"2024-07-16T00:00:00-04:00\",\"2024-07-17T00:00:00-04:00\",\"2024-07-18T00:00:00-04:00\",\"2024-07-19T00:00:00-04:00\",\"2024-07-22T00:00:00-04:00\",\"2024-07-23T00:00:00-04:00\",\"2024-07-24T00:00:00-04:00\",\"2024-07-25T00:00:00-04:00\",\"2024-07-26T00:00:00-04:00\",\"2024-07-29T00:00:00-04:00\",\"2024-07-30T00:00:00-04:00\",\"2024-07-31T00:00:00-04:00\",\"2024-08-01T00:00:00-04:00\",\"2024-08-02T00:00:00-04:00\",\"2024-08-05T00:00:00-04:00\",\"2024-08-06T00:00:00-04:00\",\"2024-08-07T00:00:00-04:00\",\"2024-08-08T00:00:00-04:00\",\"2024-08-09T00:00:00-04:00\",\"2024-08-12T00:00:00-04:00\",\"2024-08-13T00:00:00-04:00\",\"2024-08-14T00:00:00-04:00\",\"2024-08-15T00:00:00-04:00\",\"2024-08-16T00:00:00-04:00\",\"2024-08-19T00:00:00-04:00\",\"2024-08-20T00:00:00-04:00\",\"2024-08-21T00:00:00-04:00\",\"2024-08-22T00:00:00-04:00\",\"2024-08-23T00:00:00-04:00\",\"2024-08-26T00:00:00-04:00\",\"2024-08-27T00:00:00-04:00\",\"2024-08-28T00:00:00-04:00\",\"2024-08-29T00:00:00-04:00\",\"2024-08-30T00:00:00-04:00\",\"2024-09-03T00:00:00-04:00\",\"2024-09-04T00:00:00-04:00\",\"2024-09-05T00:00:00-04:00\",\"2024-09-06T00:00:00-04:00\",\"2024-09-09T00:00:00-04:00\",\"2024-09-10T00:00:00-04:00\",\"2024-09-11T00:00:00-04:00\",\"2024-09-12T00:00:00-04:00\",\"2024-09-13T00:00:00-04:00\",\"2024-09-16T00:00:00-04:00\",\"2024-09-17T00:00:00-04:00\",\"2024-09-18T00:00:00-04:00\",\"2024-09-19T00:00:00-04:00\",\"2024-09-20T00:00:00-04:00\",\"2024-09-23T00:00:00-04:00\",\"2024-09-24T00:00:00-04:00\",\"2024-09-25T00:00:00-04:00\",\"2024-09-26T00:00:00-04:00\",\"2024-09-27T00:00:00-04:00\",\"2024-09-30T00:00:00-04:00\",\"2024-10-01T00:00:00-04:00\",\"2024-10-02T00:00:00-04:00\",\"2024-10-03T00:00:00-04:00\",\"2024-10-04T00:00:00-04:00\",\"2024-10-07T00:00:00-04:00\",\"2024-10-08T00:00:00-04:00\",\"2024-10-09T00:00:00-04:00\",\"2024-10-10T00:00:00-04:00\",\"2024-10-11T00:00:00-04:00\",\"2024-10-14T00:00:00-04:00\",\"2024-10-15T00:00:00-04:00\",\"2024-10-16T00:00:00-04:00\",\"2024-10-17T00:00:00-04:00\",\"2024-10-18T00:00:00-04:00\",\"2024-10-21T00:00:00-04:00\",\"2024-10-22T00:00:00-04:00\",\"2024-10-23T00:00:00-04:00\",\"2024-10-24T00:00:00-04:00\",\"2024-10-25T00:00:00-04:00\",\"2024-10-28T00:00:00-04:00\",\"2024-10-29T00:00:00-04:00\",\"2024-10-30T00:00:00-04:00\",\"2024-10-31T00:00:00-04:00\",\"2024-11-01T00:00:00-04:00\",\"2024-11-04T00:00:00-05:00\",\"2024-11-05T00:00:00-05:00\",\"2024-11-06T00:00:00-05:00\",\"2024-11-07T00:00:00-05:00\",\"2024-11-08T00:00:00-05:00\",\"2024-11-11T00:00:00-05:00\",\"2024-11-12T00:00:00-05:00\",\"2024-11-13T00:00:00-05:00\",\"2024-11-14T00:00:00-05:00\",\"2024-11-15T00:00:00-05:00\",\"2024-11-18T00:00:00-05:00\",\"2024-11-19T00:00:00-05:00\",\"2024-11-20T00:00:00-05:00\",\"2024-11-21T00:00:00-05:00\",\"2024-11-22T00:00:00-05:00\",\"2024-11-25T00:00:00-05:00\",\"2024-11-26T00:00:00-05:00\",\"2024-11-27T00:00:00-05:00\",\"2024-11-29T00:00:00-05:00\",\"2024-12-02T00:00:00-05:00\",\"2024-12-03T00:00:00-05:00\",\"2024-12-04T00:00:00-05:00\",\"2024-12-05T00:00:00-05:00\",\"2024-12-06T00:00:00-05:00\",\"2024-12-09T00:00:00-05:00\",\"2024-12-10T00:00:00-05:00\",\"2024-12-11T00:00:00-05:00\",\"2024-12-12T00:00:00-05:00\",\"2024-12-13T00:00:00-05:00\",\"2024-12-16T00:00:00-05:00\",\"2024-12-17T00:00:00-05:00\",\"2024-12-18T00:00:00-05:00\",\"2024-12-19T00:00:00-05:00\",\"2024-12-20T00:00:00-05:00\"],\"xaxis\":\"x\",\"y\":[38.08452224731445,33.9005012512207,30.882034301757812,31.87822723388672,32.90430450439453,31.7885684967041,28.73025131225586,28.082727432250977,29.48736000061035,27.61451530456543,26.79763412475586,25.771554946899414,26.707977294921875,26.20987892150879,26.99687385559082,26.907217025756836,27.295732498168945,27.166227340698242,28.18234634399414,29.89579963684082,31.29047203063965,31.7885684967041,31.47974967956543,31.718835830688477,32.924232482910156,31.93800163269043,32.97404479980469,32.10734939575195,31.240663528442383,30.981651306152344,30.652908325195312,31.08127212524414,31.350244522094727,31.6092529296875,32.047576904296875,31.350244522094727,30.85214614868164,30.69275665283203,30.60309600830078,28.142498016357422,27.98310661315918,28.999225616455078,28.8896427154541,28.650556564331055,28.640594482421875,28.34173583984375,29.228349685668945,26.747825622558594,23.61977195739746,23.061904907226562,21.627384185791016,20.8005428314209,19.963741302490234,21.00974464416504,21.836584091186523,20.641151428222656,20.641151428222656,20.930049896240234,21.72700309753418,21.517805099487305,20.302444458007812,21.119327545166016,19.794387817382812,18.977506637573242,19.933856964111328,19.08708953857422,19.36602210998535,19.36602210998535,19.336137771606445,19.077125549316406,19.26640510559082,19.02731704711914,19.017353057861328,17.991273880004883,17.66253089904785,18.509296417236328,18.887849807739258,18.907773971557617,18.738420486450195,19.356063842773438,20.850353240966797,20.631189346313477,21.916282653808594,21.438106536865234,21.78677749633789,23.201374053955078,22.5040340423584,22.773008346557617,20.710887908935547,20.20282554626465,20.541534423828125,20.24267578125,21.57757568359375,21.90631866455078,22.185256958007812,21.74692726135254,21.866472244262695,20.830427169799805,20.322368621826172,20.153017044067383,19.565261840820312,19.674842834472656,19.445720672607422,19.445720672607422,19.40587043762207,19.80434799194336,18.907773971557617,18.927696228027344,19.24648094177246,19.42579460144043,23.141599655151367,22.474149703979492,21.856510162353516,21.02967071533203,21.12928581237793,21.099401473999023,21.16913604736328,21.089439392089844,20.39210319519043,19.913930892944336,19.136898040771484,19.993623733520508,19.784425735473633,22.274913787841797,22.085634231567383,23.47034454345703,22.832780838012695,23.012096405029297,24.22745132446289,23.90867042541504,25.841289520263672,26.050487518310547,26.25969123840332,27.21603775024414,27.893447875976562,26.937103271484375,27.35550308227539,27.604551315307617,26.867366790771484,27.38538932800293,27.73405647277832,27.873525619506836,27.475046157836914,28.132535934448242,26.707977294921875,26.648204803466797,27.604551315307617,27.305696487426758,27.25588607788086,26.160070419311523,26.8275203704834,26.409120559692383,25.95086669921875,25.8114013671875,26.518701553344727,27.893447875976562,27.664323806762695,28.650556564331055,29.30804443359375,28.94941520690918,30.47359275817871,31.180889129638672,31.59929084777832,30.832223892211914,29.985456466674805,29.73641014099121,30.02530288696289,29.547134399414062,30.61305809020996,30.702720642089844,30.961729049682617,31.419979095458984,32.34644317626953,30.672832489013672,31.121118545532227,30.86210823059082,29.616865158081055,28.00303077697754,28.53101348876953,28.939453125,28.54097557067871,28.441356658935547,28.15245819091797,27.265846252441406,27.803791046142578,28.39154815673828,28.212230682373047,28.819910049438477,28.35169792175293,27.17618751525879,27.026758193969727,27.166227340698242,27.285770416259766,26.767751693725586,27.146303176879883,27.674283981323242,27.61451530456543,27.41527557373047,27.345544815063477,28.471240997314453,27.853601455688477,28.032917022705078,27.724096298217773,26.97694969177246,26.937103271484375,26.548585891723633,26.38919448852539,26.448965072631836,25.761594772338867,25.642047882080078,25.63208770751953,25.03437042236328,25.114063262939453,25.9907169342041,25.482656478881836,25.43284797668457,25.323265075683594,26.150110244750977,26.96698760986328,27.285770416259766,26.747825622558594,26.488813400268555,27.465084075927734,27.913373947143555,27.295732498168945,26.41908073425293,26.81756019592285,26.52865982055664,25.592239379882812,25.63208770751953,25.871171951293945,25.881135940551758,26.01064109802246,26.040525436401367,26.747825622558594,26.877330780029297,27.664323806762695,27.325618743896484,28.859756469726562,28.202266693115234,27.465084075927734,26.78767204284668,27.01679801940918,26.937103271484375,26.57847023010254,26.717939376831055,26.96698760986328,26.498777389526367,26.030563354492188,26.150110244750977,25.66197395324707,25.562355041503906,25.064254760742188,24.964637756347656,24.217491149902344,24.008291244506836,23.231258392333984,24.45657730102539,24.257339477539062,23.759241104125977,23.430498123168945,22.812854766845703,22.88258934020996,23.201374053955078,24.23741340637207,23.93855857849121,23.679546356201172,23.639698028564453,23.54007911682129,23.9285945892334,24.11787223815918,24.217491149902344,23.809051513671875,24.436655044555664,23.848901748657227,24.157718658447266,24.06805992126465,24.566160202026367,24.785322189331055,24.715587615966797,24.317110061645508,24.426694869995117,24.27726173400879,24.615966796875,25.38303565979004,25.701820373535156,25.711782455444336,25.8114013671875,26.179994583129883,26.21984100341797,26.548585891723633,26.08037567138672,25.78151512145996,25.95086669921875,26.030563354492188,26.409120559692383,34.229248046875,33.88057327270508,35.29517364501953,37.48680114746094,36.65996170043945,37.34733581542969,37.905208587646484,39.04086685180664,38.40330123901367,38.72208023071289,38.39334487915039,38.353492736816406,38.07455825805664,36.87912368774414,36.51053237915039,36.42087936401367,36.938899993896484,37.666114807128906,38.26383590698242,38.17417907714844,38.40330123901367,40.395694732666016,41.18268585205078,39.48915100097656,40.395694732666016,41.1229133605957,41.13287353515625,41.71066665649414,41.621009826660156,42.49766159057617,43.78275680541992,43.87240982055664,43.43408203125,44.86860656738281,44.579708099365234,44.14138412475586,42.34822463989258,44.898494720458984,45.05788040161133,45.80502700805664,47.30928421020508,47.01042556762695,48.265628814697266,49.271785736083984,50.198246002197266,51.04501724243164,50.03885269165039,50.228126525878906,50.08866500854492,48.99285125732422,50.84577178955078,50.327754974365234,46.96061325073242,46.59202194213867,48.863346099853516,48.92311477661133,49.32159423828125,49.3116340637207,50.94539260864258,52.01131820678711,54.013668060302734,53.645076751708984,52.47953414916992,51.7025032043457,52.25040817260742,51.75231170654297,50.03885269165039,49.21201705932617,48.82349395751953,50.0189323425293,49.5606803894043,48.036502838134766,49.9193115234375,48.93307876586914,47.37901306152344,47.3491325378418,46.024192810058594,46.4326286315918,48.524635314941406,48.80357360839844,48.82349395751953,45.655601501464844,46.1835823059082,46.25331497192383,46.52228927612305,46.0540771484375,44.64944076538086,45.71536636352539,46.313087463378906,46.83110427856445,46.880916595458984,46.55217361450195,48.43498229980469,48.15604782104492,47.757568359375,48.654144287109375,50.058780670166016,49.19208908081055,51.63277053833008,53.11709213256836,53.60523223876953,54.65123748779297,55.35853576660156,54.840511322021484,54.910247802734375,57.55016326904297,57.739437103271484,57.51031494140625,55.22903060913086,53.505611419677734,54.44203567504883,54.50180435180664,54.35237503051758,56.98233413696289,57.699588775634766,58.0084114074707,57.00225830078125,57.719512939453125,55.69723892211914,57.52027893066406,57.38080596923828,56.97236633300781,56.08575439453125,58.2873420715332,57.2911491394043,56.41450119018555,54.242801666259766,53.34621810913086,54.93016815185547,53.3262939453125,60.84756851196289,62.33189392089844,61.24604034423828,62.511207580566406,61.95334243774414,61.923458099365234,64.07523345947266,63.30816650390625,64.60321807861328,64.20474243164062,67.07378387451172,66.8346939086914,67.04389953613281,67.8010025024414,69.36502838134766,68.3289794921875,70.51065063476562,69.58419036865234,68.9964370727539,68.67765045166016,68.19947814941406,67.15348815917969,68.53819274902344,71.29764556884766,70.57041931152344,69.53437805175781,71.75590515136719,69.83323669433594,70.61026763916016,68.56807708740234,67.46229553222656,68.47840881347656,68.92671203613281,67.9803237915039,66.71515655517578,66.98412322998047,63.85607147216797,64.64307403564453,60.160194396972656,60.73798751831055,59.781639099121094,60.01076126098633,62.3817024230957,62.481327056884766,59.26361846923828,56.5340461730957,56.7332878112793,57.968563079833984,62.172508239746094,58.934871673583984,58.30727005004883,58.66590118408203,58.865135192871094,59.49274444580078,58.71570587158203,61.0069580078125,62.79014587402344,61.12649917602539,60.63835906982422,57.49039077758789,55.92636489868164,57.928714752197266,59.552513122558594,60.91730499267578,60.22992706298828,60.98703384399414,58.30727005004883,57.171607971191406,56.544002532958984,57.022178649902344,59.602325439453125,59.602325439453125,59.004608154296875,57.699588775634766,57.7992057800293,58.98468017578125,58.337158203125,60.25981521606445,60.289695739746094,61.116539001464844,63.238433837890625,63.26831817626953,63.58710479736328,63.059120178222656,62.83995819091797,62.63075256347656,63.09896469116211,62.94953155517578,62.26216125488281,62.64072036743164,65.51970672607422,65.52967834472656,64.04534912109375,64.25455474853516,63.94573211669922,64.15493774414062,65.3503646850586,64.09515380859375,64.25455474853516,65.1212387084961,65.46990966796875,67.1833724975586,66.87454223632812,67.3427505493164,67.03392791748047,67.8010025024414,66.19712829589844,66.0377426147461,65.04154968261719,62.521175384521484,64.72277069091797,64.62313842773438,66.08753967285156,67.64161682128906,66.91439056396484,67.40252685546875,66.15728759765625,68.15962982177734,69.13591003417969,69.00639343261719,71.01871490478516,74.69467163085938,74.90387725830078,74.63489532470703,73.42949676513672,74.39581298828125,72.37353515625,72.08464050292969,73.23026275634766,72.41338348388672,72.19422149658203,72.89155578613281,72.78197479248047,73.16053771972656,72.55284881591797,73.48927307128906,74.01725769042969,73.34980010986328,74.30615234375,75.00348663330078,74.52531433105469,74.28622436523438,74.28622436523438,74.73451232910156,75.67094421386719,74.34600830078125,73.57894134521484,74.5352783203125,76.38819885253906,75.54143524169922,75.66097259521484,76.96599578857422,77.5936050415039,76.37824249267578,77.13534545898438,77.62348175048828,77.18516540527344,74.29619598388672,75.79048156738281,76.13915252685547,76.70698547363281,77.613525390625,76.50774383544922,77.99208068847656,78.24112701416016,76.9261474609375,78.49018096923828,78.69937133789062,78.73921203613281,76.25869750976562,76.78668975830078,77.14531707763672,77.26485443115234,75.99968719482422,77.22500610351562,75.62113952636719,72.63255310058594,72.71223449707031,73.3099594116211,72.93141174316406,72.35360717773438,75.66097259521484,76.65718078613281,78.39055633544922,78.07176971435547,79.73542785644531,80.3630142211914,79.97449493408203,80.46263122558594,75.57131958007812,73.8279800415039,74.70463562011719,73.5988540649414,75.47171020507812,74.54524993896484,74.97360229492188,75.31231689453125,74.714599609375,74.3260726928711,74.43566131591797,73.96744537353516,74.59505462646484,73.95748138427734,74.0571060180664,73.05094909667969,73.3199234008789,73.46935272216797,73.7283706665039,75.34219360351562,77.32463073730469,77.40431213378906,74.814208984375,75.17283630371094,74.59505462646484,74.95368194580078,76.06941223144531,76.22879791259766,76.54759216308594,75.89009857177734,77.43421173095703,77.53382110595703,76.697021484375,74.40577697753906,75.82037353515625,78.10165405273438,79.57601928710938,81.14005279541016,80.30325317382812,80.46263122558594,80.47260284423828,79.71548461914062,78.91853332519531,77.72309875488281,78.15145874023438,76.8962631225586,75.86021423339844,75.86021423339844,77.88249206542969,77.44416046142578,76.42804718017578,76.15907287597656,75.9897232055664,73.7682113647461,74.89390563964844,75.94987487792969,76.4479751586914,77.3545150756836,77.53382110595703,77.205078125,75.49162292480469,75.94987487792969,77.70317840576172,75.62113952636719,74.70463562011719,75.11308288574219,75.34219360351562,75.32228088378906,74.18661499023438,74.15672302246094,74.90387725830078,76.21885681152344,75.9399185180664,75.4517822265625,75.31231689453125,76.4180908203125,79.1177749633789,79.595947265625,78.53997039794922,78.15145874023438,79.25724029541016,80.10401153564453,78.66948699951172,79.44651794433594,79.2970962524414,80.59214782714844,80.90096282958984,79.70553588867188,79.13770294189453,77.25489807128906,77.27481079101562,78.62964630126953,77.75299835205078,77.77291107177734,79.0580062866211,80.60211181640625,82.43509674072266,83.48110961914062,84.10871124267578,84.98535919189453,82.60445404052734,82.6941146850586,82.98301696777344,82.88339233398438,81.90711975097656,81.35920715332031,81.24962615966797,82.12628936767578,82.00674438476562,81.9668960571289,81.85730743408203,81.7278060913086,82.6941146850586,83.2021713256836,82.39524841308594,81.99678039550781,80.47260284423828,82.7738037109375,83.30179595947266,84.30795288085938,82.09640502929688,81.21974182128906,81.59830474853516,80.37298583984375,80.16378021240234,78.47024536132812,78.68940734863281,78.51008605957031,77.26485443115234,77.80278778076172,78.13154602050781,78.21123504638672,77.71314239501953,77.16522979736328,78.14151000976562,81.06035614013672,80.11396026611328,80.57221984863281,80.32316589355469,80.24347686767578,80.17374420166016,80.2335205078125,79.02812194824219,80.24347686767578,79.8449935913086,78.88865661621094,79.98446655273438,80.13389587402344,82.12628936767578,81.7377700805664,81.82742309570312,80.3630142211914,80.3630142211914,81.84735107421875,81.51860046386719,81.21974182128906,80.40287017822266,80.75153350830078,81.478759765625,82.59449005126953,82.1960220336914,84.41752624511719,87.54557037353516,88.5218505859375,87.64521026611328,87.67508697509766,85.47349548339844,85.443603515625,86.57927703857422,86.95783233642578,87.21683502197266,86.88809204101562,85.3240737915039,85.55319213867188,87.61531066894531,89.75713348388672,89.33873748779297,89.41842651367188,90.50428009033203,94.60859680175781,97.53742218017578,98.01557922363281,96.67073059082031,95.07681274414062,96.5810546875,93.8116455078125,94.9273910522461,96.62091064453125,94.84768676757812,93.65225982666016,93.78175354003906,93.70205688476562,96.07300567626953,94.75802612304688,93.94114685058594,93.7917251586914,93.26374053955078,93.8315658569336,93.074462890625,94.06069946289062,93.57256317138672,94.80783081054688,94.94730377197266,90.21537017822266,85.73250579833984,81.7776107788086,82.68415069580078,86.85820770263672,89.3885498046875,90.6636734008789,89.08968353271484,86.89806365966797,89.54792785644531,87.81455993652344,87.92414093017578,89.18930053710938,90.09584045410156,91.62997436523438,91.69972229003906,91.95870971679688,92.5464859008789,93.09437561035156,93.98100280761719,94.040771484375,95.1864013671875,92.60624694824219,93.61241149902344,94.05073547363281,92.41697692871094,88.87052917480469,86.34017944335938,89.55789947509766,90.60389709472656,91.71964263916016,93.65225982666016,92.44686126708984,92.04838562011719,92.11811065673828,92.88518524169922,93.90129852294922,93.76183319091797,93.71202087402344,95.59484100341797,97.1688232421875,98.09528350830078,96.63087463378906,96.74044799804688,99.29071807861328,101.80113220214844,103.37511444091797,103.30537414550781,103.803466796875,104.48088836669922,101.58197021484375,102.91686248779297,102.18964385986328,103.54447174072266,108.34613037109375,106.69243621826172,106.08475494384766,107.49935913085938,108.59516906738281,107.60894012451172,103.55442810058594,103.64408111572266,104.72993469238281,107.3598861694336,105.85564422607422,106.91161346435547,106.54301452636719,105.33761596679688,105.00887298583984,105.04871368408203,103.84331512451172,106.7123794555664,105.6663589477539,103.9827880859375,105.77594757080078,105.2081069946289,106.08475494384766,104.20195007324219,105.01882934570312,101.73139190673828,104.26173400878906,104.15214538574219,106.38362121582031,105.8157958984375,103.64408111572266,104.37129974365234,105.10848999023438,104.23184204101562,104.62035369873047,105.52689361572266,106.8518295288086,105.8157958984375,104.26173400878906,101.83100891113281,102.33907318115234,102.57816314697266,97.54737854003906,96.95962524414062,97.13894653320312,98.99185180664062,95.07681274414062,97.99566650390625,94.60859680175781,94.89750671386719,93.99095916748047,93.80168914794922,97.56730651855469,96.64083862304688,96.9695816040039,94.090576171875,108.69479370117188,111.78299713134766,114.65203094482422,114.17387390136719,112.26117706298828,110.06954193115234,103.67396545410156,99.37041473388672,99.16121673583984,100.61565399169922,101.52220153808594,101.62181854248047,101.22334289550781,104.79967498779297,103.07624816894531,104.17206573486328,106.7522201538086,105.05867767333984,106.47327423095703,107.65874481201172,107.50932312011719,106.51311492919922,109.40209197998047,109.5315933227539,109.16300201416016,107.97753143310547,105.32766723632812,105.52689361572266,107.10089111328125,106.91161346435547,108.99365234375,109.4718246459961,110.24885559082031,111.75310516357422,110.59751892089844,111.02588653564453,111.42436218261719,111.8228530883789,112.11173248291016,112.61980438232422,113.25736999511719,115.69804382324219,114.26351928710938,113.66580200195312,115.61833953857422,112.1217041015625,111.79296112060547,113.27729034423828,113.20755004882812,110.20899963378906,108.57524871826172,110.1890869140625,110.08946990966797,110.41820526123047,109.22278594970703,110.0296859741211,111.86270141601562,111.99219512939453,113.00830841064453,110.13926696777344,109.68102264404297,108.34613037109375,108.47563171386719,116.28580474853516,117.132568359375,118.11878967285156,116.98313903808594,117.61073303222656,117.36167907714844,119.03529357910156,118.78623962402344,120.04144287109375,119.06517028808594,119.8222885131836,119.35407257080078,118.21841430664062,116.90343475341797,117.2022933959961,116.36549377441406,116.90343475341797,115.5286865234375,117.25210571289062,117.4413833618164,119.01536560058594,118.92571258544922,118.35787963867188,118.32798767089844,118.4774169921875,118.01918029785156,118.33795928955078,117.31188201904297,117.9394760131836,118.10883331298828,116.17621612548828,113.51637268066406,114.50260925292969,114.16390228271484,113.95470428466797,112.58991241455078,112.93859100341797,113.94473266601562,113.47652435302734,114.64208221435547,111.65349578857422,108.5553207397461,112.27112579345703,113.72557830810547,113.8451156616211,113.75546264648438,113.76542663574219,116.25590515136719,115.40914916992188,116.79385375976562,117.42145538330078,117.48123168945312,116.33560180664062,116.84366607666016,116.4153060913086,118.91575622558594,120.15103149414062,121.45603942871094,120.15103149414062,120.53954315185547,121.16715240478516,120.75870513916016,122.87063598632812,124.52432250976562,123.4683609008789,123.83695220947266,122.62158966064453,122.0438003540039,123.88676452636719,124.67375946044922,124.78334045410156,124.58409881591797,124.40477752685547,124.4247055053711,124.40477752685547,123.42850494384766,122.83080291748047,123.89672088623047,123.4384765625,123.08980560302734,123.67756652832031,123.89672088623047,123.01011657714844,123.41854858398438,124.4844741821289,126.05846405029297,125.36112213134766,125.64006805419922,125.68987274169922,126.02857208251953,129.236328125,130.55130004882812,129.77427673339844,126.6163330078125,128.20028686523438,126.72591400146484,127.28377532958984,127.8615951538086,128.57884216308594,128.16043090820312,128.1504669189453,129.44554138183594,129.58499145507812,127.47306060791016,126.8255386352539,128.20028686523438,128.73822021484375,127.60255432128906,127.7818832397461,128.2799835205078,127.70218658447266,127.98113250732422,128.25010681152344,128.4991455078125,129.74440002441406,128.3895721435547,128.5589141845703,127.33358764648438,127.39337158203125,127.0546646118164,128.08074951171875,129.61488342285156,129.50527954101562,131.5674285888672,132.77281188964844,131.7865753173828,130.54132080078125,129.1964874267578,130.79039001464844,130.49154663085938,129.0072021484375,126.68607330322266,119.54335021972656,120.2905044555664,121.68516540527344,123.74729919433594,122.71125030517578,120.34031677246094,118.56707763671875,114.64208221435547,116.7540054321289,115.89727783203125,117.34176635742188,116.5746841430664,121.30661010742188,121.00775909423828,120.3801498413086,119.92190551757812,119.95179748535156,120.41004180908203,117.9693603515625,114.66200256347656,114.96085357666016,116.98313903808594,116.86357879638672,117.50115203857422,118.45750427246094,119.22457122802734,117.32183837890625,119.8521728515625,119.75255584716797,120.1111831665039,119.41384887695312,118.78623962402344,118.63681030273438,118.5870132446289,116.95325469970703,116.82373809814453,117.56092071533203,116.47506713867188,115.90724182128906,114.61219024658203,116.4153060913086,118.23834228515625,120.21080017089844,122.94037628173828,124.4247055053711,123.87680053710938,125.61017608642578,126.13816833496094,127.85161590576172,127.38340759277344,127.4332046508789,127.06462860107422,126.55656433105469,128.4393768310547,128.877685546875,130.9796600341797,132.27471923828125,131.67698669433594,130.4815673828125,129.82406616210938,132.72300720214844,130.34210205078125,130.4815673828125,131.55746459960938,131.3383026123047,133.6893310546875,133.62954711914062,133.67935180664062,133.5398712158203,133.34063720703125,132.93222045898438,133.3306884765625,133.0218505859375,133.21115112304688,135.6020050048828,134.84487915039062,134.92459106445312,135.89089965820312,135.0242156982422,136.8970489501953,136.23956298828125,136.6480255126953,136.8970489501953,136.7775421142578,137.1959228515625,137.7139434814453,138.2618408203125,139.06875610351562,138.78985595703125,139.18832397460938,139.45729064941406,139.30784606933594,139.40745544433594,137.98291015625,139.05880737304688,138.99903869628906,139.80593872070312,139.78604125976562,141.2205352783203,142.1071319580078,141.86807250976562,141.5094451904297,141.73855590820312,141.19065856933594,141.31019592285156,140.63279724121094,140.24427795410156,140.50328063964844,139.38754272460938,139.04884338378906,138.85955810546875,140.8818359375,140.42359924316406,141.72860717773438,143.25279235839844,143.13323974609375,144.91644287109375,145.9325408935547,146.00228881835938,147.137939453125,149.67823791503906,151.8798370361328,152.19859313964844,151.2223358154297,150.2759552001953,149.6682891845703,150.48516845703125,149.90736389160156,149.7180938720703,149.46902465820312,149.7579345703125,149.61846923828125,149.2100372314453,144.29879760742188,147.0980987548828,147.49655151367188,147.67588806152344,147.5065460205078,149.46902465820312,151.38172912597656,151.5510711669922,151.8001251220703,150.88365173339844,150.95335388183594,153.02545166015625,153.04537963867188,152.22850036621094,152.5373077392578,154.1212615966797,149.03073120117188,147.87513732910156,150.10658264160156,149.67823791503906,149.22996520996094,150.06675720214844,152.2882537841797,151.67062377929688,153.32431030273438,152.8162384033203,154.4799041748047,153.00552368164062,150.00697326660156,152.6568603515625,150.46522521972656,150.40545654296875,147.86514282226562,149.7678985595703,148.25367736816406,150.86370849609375,152.91587829589844,154.67913818359375,158.29531860351562,158.65396118164062,159.3612518310547,159.12216186523438,162.24026489257812,163.515380859375,163.90390014648438,163.8042755126953,165.36830139160156,164.6510467529297,164.9797821044922,169.79141235351562,171.7937469482422,168.60594177246094,169.213623046875,168.65576171875,167.9484405517578,168.97454833984375,171.32554626464844,170.57839965820312,170.528564453125,166.7629852294922,167.44039916992188,170.1002197265625,170.3492889404297,169.35308837890625,166.27484130859375,166.77293395996094,167.1415252685547,168.99444580078125,168.06800842285156,167.10169982910156,165.68710327148438,166.6035919189453,167.41049194335938,169.2733917236328,171.31556701660156,171.3654022216797,170.07034301757812,171.43511962890625,172.55087280273438,170.29945373535156,172.84971618652344,172.3018341064453,172.39146423339844,170.3094482421875,170.98684692382812,169.36302185058594,171.8634796142578,171.51483154296875,170.4588623046875,169.89102172851562,162.25021362304688,163.5851287841797,167.04188537597656,168.08790588378906,170.2197723388672,168.82510375976562,169.31324768066406,167.77908325195312,170.58836364746094,171.5745849609375,171.84356689453125,170.93704223632812,172.08265686035156,171.89337158203125,173.078857421875,173.8558807373047,175.43983459472656,175.36013793945312,173.89573669433594,174.31414794921875,170.61825561523438,171.14622497558594,169.95082092285156,169.98068237304688,177.20309448242188,179.18551635742188,179.37478637695312,181.96490478515625,178.23912048339844,178.23912048339844,179.484375,179.5640869140625,178.87672424316406,178.61770629882812,177.78089904785156,178.08970642089844,177.39236450195312,177.2728271484375,178.90660095214844,178.31883239746094,178.05984497070312,181.16793823242188,180.1817169189453,182.08445739746094,182.33349609375,181.72581481933594,174.46356201171875,176.50575256347656,174.4336700439453,170.81748962402344,172.1723175048828,175.39002990722656,179.45448303222656,178.31883239746094,178.35867309570312,176.28659057617188,177.62149047851562,177.71115112304688,179.4943389892578,180.1319122314453,178.82688903808594,177.21307373046875,176.7747344970703,176.5256805419922,175.32028198242188,176.94407653808594,177.24293518066406,175.78851318359375,180.72962951660156,183.96725463867188,183.62855529785156,186.13897705078125,187.56350708007812,187.1550750732422,187.12518310546875,187.0554656982422,178.6874237060547,177.71115112304688,176.92417907714844,179.1157989501953,180.60011291503906,184.6645965576172,188.6294403076172,185.84010314941406,186.7665557861328,189.27696228027344,185.2722625732422,186.40792846679688,186.17880249023438,192.355224609375,189.555908203125,180.5702362060547,184.60482788085938,179.4943389892578,170.92706298828125,175.43983459472656,175.7386932373047,172.49110412597656,178.83685302734375,179.2751922607422,176.68507385253906,175.3402099609375,177.2329864501953,178.3088836669922,182.59251403808594,184.22625732421875,180.76947021484375,177.6414337158203,175.27049255371094,175.94789123535156,179.71348571777344,179.09585571289062,183.0109100341797,181.6461181640625,184.52511596679688,184.05691528320312,181.18788146972656,183.48907470703125,183.16033935546875,184.38565063476562,171.90333557128906,167.51011657714844,168.7454071044922,164.26251220703125,158.78346252441406,159.45091247558594,151.6407470703125,152.44766235351562,159.1819305419922,154.79867553710938,155.51593017578125,154.50979614257812,158.73365783691406,156.60179138183594,157.32901000976562,164.41195678710938,165.68710327148438,163.2464141845703,163.89393615722656,164.2027587890625,168.01817321777344,165.72694396972656,167.46031188964844,165.64723205566406,165.2089080810547,159.0823211669922,159.0823211669922,173.49725341796875,172.92941284179688,171.345458984375,173.19839477539062,175.39999389648438,173.3577880859375,175.9379119873047,177.2927703857422,178.23912048339844,181.96490478515625,184.823974609375,186.2784423828125,185.9297637939453,183.61859130859375,182.50283813476562,183.0607147216797,181.9848175048828,183.78793334960938,183.10057067871094,186.18875122070312,185.2224578857422,184.21630859375,185.033203125,186.95582580566406,191.05020141601562,193.2517852783203,192.5444793701172,192.20579528808594,190.6118621826172,187.46388244628906,188.3804168701172,190.81109619140625,191.66783142089844,191.6778106689453,196.06103515625,195.10472106933594,197.5553436279297,196.7384796142578,201.23130798339844,200.73321533203125,200.97230529785156,195.60281372070312,198.2427215576172,195.09475708007812,195.48326110839844,193.58053588867188,196.6089630126953,191.99658203125,197.69482421875,202.4566192626953,203.9608917236328,202.76544189453125,201.76925659179688,206.132568359375,206.5310821533203,206.44139099121094,209.19090270996094,208.5633087158203,207.29815673828125,209.14109802246094,210.107421875,213.8531036376953,216.67233276367188,175.58926391601562,174.22447204589844,170.4090576171875,171.9232635498047,170.99679565429688,175.69883728027344,177.1034698486328,184.98338317871094,183.11053466796875,184.47532653808594,182.39328002929688,179.57403564453125,179.36485290527344,180.42080688476562,178.84681701660156,174.03518676757812,173.13861083984375,171.84356689453125,171.96310424804688,172.97923278808594,172.24203491210938,173.98536682128906,176.78469848632812,175.58926391601562,175.23062133789062,176.96400451660156,175.06126403808594,170.50868225097656,166.5438232421875,161.91151428222656,162.4195556640625,163.5552215576172,165.30853271484375,161.38351440429688,160.7459716796875,161.70230102539062,159.96893310546875,159.6899871826172,162.43948364257812,165.3882293701172,162.3099822998047,164.7805633544922,164.28244018554688,166.314697265625,168.19749450683594,163.83416748046875,161.8218536376953,158.72369384765625,161.81187438964844,158.24549865722656,156.73130798339844,156.65159606933594,157.29913330078125,150.80393981933594,152.76644897460938,153.15496826171875,152.935791015625,158.17578125,158.81332397460938,154.33045959472656,153.46377563476562,154.1909942626953,153.802490234375,145.4842529296875,150.3755645751953,144.8168182373047,141.54928588867188,145.66358947753906,151.2123565673828,151.17254638671875,149.77786254882812,148.1142120361328,149.36940002441406,150.95335388183594,147.30728149414062,144.40838623046875,141.0113525390625,141.6190185546875,143.6711883544922,143.3026123046875,138.99903869628906,131.04940795898438,131.92605590820312,134.30697631835938,131.2287139892578,135.86102294921875,134.48626708984375,136.23956298828125,138.1522674560547,140.07492065429688,140.55311584472656,137.4051055908203,139.09864807128906,136.8970489501953,141.31019592285156,141.53932189941406,143.95010375976562,144.4581756591797,143.51181030273438,139.65652465820312,143.11331176757812,132.7329559326172,132.89236450195312,124.47451782226562,123.587890625,133.6693878173828,134.00811767578125,132.693115234375,130.59115600585938,135.16366577148438,131.23867797851562,137.42503356933594,137.52467346191406,141.9876251220703,143.68115234375,143.65126037597656,143.25279235839844,144.83673095703125,148.3831787109375,146.97854614257812,147.73565673828125,149.46902465820312,147.00843811035156,143.75088500976562,145.27505493164062,148.4429473876953,146.90882873535156,143.64129638671875,149.8475799560547,166.05567932128906,165.07940673828125,168.60594177246094,170.50868225097656,169.84121704101562,165.74685668945312,166.6932373046875,165.15908813476562,164.41195678710938,163.44566345214844,163.3260955810547,161.8816375732422,161.6724090576172,161.94140625,159.43096923828125,161.27394104003906,163.99356079101562,163.5054473876953,162.1904296875,160.8356170654297,161.66246032714844,166.73309326171875,170.6082763671875,171.85353088378906,168.4864044189453,168.95462036132812,171.4152069091797,171.26576232910156,172.7102508544922,169.52243041992188,165.34837341308594,159.85935974121094,160.95516967773438,164.81044006347656,165.447998046875,163.71461486816406,165.65721130371094,167.04188537597656,165.23880004882812,164.92002868652344,166.05567932128906,168.05801391601562,173.53709411621094,172.8795928955078,175.3501739501953,175.0513153076172,174.26431274414062,176.90423583984375,177.14332580566406,176.83450317382812,178.41847229003906,178.9663543701172,178.1893310546875,178.09967041015625,177.6015625,180.74954223632812,183.08065795898438,181.8852081298828,192.52456665039062,190.76132202148438,194.03878784179688,192.66404724121094,192.2954559326172,191.79734802246094,194.7261505126953,193.14222717285156,189.0478515625,188.81871032714844,187.93209838867188,187.623291015625,180.84915161132812,180.04225158691406,185.56117248535156,186.2784423828125,184.5948486328125,182.02468872070312,184.11669921875,184.6147918701172,180.1817169189453,180.37098693847656,183.60862731933594,181.4967041015625,182.31356811523438,176.79466247558594,163.5253448486328,166.86260986328125,167.53004455566406,167.68943786621094,172.6903533935547,174.15475463867188,177.42225646972656,174.37388610839844,176.79466247558594,180.6399688720703,188.29074096679688,187.7528076171875,186.7665557861328,188.80877685546875,190.41262817382812,191.86709594726562,188.12139892578125,186.9458770751953,188.7788848876953,192.26556396484375,192.26556396484375,194.25794982910156,196.44956970214844,195.65261840820312,195.0150604248047,198.4519500732422,201.95852661132812,200.46424865722656,204.0903778076172,203.13404846191406,203.0642852783203,201.03207397460938,200.01596069335938,197.6051788330078,201.5500946044922,201.5899200439453,203.88119506835938,199.9462127685547,198.9898681640625,195.19436645507812,196.29017639160156,193.49087524414062,191.99658203125,188.3007049560547,181.03843688964844,183.80784606933594,184.44541931152344,189.43637084960938,187.13516235351562,184.6645965576172,187.73287963867188,179.02613830566406,181.89517211914062,183.00094604492188,185.4615478515625,183.11053466796875,182.85153198242188,181.34727478027344,177.07357788085938,179.6736602783203,180.61009216308594,181.06832885742188,184.8638458251953,184.9634552001953,181.6959228515625,186.4278564453125,190.17355346679688,186.7765350341797,188.0417022705078,185.4615478515625,187.77272033691406,186.75660705566406,186.47767639160156,185.51136779785156,187.36428833007812,187.42404174804688,189.41644287109375,189.20724487304688,186.1090850830078,180.59014892578125,182.1043701171875,179.4246063232422,176.4260711669922,177.40234375,175.14097595214844,173.93557739257812,178.6973876953125,179.76332092285156,178.99623107910156,177.07357788085938,179.1656036376953,179.34490966796875,183.48907470703125,182.58253479003906,188.1711883544922,188.82867431640625,189.66549682617188,185.1427764892578,189.0378875732422,181.6461181640625,185.4416046142578,185.67074584960938,187.17501831054688,188.67926025390625,188.589599609375,187.5336456298828,190.9207000732422,192.88319396972656,193.97900390625,193.58053588867188,190.82107543945312,189.69537353515625,190.11378479003906,188.8884735107422,193.72996520996094,192.45484924316406,192.41497802734375,194.35757446289062,196.64878845214844,198.5615234375,196.75839233398438,197.17678833007812,198.06341552734375,199.02972412109375,198.21282958984375,201.23130798339844,200.87266540527344,198.9400634765625,198.06341552734375,197.95384216308594,198.60134887695312,200.284912109375,200.57382202148438,200.10560607910156,201.49032592773438,196.0012969970703,193.371337890625,197.1668243408203,197.6350555419922,201.72940063476562,205.27584838867188,205.51495361328125,205.39540100097656,204.3394317626953,206.99925231933594,207.30810546875,203.63214111328125,204.4689483642578,208.981689453125,207.87591552734375,211.79098510742188,212.2492218017578,214.40101623535156,217.4692840576172,217.23020935058594,221.0655517578125,218.22637939453125,220.3084259033203,220.92608642578125,221.29466247558594,220.59732055664062,220.47779846191406,218.92372131347656,217.1106414794922,214.0523223876953,216.96119689941406,222.38052368164062,208.732666015625,201.14166259765625,203.41299438476562,209.03152465820312,209.31045532226562,210.04763793945312,211.52200317382812,212.2492218017578,206.4015655517578,209.9579620361328,212.32891845703125,213.3649444580078,216.97120666503906,216.66236877441406,213.763427734375,209.38015747070312,199.95619201660156,196.02122497558594,196.44956970214844,189.02792358398438,191.73757934570312,195.6924591064453,185.18260192871094,191.0302734375,184.46534729003906,180.40086364746094,168.85498046875,177.51193237304688,169.59217834472656,153.88218688964844,169.6320343017578,145.45436096191406,148.85140991210938,146.40077209472656,152.54730224609375,149.1602020263672,147.5364227294922,160.36740112304688,155.61557006835938,162.71841430664062,156.19334411621094,165.3184814453125,166.16526794433594,158.99267578125,157.58802795410156,153.59326171875,164.92002868652344,168.18753051757812,173.6167755126953,174.52333068847656,174.12486267089844,177.4919891357422,176.2965545654297,175.57928466796875,178.5579071044922,177.5617218017578,170.15003967285156,181.5863494873047,184.42550659179688,189.34671020507812,186.78648376464844,182.21395874023438,193.45101928710938,203.93099975585938,201.50027465820312,204.47889709472656,206.28201293945312,207.67669677734375,210.45606994628906,211.54193115234375,212.36875915527344,209.30047607421875,204.3195343017578,206.0229949951172,210.07752990722656,212.3787384033203,216.05467224121094,229.09487915039062,230.50946044921875,234.0160675048828,231.31637573242188,228.26805114746094,224.60205078125,224.23345947265625,231.02748107910156,231.8344268798828,229.28416442871094,225.42886352539062,229.89183044433594,230.51942443847656,237.76174926757812,235.8291473388672,223.57594299316406,227.71014404296875,231.615234375,234.7532501220703,234.6337127685547,235.04217529296875,237.88131713867188,238.30967712402344,241.3181915283203,233.1294708251953,234.7831268310547,215.2577362060547,219.8003692626953,226.20590209960938,236.6460418701172,232.53173828125,239.36563110351562,239.9434356689453,242.653076171875,243.56956481933594,244.1374053955078,238.0904998779297,238.81773376464844,239.36563110351562,240.01315307617188,241.10897827148438,244.486083984375,240.83004760742188,238.9571990966797,231.71485900878906,229.8320770263672,232.61143493652344,229.2443084716797,232.40225219726562,233.60765075683594,252.70468139648438,251.00119018554688,248.87930297851562,248.17198181152344,264.2705078125,267.4184265136719,261.9991760253906,255.15533447265625,258.9010314941406,260.3056335449219,260.2458801269531,260.16619873046875,261.3416748046875,261.5907287597656,267.986328125,265.9939270019531,270.3572998046875,279.7513732910156,302.7535400390625,292.1042175292969,292.54248046875,292.0842590332031,294.3157653808594,301.348876953125,290.01214599609375,281.65411376953125,270.1281433105469,272.6783752441406,267.06982421875,265.5954284667969,265.13720703125,271.38330078125,262.5171813964844,253.85031127929688,251.5690155029297,247.2056884765625,253.78057861328125,248.0723876953125,248.5804443359375,253.85031127929688,255.8426971435547,260.7937927246094,260.9033508300781,265.6153564453125,258.9508056640625,263.64288330078125,257.67572021484375,257.13775634765625,262.75628662109375,263.4436950683594,274.7006530761719,275.0892028808594,270.7856140136719,265.70501708984375,264.9180603027344,260.4052734375,266.5418395996094,277.6693420410156,277.0616455078125,283.7062683105469,276.0554504394531,282.21197509765625,266.6513977050781,279.7613220214844,262.10870361328125,260.3653869628906,264.2903747558594,286.2864074707031,293.55859375,292.29345703125,277.70916748046875,271.3932800292969,275.4278869628906,274.033203125,275.8960876464844,277.8984375,273.9535217285156,270.9350280761719,271.9013366699219,268.6737060546875,267.4085388183594,275.8661804199219,274.541259765625,276.7528076171875,275.916015625,285.45953369140625,286.42584228515625,280.7774353027344,278.6356506347656,284.4932556152344,282.321533203125,276.8623962402344,276.0654296875,272.509033203125,273.1466064453125,274.5014343261719,274.6210021972656,273.4355163574219,275.3481750488281,271.751953125,266.0735778808594,267.0897216796875,266.3824462890625,275.9458923339844,275.72674560546875,270.8354187011719,272.1205139160156,267.91656494140625,269.9388732910156,262.3079833984375,267.71734619140625,266.55181884765625,255.8626251220703,250.13449096679688,250.68240356445312,244.70523071289062,250.40347290039062,260.1064147949219,266.462158203125,271.83160400390625,273.4554138183594,276.9520568847656,280.9766845703125,271.1044006347656,263.9915771484375,257.3468933105469,261.0129699707031,266.06365966796875,265.63531494140625,265.47589111328125,267.0797424316406,265.5655517578125,268.4246520996094,270.8354187011719,269.361083984375,269.47064208984375,272.92742919921875,272.5289611816406,268.3648681640625,260.5646667480469,259.33935546875,264.8482971191406,263.30419921875,253.72079467773438,256.6396179199219,263.90191650390625,258.014404296875,254.43804931640625,256.65960693359375,263.2742919921875,254.33843994140625,264.728759765625,263.8919372558594,272.8377990722656,267.378662109375,272.708251953125,278.21722412109375,282.9292297363281,277.5597229003906,289.0059814453125,292.4229736328125,289.5240173339844,281.0663757324219,277.67926025390625,281.9429626464844,289.7132873535156,286.904052734375,293.4091796875,297.5234680175781,307.7344970703125,305.0946044921875,311.8985595703125,311.82879638671875,311.2709655761719,310.3544616699219,308.5812683105469,301.6676330566406,306.64862060546875,305.0148620605469,301.0898742675781,301.498291015625,300.3227844238281,295.3916015625,299.98406982421875,301.8868408203125,302.414794921875,305.9313659667969,328.256103515625,323.84295654296875,321.3524475097656,317.14849853515625,313.8211975097656,318.80218505859375,317.8657531738281,304.8056640625,305.363525390625,301.398681640625,304.098388671875,314.7377014160156,314.2595520019531,308.78045654296875,312.39666748046875,317.39752197265625,315.026611328125,323.3946838378906,326.5426330566406,326.4130859375,331.4837646484375,327.47906494140625,327.8775329589844,327.8974609375,324.79931640625,329.0928649902344,335.2991638183594,332.4101867675781,328.9932861328125,331.19488525390625,329.9993896484375,335.48846435546875,335.468505859375,329.8200988769531,335.2294616699219,328.405517578125,331.0255126953125,337.7398376464844,339.2939453125,341.87408447265625,340.0709533691406,354.2866516113281,350.55096435546875,346.3868408203125,353.04144287109375,353.3502197265625,351.4375305175781,349.15625,344.33465576171875,349.0865173339844,351.8160705566406,350.7501525878906,346.3070983886719,343.149169921875,339.86175537109375,335.66778564453125,340.35986328125,344.9124755859375,349.85357666015625,368.3828125,371.0426330566406,366.41033935546875,371.8595275878906,356.9564514160156,354.9441223144531,350.6106872558594,349.90338134765625,357.55419921875,361.5887756347656,362.126708984375,360.2339172363281,359.7557678222656,358.59014892578125,361.26995849609375,361.7979431152344,365.1650695800781,357.0859375,354.097412109375,353.7685852050781,358.0024719238281,361.9673156738281,364.1191101074219,366.9881591796875,362.993408203125,371.2120056152344,379.2114562988281,377.93634033203125,380.59613037109375,373.8518981933594,374.8282165527344,380.72564697265625,376.1331787109375,376.5615539550781,377.24896240234375,375.0772399902344,375.0971374511719,372.49713134765625,371.64031982421875,363.33209228515625,354.346435546875,356.11968994140625,341.9039611816406,344.6434631347656,351.6168212890625,352.2344665527344,339.35369873046875,338.3176574707031,338.0985107421875,341.7047119140625,324.98858642578125,331.6929016113281,332.3703918457031,327.9671936035156,328.79400634765625,324.2115478515625,322.5378723144531,323.30499267578125,327.27978515625,323.524169921875,334.06390380859375,338.6961975097656,339.48321533203125,340.5790100097656,323.37469482421875,327.439208984375,314.60821533203125,311.0318603515625,315.7140197753906,322.33868408203125,328.72430419921875,326.8315124511719,330.3580627441406,334.57196044921875,339.8318786621094,337.3314208984375,334.0937805175781,326.3932189941406,326.4928283691406,339.5927734375,346.2374267578125,341.6548767089844,339.47320556640625,337.4011535644531,343.9859924316406,339.71234130859375,335.9666442871094,339.76214599609375,331.8523254394531,336.7436828613281,323.22528076171875,309.4180603027344,309.2088928222656,305.67236328125,316.6603698730469,321.58160400390625,329.3020935058594,328.56488037109375,328.4951477050781,333.2171325683594,332.469970703125,340.35986328125,333.62554931640625,332.5198059082031,324.2115478515625,332.9282531738281,329.1925354003906,333.9642333984375,344.8626403808594,344.9024658203125,341.6349792480469,343.049560546875,335.070068359375,337.251708984375,335.2493896484375,322.9364013671875,331.19488525390625,330.52740478515625,326.8215637207031,333.09759521484375,331.9918518066406,325.2376403808594,330.636962890625,316.9393005371094,318.37384033203125,315.3553771972656,302.0163269042969,307.53521728515625,299.0078125,293.50885009765625,293.518798828125,300.5618591308594,312.06793212890625,317.78607177734375,321.7708435058594,236.85520935058594,236.18777465820312,224.0541229248047,219.3421173095703,231.1171417236328,227.2021026611328,218.7145233154297,216.87156677246094,220.15902709960938,215.71595764160156,206.91958618164062,205.37548828125,201.31101989746094,197.69482421875,206.8100128173828,209.6790313720703,210.22694396972656,202.7156524658203,207.31805419921875,202.19761657714844,199.2987060546875,186.75660705566406,189.56585693359375,197.74462890625,194.46714782714844,186.89605712890625,185.9197998046875,191.29925537109375,202.8551025390625,207.04908752441406,215.6661834716797,210.68521118164062,215.82553100585938,212.647705078125,218.73446655273438,220.97589111328125,222.73915100097656,228.9853057861328,226.98294067382812,221.5138397216797,223.99435424804688,232.99996948242188,230.95774841308594,222.45025634765625,222.10157775878906,221.48394775390625,215.63629150390625,213.3251190185547,214.17189025878906,209.38015747070312,209.96795654296875,216.48304748535156,199.65731811523438,187.35433959960938,183.4093780517578,186.2784423828125,180.2613983154297,174.2842559814453,204.94711303710938,199.70712280273438,210.32656860351562,211.22314453125,222.55982971191406,207.48741149902344,202.9945831298828,195.46334838867188,196.89785766601562,188.02178955078125,190.51226806640625,197.86416625976562,199.2787628173828,201.84893798828125,191.5084686279297,190.56207275390625,192.80349731445312,195.48326110839844,180.59014892578125,183.13046264648438,190.90078735351562,194.387451171875,192.9031219482422,187.92214965820312,198.10324096679688,190.05401611328125,193.5108184814453,194.9054718017578,195.89169311523438,183.2998046875,174.9019012451172,163.63491821289062,163.10693359375,168.70555114746094,160.25782775878906,163.11691284179688,156.45237731933594,155.25692749023438,158.14590454101562,169.51248168945312,168.84503173828125,160.06854248046875,163.31614685058594,160.63638305664062,159.4210205078125,167.5499725341797,169.12396240234375,171.53475952148438,170.229736328125,162.2601776123047,162.64869689941406,162.8678436279297,157.4485626220703,164.0732421875,166.59361267089844,175.111083984375,182.39328002929688,182.47296142578125,168.6258544921875,166.0158233642578,158.54437255859375,168.93467712402344,160.1083984375,158.49456787109375,159.32138061523438,159.58041381835938,168.15765380859375,169.92091369628906,166.4740753173828,169.6021270751953,167.888671875,177.66134643554688,176.8145751953125,179.81312561035156,180.20162963867188,178.78704833984375,174.18463134765625,173.995361328125,167.3208465576172,162.42955017089844,160.49691772460938,162.63873291015625,168.13772583007812,161.16436767578125,158.56430053710938,156.56195068359375,162.3099822998047,164.73074340820312,159.70993041992188,157.93670654296875,159.77963256835938,161.4432830810547,168.5063018798828,168.31703186035156,152.54730224609375,150.89358520507812,148.9809112548828,145.73330688476562,147.4567413330078,145.5340576171875,141.57916259765625,142.27651977539062,139.8756866455078,135.85105895996094,133.8885498046875,141.0711212158203,135.89089965820312,135.16366577148438,138.08255004882812,139.7461700439453,138.4511260986328,138.54078674316406,132.94215393066406,133.28085327148438,128.05084228515625,127.01481628417969,129.79417419433594,126.27762603759766,133.52992248535156,132.29464721679688,132.72300720214844,131.02947998046875,129.51527404785156,129.2263641357422,136.98672485351562,129.32598876953125,97.56730651855469,98.82249450683594,92.80549621582031,94.83771514892578,90.1954574584961,88.57166290283203,90.44451141357422,96.35193634033203,96.10289764404297,101.08386993408203,111.44429016113281,112.58991241455078,113.78534698486328,116.63446807861328,112.79911804199219,111.02588653564453,111.62360382080078,109.44193267822266,111.01592254638672,111.81288146972656,110.98604583740234,108.36604309082031,109.04346466064453,117.65058898925781,119.98168182373047,123.02005767822266,121.96410369873047,113.68572998046875,113.49644470214844,114.89112091064453,115.45895385742188,114.27348327636719,119.69277954101562,121.1272964477539,115.7080078125,118.97551727294922,114.04435729980469,116.6444320678711,119.30426025390625,116.67431640625,117.59080505371094,116.43522644042969,115.1800308227539,119.8023681640625,119.8820571899414,124.26531219482422,126.88531494140625,126.45694732666016,129.5252227783203,128.97731018066406,132.48391723632812,132.38430786132812,136.1897735595703,136.458740234375,134.84487915039062,132.51380920410156,135.63189697265625,138.83963012695312,142.72479248046875,142.5952911376953,140.96153259277344,146.73948669433594,151.16256713867188,146.5003662109375,148.40310668945312,152.5373077392578,188.05165100097656,185.82015991210938,185.3519744873047,190.89080810546875,182.7319793701172,177.24293518066406,173.48727416992188,178.7471923828125,178.79701232910156,176.48582458496094,171.7838134765625,172.2221221923828,171.4251708984375,170.4687957763672,171.3853302001953,169.74160766601562,168.89483642578125,174.27427673339844,172.76007080078125,173.8658447265625,184.5450439453125,184.19638061523438,183.80784606933594,184.26612854003906,180.99859619140625,178.82688903808594,180.21160888671875,193.28167724609375,196.9974822998047,204.15016174316406,194.86563110351562,197.05726623535156,201.3907012939453,199.0496368408203,203.5026397705078,205.22604370117188,202.068115234375,199.91632080078125,204.5685577392578,207.04908752441406,211.13348388671875,212.25918579101562,213.90289306640625,210.67523193359375,215.27767944335938,213.9327850341797,213.03622436523438,213.18563842773438,219.51148986816406,220.6471405029297,218.02716064453125,217.0608367919922,214.87918090820312,212.25918579101562,212.07986450195312,211.98023986816406,206.76019287109375,208.6031494140625,237.65219116210938,239.40548706054688,242.2545928955078,238.32960510253906,236.1280059814453,232.63137817382812,231.89418029785156,232.38232421875,232.48191833496094,232.1930389404297,234.8927001953125,232.92025756835938,237.95103454589844,237.9112091064453,241.56724548339844,245.91064453125,244.70523071289062,247.3750457763672,245.80105590820312,248.26168823242188,251.72842407226562,261.0428466796875,261.5210266113281,263.712646484375,271.5726013183594,271.5726013183594,270.3572998046875,270.0882873535156,262.59686279296875,263.5731506347656,263.9418029785156,270.0185546875,270.28753662109375,272.309814453125,280.75750732421875,279.9306945800781,283.2480163574219,280.5682373046875,283.7958984375,287.63128662109375,277.4103088378906,285.9576721191406,284.2043762207031,280.45867919921875,285.887939453125,284.9315490722656,293.24981689453125,290.8788146972656,289.4244384765625,292.9808349609375,297.1549072265625,308.162841796875,312.2173767089844,307.6946105957031,309.4379577636719,310.8625183105469,314.8074645996094,301.3687744140625,293.1402282714844,290.50030517578125,293.34942626953125,297.433837890625,310.5238342285156,324.2414245605469,317.3876037597656,321.48193359375,313.1139221191406,311.99822998046875,309.5475769042969,315.3553771972656,311.4503173828125,304.04852294921875,304.5765075683594,300.4921569824219,305.0248107910156,300.80096435546875,293.17010498046875,284.005126953125,282.172119140625,288.79681396484375,286.5055847167969,293.1202697753906,285.6587829589844,284.4135437011719,289.15545654296875,296.85601806640625,293.9770202636719,294.7640380859375,295.2521667480469,299.0078125,298.03155517578125,297.533447265625,296.75640869140625,306.38958740234375,300.5120849609375,303.89910888671875,310.5337829589844,299.1672058105469,301.398681640625,303.9090881347656,298.5296630859375,294.6046447753906,297.94183349609375,299.6852111816406,297.8222961425781,296.60699462890625,302.80328369140625,299.06756591796875,305.6524353027344,299.7947998046875,304.41717529296875,303.630126953125,314.2296447753906,317.14849853515625,320.615234375,326.572509765625,322.92645263671875,313.4924621582031,319.9278564453125,322.76702880859375,315.7637939453125,311.6196594238281,307.4754638671875,312.8150634765625,311.3606262207031,298.3901672363281,287.25274658203125,295.600830078125,301.5082702636719,300.1235046386719,310.6632995605469,309.68701171875,313.40283203125,314.5982666015625,317.6067810058594,318.5631408691406,319.3301696777344,327.5188903808594,327.93731689453125,335.03021240234375,331.4438781738281,332.91827392578125,333.7650451660156,338.67626953125,335.6976623535156,340.19049072265625,336.9429016113281,333.4263610839844,337.6999816894531,330.9358825683594,325.9050598144531,323.58392333984375,318.80218505859375,317.07879638671875,316.2419738769531,325.34722900390625,331.4837646484375,324.0421447753906,332.9481506347656,333.4661865234375,331.9021911621094,333.6455078125,343.30859375,349.0267333984375,347.9508361816406,352.7425231933594,352.04522705078125,353.479736328125,356.46832275390625,356.9564514160156,352.613037109375,344.97222900390625,343.1591491699219,345.799072265625,350.6106872558594,357.2951965332031,356.0697937011719,369.0602111816406,368.2632751464844,373.0649108886719,366.0616455078125,366.96820068359375,374.69866943359375,381.9908142089844,380.3271789550781,383.73419189453125,389.2132568359375,391.6838073730469,392.6401672363281,399.49395751953125,398.5376281738281,388.6553649902344,393.2777099609375,473.1824645996094,457.6617431640625,452.9895935058594,467.8030090332031,468.21148681640625,466.32861328125,467.1156311035156,458.3690490722656,471.4789733886719,482.1880798339844,471.51885986328125,469.9548034667969,466.7436218261719,484.7939147949219,482.69970703125,480.41595458984375,485.7113952636719,482.689697265625,488.782958984375,500.91943359375,496.8207702636719,488.8726806640625,494.7265319824219,510.78228759765625,504.5594482421875,482.2608642578125,498.3764953613281,494.2079772949219,490.4782409667969,482.76947021484375,495.6141052246094,494.8760986328125,504.130615234375,506.3644714355469,508.179443359375,501.6374816894531,494.527099609375,492.5026550292969,484.2453918457031,489.9995422363281,496.0030212402344,505.3472595214844,509.5157775878906,525.890625,517.8228149414062,515.4793701171875,518.4013061523438,521.7221069335938,510.49310302734375,498.8551940917969,498.3864440917969,492.81182861328125,500.42083740234375,479.7478332519531,480.4059753417969,494.73651123046875,492.1436462402344,440.1669006347656,442.0716857910156,431.4309387207031,428.98773193359375,437.9829406738281,440.466064453125,450.7178039550781,464.4001159667969,466.9530944824219,471.3011169433594,474.11334228515625,474.8912048339844,466.7237243652344,470.5531311035156,480.2165222167969,471.9293518066406,470.6130065917969,467.5514221191406,463.3529968261719,466.49432373046875,464.4998474121094,476.9056396484375,478.6009826660156,473.0562438964844,465.7663269042969,465.54693603515625,476.1776428222656,475.67901611328125,493.6993713378906,492.4029541015625,491.6051330566406,501.2186584472656,506.0752868652344,507.44146728515625,502.71453857421875,503.2735595703125,505.73919677734375,498.6117248535156,500.81787109375,493.9100341796875,498.03277587890625,509.7022399902344,512.2177734375,518.6464233398438,503.33343505859375,503.7926025390625,508.6041564941406,509.0633544921875,538.9606323242188,528.3892822265625,529.068115234375,533.7498168945312,511.7985534667969,497.99285888671875,495.28759765625,488.9288330078125,461.17767333984375,475.0133361816406,475.9516906738281,486.54302978515625,487.83074951171875,460.4589538574219,452.6127624511719,464.8811950683594,464.8911437988281,462.3755798339844,473.9951171875,496.8648376464844,487.2817077636719,474.8935546875,493.22125244140625,488.06036376953125,508.73394775390625,516.859619140625,515.0428466796875,527.6106567382812,525.8338012695312,536.38525390625,526.4926147460938,528.3494262695312,525.8038330078125,534.218994140625,530.9946899414062,527.0716552734375,520.2037353515625,518.187255859375,515.8713989257812,517.3087768554688,520.3933715820312,510.86016845703125,511.83843994140625,515.9512329101562,499.390380859375,503.9024353027344,503.9024353027344,510.9300231933594,524.67578125,523.6975708007812,532.8502197265625,535.8877563476562,537.5164184570312,558.6493530273438,560.8975219726562,563.955078125,562.8759765625,567.8519287109375,567.3823852539062,566.9027099609375,571.9786376953125,576.00537109375,572.3483276367188,582.30029296875,595.459716796875,584.3087158203125,592.4121704101562,590.0340576171875,583.3594360351562,589.4745483398438,589.944091796875,585.7974853515625,576.3250732421875,576.4650268554688,576.00537109375,574.6964111328125,581.5409545898438,563.2356567382812,567.3223876953125,572.7879638671875,577.6939697265625,592.8018798828125,591.322998046875,567.12255859375,566.702880859375,560.2280883789062,571.9686279296875,571.5889282226562,591.22314453125,588.8650512695312,582.699951171875,584.3486328125,579.5325317382812,576.69482421875,553.6334228515625,553.9531860351562,560.6378173828125,565.064208984375,562.6361694335938,558.6893920898438,564.654541015625,573.0776977539062,568.7412719726562,573.8571166992188,592.3522338867188,613.1554565429688,613.2853393554688,608.439208984375,623.2672729492188,613.0755004882812,618.8208618164062,632.1700439453125,630.2815551757812,619.8499755859375,624.239990234375,619.4400024414062,597.1900024414062,595.5700073242188,585.25],\"yaxis\":\"y\",\"type\":\"scattergl\"}],                        {\"template\":{\"data\":{\"histogram2dcontour\":[{\"type\":\"histogram2dcontour\",\"colorbar\":{\"outlinewidth\":0,\"ticks\":\"\"},\"colorscale\":[[0.0,\"#0d0887\"],[0.1111111111111111,\"#46039f\"],[0.2222222222222222,\"#7201a8\"],[0.3333333333333333,\"#9c179e\"],[0.4444444444444444,\"#bd3786\"],[0.5555555555555556,\"#d8576b\"],[0.6666666666666666,\"#ed7953\"],[0.7777777777777778,\"#fb9f3a\"],[0.8888888888888888,\"#fdca26\"],[1.0,\"#f0f921\"]]}],\"choropleth\":[{\"type\":\"choropleth\",\"colorbar\":{\"outlinewidth\":0,\"ticks\":\"\"}}],\"histogram2d\":[{\"type\":\"histogram2d\",\"colorbar\":{\"outlinewidth\":0,\"ticks\":\"\"},\"colorscale\":[[0.0,\"#0d0887\"],[0.1111111111111111,\"#46039f\"],[0.2222222222222222,\"#7201a8\"],[0.3333333333333333,\"#9c179e\"],[0.4444444444444444,\"#bd3786\"],[0.5555555555555556,\"#d8576b\"],[0.6666666666666666,\"#ed7953\"],[0.7777777777777778,\"#fb9f3a\"],[0.8888888888888888,\"#fdca26\"],[1.0,\"#f0f921\"]]}],\"heatmap\":[{\"type\":\"heatmap\",\"colorbar\":{\"outlinewidth\":0,\"ticks\":\"\"},\"colorscale\":[[0.0,\"#0d0887\"],[0.1111111111111111,\"#46039f\"],[0.2222222222222222,\"#7201a8\"],[0.3333333333333333,\"#9c179e\"],[0.4444444444444444,\"#bd3786\"],[0.5555555555555556,\"#d8576b\"],[0.6666666666666666,\"#ed7953\"],[0.7777777777777778,\"#fb9f3a\"],[0.8888888888888888,\"#fdca26\"],[1.0,\"#f0f921\"]]}],\"heatmapgl\":[{\"type\":\"heatmapgl\",\"colorbar\":{\"outlinewidth\":0,\"ticks\":\"\"},\"colorscale\":[[0.0,\"#0d0887\"],[0.1111111111111111,\"#46039f\"],[0.2222222222222222,\"#7201a8\"],[0.3333333333333333,\"#9c179e\"],[0.4444444444444444,\"#bd3786\"],[0.5555555555555556,\"#d8576b\"],[0.6666666666666666,\"#ed7953\"],[0.7777777777777778,\"#fb9f3a\"],[0.8888888888888888,\"#fdca26\"],[1.0,\"#f0f921\"]]}],\"contourcarpet\":[{\"type\":\"contourcarpet\",\"colorbar\":{\"outlinewidth\":0,\"ticks\":\"\"}}],\"contour\":[{\"type\":\"contour\",\"colorbar\":{\"outlinewidth\":0,\"ticks\":\"\"},\"colorscale\":[[0.0,\"#0d0887\"],[0.1111111111111111,\"#46039f\"],[0.2222222222222222,\"#7201a8\"],[0.3333333333333333,\"#9c179e\"],[0.4444444444444444,\"#bd3786\"],[0.5555555555555556,\"#d8576b\"],[0.6666666666666666,\"#ed7953\"],[0.7777777777777778,\"#fb9f3a\"],[0.8888888888888888,\"#fdca26\"],[1.0,\"#f0f921\"]]}],\"surface\":[{\"type\":\"surface\",\"colorbar\":{\"outlinewidth\":0,\"ticks\":\"\"},\"colorscale\":[[0.0,\"#0d0887\"],[0.1111111111111111,\"#46039f\"],[0.2222222222222222,\"#7201a8\"],[0.3333333333333333,\"#9c179e\"],[0.4444444444444444,\"#bd3786\"],[0.5555555555555556,\"#d8576b\"],[0.6666666666666666,\"#ed7953\"],[0.7777777777777778,\"#fb9f3a\"],[0.8888888888888888,\"#fdca26\"],[1.0,\"#f0f921\"]]}],\"mesh3d\":[{\"type\":\"mesh3d\",\"colorbar\":{\"outlinewidth\":0,\"ticks\":\"\"}}],\"scatter\":[{\"fillpattern\":{\"fillmode\":\"overlay\",\"size\":10,\"solidity\":0.2},\"type\":\"scatter\"}],\"parcoords\":[{\"type\":\"parcoords\",\"line\":{\"colorbar\":{\"outlinewidth\":0,\"ticks\":\"\"}}}],\"scatterpolargl\":[{\"type\":\"scatterpolargl\",\"marker\":{\"colorbar\":{\"outlinewidth\":0,\"ticks\":\"\"}}}],\"bar\":[{\"error_x\":{\"color\":\"#2a3f5f\"},\"error_y\":{\"color\":\"#2a3f5f\"},\"marker\":{\"line\":{\"color\":\"#E5ECF6\",\"width\":0.5},\"pattern\":{\"fillmode\":\"overlay\",\"size\":10,\"solidity\":0.2}},\"type\":\"bar\"}],\"scattergeo\":[{\"type\":\"scattergeo\",\"marker\":{\"colorbar\":{\"outlinewidth\":0,\"ticks\":\"\"}}}],\"scatterpolar\":[{\"type\":\"scatterpolar\",\"marker\":{\"colorbar\":{\"outlinewidth\":0,\"ticks\":\"\"}}}],\"histogram\":[{\"marker\":{\"pattern\":{\"fillmode\":\"overlay\",\"size\":10,\"solidity\":0.2}},\"type\":\"histogram\"}],\"scattergl\":[{\"type\":\"scattergl\",\"marker\":{\"colorbar\":{\"outlinewidth\":0,\"ticks\":\"\"}}}],\"scatter3d\":[{\"type\":\"scatter3d\",\"line\":{\"colorbar\":{\"outlinewidth\":0,\"ticks\":\"\"}},\"marker\":{\"colorbar\":{\"outlinewidth\":0,\"ticks\":\"\"}}}],\"scattermapbox\":[{\"type\":\"scattermapbox\",\"marker\":{\"colorbar\":{\"outlinewidth\":0,\"ticks\":\"\"}}}],\"scatterternary\":[{\"type\":\"scatterternary\",\"marker\":{\"colorbar\":{\"outlinewidth\":0,\"ticks\":\"\"}}}],\"scattercarpet\":[{\"type\":\"scattercarpet\",\"marker\":{\"colorbar\":{\"outlinewidth\":0,\"ticks\":\"\"}}}],\"carpet\":[{\"aaxis\":{\"endlinecolor\":\"#2a3f5f\",\"gridcolor\":\"white\",\"linecolor\":\"white\",\"minorgridcolor\":\"white\",\"startlinecolor\":\"#2a3f5f\"},\"baxis\":{\"endlinecolor\":\"#2a3f5f\",\"gridcolor\":\"white\",\"linecolor\":\"white\",\"minorgridcolor\":\"white\",\"startlinecolor\":\"#2a3f5f\"},\"type\":\"carpet\"}],\"table\":[{\"cells\":{\"fill\":{\"color\":\"#EBF0F8\"},\"line\":{\"color\":\"white\"}},\"header\":{\"fill\":{\"color\":\"#C8D4E3\"},\"line\":{\"color\":\"white\"}},\"type\":\"table\"}],\"barpolar\":[{\"marker\":{\"line\":{\"color\":\"#E5ECF6\",\"width\":0.5},\"pattern\":{\"fillmode\":\"overlay\",\"size\":10,\"solidity\":0.2}},\"type\":\"barpolar\"}],\"pie\":[{\"automargin\":true,\"type\":\"pie\"}]},\"layout\":{\"autotypenumbers\":\"strict\",\"colorway\":[\"#636efa\",\"#EF553B\",\"#00cc96\",\"#ab63fa\",\"#FFA15A\",\"#19d3f3\",\"#FF6692\",\"#B6E880\",\"#FF97FF\",\"#FECB52\"],\"font\":{\"color\":\"#2a3f5f\"},\"hovermode\":\"closest\",\"hoverlabel\":{\"align\":\"left\"},\"paper_bgcolor\":\"white\",\"plot_bgcolor\":\"#E5ECF6\",\"polar\":{\"bgcolor\":\"#E5ECF6\",\"angularaxis\":{\"gridcolor\":\"white\",\"linecolor\":\"white\",\"ticks\":\"\"},\"radialaxis\":{\"gridcolor\":\"white\",\"linecolor\":\"white\",\"ticks\":\"\"}},\"ternary\":{\"bgcolor\":\"#E5ECF6\",\"aaxis\":{\"gridcolor\":\"white\",\"linecolor\":\"white\",\"ticks\":\"\"},\"baxis\":{\"gridcolor\":\"white\",\"linecolor\":\"white\",\"ticks\":\"\"},\"caxis\":{\"gridcolor\":\"white\",\"linecolor\":\"white\",\"ticks\":\"\"}},\"coloraxis\":{\"colorbar\":{\"outlinewidth\":0,\"ticks\":\"\"}},\"colorscale\":{\"sequential\":[[0.0,\"#0d0887\"],[0.1111111111111111,\"#46039f\"],[0.2222222222222222,\"#7201a8\"],[0.3333333333333333,\"#9c179e\"],[0.4444444444444444,\"#bd3786\"],[0.5555555555555556,\"#d8576b\"],[0.6666666666666666,\"#ed7953\"],[0.7777777777777778,\"#fb9f3a\"],[0.8888888888888888,\"#fdca26\"],[1.0,\"#f0f921\"]],\"sequentialminus\":[[0.0,\"#0d0887\"],[0.1111111111111111,\"#46039f\"],[0.2222222222222222,\"#7201a8\"],[0.3333333333333333,\"#9c179e\"],[0.4444444444444444,\"#bd3786\"],[0.5555555555555556,\"#d8576b\"],[0.6666666666666666,\"#ed7953\"],[0.7777777777777778,\"#fb9f3a\"],[0.8888888888888888,\"#fdca26\"],[1.0,\"#f0f921\"]],\"diverging\":[[0,\"#8e0152\"],[0.1,\"#c51b7d\"],[0.2,\"#de77ae\"],[0.3,\"#f1b6da\"],[0.4,\"#fde0ef\"],[0.5,\"#f7f7f7\"],[0.6,\"#e6f5d0\"],[0.7,\"#b8e186\"],[0.8,\"#7fbc41\"],[0.9,\"#4d9221\"],[1,\"#276419\"]]},\"xaxis\":{\"gridcolor\":\"white\",\"linecolor\":\"white\",\"ticks\":\"\",\"title\":{\"standoff\":15},\"zerolinecolor\":\"white\",\"automargin\":true,\"zerolinewidth\":2},\"yaxis\":{\"gridcolor\":\"white\",\"linecolor\":\"white\",\"ticks\":\"\",\"title\":{\"standoff\":15},\"zerolinecolor\":\"white\",\"automargin\":true,\"zerolinewidth\":2},\"scene\":{\"xaxis\":{\"backgroundcolor\":\"#E5ECF6\",\"gridcolor\":\"white\",\"linecolor\":\"white\",\"showbackground\":true,\"ticks\":\"\",\"zerolinecolor\":\"white\",\"gridwidth\":2},\"yaxis\":{\"backgroundcolor\":\"#E5ECF6\",\"gridcolor\":\"white\",\"linecolor\":\"white\",\"showbackground\":true,\"ticks\":\"\",\"zerolinecolor\":\"white\",\"gridwidth\":2},\"zaxis\":{\"backgroundcolor\":\"#E5ECF6\",\"gridcolor\":\"white\",\"linecolor\":\"white\",\"showbackground\":true,\"ticks\":\"\",\"zerolinecolor\":\"white\",\"gridwidth\":2}},\"shapedefaults\":{\"line\":{\"color\":\"#2a3f5f\"}},\"annotationdefaults\":{\"arrowcolor\":\"#2a3f5f\",\"arrowhead\":0,\"arrowwidth\":1},\"geo\":{\"bgcolor\":\"white\",\"landcolor\":\"#E5ECF6\",\"subunitcolor\":\"white\",\"showland\":true,\"showlakes\":true,\"lakecolor\":\"white\"},\"title\":{\"x\":0.05},\"mapbox\":{\"style\":\"light\"}}},\"xaxis\":{\"anchor\":\"y\",\"domain\":[0.0,1.0],\"title\":{\"text\":\"Date\"}},\"yaxis\":{\"anchor\":\"x\",\"domain\":[0.0,1.0],\"title\":{\"text\":\"Close\"}},\"legend\":{\"tracegroupgap\":0},\"title\":{\"text\":\"Facebook Stock Price Over Time\"}},                        {\"responsive\": true}                    ).then(function(){\n",
              "                            \n",
              "var gd = document.getElementById('1993435a-434b-40a2-9858-87bfeed2d1cc');\n",
              "var x = new MutationObserver(function (mutations, observer) {{\n",
              "        var display = window.getComputedStyle(gd).display;\n",
              "        if (!display || display === 'none') {{\n",
              "            console.log([gd, 'removed!']);\n",
              "            Plotly.purge(gd);\n",
              "            observer.disconnect();\n",
              "        }}\n",
              "}});\n",
              "\n",
              "// Listen for the removal of the full notebook cells\n",
              "var notebookContainer = gd.closest('#notebook-container');\n",
              "if (notebookContainer) {{\n",
              "    x.observe(notebookContainer, {childList: true});\n",
              "}}\n",
              "\n",
              "// Listen for the clearing of the current output cell\n",
              "var outputEl = gd.closest('.output');\n",
              "if (outputEl) {{\n",
              "    x.observe(outputEl, {childList: true});\n",
              "}}\n",
              "\n",
              "                        })                };                            </script>        </div>\n",
              "</body>\n",
              "</html>"
            ]
          },
          "metadata": {}
        }
      ],
      "execution_count": 9
    },
    {
      "cell_type": "code",
      "source": [
        "\n",
        "fig4 = go.Figure(data=[go.Candlestick(x=df['Date'],\n",
        "                                     open=df['Open'],\n",
        "                                     high=df['High'],\n",
        "                                     low=df['Low'],\n",
        "                                     close=df['Close'])])\n",
        "\n",
        "fig4.update_layout(title='Facebook Stock Prices - Candlestick Chart',\n",
        "                   xaxis_title='Date',\n",
        "                   yaxis_title='Stock Price')\n",
        "\n",
        "fig4.show()"
      ],
      "metadata": {
        "execution": {
          "iopub.status.busy": "2023-07-30T09:59:25.314509Z",
          "iopub.execute_input": "2023-07-30T09:59:25.3149Z",
          "iopub.status.idle": "2023-07-30T09:59:25.39977Z",
          "shell.execute_reply.started": "2023-07-30T09:59:25.314868Z",
          "shell.execute_reply": "2023-07-30T09:59:25.398904Z"
        },
        "trusted": true,
        "colab": {
          "base_uri": "https://localhost:8080/",
          "height": 542
        },
        "id": "rPKuVb3Loc3q",
        "outputId": "f9c4fbc6-4c48-4ec6-8575-4536ccc229ed"
      },
      "outputs": [
        {
          "output_type": "display_data",
          "data": {
            "text/html": [
              "<html>\n",
              "<head><meta charset=\"utf-8\" /></head>\n",
              "<body>\n",
              "    <div>            <script src=\"https://cdnjs.cloudflare.com/ajax/libs/mathjax/2.7.5/MathJax.js?config=TeX-AMS-MML_SVG\"></script><script type=\"text/javascript\">if (window.MathJax && window.MathJax.Hub && window.MathJax.Hub.Config) {window.MathJax.Hub.Config({SVG: {font: \"STIX-Web\"}});}</script>                <script type=\"text/javascript\">window.PlotlyConfig = {MathJaxConfig: 'local'};</script>\n",
              "        <script charset=\"utf-8\" src=\"https://cdn.plot.ly/plotly-2.35.2.min.js\"></script>                <div id=\"52f42a68-5515-4783-b64b-0dd911de65a6\" class=\"plotly-graph-div\" style=\"height:525px; width:100%;\"></div>            <script type=\"text/javascript\">                                    window.PLOTLYENV=window.PLOTLYENV || {};                                    if (document.getElementById(\"52f42a68-5515-4783-b64b-0dd911de65a6\")) {                    Plotly.newPlot(                        \"52f42a68-5515-4783-b64b-0dd911de65a6\",                        [{\"close\":[38.08452224731445,33.9005012512207,30.882034301757812,31.87822723388672,32.90430450439453,31.7885684967041,28.73025131225586,28.082727432250977,29.48736000061035,27.61451530456543,26.79763412475586,25.771554946899414,26.707977294921875,26.20987892150879,26.99687385559082,26.907217025756836,27.295732498168945,27.166227340698242,28.18234634399414,29.89579963684082,31.29047203063965,31.7885684967041,31.47974967956543,31.718835830688477,32.924232482910156,31.93800163269043,32.97404479980469,32.10734939575195,31.240663528442383,30.981651306152344,30.652908325195312,31.08127212524414,31.350244522094727,31.6092529296875,32.047576904296875,31.350244522094727,30.85214614868164,30.69275665283203,30.60309600830078,28.142498016357422,27.98310661315918,28.999225616455078,28.8896427154541,28.650556564331055,28.640594482421875,28.34173583984375,29.228349685668945,26.747825622558594,23.61977195739746,23.061904907226562,21.627384185791016,20.8005428314209,19.963741302490234,21.00974464416504,21.836584091186523,20.641151428222656,20.641151428222656,20.930049896240234,21.72700309753418,21.517805099487305,20.302444458007812,21.119327545166016,19.794387817382812,18.977506637573242,19.933856964111328,19.08708953857422,19.36602210998535,19.36602210998535,19.336137771606445,19.077125549316406,19.26640510559082,19.02731704711914,19.017353057861328,17.991273880004883,17.66253089904785,18.509296417236328,18.887849807739258,18.907773971557617,18.738420486450195,19.356063842773438,20.850353240966797,20.631189346313477,21.916282653808594,21.438106536865234,21.78677749633789,23.201374053955078,22.5040340423584,22.773008346557617,20.710887908935547,20.20282554626465,20.541534423828125,20.24267578125,21.57757568359375,21.90631866455078,22.185256958007812,21.74692726135254,21.866472244262695,20.830427169799805,20.322368621826172,20.153017044067383,19.565261840820312,19.674842834472656,19.445720672607422,19.445720672607422,19.40587043762207,19.80434799194336,18.907773971557617,18.927696228027344,19.24648094177246,19.42579460144043,23.141599655151367,22.474149703979492,21.856510162353516,21.02967071533203,21.12928581237793,21.099401473999023,21.16913604736328,21.089439392089844,20.39210319519043,19.913930892944336,19.136898040771484,19.993623733520508,19.784425735473633,22.274913787841797,22.085634231567383,23.47034454345703,22.832780838012695,23.012096405029297,24.22745132446289,23.90867042541504,25.841289520263672,26.050487518310547,26.25969123840332,27.21603775024414,27.893447875976562,26.937103271484375,27.35550308227539,27.604551315307617,26.867366790771484,27.38538932800293,27.73405647277832,27.873525619506836,27.475046157836914,28.132535934448242,26.707977294921875,26.648204803466797,27.604551315307617,27.305696487426758,27.25588607788086,26.160070419311523,26.8275203704834,26.409120559692383,25.95086669921875,25.8114013671875,26.518701553344727,27.893447875976562,27.664323806762695,28.650556564331055,29.30804443359375,28.94941520690918,30.47359275817871,31.180889129638672,31.59929084777832,30.832223892211914,29.985456466674805,29.73641014099121,30.02530288696289,29.547134399414062,30.61305809020996,30.702720642089844,30.961729049682617,31.419979095458984,32.34644317626953,30.672832489013672,31.121118545532227,30.86210823059082,29.616865158081055,28.00303077697754,28.53101348876953,28.939453125,28.54097557067871,28.441356658935547,28.15245819091797,27.265846252441406,27.803791046142578,28.39154815673828,28.212230682373047,28.819910049438477,28.35169792175293,27.17618751525879,27.026758193969727,27.166227340698242,27.285770416259766,26.767751693725586,27.146303176879883,27.674283981323242,27.61451530456543,27.41527557373047,27.345544815063477,28.471240997314453,27.853601455688477,28.032917022705078,27.724096298217773,26.97694969177246,26.937103271484375,26.548585891723633,26.38919448852539,26.448965072631836,25.761594772338867,25.642047882080078,25.63208770751953,25.03437042236328,25.114063262939453,25.9907169342041,25.482656478881836,25.43284797668457,25.323265075683594,26.150110244750977,26.96698760986328,27.285770416259766,26.747825622558594,26.488813400268555,27.465084075927734,27.913373947143555,27.295732498168945,26.41908073425293,26.81756019592285,26.52865982055664,25.592239379882812,25.63208770751953,25.871171951293945,25.881135940551758,26.01064109802246,26.040525436401367,26.747825622558594,26.877330780029297,27.664323806762695,27.325618743896484,28.859756469726562,28.202266693115234,27.465084075927734,26.78767204284668,27.01679801940918,26.937103271484375,26.57847023010254,26.717939376831055,26.96698760986328,26.498777389526367,26.030563354492188,26.150110244750977,25.66197395324707,25.562355041503906,25.064254760742188,24.964637756347656,24.217491149902344,24.008291244506836,23.231258392333984,24.45657730102539,24.257339477539062,23.759241104125977,23.430498123168945,22.812854766845703,22.88258934020996,23.201374053955078,24.23741340637207,23.93855857849121,23.679546356201172,23.639698028564453,23.54007911682129,23.9285945892334,24.11787223815918,24.217491149902344,23.809051513671875,24.436655044555664,23.848901748657227,24.157718658447266,24.06805992126465,24.566160202026367,24.785322189331055,24.715587615966797,24.317110061645508,24.426694869995117,24.27726173400879,24.615966796875,25.38303565979004,25.701820373535156,25.711782455444336,25.8114013671875,26.179994583129883,26.21984100341797,26.548585891723633,26.08037567138672,25.78151512145996,25.95086669921875,26.030563354492188,26.409120559692383,34.229248046875,33.88057327270508,35.29517364501953,37.48680114746094,36.65996170043945,37.34733581542969,37.905208587646484,39.04086685180664,38.40330123901367,38.72208023071289,38.39334487915039,38.353492736816406,38.07455825805664,36.87912368774414,36.51053237915039,36.42087936401367,36.938899993896484,37.666114807128906,38.26383590698242,38.17417907714844,38.40330123901367,40.395694732666016,41.18268585205078,39.48915100097656,40.395694732666016,41.1229133605957,41.13287353515625,41.71066665649414,41.621009826660156,42.49766159057617,43.78275680541992,43.87240982055664,43.43408203125,44.86860656738281,44.579708099365234,44.14138412475586,42.34822463989258,44.898494720458984,45.05788040161133,45.80502700805664,47.30928421020508,47.01042556762695,48.265628814697266,49.271785736083984,50.198246002197266,51.04501724243164,50.03885269165039,50.228126525878906,50.08866500854492,48.99285125732422,50.84577178955078,50.327754974365234,46.96061325073242,46.59202194213867,48.863346099853516,48.92311477661133,49.32159423828125,49.3116340637207,50.94539260864258,52.01131820678711,54.013668060302734,53.645076751708984,52.47953414916992,51.7025032043457,52.25040817260742,51.75231170654297,50.03885269165039,49.21201705932617,48.82349395751953,50.0189323425293,49.5606803894043,48.036502838134766,49.9193115234375,48.93307876586914,47.37901306152344,47.3491325378418,46.024192810058594,46.4326286315918,48.524635314941406,48.80357360839844,48.82349395751953,45.655601501464844,46.1835823059082,46.25331497192383,46.52228927612305,46.0540771484375,44.64944076538086,45.71536636352539,46.313087463378906,46.83110427856445,46.880916595458984,46.55217361450195,48.43498229980469,48.15604782104492,47.757568359375,48.654144287109375,50.058780670166016,49.19208908081055,51.63277053833008,53.11709213256836,53.60523223876953,54.65123748779297,55.35853576660156,54.840511322021484,54.910247802734375,57.55016326904297,57.739437103271484,57.51031494140625,55.22903060913086,53.505611419677734,54.44203567504883,54.50180435180664,54.35237503051758,56.98233413696289,57.699588775634766,58.0084114074707,57.00225830078125,57.719512939453125,55.69723892211914,57.52027893066406,57.38080596923828,56.97236633300781,56.08575439453125,58.2873420715332,57.2911491394043,56.41450119018555,54.242801666259766,53.34621810913086,54.93016815185547,53.3262939453125,60.84756851196289,62.33189392089844,61.24604034423828,62.511207580566406,61.95334243774414,61.923458099365234,64.07523345947266,63.30816650390625,64.60321807861328,64.20474243164062,67.07378387451172,66.8346939086914,67.04389953613281,67.8010025024414,69.36502838134766,68.3289794921875,70.51065063476562,69.58419036865234,68.9964370727539,68.67765045166016,68.19947814941406,67.15348815917969,68.53819274902344,71.29764556884766,70.57041931152344,69.53437805175781,71.75590515136719,69.83323669433594,70.61026763916016,68.56807708740234,67.46229553222656,68.47840881347656,68.92671203613281,67.9803237915039,66.71515655517578,66.98412322998047,63.85607147216797,64.64307403564453,60.160194396972656,60.73798751831055,59.781639099121094,60.01076126098633,62.3817024230957,62.481327056884766,59.26361846923828,56.5340461730957,56.7332878112793,57.968563079833984,62.172508239746094,58.934871673583984,58.30727005004883,58.66590118408203,58.865135192871094,59.49274444580078,58.71570587158203,61.0069580078125,62.79014587402344,61.12649917602539,60.63835906982422,57.49039077758789,55.92636489868164,57.928714752197266,59.552513122558594,60.91730499267578,60.22992706298828,60.98703384399414,58.30727005004883,57.171607971191406,56.544002532958984,57.022178649902344,59.602325439453125,59.602325439453125,59.004608154296875,57.699588775634766,57.7992057800293,58.98468017578125,58.337158203125,60.25981521606445,60.289695739746094,61.116539001464844,63.238433837890625,63.26831817626953,63.58710479736328,63.059120178222656,62.83995819091797,62.63075256347656,63.09896469116211,62.94953155517578,62.26216125488281,62.64072036743164,65.51970672607422,65.52967834472656,64.04534912109375,64.25455474853516,63.94573211669922,64.15493774414062,65.3503646850586,64.09515380859375,64.25455474853516,65.1212387084961,65.46990966796875,67.1833724975586,66.87454223632812,67.3427505493164,67.03392791748047,67.8010025024414,66.19712829589844,66.0377426147461,65.04154968261719,62.521175384521484,64.72277069091797,64.62313842773438,66.08753967285156,67.64161682128906,66.91439056396484,67.40252685546875,66.15728759765625,68.15962982177734,69.13591003417969,69.00639343261719,71.01871490478516,74.69467163085938,74.90387725830078,74.63489532470703,73.42949676513672,74.39581298828125,72.37353515625,72.08464050292969,73.23026275634766,72.41338348388672,72.19422149658203,72.89155578613281,72.78197479248047,73.16053771972656,72.55284881591797,73.48927307128906,74.01725769042969,73.34980010986328,74.30615234375,75.00348663330078,74.52531433105469,74.28622436523438,74.28622436523438,74.73451232910156,75.67094421386719,74.34600830078125,73.57894134521484,74.5352783203125,76.38819885253906,75.54143524169922,75.66097259521484,76.96599578857422,77.5936050415039,76.37824249267578,77.13534545898438,77.62348175048828,77.18516540527344,74.29619598388672,75.79048156738281,76.13915252685547,76.70698547363281,77.613525390625,76.50774383544922,77.99208068847656,78.24112701416016,76.9261474609375,78.49018096923828,78.69937133789062,78.73921203613281,76.25869750976562,76.78668975830078,77.14531707763672,77.26485443115234,75.99968719482422,77.22500610351562,75.62113952636719,72.63255310058594,72.71223449707031,73.3099594116211,72.93141174316406,72.35360717773438,75.66097259521484,76.65718078613281,78.39055633544922,78.07176971435547,79.73542785644531,80.3630142211914,79.97449493408203,80.46263122558594,75.57131958007812,73.8279800415039,74.70463562011719,73.5988540649414,75.47171020507812,74.54524993896484,74.97360229492188,75.31231689453125,74.714599609375,74.3260726928711,74.43566131591797,73.96744537353516,74.59505462646484,73.95748138427734,74.0571060180664,73.05094909667969,73.3199234008789,73.46935272216797,73.7283706665039,75.34219360351562,77.32463073730469,77.40431213378906,74.814208984375,75.17283630371094,74.59505462646484,74.95368194580078,76.06941223144531,76.22879791259766,76.54759216308594,75.89009857177734,77.43421173095703,77.53382110595703,76.697021484375,74.40577697753906,75.82037353515625,78.10165405273438,79.57601928710938,81.14005279541016,80.30325317382812,80.46263122558594,80.47260284423828,79.71548461914062,78.91853332519531,77.72309875488281,78.15145874023438,76.8962631225586,75.86021423339844,75.86021423339844,77.88249206542969,77.44416046142578,76.42804718017578,76.15907287597656,75.9897232055664,73.7682113647461,74.89390563964844,75.94987487792969,76.4479751586914,77.3545150756836,77.53382110595703,77.205078125,75.49162292480469,75.94987487792969,77.70317840576172,75.62113952636719,74.70463562011719,75.11308288574219,75.34219360351562,75.32228088378906,74.18661499023438,74.15672302246094,74.90387725830078,76.21885681152344,75.9399185180664,75.4517822265625,75.31231689453125,76.4180908203125,79.1177749633789,79.595947265625,78.53997039794922,78.15145874023438,79.25724029541016,80.10401153564453,78.66948699951172,79.44651794433594,79.2970962524414,80.59214782714844,80.90096282958984,79.70553588867188,79.13770294189453,77.25489807128906,77.27481079101562,78.62964630126953,77.75299835205078,77.77291107177734,79.0580062866211,80.60211181640625,82.43509674072266,83.48110961914062,84.10871124267578,84.98535919189453,82.60445404052734,82.6941146850586,82.98301696777344,82.88339233398438,81.90711975097656,81.35920715332031,81.24962615966797,82.12628936767578,82.00674438476562,81.9668960571289,81.85730743408203,81.7278060913086,82.6941146850586,83.2021713256836,82.39524841308594,81.99678039550781,80.47260284423828,82.7738037109375,83.30179595947266,84.30795288085938,82.09640502929688,81.21974182128906,81.59830474853516,80.37298583984375,80.16378021240234,78.47024536132812,78.68940734863281,78.51008605957031,77.26485443115234,77.80278778076172,78.13154602050781,78.21123504638672,77.71314239501953,77.16522979736328,78.14151000976562,81.06035614013672,80.11396026611328,80.57221984863281,80.32316589355469,80.24347686767578,80.17374420166016,80.2335205078125,79.02812194824219,80.24347686767578,79.8449935913086,78.88865661621094,79.98446655273438,80.13389587402344,82.12628936767578,81.7377700805664,81.82742309570312,80.3630142211914,80.3630142211914,81.84735107421875,81.51860046386719,81.21974182128906,80.40287017822266,80.75153350830078,81.478759765625,82.59449005126953,82.1960220336914,84.41752624511719,87.54557037353516,88.5218505859375,87.64521026611328,87.67508697509766,85.47349548339844,85.443603515625,86.57927703857422,86.95783233642578,87.21683502197266,86.88809204101562,85.3240737915039,85.55319213867188,87.61531066894531,89.75713348388672,89.33873748779297,89.41842651367188,90.50428009033203,94.60859680175781,97.53742218017578,98.01557922363281,96.67073059082031,95.07681274414062,96.5810546875,93.8116455078125,94.9273910522461,96.62091064453125,94.84768676757812,93.65225982666016,93.78175354003906,93.70205688476562,96.07300567626953,94.75802612304688,93.94114685058594,93.7917251586914,93.26374053955078,93.8315658569336,93.074462890625,94.06069946289062,93.57256317138672,94.80783081054688,94.94730377197266,90.21537017822266,85.73250579833984,81.7776107788086,82.68415069580078,86.85820770263672,89.3885498046875,90.6636734008789,89.08968353271484,86.89806365966797,89.54792785644531,87.81455993652344,87.92414093017578,89.18930053710938,90.09584045410156,91.62997436523438,91.69972229003906,91.95870971679688,92.5464859008789,93.09437561035156,93.98100280761719,94.040771484375,95.1864013671875,92.60624694824219,93.61241149902344,94.05073547363281,92.41697692871094,88.87052917480469,86.34017944335938,89.55789947509766,90.60389709472656,91.71964263916016,93.65225982666016,92.44686126708984,92.04838562011719,92.11811065673828,92.88518524169922,93.90129852294922,93.76183319091797,93.71202087402344,95.59484100341797,97.1688232421875,98.09528350830078,96.63087463378906,96.74044799804688,99.29071807861328,101.80113220214844,103.37511444091797,103.30537414550781,103.803466796875,104.48088836669922,101.58197021484375,102.91686248779297,102.18964385986328,103.54447174072266,108.34613037109375,106.69243621826172,106.08475494384766,107.49935913085938,108.59516906738281,107.60894012451172,103.55442810058594,103.64408111572266,104.72993469238281,107.3598861694336,105.85564422607422,106.91161346435547,106.54301452636719,105.33761596679688,105.00887298583984,105.04871368408203,103.84331512451172,106.7123794555664,105.6663589477539,103.9827880859375,105.77594757080078,105.2081069946289,106.08475494384766,104.20195007324219,105.01882934570312,101.73139190673828,104.26173400878906,104.15214538574219,106.38362121582031,105.8157958984375,103.64408111572266,104.37129974365234,105.10848999023438,104.23184204101562,104.62035369873047,105.52689361572266,106.8518295288086,105.8157958984375,104.26173400878906,101.83100891113281,102.33907318115234,102.57816314697266,97.54737854003906,96.95962524414062,97.13894653320312,98.99185180664062,95.07681274414062,97.99566650390625,94.60859680175781,94.89750671386719,93.99095916748047,93.80168914794922,97.56730651855469,96.64083862304688,96.9695816040039,94.090576171875,108.69479370117188,111.78299713134766,114.65203094482422,114.17387390136719,112.26117706298828,110.06954193115234,103.67396545410156,99.37041473388672,99.16121673583984,100.61565399169922,101.52220153808594,101.62181854248047,101.22334289550781,104.79967498779297,103.07624816894531,104.17206573486328,106.7522201538086,105.05867767333984,106.47327423095703,107.65874481201172,107.50932312011719,106.51311492919922,109.40209197998047,109.5315933227539,109.16300201416016,107.97753143310547,105.32766723632812,105.52689361572266,107.10089111328125,106.91161346435547,108.99365234375,109.4718246459961,110.24885559082031,111.75310516357422,110.59751892089844,111.02588653564453,111.42436218261719,111.8228530883789,112.11173248291016,112.61980438232422,113.25736999511719,115.69804382324219,114.26351928710938,113.66580200195312,115.61833953857422,112.1217041015625,111.79296112060547,113.27729034423828,113.20755004882812,110.20899963378906,108.57524871826172,110.1890869140625,110.08946990966797,110.41820526123047,109.22278594970703,110.0296859741211,111.86270141601562,111.99219512939453,113.00830841064453,110.13926696777344,109.68102264404297,108.34613037109375,108.47563171386719,116.28580474853516,117.132568359375,118.11878967285156,116.98313903808594,117.61073303222656,117.36167907714844,119.03529357910156,118.78623962402344,120.04144287109375,119.06517028808594,119.8222885131836,119.35407257080078,118.21841430664062,116.90343475341797,117.2022933959961,116.36549377441406,116.90343475341797,115.5286865234375,117.25210571289062,117.4413833618164,119.01536560058594,118.92571258544922,118.35787963867188,118.32798767089844,118.4774169921875,118.01918029785156,118.33795928955078,117.31188201904297,117.9394760131836,118.10883331298828,116.17621612548828,113.51637268066406,114.50260925292969,114.16390228271484,113.95470428466797,112.58991241455078,112.93859100341797,113.94473266601562,113.47652435302734,114.64208221435547,111.65349578857422,108.5553207397461,112.27112579345703,113.72557830810547,113.8451156616211,113.75546264648438,113.76542663574219,116.25590515136719,115.40914916992188,116.79385375976562,117.42145538330078,117.48123168945312,116.33560180664062,116.84366607666016,116.4153060913086,118.91575622558594,120.15103149414062,121.45603942871094,120.15103149414062,120.53954315185547,121.16715240478516,120.75870513916016,122.87063598632812,124.52432250976562,123.4683609008789,123.83695220947266,122.62158966064453,122.0438003540039,123.88676452636719,124.67375946044922,124.78334045410156,124.58409881591797,124.40477752685547,124.4247055053711,124.40477752685547,123.42850494384766,122.83080291748047,123.89672088623047,123.4384765625,123.08980560302734,123.67756652832031,123.89672088623047,123.01011657714844,123.41854858398438,124.4844741821289,126.05846405029297,125.36112213134766,125.64006805419922,125.68987274169922,126.02857208251953,129.236328125,130.55130004882812,129.77427673339844,126.6163330078125,128.20028686523438,126.72591400146484,127.28377532958984,127.8615951538086,128.57884216308594,128.16043090820312,128.1504669189453,129.44554138183594,129.58499145507812,127.47306060791016,126.8255386352539,128.20028686523438,128.73822021484375,127.60255432128906,127.7818832397461,128.2799835205078,127.70218658447266,127.98113250732422,128.25010681152344,128.4991455078125,129.74440002441406,128.3895721435547,128.5589141845703,127.33358764648438,127.39337158203125,127.0546646118164,128.08074951171875,129.61488342285156,129.50527954101562,131.5674285888672,132.77281188964844,131.7865753173828,130.54132080078125,129.1964874267578,130.79039001464844,130.49154663085938,129.0072021484375,126.68607330322266,119.54335021972656,120.2905044555664,121.68516540527344,123.74729919433594,122.71125030517578,120.34031677246094,118.56707763671875,114.64208221435547,116.7540054321289,115.89727783203125,117.34176635742188,116.5746841430664,121.30661010742188,121.00775909423828,120.3801498413086,119.92190551757812,119.95179748535156,120.41004180908203,117.9693603515625,114.66200256347656,114.96085357666016,116.98313903808594,116.86357879638672,117.50115203857422,118.45750427246094,119.22457122802734,117.32183837890625,119.8521728515625,119.75255584716797,120.1111831665039,119.41384887695312,118.78623962402344,118.63681030273438,118.5870132446289,116.95325469970703,116.82373809814453,117.56092071533203,116.47506713867188,115.90724182128906,114.61219024658203,116.4153060913086,118.23834228515625,120.21080017089844,122.94037628173828,124.4247055053711,123.87680053710938,125.61017608642578,126.13816833496094,127.85161590576172,127.38340759277344,127.4332046508789,127.06462860107422,126.55656433105469,128.4393768310547,128.877685546875,130.9796600341797,132.27471923828125,131.67698669433594,130.4815673828125,129.82406616210938,132.72300720214844,130.34210205078125,130.4815673828125,131.55746459960938,131.3383026123047,133.6893310546875,133.62954711914062,133.67935180664062,133.5398712158203,133.34063720703125,132.93222045898438,133.3306884765625,133.0218505859375,133.21115112304688,135.6020050048828,134.84487915039062,134.92459106445312,135.89089965820312,135.0242156982422,136.8970489501953,136.23956298828125,136.6480255126953,136.8970489501953,136.7775421142578,137.1959228515625,137.7139434814453,138.2618408203125,139.06875610351562,138.78985595703125,139.18832397460938,139.45729064941406,139.30784606933594,139.40745544433594,137.98291015625,139.05880737304688,138.99903869628906,139.80593872070312,139.78604125976562,141.2205352783203,142.1071319580078,141.86807250976562,141.5094451904297,141.73855590820312,141.19065856933594,141.31019592285156,140.63279724121094,140.24427795410156,140.50328063964844,139.38754272460938,139.04884338378906,138.85955810546875,140.8818359375,140.42359924316406,141.72860717773438,143.25279235839844,143.13323974609375,144.91644287109375,145.9325408935547,146.00228881835938,147.137939453125,149.67823791503906,151.8798370361328,152.19859313964844,151.2223358154297,150.2759552001953,149.6682891845703,150.48516845703125,149.90736389160156,149.7180938720703,149.46902465820312,149.7579345703125,149.61846923828125,149.2100372314453,144.29879760742188,147.0980987548828,147.49655151367188,147.67588806152344,147.5065460205078,149.46902465820312,151.38172912597656,151.5510711669922,151.8001251220703,150.88365173339844,150.95335388183594,153.02545166015625,153.04537963867188,152.22850036621094,152.5373077392578,154.1212615966797,149.03073120117188,147.87513732910156,150.10658264160156,149.67823791503906,149.22996520996094,150.06675720214844,152.2882537841797,151.67062377929688,153.32431030273438,152.8162384033203,154.4799041748047,153.00552368164062,150.00697326660156,152.6568603515625,150.46522521972656,150.40545654296875,147.86514282226562,149.7678985595703,148.25367736816406,150.86370849609375,152.91587829589844,154.67913818359375,158.29531860351562,158.65396118164062,159.3612518310547,159.12216186523438,162.24026489257812,163.515380859375,163.90390014648438,163.8042755126953,165.36830139160156,164.6510467529297,164.9797821044922,169.79141235351562,171.7937469482422,168.60594177246094,169.213623046875,168.65576171875,167.9484405517578,168.97454833984375,171.32554626464844,170.57839965820312,170.528564453125,166.7629852294922,167.44039916992188,170.1002197265625,170.3492889404297,169.35308837890625,166.27484130859375,166.77293395996094,167.1415252685547,168.99444580078125,168.06800842285156,167.10169982910156,165.68710327148438,166.6035919189453,167.41049194335938,169.2733917236328,171.31556701660156,171.3654022216797,170.07034301757812,171.43511962890625,172.55087280273438,170.29945373535156,172.84971618652344,172.3018341064453,172.39146423339844,170.3094482421875,170.98684692382812,169.36302185058594,171.8634796142578,171.51483154296875,170.4588623046875,169.89102172851562,162.25021362304688,163.5851287841797,167.04188537597656,168.08790588378906,170.2197723388672,168.82510375976562,169.31324768066406,167.77908325195312,170.58836364746094,171.5745849609375,171.84356689453125,170.93704223632812,172.08265686035156,171.89337158203125,173.078857421875,173.8558807373047,175.43983459472656,175.36013793945312,173.89573669433594,174.31414794921875,170.61825561523438,171.14622497558594,169.95082092285156,169.98068237304688,177.20309448242188,179.18551635742188,179.37478637695312,181.96490478515625,178.23912048339844,178.23912048339844,179.484375,179.5640869140625,178.87672424316406,178.61770629882812,177.78089904785156,178.08970642089844,177.39236450195312,177.2728271484375,178.90660095214844,178.31883239746094,178.05984497070312,181.16793823242188,180.1817169189453,182.08445739746094,182.33349609375,181.72581481933594,174.46356201171875,176.50575256347656,174.4336700439453,170.81748962402344,172.1723175048828,175.39002990722656,179.45448303222656,178.31883239746094,178.35867309570312,176.28659057617188,177.62149047851562,177.71115112304688,179.4943389892578,180.1319122314453,178.82688903808594,177.21307373046875,176.7747344970703,176.5256805419922,175.32028198242188,176.94407653808594,177.24293518066406,175.78851318359375,180.72962951660156,183.96725463867188,183.62855529785156,186.13897705078125,187.56350708007812,187.1550750732422,187.12518310546875,187.0554656982422,178.6874237060547,177.71115112304688,176.92417907714844,179.1157989501953,180.60011291503906,184.6645965576172,188.6294403076172,185.84010314941406,186.7665557861328,189.27696228027344,185.2722625732422,186.40792846679688,186.17880249023438,192.355224609375,189.555908203125,180.5702362060547,184.60482788085938,179.4943389892578,170.92706298828125,175.43983459472656,175.7386932373047,172.49110412597656,178.83685302734375,179.2751922607422,176.68507385253906,175.3402099609375,177.2329864501953,178.3088836669922,182.59251403808594,184.22625732421875,180.76947021484375,177.6414337158203,175.27049255371094,175.94789123535156,179.71348571777344,179.09585571289062,183.0109100341797,181.6461181640625,184.52511596679688,184.05691528320312,181.18788146972656,183.48907470703125,183.16033935546875,184.38565063476562,171.90333557128906,167.51011657714844,168.7454071044922,164.26251220703125,158.78346252441406,159.45091247558594,151.6407470703125,152.44766235351562,159.1819305419922,154.79867553710938,155.51593017578125,154.50979614257812,158.73365783691406,156.60179138183594,157.32901000976562,164.41195678710938,165.68710327148438,163.2464141845703,163.89393615722656,164.2027587890625,168.01817321777344,165.72694396972656,167.46031188964844,165.64723205566406,165.2089080810547,159.0823211669922,159.0823211669922,173.49725341796875,172.92941284179688,171.345458984375,173.19839477539062,175.39999389648438,173.3577880859375,175.9379119873047,177.2927703857422,178.23912048339844,181.96490478515625,184.823974609375,186.2784423828125,185.9297637939453,183.61859130859375,182.50283813476562,183.0607147216797,181.9848175048828,183.78793334960938,183.10057067871094,186.18875122070312,185.2224578857422,184.21630859375,185.033203125,186.95582580566406,191.05020141601562,193.2517852783203,192.5444793701172,192.20579528808594,190.6118621826172,187.46388244628906,188.3804168701172,190.81109619140625,191.66783142089844,191.6778106689453,196.06103515625,195.10472106933594,197.5553436279297,196.7384796142578,201.23130798339844,200.73321533203125,200.97230529785156,195.60281372070312,198.2427215576172,195.09475708007812,195.48326110839844,193.58053588867188,196.6089630126953,191.99658203125,197.69482421875,202.4566192626953,203.9608917236328,202.76544189453125,201.76925659179688,206.132568359375,206.5310821533203,206.44139099121094,209.19090270996094,208.5633087158203,207.29815673828125,209.14109802246094,210.107421875,213.8531036376953,216.67233276367188,175.58926391601562,174.22447204589844,170.4090576171875,171.9232635498047,170.99679565429688,175.69883728027344,177.1034698486328,184.98338317871094,183.11053466796875,184.47532653808594,182.39328002929688,179.57403564453125,179.36485290527344,180.42080688476562,178.84681701660156,174.03518676757812,173.13861083984375,171.84356689453125,171.96310424804688,172.97923278808594,172.24203491210938,173.98536682128906,176.78469848632812,175.58926391601562,175.23062133789062,176.96400451660156,175.06126403808594,170.50868225097656,166.5438232421875,161.91151428222656,162.4195556640625,163.5552215576172,165.30853271484375,161.38351440429688,160.7459716796875,161.70230102539062,159.96893310546875,159.6899871826172,162.43948364257812,165.3882293701172,162.3099822998047,164.7805633544922,164.28244018554688,166.314697265625,168.19749450683594,163.83416748046875,161.8218536376953,158.72369384765625,161.81187438964844,158.24549865722656,156.73130798339844,156.65159606933594,157.29913330078125,150.80393981933594,152.76644897460938,153.15496826171875,152.935791015625,158.17578125,158.81332397460938,154.33045959472656,153.46377563476562,154.1909942626953,153.802490234375,145.4842529296875,150.3755645751953,144.8168182373047,141.54928588867188,145.66358947753906,151.2123565673828,151.17254638671875,149.77786254882812,148.1142120361328,149.36940002441406,150.95335388183594,147.30728149414062,144.40838623046875,141.0113525390625,141.6190185546875,143.6711883544922,143.3026123046875,138.99903869628906,131.04940795898438,131.92605590820312,134.30697631835938,131.2287139892578,135.86102294921875,134.48626708984375,136.23956298828125,138.1522674560547,140.07492065429688,140.55311584472656,137.4051055908203,139.09864807128906,136.8970489501953,141.31019592285156,141.53932189941406,143.95010375976562,144.4581756591797,143.51181030273438,139.65652465820312,143.11331176757812,132.7329559326172,132.89236450195312,124.47451782226562,123.587890625,133.6693878173828,134.00811767578125,132.693115234375,130.59115600585938,135.16366577148438,131.23867797851562,137.42503356933594,137.52467346191406,141.9876251220703,143.68115234375,143.65126037597656,143.25279235839844,144.83673095703125,148.3831787109375,146.97854614257812,147.73565673828125,149.46902465820312,147.00843811035156,143.75088500976562,145.27505493164062,148.4429473876953,146.90882873535156,143.64129638671875,149.8475799560547,166.05567932128906,165.07940673828125,168.60594177246094,170.50868225097656,169.84121704101562,165.74685668945312,166.6932373046875,165.15908813476562,164.41195678710938,163.44566345214844,163.3260955810547,161.8816375732422,161.6724090576172,161.94140625,159.43096923828125,161.27394104003906,163.99356079101562,163.5054473876953,162.1904296875,160.8356170654297,161.66246032714844,166.73309326171875,170.6082763671875,171.85353088378906,168.4864044189453,168.95462036132812,171.4152069091797,171.26576232910156,172.7102508544922,169.52243041992188,165.34837341308594,159.85935974121094,160.95516967773438,164.81044006347656,165.447998046875,163.71461486816406,165.65721130371094,167.04188537597656,165.23880004882812,164.92002868652344,166.05567932128906,168.05801391601562,173.53709411621094,172.8795928955078,175.3501739501953,175.0513153076172,174.26431274414062,176.90423583984375,177.14332580566406,176.83450317382812,178.41847229003906,178.9663543701172,178.1893310546875,178.09967041015625,177.6015625,180.74954223632812,183.08065795898438,181.8852081298828,192.52456665039062,190.76132202148438,194.03878784179688,192.66404724121094,192.2954559326172,191.79734802246094,194.7261505126953,193.14222717285156,189.0478515625,188.81871032714844,187.93209838867188,187.623291015625,180.84915161132812,180.04225158691406,185.56117248535156,186.2784423828125,184.5948486328125,182.02468872070312,184.11669921875,184.6147918701172,180.1817169189453,180.37098693847656,183.60862731933594,181.4967041015625,182.31356811523438,176.79466247558594,163.5253448486328,166.86260986328125,167.53004455566406,167.68943786621094,172.6903533935547,174.15475463867188,177.42225646972656,174.37388610839844,176.79466247558594,180.6399688720703,188.29074096679688,187.7528076171875,186.7665557861328,188.80877685546875,190.41262817382812,191.86709594726562,188.12139892578125,186.9458770751953,188.7788848876953,192.26556396484375,192.26556396484375,194.25794982910156,196.44956970214844,195.65261840820312,195.0150604248047,198.4519500732422,201.95852661132812,200.46424865722656,204.0903778076172,203.13404846191406,203.0642852783203,201.03207397460938,200.01596069335938,197.6051788330078,201.5500946044922,201.5899200439453,203.88119506835938,199.9462127685547,198.9898681640625,195.19436645507812,196.29017639160156,193.49087524414062,191.99658203125,188.3007049560547,181.03843688964844,183.80784606933594,184.44541931152344,189.43637084960938,187.13516235351562,184.6645965576172,187.73287963867188,179.02613830566406,181.89517211914062,183.00094604492188,185.4615478515625,183.11053466796875,182.85153198242188,181.34727478027344,177.07357788085938,179.6736602783203,180.61009216308594,181.06832885742188,184.8638458251953,184.9634552001953,181.6959228515625,186.4278564453125,190.17355346679688,186.7765350341797,188.0417022705078,185.4615478515625,187.77272033691406,186.75660705566406,186.47767639160156,185.51136779785156,187.36428833007812,187.42404174804688,189.41644287109375,189.20724487304688,186.1090850830078,180.59014892578125,182.1043701171875,179.4246063232422,176.4260711669922,177.40234375,175.14097595214844,173.93557739257812,178.6973876953125,179.76332092285156,178.99623107910156,177.07357788085938,179.1656036376953,179.34490966796875,183.48907470703125,182.58253479003906,188.1711883544922,188.82867431640625,189.66549682617188,185.1427764892578,189.0378875732422,181.6461181640625,185.4416046142578,185.67074584960938,187.17501831054688,188.67926025390625,188.589599609375,187.5336456298828,190.9207000732422,192.88319396972656,193.97900390625,193.58053588867188,190.82107543945312,189.69537353515625,190.11378479003906,188.8884735107422,193.72996520996094,192.45484924316406,192.41497802734375,194.35757446289062,196.64878845214844,198.5615234375,196.75839233398438,197.17678833007812,198.06341552734375,199.02972412109375,198.21282958984375,201.23130798339844,200.87266540527344,198.9400634765625,198.06341552734375,197.95384216308594,198.60134887695312,200.284912109375,200.57382202148438,200.10560607910156,201.49032592773438,196.0012969970703,193.371337890625,197.1668243408203,197.6350555419922,201.72940063476562,205.27584838867188,205.51495361328125,205.39540100097656,204.3394317626953,206.99925231933594,207.30810546875,203.63214111328125,204.4689483642578,208.981689453125,207.87591552734375,211.79098510742188,212.2492218017578,214.40101623535156,217.4692840576172,217.23020935058594,221.0655517578125,218.22637939453125,220.3084259033203,220.92608642578125,221.29466247558594,220.59732055664062,220.47779846191406,218.92372131347656,217.1106414794922,214.0523223876953,216.96119689941406,222.38052368164062,208.732666015625,201.14166259765625,203.41299438476562,209.03152465820312,209.31045532226562,210.04763793945312,211.52200317382812,212.2492218017578,206.4015655517578,209.9579620361328,212.32891845703125,213.3649444580078,216.97120666503906,216.66236877441406,213.763427734375,209.38015747070312,199.95619201660156,196.02122497558594,196.44956970214844,189.02792358398438,191.73757934570312,195.6924591064453,185.18260192871094,191.0302734375,184.46534729003906,180.40086364746094,168.85498046875,177.51193237304688,169.59217834472656,153.88218688964844,169.6320343017578,145.45436096191406,148.85140991210938,146.40077209472656,152.54730224609375,149.1602020263672,147.5364227294922,160.36740112304688,155.61557006835938,162.71841430664062,156.19334411621094,165.3184814453125,166.16526794433594,158.99267578125,157.58802795410156,153.59326171875,164.92002868652344,168.18753051757812,173.6167755126953,174.52333068847656,174.12486267089844,177.4919891357422,176.2965545654297,175.57928466796875,178.5579071044922,177.5617218017578,170.15003967285156,181.5863494873047,184.42550659179688,189.34671020507812,186.78648376464844,182.21395874023438,193.45101928710938,203.93099975585938,201.50027465820312,204.47889709472656,206.28201293945312,207.67669677734375,210.45606994628906,211.54193115234375,212.36875915527344,209.30047607421875,204.3195343017578,206.0229949951172,210.07752990722656,212.3787384033203,216.05467224121094,229.09487915039062,230.50946044921875,234.0160675048828,231.31637573242188,228.26805114746094,224.60205078125,224.23345947265625,231.02748107910156,231.8344268798828,229.28416442871094,225.42886352539062,229.89183044433594,230.51942443847656,237.76174926757812,235.8291473388672,223.57594299316406,227.71014404296875,231.615234375,234.7532501220703,234.6337127685547,235.04217529296875,237.88131713867188,238.30967712402344,241.3181915283203,233.1294708251953,234.7831268310547,215.2577362060547,219.8003692626953,226.20590209960938,236.6460418701172,232.53173828125,239.36563110351562,239.9434356689453,242.653076171875,243.56956481933594,244.1374053955078,238.0904998779297,238.81773376464844,239.36563110351562,240.01315307617188,241.10897827148438,244.486083984375,240.83004760742188,238.9571990966797,231.71485900878906,229.8320770263672,232.61143493652344,229.2443084716797,232.40225219726562,233.60765075683594,252.70468139648438,251.00119018554688,248.87930297851562,248.17198181152344,264.2705078125,267.4184265136719,261.9991760253906,255.15533447265625,258.9010314941406,260.3056335449219,260.2458801269531,260.16619873046875,261.3416748046875,261.5907287597656,267.986328125,265.9939270019531,270.3572998046875,279.7513732910156,302.7535400390625,292.1042175292969,292.54248046875,292.0842590332031,294.3157653808594,301.348876953125,290.01214599609375,281.65411376953125,270.1281433105469,272.6783752441406,267.06982421875,265.5954284667969,265.13720703125,271.38330078125,262.5171813964844,253.85031127929688,251.5690155029297,247.2056884765625,253.78057861328125,248.0723876953125,248.5804443359375,253.85031127929688,255.8426971435547,260.7937927246094,260.9033508300781,265.6153564453125,258.9508056640625,263.64288330078125,257.67572021484375,257.13775634765625,262.75628662109375,263.4436950683594,274.7006530761719,275.0892028808594,270.7856140136719,265.70501708984375,264.9180603027344,260.4052734375,266.5418395996094,277.6693420410156,277.0616455078125,283.7062683105469,276.0554504394531,282.21197509765625,266.6513977050781,279.7613220214844,262.10870361328125,260.3653869628906,264.2903747558594,286.2864074707031,293.55859375,292.29345703125,277.70916748046875,271.3932800292969,275.4278869628906,274.033203125,275.8960876464844,277.8984375,273.9535217285156,270.9350280761719,271.9013366699219,268.6737060546875,267.4085388183594,275.8661804199219,274.541259765625,276.7528076171875,275.916015625,285.45953369140625,286.42584228515625,280.7774353027344,278.6356506347656,284.4932556152344,282.321533203125,276.8623962402344,276.0654296875,272.509033203125,273.1466064453125,274.5014343261719,274.6210021972656,273.4355163574219,275.3481750488281,271.751953125,266.0735778808594,267.0897216796875,266.3824462890625,275.9458923339844,275.72674560546875,270.8354187011719,272.1205139160156,267.91656494140625,269.9388732910156,262.3079833984375,267.71734619140625,266.55181884765625,255.8626251220703,250.13449096679688,250.68240356445312,244.70523071289062,250.40347290039062,260.1064147949219,266.462158203125,271.83160400390625,273.4554138183594,276.9520568847656,280.9766845703125,271.1044006347656,263.9915771484375,257.3468933105469,261.0129699707031,266.06365966796875,265.63531494140625,265.47589111328125,267.0797424316406,265.5655517578125,268.4246520996094,270.8354187011719,269.361083984375,269.47064208984375,272.92742919921875,272.5289611816406,268.3648681640625,260.5646667480469,259.33935546875,264.8482971191406,263.30419921875,253.72079467773438,256.6396179199219,263.90191650390625,258.014404296875,254.43804931640625,256.65960693359375,263.2742919921875,254.33843994140625,264.728759765625,263.8919372558594,272.8377990722656,267.378662109375,272.708251953125,278.21722412109375,282.9292297363281,277.5597229003906,289.0059814453125,292.4229736328125,289.5240173339844,281.0663757324219,277.67926025390625,281.9429626464844,289.7132873535156,286.904052734375,293.4091796875,297.5234680175781,307.7344970703125,305.0946044921875,311.8985595703125,311.82879638671875,311.2709655761719,310.3544616699219,308.5812683105469,301.6676330566406,306.64862060546875,305.0148620605469,301.0898742675781,301.498291015625,300.3227844238281,295.3916015625,299.98406982421875,301.8868408203125,302.414794921875,305.9313659667969,328.256103515625,323.84295654296875,321.3524475097656,317.14849853515625,313.8211975097656,318.80218505859375,317.8657531738281,304.8056640625,305.363525390625,301.398681640625,304.098388671875,314.7377014160156,314.2595520019531,308.78045654296875,312.39666748046875,317.39752197265625,315.026611328125,323.3946838378906,326.5426330566406,326.4130859375,331.4837646484375,327.47906494140625,327.8775329589844,327.8974609375,324.79931640625,329.0928649902344,335.2991638183594,332.4101867675781,328.9932861328125,331.19488525390625,329.9993896484375,335.48846435546875,335.468505859375,329.8200988769531,335.2294616699219,328.405517578125,331.0255126953125,337.7398376464844,339.2939453125,341.87408447265625,340.0709533691406,354.2866516113281,350.55096435546875,346.3868408203125,353.04144287109375,353.3502197265625,351.4375305175781,349.15625,344.33465576171875,349.0865173339844,351.8160705566406,350.7501525878906,346.3070983886719,343.149169921875,339.86175537109375,335.66778564453125,340.35986328125,344.9124755859375,349.85357666015625,368.3828125,371.0426330566406,366.41033935546875,371.8595275878906,356.9564514160156,354.9441223144531,350.6106872558594,349.90338134765625,357.55419921875,361.5887756347656,362.126708984375,360.2339172363281,359.7557678222656,358.59014892578125,361.26995849609375,361.7979431152344,365.1650695800781,357.0859375,354.097412109375,353.7685852050781,358.0024719238281,361.9673156738281,364.1191101074219,366.9881591796875,362.993408203125,371.2120056152344,379.2114562988281,377.93634033203125,380.59613037109375,373.8518981933594,374.8282165527344,380.72564697265625,376.1331787109375,376.5615539550781,377.24896240234375,375.0772399902344,375.0971374511719,372.49713134765625,371.64031982421875,363.33209228515625,354.346435546875,356.11968994140625,341.9039611816406,344.6434631347656,351.6168212890625,352.2344665527344,339.35369873046875,338.3176574707031,338.0985107421875,341.7047119140625,324.98858642578125,331.6929016113281,332.3703918457031,327.9671936035156,328.79400634765625,324.2115478515625,322.5378723144531,323.30499267578125,327.27978515625,323.524169921875,334.06390380859375,338.6961975097656,339.48321533203125,340.5790100097656,323.37469482421875,327.439208984375,314.60821533203125,311.0318603515625,315.7140197753906,322.33868408203125,328.72430419921875,326.8315124511719,330.3580627441406,334.57196044921875,339.8318786621094,337.3314208984375,334.0937805175781,326.3932189941406,326.4928283691406,339.5927734375,346.2374267578125,341.6548767089844,339.47320556640625,337.4011535644531,343.9859924316406,339.71234130859375,335.9666442871094,339.76214599609375,331.8523254394531,336.7436828613281,323.22528076171875,309.4180603027344,309.2088928222656,305.67236328125,316.6603698730469,321.58160400390625,329.3020935058594,328.56488037109375,328.4951477050781,333.2171325683594,332.469970703125,340.35986328125,333.62554931640625,332.5198059082031,324.2115478515625,332.9282531738281,329.1925354003906,333.9642333984375,344.8626403808594,344.9024658203125,341.6349792480469,343.049560546875,335.070068359375,337.251708984375,335.2493896484375,322.9364013671875,331.19488525390625,330.52740478515625,326.8215637207031,333.09759521484375,331.9918518066406,325.2376403808594,330.636962890625,316.9393005371094,318.37384033203125,315.3553771972656,302.0163269042969,307.53521728515625,299.0078125,293.50885009765625,293.518798828125,300.5618591308594,312.06793212890625,317.78607177734375,321.7708435058594,236.85520935058594,236.18777465820312,224.0541229248047,219.3421173095703,231.1171417236328,227.2021026611328,218.7145233154297,216.87156677246094,220.15902709960938,215.71595764160156,206.91958618164062,205.37548828125,201.31101989746094,197.69482421875,206.8100128173828,209.6790313720703,210.22694396972656,202.7156524658203,207.31805419921875,202.19761657714844,199.2987060546875,186.75660705566406,189.56585693359375,197.74462890625,194.46714782714844,186.89605712890625,185.9197998046875,191.29925537109375,202.8551025390625,207.04908752441406,215.6661834716797,210.68521118164062,215.82553100585938,212.647705078125,218.73446655273438,220.97589111328125,222.73915100097656,228.9853057861328,226.98294067382812,221.5138397216797,223.99435424804688,232.99996948242188,230.95774841308594,222.45025634765625,222.10157775878906,221.48394775390625,215.63629150390625,213.3251190185547,214.17189025878906,209.38015747070312,209.96795654296875,216.48304748535156,199.65731811523438,187.35433959960938,183.4093780517578,186.2784423828125,180.2613983154297,174.2842559814453,204.94711303710938,199.70712280273438,210.32656860351562,211.22314453125,222.55982971191406,207.48741149902344,202.9945831298828,195.46334838867188,196.89785766601562,188.02178955078125,190.51226806640625,197.86416625976562,199.2787628173828,201.84893798828125,191.5084686279297,190.56207275390625,192.80349731445312,195.48326110839844,180.59014892578125,183.13046264648438,190.90078735351562,194.387451171875,192.9031219482422,187.92214965820312,198.10324096679688,190.05401611328125,193.5108184814453,194.9054718017578,195.89169311523438,183.2998046875,174.9019012451172,163.63491821289062,163.10693359375,168.70555114746094,160.25782775878906,163.11691284179688,156.45237731933594,155.25692749023438,158.14590454101562,169.51248168945312,168.84503173828125,160.06854248046875,163.31614685058594,160.63638305664062,159.4210205078125,167.5499725341797,169.12396240234375,171.53475952148438,170.229736328125,162.2601776123047,162.64869689941406,162.8678436279297,157.4485626220703,164.0732421875,166.59361267089844,175.111083984375,182.39328002929688,182.47296142578125,168.6258544921875,166.0158233642578,158.54437255859375,168.93467712402344,160.1083984375,158.49456787109375,159.32138061523438,159.58041381835938,168.15765380859375,169.92091369628906,166.4740753173828,169.6021270751953,167.888671875,177.66134643554688,176.8145751953125,179.81312561035156,180.20162963867188,178.78704833984375,174.18463134765625,173.995361328125,167.3208465576172,162.42955017089844,160.49691772460938,162.63873291015625,168.13772583007812,161.16436767578125,158.56430053710938,156.56195068359375,162.3099822998047,164.73074340820312,159.70993041992188,157.93670654296875,159.77963256835938,161.4432830810547,168.5063018798828,168.31703186035156,152.54730224609375,150.89358520507812,148.9809112548828,145.73330688476562,147.4567413330078,145.5340576171875,141.57916259765625,142.27651977539062,139.8756866455078,135.85105895996094,133.8885498046875,141.0711212158203,135.89089965820312,135.16366577148438,138.08255004882812,139.7461700439453,138.4511260986328,138.54078674316406,132.94215393066406,133.28085327148438,128.05084228515625,127.01481628417969,129.79417419433594,126.27762603759766,133.52992248535156,132.29464721679688,132.72300720214844,131.02947998046875,129.51527404785156,129.2263641357422,136.98672485351562,129.32598876953125,97.56730651855469,98.82249450683594,92.80549621582031,94.83771514892578,90.1954574584961,88.57166290283203,90.44451141357422,96.35193634033203,96.10289764404297,101.08386993408203,111.44429016113281,112.58991241455078,113.78534698486328,116.63446807861328,112.79911804199219,111.02588653564453,111.62360382080078,109.44193267822266,111.01592254638672,111.81288146972656,110.98604583740234,108.36604309082031,109.04346466064453,117.65058898925781,119.98168182373047,123.02005767822266,121.96410369873047,113.68572998046875,113.49644470214844,114.89112091064453,115.45895385742188,114.27348327636719,119.69277954101562,121.1272964477539,115.7080078125,118.97551727294922,114.04435729980469,116.6444320678711,119.30426025390625,116.67431640625,117.59080505371094,116.43522644042969,115.1800308227539,119.8023681640625,119.8820571899414,124.26531219482422,126.88531494140625,126.45694732666016,129.5252227783203,128.97731018066406,132.48391723632812,132.38430786132812,136.1897735595703,136.458740234375,134.84487915039062,132.51380920410156,135.63189697265625,138.83963012695312,142.72479248046875,142.5952911376953,140.96153259277344,146.73948669433594,151.16256713867188,146.5003662109375,148.40310668945312,152.5373077392578,188.05165100097656,185.82015991210938,185.3519744873047,190.89080810546875,182.7319793701172,177.24293518066406,173.48727416992188,178.7471923828125,178.79701232910156,176.48582458496094,171.7838134765625,172.2221221923828,171.4251708984375,170.4687957763672,171.3853302001953,169.74160766601562,168.89483642578125,174.27427673339844,172.76007080078125,173.8658447265625,184.5450439453125,184.19638061523438,183.80784606933594,184.26612854003906,180.99859619140625,178.82688903808594,180.21160888671875,193.28167724609375,196.9974822998047,204.15016174316406,194.86563110351562,197.05726623535156,201.3907012939453,199.0496368408203,203.5026397705078,205.22604370117188,202.068115234375,199.91632080078125,204.5685577392578,207.04908752441406,211.13348388671875,212.25918579101562,213.90289306640625,210.67523193359375,215.27767944335938,213.9327850341797,213.03622436523438,213.18563842773438,219.51148986816406,220.6471405029297,218.02716064453125,217.0608367919922,214.87918090820312,212.25918579101562,212.07986450195312,211.98023986816406,206.76019287109375,208.6031494140625,237.65219116210938,239.40548706054688,242.2545928955078,238.32960510253906,236.1280059814453,232.63137817382812,231.89418029785156,232.38232421875,232.48191833496094,232.1930389404297,234.8927001953125,232.92025756835938,237.95103454589844,237.9112091064453,241.56724548339844,245.91064453125,244.70523071289062,247.3750457763672,245.80105590820312,248.26168823242188,251.72842407226562,261.0428466796875,261.5210266113281,263.712646484375,271.5726013183594,271.5726013183594,270.3572998046875,270.0882873535156,262.59686279296875,263.5731506347656,263.9418029785156,270.0185546875,270.28753662109375,272.309814453125,280.75750732421875,279.9306945800781,283.2480163574219,280.5682373046875,283.7958984375,287.63128662109375,277.4103088378906,285.9576721191406,284.2043762207031,280.45867919921875,285.887939453125,284.9315490722656,293.24981689453125,290.8788146972656,289.4244384765625,292.9808349609375,297.1549072265625,308.162841796875,312.2173767089844,307.6946105957031,309.4379577636719,310.8625183105469,314.8074645996094,301.3687744140625,293.1402282714844,290.50030517578125,293.34942626953125,297.433837890625,310.5238342285156,324.2414245605469,317.3876037597656,321.48193359375,313.1139221191406,311.99822998046875,309.5475769042969,315.3553771972656,311.4503173828125,304.04852294921875,304.5765075683594,300.4921569824219,305.0248107910156,300.80096435546875,293.17010498046875,284.005126953125,282.172119140625,288.79681396484375,286.5055847167969,293.1202697753906,285.6587829589844,284.4135437011719,289.15545654296875,296.85601806640625,293.9770202636719,294.7640380859375,295.2521667480469,299.0078125,298.03155517578125,297.533447265625,296.75640869140625,306.38958740234375,300.5120849609375,303.89910888671875,310.5337829589844,299.1672058105469,301.398681640625,303.9090881347656,298.5296630859375,294.6046447753906,297.94183349609375,299.6852111816406,297.8222961425781,296.60699462890625,302.80328369140625,299.06756591796875,305.6524353027344,299.7947998046875,304.41717529296875,303.630126953125,314.2296447753906,317.14849853515625,320.615234375,326.572509765625,322.92645263671875,313.4924621582031,319.9278564453125,322.76702880859375,315.7637939453125,311.6196594238281,307.4754638671875,312.8150634765625,311.3606262207031,298.3901672363281,287.25274658203125,295.600830078125,301.5082702636719,300.1235046386719,310.6632995605469,309.68701171875,313.40283203125,314.5982666015625,317.6067810058594,318.5631408691406,319.3301696777344,327.5188903808594,327.93731689453125,335.03021240234375,331.4438781738281,332.91827392578125,333.7650451660156,338.67626953125,335.6976623535156,340.19049072265625,336.9429016113281,333.4263610839844,337.6999816894531,330.9358825683594,325.9050598144531,323.58392333984375,318.80218505859375,317.07879638671875,316.2419738769531,325.34722900390625,331.4837646484375,324.0421447753906,332.9481506347656,333.4661865234375,331.9021911621094,333.6455078125,343.30859375,349.0267333984375,347.9508361816406,352.7425231933594,352.04522705078125,353.479736328125,356.46832275390625,356.9564514160156,352.613037109375,344.97222900390625,343.1591491699219,345.799072265625,350.6106872558594,357.2951965332031,356.0697937011719,369.0602111816406,368.2632751464844,373.0649108886719,366.0616455078125,366.96820068359375,374.69866943359375,381.9908142089844,380.3271789550781,383.73419189453125,389.2132568359375,391.6838073730469,392.6401672363281,399.49395751953125,398.5376281738281,388.6553649902344,393.2777099609375,473.1824645996094,457.6617431640625,452.9895935058594,467.8030090332031,468.21148681640625,466.32861328125,467.1156311035156,458.3690490722656,471.4789733886719,482.1880798339844,471.51885986328125,469.9548034667969,466.7436218261719,484.7939147949219,482.69970703125,480.41595458984375,485.7113952636719,482.689697265625,488.782958984375,500.91943359375,496.8207702636719,488.8726806640625,494.7265319824219,510.78228759765625,504.5594482421875,482.2608642578125,498.3764953613281,494.2079772949219,490.4782409667969,482.76947021484375,495.6141052246094,494.8760986328125,504.130615234375,506.3644714355469,508.179443359375,501.6374816894531,494.527099609375,492.5026550292969,484.2453918457031,489.9995422363281,496.0030212402344,505.3472595214844,509.5157775878906,525.890625,517.8228149414062,515.4793701171875,518.4013061523438,521.7221069335938,510.49310302734375,498.8551940917969,498.3864440917969,492.81182861328125,500.42083740234375,479.7478332519531,480.4059753417969,494.73651123046875,492.1436462402344,440.1669006347656,442.0716857910156,431.4309387207031,428.98773193359375,437.9829406738281,440.466064453125,450.7178039550781,464.4001159667969,466.9530944824219,471.3011169433594,474.11334228515625,474.8912048339844,466.7237243652344,470.5531311035156,480.2165222167969,471.9293518066406,470.6130065917969,467.5514221191406,463.3529968261719,466.49432373046875,464.4998474121094,476.9056396484375,478.6009826660156,473.0562438964844,465.7663269042969,465.54693603515625,476.1776428222656,475.67901611328125,493.6993713378906,492.4029541015625,491.6051330566406,501.2186584472656,506.0752868652344,507.44146728515625,502.71453857421875,503.2735595703125,505.73919677734375,498.6117248535156,500.81787109375,493.9100341796875,498.03277587890625,509.7022399902344,512.2177734375,518.6464233398438,503.33343505859375,503.7926025390625,508.6041564941406,509.0633544921875,538.9606323242188,528.3892822265625,529.068115234375,533.7498168945312,511.7985534667969,497.99285888671875,495.28759765625,488.9288330078125,461.17767333984375,475.0133361816406,475.9516906738281,486.54302978515625,487.83074951171875,460.4589538574219,452.6127624511719,464.8811950683594,464.8911437988281,462.3755798339844,473.9951171875,496.8648376464844,487.2817077636719,474.8935546875,493.22125244140625,488.06036376953125,508.73394775390625,516.859619140625,515.0428466796875,527.6106567382812,525.8338012695312,536.38525390625,526.4926147460938,528.3494262695312,525.8038330078125,534.218994140625,530.9946899414062,527.0716552734375,520.2037353515625,518.187255859375,515.8713989257812,517.3087768554688,520.3933715820312,510.86016845703125,511.83843994140625,515.9512329101562,499.390380859375,503.9024353027344,503.9024353027344,510.9300231933594,524.67578125,523.6975708007812,532.8502197265625,535.8877563476562,537.5164184570312,558.6493530273438,560.8975219726562,563.955078125,562.8759765625,567.8519287109375,567.3823852539062,566.9027099609375,571.9786376953125,576.00537109375,572.3483276367188,582.30029296875,595.459716796875,584.3087158203125,592.4121704101562,590.0340576171875,583.3594360351562,589.4745483398438,589.944091796875,585.7974853515625,576.3250732421875,576.4650268554688,576.00537109375,574.6964111328125,581.5409545898438,563.2356567382812,567.3223876953125,572.7879638671875,577.6939697265625,592.8018798828125,591.322998046875,567.12255859375,566.702880859375,560.2280883789062,571.9686279296875,571.5889282226562,591.22314453125,588.8650512695312,582.699951171875,584.3486328125,579.5325317382812,576.69482421875,553.6334228515625,553.9531860351562,560.6378173828125,565.064208984375,562.6361694335938,558.6893920898438,564.654541015625,573.0776977539062,568.7412719726562,573.8571166992188,592.3522338867188,613.1554565429688,613.2853393554688,608.439208984375,623.2672729492188,613.0755004882812,618.8208618164062,632.1700439453125,630.2815551757812,619.8499755859375,624.239990234375,619.4400024414062,597.1900024414062,595.5700073242188,585.25],\"high\":[44.82876070233137,36.520494130991075,33.462178609944175,32.3763245344162,33.083619825959126,32.824611758940506,31.569406193200024,29.43755085052314,29.557093317320266,29.03907397307108,27.54478006819751,27.65436211890623,27.066607967020232,27.245922198876208,27.654362135092,27.9631827953091,27.664325347527335,27.993068787037185,28.212230966146187,29.985457301237076,31.95792438439598,32.057541485948974,31.808493820930504,32.37632410669411,33.32271186371414,32.89434757822779,33.312751167786516,32.77480171006143,32.06750307734653,31.86826385967519,31.609254229999713,31.320358600042585,31.509635511904467,31.778606080874553,32.75487792414545,32.35640133282527,31.43990111603603,31.28051164869081,30.951764482144256,30.383935911465535,28.481203915778476,29.178540949721235,29.387740003651587,29.357853809408233,28.88964313009511,29.337930394494283,29.377778495495757,28.12257334647061,24.446615261097662,23.948519404715604,23.281068995247093,21.49787982551946,20.7606962466635,22.075672581336384,22.06570837620008,22.364569530312675,21.069515410242417,21.089440888779244,21.73696527127155,22.36457094300304,21.517803046918335,21.32852751165451,20.40206523989702,20.00358777407497,20.053399268792788,19.903968855972927,19.455679769297944,19.654917534366827,19.60511077988863,19.455680548257188,19.306251904417746,19.306250316233452,19.375983684020497,18.62883971379943,18.200476928504592,18.678649582790584,19.186709345258485,19.346100148900916,19.126937684795895,19.505492671752418,21.079477542494025,21.398259647769013,21.99597815109155,22.663425341040487,21.896357614090395,23.28106954907009,23.15156009123492,23.151561444929108,21.896358187157123,21.129284853634392,20.700925415082093,20.920088473944602,21.866473040342825,22.50403579470696,22.404419113240422,22.40441552174362,22.314758674500112,21.547686537020358,20.671037097464115,20.471799023791338,19.864121368586133,19.884042782947727,19.72465396785294,19.804349466507457,19.61507229259235,20.40206513739353,19.714693004867204,18.987467368301097,19.356062964761925,19.724652219887968,24.15771858355345,23.22129565597433,22.792931722843953,21.418186040123892,21.358412006404954,21.607460936981166,21.398260357971854,21.288679068669087,20.87027805704261,20.651114708430566,19.923892715059775,20.093243565643863,20.033474390149422,22.414380435858153,22.414378371681767,23.838937386200065,24.028215145798043,23.809051351487003,24.43665316949918,24.586083058149597,25.990718336399613,26.3991559963942,26.389195705168845,27.415277441863502,27.893447875976562,28.770099612948933,27.654362605370274,27.79382882038225,27.644399237145393,27.67428667406757,28.062800598852814,28.13253645436678,28.03291458487437,28.640595420350532,28.222193577014444,26.897253446489852,27.80379099434306,28.112613659813707,27.494972564517823,26.90721636917731,26.857404991855713,27.07657105524435,26.698012595358524,26.010641042848462,26.887292497761504,28.07276320205087,28.361658869283875,28.819909720208607,29.676637261894157,29.487361215271406,30.483554932121617,31.330319834485746,31.838377314837928,32.08742742680573,31.58932840715549,30.234507456920408,30.304238042747144,30.324166942856944,30.772449066331507,31.38013334854921,31.37016869630895,31.808494387605442,32.3862880761949,31.94796035442779,31.370167191287212,31.350243356241695,30.901957110897833,29.08888304154806,28.849795465166217,29.178541507317426,29.039072882209197,29.05899818148194,28.57085997762296,28.052838975719133,28.212230678844822,28.521052628080053,28.640594663087604,28.969338859251494,28.939452898494523,28.441353126749465,27.524855485344766,27.534818280583448,27.355503736622808,27.235962505901114,27.19611214744349,28.012990264398812,27.953221641137002,28.072763851145034,28.02295560359281,28.570860835251764,28.36166095435539,28.531014350898648,28.212231435760945,27.544780309753282,27.32561856287045,26.957025528512425,26.688054005890343,26.797633552138937,26.588436272374583,26.01064070727032,25.911022891582874,25.701820905972554,25.383036242850263,26.179994437813058,26.070411414602212,25.791476728702836,26.020602008016166,26.28957689136067,27.1263785943991,27.694210064177987,27.096494115607936,26.787671007080053,27.73405706668226,27.99306944142151,27.8934496565415,27.375426619611584,27.006837712449855,27.096492305639625,26.71793842309875,25.86121201938023,26.25968912043574,26.229804439846244,26.29953653824426,26.299536252459333,27.514895927249057,27.3056947768348,27.744019296767696,27.813753879922896,28.909567339076197,28.959374766096282,28.35169663794411,27.744019841784002,27.196111448886594,27.445160852485966,27.1961097715308,27.22599886051794,27.176189464623054,26.887292685020288,26.44896515112433,26.498778761365767,26.09033794910361,25.980756878274274,25.75162953322046,25.432850464645632,24.874979459847893,24.446617418871387,23.719393531441945,24.685703509006323,24.855056632034056,24.227451872518213,23.838937768930858,23.61977181861778,23.00213352857491,23.31095417218167,24.506386391791256,24.257340568535266,24.16768148751249,23.739317871223026,23.799089957940232,24.15771888969125,24.59604712758518,25.094143496556732,24.655817337607818,24.606008208259606,24.018254924361244,24.337033987555355,24.556195017587555,24.745475545121387,24.884942034885214,24.96463626719606,24.675740726082264,24.615970497796706,24.566157162064055,24.944712827515474,25.392997832901266,25.731706896095126,25.90105996413061,25.83132571477167,26.32942339203359,26.64820497620887,26.678092254660815,26.66813065405666,26.01064132094693,26.030562185470046,26.199916507893064,26.429044908834953,34.74726970977098,34.597834528758256,35.49441331750842,37.81554336556119,38.164217722978776,38.14429070529167,38.34353669947291,39.1703732199804,39.100638222119485,38.79181354364297,39.04086915790568,38.59258111686576,38.35349152582297,38.17417587749836,37.4071052088147,36.928936985641116,37.347339654446465,38.13432363047412,38.43319097159588,38.7021610310283,38.60254091992688,40.47539213355736,41.78040110556395,41.04321585314976,40.69455238564606,41.621010678626874,42.09917965639599,41.99956400128074,42.00952511874276,42.60724360487993,44.440245140101034,44.61955574883514,44.091570299973796,44.91841553831393,45.446396332441935,44.908454423310886,44.768977471267426,45.26708569455015,45.29696877291332,45.874760325670835,47.41886242633264,47.369056260352885,49.47102336077854,49.3514831309725,50.40744595913873,51.08486214162446,51.40363818567885,50.83580579899068,50.90554430485213,50.52699186981693,50.965314073958275,51.09482532308539,50.40744568513183,47.65794986113351,49.49094978412295,49.6802209597166,49.441140329476006,50.80592600504557,51.04501435143528,52.02128228070691,54.62134732519236,54.60142643912045,54.55161703256562,52.05116980738499,52.63892346335642,53.037403689250375,51.50325992258136,50.59672700999282,50.01892819552994,51.802121673726,51.891775860229735,49.56067929693755,49.98904484073772,50.258019437142316,49.680219986260056,48.46487333002879,47.34912969601061,47.18973481829601,48.55452373537728,49.38136448233642,49.29170661911727,48.65414565153029,46.82114624245742,47.3690518451564,47.27939551137164,47.090120472521534,46.47247867061428,45.99429961580571,46.4923989907109,47.030343949260626,47.35908952042221,47.02038629670889,48.58441301577544,48.51467849032446,49.202051307662906,48.78365064881691,50.57680233909293,50.576798929308495,51.87185512625067,53.296407452310206,54.292605137583955,54.97001946233345,55.67731774695989,54.979977956344754,54.94013622622616,58.09806954634731,58.35708048069726,58.157842964307775,57.46050832069319,54.970018707745105,54.65123562618102,55.009865713769365,55.43822722233553,57.04210338321448,58.32719243080804,58.187726740429504,58.735634839709256,58.07814359840898,58.02833439577645,57.560123827257165,58.34711592252929,57.79920965371793,57.599970620267726,58.357079186944894,59.08430243968925,56.46431016008594,56.20530262272905,54.73092794420451,55.0696347840584,54.74089220627748,62.26216303196227,63.12884881660675,63.527326770800094,62.899722844352986,62.91965244125396,62.541097706419,64.3242820981678,64.24458806625981,64.75264878819684,64.81242177881295,67.07378387451172,67.32283474841152,67.28298411173196,68.81712525751624,69.84320514122405,69.69376874096213,71.16814270087558,70.72981566355692,70.94897749035998,69.74357825006686,69.6140725898215,67.79105215710003,68.63781069073724,71.69612491970302,71.61642664454887,70.9091237041097,71.8754512550403,72.31375900494913,71.07848029816925,71.07848416985301,69.16578728528435,68.6876087495236,69.33514790093604,69.02633126036493,67.9703639352898,67.66153586658709,67.10366795213665,65.93813019702199,64.70283957576602,61.664448823819114,61.714259146569866,61.28588906673797,62.421551117628454,63.66679727285321,62.92961110374169,59.97091846259763,57.77929146570849,58.48658473387781,62.22231721243842,62.93957437333246,60.0804990625619,60.21996617577925,59.45289012020595,59.96095333719649,60.349468138606895,61.0069580078125,63.19858551746176,63.23843059183387,63.40778240591298,59.7816376503043,58.08810918239168,58.058217307901714,59.62224644189145,62.04300222259681,61.65448570316378,61.11653640419904,60.91730269762961,59.07433952133282,58.59616473017097,57.43061827009825,59.67205875825456,60.65828929569252,60.21996683286684,59.154035763834194,58.22756972226026,59.33335055892531,59.96095269447338,60.26977549034687,61.24604161343266,61.21616074452619,63.26831846034594,63.895921846279236,64.05531748760949,63.925808454081704,63.348015772913904,63.178658825790336,63.34801333553832,64.11508114197062,63.238431487337685,63.0989689922768,65.56951948954995,65.54960649255587,66.21705356409917,64.7227674488072,64.63310120429334,64.63310692563276,65.49979539614877,65.33044052496936,64.5633726570712,65.41013603222653,66.91438878326038,67.223221197304,67.74123429356725,67.4423684849681,67.66152770792847,68.17956131723315,68.04009439081048,66.74503988657534,66.31667761997225,65.31051968118514,64.87220141556531,65.091343447394,66.33658829857143,67.9105860269285,67.83088778702715,67.6814601132218,67.59180266562856,68.1994785161334,69.69377660448316,69.50449070977018,71.0585636013665,76.44796858837505,75.38204642830597,75.21268999911811,74.63489121585812,74.90387436208385,73.88774751927606,72.94136845078192,73.59884987188049,73.30995248884464,73.4394647055051,73.7183991137932,73.15056952933746,73.62875042251076,73.0509460766061,73.96744982848082,74.09694747770864,74.36592278115324,74.43566250733731,75.29238395733992,74.89390906293904,74.90386769805112,74.44561913513326,74.99352504204741,75.7008288371165,75.20273635744677,74.14677202170665,74.5352783203125,76.40811939949864,77.18515778430954,76.63724659273325,77.08553427457915,77.87253834312301,77.87253447748267,77.6533632885382,78.06180980853847,78.00204472038794,76.95603377372677,75.93991226675963,76.95603178352044,77.03573152117806,78.00204067888096,77.234961594619,78.33078322402977,78.32082440850634,78.63960337190849,78.53998614379508,78.89860721252552,79.4066605087712,78.52005584354312,77.18516916075113,77.76295290400702,77.5936004889277,77.6533662840494,77.41428551957186,77.4640981087142,76.20888812384501,74.4954235658345,73.89771819741817,73.51917055761952,73.07086846728772,75.71078536257156,76.79664743912628,78.44036150575916,79.54613339394203,80.32317910453804,80.51244492691873,80.4925203412318,80.8511540961182,76.58743468241916,75.0632591777059,75.41193291851826,75.23261259543112,75.48166667950125,76.50775468016393,75.3123047862213,75.5713296415189,75.19277639103433,74.69466739618225,74.85406122151456,74.95367585041447,74.64486740042557,75.3720834238544,74.51536224158092,74.25634360533505,73.70843869936043,74.21649868205442,74.06707321077775,75.45177561571433,77.48401792760795,77.97214271328997,77.0157980219299,75.62112839039301,75.44182618162382,75.26250744981121,76.46789154944004,76.95602322379023,76.6372536324919,77.25488779552656,78.2211987982744,78.57982078891098,78.28097487861842,77.09549935274644,76.11923496287342,78.10165405273438,79.69556537129642,81.57838088213188,81.85731443111362,81.12012328302063,80.9707001706823,80.65190992910553,80.2833149920108,79.4963315136584,78.62963546431149,78.94842155353801,77.29472917424276,77.06560869079864,77.93230483425258,78.32081651010225,77.70317498958815,77.78287491147381,76.90622041750339,76.27861835114743,75.03337226688143,76.01960819655979,77.00584932981225,77.45413301930164,77.89245174021582,78.17138806081587,76.58743542630735,77.34454885089346,77.72309895350153,77.86257748876918,75.85026100217722,75.29239823810974,76.05945491959389,75.69087565406882,75.41193012361464,74.5452382799645,75.0533003737012,76.45794140573311,76.57748246088754,76.18897175510067,76.61733710408888,76.60737023625246,79.53617488004674,80.03426770599057,79.8848390475208,79.17754550227889,79.89480423420899,81.06035744081258,80.92088887271368,79.55609995642601,79.3967142019324,80.84119648693544,81.67799340417936,81.02051251958994,79.60591562874289,78.95839000906196,78.13153871039847,78.74919239885529,79.07793150934155,77.82272384125191,79.47640620629696,80.93085027070241,82.68414537135928,84.27806073032222,84.6366931700206,85.74246921865067,85.19455846893544,83.451217097912,83.63053740672706,84.01905363372593,83.18224759992354,82.40521447197929,82.24582072307875,82.49487652389723,83.10255699440236,82.78377538077622,82.48491488846366,82.2956367106508,83.62057595375165,83.37153018737371,83.34163777391765,82.75389046856115,81.79754355666627,82.83358055377165,84.16848040526637,84.41753490349156,85.26429673054635,82.62437980875676,82.61441991398858,81.58834454665171,81.0802774149918,80.65191396920895,79.4564814275607,79.38674208320596,78.50014126636364,78.51008495327147,78.63960741566783,78.92849632741923,78.72925753659632,77.59359376268738,78.2311638792103,81.53852528486733,81.2097727015151,81.07031716926068,81.37913731192407,80.79137932924834,80.61206465440459,81.00058706790867,80.2932857862042,80.3530588800626,80.7614907404663,79.76530517042035,80.07412041991336,81.04042900577544,82.21594323799061,82.6343391414883,82.14620506080473,81.6879548247528,80.88103965433126,82.28567152509973,82.58452831022015,81.77760834662361,80.6220342197032,81.19982564775776,81.90712376088584,82.87342329658999,82.6642347314561,84.6466543417643,87.63523183118335,88.9103658623491,89.05980487109177,88.00382540970249,87.16702317930908,86.37006475446047,87.61531274268506,87.10726305473003,87.85439891957905,87.51569188708825,86.41988639283926,87.26664811933922,87.88428746296987,89.87667957407328,90.45447824405973,90.64374157558728,90.51424416467555,95.02699668501022,98.22479132289968,98.86234305427624,97.20867661855358,97.07915836918937,97.38797740870461,96.24236281186025,95.19636026908847,96.90980798614535,95.44540200633126,95.96343107738089,94.71817884127705,94.36951300914043,96.72052605915655,98.36424544574429,95.03695930921452,95.53506574676983,94.39940176762418,94.08061449114322,94.36951892619507,94.35956090576897,94.1005451164031,95.48524338934907,95.73429840871681,94.40934805029512,88.84063572107269,81.7776107788086,87.33637759158617,87.1271768945832,89.71728826481014,91.13188608269004,90.70352152357493,89.04984017614296,89.54792785644531,89.47820317829559,88.05364349706237,89.89659778484203,91.62998102286606,91.70966414975247,91.72960691404084,92.26753517283505,92.89515251356517,93.24380630963806,95.14655636376612,94.82776612811118,96.12281916521472,94.31970283641374,93.96107810281013,94.40935853592534,95.48525836086557,91.93881070595918,89.71727834492597,89.67743796742447,90.60389709472656,91.8491452096727,93.91126495967164,93.81164299521743,93.30359298594641,92.86525656438953,93.38328255706709,94.24000101496524,95.00707637056614,94.8377179777061,95.9335511483039,97.21862841250673,98.19490144825917,99.2110149577961,97.80637580346833,99.35049492534002,102.45861670918543,103.41496313855842,103.70385349464722,104.08240764907049,104.7199805462888,104.32150551686063,103.07625727319613,103.2555717775127,103.7437076255512,110.22893761870343,108.32619469418115,107.83805947073394,107.73844369829933,109.45189698086793,108.97372949785803,107.83806802293502,103.77358367012009,105.79586260151882,107.46946818088178,107.320051558112,107.45952358214298,107.06103999934957,106.08476192453448,106.194339352665,105.55677503958346,105.69623754844486,106.74226408063596,107.50931740331818,106.44338992788639,107.32005230866189,106.42346556123734,106.50316242892318,106.03495202668917,105.9951033647473,103.9429374609262,104.34142380320817,105.39738859886506,106.68247503270922,107.33997248189043,106.18437263892945,104.74985853718935,105.25792069407424,105.7062134466312,104.91921511930616,105.57670638555278,107.32999865646178,106.84187516178885,105.7659824333805,101.8509294581292,103.3153396193941,103.375114297591,101.04402389810451,100.11756039982949,98.2247950991771,99.57960292299992,100.19725225559839,98.49376380881515,96.01322715277982,97.04928325617028,94.638487178776,95.62471952784024,97.69680908701122,99.10144045906674,97.50752761606968,97.47763930466162,109.92010880620633,112.41059700431943,115.27963839654005,117.14252981804754,114.90108679396688,111.51402869687145,109.16299949656052,102.28926531529757,102.01033405329272,102.85709182814796,104.71002141274552,103.84332835944767,103.53451426856202,105.31770046618706,105.59661908771702,104.62035025059033,107.8380686518755,107.06103087252599,106.54300754771069,107.65874481201172,109.03349969468783,108.495547471596,109.40209197998047,110.12931616355016,109.88026331542379,109.63121810728036,107.6587591476707,106.96141626278087,107.10089111328125,108.24651829661855,109.00360881726213,109.91015270475458,110.40825037648725,112.07188711624597,112.26116964567476,111.99219652593763,111.94238762009275,112.45045300209864,112.75926044265772,112.65964547864706,114.15393908244755,115.87735916081641,116.54480586723832,114.5723427334312,115.7279215494704,114.11409328079694,112.8887736790842,113.37690828705948,114.45279325827086,113.89492400570876,110.48794815106491,110.73699699216324,112.22132579473967,111.61364333544314,110.54772672054509,110.38831662330108,112.02208861246592,112.83895901948462,113.60602360061391,111.32474091387121,110.24885325531957,110.07950690373909,108.52544448508083,120.33035259228468,117.39157349520396,118.27818445197128,117.71036448286581,117.84982521049615,118.5272324925525,119.18472429288119,119.82228289955398,120.04144287109375,120.61923896759588,120.38015507215839,120.18091591272766,119.15483968611365,118.5571214370751,117.81992916893495,117.0429064354223,117.54099868918992,117.15248095080679,117.28199793629905,118.21841395080118,119.30426293576073,119.39392527915113,119.64297160257385,118.62684907664395,118.98547833588577,118.52724169270158,118.97552323545402,118.84602266471454,118.1486759634635,118.22837940513587,117.66054394036546,115.04055681707705,114.51256572662555,115.00070971827421,114.06428630311913,113.99455047450803,114.28345227033363,114.77157598672574,114.30336004971419,114.65203868860075,113.24740567413336,111.14542503560108,112.32093856245415,113.81523217324124,114.74169230586132,114.69188039269255,113.76542663574219,116.34556661629928,116.52488991876514,117.0528664860488,118.24829109084014,118.26822635028392,117.94943976195873,117.19233266817122,117.82990065423404,119.15484080970266,120.39011607039777,121.7349726905959,121.63535932226443,120.5495072256717,121.3863164435924,121.6054689905995,124.52432263914955,127.84165228551254,125.36112455667683,124.10592901617991,124.32508911489077,123.44843076226424,124.3151285203534,125.36112858688043,124.97261226399652,125.61017807551555,125.00250036049025,124.90287465119381,124.52432361365473,124.44462002981183,123.4484387338972,123.9066773596284,123.78714315250768,123.68752845914301,124.35497919001187,124.61397458931191,124.21551117054652,123.89672533691068,124.71360228038256,126.24774345408773,126.1182321392362,125.7396859960029,126.14812135252386,126.37723864784803,129.4455356905255,131.47775369271838,130.58119193931543,129.455486117201,128.27001258359746,127.86158283643097,128.30986210861795,128.60874117488487,128.68840897455502,129.44553047163942,128.67844881692122,129.51526710626067,130.23251184511605,128.11063214676344,127.67231016921775,128.51906123623777,128.97731238425672,128.79798472296955,128.1006576014864,128.59875788967813,128.78803503651028,128.30987857774196,128.5688812003623,128.75815062869307,130.20264106279149,130.14286926604578,129.16659348921374,127.76195160891469,128.45929957423536,127.98112592602995,128.89762119524485,129.97351409631236,130.16277153147385,131.6271978329652,132.9023220487758,132.9919774568076,131.75667930878572,131.29845875989045,132.46400494515788,131.61723628298583,131.43791943184428,129.73442653588282,122.8108672430079,121.46601445115495,122.74112919271015,124.13581449527115,123.33885016281677,123.70745195367522,120.24068486434165,118.67666598904083,118.03909739305655,117.43141845079218,117.34176635742188,118.67665527406614,121.4859254350159,122.51201506605446,120.84836251168666,120.67901555623614,121.22692537909842,121.63535688819631,121.32653882263554,117.99925311707827,116.0367455239801,117.12260568223077,117.35171959216535,117.50115203857422,119.04525544195052,119.48358395472691,118.78624570291105,121.05756743526548,121.22692724725958,122.03383905729868,121.03764333119203,119.90198029006282,119.31422292924961,118.74640043804892,118.53720056222845,117.11263544591974,118.22836923827902,117.80000773901989,117.0827517698485,116.38541539495233,117.39157258107215,119.20465228592599,120.48973344194255,123.40858134819048,124.95268742071605,125.0224258799864,125.6400683093532,126.2477503536349,128.7780848213985,127.85161267544873,127.94125839767942,127.86158734838278,127.9910794030746,128.75816643501742,129.40566744837062,131.2386803552459,132.63334990628582,132.4440607445526,131.0792902365285,130.16276862208832,132.9820275361748,134.97441621172408,132.34446166315064,131.55746459960938,132.49389208619272,133.9284232645251,133.98817779412784,134.4264977342872,134.18739153847244,133.71918077288032,133.19122560338263,133.3605731000424,133.57971707473206,133.40043054052265,136.26945356731017,135.6019814477248,135.10389878548546,136.65795850275813,136.28938715549944,136.95681818920815,137.29554199385947,136.80742031326326,137.30549235107895,137.84346259159432,137.46489965235978,138.0426895151894,138.9591891957195,139.14843828563326,138.92932261007385,139.56688282286825,139.71629577895413,139.8059433580856,139.65650405983584,141.76845271981063,139.25804326265524,139.85576670577018,140.4833589153085,140.11477211921684,141.4098146767354,142.3163394804508,142.40601088980836,142.08723987933283,141.9278353002119,141.5492892388705,142.8941415298752,141.67880466627156,141.01135207080299,140.89179592822973,140.49331930783163,139.8657150472519,140.0450320554053,141.01134609736852,141.36998108473833,142.49566605994877,143.70107690652358,143.6213805959351,145.1156787690873,146.59001772504615,147.02836811531992,147.18775222329447,150.95336578071996,151.9894190513391,152.85608515197114,153.0154890465855,150.94340373017116,151.05299913538127,150.50509660716892,152.00933517209108,149.94722959621078,150.07670394605992,149.88744473127116,150.90355358252148,149.63840884614666,148.1042531730742,147.5862243819819,148.8214919893044,148.0245470394859,148.24372031754527,149.65830405616677,152.0093213502627,151.67060964040894,152.31813532556254,152.76645905574844,151.71045624217948,153.04537980816943,154.12127161934524,153.93199988736197,153.16491518277462,154.14117454265275,154.99792764566325,148.63223979622182,150.60467990048775,151.82005021423288,149.46904220326473,150.2560366123838,152.9856021196374,153.25456950261162,153.49366155597383,153.96187126010426,154.60939913652786,155.9044535914833,152.7265800612565,152.88598084491795,151.91967601944404,151.3418818996521,151.57098759044382,150.27596755453587,149.46902071106055,151.41161855112995,153.39404747019756,154.8285612917447,158.55433893246823,159.17198667770307,159.70992602233514,160.16816925288742,163.10694939300038,165.06944200158088,164.37211283546753,164.4219265190263,165.53765264725317,164.91005188371815,165.37825384920512,174.82219819173042,172.77001335013568,172.06273836784197,169.82130238849453,169.90100506398483,169.05421714330845,169.41287646120517,171.40524365822978,172.39148115372237,170.79754121997286,169.94084872659144,168.17758868570894,170.42896575275617,170.84738627651282,170.7278418429196,169.21361228497446,168.0281336259414,167.36068929201875,169.2235662950742,168.7155288740505,168.6457894108203,167.73926184050356,167.0618329267834,167.78903552405507,169.5323968582602,171.49487472778037,172.26197129642418,171.7339861724542,171.82363490255588,172.650483141982,172.82979638177048,173.22827499133652,173.33786985866124,172.5110027112257,171.6244173081612,171.68418012973498,171.41519529377055,171.9033207059908,172.39148770163624,171.61445171388112,171.07649574393164,168.65575296275932,164.87021318351515,167.6993773898686,168.42662359083138,171.00677461255563,171.2159647716158,170.08030660884296,170.02052097562662,170.6580893629885,171.71405159142915,174.21451488461184,172.5409162861314,172.12249795514987,173.18842752918502,173.9853829665633,174.33404987504528,175.45976274326765,176.06744280876572,175.3601440545041,175.21073231816726,174.67275978554295,172.5807475449951,171.59453608810813,171.63435378752945,177.53184051369325,180.00240321902032,180.1119758085529,182.20398175478226,181.24763216956148,179.1755457579521,179.76330826532498,180.06218424253424,179.66372659647843,178.71731664479552,178.4184629983237,178.3586680085953,178.28893348475776,177.89047814082667,179.1456931503076,179.2950988437697,178.81694746542678,181.19782285232986,181.03844490428133,182.4530445547141,183.0308292723502,183.54885273846418,181.27752930449662,177.6015727076885,176.80460271278537,175.89808817460275,174.71261681874176,176.09733480616055,179.70353166612276,181.58634945103253,179.5341906188523,178.49812844633928,178.47821839555743,179.6736556683845,179.8031720894703,180.61008137624302,179.39472726235306,179.12576572126693,178.00004963884328,176.85442658493963,176.3264329922078,177.7609633905072,178.25905789316613,178.16941776951077,180.8890243069565,184.07683665251065,185.50140603920931,186.18877462286736,188.1811428316511,188.081543957774,187.17499587377387,187.68305796444764,180.7893949573534,181.05836553126872,178.63763512177957,180.29130132667245,181.6760049105177,184.68452470672833,188.828676173443,189.9344635079072,187.90221700042233,189.27696228027344,188.12137966224867,187.46389230942938,189.10761695674938,194.57674966138177,193.47096090473357,189.88466223389062,185.06308410748656,184.3757017382826,181.148013615477,176.22682165377913,176.87435447458842,175.30038044214345,179.1257427636226,179.8131306724966,179.19548848636992,177.27282995989836,180.58020094285578,179.52424234099507,182.6921395851913,184.95349031585454,183.99713083701477,182.18407879645014,179.43457897515495,176.43603207783516,180.4606316093951,181.68596763373625,183.12049204424466,183.69827659041562,184.80404923037216,185.39182764660146,185.2822419460675,183.54884394730013,183.29980599112872,184.6247428055396,176.49579322727635,169.55231855543016,172.7401420828321,169.62204353705778,165.96603254283428,160.4869634189798,162.23030080086076,155.28682311702593,160.80573262560793,158.59417446359447,156.791057970336,154.96803716871977,160.9551829342646,160.80573389853478,159.91912211801616,165.3483821813368,168.0082234543833,166.81279289396088,165.06943846240648,165.14914062495208,168.35687571008194,167.48024109614695,167.6894323826201,167.78904430310047,167.80897658351972,165.46793232403024,160.44710293102028,175.59922461059958,176.4260655328714,175.05130384823437,173.35778956049498,177.40233960878842,175.44978761992516,176.30649908961203,178.81694704702093,178.35865896075526,182.31356376610182,185.42169742278136,187.60338308647067,187.1451224498361,184.58488606140637,183.61858636490265,183.35957614263725,183.48908104027484,184.59484848256866,184.71440106787708,186.19872289444626,186.0891575392267,185.62094666594027,186.09912351548945,187.28457182497542,191.9866267831306,193.80965179146682,193.24181250759236,194.25795380384668,191.79733613317453,190.2432737431657,188.7589605055979,191.86707517622122,192.54448751694397,193.75985377859823,196.5292477826351,196.32007971345936,198.82051499368913,197.2066922984748,202.77541264420776,202.61602255019358,201.4704026008792,199.2389178919418,198.34234709597553,199.98607647159196,196.58903771680806,196.84805285799294,196.69861687676553,194.6564198034248,197.89406010756352,202.86506268670283,205.01685558743603,204.13023883099606,203.72180478317173,206.29196313082952,207.63684362222682,207.92572633327097,209.6591153727625,210.1871108298403,209.19093583677522,210.69515917575504,210.8147115795639,215.37728023575454,217.788065888844,179.44454755633546,179.24528611448912,174.6329284852687,173.57695021144846,174.4137510095883,176.11723718947854,178.169405337348,185.08299352122387,187.58345408168728,186.13898505730663,185.86004845482563,181.407045286812,181.9151088216981,181.2974630080305,180.18171414507677,179.8131182615566,175.5493997572719,173.90569699361274,173.50720889359079,173.5769556389217,174.88195964058156,174.15473326630848,177.9900854268455,177.56174027179753,176.11723391009014,179.10581678250668,176.94407112980213,173.22828942609914,170.47880448176736,166.3445774081272,164.00351657959197,164.38206489680198,166.5537759524803,163.86404426462295,162.69851991052258,162.2203112288446,161.44329687950932,161.1444226929701,162.81804244222204,165.81658574561075,166.61355035878245,165.06945311931923,164.9598451555603,168.65576082251587,171.11635262202816,168.147676639586,165.24876550189177,161.6624649961108,163.0372046377073,160.84556684867252,160.2877150220635,157.73744450202463,159.97889941203002,157.08992516345697,154.2208845875757,156.29297527357699,154.97799287583734,158.85320149898467,159.87925937661757,158.05623272581943,156.7512207363334,156.7412499286906,154.18104906272424,154.06148905751257,151.6307794391021,148.4330098516128,148.26364290909422,146.08198942523313,155.80481382347006,152.16874109107934,153.54347687950175,149.61847567360905,150.39547910394174,152.42771751017733,150.3656060226521,147.1977191493458,144.48806205998983,144.32866890232742,145.02601363668748,144.28883531979102,141.23052019093672,137.22581168810456,133.64948367175288,136.66795288553354,133.98817736289706,136.47865873033632,136.09014095724044,136.26944760911886,139.45729522268462,140.43355131151614,143.13325663972066,142.84433446694305,139.16837378450634,140.33391699993064,142.5056262828558,143.33247510943175,146.629869369139,145.29499068838916,145.45438698515602,144.3685209022459,145.37466243680606,144.35854351015456,135.0541203385867,134.38665149745484,129.24628344445225,133.72917226363882,134.4763304091393,135.4027657124951,134.12765013435438,136.9867035751858,136.6480071912697,137.4748463364139,138.341545164534,142.59530447889784,144.1493650525763,144.00989104523853,144.80685356561833,146.01224847862147,150.1065910672183,149.08051737872955,148.43298989226142,151.84992904163107,150.9533600446736,148.233760746864,145.8827342230379,149.2598342313556,148.39316426120794,147.53642077393442,150.37556184293186,171.02668061734465,168.45650567867656,168.65575454429623,171.32555397066105,171.81367802562585,168.59597375510998,166.73307839871117,167.65954618945966,167.69940214105026,165.5874758684455,164.24259275502533,164.07326285716576,163.5253315541632,163.09699573768702,161.622609410847,161.79196648134865,165.43805521499016,165.60741889516078,163.3061627016177,162.87781906015118,162.50923182715513,166.86260343010514,171.22592733628707,172.90950996471176,171.0864730387865,168.97453331000023,173.63671654346732,173.13861291580824,173.36774293073492,170.49869685537558,166.94229083372258,163.27630015933497,163.19660753970206,165.48784510749027,165.75681593526187,166.78289602187428,165.906259980709,168.8051538856973,168.29712488953618,166.0855746123989,166.553776618335,168.25724978156907,174.234427287372,177.28278611633212,177.32263495927015,176.32644317212612,174.83215095812952,178.50810972620002,178.10962055429138,177.7211157858714,178.94645425148624,179.81312586305802,179.48438713164447,180.05221852585666,178.19928530807468,180.9786627274526,183.51898605241828,184.43546382101633,197.72470377910625,192.16594494767645,194.66639531977958,196.63886953225563,195.4334630628042,193.26175532266478,195.41352718645763,193.54069895992023,192.1659302920815,189.99422781302812,189.04784663666734,189.2769777324081,184.72434779621332,182.7917584997241,186.56732355956373,187.86238822224652,186.8661709351103,183.52893717867457,184.99334015859003,186.0293863880051,183.20018541595772,182.93121428719525,184.00711428633605,183.8576805368346,182.78178079288517,179.85297209003954,174.3838755963913,167.63964050210902,168.0779546274366,169.0542195960371,173.20836368123904,177.18317966251826,179.29509189815457,178.58779996956682,177.35252903713294,181.14802264645678,188.77888180626093,193.78974478708176,187.38420676283272,190.43257905129238,191.2693561060822,193.2418342297578,192.4050390717724,190.03407112871326,198.12319550520706,192.46479985108743,194.53688650961405,194.25794982910156,196.64880557959236,196.3200821840624,195.93155768441875,198.7009987447257,202.18766231340587,203.0244762486968,204.51874937943535,204.54864299717946,204.68808719391603,203.58232972679608,201.69953208466893,201.5600729586905,201.79914324934705,203.4627705720403,204.0306181814298,207.86595631970056,202.10796207637154,198.8703268500637,197.9538347425755,198.00363562071288,197.71474453817018,191.88699634625183,184.96344596961893,185.08297384343177,185.6607779079648,189.6156785832172,190.25324112607458,186.8761498865116,190.65173788132878,185.2822391794005,182.50285144570873,184.39562761347287,186.78648850074796,185.29220336551728,185.1925803014554,183.40940508606965,182.4331093217376,179.81312691554444,183.33965576168748,181.25760826754512,185.37189961709228,186.0891599967662,184.96343975024487,187.03553575806802,190.6318096961928,189.48618562038223,188.26086631610278,187.38421134423967,188.7191021401109,190.20343193636194,187.25470699181804,187.07538548435375,187.60338051417108,188.36046705575887,190.372796386697,192.3651953284868,189.37660220085553,187.3244186904961,182.7220058852744,180.7096906424896,180.07213187992707,177.9900949408665,179.15563910608418,175.85822560959156,179.15562868732457,180.29130286944473,180.4905229177212,179.68360268778355,180.03228806940464,180.9188989341305,185.7803251885803,183.91743183069244,189.65552370951028,188.97809741412556,190.1137813738489,190.76131354658577,189.18732588822124,189.9244927872264,185.6707402993619,186.01940482309624,188.28079501629057,188.80877042237998,191.79734747681738,189.72527085207923,197.33619610112507,193.37133479695356,196.61891338229321,195.0050868255846,193.6303362595149,192.70388547744696,191.60807677629623,189.35668622547783,194.31771637618752,194.95529237329336,193.29163412644294,194.55681034471684,197.8741186331164,199.23892849804588,198.8304789509272,198.33237770515845,198.54158467397238,200.20524172242764,199.38833185514483,202.36696921250353,203.02444924878864,201.41062188917027,198.17298233946502,199.26881117394632,200.5239970890283,200.8029375181064,202.3669753854862,201.28112362111963,201.85892828745432,202.8850056630319,196.05110384491985,198.3622547657015,198.24273488509607,203.52255390277477,205.51494055508417,206.91959167884764,207.79623370141795,206.00307492284685,207.02915213955643,208.13493362259106,207.10885052651022,204.77776626828293,208.9916459262682,209.5993278476401,211.9702928450579,213.76344186963544,215.41713904614815,217.5489814496444,219.04329096338108,221.1253210028928,221.5337526530094,220.83640781614022,221.78281441202114,221.44408558167717,221.5237741790792,221.90234945838608,220.64714892772494,220.93602488253438,215.23779635808896,217.90759384996522,223.3468336917661,210.62542979044053,207.89586101350113,204.3593762917534,209.7985987927944,211.92048040116524,210.3863404560038,212.01014400454648,212.98641128759692,210.05759797956097,210.41621822650941,213.51439247443096,214.1120903811368,217.15051441300932,217.48921211553971,217.93748531871404,213.42472000120054,202.87503505427946,202.7256106946917,200.4443197282613,195.13460128916347,192.0065561487702,195.82196926169493,196.48941600723538,191.1000143567284,188.2708178559003,183.0806293631662,174.3340506314528,177.61154272056265,175.21071541879763,165.96603270824437,170.1400881324924,158.52444381135905,153.35421420209363,147.6161155800919,159.3214141774399,158.66390631073253,151.73039338044418,160.69614716240977,162.36976845358615,163.37590635845172,159.48078932521167,166.11544012021665,170.27954144509982,163.52534937968912,160.73600657319292,157.30907817258554,165.56754913399064,172.73017530954777,174.33403676573207,176.40613783434068,174.33407024350947,180.54034216378855,177.51191315893135,177.37243784940307,179.59394269299636,179.81311600916933,174.7126127368552,184.0768359738002,186.33819835230975,189.68541271247346,193.01269989013673,188.48001611363534,196.16066963981467,208.89204452254958,206.49120385106406,205.12643270190188,209.5794144706286,210.79479084916795,210.7947876696347,212.39865912350885,214.18184063748214,214.4607564245573,209.97791276990515,206.14253347836075,210.53577092782473,213.82321759572983,219.65093506443208,230.45966092254656,236.2973484563728,235.09195945269883,239.98326543698587,229.68264578620366,230.74856990124803,226.62433585280937,231.5554629730364,232.11336017390508,231.7646793802247,230.74855410459253,230.469625132266,230.6688627489616,238.85756934292647,240.29211016589525,232.00375585467322,230.77842497298835,232.88040571789588,237.55256970132336,236.6858712110974,235.2414111888761,239.91356276572657,239.78404089868698,244.25696263309538,242.29445835181724,236.3969723563037,232.20300129024213,219.90995127339727,226.6342584566092,238.09052107077835,239.08670047674076,239.4851695882037,246.70759041907095,246.05010331756864,245.5918385177291,244.55580528195952,249.19806314341017,239.41545662136352,243.88836298337034,240.8399964023928,243.23087763767205,245.11369146477205,245.97041545685423,240.97947296312753,241.49748161068106,232.60149696907902,234.05591404052427,234.06590214028165,232.81069566773405,233.9961660711744,254.8763935205981,254.42808673282505,251.83800220693652,251.31000376925877,265.58549200841645,277.8286701287714,272.8178346328324,264.9080883755526,262.8957512027598,264.150960461302,261.6505182288711,263.0950134368301,264.14097906027695,266.8904911740159,268.6039639336276,269.46066471558953,276.194986274456,282.01272407574464,303.510657752315,300.083746979025,296.09890212949557,295.75024774126024,300.34273117126753,302.44469713142587,296.467497479137,287.90024304611467,278.23715190381387,277.4202710619414,278.0977064618948,270.35726785369485,275.58730985918567,273.4752847691406,271.40325031228923,260.50488380637853,258.21364671315257,248.99884182983368,254.34841684116756,257.0082394220307,251.28013846643086,254.77676494639124,258.61211683620814,262.3279105188514,265.0674368208077,267.3088689312499,264.1409705949083,263.8620473192718,264.67896761652213,259.18991487980696,263.6129993491752,263.74254131153225,279.1137877313297,278.0379305071263,277.6892350542798,268.01619579001186,270.33736212844656,267.5280590502181,268.6737107551237,281.9728797666005,281.3751852785994,284.15453763914826,284.1445755258021,283.4273337186137,277.7290757852648,282.5208005784098,275.6470127595382,269.4407349118749,269.02229838138925,287.8404686062195,296.24833111359493,293.47893102031964,291.4666129589929,272.95731280412,277.3405635215419,278.6854453843714,276.70300278484575,278.34673723121807,276.62331602574073,276.33441581608946,272.4293185532487,271.96113619982054,269.91896894551445,276.76274934446866,279.113789224855,278.067791729578,276.6432486171017,288.19906868038885,290.669640740519,285.5591569021982,282.38132177680797,287.3921857035172,285.34000151433867,286.5354365821965,277.669318726723,275.4279066204742,276.16507494062256,275.02941629515465,276.8026405881355,279.3728279130028,276.9420924525854,273.62480397285174,270.4667991505946,271.1342997563098,269.3710302722639,276.244738540555,279.4425624812141,277.02177860139483,276.0355513017327,273.9535014875248,271.3634243851435,266.73108961349965,270.57642003332177,267.9265723755679,262.46740038322883,258.7316549712854,252.9836106127,254.05949700806735,252.89395937688212,261.2022349295432,269.2913473851233,272.5588369753029,277.4103075402784,279.03409984842875,284.3040014036473,282.3713586132322,285.6986666648596,265.5455844007534,263.1647540628418,267.8269436946464,268.17562970807916,267.13954948374766,268.1456778066737,268.83306893638655,272.3496613283842,272.7580669662373,272.53891692469,270.1480471285098,275.54742579829593,272.92743293720366,270.91512381555316,269.2415135214621,262.06894964704213,266.44221465184484,265.3663293913309,265.92417802615336,264.53943287603397,265.6352853884401,265.695056236705,259.99680143379493,265.4759053581925,264.43985298140694,264.56934750057155,267.50815138515975,267.9464564788886,276.84249067161846,268.71355941266944,274.90983334689923,281.0663564597235,285.14078289920985,284.1047284431432,291.68574717184134,298.56947733701,296.8659660598923,290.6099071906842,286.96380079354674,283.41734148343124,292.0642917448506,291.357043935581,295.37168416767355,301.2492259069473,309.5874045512477,310.1652319657641,313.05414893931214,314.6779285106167,313.54228811650506,310.96212575870106,313.23348035849637,306.85779801432125,308.95979931003205,307.77434062034916,306.5291191801076,303.93897995758476,300.8308533934624,301.7672711016684,301.4385053553886,304.63631743207475,304.1780483779777,309.7368366130836,330.54733901281196,328.5649400479308,327.29973061401193,320.9639408812368,319.8382211293504,319.021349086728,321.7110800609453,313.3828850063218,305.67234328033123,303.7995144147644,307.684665091712,315.64424208411475,314.4787160383786,315.2955774616908,313.4626030210447,318.03510105925056,318.7125128969515,324.7096681118598,327.92732772751424,328.57481092748736,332.50984390597205,331.60329481618476,330.1588271011921,330.607111584785,326.1342136063701,331.19482082981,336.4049556289133,337.0126006775478,335.51834898864473,332.66926437136374,331.5633918602353,335.53829232928604,338.62645587617146,336.265479234852,336.6938689789754,334.87081084488557,331.6531201585846,338.6264653901902,342.11319330580363,343.587540545765,342.81048858061723,356.7771380373392,355.38248428492585,351.5770369494507,353.3203761619857,355.0835885184407,357.4246698047438,355.13341784607485,347.0044499805939,349.3753918725092,352.84214972600506,357.1257919389138,353.84829803890034,347.90103743410833,344.6733619405872,338.49697468576085,342.143060193653,345.20135013783363,350.2022508431243,373.9017087377094,373.0151093136962,371.7300149578476,376.11326768278474,364.12903419563696,359.3572874788406,358.0323184807113,352.42375246795694,359.10826044960555,362.51522936883214,363.7604523205698,364.38806212405956,362.71446705838656,360.98100954693643,361.6186326795175,363.2723220497576,365.55360004489285,363.28226862430495,358.4906039065969,356.2092738853384,358.62010775194295,364.29840740049667,366.5597687178801,369.44873076285774,368.03415065518175,372.3177670492516,380.0382844755459,381.30348319479003,382.86745281678753,380.29727829765784,375.7247856761385,381.5026775487639,379.4206085231545,378.3845766729862,382.32956130485786,380.2972899854752,377.1492958180749,376.12326420550113,372.138417077015,369.9966365281194,359.6561394506684,358.6699459243961,348.50873665008413,348.3393668593105,353.00154631190134,353.7984993411599,348.26965293730143,343.9162970563765,341.4955076839836,343.7070423427762,334.6616278104517,333.90445454673556,333.10756614543567,337.5505809717345,332.13126424434466,329.2024621726233,323.14556674935136,325.75562279356666,329.2622025269292,327.81776624094044,334.6118290963437,341.1567994254865,342.67105040755246,341.00736638550404,328.3756108686573,328.30589343135,328.9534115436381,318.03510674847826,324.2812693878095,324.7594295890629,332.18110066830343,333.5160001360699,330.8860446890273,335.986539747779,345.470343910541,343.47795514494527,340.01117891584454,331.92208695939513,331.1948683836995,340.5590529619004,352.30424881963586,345.33083705592077,345.978354756242,341.1567962848439,350.7601341339255,352.483533390313,340.10084598677975,340.47940736247216,336.46471109530916,339.3736513810841,334.53209517974227,329.24232749683847,313.4028640687,312.5560719727112,318.8818947561718,325.2974211254558,331.4837621713493,334.85086529299457,333.755053630439,339.7920232166749,334.42253397661483,340.80813262697296,343.14916679946657,335.82714889362177,328.6445956233688,334.7213913239131,333.23708326137097,335.3888146340424,346.5462116920972,351.36775848709516,348.35929281166597,345.908664608456,342.1330846058311,339.78202123369005,341.78442422363474,334.48229257915074,337.8793736567322,335.7175699807627,327.09052531324653,333.35661554838686,335.09000269694064,334.352815350994,331.4638213864972,322.97623727865846,325.85527178298685,326.5725387283157,317.0986971720326,308.35210412914984,305.0646928830254,306.3398427316554,300.56187171998573,300.75113853374904,312.59591405423964,318.4435638498842,326.7518163155476,247.0562469551893,241.68677312019753,237.39316752203163,224.91085661462728,232.4819234290626,234.10572372834955,229.5431535474969,220.15901207434936,220.30845022323325,216.63246998925186,216.67232458619048,209.94801797837036,206.69046501271862,206.1525222252914,207.55715879547924,210.51584637353537,212.33887164491543,210.9442147077806,208.35408987183882,208.28436611288225,205.1065228866624,200.12553706263026,195.9514677382991,198.34235174897637,195.53306810789914,192.823411565971,191.55824958934522,191.54830403092183,202.9547128743451,207.24832340957013,215.9750013785163,213.89295915822717,218.62485030210033,215.97499137945934,219.83027154707898,224.64187990586353,223.18743553895305,230.01138507270016,230.27037062059532,227.6205177005303,226.41509974710868,233.4582257164313,235.95864947461757,228.11860603153974,224.66180511637518,224.27329568049672,219.77049304620164,221.18509409864447,215.78572070482386,214.17186589317546,212.568025260636,217.59878058029162,213.34503726859575,202.19763415907397,191.9866136811897,186.46770659700027,186.4776576946186,180.5204443979636,207.73646098767682,211.6714138848514,211.0737145458472,214.08221823276278,223.44644225995125,219.33216476646174,208.58323558794535,201.79914662788295,202.1876637890016,199.90638479791525,197.29635111989037,199.12933765587084,204.5884819053438,204.67814210672302,200.2351284555215,194.54685145519173,197.1568780782061,196.24037872901383,182.98100979353063,184.74429310038516,192.09621790407758,194.58668704559057,196.84805925690145,198.77070829741373,200.1753273727312,195.86183280805713,196.1706564789566,195.78212793374405,201.26118106074694,198.69100807356122,182.4032457113184,171.92326451484138,166.11544546802398,171.50485536806903,164.45181390470017,165.26868167228224,167.12161381508136,160.17811582374566,159.14209921528973,169.6021355578739,171.09642610885047,170.64813956471886,165.69705136125984,164.60123340239417,160.00877167321815,167.609741778181,170.93702867966036,172.0627414708679,171.7439411597345,166.8526352216144,165.27865004025557,164.35216369855002,161.97127950541878,164.35217545027484,171.0366471143732,175.81838883228076,182.9013490437702,183.15038165209816,174.93176777130924,169.92091955771167,165.36831199531662,170.21976143191318,160.89538548863504,159.53060357285995,164.5613734639047,161.622615768185,168.89482809416302,171.49488772723888,170.9569508855241,176.83449424649405,168.8848664581072,179.7932023329523,182.40322719861055,180.76947911632044,180.74953967553083,180.30126840720226,177.46210488312778,175.09116632338936,171.66425548804514,164.86026769040504,164.42192700570618,164.83037329835594,168.23735137182393,170.2695860791963,162.42954064140793,161.04482648952012,167.20130153698656,166.72313265348825,167.2909569635195,161.074729077549,160.34747072018632,161.61263432704848,168.89481714595658,170.73777723427042,161.0149573610015,152.95569995771245,153.61321024445974,148.0146011178789,148.01460792374698,148.27359261944463,149.03070867174932,144.0298167955201,142.07726818668954,141.69873186628539,138.8894510143319,141.48952113352624,139.3078396040997,140.4534714645469,139.08870123867814,141.8481411492554,139.6764564440494,140.91171949348796,137.76373169679366,135.59203176976462,132.15517421625412,129.1765568235177,130.64094559621685,131.28847591686133,134.27706846327047,137.31546136168888,136.478665239016,136.2495453741906,129.62485607844204,132.97205034231325,137.82353993652694,135.034179505174,102.10995169348561,100.46621700425209,98.94205123976676,97.11900150900452,94.83772021170323,90.11575992674207,91.04222667179151,96.51132351324645,97.42783833253556,104.50081780587834,112.32093865351794,114.46276316116044,115.82754132874416,118.28814719767996,115.63827113543947,111.90254265897603,113.88496213458102,111.94238309957143,111.19523786853262,112.24124545823021,112.30102242675277,111.61363948662164,110.5178360757665,117.71036583769511,120.73878425862401,123.56796769782673,124.19557744749083,120.09126153387945,115.43902102280762,116.89346651238054,117.09271236788521,115.2796419647535,122.83079396800403,123.66759569025575,118.17856623908014,122.84074945132525,117.35172295606927,116.88352426463318,119.88204731090636,118.16860833337756,117.73027168204119,118.14868243218646,117.70040212926263,120.56943468392865,119.96175458380594,125.88911425599625,128.55892225260345,128.03093664825272,129.83404066417,132.4440629739468,132.93220173880965,133.3406614239833,137.15606835893732,136.86718369304037,136.2295888051712,136.72770808223686,136.9269530716981,139.40746831908078,143.21291806456261,144.44821365886554,142.6251757116544,146.94867907512315,152.60704620223302,150.54491359992076,149.3096473986509,152.9955639299113,196.40972273595057,196.02119712163633,189.9743170637652,193.04259213154947,190.10382898192086,185.9397094769093,178.20924179197237,180.31122522391973,180.81928626162937,177.51190372318683,175.18084099194562,172.52096840292006,177.4919924458868,172.10255412725942,173.0290605823487,170.0703537282059,172.46121514233295,176.87434511281378,177.17322091325448,174.3440138849732,185.90982564089268,188.9382767724195,189.6355901124362,184.5550183047882,188.2110352428283,184.066882417178,183.0806543872412,193.58053866113252,197.02736692176956,204.97700512438163,201.1316886032071,198.60137102179124,202.77541116141907,206.5808654427039,207.08894655351733,206.7900765166797,205.07662727516302,200.26499498369148,204.93714485999772,207.29813618104006,211.36260438627056,212.67758568921622,215.41711302497686,214.37112062618738,216.1144793381053,214.83932574582747,215.19796485434995,216.0148273643028,220.3084334009381,221.26477627131845,220.13908842800765,219.60113601539464,216.5029830363931,215.92517453756713,212.59788994213412,213.1059446177699,210.4560663354308,213.29523280905906,240.77028525315995,239.51505387087417,243.07147975496588,243.98798321791216,240.83004573259245,237.29356182444226,233.7869439781792,234.7233724649381,234.9823763953854,235.84907129438037,237.303504320743,236.05827968653296,239.34570085744144,238.72808079960802,242.91209913674868,246.14972150818804,247.7436271560998,252.6050673292832,250.6525186439679,248.6402318824735,254.64726704860664,261.31180828250723,267.62770510125483,263.9915797676943,272.95732643567294,274.3021952557002,274.52138644026815,275.5175603306584,273.206327592764,266.6314753153254,266.93038713572946,270.7159031210685,274.67078695031654,273.94355787514365,282.9092912822026,286.7546339624088,283.7162290670788,282.91924176326665,284.1744572176178,288.56771200591965,288.6872388989131,288.24893813511324,288.44814469713634,285.47950875837944,287.9500391858985,288.2986914543512,296.9855468656403,296.9854916863285,295.07287567537725,296.9954979420541,299.0376992845493,308.27243901443006,315.0365942623175,313.6817496630921,310.52380621537736,313.00436105988246,317.4672871510975,314.33924734635735,304.29758938112934,296.38781916252947,297.1648382263915,300.6216424648474,324.1119442143206,324.9586858780043,324.42073516197854,322.9065149003659,317.17841310968237,314.7477371642586,317.1983445784094,315.8634461992032,316.6803394198139,312.4364942397721,311.15139758323005,303.5604230069269,305.0447237374363,306.0608705001959,299.93424414011537,294.92341172140374,284.60283638546133,289.394536816527,291.7854041513968,296.2682481490676,298.3204069885457,287.2925605400875,290.3409305581799,298.0116074464569,297.15488333707856,299.9542034976251,300.59175532593474,300.24311451577813,302.1458133823586,305.88153227178526,304.0883859768104,307.86396625216673,307.4854475850486,306.01103648166253,311.67940067249833,310.81272342483015,302.44470427247484,305.00490825420076,306.8877203611136,299.1174051704437,304.2178769987564,299.80478007206875,299.1571931106669,300.15344526158594,305.16425988561383,309.45789847747886,306.011050767019,305.6026008385055,305.7321596462051,305.0447061033417,315.1063008580321,319.11100311489633,323.42451016260094,327.5886172779366,329.2821791956286,323.81302299772,320.59532013454964,323.1655005416488,324.69966045077126,320.6651242592979,314.10015202033634,316.1522909310062,317.13857344129184,309.69698202337327,293.87743522806903,298.17099873015013,308.22261233917504,302.5243370203914,311.5498969671139,317.6067709820877,314.3491986748491,317.11863791643617,319.77847801503464,320.1072304980162,322.946360971768,327.847651626363,331.0653522641616,336.813409296164,337.11222756048267,333.3067740088348,334.2232861666857,340.5690331359297,338.60653351825493,341.61507213296295,340.5590623766904,338.6065550164102,338.0885121576976,338.6065633104519,332.2309016533597,325.61613834732657,319.6389848747118,320.6551314499994,321.0236955838773,326.9909442068029,331.9021797715879,328.63461721541444,333.1971992774401,337.08237795752757,333.4263677892299,337.3712658769134,346.23740843887936,352.2544246488028,353.6092140101761,355.05370183674324,355.8407260744659,355.62157915917635,357.63388388582604,360.52281465790026,358.63006109119914,351.8160808920403,346.62591726275565,346.82515151005265,352.1547766619745,357.6139861351419,359.2675999429573,371.52081303638715,371.3614257933393,375.6251383403932,374.18062511376075,367.1375671425744,375.4159307418802,382.8973245006052,388.86457410324226,386.9020835897568,394.6424993667114,393.98501459525295,395.28007693344165,401.39669290120037,404.8136422913508,396.48543973502103,398.9759443902595,484.1107206070922,470.10420340045386,465.3424000231986,469.72565727567735,468.799238013385,471.78777032551,477.3266255183887,466.1095004797401,472.3058015200687,486.7606094833743,477.13738189040566,474.36793825705894,467.71095700577064,488.6432912803049,493.0013030163017,484.80388578084165,485.9307918400924,489.70037463345716,490.3486513882552,502.8640862594586,503.0336586030815,494.2179346329204,501.5876277126765,518.4212078949104,522.1310161834099,495.95313873552806,500.92945706495095,499.6031120437849,499.972095675005,490.47820503950635,496.0528983580825,495.2650413448604,506.8032726379858,513.624431278809,508.5683860811608,505.8259505229309,508.5983047664013,498.516111326027,491.5353286388912,496.0628181093431,496.16258514757675,505.84588531504744,528.543323855873,529.2413753821786,530.0291629395177,524.4246876440302,521.1237834896342,522.4201952092246,518.7603275568994,517.1049171905591,503.3826536596228,501.77711061387714,510.8022605755454,501.4180909852817,490.6577195293118,497.38920406550506,508.598297026382,444.54481917964677,445.21302235445665,438.55132903326955,438.4117412443997,448.72332964673546,442.73979680670254,452.9217518023227,464.8788076890571,470.23406087351526,474.27290726340357,474.77150152232457,476.18761968792603,472.04904418086215,471.24123708014577,481.1738751879622,476.37708510248814,471.50054469099473,471.8994547870053,469.4063210946787,472.41800030726165,473.05625271946514,478.5311645517947,479.53837113458457,478.5311757542124,470.4334873144673,467.83065064700173,478.28185946226637,477.57381844116316,495.28499771917234,501.43805105913526,497.5387921637262,501.2784911083545,506.204934446776,512.5972711105918,507.96006130497796,506.2582926260963,509.8519477024986,505.11028791086216,502.78440845352486,502.5648032467386,506.9071288518121,509.8120319592657,512.9065626438587,521.9605928915016,520.9623872716696,505.68925563371596,509.60239821444316,510.3810409140256,539.9189662598088,541.8555524573394,536.534943854359,537.9324517402862,534.5185452701778,507.1966490761015,505.78908920634285,503.0639397783021,478.32748890233796,478.39735982553657,485.85423173577976,491.1948400620644,494.3492667371595,475.4625259068236,462.7349172153166,468.94401583747384,473.12663800490486,471.89881427196735,475.6621943156695,526.2430849637308,500.2688112907695,482.62992818472276,501.6763611082867,509.25301636265255,509.0633541271693,517.428624215059,517.109214427898,530.5654741634111,533.0610613415128,538.8209662011891,532.7216331392892,530.7251855970338,530.1562131403965,538.4515900707805,543.2730504293274,538.920780225149,527.071643458737,523.0886568561215,520.17381841545,526.2730286194331,522.6194310478569,524.5660071340112,515.6817070463519,520.7128657080211,523.657665418253,510.4309140741434,513.2759090064498,512.2177634842137,525.7838757747878,526.6523882515548,533.6695051606467,541.6630662022832,543.7613808868556,561.6169909839053,564.0450074359927,573.5173723525766,567.2923969936288,576.4150284435315,576.9346780851354,570.3799466541782,574.2168225832384,582.5700833930905,575.5357590193373,582.8897832625125,596.3689565671799,602.4640543216561,593.081613342466,593.9109352089645,589.7542408894429,590.7335426141501,599.6162821918657,590.1339531553972,581.6108484225683,584.498525214523,583.4993265515407,576.7747517900956,583.059749102595,584.5284780017795,568.4214766798149,580.8214617194669,583.2794909577367,593.1915192160194,600.7154460578435,589.4245764245477,573.2076440008003,568.2316421306225,573.0177694578593,572.5381747409726,594.3206217597054,592.6219696885161,586.5268812894068,599.1766373771187,585.168000649057,580.2919594723807,572.1085099621108,559.4487531149258,560.9775092082989,565.8934960924114,569.540573055585,563.3756147608086,572.1285540602511,577.0345279001676,574.516581935116,577.9937945773128,594.0208708971044,613.7050010762927,617.282115464708,619.4003991271754,629.2823794750941,625.8951772240001,625.0858279793719,637.8854652597508,636.1468190198666,630.5713687123745,631.1500244140625,632.3699951171875,627.3599853515625,611.52001953125,603.1099853515625],\"low\":[37.85539792641316,32.874422022338905,30.82226315448943,31.240663297237916,31.64910105362295,30.991613602745595,28.54097381350216,27.753983277070684,26.72790055306702,27.285771142609548,26.3393855248217,25.65201075974626,25.422887220053507,26.050487940389246,26.339385576089636,26.73786386365115,26.857406328683677,26.996874181805186,27.2758075035435,28.242116782561553,29.298082843587952,30.58317398208057,31.031461350390146,31.390091692685658,31.938001905700876,31.429940236499284,32.37632946815742,31.778605275321024,30.78241302051685,30.64294500254108,30.433744296943164,30.682792767156332,30.901958075788755,31.141042170565804,31.86826348106565,31.041424716849658,30.433744339719034,30.48355668825035,30.443705031702105,28.102649319512086,27.046683152209592,28.042877805732378,28.5210498861482,28.61070786878792,27.90341071331995,27.993067365698,27.973144262960968,26.628281433479522,22.195215341609124,22.94236261773641,21.52776624433488,20.760696034664367,19.744577267774737,19.82427251680222,21.218942648877945,20.421989300252495,20.143054128216498,20.53157241489271,21.04959048411576,21.318565406863417,20.172940000218997,20.322370677370955,19.615072482837807,18.92769766690703,18.678651364411962,19.0173562163705,18.887847293621437,19.286326623939743,19.176746781533407,19.027316581077518,18.877889791598204,18.997430525389582,18.987466538984663,17.961389258169003,17.483215555895605,18.11081893948823,18.648763317778187,18.708536181921936,18.479409654249885,18.778270977321572,20.20282713225965,20.531571405939857,20.820468141100058,21.418182190433868,21.2886801790014,21.68715774667936,22.454225077094907,22.51399753184435,20.28252390080064,20.143052507009628,19.724653218538414,20.08328478297957,20.421990056778405,21.647307844813422,21.736968572201743,21.71704074039282,21.328526247869306,20.80054065029844,20.083282155697667,19.89400621051905,19.375986230001462,19.53537620215594,19.40587197323488,19.415834148078016,19.226555104816235,19.29629041340566,18.818116301189885,18.728456560327782,18.97750792175681,19.027317143480246,22.7630465505004,22.384492037732876,21.796737117997637,20.65111566545585,20.93004803942486,20.989819462348844,20.840391892984318,20.910124063186604,20.29248525322457,19.90396871839973,19.057202545914866,18.798191448310988,19.485566209808418,19.854160396754622,21.567612586511267,22.095596813954984,22.733160995682173,22.613618931800445,22.962283780934378,23.789126237248183,24.71558851185258,25.3631127358131,25.65201190182625,26.0604520990691,26.658166840908443,26.87733022658618,26.57847250242763,27.156264887613464,26.717937985723903,26.7378632179734,26.9968727324928,27.554743638168592,27.265846210231754,27.325618821587174,26.6581683238373,26.219840833452686,26.797634225385824,26.847447838939793,27.02675986560792,26.02060378336551,26.100298782371322,26.279614190356195,25.42288481533775,25.05429325980236,26.010642070419316,27.315655103120662,27.48500847922885,27.724095293947407,28.540974155840438,28.750177422400927,29.377778325634033,30.164772117238694,30.98165128289692,30.50347974742012,29.766292448654724,29.417628162811,29.915722779407535,29.158619077737914,29.62682571292404,30.68279629187854,30.692756043341237,31.011537554883695,31.688952925145227,30.59313509733489,30.762487887616125,28.630632556148086,29.517245317537903,27.90341093709127,27.933298233070982,28.55093782889249,28.16242244995534,28.401509860756384,27.9332960741069,26.996873262169505,27.20607390801307,27.90341299538768,27.983106381090042,28.012992956375875,28.222193457427526,27.046681162056498,26.717938405342508,27.04668315203062,26.598397486889375,26.52866330017793,26.239766231971128,26.707974097217548,27.33558201568803,27.10645388275515,27.245924966721038,27.365464406382,27.6244771425908,27.72409721125041,27.494971990816165,26.817558707781018,26.727901414521572,26.458928225102635,25.681897240933417,26.110258766835262,25.681899274748336,25.462732556316734,25.532467863204733,24.984561450488606,24.93474984308919,24.625929513587494,25.42288533798714,25.183799334962558,25.203720895821622,25.602203932992413,26.010641702648364,26.50873981782533,26.528661592595363,26.319460249717956,26.797633635957446,27.14630362716168,27.13634150928166,26.25968975335982,26.299538519159746,26.28957335845921,25.054293392796886,25.233610230350823,25.60220086507618,25.671935981029343,25.70181941008386,25.901058804712594,26.498776970393415,26.757788487952233,26.907215701669994,27.20607455339858,27.87352405768834,28.042875719865567,27.375426412342893,26.74782524710659,26.548585347739845,26.74782576282097,26.468888224327415,26.429043925376025,26.71793895901476,26.299537704606667,25.80143905874111,26.10030127098767,25.592240633008185,25.492621718723935,24.825168296421552,24.675742291735986,23.98836683887991,23.828975904989953,23.17148724675293,23.83893769713885,24.177643983612427,23.619772570916723,23.231258437391713,22.703274658638335,22.583731719433207,22.773010055177956,23.898707106234646,23.908672054390628,23.490268848112155,23.18144941246166,23.171488154525875,23.659621592996587,23.988367766081456,24.008291187688073,23.560002853696037,23.958480176391877,23.29103134628481,23.948518707881412,23.89870677355341,24.117871844288814,24.32707355990864,24.526312009097655,24.207528047491962,24.058101989372446,24.10790858649698,24.32707136098081,24.934749270326314,25.373076225737282,25.353153686464022,25.452770711033917,25.55239092560775,25.911021216092813,26.199917399318696,26.020604525717534,25.50258185266078,25.62212258092086,25.871172374831406,25.950870029865854,32.62537408679302,33.43228878785228,33.88057539051104,35.185590420036974,36.19175280748576,36.779501418711064,37.35730224804475,38.104445251597255,37.795621922309756,37.55653445729831,38.28376285346748,37.86535570263188,37.955012171716135,36.63007504355369,36.480643958035095,35.882933317456725,36.75958465022273,36.99866252677241,37.54657455131315,38.00482780899114,38.194101284136174,38.78186036642878,40.465424507690244,39.26998698587788,39.72824610101662,40.644740391307494,40.90374924660742,41.35203599402537,41.28230350532492,41.61104900238149,42.23865581641531,43.53370351439649,43.06549110186049,42.94595064803075,44.48009015999763,43.76282911244203,42.268531059530005,42.26854132661067,44.23104087622764,45.05788106203536,45.56594362394019,46.11385263599324,47.97673147054135,48.275591101063206,49.31163340357605,49.67026751547917,49.61048872342135,49.26182041306661,49.75992275524126,48.8733089680931,49.38136455488136,50.208212678514876,46.900844006320256,45.08776596661307,47.64799122894974,48.60433282581115,47.727684357493644,48.9928520869192,49.710113399460504,50.75611470572497,53.39602472211759,53.30637044162551,52.0013611760786,50.93543287747831,51.39368019804252,51.682578386567926,49.42121312357762,49.06258634227223,48.56448504270461,46.3230511120819,49.530795768041386,47.83726316635215,47.32920330878378,48.52463912287908,47.12000035646062,47.07019923988564,45.55598011643553,45.655598097845285,45.884722054062095,47.84722393400134,48.5246363480621,45.625713078582905,45.54601836935899,46.13377268555124,46.5123252018727,45.78510414313601,43.87241020914668,43.38427101183551,45.356737783250864,46.32304672846082,46.083957920339685,46.11384935468282,46.08396234297486,47.68783513613211,47.528444054501605,47.558331750084804,48.3552887474635,48.823494352655295,50.46722082162888,51.14462741558864,52.70865558798482,54.03359788714341,53.54546182824567,53.744698795040875,54.02363517615813,55.2389920700938,56.69343355143599,57.151684270271915,55.0397549917042,53.226678145829034,53.70485000892204,53.98378271616145,54.322486610436705,53.84431950260171,57.00225560342087,57.012216802224394,56.43442766214819,56.842864439984105,55.16925700976906,55.886516564558555,57.05206373575808,56.613739478431405,55.85663009592505,56.28499267670684,56.88270950993512,55.478075835262715,54.192992691763195,51.65268659134339,53.79450694656795,52.98758764058967,60.22992511855561,59.941025433592806,60.469009812992844,61.584746351453525,61.036845205691016,61.22612109775954,61.983226414505694,63.22847291145402,63.10892618350105,63.806270650196915,63.8062668204761,66.46610676075962,65.81857683550913,66.74503865141536,65.47987545893473,68.1895128653476,68.27917692017334,69.18571101385578,68.58799365664362,68.60791714149751,67.12358620866983,66.25691141199098,67.36268279593227,69.35506918392474,69.9826681665543,69.2056320478169,70.24169250665425,69.69377006484676,68.73742460348514,67.89066444604872,67.20328282346678,66.36648130650968,68.0400993828874,67.21325722127155,66.56572583843521,65.92815937893788,63.11888960628701,63.53729730102472,60.14027004792063,57.75936391669617,59.11419050966516,59.64216654198949,60.01076210110684,61.9732656784834,58.90498780494818,56.105682171205785,55.229031715708565,56.95244411999965,58.96476023597072,58.45669872736964,57.09191519448877,57.56012453616103,55.66735164931834,57.5202795368712,58.49654565297799,58.92491117485031,61.98323066147849,61.026877439319854,59.54254662329116,57.35092413840581,54.451997329232526,55.62750396768841,56.94248428418075,59.9808795799508,59.95099377965802,58.954795974077676,58.26742515327867,56.045906999586855,56.284993614952,56.1654507148132,57.759363127781384,59.28353966755687,58.72567487076186,57.30111322010979,57.09190859176159,57.3509216724433,57.95860318420204,58.02833755888769,60.17015345558045,59.921108486176095,61.3357022712247,62.38170557905472,63.26831902089841,62.32193827007896,61.813875152485586,62.08284630116278,61.83379712170931,62.580940639773914,61.913494671927765,61.5548680519275,63.258348630983555,64.6530298492743,63.81622102832563,63.58710615895508,63.507404072163915,63.68672503700641,63.806267604758034,63.965651253002015,63.10892938410903,63.97561348690605,65.0216175422716,65.32048568636324,66.64542172947897,66.58564055771323,66.87453315144626,67.13355394001405,65.53964381043731,65.50976067946242,64.8721984160164,61.9732690798488,62.909696646090765,62.81006098430901,64.54344275360491,66.64542219240516,66.00785741516849,66.81476811917945,65.78869285638662,65.90823559337025,68.23933333164769,68.3489089789631,69.34510765017725,74.22645897048642,74.37589531625419,73.56896743933001,73.14059944383574,73.84790291845869,72.1643352140112,71.27772532428155,72.08463751538733,71.90532214081237,71.51680888691342,72.42334311624413,72.283877494201,72.78197888750341,71.94516954984958,72.772019336044,73.40957841030558,72.72220029549787,73.67855247530974,74.22645612054222,74.3360425285078,74.12683719569645,73.29002985444923,74.50539183717207,74.44562905847339,74.17665702455636,73.44943877000176,73.72836314101806,74.53527637048491,75.31230714894402,75.2425727107189,75.31230912879849,76.7169564363635,75.91002978804502,76.21884828342533,76.75679730889479,76.80660657120146,73.15057066006311,72.79193390790262,75.28242457469933,76.22880871353411,76.14911810395485,75.66097239479556,75.75064270793021,77.21504776312892,76.83648599564357,77.03573762587493,77.613522900516,78.30088403601893,75.61116951803751,75.3521669496245,76.96600173441519,76.55755714344178,75.94987442451651,74.81421686899347,75.56136267912363,72.48312238811388,72.24402186556073,71.775826364757,70.05240972076619,70.3114129175818,73.46934763802173,75.0931553772525,76.85641572317537,77.71313906789143,78.70934849088498,79.01815307036837,79.4564771272933,79.26720079434637,74.49542763616788,72.62258552628369,74.16668959027085,73.41953873352855,73.36973884675321,74.13680647083773,74.02721293323725,74.73452215139045,74.32608429943522,73.74827805536525,73.26015139041213,73.3597660897102,73.75825474653267,73.59885073766472,73.61878554395115,72.83178507685847,72.23407490008744,73.22030406887248,73.07087852710794,73.84790172847306,75.22265943766948,76.93610708782536,74.51535518039289,74.75443643642971,74.11688543803567,74.37589483580702,75.07321773663892,75.11306496439296,74.49543364555059,75.78051656693232,76.18896844672318,76.72689837869427,76.26865749477325,74.30615143742192,74.6149789506575,76.21884696577945,78.03192226825733,79.69557356469493,80.09405320460601,80.44271067855519,80.20363363211781,79.40666674047614,78.79898724328015,77.56371157228685,77.4043128341122,76.5675170825391,75.07321965039611,75.53146821764538,75.7904849810127,76.90621450438188,75.91998583098886,75.56135764588964,75.74067455447299,73.26015000307909,73.55900100709684,74.53528035694089,75.5613625300088,76.38820506182861,76.74682652524254,76.99587818018851,75.34219221997219,75.710790299821,73.92759997887427,75.4617447342004,73.46935636659715,73.57894211556697,74.72455782606272,74.92380148896056,73.96745095652751,73.17048496846478,74.21650052601117,74.7444853464457,75.60120839823921,75.21269763370907,74.79429900091826,75.16288343106176,76.65717303383524,78.89860650989019,78.08172184194056,77.80279217078294,78.20127644684241,79.41663482865809,78.32082041746665,78.22119526385671,78.22120415706908,78.54994577675019,80.74157564523485,79.52622054807568,78.33078013249897,77.25489807128906,76.96599291322457,77.61353107305845,77.38440358177039,77.06561382733537,78.04188350985187,78.8687276738611,80.69175632626629,82.75388422483039,82.98301406928702,84.19836454309146,82.60445404052734,81.8274226593904,82.56460944060272,82.09640524411114,81.897155677055,80.56225607276413,81.13008767628995,80.49253074991243,81.90712643850085,81.5285679711457,81.39905883585698,81.59830352912937,81.60825863448386,82.12628691226232,81.95692038910657,81.83739320139044,80.06416698874244,80.93084526453542,83.22209856664789,83.33168635241552,82.09640502929688,81.16993665316213,81.31936387139645,79.92470128094146,79.21739078768275,78.02196083111009,77.81275885879097,78.33077074567764,76.92615189916222,76.75678813142791,77.2648539464539,77.733058325578,77.63344500342406,76.49778126545591,77.35451533196054,78.37062619967134,79.87487571302,79.92469941210615,80.24347610378233,79.15762081775956,79.77526484432391,79.94462313832214,78.7790732903443,79.12773619626525,79.69556289081608,78.57983110704964,78.36067206636709,79.25723976378407,80.94081530221064,81.19982408379629,81.19982323951102,79.8250682407899,79.01815307036837,80.5024822988813,81.05038781727418,80.89099579013346,79.76530620320403,80.14385418174662,81.03046762154541,81.25958546248616,81.80750673136792,82.99296769737246,84.4374483818017,87.11721258632521,87.50573602021028,86.49957706854421,85.40376216886943,85.2443676450553,86.16086952689525,86.01144285407356,86.06124570733532,84.9056669650161,85.12483030012163,85.32407162983954,86.4398007551898,88.08352622308367,89.30885286402582,89.0797164085083,89.42838807208739,92.18784376242431,94.99712277340237,96.7703360608157,95.55498983696295,94.44920529717065,95.51512686600047,93.47294298530711,92.95492226074073,94.37947282889641,91.45066714044141,93.59248298027435,92.44685650244219,92.97483911990346,94.81779840416553,94.06068539408714,93.25377019546717,93.27369969917407,92.54647921648093,90.8429822464181,92.99476549758893,92.85530481724247,93.03461715183364,93.68213373710307,93.80168607579876,90.11575224974098,85.28422126349378,71.72601094826064,82.68415069580078,82.94316270641963,86.85821446703676,89.44831476307849,88.55173753576148,86.17083821267337,87.29652603616803,87.39616000752002,86.37007212572713,88.4919673633903,89.82686366068178,89.28891118666851,90.78321741859921,91.25141255034674,91.44070921467238,92.27749640132795,92.54648763140372,92.69591029839003,94.16031449856263,91.5702036763161,92.44686559478137,91.88898742364496,91.70967961941412,87.84444983947323,85.39379766518064,87.67509221733131,88.02375669288023,88.0337254133145,92.30739858858921,91.98860506600877,91.0223063640642,90.1257215696683,91.88899061096348,92.31734526811124,93.19400260501286,93.25377229375364,94.53887707006507,94.98715461258338,96.55117883768008,96.19254658477784,96.1028841294038,97.17879030319685,99.7788583087713,101.16356872458721,102.01032576125651,102.52833901685422,103.12606308380522,101.26318822916899,100.79497070955472,102.01032852790536,102.09002850046123,107.53920755043113,105.50696985608151,105.45715511677619,104.83951386668954,106.70239791897707,107.58901957615682,103.4348896099653,100.08766690294418,103.74370417467193,104.98894581340123,105.54681872044462,106.21428022386435,105.67633004714055,103.99275476294154,104.7000475017353,104.46096253977285,103.35518193551975,104.10234659429662,105.38742568101269,102.95670887905293,103.71382496238121,104.26172521262333,103.55441988810303,103.15595033926226,104.01267830609187,101.52219195973515,101.07390662080613,103.88316859550525,103.79351680097531,105.72613442863101,103.57434780176077,103.20575394329752,104.4111492391021,103.46477551536313,104.10233585014247,104.13221966445623,105.84567090551153,105.65640110783127,104.22188531139857,99.37040713738732,101.28310175156889,100.51604054920027,96.92974271977569,96.66076381474265,95.02701105028963,97.17877809124951,94.8476846475532,92.09818863751003,93.18403830370787,93.56260189935546,89.02991430631135,92.26754851978798,95.12662506420051,96.56114123232166,95.29598192250397,93.87141974594427,104.41115386971099,108.42581853383048,111.58375740450818,112.76923574186263,109.3323623723334,108.8342627248933,102.7873529216988,97.08912811015807,96.45156606186825,99.85854397217528,98.50372533132634,100.70531368669127,99.85855343628079,100.01794518932104,102.63792014816379,101.67161523956707,104.9391386316283,104.71997517018549,102.34902926784316,105.20810712883508,106.75222067023547,106.34376368699273,107.19053872540074,108.35608338974244,108.12695875681952,107.51928283191958,104.32150847783711,104.0027171034041,105.08857362342516,105.36750865994506,107.50931695140558,108.35608395113891,108.42581763165373,109.68101867102715,110.30862918103364,109.85037658874597,110.60748293154711,110.746961007406,111.57378652867502,111.25501502223304,112.52018049614699,113.2075572460235,113.92481676622228,113.33705596084383,112.91865316179654,111.18527875520662,111.47417914722327,111.99219836086777,112.63971944933671,109.48178187308777,108.3560846873933,108.57524890249809,106.11464789185999,109.84041817240735,108.78445785099673,108.78444277567988,108.74461480690218,111.13546716520128,111.88260374250184,108.59516997616468,108.654943434224,107.73845103717086,105.90544776662402,115.78770742392119,115.39918420220705,116.12640053602325,116.57469557997456,116.12640519385427,116.80381255378332,116.66435310840997,118.44753711490307,118.54715105112163,118.96555235230794,118.44754266412635,119.22457000895602,116.90343770585557,116.75400404339231,116.28579621008836,115.43903245274636,116.50495539347008,115.49880190213031,115.67812396299918,116.93332197657182,117.47126098853197,118.55712543536532,117.6705105233656,117.37164181301858,117.77011978055639,117.41150095900558,117.90959530086312,117.22222054995444,116.82373534466257,117.2620693946047,115.81758546412229,112.87880873879114,113.14778399485459,113.63592034855041,112.51022509651997,112.13166380218253,112.32094757993013,113.53629684276311,113.17766294916188,113.10794154039846,110.5776037656861,107.81813890485256,110.12931353308743,112.60983762857022,113.2374363583228,113.37690383811199,112.54011146548837,112.54010360161986,114.92101591746133,115.40914386212981,117.05286066041026,117.12260101868563,116.23598386873836,116.25590730780294,116.13637280851901,116.4451901885068,118.20845506137327,120.10121421353139,119.79240082957409,118.85597189389985,117.33180452674422,120.29049248238417,121.04760567916571,123.15953319892846,123.23923279919345,122.39247303394447,121.60547451284658,121.84455687741136,122.04380598493324,124.14577752262458,124.07604318467075,124.05611687459975,124.06607501479986,124.27527479716593,123.70744435476362,123.22926147576368,122.31277744525006,122.38250088999311,123.16949976423575,122.81087232369967,122.64152318688842,123.77717480220288,122.62159367810295,122.63155393667832,123.43847443017486,123.87679547092924,124.67375304031287,124.62394528686096,125.12204211520329,125.52051074426306,125.98873902728671,129.45547995320484,129.31602052224667,126.6163330078125,125.27147227806874,126.17801153234112,126.40712685469309,127.18417485698926,127.71214253912188,127.77191561708312,127.54278763250025,127.90143656108405,129.06696602261408,126.81557612149889,126.31748483531004,126.945079527826,127.91137689643705,127.06461596078564,126.96499638647612,127.31367353776223,127.06462265659778,127.34356851640861,127.59261468359263,127.8416534308967,128.70834904936834,127.74203649664939,127.97116302782163,126.26765977723147,127.0945177414396,126.83550057614153,127.52286775625082,128.11063500955078,129.0071823120117,129.20643704193182,131.64710715439784,131.7168496006204,130.44171047105473,128.77808749513687,129.43556467117858,130.38196460800907,128.160430648641,125.79946066234618,119.04525292714436,118.79621247475191,120.88820672773099,121.0774972594908,120.05141256518478,114.83135397309303,117.7003932012244,113.11790561500575,115.38922367855311,113.7753860387405,115.5685411324171,116.39536881813501,117.35172402722047,120.43992847711532,119.48358079630374,119.61308761775628,119.36403870911283,119.94182913969179,117.50114768285684,113.56618996980524,113.8650410823282,114.63211903626996,115.88731240555178,116.12640620320269,117.19233286637323,118.497345818573,117.20229988738708,117.16245040533093,118.39773053909303,119.17475780611176,118.81612603947278,118.0590218366243,118.34792055939782,118.02914666711567,116.48504199306623,115.85743571465578,116.4152954652766,116.20609794930417,115.61834447117953,114.33324937798628,115.07044484908056,116.8436682923039,117.86974438850771,119.57323375036937,122.57178296449466,123.80706721712706,123.58790222229304,124.32509439012158,126.88531349337477,126.91519490973643,126.35731271584034,126.96500305738923,126.29755160401652,126.46691555889146,127.89146265953018,129.27617580292358,130.93982210765677,130.58118182332015,129.1068291404235,129.02710757337246,130.18270783821177,129.90377398042378,130.26240334983154,129.80416746717648,131.15899486673126,131.93603378472133,132.8027037517889,133.17128284737836,133.19119707240995,132.04558134309343,132.15518982506512,132.5138167669052,132.6632199573236,132.39426420567227,132.9521389035107,133.81880009976217,133.64946326803755,134.50618986777192,134.237228615826,135.78131595336396,135.79127847499464,135.56217693518514,135.99050828990883,136.46872417410168,136.5284742872105,136.8771284861318,137.69401780689967,138.14228732864186,137.99289713933422,137.96300875619866,139.1982703191504,139.16837943651495,138.72007883344085,137.87332814096428,137.07638975046626,138.5607106169186,139.22814406083228,138.24193650466003,139.47719479924643,140.89177351512419,141.31020598209972,141.35005040713435,140.28412041300686,140.73241755870612,140.75231423417597,140.3737921038734,139.70633954544675,140.0948524034541,138.28176614138712,138.90937674852842,138.7997888644169,139.21819280994023,140.07492504855716,140.73241259755912,142.1470156993037,141.7286168447893,143.79073800637934,145.2351925680859,145.53407610606968,145.58387830846686,148.50273558915825,150.84378612859632,151.0828601738074,150.76407963385336,148.1540559267801,149.2199894329998,149.1701993617148,149.6384022856182,148.29354275600647,148.8414324237247,149.06060139731034,149.20006933083738,148.4628912250651,143.87042601401095,143.96007663440727,147.39694118662004,147.12797800961354,146.68965912833542,147.8551943399406,149.37936837027226,150.5747896316839,151.06293570840865,150.51504936820734,149.72803888264042,150.7242445881354,152.826215612939,151.89975431122656,151.76027719048594,152.5173878039668,146.05210361586666,144.00989719539865,148.33335761602441,148.4828074410536,145.81300957365858,148.03452686223554,151.1326796754991,151.63078268468442,151.30203653660288,152.32811280064215,152.06909986216596,152.6170083989304,149.81769387490255,149.28971786339466,148.35329753863851,149.48895933449998,147.2375506217038,147.56631691713258,147.43679055657154,148.62227070790075,150.93344547634896,152.3281183441058,155.60559617703808,157.817161288503,158.7236878932713,158.20566464198055,158.8133527887267,162.54907088236075,162.19044417844464,163.12687046147747,163.68473010796896,163.2364522065182,163.47553378736973,166.86259775777094,168.40669156166823,167.9086085689382,168.40670781635416,166.27485705069,167.6097380428166,168.0480945202871,169.0143826536835,169.97072033506709,168.91473425348076,166.2150903099024,166.21508400242533,168.6457689925592,169.3630507427243,168.59598592664938,166.21507206579705,165.57750353511446,165.18899240588598,166.51391585576735,167.55993941583543,165.77675909065553,165.54762142628482,165.6970511763775,164.3720956205324,166.99211268205326,169.41283189968945,170.65809735550127,168.90479716179274,168.9247202610422,169.62205825598105,170.15003063449794,171.5447037182126,171.09643188635096,171.40522618915745,169.85119200359514,169.6120934602376,168.69557335818348,169.71169584335448,170.05042418734197,169.36304214067223,168.57605275057549,160.94520109710817,162.16056254232635,164.93992958735612,166.5238883100651,168.16761382383964,168.10784241606586,168.55613002589942,167.6495730970208,167.95841059056033,169.10402670620385,171.34546959918478,170.1500551240248,170.7477445734034,171.63435127216707,172.5409038188011,173.39762454645796,173.69649401510748,175.0812046615978,171.9730883048789,173.96548891745417,170.59832746677293,170.8473635735053,168.24732130733,169.74159020675802,173.23822916034135,176.93412205228222,178.2590533567782,179.8828617708076,176.66513132840512,176.03753912155983,177.631452479928,178.27900249492404,178.42843965241207,176.41610940302652,177.2828017365226,176.62529919610256,176.5057367913121,175.72872246854965,177.82075238686753,178.21920685773173,177.42228097495564,178.30886478926266,179.7533605266391,179.60392724007247,181.29746039993304,181.39706878138924,173.3378572698156,174.5332915046184,171.6841633849308,170.14006939027533,168.3668467710499,171.24585646164468,175.13100239596164,178.05982727517747,178.1195961220426,175.92795993762974,176.57548316573912,177.00384628052132,177.68127268872894,179.06597672870208,177.54180467900662,176.68509175804283,176.3762627243596,175.55937056140456,174.00529789765872,175.58925130047055,177.00384301280394,175.78851318359375,176.87436112932585,180.63996832861935,183.3994347924908,184.2262699397938,185.6209307640644,186.38801617397814,184.92360163317613,186.6669504093632,176.72491909319987,177.36247693857092,175.13102563500837,176.40614831881294,179.48437982375307,179.72347962873022,184.8438980540381,185.81021852787728,185.88991489136106,186.0990992709259,184.92360359285698,181.14802220108993,184.51515938321674,187.1750153809443,189.25704678151223,179.92271576592663,177.06364229611373,179.26521848330205,170.82743745283184,166.54380876120825,171.18607661369526,172.4413065521623,172.55086773805843,176.16705467938476,175.6291100147,174.44364088135035,175.7287228628652,176.7348943154028,178.8268994085123,182.52277309612094,180.76947021484375,177.46211077804614,173.74631592569682,172.3317150536607,175.22065389508182,178.42840718575698,177.39237330145056,180.75950558566558,182.51281387967848,183.51897686864245,180.42080735984996,181.1579831322104,181.49669620126647,182.71205104151656,169.412849102765,161.33371307268345,162.67858547980882,163.0969664539839,158.41487537309263,148.4529302811041,150.17633975514968,150.22615259442617,153.55343705815832,153.52354768781052,150.23609607606926,149.9372511510472,156.05389169578038,156.21327608767294,155.4462027743921,156.4125150395967,162.62877836664907,162.47935524035324,163.1467902240527,162.76823612380008,165.02958962528677,165.13919276947885,164.57133854049894,165.17901939121973,164.46176213437764,157.58802923824078,155.59563999990553,170.1500389880145,171.94318993977927,171.0565692592889,169.58220349204308,173.5370996221139,171.46500923055072,172.4014184574008,176.49581159274146,176.43601084656387,178.09966496849148,181.80550632319026,183.47912265811766,185.49143572779144,182.50284304841668,181.9648997672186,181.52658172182495,181.91509178906995,182.43310818787464,182.7319683398999,181.48671183203604,184.32588881052212,183.7480959030199,183.01092916481662,184.54503686476966,186.7665615455554,191.3390935757941,190.74136968581627,191.88700570857324,188.3903525849329,186.059259688406,185.7205637430365,188.0815328704249,190.83103162052208,191.17971335846048,192.17588272531142,193.89931889908374,193.3912576030574,193.05254738519258,198.0534447964954,199.32857727384192,198.5515445007611,192.37513777859334,195.48325831289918,195.05491598230026,192.52456194537598,193.22190523590623,191.4885234770275,191.7873896765334,193.29164571285796,196.9476644778699,201.35085148590707,201.49031402448296,200.98226951102637,202.4167670540833,205.66438247124836,206.05287572727877,204.06049156669684,207.64681147867688,206.96941065484717,207.7065753576592,208.00545050949816,211.7909886170898,213.45462835400483,173.08882081137529,172.34166487008653,165.9261816074724,169.35307969273407,170.24964971021916,169.62205932194416,175.47966783154152,177.7012028693888,183.02088079838498,183.06073189362934,181.7856006674132,178.73723581695816,178.2192199173304,177.94027682728586,174.1148926217643,173.34781008836845,171.38529875391632,170.25962114350304,170.73778916577115,171.47498438780474,172.17230919665025,172.2619545580539,175.12104014574118,175.1609075119379,174.08500364597455,175.0313846000129,174.31411812548868,168.1576622371132,166.03576941564086,159.39114304882492,159.55052564496728,161.54291941720058,163.09697950874337,161.18427853776936,160.2478743474129,159.72982494050913,159.1620178994109,158.26542109156824,158.87310526907766,163.8441247221749,162.19044380951874,160.2678027334809,160.53673910191827,163.58513359583876,166.57370762707185,161.94138865612467,160.64633610254734,158.06620173694844,158.9229162583424,156.75120694261904,155.60560315120114,153.80247899225583,156.82096411238044,150.73419890265035,148.59239114159894,150.724250926479,151.9694810895839,154.42012325971854,157.34891685638075,152.69670112241172,152.9656783527318,153.8722199048073,150.27596788854552,145.04594007359003,146.4405991351769,143.25280046740616,138.50093287013837,139.20825211197754,148.3931395071405,148.7816851765433,148.39315267803252,146.87894040885038,147.43678033653597,149.25982624378844,146.18159200250602,143.52177358109904,139.9553886662058,141.0810649941013,141.0113505609142,140.29410008325914,137.24574157953137,130.71070542948874,126.36729529709352,133.61959954545432,130.76050129840021,132.2747163475484,133.20118278152552,131.3482592356151,135.14377054254132,136.8372882657728,140.22436974795778,136.63804673962434,133.16132194220592,136.1399465881629,138.4809919899514,140.5630555075742,141.9676712530288,142.64510936412677,141.96770543183118,137.89325594419205,139.29788484188126,131.99576655656992,129.50530866335518,122.95034123184504,122.55184740456235,125.41094104398694,129.17656721484184,131.69692065273446,129.45549468692522,128.07076562213234,130.62102700930907,133.24101954706782,135.392817534611,139.00899758602645,140.7324246463805,140.30404586310596,142.02747720666335,140.73241410692157,145.43445128522077,146.44060774123474,145.94250348467315,147.9847044965942,145.81299248106842,142.51559822328255,141.97765336056074,145.98234558399847,145.65362892739049,142.8841787908209,145.14554054027434,164.3721080251581,165.02959397028386,162.99736111987508,168.04808021610043,168.62585845435612,164.62115196608914,163.58511514627205,164.45179851504895,163.87401836953396,163.10694571874262,161.63256786391932,160.24787888514737,159.71987622513294,160.6363936392175,158.98268473051917,159.69995176889597,162.28010475217172,163.17670129971535,159.7995688856129,160.24786589252997,161.0747091545771,163.20657089843985,165.9162084609084,170.61825926577092,166.97218430912017,165.33842888247273,170.9270660977535,170.56842919598384,171.46500761951265,167.52008477970372,161.89157697764966,158.67388565305384,160.20802372374513,160.62642570727385,163.12686284610774,163.46556622127903,161.38354269474317,165.71696007623882,164.16290801369584,162.70847532951134,164.18282862016494,166.64341950964734,168.9047953642553,172.2918417680994,174.86203313450784,174.4336795234491,173.56697956963745,174.8819620527932,175.8681827708814,176.3264493851484,177.27283929388577,176.19693458950303,177.62150801215398,177.68127049980401,176.6651371943535,177.5716791782456,180.7894071437682,180.95873926667025,191.38890539243684,188.3704457031902,189.92449917630776,191.54831405104736,192.27552778301452,189.02792820863735,192.97285357147982,189.8248971030059,187.13515977417129,187.83248744062035,185.55119398911629,183.88756119195907,180.15181846765776,177.42227004122066,179.3349562324274,184.34582233688593,183.57872596050387,180.67981985510662,183.1902303064317,182.91129240378712,178.98628640935922,180.14186644291027,180.75951010836005,180.65990425117795,180.20164042930196,176.48584457192413,160.39729427227667,160.22794960800613,164.0035223495046,166.5936177322988,168.19750567038193,173.13863184746648,176.11722883301087,172.22211744819091,173.94554522135059,179.31502822829668,183.70825480327963,186.56733354705315,183.84771296020523,186.92596951459683,188.03172377616153,190.8410166723423,187.4141092183844,186.59720289462132,187.5535697327536,189.21721082321642,191.1996284123182,191.9766708501961,193.4211448431209,193.43110864908326,192.9031326178994,194.14838173365925,198.91017357333757,199.44814104103793,198.40211529421904,201.0520053558299,202.32711106935295,200.82286641961005,198.6212942630743,197.3162890619334,198.0534419022672,200.19525382135657,196.4695046455948,197.5055239855037,195.50318711988618,194.55680253838165,192.76365421216238,191.9467705553035,190.15363113180237,187.35432313922723,178.65753244986698,182.39325166997094,180.5303819317169,183.34962116921625,186.40792934841747,183.75807098283352,184.66459827809916,178.62765134511582,179.34491632263314,181.66604892132634,184.1465788768934,181.69594010077049,182.44308852566004,179.2253904258845,175.98772949026963,177.56173257157698,180.32118720365543,178.23913978169423,182.7718310101395,182.76187357944144,181.41698959441078,183.19022400209693,187.2248258018353,185.6408737738392,185.1427873050914,183.84771745514752,185.37188777036923,186.51751487405537,185.8301407576053,185.0630832482541,184.8339454507799,185.30214249549613,187.43401012144056,187.4041349667928,184.50521114644593,179.70353637391256,177.19312299131371,176.99388911712663,174.99154849927592,176.17702859600013,174.21452224003576,172.43131386868856,172.9692688901017,177.42227262398396,177.4122853783382,177.04369326098788,177.26286831682427,178.48818171805092,181.4468728604175,181.8752451762742,182.96109510275875,186.18874971782955,188.05166637424506,183.22011296535337,186.0393472083033,180.80931835538468,181.30740341878857,182.1043675219941,184.3856701590495,184.3757072788544,187.7527997832744,185.27227948480973,187.53364431725734,189.1873205088128,193.07246321797763,192.86327458314062,190.62183956297093,188.74899170716057,188.97812348851255,187.8225379088942,189.01796900495523,192.00656468527083,190.72145027285737,192.64411851788313,192.3153514924594,196.1108779286555,194.68630571704156,196.1108680208419,196.86796985968755,198.49178569385563,197.2863607597626,198.66112410685042,200.4443090516215,197.29634842639342,194.3376422913578,197.29635005729386,197.45573120870057,199.29867405826133,199.44813243244394,199.38834474516048,199.51786476234122,193.36138726011856,192.4349125176734,194.06865866926643,195.38366111053264,199.32856807039568,201.73935466419368,202.65586471089048,204.8973036872281,204.21989327476592,204.5286941695562,205.80384187158646,203.12407214061702,202.82523330057157,205.48505208884757,206.1624596803162,205.734119913227,210.94420929091677,211.80094756115608,215.45696671091858,216.59264536382022,218.3758293241344,217.79802302710817,219.3022748469645,219.55133297790888,219.6907886004074,218.28614193601243,220.43794216509443,218.43559568461785,215.28760363881057,211.69134612107044,212.7074572616316,217.61871455167474,203.9708567541024,200.29489107678893,201.7294229414348,204.4191385771676,207.91578891385907,208.54337436177352,209.1311269915593,209.85836081098134,205.72414530643192,206.61074767393708,208.38398111516298,211.84076799088248,212.58794090571752,215.28761536378062,212.13962575841964,208.03530398558152,197.41589261066665,195.20433806857676,194.74608546917142,188.77887493631115,181.1281127441163,188.13134614823423,183.26991024120184,185.68071323213715,183.19021945243765,175.58924224726343,164.56138428245674,168.85499817603568,167.0219943894663,153.75267672252585,157.00029265303942,142.55544637020287,139.46725768349276,136.57829226168954,144.24899840939713,147.43678975369176,141.70867838183074,151.98941615901373,152.4775478588327,156.42247264891014,154.16111382741812,157.45850710552423,163.57515581637918,157.43859932383515,155.3266619308157,150.25601924234454,157.90680978118223,165.37825454317846,167.1016701984535,170.91711117752652,168.80518668992755,175.94788447362004,172.16235317326647,171.85351167991757,175.9877234782902,176.09731459936495,167.69939428361732,177.462104473697,182.45303038815806,180.14186685794718,186.69682990061492,181.86528454840263,189.276961751114,200.80294937355035,198.29252701067034,198.0036322273125,205.71417474912568,205.87358692008493,208.24451667385904,210.04763923989694,209.56945473998766,209.20085054129117,201.34090674572232,199.92628913813252,203.34324443288583,210.13730045625334,212.020081397319,222.340680808268,230.32018104920962,227.8695488998865,230.78839382725033,220.2885371357318,223.14759991491462,222.03187771673814,222.64948128934694,225.6978640099439,227.66036228401228,223.75526393694804,224.4526012791481,226.5446177115813,229.5331878314829,234.38466818489687,222.69930209651054,223.64566859803585,223.9445393304671,232.11334052683972,230.84817025088478,231.26658894237266,234.65365615563388,236.00846999444954,238.94724345564495,231.79455847270322,231.854327590435,214.58031595727013,206.32185794996917,217.63862295238926,226.69405185602776,231.7248230992567,231.38611803540718,237.9112053418843,235.6896706269855,238.32958701572807,238.40928673932723,237.51270520895093,231.14703817399788,237.1441214589662,235.43066712453663,236.95484860582587,234.74330173043552,239.16640442838812,237.21385850831268,230.86808755881293,226.03656259771827,229.95159722621827,228.955418710896,229.43359628166928,228.1285800567822,248.05245445627082,249.37738817454434,246.48842677738412,246.82712828739903,247.7237145515596,262.4274828534251,258.70177437901185,254.15913984645698,257.1277759049479,258.582236365527,257.69562426007235,258.41288641606246,258.2734089649064,260.3554572201455,260.46504040012024,265.40617584247394,267.7472440996097,269.23156080644554,282.9192995788632,290.90877170260984,289.87268650554745,290.4405136774634,291.59614289812305,291.93482549599383,282.55065871320727,270.1082218574818,268.39477435848016,270.31739900926857,266.0138603054635,261.64056507896566,264.6889376677602,268.27514861346,260.793784252203,249.2379254895453,249.09845720631427,243.200997055101,247.27542898205854,247.20568804233176,244.6853196918583,245.67154705350123,253.85030800059693,255.92238654019008,259.1102127713411,263.7923034028258,258.1936881012683,259.8473844725837,257.2573050715704,253.85032618683746,258.16381389516357,261.17237241589874,266.8506349889479,272.3496676168902,270.46682445645547,262.66663581005366,264.2904527513762,258.89106852560565,261.87965590810944,275.31830688957376,273.9933794254177,275.76659614188816,273.21632036220495,275.2585258857592,266.24295430805495,272.7381621044478,258.1139845956152,256.36069590919567,259.88721232280534,277.55973309322957,287.8504186094097,286.96380991759634,277.47009049650956,262.9953670813419,271.4431086640138,273.3856827012686,272.0607326201015,273.5849282524835,272.25003743308173,270.80551792278453,268.1656071931439,268.38480109723474,263.5233855280598,266.85060240821406,271.61244527778683,273.77419561839963,269.9787044064691,277.8984207699877,279.76129840164066,280.0004047827854,278.2371484609452,277.1413646136175,280.4785671804424,270.7158626337903,270.82543660979496,269.22160303250246,270.5266097193985,266.45219461766004,271.4730233444152,272.5688014814225,270.10821224590984,266.7709797643087,263.6229479921198,265.2169013544132,265.18703093665096,264.6490497039362,275.2286482956531,270.67602391837346,268.7832560075039,264.1908070496383,267.18936624946605,259.0205535581768,263.7724238061313,262.17850959296476,254.9261997377507,249.34750394470896,248.25168635654322,243.67915153381512,246.21945866002952,251.75829922587002,262.5969180638694,266.4720724210523,270.9649273537113,270.4767923024989,276.75282904744097,267.09967906903967,263.69273091979187,253.88015615665603,253.93998187552896,262.26816039909636,262.83601022155915,262.99537627010574,264.65899717545494,263.991577615084,264.7387198507974,266.70121722712844,267.4682898424238,267.3188580833926,269.0223330847135,268.55412409603036,265.0176386205776,259.1600286620997,256.5500224414258,253.98979663058017,257.40674405645774,253.07325909391528,255.4940003444315,256.9185825931977,257.6657301026709,254.12923144329824,252.535346446273,254.637287148666,254.0794348186366,258.82133271599554,261.869663481459,266.8008618486904,263.01532428437264,267.4782306827911,273.7542614094919,274.3619503485229,277.22102039882617,280.129914907423,285.6588037346761,288.70713053371463,280.09009402190867,276.6930373739072,276.7129414064562,283.6165819710307,285.6090118791391,287.51169457301387,295.4713096762357,299.53580404730803,304.0884380971285,304.33744630377043,308.8700974587775,309.1490661500486,306.75818350032216,308.142940227036,300.8009486849842,302.9427755796847,303.4508292076958,299.41627447977646,296.07898993423856,296.2583238710927,294.9134476280742,296.0192045691325,300.41246176657864,299.96413437434074,304.20793837426686,320.38614158735766,323.265176999238,320.6152732185873,311.92844855514466,313.2932156121139,312.07787150625006,317.5370223391015,303.66998762176513,298.549558066986,297.05528752410436,301.61784331970176,307.9037911493626,310.3943119421477,308.63103343962666,302.4148083248303,311.96828007014636,314.60819624336193,316.81979286949394,323.56399056057757,324.580091748243,325.5165685159116,327.08056277642936,325.39701813801105,325.87518702657593,322.24906050132677,323.9425259572817,327.6782812375823,330.97566419804934,328.744237468064,327.29976028399045,327.6782395100224,328.5549580414707,333.7550500625359,327.4690941845248,328.893648071066,327.74802548975913,326.40315515095335,331.3343139754061,336.9130558157073,340.48938967018853,338.3873820252447,340.46940738260423,347.72174468018284,345.8489175865818,345.1814523504192,351.2781180337599,347.85122386967987,348.6681243543672,341.2564181106248,343.956090937089,348.30947668884403,347.4726638459515,345.4105294202824,338.9253147122856,338.8456478176741,333.26695298880065,333.22710603308553,339.95141541427193,343.89632213272137,355.830754362479,366.81877767139264,363.1627351781666,365.5336856527333,355.38244694504294,351.59692306533964,349.40526995023885,346.37687435499447,350.17239317146203,355.54186677431755,360.02472256840434,359.3772044670222,357.67372471558014,356.4483369193598,355.75103200835963,360.1044305567748,356.02001096341763,353.71879516151245,353.7985354637098,349.66426873825037,351.9655346855885,357.73348860413626,360.46306242696073,364.0095165237091,362.7443595428398,362.6945233848294,369.11002803020807,377.3585303962301,377.36846963285683,372.63653959806607,371.690179018647,371.7300109024901,373.3637591135499,375.1370029917539,376.8206059901509,372.9254559979386,373.6825277956007,366.27091454374397,368.30306215019516,360.2139983524716,348.46886301661107,353.83839558111276,339.3935615797648,341.6947357352857,341.06712460972705,345.7592017766133,337.630301456667,337.59045481813325,336.8632087255414,337.3513464726145,321.472020583479,324.9187913883114,324.5601991720853,327.7281166234768,327.45910926927,324.0720660135255,316.16223379253194,321.4321420291282,325.855234285877,321.2827320587294,326.2537415521302,335.99651861484824,338.15828980964585,336.51451907307506,319.8880139365098,318.5033421113949,308.42185535605614,310.8724655770626,306.9375169973592,318.38379042588576,324.75943875699,322.56780076018566,321.97012087243587,331.38412558808767,338.3475583933315,337.0524876179697,333.197211451481,324.27131959512985,325.7556540486866,328.5250362207701,341.8940324678173,339.57283373331626,338.8057722432907,334.02403925715646,338.6065475278641,339.21424399241516,332.2309143654588,331.5435401070046,330.6369668657749,334.03403214466226,322.19920157355926,309.1092423974099,306.0310292427147,298.3602981859028,305.1742474513886,319.7784940552124,321.84060547725744,326.75179906772513,325.1280053147115,328.33578495420534,326.4031493353329,322.7471493977321,332.46995998814873,329.49136579484167,321.30264621492387,322.5180072652288,327.0108666771712,327.1104103958189,336.72374749890776,343.886358360649,340.33993842600256,341.9139145027434,334.9903557645264,335.9068402714956,330.60711885787356,322.6076401401483,321.49195849291624,327.628474939226,314.2296496150884,324.04218963157086,328.7741320164353,324.5203790165713,319.98764078903343,316.43126197270504,318.1148199979957,314.77759767465767,301.8868167435038,287.9102024910978,296.44758500124937,289.7432353378043,293.14024000648965,291.9148974465842,298.18097688359325,310.93224818637844,315.66416597695036,234.85286378905596,229.2343405889659,223.15753869722167,215.32745433196004,221.36440350904414,225.8373057650335,217.93749275824806,213.96268029221702,214.24162819250844,211.55187178703358,206.37167611380676,204.39920660069666,199.29870241625707,197.29635244112293,189.4961451540631,202.4068078830166,206.04292971479327,201.4504810186902,201.25123286843714,200.65351192686592,198.03353454976804,186.5673276453143,185.40177095157821,193.18205579556056,190.3429029338467,185.95963183484503,185.11288462494136,185.20254904273375,193.77976951529075,200.3447019442449,205.21609620712425,206.8398992395618,209.3801514147849,211.35264906362102,213.9726421420286,218.05703306201306,218.70455975774112,224.43268888104973,225.84727946295587,221.41421417785642,221.8525268106878,225.00052754218274,230.1408767596193,220.56744916906987,217.72828417660799,219.19269712846682,214.40100471790967,212.3189679071651,210.52581424297642,209.20084975297576,207.50735447219566,208.2046727382572,198.1630262286513,184.87380938956414,182.57257828320894,180.96872309397756,178.81691927784226,168.35690068390252,192.16593435562115,199.13928461246624,200.2251560712218,207.29813528762455,206.17243228319626,205.3754837967292,200.25504790927812,194.83574092889882,193.45103284392934,187.5535768346867,184.07684401582995,190.55210155606053,195.18440236798,197.6051546117027,190.9007892718516,188.87851652122163,187.1550757237641,190.51225980812276,175.43982486596843,178.63763028863556,181.56643306292108,189.07773229341558,191.27931988422392,184.29600190443665,187.01559120065954,189.0578214527857,187.683073466193,190.76131372492205,193.67018355429425,182.98101512213117,174.3539911498273,163.40579771292857,160.74595731399802,163.35597614010638,159.00262797770844,159.29151394162864,155.3764852423262,154.84848407447623,153.6630285067821,160.68619667001295,167.37065275509303,159.99881676221375,159.7099272254014,157.88689136774562,154.41016288945764,156.42248065447876,164.8303660855058,167.14153745897693,167.51011415410747,161.29386765628104,161.48315103934237,159.00260411910887,156.6814885089991,159.21182303576498,165.00966696241287,168.86493964280038,176.02759664202824,178.18932164395167,167.76912657747135,164.1828289555579,157.3489420180495,161.40344860161898,154.26074095921115,154.57951516572538,154.6392694605158,157.40870170759086,160.95517100877802,166.16525594223958,165.169062861884,166.4940048529385,165.96602362595013,173.28805262354928,175.69882696885662,178.2291798417913,177.52186389535265,176.36628752684328,173.5072111173905,171.20601326620152,166.41430585132832,161.6425478392144,160.08847427743004,159.16202331389442,163.39584493701327,161.05478565733011,158.40490574501533,155.31670740416976,161.52299523754945,159.73981382102437,158.61411024634438,157.0899501389521,156.213254494061,157.13973061632686,162.3996396311193,166.64341717159513,152.0890459868503,148.48279629005188,148.13413973171444,143.74091760903818,144.54785468077893,144.66737322615916,141.4596241175627,140.33392814881194,138.36146660584296,135.67175122009553,133.60961652931834,133.7590563288539,134.68549758705316,134.98435805344266,135.58210678653603,138.8097447362637,134.26711167230536,136.08018492860447,131.9360029507657,131.36816168707392,126.50674527458663,125.76957298727596,122.0637103777064,126.03853386812791,129.6846105776332,130.8999656426933,131.71685609126007,130.81031594328078,124.96267194217644,124.09596044918533,130.0930594980929,128.04088923801982,96.0132376952662,97.13893091646862,92.24762204974378,93.19400027320656,90.13568821629336,88.07356561762981,87.75478135105361,92.74570939876497,94.42929035341074,100.35664451281474,104.21191539778069,108.39593398360917,110.37836332016249,113.97463026399507,112.23128742330273,109.38217150512142,110.19904529174092,108.77448416108386,107.90779282931155,110.30863307319942,110.59752294475717,107.96756374649036,108.12696741359242,108.96377025210452,117.94944389774739,117.16243670667437,120.8882117197283,113.30717116992776,112.45043739080198,114.15393146089322,113.43668006705332,112.70945803617623,118.18852360674194,118.9356713917472,113.57615191199865,118.36783797990775,113.89492659478005,112.03205341049832,115.1800154658026,113.94473768043652,115.10031869015478,115.60839066796633,115.07044880070029,115.32944880936836,117.2919526922383,121.81467439246649,125.37109482156202,124.06607872176893,125.56036502931565,128.788030783203,126.66613717539411,129.84400843622686,131.25859801655636,134.32688427056985,133.7391027209816,132.29464517727436,131.63716185554998,134.09774952216625,138.13233515635227,140.82206600676847,139.7760586144712,142.7547077763674,146.82911474726586,146.3907842038148,146.95862759939413,146.50037107538898,179.4744152471485,182.19401251978158,184.81403606363529,183.6982817373326,182.22392556527004,176.59541479370333,172.6903306934044,175.15094441717363,175.21072069342338,174.66278679161306,171.13627781252484,169.05421555418278,171.22593501590163,169.04424495609328,168.73546383991518,167.02200049790864,168.4166672438882,171.21595217339015,172.39148365214695,170.77763534356225,176.37625151797224,183.9373754842454,183.30974880755718,180.6499370391308,179.61388632926392,178.11959937711717,174.15475869785354,185.8500589687405,190.11377396039646,195.34380471057227,194.68630816673203,192.90313626456796,197.1967153956514,198.91017020747887,201.38074032383352,202.7754135020258,200.5937514372047,197.14690108744892,201.76923827397835,202.04820144388512,205.98315967928576,207.4077078651448,211.7311810625813,209.14109892202418,207.85601681283575,209.8583528695951,212.59789630279187,211.77104395945017,214.86921930621008,216.7221314699705,216.30374816463257,215.38723719113406,212.11971749791178,211.96032437780866,208.78246285912851,209.90816850004038,206.34179296196447,208.08513915105223,235.86900944275828,234.85287056595425,235.5601792410199,238.0805564488542,231.86429428856627,232.04361177967377,228.9753373844052,229.3937403464662,230.2006394933215,229.84201907894885,231.41599103398343,230.56923769853188,234.43446894540816,234.62376378352138,237.23379268758057,240.27217941403674,242.48372110390142,244.1872109549638,245.71138684353878,244.01788907585365,248.2218147103076,251.7483490530486,260.29572656424244,257.4665170321285,264.8782026437205,270.0882810600007,268.5342464412559,268.66373630716845,261.7998889930363,257.89485972579206,260.70417014153395,264.3203199264466,268.06601163266066,267.2989565650477,270.387148417711,279.0640101052185,275.1688921988661,277.3006901158383,276.7328829708373,277.88850435044475,276.5436244083705,279.58203221653474,282.97904587388535,279.6218793396,283.3376836896103,283.76601849474025,285.2702879477789,290.2014097513793,287.5615592936212,285.9576448614891,290.78920889393845,298.95801318593084,309.1092541875242,306.1903470732674,303.5504441060627,306.4493834502299,309.3383355843499,301.0699281996324,290.09187527390645,287.2029033404383,290.7493425442185,290.78920633378306,308.66095504691793,313.05414842336324,316.38143749126425,313.4625796548748,309.4678462370019,308.75062543158367,309.01959495182047,309.27858372836334,308.92991567292387,301.6975184591512,302.71362865112565,299.21699869525975,297.1150236553837,298.8882573930926,293.1601333064265,283.86567551194213,273.3358779438596,280.77745944255497,285.65881319199747,286.5752947961345,285.54921615280944,274.9795801073554,284.71240670383855,287.0833515073892,292.31336197451054,294.5349023808521,293.3494313730425,294.3854852195888,294.5349023624,291.10798009254466,295.6506169336483,300.13348696616976,299.08753389264524,300.1733509749385,303.8692386307433,297.6131446255385,296.6667570147591,298.6690949100231,298.29055569779877,292.1539841306461,297.13491839454963,292.5823691487981,294.8835406386882,285.6986811114859,295.57093200815865,298.2207944459011,300.4821828825046,298.49975900924693,297.3641299099343,298.3602495915086,299.76491061614274,310.63340773461323,316.94924590970936,321.72104709576627,321.4620453248651,311.18128352954676,314.3192765662314,316.09251327450494,314.35915595398905,310.5636954815721,305.30376688851294,306.0907501973686,309.44794951429645,297.70279053040963,278.33679189504056,291.8551287109929,297.91199184181556,295.73028326645755,300.7013533210004,307.1566689118785,309.8364382839208,313.25342810977384,313.9208486937052,313.6817929053457,317.58682911240277,318.2443210109881,324.4606073196323,332.06154147088597,328.7641124187407,325.13799657584025,328.09669549608043,332.9182661267183,334.6217551764068,337.29156073311754,335.4884356446668,332.92826375962915,332.13125778806415,329.521272755903,321.1731354280859,319.5393758700549,312.4664019930798,314.18983804828474,315.83353046093055,316.56078430288767,321.7708669615186,318.78223904717004,323.32490743364883,331.3742020851737,327.3894305287566,329.95957564292615,335.73750836651226,343.8066833042224,346.46651600938577,347.8810889439813,349.8834713751717,352.1050132403871,353.95792314858846,356.4483824486016,350.4811964438631,338.716128268748,341.8740496456423,342.0932270563571,344.9423377821408,350.71033372458857,354.00766378483024,357.71354020244286,361.54890279679216,368.13376579525925,365.83254021530996,357.24533163937014,369.538388844185,376.53165710401225,379.709543157918,380.62603904482796,386.33423974231664,384.19243450782756,390.09985268135483,391.6041131153973,398.04950252510577,385.626924978346,391.55428232778945,451.28612668957794,457.47246376690913,451.27613763916276,454.4440360712511,463.26039817592806,465.6910645820025,464.8044523883876,453.35819150952534,464.3163318688956,470.42302382509234,467.4244840358303,464.7845510505949,460.52078215831216,474.7515840939021,481.024331590762,479.27910364214137,478.60101669077625,481.42319871917215,481.2836070543019,490.4981733186981,495.05564591187573,486.54909782644194,492.9314913143984,500.00200048626294,497.97758173830397,474.69172878903987,483.3977870371672,489.6804465591492,486.81834463819604,479.9771476795585,485.47204318250544,479.95722399037857,493.80908557541954,504.61928117249084,502.9538548537801,498.8651234985178,493.8489454067389,486.72859024249675,483.8165809854279,480.4558378508283,483.3179797266994,497.3792290791321,509.17668527772133,512.9961097327337,517.4638190279084,505.3472598986763,504.40983726108385,515.8682450606731,507.93015903557506,495.9132896082773,495.74370313879336,485.80115119571866,497.66844369943567,474.4225133740298,472.0988533161903,487.62610264877077,483.24814890925757,413.3607736978277,430.7728077238356,427.38210006858907,428.5389565424444,425.93612408194605,431.0919058176281,442.6301084579704,452.09403492299276,460.04214797595876,461.7274954012154,466.3447442384856,468.3093384541752,461.57790253094504,458.8154613526665,469.90494479227425,471.4506601168094,467.132608243744,465.75638146780267,460.99946732090575,464.3701730828498,460.2715103816281,465.0183877270189,473.53492769199136,472.3980846367122,463.4327619160628,453.2109390100701,466.95306579198285,471.92937090911573,482.58002215948295,489.5408469118146,488.82282304541855,492.0539138414726,496.90055967813487,503.08348294773384,499.982048490259,499.86955157937365,495.1378748094748,494.14958334452103,495.8965163796461,491.5242523237637,493.42090404657034,494.6287835804673,503.79261109831486,512.9964024733323,502.95409833545307,492.30286154536844,498.57183939066806,505.1302795585898,510.7004435956451,525.7239940569609,527.2613001458768,527.4309303486516,507.47614966280855,493.361032989928,492.50249482761524,484.93586602622514,458.31272453441665,463.72322458427914,474.8735725281973,483.049183610407,486.8624538229204,459.7701646235756,441.8716722575589,458.61223809815965,464.20235457356995,455.89700088815397,465.92933724415263,491.23477003188776,475.3127693181289,450.00736491740264,477.80839770179944,486.0039577631928,493.85015961079193,504.8108346353573,508.20488455185205,517.2389715729635,522.2101790682075,525.7739392825619,523.7374579349871,521.84087051847,524.9553519309403,526.0034845576143,527.6605968472184,524.1368220285513,514.044600820183,514.4039416499305,511.54899510427634,514.7732649090993,514.2941294951594,507.7256749803077,503.18370145489854,510.2512808638586,497.3739435254901,501.1971783669211,499.1507950714286,494.7285803024095,514.3140281597395,516.2007656702992,516.9830137068243,530.1423906016115,533.4696949996974,546.079536146743,555.851604519624,561.956690056189,553.7433287096264,563.2656015058733,561.8967586035227,564.0550313711452,564.3447806064505,569.6405098038103,568.8811536395001,568.2715705132565,580.9614010765631,583.5692610077722,585.4977037271458,581.1412066390888,582.0504943661447,582.2403930977291,589.484501597712,579.672421258373,573.5673490881165,574.736440631771,574.7863836125463,568.6512994519571,571.6589105303678,562.0466134632495,561.067423617713,571.2591677649386,573.657247966786,574.9362852505326,588.9049656386749,562.5562346068841,562.1066125402613,557.4403590550569,566.2132605927909,554.722528248443,574.7464440436293,584.0489286056084,576.0453459283773,579.9122090858378,574.70640754446,572.5482054082433,551.0554852822419,549.6466622720844,550.1562205507613,553.7533256143062,548.6074468136305,554.1430712266013,555.941598079429,564.7444540485772,563.6453456676987,566.443114149285,575.1061345887051,590.7734853057109,604.6122815307718,606.5607193426367,608.0395658524756,605.681440124963,612.2461479396557,621.0290675894443,626.7044846004596,616.3928033653502,618.5800170898438,616.5399780273438,596.3200073242188,595.0,580.0],\"open\":[41.88998562958676,36.39098776806456,32.48590830416839,31.250625471259355,32.824610917132816,32.774802790601974,31.360204347190074,28.59078692663697,28.441354549690523,28.78006313333455,27.096493642186754,26.598396382763347,25.9707935023456,26.89725371514331,26.44896568927957,27.076570187862522,27.37542799261259,27.55474262870979,27.544780503454447,28.401507763690372,29.84598910999101,31.419977570782173,31.798531646938788,31.54948267474215,32.286668513768596,32.73495658730489,32.565605103136726,32.33647368269981,31.838378773428975,31.798530544241753,31.131081277597513,30.79237478063952,31.2008157066594,31.32035749536272,31.9778435896919,32.306592361043656,31.36020562385698,30.583176533328032,30.921879861588454,30.383935911465535,28.371621901173295,28.202268790837756,29.298082339768808,28.88964303731871,28.0129927263251,28.710326761013867,28.281964056615106,27.644400390335164,23.101752233515484,23.9086707081586,23.281068995247093,21.418184331915946,20.69096292655965,20.28252302909736,21.308600308246778,22.115520880309596,20.631189254211684,20.671039058341716,21.328525648491098,22.06571140406721,21.32852554698975,20.561457167682317,20.362218443381707,19.933854455106097,18.977509026206285,19.505491371887036,19.286326623939743,19.42579324949699,19.44571978981559,19.4158318535938,19.02731861235763,19.246479172864728,19.196668370940912,18.608915365848574,18.011199410722718,18.200476609492863,18.66868766696424,19.027318165411426,18.98746914432467,18.848004304172388,20.68100008329658,20.88023799742836,21.04959245827724,22.583729855405274,21.51780448895447,21.906319883223023,22.93239798394924,22.882588456562598,21.697120395062402,21.119324580515478,20.073321724440405,20.91012629904138,20.49172337734805,21.995976329078726,21.995979428435177,22.21513802251275,22.235063182451878,21.408219912861146,20.322368621826172,20.312408033929362,19.85415919431823,19.804347293039555,19.67484499372783,19.60511166991645,19.605110118537535,19.425794876542824,19.625035334499472,18.927696228027344,19.126938644048103,19.176745952704014,24.038174397821876,23.20137320798985,22.31475876853942,20.740773340421757,20.999781354962952,21.179096964265415,21.019707231752932,21.159172708865466,20.770658214986305,20.44191474326538,19.884044017586227,19.07712469814808,19.535377080797844,20.02351356938473,22.254987388601485,22.16533013283032,23.868822258014937,22.643503554736064,23.13163693164363,24.48646321802562,24.84509487923675,25.940907408122797,25.84128941487477,26.3991584347677,27.156264124408025,27.893449188770234,26.957025618239303,27.644400011150864,27.574665921462547,26.966987519968548,27.06660604710098,27.963183289269526,27.893447953137592,27.485009809310583,28.07276476367028,26.668129150930326,26.857405369060295,27.724098336088616,27.385390545608615,26.558547879221862,26.39915639663672,26.927142236856106,26.448963963311932,25.38303739457969,26.10029973799971,27.335579450482328,27.773903917963096,27.903410623710744,28.58082285083091,29.397703547211037,29.557093656425575,30.483554074077148,31.16096660821421,31.95792486383472,30.523400537989787,30.095038916398714,29.965531746469942,30.194660568904503,29.636787886442928,30.981655844776235,31.151006561562532,31.290472731349873,31.758686250241134,31.878227036799252,30.862107725936195,29.0390721898578,30.891994936834475,28.949414505671115,28.152460366821085,28.630633322968144,28.99922608533379,28.780062993865744,28.50112666318718,27.564703863794396,27.255884777909934,27.913375170120208,28.4114703618046,28.122573070190533,28.809948434169122,28.17238204719524,27.514895211596794,27.05664532609379,27.25588579329873,27.235962505901114,26.737863537968924,26.947060549960852,27.654364003028213,27.773904334080893,27.993070979153476,27.46508424431931,28.32181415646864,27.90341255341458,27.993069302605985,27.514895687811393,26.996874416292133,26.927140906365707,26.269652201651724,26.42904262530113,26.578474097664447,25.562352392861964,25.701821028512743,25.652011934097878,24.984558809699216,24.904864682059095,25.990715926712515,25.5324659133011,25.671933541849878,25.731708404831338,26.518701178390195,26.757788476316463,27.086531941510476,26.47885122669613,26.907215647025666,27.3754279356995,27.8934496565415,27.056644657825366,26.70797817581398,26.548584167420668,26.71793842309875,25.522507588854694,25.711780974242558,26.120222422901858,25.831325769565304,25.970792120556982,26.498776970393415,27.056646118235367,27.02675798663232,27.744020560503472,27.90341057929812,28.929490146168394,28.222192179482867,27.445160323326537,26.77770964659186,26.976950067992735,27.03671879954349,26.498777244689638,26.78767227723788,26.81755936532553,26.37923183503403,26.29953906613144,26.080375774770843,25.77155690993436,25.552389862908107,24.70562691560826,24.874979459847893,24.446617418871387,23.699471082975233,24.038175482225608,24.536272756237057,24.177642903573002,23.799089071739225,23.261143073435917,22.902513688285854,22.942363219808666,23.968440420952884,23.93855857849121,24.068061646408246,23.62973585428955,23.470345794229754,23.819012575931648,23.998329940870597,24.10791103163841,24.187606540885817,24.49642619054221,23.858863923709297,24.04813664619446,24.416728390092523,24.14775836816816,24.58608439831325,24.874978600746292,24.60600740801743,24.12783531541415,24.556194988670384,24.37688032921039,24.97459606268098,25.482658241700054,25.861211267527,25.642048212902793,25.83132609562763,26.289574319902,26.26965261787202,26.64820630547011,25.721743978158763,25.89109555955284,26.000678733362264,26.219843043019,33.412368755433896,33.641488720807644,33.94034843231191,35.51433643831777,37.81554732164286,37.15805641646325,37.51669325229583,38.28376059208984,38.96117158553449,38.46307132556983,38.981099907664984,38.443150404312306,38.05463391033322,38.09448228745139,36.68984770511939,36.22163966526875,36.8293179727424,37.28755983916821,38.20406286061633,38.233952124829216,38.22398590620987,38.85159369211808,40.744361586153175,40.5251942357587,39.807939701726724,40.73439806056034,41.86009509451051,41.68078203468201,41.850134132242694,41.63097335045316,42.92602877534248,44.19119177927434,44.07164975259553,43.22488392538972,45.356738666938774,44.86860572723979,44.67931981824687,42.338274651433835,44.66936512340375,45.33681433249212,46.14373452786535,47.10008324080843,48.32539805819105,49.04266142605092,49.819690984745435,50.098631533296384,49.949195028528486,49.77984202620811,49.939238093472696,50.27794321714659,49.58060422901432,50.53695494214862,50.40744568513183,47.199701256743005,47.68783612622293,48.992848090837576,48.126163727781,49.79977110329976,49.849580039189355,50.92546596055415,53.97381936748166,54.47192007933481,54.12325683181837,51.55307248865403,52.18067485376431,52.97763064347994,51.343868943718036,50.53695396313504,49.809728248927804,46.98053942747195,50.656492908092694,49.182124300568645,47.60814037816544,50.068740026857064,49.05262017052127,47.62806963597913,46.860996453884425,45.824949347433886,46.05407330241612,48.5146762713391,48.9231156941258,48.28555470422093,46.083960565709376,46.432630301573084,46.81118662648905,46.860996164341955,46.183581330411045,44.49004754791899,45.79506582836226,46.572095366785874,46.72152562047125,46.57209796270021,46.28320203087553,47.966772212338896,48.79361166850931,47.906998339088766,48.454906691411345,50.35763490718166,50.85573612713561,51.463409361756234,53.0473619004834,54.551615745636006,54.65123848519281,54.12325380261886,54.720972188131,55.28880104072495,58.048258791984374,58.098069919058425,57.26126862856031,54.72097005604281,53.91404996005422,54.62135043708065,54.81062360316501,54.21291045515004,57.4804285501593,57.3808077421149,58.4268169345957,56.91259775698321,57.68962808592263,56.24514723516267,57.75936097158642,57.042099649190504,57.08194897986993,56.38461061269954,58.62605004062711,56.15548846641424,55.936333400411336,54.52172799793742,53.81443129405133,54.40218590155466,61.8836080166773,60.23988684464153,62.79014113333037,61.813870640348675,62.50125252232038,61.22612109775954,62.03303538220859,64.05531625920837,63.507405542269964,64.67295513523523,63.93576938163621,67.2431373541272,66.68526887255328,66.79485142189691,67.47226469108976,69.42479956073122,68.47841279455497,70.68000289407176,69.9228983137959,69.07612216666915,69.2056367755005,66.70519598540415,68.39872611055175,69.42480250029732,71.6064625708012,70.80950577574114,70.50069766406871,72.2241051432895,69.59415253265892,71.01871492514474,68.22936198463364,67.92054231735112,68.49834802161497,68.90678516095265,67.7511998974519,67.2730205779823,66.9343166965248,64.64307403564453,64.49363961099128,60.27973510255232,61.10657980382282,60.54870342892492,60.22992232067565,62.96946028691495,62.31197151534252,59.71190572647857,55.68728415685011,57.460505500007244,59.40308831609766,62.8399564346056,57.38080874693169,59.86133550075828,59.06437485979793,59.562477765799734,59.07433652043674,59.2337290638332,62.41159465339927,63.208545970912546,63.3579696400138,59.74179275352435,57.829096455221205,55.876552605831684,57.36088800035877,60.20004362125768,61.066730713160034,59.44292919370086,60.74794763567807,58.54635759490965,57.01221520032704,56.633659576874415,57.759363127781384,59.43297037937759,59.30346578668168,59.03448967701401,58.0881030992419,57.6697036340614,59.27357977605982,58.3371592641761,60.7080956344162,60.180117417773744,61.38551124204384,63.14877588680416,63.597065071543,63.706648216618404,62.989385103184595,62.38170391695387,62.212352125211744,63.41774420459206,63.128849475500175,62.16254739365656,63.28823324892475,65.07142974935186,65.59941020128359,64.45379063784318,63.915847495546615,63.85607630543646,64.24458806349772,65.21089444263458,64.21470605060115,64.07523141913974,65.11127900755565,65.33044976139017,67.74123429356725,67.0538532156736,67.20327915612125,67.32283334740993,67.78108166605953,66.6055732470801,66.04770840833349,64.81242234963159,63.16870559527415,63.06907367630421,65.0315759319148,66.87454270084582,67.70138522301676,67.28298077341977,66.7749233906854,66.54579950234445,68.54815124015681,69.49453423648725,69.47461021379533,75.67093804578221,74.70463377049703,74.88394396708821,74.4356553530662,73.92760031049863,73.71839627084864,71.94517386959203,72.08463751538733,72.92143722659989,71.74592938115289,72.72220453117437,73.12068490749854,73.18045826861945,72.81185391921585,72.84175265476345,73.68851166668493,74.03717676394996,73.71840117177032,74.52530991756264,74.68470911252733,74.634890923937,74.05709628359497,74.65482254080857,74.71459826807921,74.98357230569107,73.71840799555582,74.01726048183791,74.72455576822676,76.8464476820229,75.60120335467577,75.81040642144976,76.96600511286091,77.29473975260377,76.22880475681347,76.83648710097165,77.72310383199097,76.85641583260336,73.240218405672,75.67093985528624,76.47785736766927,77.1054640135358,76.70697970362585,76.03954007079963,77.80279894561794,78.30089325909812,77.29474277443991,77.82272284899108,79.04802989056178,78.48020714862861,76.27862833016752,77.46409906554588,76.89626727579392,76.75679722140384,75.89010891758356,76.98592133257583,75.30234737511321,72.95132664956088,73.71840285942132,71.41719917097438,70.520612860308,73.94752436341795,75.31231943206011,77.26485156130838,78.52005422225487,79.07793568024391,79.89480155674781,80.43274350172311,79.87488008366219,75.16287616419392,74.7644053675268,74.64486637247718,75.1828074258152,73.9475335785044,76.21885731010475,74.6050075834833,75.10311692208971,75.07323029552897,74.66477517670224,73.9973332622292,74.45557857517181,73.98737526588268,74.59504528928619,74.16668803668571,73.72836170323558,72.52297225543352,74.21649868205442,73.26015794912112,73.92759911922876,75.24257998632166,77.37442751387235,76.96599285478017,75.04333375441747,75.0931519646232,74.54524609907482,75.5115457464692,75.89009543913856,74.91383356847999,76.35831121059499,76.22880954350025,76.86637260344914,78.1614287883708,75.90006887495686,74.72456096746302,76.5973981577414,78.45032216236991,79.77527096234654,81.70788371013721,80.72164393915367,80.71168743283005,80.18369727412308,79.5461331544371,79.23731879153318,78.28096889486004,77.68325776365303,76.93610613930245,76.46789349875009,76.44796944737853,77.90240903216072,77.54378021323096,76.93611103548722,76.12918984214978,76.10926709737892,73.75824447483052,75.43185702530059,75.87018803913202,76.87633830581034,77.35450578882764,77.68325485625574,76.41808417433249,76.6073669681807,76.5575531015019,77.70318269660238,75.82037637835722,74.90388290804046,74.80424761645692,75.42189883240562,75.39200957526029,73.76820776495738,74.56516712921535,74.80425459490756,76.56751838667923,76.16904360548496,75.01346304834148,75.65102428265828,76.69702173071244,79.24728068793827,79.65571096933606,78.20127150745367,78.20127644684241,79.57602201267194,80.37297881495608,78.69937200755534,79.30706032749922,78.99823792458396,80.92089097786025,80.5921485170747,79.37678752228199,78.2012799477089,77.50393888123435,77.80280289378311,78.3009008696239,77.66332905922252,78.06181165861464,78.94842506899552,80.81130240510184,83.07266618937534,83.60064986337566,84.3876439498709,85.17463792118316,82.4052173431692,83.0627067630975,83.49107168213617,82.58453237077482,82.18605045470893,81.93700284053705,80.49253074991243,82.33549044776528,82.31556267081457,82.18605347205703,81.89715734962641,81.61822270844183,82.85350472872476,83.23205576792282,82.15617518998731,81.16994366147713,81.22970667762179,83.6803471748477,83.9991349627299,83.77996882518244,82.4550209561133,81.55845605180106,81.51861122414775,79.70553161110762,79.70553213858793,78.93845599237486,79.02811145542063,78.25109260447843,77.67328523380442,77.70318202073798,78.79898617367877,78.18135507019099,77.57367321562266,77.4242486527604,78.63960299389863,81.10019829829974,80.02431735615933,80.94080926654956,80.16377947678328,79.88484685760042,80.04424108633482,80.12393452292048,79.29708745164069,79.94461152484989,79.64575907651643,78.9982360119568,79.45648324354829,81.04043324712558,81.82742394651393,81.55845390029553,81.5086394979523,80.29328090523352,80.52241044686227,81.9967695835307,81.06035464277691,80.24348298464905,80.51244892747413,81.44887514275874,81.32931877381628,82.51480401509431,83.09259323526514,84.6366842426807,87.32642013549587,88.92033822555092,87.78466898675309,86.28041063728558,86.27044681917563,86.43980280110677,87.06741435649143,86.1608636412686,87.46588671855886,85.96163776320309,86.39996365496023,87.01759543830183,88.32261840345679,90.11576810718717,89.6575110817888,89.93644945854099,92.19780783593826,95.48525602555512,98.57344572845933,96.37186915307004,96.59102515516052,96.97953401150265,96.2124781893288,94.47909889035925,95.9534620968512,94.54883294838235,94.58867761593608,93.17407426162222,93.43308770058566,94.88753171926234,96.81018441608954,95.0170311624905,95.31590171392494,93.37332255281765,92.34723052478421,93.69210628611194,93.1840508843362,94.0606964186182,93.72198243001627,94.2698911479626,93.18403308928518,87.18694901848869,76.73686855261599,86.61911627310693,85.62292095344739,88.76094230733271,89.53796862962359,90.25522939259965,86.51950482409731,88.47203591397356,89.41843393139852,86.86816944502282,89.34869531988035,90.43454296390543,89.72723920314229,91.33112752650553,91.95870971679688,92.0185039444737,92.54647318011585,93.01470034877843,92.84533340766266,94.25994004334937,93.41316212334286,93.04458085846741,92.70586668849901,95.42548911230485,91.72961072888445,88.76093249319007,88.10345621568017,89.70732802249937,88.56170737049304,92.58633187051659,93.72198913002434,92.75568289758709,91.5403159974013,92.54648271542277,92.9648732326631,93.3035846128508,93.72198494760966,94.62853094348759,95.81399796357218,96.81019156186119,98.35429460801467,96.99946069479587,97.41787488901792,101.52219892035323,101.81108916024928,102.54827174254049,103.50461299863574,103.56439114602438,104.1123055512955,101.33291670974788,102.8272077956333,102.79732577207291,108.3859790684417,107.6288615399575,106.59281628977858,105.55677516937078,107.85797963461393,108.06719634065449,107.30012201405664,102.92681982905117,104.22188092286113,105.39738923795566,106.95145680639493,106.43343667061707,106.7821067140646,105.59662869358051,105.92537016365665,105.37745971413362,105.43722484392704,104.43109267078665,106.59282021249378,105.86559524427865,104.41115817281799,106.07479898893851,103.60423265548573,105.77593931145356,104.65024222043694,103.75366566146322,101.90074999084473,104.8992913136159,104.96902672160608,107.08095974733627,105.6763188945048,104.51077397309737,104.81959265624032,105.48704941062708,104.34142042638604,104.62035288727293,106.01502215487363,106.59282650173806,105.5966311697423,101.56203212433304,102.49846036275116,100.7451610598628,100.1175625673474,99.49991699257589,97.53742593002711,98.62325709953262,100.19725225559839,95.48525183096285,93.62236633398821,96.16267060489491,92.47674671677918,94.54883511359101,96.04312991909035,98.34433044790028,97.38798912474074,97.41787006125884,106.79205836197177,108.57524924654618,111.84276252390815,114.36315332437167,114.83135347277806,111.37456205747262,109.0932661827882,100.02790684045006,96.77034804702008,101.16356405853132,99.22098670321527,103.34523103362481,103.40501169520154,101.6317756711469,105.39738322392235,102.15975605044304,105.08856934613745,106.44338750750403,103.81343652003142,106.70239895518873,108.28635371888953,107.19052749838606,107.41966683030766,109.26262412468489,109.83045054713996,109.63121810728036,107.6587591476707,104.38126831288375,106.29396826223342,107.49937228165138,108.06719108290449,108.86414532830335,108.69479443237624,110.06953393833456,111.72322366046319,111.13546855106097,111.23509038078244,110.93624042915927,111.58375060200187,111.70329955930178,112.88877524563209,113.39683665800791,116.28580073962881,114.26351724010355,113.3171325104771,113.6359165336216,111.68337910472142,112.0420111324593,113.35698075403353,113.81522661812579,110.2787405940638,108.92391549748868,111.80292587718994,110.199048834635,110.36841137110562,109.32238874944984,110.67722731589966,112.0021592034977,112.12169589877838,110.78679494506284,109.45190214495256,110.06954282931163,107.5292498637024,119.12495797876234,116.37545829993482,117.38160782032628,117.07279290916672,116.16625389023253,117.59080717087988,116.71416587979044,119.08510103825087,119.16479440617348,119.95179043748577,119.52343468531646,119.9219031886765,118.92571157823937,118.36784203101848,116.35552952639958,116.60458596090776,116.51491946756823,116.97316562260221,115.79766245518526,117.680467942959,117.79004294452463,119.10502792345503,119.00540765774272,118.04905441239531,118.23833243059585,118.52724169270158,118.16860802899936,118.7862458185349,117.31187616234385,117.68046931657844,117.09271332659623,114.56238006049149,113.63591721860821,114.86124307907461,113.43668641592222,113.98458640022386,113.3370627859396,113.68572754897215,114.21370618877127,113.93478492447773,110.58756784007262,111.14542503560108,110.20900332297677,112.93858366812456,114.23363094073162,113.7654191201225,113.50642149753237,112.9286188821487,116.18617978414616,115.98693855908392,117.26206060571742,118.17856488241117,117.93947568806007,117.0528660315668,117.29195463727044,116.87355418524528,118.53719350359123,120.78859089486316,121.45604398998117,119.44373064327452,120.92806781715997,121.5357356757836,121.95413879579074,127.03472950740345,124.17565815337336,123.37870359102673,123.58789963866155,122.62158743521854,122.47216997891945,124.50440819744166,124.7733763797823,124.86303209809651,124.59405693086391,124.72355932141991,124.22546219683734,124.43466355667852,123.0300388065771,123.18942365654696,123.53809450245053,123.12965430012585,122.86068722454773,124.03618751741531,123.99634713531744,122.6514820849128,123.57794106376873,123.87679547092924,126.1182321392362,125.12204259624119,125.89907269879123,126.36727457444977,126.18797491781514,129.54513381537691,130.42179715276495,129.21640914002515,125.48067223424319,127.5427932684674,126.40712685469309,127.49300038061385,127.71214253912188,129.4156458493012,128.16042339223299,128.63862610924764,130.00339135027963,127.07458124626248,126.88531548258297,127.12439486174148,128.7183072679348,128.6884027161067,127.54279106789862,127.89146823265199,128.6784530238729,127.76196846037905,127.94127369636252,128.5489430766842,129.18651823746092,129.73442580886731,128.51905788878088,127.7221105150544,128.00105853873393,127.71214911847918,128.19031632715738,128.25010164918976,129.57502044942228,129.28613443430365,132.2149453591351,132.9919774568076,131.13904358202737,131.2386895126195,130.00340292282124,131.50765426013552,130.90993750397416,129.73442653588282,121.53573939005533,119.13491500889609,122.36257800107616,121.56563050419058,121.03764308443822,123.45840329114974,119.07513900948685,118.67666598904083,116.2858003490098,114.04436284092603,116.36549227604837,117.93947342728654,117.75019577710813,121.93422037484538,120.7686727212686,120.54951299187641,119.66290013436802,120.11118039446994,119.86213157382812,117.92951979567269,114.6719562426375,115.50876759951781,117.24213758497922,116.55477019254018,117.5310429846723,118.76632261947378,118.76632515444514,117.41149906147689,119.54335588641017,119.62304993837598,120.43992809407328,119.39391892602079,119.04525373359222,118.46746714929232,118.4076979924529,116.55476889869131,116.51491339998549,117.74023849701848,116.55476984047517,116.15628729583906,115.58846271706666,117.10268102249292,118.40769038281921,120.51962315785865,123.07984433224762,124.3450132285744,123.87679957436369,125.13200961820993,127.00485198543481,127.55275125212587,127.92134545125604,127.74203365581603,127.61253578727414,126.82554626298703,128.88765722095172,129.50529630171644,131.12910151587076,132.17508396317646,131.0792902365285,129.67462787631578,131.7467407143056,132.71305014004733,130.7405877130938,130.48157254082412,131.73678960367528,132.09542859127973,133.97822132008397,133.5896979434965,134.18739153847244,133.58968582699154,132.94217693351814,132.56362953961306,132.99196596694648,132.99198708183536,133.09160554042504,135.37286098418116,133.64946326803755,134.7452668268136,136.26945900636673,135.9506671974743,136.5683090182175,136.11008706168448,136.35911059835792,136.50856527575306,136.62808462773748,137.19591804638893,138.3813945079177,138.18214362042218,138.92932261007385,138.75995235146516,139.66648300769393,139.8059433580856,139.17833497427796,140.6128633223837,137.40512060792184,138.94922592350167,139.5469336114048,138.52086979194985,139.82586897535026,141.44965517473187,141.85810083559264,141.7684503127422,141.38988174390042,141.3201687335556,141.7186241153538,141.5692226464895,140.66267787210498,140.463439543699,140.2641988124174,139.1883100190497,139.0886785964083,139.2281492834982,140.7324171408724,140.81210998805992,142.40602083359906,143.35240378473893,144.40838905110147,145.2351925680859,146.53027077890317,146.1118602306719,148.93109196870773,151.16257570036862,152.75645962256894,153.0154890465855,149.59853499617395,150.87367619460827,150.136509433608,150.91353019787763,149.65832462254662,149.7380014448211,149.82766028725115,149.5985410901011,149.53878329833952,147.43680459796755,144.16928418939497,147.8850667508332,147.5164932826546,147.95483056343778,147.94484820190573,149.72804253988195,151.65068149459898,151.39168172257985,152.118923398411,151.17251789154207,151.27215465307447,153.05533611230587,152.8262232299505,152.68674604523568,153.4936541819201,154.18105590699776,147.60616051548715,149.57860076323993,150.6843889838382,147.1080656900435,149.02074980923763,151.1326796754991,152.2982312246839,151.78020567520386,152.42772313554343,152.1388407806289,155.6554049435736,152.25836741886067,150.34568166837155,151.70051199207944,151.32195375143752,151.14263125038926,148.4330013898754,148.46286970722502,148.6820399501369,151.1127684171636,152.78635934291745,155.89450112845083,158.13595088630288,159.52064661568136,159.64018732210775,159.05244498227134,162.96747078982207,164.1728769509632,163.53531390744783,164.01347614566555,164.38206994740696,165.37825384920512,174.0351959346767,168.4266197088521,171.34547701544037,169.17378194938433,169.65195639493788,168.6557453916979,168.32702783374882,169.3032724047828,171.2259352783415,169.33313411262105,169.41286675630423,167.31088900074633,169.44272767417513,170.83742980205193,170.59833167581,168.69558684619807,166.2050957677434,166.52388949373216,167.63962058112784,168.1975033926568,168.23736114766612,167.22123636071328,166.27484587381446,164.62114425026047,167.53005110034826,169.75153437684153,171.74394583953534,170.61825308672252,170.2596173345335,171.28570140857616,172.43130944495684,171.74393959416363,173.09877766935412,172.351607940308,171.60448915846823,170.22974447180408,171.33549790950616,169.97070094142327,171.84357760246905,171.0366570092843,169.56229088457312,168.59598371740697,163.8740185419229,165.2686603935805,167.30091886019702,168.18754197273302,170.73779560939047,168.65575557017598,169.18372120696188,168.53619006455273,169.6021239866345,172.04280277252522,172.34168038940993,171.2956546313982,171.95314082254686,172.78995247188848,173.82599611624107,174.04516821132069,175.97777374031511,174.2643238527714,174.83217346011844,174.53329314775962,171.64432224547954,171.24586186482355,170.72782829188654,173.4872778021479,178.57783704841333,179.88285532063603,181.66604337240085,179.94261978934298,178.6077075890633,177.88050112401982,179.8131355782984,179.10584477608614,177.63146810918818,177.67131703133026,176.8245350687115,177.4521337407105,175.98774279464692,178.07975753432981,178.61769381592535,178.1893399443524,178.46824436186444,180.61008851197514,179.7135092598942,181.8652834165349,182.81166327148765,181.19783191384903,176.1770217209363,175.36012366984986,175.61913970137238,169.80136945185134,171.84357933963747,175.13100239596164,180.83920350523312,178.61769341813292,177.92034899603675,176.6252959331518,177.61152558441862,178.3387647848352,180.32117643406718,179.26521709877142,179.12576572126693,177.2628753392561,176.46591129795144,175.95784587786764,175.87815624124312,177.27281980155624,177.32264624367556,177.00385609585584,181.18787839781322,184.19637832430615,184.88376205915048,186.4876151510423,187.98191841725287,186.2286140788675,187.68305796444764,177.3824111890314,180.80931688542103,178.57785067310465,177.452155728844,180.1618000582648,180.11199493241577,185.3419953189637,189.16738942010926,187.23476845525175,187.03552456905967,188.03172579878301,186.90602576620643,187.65316619692692,187.50376144515235,191.3092052354776,186.2186580293034,177.8904856784531,183.4492328390922,180.32117031355907,174.09496578158814,176.3862136477638,174.95170622109592,172.78994470581395,179.8131306724966,178.30887590547454,175.1011329801002,176.03755596011445,178.0199787096655,179.21541472106438,183.87759833987133,183.7480821988486,181.6062840869702,178.32880228417173,172.63056128301415,175.5294717648366,181.0882448210111,178.05982183521985,182.86147678173782,183.21014703861667,184.52512797769288,184.90368312807476,181.90512903701625,182.5427035690779,183.78794300891505,176.33639844511728,166.83271154279652,164.17287741893617,165.49779887215107,164.81044311616986,160.20803013438697,155.71517943937639,151.07290890582976,154.5595881451482,157.20946460221262,155.95425820529488,151.45147127375333,160.94521125892717,157.1297733149107,157.21944319358508,157.32901228481057,164.73074970885037,166.34458018737425,163.9537053997648,165.0893713806867,165.19894087144104,166.24496944826691,165.5675331021251,167.1514803856669,166.63347425709497,164.80046855255122,159.5306057054729,172.56082807138586,176.1371605933562,173.12864050292953,171.34547220054188,173.58691239321794,174.46356469701783,172.42134660368606,176.67513454151083,177.57167198361958,178.98627753254138,182.45302670377833,184.14658644777188,186.99569933670347,184.17645783832086,183.0009354087146,181.98482272666638,182.79174787853162,183.07067207570734,184.22626024119396,181.80550137737313,185.17266031545938,185.3121287636978,183.63852146922656,185.83012112142112,187.15507683608996,192.335288120905,191.10995680118407,193.56062059956736,190.30304430320598,190.02410972689864,186.81638395272233,188.09148934360076,191.43871092333126,192.00655671795212,192.36516211053797,195.04493662393813,194.0587061438551,195.49323634787726,198.34234974115378,201.98841507723162,200.3945106022527,199.2389178919418,196.8480552249382,198.4220435709585,194.43725374356936,196.5691195948111,192.63414116429692,193.8096635093186,193.99895059897855,197.6948104092736,204.15015593259542,203.7217953974291,201.45048220996006,202.65584401054303,207.01920780340177,206.7103677741555,204.1202608086336,209.02156493475388,207.97557705585837,208.05524955005973,209.778675809223,214.29143171570107,214.89910753228455,174.22448210679937,179.18551687092733,174.6329284852687,170.02052824155396,173.26811810823529,170.03048755665557,177.0138159852987,178.2889540526034,185.79030068639233,184.0469701150861,185.14278707028345,181.34726084136526,179.41466567878823,180.02233512003986,178.65753760869234,179.73342087258942,173.83594396460032,173.3776998758802,172.15238365114698,171.55468178129775,172.43131431234855,173.03898506752282,175.32029122415804,177.42227362852523,175.62910829213496,175.23062047579336,176.4758584751834,172.83977411536733,168.8450457759837,166.3445774081272,159.69994874986497,162.88777300204654,163.31614353462527,162.6287575709967,161.38353565697,161.10457823590133,161.30383024143418,158.7834465065608,159.47082808949196,163.87400934368733,166.00587103195616,160.41722585309415,161.37355404232326,163.6747874680454,166.91241014670624,167.68943564472835,162.40960480490767,160.96513178811335,159.39112891558975,160.84556684867252,158.60415881203306,154.9480966670048,157.08994093117283,156.2232407463371,149.55870112588303,156.1335804842148,152.73655514649457,154.808638555215,158.9527905953587,157.90679442120805,155.26688536361243,154.17106611510144,150.6445550420073,153.69290191915115,147.16781690189077,145.2651180115303,147.93489686974135,139.40748801077592,154.41014760282997,150.94342586091878,151.22234166285298,149.52882180402705,148.74179264929128,150.9932101749036,149.91732152062258,146.19156800365974,143.9301955007994,141.45962378112696,143.15316289934367,141.78839211896715,140.5331869740856,137.08634504650496,126.54661064586236,133.88856116906737,133.14140584945918,132.4938803732462,135.23341301812064,135.76139385415706,135.40277568057502,137.7338573084595,142.45585149539164,140.1944533426596,133.31076024319546,138.72008674369644,139.06875829757297,143.33247510943175,142.53550940849672,145.01605741222716,142.79454888142095,142.53552646998583,140.54312802125793,140.67262703136063,130.20264190062835,132.88240305613212,122.63154479083319,125.52052306103742,131.93603083896213,134.82497103105683,133.9383707144113,128.4991371719911,134.17744891661195,133.50002465486187,137.036532614741,139.35767180087274,142.4060243880133,142.53552727192752,142.60525672157422,141.45963190204654,145.4543642321741,148.43299696220393,146.3907879978945,149.18013492496357,148.63222490218456,147.71573529437453,144.08958096967524,146.9187709118148,147.48662346620725,147.52644909984775,145.66356595407314,164.9698308619025,165.20890169420733,165.0694477822882,168.50632124889987,170.54850667051844,167.5599228944769,163.84412025923245,167.26105924811273,166.2250383292474,164.7506760109761,162.56899318535443,163.8839834334257,159.8892274768784,161.63258832845295,161.31377633146,159.96892856351946,162.44947122175884,163.71463977049368,162.28008354740825,161.75211428437245,161.98124989915397,163.27629661937746,166.73308010288517,172.24204618312118,170.84738085279602,165.56754939799544,170.94699424535042,171.43511357566427,171.66425869768784,169.1139869925861,166.52389093096815,162.94756929522146,160.8655006107059,160.88543083573964,164.26252406186242,165.01962734572587,162.37973740273543,166.7131545697522,167.21127638026593,163.9437621778005,165.75681790291688,167.19132954046097,169.4925465227537,173.83594633731457,175.3501739501953,176.2069046850544,174.54326121466505,174.9516877692141,177.50194125831575,177.5617361977343,177.32265206775753,177.82073665681915,178.31884122260038,178.91655728326538,178.11958792028324,177.5716791782456,182.04462217509703,183.78794342469928,196.2304118501816,191.76747316165623,190.22336060395304,193.4510495598421,194.03879660510427,192.2655607075995,193.64030209797758,190.51227385631503,191.80729963172467,188.66928722334802,186.48761931124423,187.53363714803066,182.80169961432767,181.82544849061676,179.73342799232526,184.34582233688593,184.1365924627213,181.1878888580193,183.86765056070107,184.02702549942302,181.72582162749234,181.6361583022712,180.84916397566374,182.80171664934116,182.3833090335209,179.59396695809951,174.33406282401108,163.08703869260404,166.84266784750605,167.65955324444272,169.52244641530328,174.08501371737324,177.8008000644423,177.70118743437658,174.8620424582812,179.82308200268312,184.30596245901302,193.26176283662724,186.28838664346432,190.22337147976236,188.03172377616153,191.68777300563025,192.14603392833087,188.81871253451962,189.15744371634557,189.82489015673013,194.46716078975444,192.26556060008514,193.4211448431209,195.43345437449008,194.44723737514911,194.22807913262093,199.23891961478876,202.48652261591525,198.92012552893104,203.47275098428955,203.11409804396666,203.4030067938362,199.38835319936908,201.41063463512134,199.14926201991778,202.06808914872977,196.87794808895208,205.91340833340422,199.42819621316033,198.24271940680583,194.64646138946154,196.2005258050007,193.4311046950574,190.37279151961712,183.98717953676103,182.99097446439427,182.9013298822702,185.9098334147543,189.2769746708171,186.13897557736277,184.8140365967391,185.0929597732305,180.26141354945779,183.05075881535643,185.30215306653494,184.74429327240995,184.29601119216156,182.73198479211558,180.15181533339972,178.71730676540966,181.2376844528896,179.8430137296813,183.07069244096516,186.0692318479558,183.29979668054617,183.94732642425006,187.8125769998259,189.48618562038223,187.0156229664606,186.72671925654345,185.7504465719371,189.1375115948942,186.6171430326475,186.2186574825951,185.94969377582328,187.37422898047703,187.94207910189868,189.93447792088878,188.61948456575584,187.26464944891077,180.7595013697539,180.63996492629997,179.8031702802728,177.19313618676884,178.46826237736897,174.17465436007748,174.90188879736675,178.86675182128081,179.31502063435394,177.58163161939677,178.47822693638523,179.63381460961526,181.45682933355485,183.4990319463409,183.10056173203597,187.60335931294182,189.57584295678123,189.50609859501103,186.3282369627715,189.27697238304734,181.3173598917714,183.9174337060044,185.1228596964535,186.48763506841624,190.9605476507168,188.8386582085247,195.9514861349124,192.11613507072835,193.80965265691162,194.62652802524235,193.29163374942289,191.17970895849987,189.27698492590883,189.2072479033375,189.2769741288712,193.95909771098658,192.19581400256897,193.5207594380631,193.81959971697756,196.64881634728172,197.82432786511814,196.66873456033636,197.6250874759662,198.76076250783677,199.23890875386837,199.139293255757,200.832824312196,201.36082431852316,196.84805691242354,199.23892655102156,199.09944615892778,199.7370020809785,199.8864452985567,200.89260833196184,199.51786476234122,201.57999310624731,195.65261687732155,194.52691485251088,198.0833400932961,199.32856807039568,202.00833145131716,206.69045597120584,205.91342646347763,205.514949296653,204.78771447283896,207.87592849494283,207.06900943096952,203.22370507336709,205.96322121200086,206.42147999252987,205.91342765086304,212.01014482311425,212.18946287106004,216.7121664337201,218.365870677035,218.76434461787986,220.76667858028864,219.7704875169328,221.72304516658733,221.18508046421138,221.31458183885474,221.46402139771055,219.9099594464481,219.95975848504102,212.28906894334847,215.3174820286961,220.59734197678281,205.74408203387992,207.63684067968467,202.66584837387143,205.83373315218685,211.70131636545509,209.66907912641216,209.4997293334174,210.71508878614222,209.3901494088886,207.05904739087694,208.72269883493678,213.18563673280374,212.73737922975073,217.16046607383507,215.69604758780645,212.66760243553716,201.03208406619956,201.48036738575624,196.43961322852934,191.09005368306586,182.00475367147885,193.29162660169925,195.47329332299785,188.45013303907226,186.06922116087372,177.65137221908617,168.95460600654283,174.0053228449877,173.3478211345171,158.93288579801953,162.90771999740466,151.74036134917478,150.16639420947305,139.2182019974518,146.06206489432975,155.42627410330348,149.09048383534247,154.61936927319388,158.31524900720504,157.64778769039623,157.59798214562304,158.5742401299566,164.85028373148052,161.00497807479826,158.4945686983306,156.55196061916914,159.5405684124167,171.13625792256207,170.59830740646638,175.23062032700508,173.00912948557186,178.29890432543408,174.52332944390554,177.27281231682034,178.51805081221028,176.7348785023935,174.5831025754209,177.77092236590673,183.3794992475744,182.53272775814392,191.92685144602507,187.94207771557387,190.2034153728122,206.13258127168598,200.83282613785246,199.43815487620915,206.23220017176646,207.32802257479946,210.35645960472445,211.43234913740204,210.08748019215062,212.47832384478698,208.63304387587095,201.7891681053839,204.48887738582886,211.34268746204842,212.4584094179898,222.6494987099333,233.82679018428104,230.62899688382,238.85757591123362,228.1983254233884,223.4464613478026,224.34304149675566,223.7353296975735,230.0612015675736,231.22674095722292,228.68642403948698,225.84728282954856,228.1584480999013,230.63896437998085,240.0430615117375,229.06498487461528,229.02511289827888,224.23342906352013,236.23758554018897,234.1057308469577,234.09579338686538,236.8851224746282,237.65218502965277,240.3618379996212,240.28214094943323,233.72716302855116,231.75471674952846,208.9518110060932,219.7505505186109,227.6304772580454,238.090505891421,232.8704382226935,238.49895651678605,237.2038906357482,244.06766208890514,242.7626520537933,246.07001283254075,235.8590345052838,240.6308024691148,237.09431025052712,240.08289904762913,239.14648016579534,245.28303874201202,239.3457143912011,238.71810549732007,229.31405154622186,230.57920467721627,233.7371560810094,230.26043969723054,229.34393877357934,254.84650889876966,251.68855166925394,250.60271540964905,249.23791727800133,248.09230169705577,263.07500313155236,267.02000524946084,259.1998822229096,257.9845190773358,260.55468219178897,261.31181569670935,261.5010959147742,259.95698018784816,260.39531351539165,260.50489669787135,267.6675266155325,270.0385101977612,271.37337310408,282.9192995788632,299.0178113303982,293.8773774503513,292.8314049580137,293.58853230340833,297.7426572402647,294.86360848103067,286.1569024740361,270.24768180359314,274.72056192455904,274.4616020132044,269.0323120071259,269.91895971861715,269.63996052371357,266.2728543716457,257.29713602872783,257.41667281008574,246.59800915130737,252.34605593306685,254.28863237476867,245.56197582882567,248.45092325550738,258.4128657613341,256.8289272739403,260.9830634201905,264.34022864354114,260.2159617584923,261.2022248781924,260.783842759906,258.22360486018664,258.7615367108772,263.5134055908004,269.1717853652261,276.5236951952058,276.56353033135315,266.5816731762141,266.36255483844604,264.51956217475566,262.05896364975604,278.4961702128668,278.80498610953504,277.73904199062736,282.0824455611413,277.6992148020787,277.7290757852648,275.49761025992603,273.45537283850723,263.5930779030907,262.158534447002,279.9306810926945,290.78917420146956,292.8314106199197,288.76693401029513,272.06074376935914,272.4293315645231,276.12521791058765,276.66314649118317,274.00331296027025,276.62331602574073,273.47531197211975,269.98862980117605,271.5228081269431,269.85919969500594,267.4682381028698,277.0815741772722,276.33442292780114,274.9795902823005,278.09767183885526,284.27405843742775,285.1606851691503,279.2333430926013,278.12758759158294,284.9216168224966,282.580543095095,274.49145567025687,273.4853149005486,272.3297195571098,273.7841729342095,273.7144613857197,276.01565683275226,274.7205676009812,271.9412325448222,270.4667991505946,265.8743934436736,267.8568253319633,267.7173155633605,275.8961120674428,276.892298841727,270.9649245601591,273.734337470277,267.2690788485698,261.0029709756747,264.88815697356677,267.2889931852237,259.48878816797986,255.65341739774453,250.5927497004047,252.43569501367367,246.95663292860823,255.92238533598464,267.9066222170974,268.23535624451296,270.97489902803267,277.08156704064214,277.0815903017187,281.45484624652244,276.12522045461077,264.290369692515,258.5324246192589,262.99539345430594,264.6092355999831,265.9939317658907,265.7846713848939,267.7273074869956,265.42609656963776,271.41322858899696,270.85537594815884,269.4905550375292,269.76947901670377,270.207810762991,268.54417588921916,268.8330700722336,256.9684375962494,258.5125136884879,261.33172291435335,261.3018206794462,255.4940003444315,259.82748421693225,264.7686025446504,259.29948350157616,255.49404580412752,259.67804429306256,264.53946287874135,260.1861145387771,267.61772564525324,267.0897364118175,268.11586688988893,268.0560101322115,275.0293892697429,274.66079655913705,278.8049660979564,280.14982785356773,289.3447359434442,292.0344165722529,289.89264582002005,279.91075672785223,277.24092328701084,284.68248696462456,288.72707552615447,288.8864479166764,297.2644477060579,299.7450268156318,307.6647734916038,305.1742461086089,313.6518493754152,310.2150017004918,309.86630566264114,311.0219269922182,306.13056506727503,305.17424169363784,306.99731003126504,303.84935302396656,300.8407989283855,300.80096877180426,300.18329498954654,297.6230936040174,302.18568706024905,303.1220845588727,306.19035588831184,328.86376764955503,324.89895088400993,324.9288129529213,318.80218522074733,316.9791476231169,313.32311475668405,321.15321352832405,313.1537797044325,299.6055218965839,299.98410225096666,304.9152451800012,308.3620625210024,312.3568165951335,314.3890367661552,303.03244412547883,312.38666474446023,318.0749641980802,316.9991006155491,325.8353130089416,327.1004625586517,326.75184013429754,329.74041576056055,328.89364050459415,329.1227912939364,324.540296065431,324.6597872260568,328.22620650637,335.4187137349111,334.46238508222683,329.5312571106085,331.3143432428955,330.63700123053593,335.7075828166033,335.4187381355204,329.2323505940614,333.256980446827,329.8300670127516,331.42396783688554,338.0586736272075,340.54915891913254,341.2863120244718,341.156784068299,354.9142715641689,350.8298909455982,345.5002419404238,353.74869146704145,355.1433756534986,353.9081178945561,344.4143683541473,344.00591890684717,349.8934223735069,350.16240142286506,353.21071896714744,347.90103743410833,343.5974851429338,336.2854214378455,337.5107308110484,340.2004640702531,345.3607293800307,359.53659951924334,368.1735877378131,370.4947433622123,373.13465548903446,359.62624561062836,352.6528869047466,356.7372777143854,351.38773197367317,351.07893395636916,358.27146080572663,360.02472256840434,362.3757599624865,360.45308581508226,360.72201966059407,357.08595949934704,361.588750764193,361.14043511031525,361.5986974550612,354.8943556949173,350.0129428927795,353.25063431594106,358.072191121538,362.2761439557223,364.20876761291663,366.9781867676883,363.710661352788,371.14227361350964,378.50417859262757,378.1455001958193,380.0482296543719,373.3239528714067,374.44963311959026,378.7133189141395,376.2029384963865,379.9087851491676,380.22754906686475,375.96382185642904,375.5653976119865,371.3713582522285,369.9966365281194,357.9327118278841,357.1357975841532,345.90868317686795,344.045740315581,341.93380900752913,348.47882392710466,346.6458508065454,341.844195116834,339.15447461997616,340.3100151837637,334.2531843622985,327.32956497648837,328.485208457027,335.71758652139374,330.248472311904,326.3832448041209,321.8006981357842,325.7257381726709,327.1104187108437,327.42923575196744,327.6982359272148,338.35749498875487,342.14306845332317,338.985092591484,325.10809399566216,319.08112160889596,327.01085030747845,312.9943648105162,311.79895172157416,318.9715415735943,324.79929505329153,330.1189728867234,326.24377400311454,332.7389660445746,339.0149917699649,343.1093679959107,338.7061664126644,331.22473856672923,328.56493028820637,328.9235079589502,343.0296786146295,342.52156110922306,342.9300018679848,338.42723279265493,340.897813410094,347.72172426370344,337.6402439956613,334.7214034829016,334.5221195516494,335.60803674703254,333.72518001242486,329.0331351354939,310.21502881351444,312.5361590241984,306.9574442822248,320.34633232231243,323.76325381123524,328.2859471245327,331.29445191451305,329.69062546182397,326.80162108860463,331.2247450845132,337.6900401125458,331.5335525756974,328.5250571344495,325.16788859471677,332.52976316836316,328.8438094933345,337.56054731728005,345.3109092191869,345.58987303411476,342.690945080764,341.7146694864941,337.0126016211542,338.6563887819363,331.75269883310733,321.5915840443505,331.4737713854809,324.0720569466976,325.5364815839548,333.90452858483604,333.70529490857587,320.56545064904327,322.05975528700424,318.3638686571998,322.66744230850446,313.61201611075734,296.7065871702178,298.8085918146114,305.84174538034455,296.6169495183932,294.49503776843505,299.53578695560094,313.362965399487,326.5725085907457,243.71898915191693,234.07584696513769,236.79544470364294,220.00958106083633,223.34682098760746,227.40133853479963,227.59062068099234,218.4754407263709,219.63104512850538,211.6016845538636,213.20557164901393,208.59319267543947,201.57002503831916,203.3831023288286,190.3329450013574,204.16012007587383,206.88968599931562,209.07136392312097,204.0007244309743,208.2245968697668,201.59991334267812,200.0259115201124,187.13515496554908,194.99513727130008,194.0985455014076,191.90691441879173,186.31827155741647,190.07394022094223,193.959077239233,200.93245312570855,205.913429416227,213.68375159422197,210.5656252945464,212.51819491645765,214.181849706805,219.6708634325821,221.28471537103297,225.20973470265554,228.03890449437495,227.58066140271146,223.69549283809877,225.1200660376964,233.18922975067238,226.04651944758,223.07784418741713,221.533760524166,217.58882442289058,219.4019123862364,211.0139550868608,214.0722403606233,209.20088238468873,209.7188927961925,212.79712720337065,200.8328523201874,189.6455504231659,182.0346434611359,185.91979118636877,173.76623049236892,202.14780861269372,203.68194453244368,200.4044638010343,209.64915520407047,209.84837743131277,217.90761377501096,206.55099003916428,199.0795244360152,198.750780239985,195.58290353085772,186.34816657468656,191.84715757405837,196.3001506661115,201.35084070555368,199.23893378658858,190.47241888130117,194.2280635050955,194.44722541798157,179.86293115195522,179.71350712408685,182.18408408794534,190.631793389409,194.14836519961247,195.76219633444688,187.73285246427997,195.23422530771322,193.2518133343745,191.19962659019154,193.92918866161136,193.54068386376554,182.34346126396716,169.9408318044619,165.39818415759146,166.56372376960553,163.09698857877908,161.06473915233133,165.29857572909745,157.77729849854077,155.67534600501864,161.11455306406137,170.6680697182877,169.25345799166132,162.94755970899314,161.53295213759753,159.69995377955496,157.53821374443194,167.5599295756352,168.80518070335654,169.33315207708776,166.43423532324175,164.17287342417885,159.5505141320688,160.6064977411958,159.9290691395269,166.11544353641128,169.7216675990622,176.8145989504097,179.94263385273206,172.41139679443833,168.3568867454453,165.308542748398,161.97127160254422,160.4471009556734,157.08992982867105,156.65158662599944,157.70756312476198,162.07090411173056,167.65954778488432,166.35453683313034,167.36068927243943,168.30707177581826,175.32029817851816,179.0261283004073,180.12194350476884,178.27898147382044,178.75716371752355,176.08735147517908,173.6765717435742,169.55231266451557,164.86026769040504,161.86169950583565,159.98886669658359,164.5514191373578,167.8388687249882,160.04863603712766,159.73981396479957,166.4342426233535,162.95751819595725,166.81278779719648,159.4907830976308,157.15963621305113,158.1060405263731,162.62876012118267,166.75299917622038,160.92528828370436,152.74650762085494,149.22995991455306,147.48661917586904,144.6873213284637,145.22523973995774,145.83291752274576,141.0113483797932,140.8818377135744,139.58678888106326,137.3951590959728,134.10771532658035,138.82967048529412,135.53226808199588,136.61814260177687,139.95537758744285,137.71395179728904,137.19591798758043,136.23955531700773,133.041776323884,131.11912335957982,127.83170318329597,123.05990487369729,130.50148889353136,129.80416427059245,136.5683154043659,132.3843046738166,132.42414639827953,125.82935651093017,126.76576226896262,130.3819644674434,131.17889611136275,97.60715521662486,99.20105329312202,97.84623865695795,93.97103078180714,93.85148971355098,89.73720872611848,90.006183344046,94.41931651635242,95.55498755470788,101.3329185906259,106.71236591630611,108.81434149956432,110.56763512351596,115.62830938306176,114.06428184140145,109.98985082684467,113.36694430599623,111.09561166101138,109.44193334092397,111.29486361403835,110.876463821593,110.35843221210875,109.12316205613479,109.09328042341686,118.74639502927138,117.381600714516,121.28669107495446,119.4536976007554,113.3270934537548,115.94708471655674,114.86123862682628,114.74169596107255,121.66524054058907,118.9356713917472,117.87971241025096,119.77247596556926,116.38541301065281,112.82901219898072,116.25589979286704,116.75400619942185,115.58845188931065,117.4812338494604,115.80763073058282,115.9570562896207,117.71036020984623,122.35262038815891,126.89527141561695,125.65002451728778,128.47921543538982,130.6608814097997,126.78567565586323,130.46165946239498,132.93221288709242,134.4563944405672,135.66175068163002,135.29318543417637,131.98583606708118,135.37287733523033,138.75992736457613,141.15081204125124,140.6825993273756,143.8505128583736,147.6758861986927,148.8414294536851,147.38698396924548,147.46668102463244,182.68216294049705,182.77180715711185,185.82018718972253,184.87379929260254,189.2769855892074,185.4216992476298,175.67891433251225,177.54180541167653,176.4858486350944,175.74863516884673,172.09263139601106,169.57224098698535,173.64668063012311,170.41899821258707,171.3454891003514,167.9982670094068,171.22594348904886,171.2458367937851,173.92561669305408,171.72403238722984,178.23913049815516,187.28459004196043,188.2807649523691,182.17411366167204,185.64086659569344,180.32118095366457,177.28280933911373,186.86618169958317,192.2157451760238,197.50554527079098,199.79679145457104,197.724714843534,202.42673697578743,201.72940269640927,202.068117057304,204.39920036058615,204.030619872828,199.3883388900129,202.78536097523616,202.60606800261155,206.4513723527545,208.04527178631562,212.57795250274728,213.33506971905277,208.45373970949694,213.89294393948788,214.66001125018013,214.02243822011837,214.9090604025594,217.0508775017421,218.9536143681689,219.07315410316752,212.6576711161684,212.6676140149848,209.41007031164156,212.8668524441911,210.01775347876438,211.69135884694268,238.977131858934,238.10045940141413,237.7119480010553,242.25459911600498,238.55872324949704,235.16170588834774,231.3562418963103,230.53935808388553,230.579198288288,235.2712766029198,232.16313692720504,235.83911565793457,236.01841465652973,234.8927253894095,237.5426105961116,240.3817614287078,246.52826857881612,244.47611589600595,245.87078162436103,244.3466351514135,252.43571374880528,251.96749788473463,264.24064913792955,259.01060656453024,264.88814391695666,271.6224292903291,269.2714208060041,269.11203605810607,270.63615929140633,259.62822857991245,261.4812008063515,266.1533448830068,273.8339871021288,270.85537877228245,271.26377411782636,283.66642448995464,277.6693505420819,282.45102912598094,278.0179520067819,280.4387601725181,287.6013904434209,280.93687279665363,283.73616352571884,283.4173785321146,283.6763862080439,285.60898445906196,286.55538757024595,294.76399746651845,291.0681536143666,294.4252988753807,292.7815981709116,300.6017282376784,312.426569078308,310.603512103731,306.36969181220974,309.69698763258134,311.8387937534526,312.3070018838946,303.4109920093495,294.6544502126307,294.06668760050235,300.0438629562491,323.88280849410876,315.67414504687366,322.4582305955485,316.3316248130718,316.78988262320485,308.75062543158367,313.7614608490687,312.03806237651264,313.20359933556495,311.6893483448269,306.7681477071311,301.41861067408166,299.8346457133295,304.97502206063155,299.05761846630656,291.9348277942092,277.9681767320749,282.371376913228,291.43672994689734,287.4021228822103,297.36406874719034,285.0411511311885,286.90404700123224,287.4818232656782,296.03915029590354,294.67435381766074,298.230778937502,295.88971843984535,300.56186759890255,296.8659835233491,298.08133406448104,300.26299711938015,305.1642970010691,301.20937142436117,305.57272288999366,310.4241929278544,297.05528752410436,301.3289478180409,303.88916474675915,294.5747601529643,298.16099749907136,294.51498912452007,296.5272554664833,299.3067041037911,297.80239804800976,306.21029442290103,301.58794429882886,303.1021731117906,297.59326564467193,303.47073218663917,300.29289252026376,311.3108127668467,317.90558411773225,321.78081633758194,326.75183634082794,322.29881824176135,317.42742893227734,316.96916932809273,320.16698731962435,318.66276319829853,312.94459301258905,308.3222162830386,315.57454054181323,308.82032591139335,293.87743522806903,293.3593922624319,297.9518481394076,302.1557499213808,300.7013533210004,316.09253572689846,311.3606148291629,314.77760474839,315.85346871880904,316.9293973651803,318.20449530704985,318.7225053674266,324.9587046410309,333.26695885797955,336.6440149088127,328.116608684554,329.0032362244676,333.61561448702196,337.0425007227325,337.9191682073353,338.8356652210929,334.9007097071492,332.13125778806415,338.39737094150405,330.62704292772753,324.24141539571593,316.0825932565716,317.7661731115653,320.70490602969704,316.56078430288767,321.8605208304549,328.14646123889196,323.3647637288815,332.6592712912048,332.5795962405077,330.72663453811526,336.19577979232724,344.2649243182355,347.32322874193824,351.63676183984126,354.2268652725796,353.63913112122106,354.7150408206543,358.33120480917404,357.62389480245247,349.9830865162906,343.66721813563737,343.1890472206602,345.6695403534004,353.35027401392244,355.0437145797441,358.7994190594283,370.7139053766167,368.75140159107906,372.22809228321756,364.9060705610555,370.07631202431554,377.55773627942625,386.4737131071769,383.1563819718862,388.5159084294594,388.6852821328243,392.8493595968491,393.4869051476428,402.0541940628019,387.5196885852341,392.4409101302402,457.85104547308083,468.09190134825633,462.2342778467363,456.25711750265236,466.53788709604834,471.15022162626246,466.4083414662073,455.13141666051735,466.1493262626268,473.4713769246856,476.29061035612744,467.93252964090965,465.21782823708315,478.9200883885395,486.70864764249717,482.1412107369271,478.6608493540087,483.66701476706055,487.09760125117754,490.7574380227447,501.6175479595631,493.6395420956379,496.2623079349238,501.8967723955973,512.7767915090476,495.64399319559266,491.9043421088278,494.02847931297975,498.8850950832054,487.6659788635188,490.55803236870526,486.8283017669424,498.1271715899645,513.2953820823078,505.60654769094856,504.39988805944944,503.74169445106367,497.92770610698483,491.48544780141845,485.86095449988574,483.7667551182063,497.55872706072597,515.0006307036361,515.439388045014,527.8252761921575,520.7946772560042,507.8902659720688,519.6777533793505,516.3270311463515,515.2998333066029,496.74095468824316,501.7172779535386,498.44629872495153,501.4180909852817,488.3740050762476,489.89983501684435,506.66362655985995,420.2418034096759,440.2466982561305,438.3518665599465,429.8652877727225,427.42204968812496,437.63387365717415,444.7043783000628,454.32786875946704,465.0084720600217,462.2261212061843,468.70822552760484,475.7787428964639,471.4506871426977,462.09642734216504,473.6745544520464,473.6944760560221,469.5359578200446,468.6583871866377,465.8361434698256,466.58407271694114,471.58033983417823,466.33476708315254,475.2701356697819,473.3554376300837,470.37365465582303,464.51976813760433,469.56586003819484,475.6889983677552,483.1185465412948,491.6250990798411,494.54703740728706,492.50265879963933,498.78537987063237,512.5773066023279,504.32009904500313,501.7662047936306,500.78792648080076,503.6728174607218,501.11733141699733,502.5648032467386,498.32227450510305,496.1760460963113,505.7591484551514,513.345762675726,516.2407234913114,504.0621472889219,499.8795336071508,505.47967026400573,510.7004435956451,541.3963393602018,532.8115217100899,529.8566501859987,529.9565731964901,496.88482516258756,497.753255834621,500.6182353165117,478.32748890233796,474.1648246132329,475.22296323213175,485.7244642271597,488.9787213991181,471.4795511350415,462.44544906299063,463.3838324436564,469.05382518347886,466.1788783098484,470.19181855359017,520.083950441522,488.14018098484985,450.5564161536223,478.15778839988604,502.24537033145316,496.62527045629236,506.8172797160644,515.9512198702542,519.0956865494239,527.1315032782409,530.854955645074,530.9647789453869,525.9436295161199,527.4209796933175,526.2231294111205,536.0557825742578,535.9759548140944,526.6723223880106,518.0674717264212,516.7597877748765,518.1373345139735,520.4332793155028,518.726317716563,505.1801848565831,510.82028599103717,520.9624005532694,505.2700215548743,507.26650495103047,506.1185214716629,516.1408274194697,519.4251278847123,524.1172127067206,537.1666930097264,536.6371228680351,549.5567118260615,559.5486344803471,569.0410025939483,566.2232520887292,563.5953525955609,575.265980085071,569.640491844112,567.2424677117614,577.5141638836731,574.3966631929802,569.6904698692135,583.2595352414568,597.7378250756824,589.2147372774183,593.5112332153118,587.0964117473287,584.3586796276534,593.7410167185426,589.6843036586223,580.931403835105,582.8598932908519,580.6316444752367,575.5657660455028,573.8271446016755,579.5025030116825,566.6728872134042,573.4674084728663,581.5309014773494,579.6824570250664,600.4955916647551,584.5285013352179,567.1525303872367,563.6453148058769,566.8427577068867,562.2964360130583,576.4250827660793,591.0632294019905,585.8873824891895,588.065605158264,582.1404134944723,576.5349800009285,570.7595614845304,556.5910118841139,551.4152148138388,562.4762696970146,569.0609794569406,563.0958111453639,561.6469571351098,565.5437970415496,574.4266886217266,568.5413971962214,577.0345718134193,594.520463013781,612.4659929347591,616.5826646645681,609.6082467951667,623.4171345099019,617.0622705435762,622.867550372131,630.9910048638284,626.7144335100988,629.97998046875,626.1699829101562,621.0,610.3900146484375,590.5800170898438],\"x\":[\"2012-05-18T00:00:00-04:00\",\"2012-05-21T00:00:00-04:00\",\"2012-05-22T00:00:00-04:00\",\"2012-05-23T00:00:00-04:00\",\"2012-05-24T00:00:00-04:00\",\"2012-05-25T00:00:00-04:00\",\"2012-05-29T00:00:00-04:00\",\"2012-05-30T00:00:00-04:00\",\"2012-05-31T00:00:00-04:00\",\"2012-06-01T00:00:00-04:00\",\"2012-06-04T00:00:00-04:00\",\"2012-06-05T00:00:00-04:00\",\"2012-06-06T00:00:00-04:00\",\"2012-06-07T00:00:00-04:00\",\"2012-06-08T00:00:00-04:00\",\"2012-06-11T00:00:00-04:00\",\"2012-06-12T00:00:00-04:00\",\"2012-06-13T00:00:00-04:00\",\"2012-06-14T00:00:00-04:00\",\"2012-06-15T00:00:00-04:00\",\"2012-06-18T00:00:00-04:00\",\"2012-06-19T00:00:00-04:00\",\"2012-06-20T00:00:00-04:00\",\"2012-06-21T00:00:00-04:00\",\"2012-06-22T00:00:00-04:00\",\"2012-06-25T00:00:00-04:00\",\"2012-06-26T00:00:00-04:00\",\"2012-06-27T00:00:00-04:00\",\"2012-06-28T00:00:00-04:00\",\"2012-06-29T00:00:00-04:00\",\"2012-07-02T00:00:00-04:00\",\"2012-07-03T00:00:00-04:00\",\"2012-07-05T00:00:00-04:00\",\"2012-07-06T00:00:00-04:00\",\"2012-07-09T00:00:00-04:00\",\"2012-07-10T00:00:00-04:00\",\"2012-07-11T00:00:00-04:00\",\"2012-07-12T00:00:00-04:00\",\"2012-07-13T00:00:00-04:00\",\"2012-07-16T00:00:00-04:00\",\"2012-07-17T00:00:00-04:00\",\"2012-07-18T00:00:00-04:00\",\"2012-07-19T00:00:00-04:00\",\"2012-07-20T00:00:00-04:00\",\"2012-07-23T00:00:00-04:00\",\"2012-07-24T00:00:00-04:00\",\"2012-07-25T00:00:00-04:00\",\"2012-07-26T00:00:00-04:00\",\"2012-07-27T00:00:00-04:00\",\"2012-07-30T00:00:00-04:00\",\"2012-07-31T00:00:00-04:00\",\"2012-08-01T00:00:00-04:00\",\"2012-08-02T00:00:00-04:00\",\"2012-08-03T00:00:00-04:00\",\"2012-08-06T00:00:00-04:00\",\"2012-08-07T00:00:00-04:00\",\"2012-08-08T00:00:00-04:00\",\"2012-08-09T00:00:00-04:00\",\"2012-08-10T00:00:00-04:00\",\"2012-08-13T00:00:00-04:00\",\"2012-08-14T00:00:00-04:00\",\"2012-08-15T00:00:00-04:00\",\"2012-08-16T00:00:00-04:00\",\"2012-08-17T00:00:00-04:00\",\"2012-08-20T00:00:00-04:00\",\"2012-08-21T00:00:00-04:00\",\"2012-08-22T00:00:00-04:00\",\"2012-08-23T00:00:00-04:00\",\"2012-08-24T00:00:00-04:00\",\"2012-08-27T00:00:00-04:00\",\"2012-08-28T00:00:00-04:00\",\"2012-08-29T00:00:00-04:00\",\"2012-08-30T00:00:00-04:00\",\"2012-08-31T00:00:00-04:00\",\"2012-09-04T00:00:00-04:00\",\"2012-09-05T00:00:00-04:00\",\"2012-09-06T00:00:00-04:00\",\"2012-09-07T00:00:00-04:00\",\"2012-09-10T00:00:00-04:00\",\"2012-09-11T00:00:00-04:00\",\"2012-09-12T00:00:00-04:00\",\"2012-09-13T00:00:00-04:00\",\"2012-09-14T00:00:00-04:00\",\"2012-09-17T00:00:00-04:00\",\"2012-09-18T00:00:00-04:00\",\"2012-09-19T00:00:00-04:00\",\"2012-09-20T00:00:00-04:00\",\"2012-09-21T00:00:00-04:00\",\"2012-09-24T00:00:00-04:00\",\"2012-09-25T00:00:00-04:00\",\"2012-09-26T00:00:00-04:00\",\"2012-09-27T00:00:00-04:00\",\"2012-09-28T00:00:00-04:00\",\"2012-10-01T00:00:00-04:00\",\"2012-10-02T00:00:00-04:00\",\"2012-10-03T00:00:00-04:00\",\"2012-10-04T00:00:00-04:00\",\"2012-10-05T00:00:00-04:00\",\"2012-10-08T00:00:00-04:00\",\"2012-10-09T00:00:00-04:00\",\"2012-10-10T00:00:00-04:00\",\"2012-10-11T00:00:00-04:00\",\"2012-10-12T00:00:00-04:00\",\"2012-10-15T00:00:00-04:00\",\"2012-10-16T00:00:00-04:00\",\"2012-10-17T00:00:00-04:00\",\"2012-10-18T00:00:00-04:00\",\"2012-10-19T00:00:00-04:00\",\"2012-10-22T00:00:00-04:00\",\"2012-10-23T00:00:00-04:00\",\"2012-10-24T00:00:00-04:00\",\"2012-10-25T00:00:00-04:00\",\"2012-10-26T00:00:00-04:00\",\"2012-10-31T00:00:00-04:00\",\"2012-11-01T00:00:00-04:00\",\"2012-11-02T00:00:00-04:00\",\"2012-11-05T00:00:00-05:00\",\"2012-11-06T00:00:00-05:00\",\"2012-11-07T00:00:00-05:00\",\"2012-11-08T00:00:00-05:00\",\"2012-11-09T00:00:00-05:00\",\"2012-11-12T00:00:00-05:00\",\"2012-11-13T00:00:00-05:00\",\"2012-11-14T00:00:00-05:00\",\"2012-11-15T00:00:00-05:00\",\"2012-11-16T00:00:00-05:00\",\"2012-11-19T00:00:00-05:00\",\"2012-11-20T00:00:00-05:00\",\"2012-11-21T00:00:00-05:00\",\"2012-11-23T00:00:00-05:00\",\"2012-11-26T00:00:00-05:00\",\"2012-11-27T00:00:00-05:00\",\"2012-11-28T00:00:00-05:00\",\"2012-11-29T00:00:00-05:00\",\"2012-11-30T00:00:00-05:00\",\"2012-12-03T00:00:00-05:00\",\"2012-12-04T00:00:00-05:00\",\"2012-12-05T00:00:00-05:00\",\"2012-12-06T00:00:00-05:00\",\"2012-12-07T00:00:00-05:00\",\"2012-12-10T00:00:00-05:00\",\"2012-12-11T00:00:00-05:00\",\"2012-12-12T00:00:00-05:00\",\"2012-12-13T00:00:00-05:00\",\"2012-12-14T00:00:00-05:00\",\"2012-12-17T00:00:00-05:00\",\"2012-12-18T00:00:00-05:00\",\"2012-12-19T00:00:00-05:00\",\"2012-12-20T00:00:00-05:00\",\"2012-12-21T00:00:00-05:00\",\"2012-12-24T00:00:00-05:00\",\"2012-12-26T00:00:00-05:00\",\"2012-12-27T00:00:00-05:00\",\"2012-12-28T00:00:00-05:00\",\"2012-12-31T00:00:00-05:00\",\"2013-01-02T00:00:00-05:00\",\"2013-01-03T00:00:00-05:00\",\"2013-01-04T00:00:00-05:00\",\"2013-01-07T00:00:00-05:00\",\"2013-01-08T00:00:00-05:00\",\"2013-01-09T00:00:00-05:00\",\"2013-01-10T00:00:00-05:00\",\"2013-01-11T00:00:00-05:00\",\"2013-01-14T00:00:00-05:00\",\"2013-01-15T00:00:00-05:00\",\"2013-01-16T00:00:00-05:00\",\"2013-01-17T00:00:00-05:00\",\"2013-01-18T00:00:00-05:00\",\"2013-01-22T00:00:00-05:00\",\"2013-01-23T00:00:00-05:00\",\"2013-01-24T00:00:00-05:00\",\"2013-01-25T00:00:00-05:00\",\"2013-01-28T00:00:00-05:00\",\"2013-01-29T00:00:00-05:00\",\"2013-01-30T00:00:00-05:00\",\"2013-01-31T00:00:00-05:00\",\"2013-02-01T00:00:00-05:00\",\"2013-02-04T00:00:00-05:00\",\"2013-02-05T00:00:00-05:00\",\"2013-02-06T00:00:00-05:00\",\"2013-02-07T00:00:00-05:00\",\"2013-02-08T00:00:00-05:00\",\"2013-02-11T00:00:00-05:00\",\"2013-02-12T00:00:00-05:00\",\"2013-02-13T00:00:00-05:00\",\"2013-02-14T00:00:00-05:00\",\"2013-02-15T00:00:00-05:00\",\"2013-02-19T00:00:00-05:00\",\"2013-02-20T00:00:00-05:00\",\"2013-02-21T00:00:00-05:00\",\"2013-02-22T00:00:00-05:00\",\"2013-02-25T00:00:00-05:00\",\"2013-02-26T00:00:00-05:00\",\"2013-02-27T00:00:00-05:00\",\"2013-02-28T00:00:00-05:00\",\"2013-03-01T00:00:00-05:00\",\"2013-03-04T00:00:00-05:00\",\"2013-03-05T00:00:00-05:00\",\"2013-03-06T00:00:00-05:00\",\"2013-03-07T00:00:00-05:00\",\"2013-03-08T00:00:00-05:00\",\"2013-03-11T00:00:00-04:00\",\"2013-03-12T00:00:00-04:00\",\"2013-03-13T00:00:00-04:00\",\"2013-03-14T00:00:00-04:00\",\"2013-03-15T00:00:00-04:00\",\"2013-03-18T00:00:00-04:00\",\"2013-03-19T00:00:00-04:00\",\"2013-03-20T00:00:00-04:00\",\"2013-03-21T00:00:00-04:00\",\"2013-03-22T00:00:00-04:00\",\"2013-03-25T00:00:00-04:00\",\"2013-03-26T00:00:00-04:00\",\"2013-03-27T00:00:00-04:00\",\"2013-03-28T00:00:00-04:00\",\"2013-04-01T00:00:00-04:00\",\"2013-04-02T00:00:00-04:00\",\"2013-04-03T00:00:00-04:00\",\"2013-04-04T00:00:00-04:00\",\"2013-04-05T00:00:00-04:00\",\"2013-04-08T00:00:00-04:00\",\"2013-04-09T00:00:00-04:00\",\"2013-04-10T00:00:00-04:00\",\"2013-04-11T00:00:00-04:00\",\"2013-04-12T00:00:00-04:00\",\"2013-04-15T00:00:00-04:00\",\"2013-04-16T00:00:00-04:00\",\"2013-04-17T00:00:00-04:00\",\"2013-04-18T00:00:00-04:00\",\"2013-04-19T00:00:00-04:00\",\"2013-04-22T00:00:00-04:00\",\"2013-04-23T00:00:00-04:00\",\"2013-04-24T00:00:00-04:00\",\"2013-04-25T00:00:00-04:00\",\"2013-04-26T00:00:00-04:00\",\"2013-04-29T00:00:00-04:00\",\"2013-04-30T00:00:00-04:00\",\"2013-05-01T00:00:00-04:00\",\"2013-05-02T00:00:00-04:00\",\"2013-05-03T00:00:00-04:00\",\"2013-05-06T00:00:00-04:00\",\"2013-05-07T00:00:00-04:00\",\"2013-05-08T00:00:00-04:00\",\"2013-05-09T00:00:00-04:00\",\"2013-05-10T00:00:00-04:00\",\"2013-05-13T00:00:00-04:00\",\"2013-05-14T00:00:00-04:00\",\"2013-05-15T00:00:00-04:00\",\"2013-05-16T00:00:00-04:00\",\"2013-05-17T00:00:00-04:00\",\"2013-05-20T00:00:00-04:00\",\"2013-05-21T00:00:00-04:00\",\"2013-05-22T00:00:00-04:00\",\"2013-05-23T00:00:00-04:00\",\"2013-05-24T00:00:00-04:00\",\"2013-05-28T00:00:00-04:00\",\"2013-05-29T00:00:00-04:00\",\"2013-05-30T00:00:00-04:00\",\"2013-05-31T00:00:00-04:00\",\"2013-06-03T00:00:00-04:00\",\"2013-06-04T00:00:00-04:00\",\"2013-06-05T00:00:00-04:00\",\"2013-06-06T00:00:00-04:00\",\"2013-06-07T00:00:00-04:00\",\"2013-06-10T00:00:00-04:00\",\"2013-06-11T00:00:00-04:00\",\"2013-06-12T00:00:00-04:00\",\"2013-06-13T00:00:00-04:00\",\"2013-06-14T00:00:00-04:00\",\"2013-06-17T00:00:00-04:00\",\"2013-06-18T00:00:00-04:00\",\"2013-06-19T00:00:00-04:00\",\"2013-06-20T00:00:00-04:00\",\"2013-06-21T00:00:00-04:00\",\"2013-06-24T00:00:00-04:00\",\"2013-06-25T00:00:00-04:00\",\"2013-06-26T00:00:00-04:00\",\"2013-06-27T00:00:00-04:00\",\"2013-06-28T00:00:00-04:00\",\"2013-07-01T00:00:00-04:00\",\"2013-07-02T00:00:00-04:00\",\"2013-07-03T00:00:00-04:00\",\"2013-07-05T00:00:00-04:00\",\"2013-07-08T00:00:00-04:00\",\"2013-07-09T00:00:00-04:00\",\"2013-07-10T00:00:00-04:00\",\"2013-07-11T00:00:00-04:00\",\"2013-07-12T00:00:00-04:00\",\"2013-07-15T00:00:00-04:00\",\"2013-07-16T00:00:00-04:00\",\"2013-07-17T00:00:00-04:00\",\"2013-07-18T00:00:00-04:00\",\"2013-07-19T00:00:00-04:00\",\"2013-07-22T00:00:00-04:00\",\"2013-07-23T00:00:00-04:00\",\"2013-07-24T00:00:00-04:00\",\"2013-07-25T00:00:00-04:00\",\"2013-07-26T00:00:00-04:00\",\"2013-07-29T00:00:00-04:00\",\"2013-07-30T00:00:00-04:00\",\"2013-07-31T00:00:00-04:00\",\"2013-08-01T00:00:00-04:00\",\"2013-08-02T00:00:00-04:00\",\"2013-08-05T00:00:00-04:00\",\"2013-08-06T00:00:00-04:00\",\"2013-08-07T00:00:00-04:00\",\"2013-08-08T00:00:00-04:00\",\"2013-08-09T00:00:00-04:00\",\"2013-08-12T00:00:00-04:00\",\"2013-08-13T00:00:00-04:00\",\"2013-08-14T00:00:00-04:00\",\"2013-08-15T00:00:00-04:00\",\"2013-08-16T00:00:00-04:00\",\"2013-08-19T00:00:00-04:00\",\"2013-08-20T00:00:00-04:00\",\"2013-08-21T00:00:00-04:00\",\"2013-08-22T00:00:00-04:00\",\"2013-08-23T00:00:00-04:00\",\"2013-08-26T00:00:00-04:00\",\"2013-08-27T00:00:00-04:00\",\"2013-08-28T00:00:00-04:00\",\"2013-08-29T00:00:00-04:00\",\"2013-08-30T00:00:00-04:00\",\"2013-09-03T00:00:00-04:00\",\"2013-09-04T00:00:00-04:00\",\"2013-09-05T00:00:00-04:00\",\"2013-09-06T00:00:00-04:00\",\"2013-09-09T00:00:00-04:00\",\"2013-09-10T00:00:00-04:00\",\"2013-09-11T00:00:00-04:00\",\"2013-09-12T00:00:00-04:00\",\"2013-09-13T00:00:00-04:00\",\"2013-09-16T00:00:00-04:00\",\"2013-09-17T00:00:00-04:00\",\"2013-09-18T00:00:00-04:00\",\"2013-09-19T00:00:00-04:00\",\"2013-09-20T00:00:00-04:00\",\"2013-09-23T00:00:00-04:00\",\"2013-09-24T00:00:00-04:00\",\"2013-09-25T00:00:00-04:00\",\"2013-09-26T00:00:00-04:00\",\"2013-09-27T00:00:00-04:00\",\"2013-09-30T00:00:00-04:00\",\"2013-10-01T00:00:00-04:00\",\"2013-10-02T00:00:00-04:00\",\"2013-10-03T00:00:00-04:00\",\"2013-10-04T00:00:00-04:00\",\"2013-10-07T00:00:00-04:00\",\"2013-10-08T00:00:00-04:00\",\"2013-10-09T00:00:00-04:00\",\"2013-10-10T00:00:00-04:00\",\"2013-10-11T00:00:00-04:00\",\"2013-10-14T00:00:00-04:00\",\"2013-10-15T00:00:00-04:00\",\"2013-10-16T00:00:00-04:00\",\"2013-10-17T00:00:00-04:00\",\"2013-10-18T00:00:00-04:00\",\"2013-10-21T00:00:00-04:00\",\"2013-10-22T00:00:00-04:00\",\"2013-10-23T00:00:00-04:00\",\"2013-10-24T00:00:00-04:00\",\"2013-10-25T00:00:00-04:00\",\"2013-10-28T00:00:00-04:00\",\"2013-10-29T00:00:00-04:00\",\"2013-10-30T00:00:00-04:00\",\"2013-10-31T00:00:00-04:00\",\"2013-11-01T00:00:00-04:00\",\"2013-11-04T00:00:00-05:00\",\"2013-11-05T00:00:00-05:00\",\"2013-11-06T00:00:00-05:00\",\"2013-11-07T00:00:00-05:00\",\"2013-11-08T00:00:00-05:00\",\"2013-11-11T00:00:00-05:00\",\"2013-11-12T00:00:00-05:00\",\"2013-11-13T00:00:00-05:00\",\"2013-11-14T00:00:00-05:00\",\"2013-11-15T00:00:00-05:00\",\"2013-11-18T00:00:00-05:00\",\"2013-11-19T00:00:00-05:00\",\"2013-11-20T00:00:00-05:00\",\"2013-11-21T00:00:00-05:00\",\"2013-11-22T00:00:00-05:00\",\"2013-11-25T00:00:00-05:00\",\"2013-11-26T00:00:00-05:00\",\"2013-11-27T00:00:00-05:00\",\"2013-11-29T00:00:00-05:00\",\"2013-12-02T00:00:00-05:00\",\"2013-12-03T00:00:00-05:00\",\"2013-12-04T00:00:00-05:00\",\"2013-12-05T00:00:00-05:00\",\"2013-12-06T00:00:00-05:00\",\"2013-12-09T00:00:00-05:00\",\"2013-12-10T00:00:00-05:00\",\"2013-12-11T00:00:00-05:00\",\"2013-12-12T00:00:00-05:00\",\"2013-12-13T00:00:00-05:00\",\"2013-12-16T00:00:00-05:00\",\"2013-12-17T00:00:00-05:00\",\"2013-12-18T00:00:00-05:00\",\"2013-12-19T00:00:00-05:00\",\"2013-12-20T00:00:00-05:00\",\"2013-12-23T00:00:00-05:00\",\"2013-12-24T00:00:00-05:00\",\"2013-12-26T00:00:00-05:00\",\"2013-12-27T00:00:00-05:00\",\"2013-12-30T00:00:00-05:00\",\"2013-12-31T00:00:00-05:00\",\"2014-01-02T00:00:00-05:00\",\"2014-01-03T00:00:00-05:00\",\"2014-01-06T00:00:00-05:00\",\"2014-01-07T00:00:00-05:00\",\"2014-01-08T00:00:00-05:00\",\"2014-01-09T00:00:00-05:00\",\"2014-01-10T00:00:00-05:00\",\"2014-01-13T00:00:00-05:00\",\"2014-01-14T00:00:00-05:00\",\"2014-01-15T00:00:00-05:00\",\"2014-01-16T00:00:00-05:00\",\"2014-01-17T00:00:00-05:00\",\"2014-01-21T00:00:00-05:00\",\"2014-01-22T00:00:00-05:00\",\"2014-01-23T00:00:00-05:00\",\"2014-01-24T00:00:00-05:00\",\"2014-01-27T00:00:00-05:00\",\"2014-01-28T00:00:00-05:00\",\"2014-01-29T00:00:00-05:00\",\"2014-01-30T00:00:00-05:00\",\"2014-01-31T00:00:00-05:00\",\"2014-02-03T00:00:00-05:00\",\"2014-02-04T00:00:00-05:00\",\"2014-02-05T00:00:00-05:00\",\"2014-02-06T00:00:00-05:00\",\"2014-02-07T00:00:00-05:00\",\"2014-02-10T00:00:00-05:00\",\"2014-02-11T00:00:00-05:00\",\"2014-02-12T00:00:00-05:00\",\"2014-02-13T00:00:00-05:00\",\"2014-02-14T00:00:00-05:00\",\"2014-02-18T00:00:00-05:00\",\"2014-02-19T00:00:00-05:00\",\"2014-02-20T00:00:00-05:00\",\"2014-02-21T00:00:00-05:00\",\"2014-02-24T00:00:00-05:00\",\"2014-02-25T00:00:00-05:00\",\"2014-02-26T00:00:00-05:00\",\"2014-02-27T00:00:00-05:00\",\"2014-02-28T00:00:00-05:00\",\"2014-03-03T00:00:00-05:00\",\"2014-03-04T00:00:00-05:00\",\"2014-03-05T00:00:00-05:00\",\"2014-03-06T00:00:00-05:00\",\"2014-03-07T00:00:00-05:00\",\"2014-03-10T00:00:00-04:00\",\"2014-03-11T00:00:00-04:00\",\"2014-03-12T00:00:00-04:00\",\"2014-03-13T00:00:00-04:00\",\"2014-03-14T00:00:00-04:00\",\"2014-03-17T00:00:00-04:00\",\"2014-03-18T00:00:00-04:00\",\"2014-03-19T00:00:00-04:00\",\"2014-03-20T00:00:00-04:00\",\"2014-03-21T00:00:00-04:00\",\"2014-03-24T00:00:00-04:00\",\"2014-03-25T00:00:00-04:00\",\"2014-03-26T00:00:00-04:00\",\"2014-03-27T00:00:00-04:00\",\"2014-03-28T00:00:00-04:00\",\"2014-03-31T00:00:00-04:00\",\"2014-04-01T00:00:00-04:00\",\"2014-04-02T00:00:00-04:00\",\"2014-04-03T00:00:00-04:00\",\"2014-04-04T00:00:00-04:00\",\"2014-04-07T00:00:00-04:00\",\"2014-04-08T00:00:00-04:00\",\"2014-04-09T00:00:00-04:00\",\"2014-04-10T00:00:00-04:00\",\"2014-04-11T00:00:00-04:00\",\"2014-04-14T00:00:00-04:00\",\"2014-04-15T00:00:00-04:00\",\"2014-04-16T00:00:00-04:00\",\"2014-04-17T00:00:00-04:00\",\"2014-04-21T00:00:00-04:00\",\"2014-04-22T00:00:00-04:00\",\"2014-04-23T00:00:00-04:00\",\"2014-04-24T00:00:00-04:00\",\"2014-04-25T00:00:00-04:00\",\"2014-04-28T00:00:00-04:00\",\"2014-04-29T00:00:00-04:00\",\"2014-04-30T00:00:00-04:00\",\"2014-05-01T00:00:00-04:00\",\"2014-05-02T00:00:00-04:00\",\"2014-05-05T00:00:00-04:00\",\"2014-05-06T00:00:00-04:00\",\"2014-05-07T00:00:00-04:00\",\"2014-05-08T00:00:00-04:00\",\"2014-05-09T00:00:00-04:00\",\"2014-05-12T00:00:00-04:00\",\"2014-05-13T00:00:00-04:00\",\"2014-05-14T00:00:00-04:00\",\"2014-05-15T00:00:00-04:00\",\"2014-05-16T00:00:00-04:00\",\"2014-05-19T00:00:00-04:00\",\"2014-05-20T00:00:00-04:00\",\"2014-05-21T00:00:00-04:00\",\"2014-05-22T00:00:00-04:00\",\"2014-05-23T00:00:00-04:00\",\"2014-05-27T00:00:00-04:00\",\"2014-05-28T00:00:00-04:00\",\"2014-05-29T00:00:00-04:00\",\"2014-05-30T00:00:00-04:00\",\"2014-06-02T00:00:00-04:00\",\"2014-06-03T00:00:00-04:00\",\"2014-06-04T00:00:00-04:00\",\"2014-06-05T00:00:00-04:00\",\"2014-06-06T00:00:00-04:00\",\"2014-06-09T00:00:00-04:00\",\"2014-06-10T00:00:00-04:00\",\"2014-06-11T00:00:00-04:00\",\"2014-06-12T00:00:00-04:00\",\"2014-06-13T00:00:00-04:00\",\"2014-06-16T00:00:00-04:00\",\"2014-06-17T00:00:00-04:00\",\"2014-06-18T00:00:00-04:00\",\"2014-06-19T00:00:00-04:00\",\"2014-06-20T00:00:00-04:00\",\"2014-06-23T00:00:00-04:00\",\"2014-06-24T00:00:00-04:00\",\"2014-06-25T00:00:00-04:00\",\"2014-06-26T00:00:00-04:00\",\"2014-06-27T00:00:00-04:00\",\"2014-06-30T00:00:00-04:00\",\"2014-07-01T00:00:00-04:00\",\"2014-07-02T00:00:00-04:00\",\"2014-07-03T00:00:00-04:00\",\"2014-07-07T00:00:00-04:00\",\"2014-07-08T00:00:00-04:00\",\"2014-07-09T00:00:00-04:00\",\"2014-07-10T00:00:00-04:00\",\"2014-07-11T00:00:00-04:00\",\"2014-07-14T00:00:00-04:00\",\"2014-07-15T00:00:00-04:00\",\"2014-07-16T00:00:00-04:00\",\"2014-07-17T00:00:00-04:00\",\"2014-07-18T00:00:00-04:00\",\"2014-07-21T00:00:00-04:00\",\"2014-07-22T00:00:00-04:00\",\"2014-07-23T00:00:00-04:00\",\"2014-07-24T00:00:00-04:00\",\"2014-07-25T00:00:00-04:00\",\"2014-07-28T00:00:00-04:00\",\"2014-07-29T00:00:00-04:00\",\"2014-07-30T00:00:00-04:00\",\"2014-07-31T00:00:00-04:00\",\"2014-08-01T00:00:00-04:00\",\"2014-08-04T00:00:00-04:00\",\"2014-08-05T00:00:00-04:00\",\"2014-08-06T00:00:00-04:00\",\"2014-08-07T00:00:00-04:00\",\"2014-08-08T00:00:00-04:00\",\"2014-08-11T00:00:00-04:00\",\"2014-08-12T00:00:00-04:00\",\"2014-08-13T00:00:00-04:00\",\"2014-08-14T00:00:00-04:00\",\"2014-08-15T00:00:00-04:00\",\"2014-08-18T00:00:00-04:00\",\"2014-08-19T00:00:00-04:00\",\"2014-08-20T00:00:00-04:00\",\"2014-08-21T00:00:00-04:00\",\"2014-08-22T00:00:00-04:00\",\"2014-08-25T00:00:00-04:00\",\"2014-08-26T00:00:00-04:00\",\"2014-08-27T00:00:00-04:00\",\"2014-08-28T00:00:00-04:00\",\"2014-08-29T00:00:00-04:00\",\"2014-09-02T00:00:00-04:00\",\"2014-09-03T00:00:00-04:00\",\"2014-09-04T00:00:00-04:00\",\"2014-09-05T00:00:00-04:00\",\"2014-09-08T00:00:00-04:00\",\"2014-09-09T00:00:00-04:00\",\"2014-09-10T00:00:00-04:00\",\"2014-09-11T00:00:00-04:00\",\"2014-09-12T00:00:00-04:00\",\"2014-09-15T00:00:00-04:00\",\"2014-09-16T00:00:00-04:00\",\"2014-09-17T00:00:00-04:00\",\"2014-09-18T00:00:00-04:00\",\"2014-09-19T00:00:00-04:00\",\"2014-09-22T00:00:00-04:00\",\"2014-09-23T00:00:00-04:00\",\"2014-09-24T00:00:00-04:00\",\"2014-09-25T00:00:00-04:00\",\"2014-09-26T00:00:00-04:00\",\"2014-09-29T00:00:00-04:00\",\"2014-09-30T00:00:00-04:00\",\"2014-10-01T00:00:00-04:00\",\"2014-10-02T00:00:00-04:00\",\"2014-10-03T00:00:00-04:00\",\"2014-10-06T00:00:00-04:00\",\"2014-10-07T00:00:00-04:00\",\"2014-10-08T00:00:00-04:00\",\"2014-10-09T00:00:00-04:00\",\"2014-10-10T00:00:00-04:00\",\"2014-10-13T00:00:00-04:00\",\"2014-10-14T00:00:00-04:00\",\"2014-10-15T00:00:00-04:00\",\"2014-10-16T00:00:00-04:00\",\"2014-10-17T00:00:00-04:00\",\"2014-10-20T00:00:00-04:00\",\"2014-10-21T00:00:00-04:00\",\"2014-10-22T00:00:00-04:00\",\"2014-10-23T00:00:00-04:00\",\"2014-10-24T00:00:00-04:00\",\"2014-10-27T00:00:00-04:00\",\"2014-10-28T00:00:00-04:00\",\"2014-10-29T00:00:00-04:00\",\"2014-10-30T00:00:00-04:00\",\"2014-10-31T00:00:00-04:00\",\"2014-11-03T00:00:00-05:00\",\"2014-11-04T00:00:00-05:00\",\"2014-11-05T00:00:00-05:00\",\"2014-11-06T00:00:00-05:00\",\"2014-11-07T00:00:00-05:00\",\"2014-11-10T00:00:00-05:00\",\"2014-11-11T00:00:00-05:00\",\"2014-11-12T00:00:00-05:00\",\"2014-11-13T00:00:00-05:00\",\"2014-11-14T00:00:00-05:00\",\"2014-11-17T00:00:00-05:00\",\"2014-11-18T00:00:00-05:00\",\"2014-11-19T00:00:00-05:00\",\"2014-11-20T00:00:00-05:00\",\"2014-11-21T00:00:00-05:00\",\"2014-11-24T00:00:00-05:00\",\"2014-11-25T00:00:00-05:00\",\"2014-11-26T00:00:00-05:00\",\"2014-11-28T00:00:00-05:00\",\"2014-12-01T00:00:00-05:00\",\"2014-12-02T00:00:00-05:00\",\"2014-12-03T00:00:00-05:00\",\"2014-12-04T00:00:00-05:00\",\"2014-12-05T00:00:00-05:00\",\"2014-12-08T00:00:00-05:00\",\"2014-12-09T00:00:00-05:00\",\"2014-12-10T00:00:00-05:00\",\"2014-12-11T00:00:00-05:00\",\"2014-12-12T00:00:00-05:00\",\"2014-12-15T00:00:00-05:00\",\"2014-12-16T00:00:00-05:00\",\"2014-12-17T00:00:00-05:00\",\"2014-12-18T00:00:00-05:00\",\"2014-12-19T00:00:00-05:00\",\"2014-12-22T00:00:00-05:00\",\"2014-12-23T00:00:00-05:00\",\"2014-12-24T00:00:00-05:00\",\"2014-12-26T00:00:00-05:00\",\"2014-12-29T00:00:00-05:00\",\"2014-12-30T00:00:00-05:00\",\"2014-12-31T00:00:00-05:00\",\"2015-01-02T00:00:00-05:00\",\"2015-01-05T00:00:00-05:00\",\"2015-01-06T00:00:00-05:00\",\"2015-01-07T00:00:00-05:00\",\"2015-01-08T00:00:00-05:00\",\"2015-01-09T00:00:00-05:00\",\"2015-01-12T00:00:00-05:00\",\"2015-01-13T00:00:00-05:00\",\"2015-01-14T00:00:00-05:00\",\"2015-01-15T00:00:00-05:00\",\"2015-01-16T00:00:00-05:00\",\"2015-01-20T00:00:00-05:00\",\"2015-01-21T00:00:00-05:00\",\"2015-01-22T00:00:00-05:00\",\"2015-01-23T00:00:00-05:00\",\"2015-01-26T00:00:00-05:00\",\"2015-01-27T00:00:00-05:00\",\"2015-01-28T00:00:00-05:00\",\"2015-01-29T00:00:00-05:00\",\"2015-01-30T00:00:00-05:00\",\"2015-02-02T00:00:00-05:00\",\"2015-02-03T00:00:00-05:00\",\"2015-02-04T00:00:00-05:00\",\"2015-02-05T00:00:00-05:00\",\"2015-02-06T00:00:00-05:00\",\"2015-02-09T00:00:00-05:00\",\"2015-02-10T00:00:00-05:00\",\"2015-02-11T00:00:00-05:00\",\"2015-02-12T00:00:00-05:00\",\"2015-02-13T00:00:00-05:00\",\"2015-02-17T00:00:00-05:00\",\"2015-02-18T00:00:00-05:00\",\"2015-02-19T00:00:00-05:00\",\"2015-02-20T00:00:00-05:00\",\"2015-02-23T00:00:00-05:00\",\"2015-02-24T00:00:00-05:00\",\"2015-02-25T00:00:00-05:00\",\"2015-02-26T00:00:00-05:00\",\"2015-02-27T00:00:00-05:00\",\"2015-03-02T00:00:00-05:00\",\"2015-03-03T00:00:00-05:00\",\"2015-03-04T00:00:00-05:00\",\"2015-03-05T00:00:00-05:00\",\"2015-03-06T00:00:00-05:00\",\"2015-03-09T00:00:00-04:00\",\"2015-03-10T00:00:00-04:00\",\"2015-03-11T00:00:00-04:00\",\"2015-03-12T00:00:00-04:00\",\"2015-03-13T00:00:00-04:00\",\"2015-03-16T00:00:00-04:00\",\"2015-03-17T00:00:00-04:00\",\"2015-03-18T00:00:00-04:00\",\"2015-03-19T00:00:00-04:00\",\"2015-03-20T00:00:00-04:00\",\"2015-03-23T00:00:00-04:00\",\"2015-03-24T00:00:00-04:00\",\"2015-03-25T00:00:00-04:00\",\"2015-03-26T00:00:00-04:00\",\"2015-03-27T00:00:00-04:00\",\"2015-03-30T00:00:00-04:00\",\"2015-03-31T00:00:00-04:00\",\"2015-04-01T00:00:00-04:00\",\"2015-04-02T00:00:00-04:00\",\"2015-04-06T00:00:00-04:00\",\"2015-04-07T00:00:00-04:00\",\"2015-04-08T00:00:00-04:00\",\"2015-04-09T00:00:00-04:00\",\"2015-04-10T00:00:00-04:00\",\"2015-04-13T00:00:00-04:00\",\"2015-04-14T00:00:00-04:00\",\"2015-04-15T00:00:00-04:00\",\"2015-04-16T00:00:00-04:00\",\"2015-04-17T00:00:00-04:00\",\"2015-04-20T00:00:00-04:00\",\"2015-04-21T00:00:00-04:00\",\"2015-04-22T00:00:00-04:00\",\"2015-04-23T00:00:00-04:00\",\"2015-04-24T00:00:00-04:00\",\"2015-04-27T00:00:00-04:00\",\"2015-04-28T00:00:00-04:00\",\"2015-04-29T00:00:00-04:00\",\"2015-04-30T00:00:00-04:00\",\"2015-05-01T00:00:00-04:00\",\"2015-05-04T00:00:00-04:00\",\"2015-05-05T00:00:00-04:00\",\"2015-05-06T00:00:00-04:00\",\"2015-05-07T00:00:00-04:00\",\"2015-05-08T00:00:00-04:00\",\"2015-05-11T00:00:00-04:00\",\"2015-05-12T00:00:00-04:00\",\"2015-05-13T00:00:00-04:00\",\"2015-05-14T00:00:00-04:00\",\"2015-05-15T00:00:00-04:00\",\"2015-05-18T00:00:00-04:00\",\"2015-05-19T00:00:00-04:00\",\"2015-05-20T00:00:00-04:00\",\"2015-05-21T00:00:00-04:00\",\"2015-05-22T00:00:00-04:00\",\"2015-05-26T00:00:00-04:00\",\"2015-05-27T00:00:00-04:00\",\"2015-05-28T00:00:00-04:00\",\"2015-05-29T00:00:00-04:00\",\"2015-06-01T00:00:00-04:00\",\"2015-06-02T00:00:00-04:00\",\"2015-06-03T00:00:00-04:00\",\"2015-06-04T00:00:00-04:00\",\"2015-06-05T00:00:00-04:00\",\"2015-06-08T00:00:00-04:00\",\"2015-06-09T00:00:00-04:00\",\"2015-06-10T00:00:00-04:00\",\"2015-06-11T00:00:00-04:00\",\"2015-06-12T00:00:00-04:00\",\"2015-06-15T00:00:00-04:00\",\"2015-06-16T00:00:00-04:00\",\"2015-06-17T00:00:00-04:00\",\"2015-06-18T00:00:00-04:00\",\"2015-06-19T00:00:00-04:00\",\"2015-06-22T00:00:00-04:00\",\"2015-06-23T00:00:00-04:00\",\"2015-06-24T00:00:00-04:00\",\"2015-06-25T00:00:00-04:00\",\"2015-06-26T00:00:00-04:00\",\"2015-06-29T00:00:00-04:00\",\"2015-06-30T00:00:00-04:00\",\"2015-07-01T00:00:00-04:00\",\"2015-07-02T00:00:00-04:00\",\"2015-07-06T00:00:00-04:00\",\"2015-07-07T00:00:00-04:00\",\"2015-07-08T00:00:00-04:00\",\"2015-07-09T00:00:00-04:00\",\"2015-07-10T00:00:00-04:00\",\"2015-07-13T00:00:00-04:00\",\"2015-07-14T00:00:00-04:00\",\"2015-07-15T00:00:00-04:00\",\"2015-07-16T00:00:00-04:00\",\"2015-07-17T00:00:00-04:00\",\"2015-07-20T00:00:00-04:00\",\"2015-07-21T00:00:00-04:00\",\"2015-07-22T00:00:00-04:00\",\"2015-07-23T00:00:00-04:00\",\"2015-07-24T00:00:00-04:00\",\"2015-07-27T00:00:00-04:00\",\"2015-07-28T00:00:00-04:00\",\"2015-07-29T00:00:00-04:00\",\"2015-07-30T00:00:00-04:00\",\"2015-07-31T00:00:00-04:00\",\"2015-08-03T00:00:00-04:00\",\"2015-08-04T00:00:00-04:00\",\"2015-08-05T00:00:00-04:00\",\"2015-08-06T00:00:00-04:00\",\"2015-08-07T00:00:00-04:00\",\"2015-08-10T00:00:00-04:00\",\"2015-08-11T00:00:00-04:00\",\"2015-08-12T00:00:00-04:00\",\"2015-08-13T00:00:00-04:00\",\"2015-08-14T00:00:00-04:00\",\"2015-08-17T00:00:00-04:00\",\"2015-08-18T00:00:00-04:00\",\"2015-08-19T00:00:00-04:00\",\"2015-08-20T00:00:00-04:00\",\"2015-08-21T00:00:00-04:00\",\"2015-08-24T00:00:00-04:00\",\"2015-08-25T00:00:00-04:00\",\"2015-08-26T00:00:00-04:00\",\"2015-08-27T00:00:00-04:00\",\"2015-08-28T00:00:00-04:00\",\"2015-08-31T00:00:00-04:00\",\"2015-09-01T00:00:00-04:00\",\"2015-09-02T00:00:00-04:00\",\"2015-09-03T00:00:00-04:00\",\"2015-09-04T00:00:00-04:00\",\"2015-09-08T00:00:00-04:00\",\"2015-09-09T00:00:00-04:00\",\"2015-09-10T00:00:00-04:00\",\"2015-09-11T00:00:00-04:00\",\"2015-09-14T00:00:00-04:00\",\"2015-09-15T00:00:00-04:00\",\"2015-09-16T00:00:00-04:00\",\"2015-09-17T00:00:00-04:00\",\"2015-09-18T00:00:00-04:00\",\"2015-09-21T00:00:00-04:00\",\"2015-09-22T00:00:00-04:00\",\"2015-09-23T00:00:00-04:00\",\"2015-09-24T00:00:00-04:00\",\"2015-09-25T00:00:00-04:00\",\"2015-09-28T00:00:00-04:00\",\"2015-09-29T00:00:00-04:00\",\"2015-09-30T00:00:00-04:00\",\"2015-10-01T00:00:00-04:00\",\"2015-10-02T00:00:00-04:00\",\"2015-10-05T00:00:00-04:00\",\"2015-10-06T00:00:00-04:00\",\"2015-10-07T00:00:00-04:00\",\"2015-10-08T00:00:00-04:00\",\"2015-10-09T00:00:00-04:00\",\"2015-10-12T00:00:00-04:00\",\"2015-10-13T00:00:00-04:00\",\"2015-10-14T00:00:00-04:00\",\"2015-10-15T00:00:00-04:00\",\"2015-10-16T00:00:00-04:00\",\"2015-10-19T00:00:00-04:00\",\"2015-10-20T00:00:00-04:00\",\"2015-10-21T00:00:00-04:00\",\"2015-10-22T00:00:00-04:00\",\"2015-10-23T00:00:00-04:00\",\"2015-10-26T00:00:00-04:00\",\"2015-10-27T00:00:00-04:00\",\"2015-10-28T00:00:00-04:00\",\"2015-10-29T00:00:00-04:00\",\"2015-10-30T00:00:00-04:00\",\"2015-11-02T00:00:00-05:00\",\"2015-11-03T00:00:00-05:00\",\"2015-11-04T00:00:00-05:00\",\"2015-11-05T00:00:00-05:00\",\"2015-11-06T00:00:00-05:00\",\"2015-11-09T00:00:00-05:00\",\"2015-11-10T00:00:00-05:00\",\"2015-11-11T00:00:00-05:00\",\"2015-11-12T00:00:00-05:00\",\"2015-11-13T00:00:00-05:00\",\"2015-11-16T00:00:00-05:00\",\"2015-11-17T00:00:00-05:00\",\"2015-11-18T00:00:00-05:00\",\"2015-11-19T00:00:00-05:00\",\"2015-11-20T00:00:00-05:00\",\"2015-11-23T00:00:00-05:00\",\"2015-11-24T00:00:00-05:00\",\"2015-11-25T00:00:00-05:00\",\"2015-11-27T00:00:00-05:00\",\"2015-11-30T00:00:00-05:00\",\"2015-12-01T00:00:00-05:00\",\"2015-12-02T00:00:00-05:00\",\"2015-12-03T00:00:00-05:00\",\"2015-12-04T00:00:00-05:00\",\"2015-12-07T00:00:00-05:00\",\"2015-12-08T00:00:00-05:00\",\"2015-12-09T00:00:00-05:00\",\"2015-12-10T00:00:00-05:00\",\"2015-12-11T00:00:00-05:00\",\"2015-12-14T00:00:00-05:00\",\"2015-12-15T00:00:00-05:00\",\"2015-12-16T00:00:00-05:00\",\"2015-12-17T00:00:00-05:00\",\"2015-12-18T00:00:00-05:00\",\"2015-12-21T00:00:00-05:00\",\"2015-12-22T00:00:00-05:00\",\"2015-12-23T00:00:00-05:00\",\"2015-12-24T00:00:00-05:00\",\"2015-12-28T00:00:00-05:00\",\"2015-12-29T00:00:00-05:00\",\"2015-12-30T00:00:00-05:00\",\"2015-12-31T00:00:00-05:00\",\"2016-01-04T00:00:00-05:00\",\"2016-01-05T00:00:00-05:00\",\"2016-01-06T00:00:00-05:00\",\"2016-01-07T00:00:00-05:00\",\"2016-01-08T00:00:00-05:00\",\"2016-01-11T00:00:00-05:00\",\"2016-01-12T00:00:00-05:00\",\"2016-01-13T00:00:00-05:00\",\"2016-01-14T00:00:00-05:00\",\"2016-01-15T00:00:00-05:00\",\"2016-01-19T00:00:00-05:00\",\"2016-01-20T00:00:00-05:00\",\"2016-01-21T00:00:00-05:00\",\"2016-01-22T00:00:00-05:00\",\"2016-01-25T00:00:00-05:00\",\"2016-01-26T00:00:00-05:00\",\"2016-01-27T00:00:00-05:00\",\"2016-01-28T00:00:00-05:00\",\"2016-01-29T00:00:00-05:00\",\"2016-02-01T00:00:00-05:00\",\"2016-02-02T00:00:00-05:00\",\"2016-02-03T00:00:00-05:00\",\"2016-02-04T00:00:00-05:00\",\"2016-02-05T00:00:00-05:00\",\"2016-02-08T00:00:00-05:00\",\"2016-02-09T00:00:00-05:00\",\"2016-02-10T00:00:00-05:00\",\"2016-02-11T00:00:00-05:00\",\"2016-02-12T00:00:00-05:00\",\"2016-02-16T00:00:00-05:00\",\"2016-02-17T00:00:00-05:00\",\"2016-02-18T00:00:00-05:00\",\"2016-02-19T00:00:00-05:00\",\"2016-02-22T00:00:00-05:00\",\"2016-02-23T00:00:00-05:00\",\"2016-02-24T00:00:00-05:00\",\"2016-02-25T00:00:00-05:00\",\"2016-02-26T00:00:00-05:00\",\"2016-02-29T00:00:00-05:00\",\"2016-03-01T00:00:00-05:00\",\"2016-03-02T00:00:00-05:00\",\"2016-03-03T00:00:00-05:00\",\"2016-03-04T00:00:00-05:00\",\"2016-03-07T00:00:00-05:00\",\"2016-03-08T00:00:00-05:00\",\"2016-03-09T00:00:00-05:00\",\"2016-03-10T00:00:00-05:00\",\"2016-03-11T00:00:00-05:00\",\"2016-03-14T00:00:00-04:00\",\"2016-03-15T00:00:00-04:00\",\"2016-03-16T00:00:00-04:00\",\"2016-03-17T00:00:00-04:00\",\"2016-03-18T00:00:00-04:00\",\"2016-03-21T00:00:00-04:00\",\"2016-03-22T00:00:00-04:00\",\"2016-03-23T00:00:00-04:00\",\"2016-03-24T00:00:00-04:00\",\"2016-03-28T00:00:00-04:00\",\"2016-03-29T00:00:00-04:00\",\"2016-03-30T00:00:00-04:00\",\"2016-03-31T00:00:00-04:00\",\"2016-04-01T00:00:00-04:00\",\"2016-04-04T00:00:00-04:00\",\"2016-04-05T00:00:00-04:00\",\"2016-04-06T00:00:00-04:00\",\"2016-04-07T00:00:00-04:00\",\"2016-04-08T00:00:00-04:00\",\"2016-04-11T00:00:00-04:00\",\"2016-04-12T00:00:00-04:00\",\"2016-04-13T00:00:00-04:00\",\"2016-04-14T00:00:00-04:00\",\"2016-04-15T00:00:00-04:00\",\"2016-04-18T00:00:00-04:00\",\"2016-04-19T00:00:00-04:00\",\"2016-04-20T00:00:00-04:00\",\"2016-04-21T00:00:00-04:00\",\"2016-04-22T00:00:00-04:00\",\"2016-04-25T00:00:00-04:00\",\"2016-04-26T00:00:00-04:00\",\"2016-04-27T00:00:00-04:00\",\"2016-04-28T00:00:00-04:00\",\"2016-04-29T00:00:00-04:00\",\"2016-05-02T00:00:00-04:00\",\"2016-05-03T00:00:00-04:00\",\"2016-05-04T00:00:00-04:00\",\"2016-05-05T00:00:00-04:00\",\"2016-05-06T00:00:00-04:00\",\"2016-05-09T00:00:00-04:00\",\"2016-05-10T00:00:00-04:00\",\"2016-05-11T00:00:00-04:00\",\"2016-05-12T00:00:00-04:00\",\"2016-05-13T00:00:00-04:00\",\"2016-05-16T00:00:00-04:00\",\"2016-05-17T00:00:00-04:00\",\"2016-05-18T00:00:00-04:00\",\"2016-05-19T00:00:00-04:00\",\"2016-05-20T00:00:00-04:00\",\"2016-05-23T00:00:00-04:00\",\"2016-05-24T00:00:00-04:00\",\"2016-05-25T00:00:00-04:00\",\"2016-05-26T00:00:00-04:00\",\"2016-05-27T00:00:00-04:00\",\"2016-05-31T00:00:00-04:00\",\"2016-06-01T00:00:00-04:00\",\"2016-06-02T00:00:00-04:00\",\"2016-06-03T00:00:00-04:00\",\"2016-06-06T00:00:00-04:00\",\"2016-06-07T00:00:00-04:00\",\"2016-06-08T00:00:00-04:00\",\"2016-06-09T00:00:00-04:00\",\"2016-06-10T00:00:00-04:00\",\"2016-06-13T00:00:00-04:00\",\"2016-06-14T00:00:00-04:00\",\"2016-06-15T00:00:00-04:00\",\"2016-06-16T00:00:00-04:00\",\"2016-06-17T00:00:00-04:00\",\"2016-06-20T00:00:00-04:00\",\"2016-06-21T00:00:00-04:00\",\"2016-06-22T00:00:00-04:00\",\"2016-06-23T00:00:00-04:00\",\"2016-06-24T00:00:00-04:00\",\"2016-06-27T00:00:00-04:00\",\"2016-06-28T00:00:00-04:00\",\"2016-06-29T00:00:00-04:00\",\"2016-06-30T00:00:00-04:00\",\"2016-07-01T00:00:00-04:00\",\"2016-07-05T00:00:00-04:00\",\"2016-07-06T00:00:00-04:00\",\"2016-07-07T00:00:00-04:00\",\"2016-07-08T00:00:00-04:00\",\"2016-07-11T00:00:00-04:00\",\"2016-07-12T00:00:00-04:00\",\"2016-07-13T00:00:00-04:00\",\"2016-07-14T00:00:00-04:00\",\"2016-07-15T00:00:00-04:00\",\"2016-07-18T00:00:00-04:00\",\"2016-07-19T00:00:00-04:00\",\"2016-07-20T00:00:00-04:00\",\"2016-07-21T00:00:00-04:00\",\"2016-07-22T00:00:00-04:00\",\"2016-07-25T00:00:00-04:00\",\"2016-07-26T00:00:00-04:00\",\"2016-07-27T00:00:00-04:00\",\"2016-07-28T00:00:00-04:00\",\"2016-07-29T00:00:00-04:00\",\"2016-08-01T00:00:00-04:00\",\"2016-08-02T00:00:00-04:00\",\"2016-08-03T00:00:00-04:00\",\"2016-08-04T00:00:00-04:00\",\"2016-08-05T00:00:00-04:00\",\"2016-08-08T00:00:00-04:00\",\"2016-08-09T00:00:00-04:00\",\"2016-08-10T00:00:00-04:00\",\"2016-08-11T00:00:00-04:00\",\"2016-08-12T00:00:00-04:00\",\"2016-08-15T00:00:00-04:00\",\"2016-08-16T00:00:00-04:00\",\"2016-08-17T00:00:00-04:00\",\"2016-08-18T00:00:00-04:00\",\"2016-08-19T00:00:00-04:00\",\"2016-08-22T00:00:00-04:00\",\"2016-08-23T00:00:00-04:00\",\"2016-08-24T00:00:00-04:00\",\"2016-08-25T00:00:00-04:00\",\"2016-08-26T00:00:00-04:00\",\"2016-08-29T00:00:00-04:00\",\"2016-08-30T00:00:00-04:00\",\"2016-08-31T00:00:00-04:00\",\"2016-09-01T00:00:00-04:00\",\"2016-09-02T00:00:00-04:00\",\"2016-09-06T00:00:00-04:00\",\"2016-09-07T00:00:00-04:00\",\"2016-09-08T00:00:00-04:00\",\"2016-09-09T00:00:00-04:00\",\"2016-09-12T00:00:00-04:00\",\"2016-09-13T00:00:00-04:00\",\"2016-09-14T00:00:00-04:00\",\"2016-09-15T00:00:00-04:00\",\"2016-09-16T00:00:00-04:00\",\"2016-09-19T00:00:00-04:00\",\"2016-09-20T00:00:00-04:00\",\"2016-09-21T00:00:00-04:00\",\"2016-09-22T00:00:00-04:00\",\"2016-09-23T00:00:00-04:00\",\"2016-09-26T00:00:00-04:00\",\"2016-09-27T00:00:00-04:00\",\"2016-09-28T00:00:00-04:00\",\"2016-09-29T00:00:00-04:00\",\"2016-09-30T00:00:00-04:00\",\"2016-10-03T00:00:00-04:00\",\"2016-10-04T00:00:00-04:00\",\"2016-10-05T00:00:00-04:00\",\"2016-10-06T00:00:00-04:00\",\"2016-10-07T00:00:00-04:00\",\"2016-10-10T00:00:00-04:00\",\"2016-10-11T00:00:00-04:00\",\"2016-10-12T00:00:00-04:00\",\"2016-10-13T00:00:00-04:00\",\"2016-10-14T00:00:00-04:00\",\"2016-10-17T00:00:00-04:00\",\"2016-10-18T00:00:00-04:00\",\"2016-10-19T00:00:00-04:00\",\"2016-10-20T00:00:00-04:00\",\"2016-10-21T00:00:00-04:00\",\"2016-10-24T00:00:00-04:00\",\"2016-10-25T00:00:00-04:00\",\"2016-10-26T00:00:00-04:00\",\"2016-10-27T00:00:00-04:00\",\"2016-10-28T00:00:00-04:00\",\"2016-10-31T00:00:00-04:00\",\"2016-11-01T00:00:00-04:00\",\"2016-11-02T00:00:00-04:00\",\"2016-11-03T00:00:00-04:00\",\"2016-11-04T00:00:00-04:00\",\"2016-11-07T00:00:00-05:00\",\"2016-11-08T00:00:00-05:00\",\"2016-11-09T00:00:00-05:00\",\"2016-11-10T00:00:00-05:00\",\"2016-11-11T00:00:00-05:00\",\"2016-11-14T00:00:00-05:00\",\"2016-11-15T00:00:00-05:00\",\"2016-11-16T00:00:00-05:00\",\"2016-11-17T00:00:00-05:00\",\"2016-11-18T00:00:00-05:00\",\"2016-11-21T00:00:00-05:00\",\"2016-11-22T00:00:00-05:00\",\"2016-11-23T00:00:00-05:00\",\"2016-11-25T00:00:00-05:00\",\"2016-11-28T00:00:00-05:00\",\"2016-11-29T00:00:00-05:00\",\"2016-11-30T00:00:00-05:00\",\"2016-12-01T00:00:00-05:00\",\"2016-12-02T00:00:00-05:00\",\"2016-12-05T00:00:00-05:00\",\"2016-12-06T00:00:00-05:00\",\"2016-12-07T00:00:00-05:00\",\"2016-12-08T00:00:00-05:00\",\"2016-12-09T00:00:00-05:00\",\"2016-12-12T00:00:00-05:00\",\"2016-12-13T00:00:00-05:00\",\"2016-12-14T00:00:00-05:00\",\"2016-12-15T00:00:00-05:00\",\"2016-12-16T00:00:00-05:00\",\"2016-12-19T00:00:00-05:00\",\"2016-12-20T00:00:00-05:00\",\"2016-12-21T00:00:00-05:00\",\"2016-12-22T00:00:00-05:00\",\"2016-12-23T00:00:00-05:00\",\"2016-12-27T00:00:00-05:00\",\"2016-12-28T00:00:00-05:00\",\"2016-12-29T00:00:00-05:00\",\"2016-12-30T00:00:00-05:00\",\"2017-01-03T00:00:00-05:00\",\"2017-01-04T00:00:00-05:00\",\"2017-01-05T00:00:00-05:00\",\"2017-01-06T00:00:00-05:00\",\"2017-01-09T00:00:00-05:00\",\"2017-01-10T00:00:00-05:00\",\"2017-01-11T00:00:00-05:00\",\"2017-01-12T00:00:00-05:00\",\"2017-01-13T00:00:00-05:00\",\"2017-01-17T00:00:00-05:00\",\"2017-01-18T00:00:00-05:00\",\"2017-01-19T00:00:00-05:00\",\"2017-01-20T00:00:00-05:00\",\"2017-01-23T00:00:00-05:00\",\"2017-01-24T00:00:00-05:00\",\"2017-01-25T00:00:00-05:00\",\"2017-01-26T00:00:00-05:00\",\"2017-01-27T00:00:00-05:00\",\"2017-01-30T00:00:00-05:00\",\"2017-01-31T00:00:00-05:00\",\"2017-02-01T00:00:00-05:00\",\"2017-02-02T00:00:00-05:00\",\"2017-02-03T00:00:00-05:00\",\"2017-02-06T00:00:00-05:00\",\"2017-02-07T00:00:00-05:00\",\"2017-02-08T00:00:00-05:00\",\"2017-02-09T00:00:00-05:00\",\"2017-02-10T00:00:00-05:00\",\"2017-02-13T00:00:00-05:00\",\"2017-02-14T00:00:00-05:00\",\"2017-02-15T00:00:00-05:00\",\"2017-02-16T00:00:00-05:00\",\"2017-02-17T00:00:00-05:00\",\"2017-02-21T00:00:00-05:00\",\"2017-02-22T00:00:00-05:00\",\"2017-02-23T00:00:00-05:00\",\"2017-02-24T00:00:00-05:00\",\"2017-02-27T00:00:00-05:00\",\"2017-02-28T00:00:00-05:00\",\"2017-03-01T00:00:00-05:00\",\"2017-03-02T00:00:00-05:00\",\"2017-03-03T00:00:00-05:00\",\"2017-03-06T00:00:00-05:00\",\"2017-03-07T00:00:00-05:00\",\"2017-03-08T00:00:00-05:00\",\"2017-03-09T00:00:00-05:00\",\"2017-03-10T00:00:00-05:00\",\"2017-03-13T00:00:00-04:00\",\"2017-03-14T00:00:00-04:00\",\"2017-03-15T00:00:00-04:00\",\"2017-03-16T00:00:00-04:00\",\"2017-03-17T00:00:00-04:00\",\"2017-03-20T00:00:00-04:00\",\"2017-03-21T00:00:00-04:00\",\"2017-03-22T00:00:00-04:00\",\"2017-03-23T00:00:00-04:00\",\"2017-03-24T00:00:00-04:00\",\"2017-03-27T00:00:00-04:00\",\"2017-03-28T00:00:00-04:00\",\"2017-03-29T00:00:00-04:00\",\"2017-03-30T00:00:00-04:00\",\"2017-03-31T00:00:00-04:00\",\"2017-04-03T00:00:00-04:00\",\"2017-04-04T00:00:00-04:00\",\"2017-04-05T00:00:00-04:00\",\"2017-04-06T00:00:00-04:00\",\"2017-04-07T00:00:00-04:00\",\"2017-04-10T00:00:00-04:00\",\"2017-04-11T00:00:00-04:00\",\"2017-04-12T00:00:00-04:00\",\"2017-04-13T00:00:00-04:00\",\"2017-04-17T00:00:00-04:00\",\"2017-04-18T00:00:00-04:00\",\"2017-04-19T00:00:00-04:00\",\"2017-04-20T00:00:00-04:00\",\"2017-04-21T00:00:00-04:00\",\"2017-04-24T00:00:00-04:00\",\"2017-04-25T00:00:00-04:00\",\"2017-04-26T00:00:00-04:00\",\"2017-04-27T00:00:00-04:00\",\"2017-04-28T00:00:00-04:00\",\"2017-05-01T00:00:00-04:00\",\"2017-05-02T00:00:00-04:00\",\"2017-05-03T00:00:00-04:00\",\"2017-05-04T00:00:00-04:00\",\"2017-05-05T00:00:00-04:00\",\"2017-05-08T00:00:00-04:00\",\"2017-05-09T00:00:00-04:00\",\"2017-05-10T00:00:00-04:00\",\"2017-05-11T00:00:00-04:00\",\"2017-05-12T00:00:00-04:00\",\"2017-05-15T00:00:00-04:00\",\"2017-05-16T00:00:00-04:00\",\"2017-05-17T00:00:00-04:00\",\"2017-05-18T00:00:00-04:00\",\"2017-05-19T00:00:00-04:00\",\"2017-05-22T00:00:00-04:00\",\"2017-05-23T00:00:00-04:00\",\"2017-05-24T00:00:00-04:00\",\"2017-05-25T00:00:00-04:00\",\"2017-05-26T00:00:00-04:00\",\"2017-05-30T00:00:00-04:00\",\"2017-05-31T00:00:00-04:00\",\"2017-06-01T00:00:00-04:00\",\"2017-06-02T00:00:00-04:00\",\"2017-06-05T00:00:00-04:00\",\"2017-06-06T00:00:00-04:00\",\"2017-06-07T00:00:00-04:00\",\"2017-06-08T00:00:00-04:00\",\"2017-06-09T00:00:00-04:00\",\"2017-06-12T00:00:00-04:00\",\"2017-06-13T00:00:00-04:00\",\"2017-06-14T00:00:00-04:00\",\"2017-06-15T00:00:00-04:00\",\"2017-06-16T00:00:00-04:00\",\"2017-06-19T00:00:00-04:00\",\"2017-06-20T00:00:00-04:00\",\"2017-06-21T00:00:00-04:00\",\"2017-06-22T00:00:00-04:00\",\"2017-06-23T00:00:00-04:00\",\"2017-06-26T00:00:00-04:00\",\"2017-06-27T00:00:00-04:00\",\"2017-06-28T00:00:00-04:00\",\"2017-06-29T00:00:00-04:00\",\"2017-06-30T00:00:00-04:00\",\"2017-07-03T00:00:00-04:00\",\"2017-07-05T00:00:00-04:00\",\"2017-07-06T00:00:00-04:00\",\"2017-07-07T00:00:00-04:00\",\"2017-07-10T00:00:00-04:00\",\"2017-07-11T00:00:00-04:00\",\"2017-07-12T00:00:00-04:00\",\"2017-07-13T00:00:00-04:00\",\"2017-07-14T00:00:00-04:00\",\"2017-07-17T00:00:00-04:00\",\"2017-07-18T00:00:00-04:00\",\"2017-07-19T00:00:00-04:00\",\"2017-07-20T00:00:00-04:00\",\"2017-07-21T00:00:00-04:00\",\"2017-07-24T00:00:00-04:00\",\"2017-07-25T00:00:00-04:00\",\"2017-07-26T00:00:00-04:00\",\"2017-07-27T00:00:00-04:00\",\"2017-07-28T00:00:00-04:00\",\"2017-07-31T00:00:00-04:00\",\"2017-08-01T00:00:00-04:00\",\"2017-08-02T00:00:00-04:00\",\"2017-08-03T00:00:00-04:00\",\"2017-08-04T00:00:00-04:00\",\"2017-08-07T00:00:00-04:00\",\"2017-08-08T00:00:00-04:00\",\"2017-08-09T00:00:00-04:00\",\"2017-08-10T00:00:00-04:00\",\"2017-08-11T00:00:00-04:00\",\"2017-08-14T00:00:00-04:00\",\"2017-08-15T00:00:00-04:00\",\"2017-08-16T00:00:00-04:00\",\"2017-08-17T00:00:00-04:00\",\"2017-08-18T00:00:00-04:00\",\"2017-08-21T00:00:00-04:00\",\"2017-08-22T00:00:00-04:00\",\"2017-08-23T00:00:00-04:00\",\"2017-08-24T00:00:00-04:00\",\"2017-08-25T00:00:00-04:00\",\"2017-08-28T00:00:00-04:00\",\"2017-08-29T00:00:00-04:00\",\"2017-08-30T00:00:00-04:00\",\"2017-08-31T00:00:00-04:00\",\"2017-09-01T00:00:00-04:00\",\"2017-09-05T00:00:00-04:00\",\"2017-09-06T00:00:00-04:00\",\"2017-09-07T00:00:00-04:00\",\"2017-09-08T00:00:00-04:00\",\"2017-09-11T00:00:00-04:00\",\"2017-09-12T00:00:00-04:00\",\"2017-09-13T00:00:00-04:00\",\"2017-09-14T00:00:00-04:00\",\"2017-09-15T00:00:00-04:00\",\"2017-09-18T00:00:00-04:00\",\"2017-09-19T00:00:00-04:00\",\"2017-09-20T00:00:00-04:00\",\"2017-09-21T00:00:00-04:00\",\"2017-09-22T00:00:00-04:00\",\"2017-09-25T00:00:00-04:00\",\"2017-09-26T00:00:00-04:00\",\"2017-09-27T00:00:00-04:00\",\"2017-09-28T00:00:00-04:00\",\"2017-09-29T00:00:00-04:00\",\"2017-10-02T00:00:00-04:00\",\"2017-10-03T00:00:00-04:00\",\"2017-10-04T00:00:00-04:00\",\"2017-10-05T00:00:00-04:00\",\"2017-10-06T00:00:00-04:00\",\"2017-10-09T00:00:00-04:00\",\"2017-10-10T00:00:00-04:00\",\"2017-10-11T00:00:00-04:00\",\"2017-10-12T00:00:00-04:00\",\"2017-10-13T00:00:00-04:00\",\"2017-10-16T00:00:00-04:00\",\"2017-10-17T00:00:00-04:00\",\"2017-10-18T00:00:00-04:00\",\"2017-10-19T00:00:00-04:00\",\"2017-10-20T00:00:00-04:00\",\"2017-10-23T00:00:00-04:00\",\"2017-10-24T00:00:00-04:00\",\"2017-10-25T00:00:00-04:00\",\"2017-10-26T00:00:00-04:00\",\"2017-10-27T00:00:00-04:00\",\"2017-10-30T00:00:00-04:00\",\"2017-10-31T00:00:00-04:00\",\"2017-11-01T00:00:00-04:00\",\"2017-11-02T00:00:00-04:00\",\"2017-11-03T00:00:00-04:00\",\"2017-11-06T00:00:00-05:00\",\"2017-11-07T00:00:00-05:00\",\"2017-11-08T00:00:00-05:00\",\"2017-11-09T00:00:00-05:00\",\"2017-11-10T00:00:00-05:00\",\"2017-11-13T00:00:00-05:00\",\"2017-11-14T00:00:00-05:00\",\"2017-11-15T00:00:00-05:00\",\"2017-11-16T00:00:00-05:00\",\"2017-11-17T00:00:00-05:00\",\"2017-11-20T00:00:00-05:00\",\"2017-11-21T00:00:00-05:00\",\"2017-11-22T00:00:00-05:00\",\"2017-11-24T00:00:00-05:00\",\"2017-11-27T00:00:00-05:00\",\"2017-11-28T00:00:00-05:00\",\"2017-11-29T00:00:00-05:00\",\"2017-11-30T00:00:00-05:00\",\"2017-12-01T00:00:00-05:00\",\"2017-12-04T00:00:00-05:00\",\"2017-12-05T00:00:00-05:00\",\"2017-12-06T00:00:00-05:00\",\"2017-12-07T00:00:00-05:00\",\"2017-12-08T00:00:00-05:00\",\"2017-12-11T00:00:00-05:00\",\"2017-12-12T00:00:00-05:00\",\"2017-12-13T00:00:00-05:00\",\"2017-12-14T00:00:00-05:00\",\"2017-12-15T00:00:00-05:00\",\"2017-12-18T00:00:00-05:00\",\"2017-12-19T00:00:00-05:00\",\"2017-12-20T00:00:00-05:00\",\"2017-12-21T00:00:00-05:00\",\"2017-12-22T00:00:00-05:00\",\"2017-12-26T00:00:00-05:00\",\"2017-12-27T00:00:00-05:00\",\"2017-12-28T00:00:00-05:00\",\"2017-12-29T00:00:00-05:00\",\"2018-01-02T00:00:00-05:00\",\"2018-01-03T00:00:00-05:00\",\"2018-01-04T00:00:00-05:00\",\"2018-01-05T00:00:00-05:00\",\"2018-01-08T00:00:00-05:00\",\"2018-01-09T00:00:00-05:00\",\"2018-01-10T00:00:00-05:00\",\"2018-01-11T00:00:00-05:00\",\"2018-01-12T00:00:00-05:00\",\"2018-01-16T00:00:00-05:00\",\"2018-01-17T00:00:00-05:00\",\"2018-01-18T00:00:00-05:00\",\"2018-01-19T00:00:00-05:00\",\"2018-01-22T00:00:00-05:00\",\"2018-01-23T00:00:00-05:00\",\"2018-01-24T00:00:00-05:00\",\"2018-01-25T00:00:00-05:00\",\"2018-01-26T00:00:00-05:00\",\"2018-01-29T00:00:00-05:00\",\"2018-01-30T00:00:00-05:00\",\"2018-01-31T00:00:00-05:00\",\"2018-02-01T00:00:00-05:00\",\"2018-02-02T00:00:00-05:00\",\"2018-02-05T00:00:00-05:00\",\"2018-02-06T00:00:00-05:00\",\"2018-02-07T00:00:00-05:00\",\"2018-02-08T00:00:00-05:00\",\"2018-02-09T00:00:00-05:00\",\"2018-02-12T00:00:00-05:00\",\"2018-02-13T00:00:00-05:00\",\"2018-02-14T00:00:00-05:00\",\"2018-02-15T00:00:00-05:00\",\"2018-02-16T00:00:00-05:00\",\"2018-02-20T00:00:00-05:00\",\"2018-02-21T00:00:00-05:00\",\"2018-02-22T00:00:00-05:00\",\"2018-02-23T00:00:00-05:00\",\"2018-02-26T00:00:00-05:00\",\"2018-02-27T00:00:00-05:00\",\"2018-02-28T00:00:00-05:00\",\"2018-03-01T00:00:00-05:00\",\"2018-03-02T00:00:00-05:00\",\"2018-03-05T00:00:00-05:00\",\"2018-03-06T00:00:00-05:00\",\"2018-03-07T00:00:00-05:00\",\"2018-03-08T00:00:00-05:00\",\"2018-03-09T00:00:00-05:00\",\"2018-03-12T00:00:00-04:00\",\"2018-03-13T00:00:00-04:00\",\"2018-03-14T00:00:00-04:00\",\"2018-03-15T00:00:00-04:00\",\"2018-03-16T00:00:00-04:00\",\"2018-03-19T00:00:00-04:00\",\"2018-03-20T00:00:00-04:00\",\"2018-03-21T00:00:00-04:00\",\"2018-03-22T00:00:00-04:00\",\"2018-03-23T00:00:00-04:00\",\"2018-03-26T00:00:00-04:00\",\"2018-03-27T00:00:00-04:00\",\"2018-03-28T00:00:00-04:00\",\"2018-03-29T00:00:00-04:00\",\"2018-04-02T00:00:00-04:00\",\"2018-04-03T00:00:00-04:00\",\"2018-04-04T00:00:00-04:00\",\"2018-04-05T00:00:00-04:00\",\"2018-04-06T00:00:00-04:00\",\"2018-04-09T00:00:00-04:00\",\"2018-04-10T00:00:00-04:00\",\"2018-04-11T00:00:00-04:00\",\"2018-04-12T00:00:00-04:00\",\"2018-04-13T00:00:00-04:00\",\"2018-04-16T00:00:00-04:00\",\"2018-04-17T00:00:00-04:00\",\"2018-04-18T00:00:00-04:00\",\"2018-04-19T00:00:00-04:00\",\"2018-04-20T00:00:00-04:00\",\"2018-04-23T00:00:00-04:00\",\"2018-04-24T00:00:00-04:00\",\"2018-04-25T00:00:00-04:00\",\"2018-04-26T00:00:00-04:00\",\"2018-04-27T00:00:00-04:00\",\"2018-04-30T00:00:00-04:00\",\"2018-05-01T00:00:00-04:00\",\"2018-05-02T00:00:00-04:00\",\"2018-05-03T00:00:00-04:00\",\"2018-05-04T00:00:00-04:00\",\"2018-05-07T00:00:00-04:00\",\"2018-05-08T00:00:00-04:00\",\"2018-05-09T00:00:00-04:00\",\"2018-05-10T00:00:00-04:00\",\"2018-05-11T00:00:00-04:00\",\"2018-05-14T00:00:00-04:00\",\"2018-05-15T00:00:00-04:00\",\"2018-05-16T00:00:00-04:00\",\"2018-05-17T00:00:00-04:00\",\"2018-05-18T00:00:00-04:00\",\"2018-05-21T00:00:00-04:00\",\"2018-05-22T00:00:00-04:00\",\"2018-05-23T00:00:00-04:00\",\"2018-05-24T00:00:00-04:00\",\"2018-05-25T00:00:00-04:00\",\"2018-05-29T00:00:00-04:00\",\"2018-05-30T00:00:00-04:00\",\"2018-05-31T00:00:00-04:00\",\"2018-06-01T00:00:00-04:00\",\"2018-06-04T00:00:00-04:00\",\"2018-06-05T00:00:00-04:00\",\"2018-06-06T00:00:00-04:00\",\"2018-06-07T00:00:00-04:00\",\"2018-06-08T00:00:00-04:00\",\"2018-06-11T00:00:00-04:00\",\"2018-06-12T00:00:00-04:00\",\"2018-06-13T00:00:00-04:00\",\"2018-06-14T00:00:00-04:00\",\"2018-06-15T00:00:00-04:00\",\"2018-06-18T00:00:00-04:00\",\"2018-06-19T00:00:00-04:00\",\"2018-06-20T00:00:00-04:00\",\"2018-06-21T00:00:00-04:00\",\"2018-06-22T00:00:00-04:00\",\"2018-06-25T00:00:00-04:00\",\"2018-06-26T00:00:00-04:00\",\"2018-06-27T00:00:00-04:00\",\"2018-06-28T00:00:00-04:00\",\"2018-06-29T00:00:00-04:00\",\"2018-07-02T00:00:00-04:00\",\"2018-07-03T00:00:00-04:00\",\"2018-07-05T00:00:00-04:00\",\"2018-07-06T00:00:00-04:00\",\"2018-07-09T00:00:00-04:00\",\"2018-07-10T00:00:00-04:00\",\"2018-07-11T00:00:00-04:00\",\"2018-07-12T00:00:00-04:00\",\"2018-07-13T00:00:00-04:00\",\"2018-07-16T00:00:00-04:00\",\"2018-07-17T00:00:00-04:00\",\"2018-07-18T00:00:00-04:00\",\"2018-07-19T00:00:00-04:00\",\"2018-07-20T00:00:00-04:00\",\"2018-07-23T00:00:00-04:00\",\"2018-07-24T00:00:00-04:00\",\"2018-07-25T00:00:00-04:00\",\"2018-07-26T00:00:00-04:00\",\"2018-07-27T00:00:00-04:00\",\"2018-07-30T00:00:00-04:00\",\"2018-07-31T00:00:00-04:00\",\"2018-08-01T00:00:00-04:00\",\"2018-08-02T00:00:00-04:00\",\"2018-08-03T00:00:00-04:00\",\"2018-08-06T00:00:00-04:00\",\"2018-08-07T00:00:00-04:00\",\"2018-08-08T00:00:00-04:00\",\"2018-08-09T00:00:00-04:00\",\"2018-08-10T00:00:00-04:00\",\"2018-08-13T00:00:00-04:00\",\"2018-08-14T00:00:00-04:00\",\"2018-08-15T00:00:00-04:00\",\"2018-08-16T00:00:00-04:00\",\"2018-08-17T00:00:00-04:00\",\"2018-08-20T00:00:00-04:00\",\"2018-08-21T00:00:00-04:00\",\"2018-08-22T00:00:00-04:00\",\"2018-08-23T00:00:00-04:00\",\"2018-08-24T00:00:00-04:00\",\"2018-08-27T00:00:00-04:00\",\"2018-08-28T00:00:00-04:00\",\"2018-08-29T00:00:00-04:00\",\"2018-08-30T00:00:00-04:00\",\"2018-08-31T00:00:00-04:00\",\"2018-09-04T00:00:00-04:00\",\"2018-09-05T00:00:00-04:00\",\"2018-09-06T00:00:00-04:00\",\"2018-09-07T00:00:00-04:00\",\"2018-09-10T00:00:00-04:00\",\"2018-09-11T00:00:00-04:00\",\"2018-09-12T00:00:00-04:00\",\"2018-09-13T00:00:00-04:00\",\"2018-09-14T00:00:00-04:00\",\"2018-09-17T00:00:00-04:00\",\"2018-09-18T00:00:00-04:00\",\"2018-09-19T00:00:00-04:00\",\"2018-09-20T00:00:00-04:00\",\"2018-09-21T00:00:00-04:00\",\"2018-09-24T00:00:00-04:00\",\"2018-09-25T00:00:00-04:00\",\"2018-09-26T00:00:00-04:00\",\"2018-09-27T00:00:00-04:00\",\"2018-09-28T00:00:00-04:00\",\"2018-10-01T00:00:00-04:00\",\"2018-10-02T00:00:00-04:00\",\"2018-10-03T00:00:00-04:00\",\"2018-10-04T00:00:00-04:00\",\"2018-10-05T00:00:00-04:00\",\"2018-10-08T00:00:00-04:00\",\"2018-10-09T00:00:00-04:00\",\"2018-10-10T00:00:00-04:00\",\"2018-10-11T00:00:00-04:00\",\"2018-10-12T00:00:00-04:00\",\"2018-10-15T00:00:00-04:00\",\"2018-10-16T00:00:00-04:00\",\"2018-10-17T00:00:00-04:00\",\"2018-10-18T00:00:00-04:00\",\"2018-10-19T00:00:00-04:00\",\"2018-10-22T00:00:00-04:00\",\"2018-10-23T00:00:00-04:00\",\"2018-10-24T00:00:00-04:00\",\"2018-10-25T00:00:00-04:00\",\"2018-10-26T00:00:00-04:00\",\"2018-10-29T00:00:00-04:00\",\"2018-10-30T00:00:00-04:00\",\"2018-10-31T00:00:00-04:00\",\"2018-11-01T00:00:00-04:00\",\"2018-11-02T00:00:00-04:00\",\"2018-11-05T00:00:00-05:00\",\"2018-11-06T00:00:00-05:00\",\"2018-11-07T00:00:00-05:00\",\"2018-11-08T00:00:00-05:00\",\"2018-11-09T00:00:00-05:00\",\"2018-11-12T00:00:00-05:00\",\"2018-11-13T00:00:00-05:00\",\"2018-11-14T00:00:00-05:00\",\"2018-11-15T00:00:00-05:00\",\"2018-11-16T00:00:00-05:00\",\"2018-11-19T00:00:00-05:00\",\"2018-11-20T00:00:00-05:00\",\"2018-11-21T00:00:00-05:00\",\"2018-11-23T00:00:00-05:00\",\"2018-11-26T00:00:00-05:00\",\"2018-11-27T00:00:00-05:00\",\"2018-11-28T00:00:00-05:00\",\"2018-11-29T00:00:00-05:00\",\"2018-11-30T00:00:00-05:00\",\"2018-12-03T00:00:00-05:00\",\"2018-12-04T00:00:00-05:00\",\"2018-12-06T00:00:00-05:00\",\"2018-12-07T00:00:00-05:00\",\"2018-12-10T00:00:00-05:00\",\"2018-12-11T00:00:00-05:00\",\"2018-12-12T00:00:00-05:00\",\"2018-12-13T00:00:00-05:00\",\"2018-12-14T00:00:00-05:00\",\"2018-12-17T00:00:00-05:00\",\"2018-12-18T00:00:00-05:00\",\"2018-12-19T00:00:00-05:00\",\"2018-12-20T00:00:00-05:00\",\"2018-12-21T00:00:00-05:00\",\"2018-12-24T00:00:00-05:00\",\"2018-12-26T00:00:00-05:00\",\"2018-12-27T00:00:00-05:00\",\"2018-12-28T00:00:00-05:00\",\"2018-12-31T00:00:00-05:00\",\"2019-01-02T00:00:00-05:00\",\"2019-01-03T00:00:00-05:00\",\"2019-01-04T00:00:00-05:00\",\"2019-01-07T00:00:00-05:00\",\"2019-01-08T00:00:00-05:00\",\"2019-01-09T00:00:00-05:00\",\"2019-01-10T00:00:00-05:00\",\"2019-01-11T00:00:00-05:00\",\"2019-01-14T00:00:00-05:00\",\"2019-01-15T00:00:00-05:00\",\"2019-01-16T00:00:00-05:00\",\"2019-01-17T00:00:00-05:00\",\"2019-01-18T00:00:00-05:00\",\"2019-01-22T00:00:00-05:00\",\"2019-01-23T00:00:00-05:00\",\"2019-01-24T00:00:00-05:00\",\"2019-01-25T00:00:00-05:00\",\"2019-01-28T00:00:00-05:00\",\"2019-01-29T00:00:00-05:00\",\"2019-01-30T00:00:00-05:00\",\"2019-01-31T00:00:00-05:00\",\"2019-02-01T00:00:00-05:00\",\"2019-02-04T00:00:00-05:00\",\"2019-02-05T00:00:00-05:00\",\"2019-02-06T00:00:00-05:00\",\"2019-02-07T00:00:00-05:00\",\"2019-02-08T00:00:00-05:00\",\"2019-02-11T00:00:00-05:00\",\"2019-02-12T00:00:00-05:00\",\"2019-02-13T00:00:00-05:00\",\"2019-02-14T00:00:00-05:00\",\"2019-02-15T00:00:00-05:00\",\"2019-02-19T00:00:00-05:00\",\"2019-02-20T00:00:00-05:00\",\"2019-02-21T00:00:00-05:00\",\"2019-02-22T00:00:00-05:00\",\"2019-02-25T00:00:00-05:00\",\"2019-02-26T00:00:00-05:00\",\"2019-02-27T00:00:00-05:00\",\"2019-02-28T00:00:00-05:00\",\"2019-03-01T00:00:00-05:00\",\"2019-03-04T00:00:00-05:00\",\"2019-03-05T00:00:00-05:00\",\"2019-03-06T00:00:00-05:00\",\"2019-03-07T00:00:00-05:00\",\"2019-03-08T00:00:00-05:00\",\"2019-03-11T00:00:00-04:00\",\"2019-03-12T00:00:00-04:00\",\"2019-03-13T00:00:00-04:00\",\"2019-03-14T00:00:00-04:00\",\"2019-03-15T00:00:00-04:00\",\"2019-03-18T00:00:00-04:00\",\"2019-03-19T00:00:00-04:00\",\"2019-03-20T00:00:00-04:00\",\"2019-03-21T00:00:00-04:00\",\"2019-03-22T00:00:00-04:00\",\"2019-03-25T00:00:00-04:00\",\"2019-03-26T00:00:00-04:00\",\"2019-03-27T00:00:00-04:00\",\"2019-03-28T00:00:00-04:00\",\"2019-03-29T00:00:00-04:00\",\"2019-04-01T00:00:00-04:00\",\"2019-04-02T00:00:00-04:00\",\"2019-04-03T00:00:00-04:00\",\"2019-04-04T00:00:00-04:00\",\"2019-04-05T00:00:00-04:00\",\"2019-04-08T00:00:00-04:00\",\"2019-04-09T00:00:00-04:00\",\"2019-04-10T00:00:00-04:00\",\"2019-04-11T00:00:00-04:00\",\"2019-04-12T00:00:00-04:00\",\"2019-04-15T00:00:00-04:00\",\"2019-04-16T00:00:00-04:00\",\"2019-04-17T00:00:00-04:00\",\"2019-04-18T00:00:00-04:00\",\"2019-04-22T00:00:00-04:00\",\"2019-04-23T00:00:00-04:00\",\"2019-04-24T00:00:00-04:00\",\"2019-04-25T00:00:00-04:00\",\"2019-04-26T00:00:00-04:00\",\"2019-04-29T00:00:00-04:00\",\"2019-04-30T00:00:00-04:00\",\"2019-05-01T00:00:00-04:00\",\"2019-05-02T00:00:00-04:00\",\"2019-05-03T00:00:00-04:00\",\"2019-05-06T00:00:00-04:00\",\"2019-05-07T00:00:00-04:00\",\"2019-05-08T00:00:00-04:00\",\"2019-05-09T00:00:00-04:00\",\"2019-05-10T00:00:00-04:00\",\"2019-05-13T00:00:00-04:00\",\"2019-05-14T00:00:00-04:00\",\"2019-05-15T00:00:00-04:00\",\"2019-05-16T00:00:00-04:00\",\"2019-05-17T00:00:00-04:00\",\"2019-05-20T00:00:00-04:00\",\"2019-05-21T00:00:00-04:00\",\"2019-05-22T00:00:00-04:00\",\"2019-05-23T00:00:00-04:00\",\"2019-05-24T00:00:00-04:00\",\"2019-05-28T00:00:00-04:00\",\"2019-05-29T00:00:00-04:00\",\"2019-05-30T00:00:00-04:00\",\"2019-05-31T00:00:00-04:00\",\"2019-06-03T00:00:00-04:00\",\"2019-06-04T00:00:00-04:00\",\"2019-06-05T00:00:00-04:00\",\"2019-06-06T00:00:00-04:00\",\"2019-06-07T00:00:00-04:00\",\"2019-06-10T00:00:00-04:00\",\"2019-06-11T00:00:00-04:00\",\"2019-06-12T00:00:00-04:00\",\"2019-06-13T00:00:00-04:00\",\"2019-06-14T00:00:00-04:00\",\"2019-06-17T00:00:00-04:00\",\"2019-06-18T00:00:00-04:00\",\"2019-06-19T00:00:00-04:00\",\"2019-06-20T00:00:00-04:00\",\"2019-06-21T00:00:00-04:00\",\"2019-06-24T00:00:00-04:00\",\"2019-06-25T00:00:00-04:00\",\"2019-06-26T00:00:00-04:00\",\"2019-06-27T00:00:00-04:00\",\"2019-06-28T00:00:00-04:00\",\"2019-07-01T00:00:00-04:00\",\"2019-07-02T00:00:00-04:00\",\"2019-07-03T00:00:00-04:00\",\"2019-07-05T00:00:00-04:00\",\"2019-07-08T00:00:00-04:00\",\"2019-07-09T00:00:00-04:00\",\"2019-07-10T00:00:00-04:00\",\"2019-07-11T00:00:00-04:00\",\"2019-07-12T00:00:00-04:00\",\"2019-07-15T00:00:00-04:00\",\"2019-07-16T00:00:00-04:00\",\"2019-07-17T00:00:00-04:00\",\"2019-07-18T00:00:00-04:00\",\"2019-07-19T00:00:00-04:00\",\"2019-07-22T00:00:00-04:00\",\"2019-07-23T00:00:00-04:00\",\"2019-07-24T00:00:00-04:00\",\"2019-07-25T00:00:00-04:00\",\"2019-07-26T00:00:00-04:00\",\"2019-07-29T00:00:00-04:00\",\"2019-07-30T00:00:00-04:00\",\"2019-07-31T00:00:00-04:00\",\"2019-08-01T00:00:00-04:00\",\"2019-08-02T00:00:00-04:00\",\"2019-08-05T00:00:00-04:00\",\"2019-08-06T00:00:00-04:00\",\"2019-08-07T00:00:00-04:00\",\"2019-08-08T00:00:00-04:00\",\"2019-08-09T00:00:00-04:00\",\"2019-08-12T00:00:00-04:00\",\"2019-08-13T00:00:00-04:00\",\"2019-08-14T00:00:00-04:00\",\"2019-08-15T00:00:00-04:00\",\"2019-08-16T00:00:00-04:00\",\"2019-08-19T00:00:00-04:00\",\"2019-08-20T00:00:00-04:00\",\"2019-08-21T00:00:00-04:00\",\"2019-08-22T00:00:00-04:00\",\"2019-08-23T00:00:00-04:00\",\"2019-08-26T00:00:00-04:00\",\"2019-08-27T00:00:00-04:00\",\"2019-08-28T00:00:00-04:00\",\"2019-08-29T00:00:00-04:00\",\"2019-08-30T00:00:00-04:00\",\"2019-09-03T00:00:00-04:00\",\"2019-09-04T00:00:00-04:00\",\"2019-09-05T00:00:00-04:00\",\"2019-09-06T00:00:00-04:00\",\"2019-09-09T00:00:00-04:00\",\"2019-09-10T00:00:00-04:00\",\"2019-09-11T00:00:00-04:00\",\"2019-09-12T00:00:00-04:00\",\"2019-09-13T00:00:00-04:00\",\"2019-09-16T00:00:00-04:00\",\"2019-09-17T00:00:00-04:00\",\"2019-09-18T00:00:00-04:00\",\"2019-09-19T00:00:00-04:00\",\"2019-09-20T00:00:00-04:00\",\"2019-09-23T00:00:00-04:00\",\"2019-09-24T00:00:00-04:00\",\"2019-09-25T00:00:00-04:00\",\"2019-09-26T00:00:00-04:00\",\"2019-09-27T00:00:00-04:00\",\"2019-09-30T00:00:00-04:00\",\"2019-10-01T00:00:00-04:00\",\"2019-10-02T00:00:00-04:00\",\"2019-10-03T00:00:00-04:00\",\"2019-10-04T00:00:00-04:00\",\"2019-10-07T00:00:00-04:00\",\"2019-10-08T00:00:00-04:00\",\"2019-10-09T00:00:00-04:00\",\"2019-10-10T00:00:00-04:00\",\"2019-10-11T00:00:00-04:00\",\"2019-10-14T00:00:00-04:00\",\"2019-10-15T00:00:00-04:00\",\"2019-10-16T00:00:00-04:00\",\"2019-10-17T00:00:00-04:00\",\"2019-10-18T00:00:00-04:00\",\"2019-10-21T00:00:00-04:00\",\"2019-10-22T00:00:00-04:00\",\"2019-10-23T00:00:00-04:00\",\"2019-10-24T00:00:00-04:00\",\"2019-10-25T00:00:00-04:00\",\"2019-10-28T00:00:00-04:00\",\"2019-10-29T00:00:00-04:00\",\"2019-10-30T00:00:00-04:00\",\"2019-10-31T00:00:00-04:00\",\"2019-11-01T00:00:00-04:00\",\"2019-11-04T00:00:00-05:00\",\"2019-11-05T00:00:00-05:00\",\"2019-11-06T00:00:00-05:00\",\"2019-11-07T00:00:00-05:00\",\"2019-11-08T00:00:00-05:00\",\"2019-11-11T00:00:00-05:00\",\"2019-11-12T00:00:00-05:00\",\"2019-11-13T00:00:00-05:00\",\"2019-11-14T00:00:00-05:00\",\"2019-11-15T00:00:00-05:00\",\"2019-11-18T00:00:00-05:00\",\"2019-11-19T00:00:00-05:00\",\"2019-11-20T00:00:00-05:00\",\"2019-11-21T00:00:00-05:00\",\"2019-11-22T00:00:00-05:00\",\"2019-11-25T00:00:00-05:00\",\"2019-11-26T00:00:00-05:00\",\"2019-11-27T00:00:00-05:00\",\"2019-11-29T00:00:00-05:00\",\"2019-12-02T00:00:00-05:00\",\"2019-12-03T00:00:00-05:00\",\"2019-12-04T00:00:00-05:00\",\"2019-12-05T00:00:00-05:00\",\"2019-12-06T00:00:00-05:00\",\"2019-12-09T00:00:00-05:00\",\"2019-12-10T00:00:00-05:00\",\"2019-12-11T00:00:00-05:00\",\"2019-12-12T00:00:00-05:00\",\"2019-12-13T00:00:00-05:00\",\"2019-12-16T00:00:00-05:00\",\"2019-12-17T00:00:00-05:00\",\"2019-12-18T00:00:00-05:00\",\"2019-12-19T00:00:00-05:00\",\"2019-12-20T00:00:00-05:00\",\"2019-12-23T00:00:00-05:00\",\"2019-12-24T00:00:00-05:00\",\"2019-12-26T00:00:00-05:00\",\"2019-12-27T00:00:00-05:00\",\"2019-12-30T00:00:00-05:00\",\"2019-12-31T00:00:00-05:00\",\"2020-01-02T00:00:00-05:00\",\"2020-01-03T00:00:00-05:00\",\"2020-01-06T00:00:00-05:00\",\"2020-01-07T00:00:00-05:00\",\"2020-01-08T00:00:00-05:00\",\"2020-01-09T00:00:00-05:00\",\"2020-01-10T00:00:00-05:00\",\"2020-01-13T00:00:00-05:00\",\"2020-01-14T00:00:00-05:00\",\"2020-01-15T00:00:00-05:00\",\"2020-01-16T00:00:00-05:00\",\"2020-01-17T00:00:00-05:00\",\"2020-01-21T00:00:00-05:00\",\"2020-01-22T00:00:00-05:00\",\"2020-01-23T00:00:00-05:00\",\"2020-01-24T00:00:00-05:00\",\"2020-01-27T00:00:00-05:00\",\"2020-01-28T00:00:00-05:00\",\"2020-01-29T00:00:00-05:00\",\"2020-01-30T00:00:00-05:00\",\"2020-01-31T00:00:00-05:00\",\"2020-02-03T00:00:00-05:00\",\"2020-02-04T00:00:00-05:00\",\"2020-02-05T00:00:00-05:00\",\"2020-02-06T00:00:00-05:00\",\"2020-02-07T00:00:00-05:00\",\"2020-02-10T00:00:00-05:00\",\"2020-02-11T00:00:00-05:00\",\"2020-02-12T00:00:00-05:00\",\"2020-02-13T00:00:00-05:00\",\"2020-02-14T00:00:00-05:00\",\"2020-02-18T00:00:00-05:00\",\"2020-02-19T00:00:00-05:00\",\"2020-02-20T00:00:00-05:00\",\"2020-02-21T00:00:00-05:00\",\"2020-02-24T00:00:00-05:00\",\"2020-02-25T00:00:00-05:00\",\"2020-02-26T00:00:00-05:00\",\"2020-02-27T00:00:00-05:00\",\"2020-02-28T00:00:00-05:00\",\"2020-03-02T00:00:00-05:00\",\"2020-03-03T00:00:00-05:00\",\"2020-03-04T00:00:00-05:00\",\"2020-03-05T00:00:00-05:00\",\"2020-03-06T00:00:00-05:00\",\"2020-03-09T00:00:00-04:00\",\"2020-03-10T00:00:00-04:00\",\"2020-03-11T00:00:00-04:00\",\"2020-03-12T00:00:00-04:00\",\"2020-03-13T00:00:00-04:00\",\"2020-03-16T00:00:00-04:00\",\"2020-03-17T00:00:00-04:00\",\"2020-03-18T00:00:00-04:00\",\"2020-03-19T00:00:00-04:00\",\"2020-03-20T00:00:00-04:00\",\"2020-03-23T00:00:00-04:00\",\"2020-03-24T00:00:00-04:00\",\"2020-03-25T00:00:00-04:00\",\"2020-03-26T00:00:00-04:00\",\"2020-03-27T00:00:00-04:00\",\"2020-03-30T00:00:00-04:00\",\"2020-03-31T00:00:00-04:00\",\"2020-04-01T00:00:00-04:00\",\"2020-04-02T00:00:00-04:00\",\"2020-04-03T00:00:00-04:00\",\"2020-04-06T00:00:00-04:00\",\"2020-04-07T00:00:00-04:00\",\"2020-04-08T00:00:00-04:00\",\"2020-04-09T00:00:00-04:00\",\"2020-04-13T00:00:00-04:00\",\"2020-04-14T00:00:00-04:00\",\"2020-04-15T00:00:00-04:00\",\"2020-04-16T00:00:00-04:00\",\"2020-04-17T00:00:00-04:00\",\"2020-04-20T00:00:00-04:00\",\"2020-04-21T00:00:00-04:00\",\"2020-04-22T00:00:00-04:00\",\"2020-04-23T00:00:00-04:00\",\"2020-04-24T00:00:00-04:00\",\"2020-04-27T00:00:00-04:00\",\"2020-04-28T00:00:00-04:00\",\"2020-04-29T00:00:00-04:00\",\"2020-04-30T00:00:00-04:00\",\"2020-05-01T00:00:00-04:00\",\"2020-05-04T00:00:00-04:00\",\"2020-05-05T00:00:00-04:00\",\"2020-05-06T00:00:00-04:00\",\"2020-05-07T00:00:00-04:00\",\"2020-05-08T00:00:00-04:00\",\"2020-05-11T00:00:00-04:00\",\"2020-05-12T00:00:00-04:00\",\"2020-05-13T00:00:00-04:00\",\"2020-05-14T00:00:00-04:00\",\"2020-05-15T00:00:00-04:00\",\"2020-05-18T00:00:00-04:00\",\"2020-05-19T00:00:00-04:00\",\"2020-05-20T00:00:00-04:00\",\"2020-05-21T00:00:00-04:00\",\"2020-05-22T00:00:00-04:00\",\"2020-05-26T00:00:00-04:00\",\"2020-05-27T00:00:00-04:00\",\"2020-05-28T00:00:00-04:00\",\"2020-05-29T00:00:00-04:00\",\"2020-06-01T00:00:00-04:00\",\"2020-06-02T00:00:00-04:00\",\"2020-06-03T00:00:00-04:00\",\"2020-06-04T00:00:00-04:00\",\"2020-06-05T00:00:00-04:00\",\"2020-06-08T00:00:00-04:00\",\"2020-06-09T00:00:00-04:00\",\"2020-06-10T00:00:00-04:00\",\"2020-06-11T00:00:00-04:00\",\"2020-06-12T00:00:00-04:00\",\"2020-06-15T00:00:00-04:00\",\"2020-06-16T00:00:00-04:00\",\"2020-06-17T00:00:00-04:00\",\"2020-06-18T00:00:00-04:00\",\"2020-06-19T00:00:00-04:00\",\"2020-06-22T00:00:00-04:00\",\"2020-06-23T00:00:00-04:00\",\"2020-06-24T00:00:00-04:00\",\"2020-06-25T00:00:00-04:00\",\"2020-06-26T00:00:00-04:00\",\"2020-06-29T00:00:00-04:00\",\"2020-06-30T00:00:00-04:00\",\"2020-07-01T00:00:00-04:00\",\"2020-07-02T00:00:00-04:00\",\"2020-07-06T00:00:00-04:00\",\"2020-07-07T00:00:00-04:00\",\"2020-07-08T00:00:00-04:00\",\"2020-07-09T00:00:00-04:00\",\"2020-07-10T00:00:00-04:00\",\"2020-07-13T00:00:00-04:00\",\"2020-07-14T00:00:00-04:00\",\"2020-07-15T00:00:00-04:00\",\"2020-07-16T00:00:00-04:00\",\"2020-07-17T00:00:00-04:00\",\"2020-07-20T00:00:00-04:00\",\"2020-07-21T00:00:00-04:00\",\"2020-07-22T00:00:00-04:00\",\"2020-07-23T00:00:00-04:00\",\"2020-07-24T00:00:00-04:00\",\"2020-07-27T00:00:00-04:00\",\"2020-07-28T00:00:00-04:00\",\"2020-07-29T00:00:00-04:00\",\"2020-07-30T00:00:00-04:00\",\"2020-07-31T00:00:00-04:00\",\"2020-08-03T00:00:00-04:00\",\"2020-08-04T00:00:00-04:00\",\"2020-08-05T00:00:00-04:00\",\"2020-08-06T00:00:00-04:00\",\"2020-08-07T00:00:00-04:00\",\"2020-08-10T00:00:00-04:00\",\"2020-08-11T00:00:00-04:00\",\"2020-08-12T00:00:00-04:00\",\"2020-08-13T00:00:00-04:00\",\"2020-08-14T00:00:00-04:00\",\"2020-08-17T00:00:00-04:00\",\"2020-08-18T00:00:00-04:00\",\"2020-08-19T00:00:00-04:00\",\"2020-08-20T00:00:00-04:00\",\"2020-08-21T00:00:00-04:00\",\"2020-08-24T00:00:00-04:00\",\"2020-08-25T00:00:00-04:00\",\"2020-08-26T00:00:00-04:00\",\"2020-08-27T00:00:00-04:00\",\"2020-08-28T00:00:00-04:00\",\"2020-08-31T00:00:00-04:00\",\"2020-09-01T00:00:00-04:00\",\"2020-09-02T00:00:00-04:00\",\"2020-09-03T00:00:00-04:00\",\"2020-09-04T00:00:00-04:00\",\"2020-09-08T00:00:00-04:00\",\"2020-09-09T00:00:00-04:00\",\"2020-09-10T00:00:00-04:00\",\"2020-09-11T00:00:00-04:00\",\"2020-09-14T00:00:00-04:00\",\"2020-09-15T00:00:00-04:00\",\"2020-09-16T00:00:00-04:00\",\"2020-09-17T00:00:00-04:00\",\"2020-09-18T00:00:00-04:00\",\"2020-09-21T00:00:00-04:00\",\"2020-09-22T00:00:00-04:00\",\"2020-09-23T00:00:00-04:00\",\"2020-09-24T00:00:00-04:00\",\"2020-09-25T00:00:00-04:00\",\"2020-09-28T00:00:00-04:00\",\"2020-09-29T00:00:00-04:00\",\"2020-09-30T00:00:00-04:00\",\"2020-10-01T00:00:00-04:00\",\"2020-10-02T00:00:00-04:00\",\"2020-10-05T00:00:00-04:00\",\"2020-10-06T00:00:00-04:00\",\"2020-10-07T00:00:00-04:00\",\"2020-10-08T00:00:00-04:00\",\"2020-10-09T00:00:00-04:00\",\"2020-10-12T00:00:00-04:00\",\"2020-10-13T00:00:00-04:00\",\"2020-10-14T00:00:00-04:00\",\"2020-10-15T00:00:00-04:00\",\"2020-10-16T00:00:00-04:00\",\"2020-10-19T00:00:00-04:00\",\"2020-10-20T00:00:00-04:00\",\"2020-10-21T00:00:00-04:00\",\"2020-10-22T00:00:00-04:00\",\"2020-10-23T00:00:00-04:00\",\"2020-10-26T00:00:00-04:00\",\"2020-10-27T00:00:00-04:00\",\"2020-10-28T00:00:00-04:00\",\"2020-10-29T00:00:00-04:00\",\"2020-10-30T00:00:00-04:00\",\"2020-11-02T00:00:00-05:00\",\"2020-11-03T00:00:00-05:00\",\"2020-11-04T00:00:00-05:00\",\"2020-11-05T00:00:00-05:00\",\"2020-11-06T00:00:00-05:00\",\"2020-11-09T00:00:00-05:00\",\"2020-11-10T00:00:00-05:00\",\"2020-11-11T00:00:00-05:00\",\"2020-11-12T00:00:00-05:00\",\"2020-11-13T00:00:00-05:00\",\"2020-11-16T00:00:00-05:00\",\"2020-11-17T00:00:00-05:00\",\"2020-11-18T00:00:00-05:00\",\"2020-11-19T00:00:00-05:00\",\"2020-11-20T00:00:00-05:00\",\"2020-11-23T00:00:00-05:00\",\"2020-11-24T00:00:00-05:00\",\"2020-11-25T00:00:00-05:00\",\"2020-11-27T00:00:00-05:00\",\"2020-11-30T00:00:00-05:00\",\"2020-12-01T00:00:00-05:00\",\"2020-12-02T00:00:00-05:00\",\"2020-12-03T00:00:00-05:00\",\"2020-12-04T00:00:00-05:00\",\"2020-12-07T00:00:00-05:00\",\"2020-12-08T00:00:00-05:00\",\"2020-12-09T00:00:00-05:00\",\"2020-12-10T00:00:00-05:00\",\"2020-12-11T00:00:00-05:00\",\"2020-12-14T00:00:00-05:00\",\"2020-12-15T00:00:00-05:00\",\"2020-12-16T00:00:00-05:00\",\"2020-12-17T00:00:00-05:00\",\"2020-12-18T00:00:00-05:00\",\"2020-12-21T00:00:00-05:00\",\"2020-12-22T00:00:00-05:00\",\"2020-12-23T00:00:00-05:00\",\"2020-12-24T00:00:00-05:00\",\"2020-12-28T00:00:00-05:00\",\"2020-12-29T00:00:00-05:00\",\"2020-12-30T00:00:00-05:00\",\"2020-12-31T00:00:00-05:00\",\"2021-01-04T00:00:00-05:00\",\"2021-01-05T00:00:00-05:00\",\"2021-01-06T00:00:00-05:00\",\"2021-01-07T00:00:00-05:00\",\"2021-01-08T00:00:00-05:00\",\"2021-01-11T00:00:00-05:00\",\"2021-01-12T00:00:00-05:00\",\"2021-01-13T00:00:00-05:00\",\"2021-01-14T00:00:00-05:00\",\"2021-01-15T00:00:00-05:00\",\"2021-01-19T00:00:00-05:00\",\"2021-01-20T00:00:00-05:00\",\"2021-01-21T00:00:00-05:00\",\"2021-01-22T00:00:00-05:00\",\"2021-01-25T00:00:00-05:00\",\"2021-01-26T00:00:00-05:00\",\"2021-01-27T00:00:00-05:00\",\"2021-01-28T00:00:00-05:00\",\"2021-01-29T00:00:00-05:00\",\"2021-02-01T00:00:00-05:00\",\"2021-02-02T00:00:00-05:00\",\"2021-02-03T00:00:00-05:00\",\"2021-02-04T00:00:00-05:00\",\"2021-02-05T00:00:00-05:00\",\"2021-02-08T00:00:00-05:00\",\"2021-02-09T00:00:00-05:00\",\"2021-02-10T00:00:00-05:00\",\"2021-02-11T00:00:00-05:00\",\"2021-02-12T00:00:00-05:00\",\"2021-02-16T00:00:00-05:00\",\"2021-02-17T00:00:00-05:00\",\"2021-02-18T00:00:00-05:00\",\"2021-02-19T00:00:00-05:00\",\"2021-02-22T00:00:00-05:00\",\"2021-02-23T00:00:00-05:00\",\"2021-02-24T00:00:00-05:00\",\"2021-02-25T00:00:00-05:00\",\"2021-02-26T00:00:00-05:00\",\"2021-03-01T00:00:00-05:00\",\"2021-03-02T00:00:00-05:00\",\"2021-03-03T00:00:00-05:00\",\"2021-03-04T00:00:00-05:00\",\"2021-03-05T00:00:00-05:00\",\"2021-03-08T00:00:00-05:00\",\"2021-03-09T00:00:00-05:00\",\"2021-03-10T00:00:00-05:00\",\"2021-03-11T00:00:00-05:00\",\"2021-03-12T00:00:00-05:00\",\"2021-03-15T00:00:00-04:00\",\"2021-03-16T00:00:00-04:00\",\"2021-03-17T00:00:00-04:00\",\"2021-03-18T00:00:00-04:00\",\"2021-03-19T00:00:00-04:00\",\"2021-03-22T00:00:00-04:00\",\"2021-03-23T00:00:00-04:00\",\"2021-03-24T00:00:00-04:00\",\"2021-03-25T00:00:00-04:00\",\"2021-03-26T00:00:00-04:00\",\"2021-03-29T00:00:00-04:00\",\"2021-03-30T00:00:00-04:00\",\"2021-03-31T00:00:00-04:00\",\"2021-04-01T00:00:00-04:00\",\"2021-04-05T00:00:00-04:00\",\"2021-04-06T00:00:00-04:00\",\"2021-04-07T00:00:00-04:00\",\"2021-04-08T00:00:00-04:00\",\"2021-04-09T00:00:00-04:00\",\"2021-04-12T00:00:00-04:00\",\"2021-04-13T00:00:00-04:00\",\"2021-04-14T00:00:00-04:00\",\"2021-04-15T00:00:00-04:00\",\"2021-04-16T00:00:00-04:00\",\"2021-04-19T00:00:00-04:00\",\"2021-04-20T00:00:00-04:00\",\"2021-04-21T00:00:00-04:00\",\"2021-04-22T00:00:00-04:00\",\"2021-04-23T00:00:00-04:00\",\"2021-04-26T00:00:00-04:00\",\"2021-04-27T00:00:00-04:00\",\"2021-04-28T00:00:00-04:00\",\"2021-04-29T00:00:00-04:00\",\"2021-04-30T00:00:00-04:00\",\"2021-05-03T00:00:00-04:00\",\"2021-05-04T00:00:00-04:00\",\"2021-05-05T00:00:00-04:00\",\"2021-05-06T00:00:00-04:00\",\"2021-05-07T00:00:00-04:00\",\"2021-05-10T00:00:00-04:00\",\"2021-05-11T00:00:00-04:00\",\"2021-05-12T00:00:00-04:00\",\"2021-05-13T00:00:00-04:00\",\"2021-05-14T00:00:00-04:00\",\"2021-05-17T00:00:00-04:00\",\"2021-05-18T00:00:00-04:00\",\"2021-05-19T00:00:00-04:00\",\"2021-05-20T00:00:00-04:00\",\"2021-05-21T00:00:00-04:00\",\"2021-05-24T00:00:00-04:00\",\"2021-05-25T00:00:00-04:00\",\"2021-05-26T00:00:00-04:00\",\"2021-05-27T00:00:00-04:00\",\"2021-05-28T00:00:00-04:00\",\"2021-06-01T00:00:00-04:00\",\"2021-06-02T00:00:00-04:00\",\"2021-06-03T00:00:00-04:00\",\"2021-06-04T00:00:00-04:00\",\"2021-06-07T00:00:00-04:00\",\"2021-06-08T00:00:00-04:00\",\"2021-06-09T00:00:00-04:00\",\"2021-06-10T00:00:00-04:00\",\"2021-06-11T00:00:00-04:00\",\"2021-06-14T00:00:00-04:00\",\"2021-06-15T00:00:00-04:00\",\"2021-06-16T00:00:00-04:00\",\"2021-06-17T00:00:00-04:00\",\"2021-06-18T00:00:00-04:00\",\"2021-06-21T00:00:00-04:00\",\"2021-06-22T00:00:00-04:00\",\"2021-06-23T00:00:00-04:00\",\"2021-06-24T00:00:00-04:00\",\"2021-06-25T00:00:00-04:00\",\"2021-06-28T00:00:00-04:00\",\"2021-06-29T00:00:00-04:00\",\"2021-06-30T00:00:00-04:00\",\"2021-07-01T00:00:00-04:00\",\"2021-07-02T00:00:00-04:00\",\"2021-07-06T00:00:00-04:00\",\"2021-07-07T00:00:00-04:00\",\"2021-07-08T00:00:00-04:00\",\"2021-07-09T00:00:00-04:00\",\"2021-07-12T00:00:00-04:00\",\"2021-07-13T00:00:00-04:00\",\"2021-07-14T00:00:00-04:00\",\"2021-07-15T00:00:00-04:00\",\"2021-07-16T00:00:00-04:00\",\"2021-07-19T00:00:00-04:00\",\"2021-07-20T00:00:00-04:00\",\"2021-07-21T00:00:00-04:00\",\"2021-07-22T00:00:00-04:00\",\"2021-07-23T00:00:00-04:00\",\"2021-07-26T00:00:00-04:00\",\"2021-07-27T00:00:00-04:00\",\"2021-07-28T00:00:00-04:00\",\"2021-07-29T00:00:00-04:00\",\"2021-07-30T00:00:00-04:00\",\"2021-08-02T00:00:00-04:00\",\"2021-08-03T00:00:00-04:00\",\"2021-08-04T00:00:00-04:00\",\"2021-08-05T00:00:00-04:00\",\"2021-08-06T00:00:00-04:00\",\"2021-08-09T00:00:00-04:00\",\"2021-08-10T00:00:00-04:00\",\"2021-08-11T00:00:00-04:00\",\"2021-08-12T00:00:00-04:00\",\"2021-08-13T00:00:00-04:00\",\"2021-08-16T00:00:00-04:00\",\"2021-08-17T00:00:00-04:00\",\"2021-08-18T00:00:00-04:00\",\"2021-08-19T00:00:00-04:00\",\"2021-08-20T00:00:00-04:00\",\"2021-08-23T00:00:00-04:00\",\"2021-08-24T00:00:00-04:00\",\"2021-08-25T00:00:00-04:00\",\"2021-08-26T00:00:00-04:00\",\"2021-08-27T00:00:00-04:00\",\"2021-08-30T00:00:00-04:00\",\"2021-08-31T00:00:00-04:00\",\"2021-09-01T00:00:00-04:00\",\"2021-09-02T00:00:00-04:00\",\"2021-09-03T00:00:00-04:00\",\"2021-09-07T00:00:00-04:00\",\"2021-09-08T00:00:00-04:00\",\"2021-09-09T00:00:00-04:00\",\"2021-09-10T00:00:00-04:00\",\"2021-09-13T00:00:00-04:00\",\"2021-09-14T00:00:00-04:00\",\"2021-09-15T00:00:00-04:00\",\"2021-09-16T00:00:00-04:00\",\"2021-09-17T00:00:00-04:00\",\"2021-09-20T00:00:00-04:00\",\"2021-09-21T00:00:00-04:00\",\"2021-09-22T00:00:00-04:00\",\"2021-09-23T00:00:00-04:00\",\"2021-09-24T00:00:00-04:00\",\"2021-09-27T00:00:00-04:00\",\"2021-09-28T00:00:00-04:00\",\"2021-09-29T00:00:00-04:00\",\"2021-09-30T00:00:00-04:00\",\"2021-10-01T00:00:00-04:00\",\"2021-10-04T00:00:00-04:00\",\"2021-10-05T00:00:00-04:00\",\"2021-10-06T00:00:00-04:00\",\"2021-10-07T00:00:00-04:00\",\"2021-10-08T00:00:00-04:00\",\"2021-10-11T00:00:00-04:00\",\"2021-10-12T00:00:00-04:00\",\"2021-10-13T00:00:00-04:00\",\"2021-10-14T00:00:00-04:00\",\"2021-10-15T00:00:00-04:00\",\"2021-10-18T00:00:00-04:00\",\"2021-10-19T00:00:00-04:00\",\"2021-10-20T00:00:00-04:00\",\"2021-10-21T00:00:00-04:00\",\"2021-10-22T00:00:00-04:00\",\"2021-10-25T00:00:00-04:00\",\"2021-10-26T00:00:00-04:00\",\"2021-10-27T00:00:00-04:00\",\"2021-10-28T00:00:00-04:00\",\"2021-10-29T00:00:00-04:00\",\"2021-11-01T00:00:00-04:00\",\"2021-11-02T00:00:00-04:00\",\"2021-11-03T00:00:00-04:00\",\"2021-11-04T00:00:00-04:00\",\"2021-11-05T00:00:00-04:00\",\"2021-11-08T00:00:00-05:00\",\"2021-11-09T00:00:00-05:00\",\"2021-11-10T00:00:00-05:00\",\"2021-11-11T00:00:00-05:00\",\"2021-11-12T00:00:00-05:00\",\"2021-11-15T00:00:00-05:00\",\"2021-11-16T00:00:00-05:00\",\"2021-11-17T00:00:00-05:00\",\"2021-11-18T00:00:00-05:00\",\"2021-11-19T00:00:00-05:00\",\"2021-11-22T00:00:00-05:00\",\"2021-11-23T00:00:00-05:00\",\"2021-11-24T00:00:00-05:00\",\"2021-11-26T00:00:00-05:00\",\"2021-11-29T00:00:00-05:00\",\"2021-11-30T00:00:00-05:00\",\"2021-12-01T00:00:00-05:00\",\"2021-12-02T00:00:00-05:00\",\"2021-12-03T00:00:00-05:00\",\"2021-12-06T00:00:00-05:00\",\"2021-12-07T00:00:00-05:00\",\"2021-12-08T00:00:00-05:00\",\"2021-12-09T00:00:00-05:00\",\"2021-12-10T00:00:00-05:00\",\"2021-12-13T00:00:00-05:00\",\"2021-12-14T00:00:00-05:00\",\"2021-12-15T00:00:00-05:00\",\"2021-12-16T00:00:00-05:00\",\"2021-12-17T00:00:00-05:00\",\"2021-12-20T00:00:00-05:00\",\"2021-12-21T00:00:00-05:00\",\"2021-12-22T00:00:00-05:00\",\"2021-12-23T00:00:00-05:00\",\"2021-12-27T00:00:00-05:00\",\"2021-12-28T00:00:00-05:00\",\"2021-12-29T00:00:00-05:00\",\"2021-12-30T00:00:00-05:00\",\"2021-12-31T00:00:00-05:00\",\"2022-01-03T00:00:00-05:00\",\"2022-01-04T00:00:00-05:00\",\"2022-01-05T00:00:00-05:00\",\"2022-01-06T00:00:00-05:00\",\"2022-01-07T00:00:00-05:00\",\"2022-01-10T00:00:00-05:00\",\"2022-01-11T00:00:00-05:00\",\"2022-01-12T00:00:00-05:00\",\"2022-01-13T00:00:00-05:00\",\"2022-01-14T00:00:00-05:00\",\"2022-01-18T00:00:00-05:00\",\"2022-01-19T00:00:00-05:00\",\"2022-01-20T00:00:00-05:00\",\"2022-01-21T00:00:00-05:00\",\"2022-01-24T00:00:00-05:00\",\"2022-01-25T00:00:00-05:00\",\"2022-01-26T00:00:00-05:00\",\"2022-01-27T00:00:00-05:00\",\"2022-01-28T00:00:00-05:00\",\"2022-01-31T00:00:00-05:00\",\"2022-02-01T00:00:00-05:00\",\"2022-02-02T00:00:00-05:00\",\"2022-02-03T00:00:00-05:00\",\"2022-02-04T00:00:00-05:00\",\"2022-02-07T00:00:00-05:00\",\"2022-02-08T00:00:00-05:00\",\"2022-02-09T00:00:00-05:00\",\"2022-02-10T00:00:00-05:00\",\"2022-02-11T00:00:00-05:00\",\"2022-02-14T00:00:00-05:00\",\"2022-02-15T00:00:00-05:00\",\"2022-02-16T00:00:00-05:00\",\"2022-02-17T00:00:00-05:00\",\"2022-02-18T00:00:00-05:00\",\"2022-02-22T00:00:00-05:00\",\"2022-02-23T00:00:00-05:00\",\"2022-02-24T00:00:00-05:00\",\"2022-02-25T00:00:00-05:00\",\"2022-02-28T00:00:00-05:00\",\"2022-03-01T00:00:00-05:00\",\"2022-03-02T00:00:00-05:00\",\"2022-03-03T00:00:00-05:00\",\"2022-03-04T00:00:00-05:00\",\"2022-03-07T00:00:00-05:00\",\"2022-03-08T00:00:00-05:00\",\"2022-03-09T00:00:00-05:00\",\"2022-03-10T00:00:00-05:00\",\"2022-03-11T00:00:00-05:00\",\"2022-03-14T00:00:00-04:00\",\"2022-03-15T00:00:00-04:00\",\"2022-03-16T00:00:00-04:00\",\"2022-03-17T00:00:00-04:00\",\"2022-03-18T00:00:00-04:00\",\"2022-03-21T00:00:00-04:00\",\"2022-03-22T00:00:00-04:00\",\"2022-03-23T00:00:00-04:00\",\"2022-03-24T00:00:00-04:00\",\"2022-03-25T00:00:00-04:00\",\"2022-03-28T00:00:00-04:00\",\"2022-03-29T00:00:00-04:00\",\"2022-03-30T00:00:00-04:00\",\"2022-03-31T00:00:00-04:00\",\"2022-04-01T00:00:00-04:00\",\"2022-04-04T00:00:00-04:00\",\"2022-04-05T00:00:00-04:00\",\"2022-04-06T00:00:00-04:00\",\"2022-04-07T00:00:00-04:00\",\"2022-04-08T00:00:00-04:00\",\"2022-04-11T00:00:00-04:00\",\"2022-04-12T00:00:00-04:00\",\"2022-04-13T00:00:00-04:00\",\"2022-04-14T00:00:00-04:00\",\"2022-04-18T00:00:00-04:00\",\"2022-04-19T00:00:00-04:00\",\"2022-04-20T00:00:00-04:00\",\"2022-04-21T00:00:00-04:00\",\"2022-04-22T00:00:00-04:00\",\"2022-04-25T00:00:00-04:00\",\"2022-04-26T00:00:00-04:00\",\"2022-04-27T00:00:00-04:00\",\"2022-04-28T00:00:00-04:00\",\"2022-04-29T00:00:00-04:00\",\"2022-05-02T00:00:00-04:00\",\"2022-05-03T00:00:00-04:00\",\"2022-05-04T00:00:00-04:00\",\"2022-05-05T00:00:00-04:00\",\"2022-05-06T00:00:00-04:00\",\"2022-05-09T00:00:00-04:00\",\"2022-05-10T00:00:00-04:00\",\"2022-05-11T00:00:00-04:00\",\"2022-05-12T00:00:00-04:00\",\"2022-05-13T00:00:00-04:00\",\"2022-05-16T00:00:00-04:00\",\"2022-05-17T00:00:00-04:00\",\"2022-05-18T00:00:00-04:00\",\"2022-05-19T00:00:00-04:00\",\"2022-05-20T00:00:00-04:00\",\"2022-05-23T00:00:00-04:00\",\"2022-05-24T00:00:00-04:00\",\"2022-05-25T00:00:00-04:00\",\"2022-05-26T00:00:00-04:00\",\"2022-05-27T00:00:00-04:00\",\"2022-05-31T00:00:00-04:00\",\"2022-06-01T00:00:00-04:00\",\"2022-06-02T00:00:00-04:00\",\"2022-06-03T00:00:00-04:00\",\"2022-06-06T00:00:00-04:00\",\"2022-06-07T00:00:00-04:00\",\"2022-06-08T00:00:00-04:00\",\"2022-06-09T00:00:00-04:00\",\"2022-06-10T00:00:00-04:00\",\"2022-06-13T00:00:00-04:00\",\"2022-06-14T00:00:00-04:00\",\"2022-06-15T00:00:00-04:00\",\"2022-06-16T00:00:00-04:00\",\"2022-06-17T00:00:00-04:00\",\"2022-06-21T00:00:00-04:00\",\"2022-06-22T00:00:00-04:00\",\"2022-06-23T00:00:00-04:00\",\"2022-06-24T00:00:00-04:00\",\"2022-06-27T00:00:00-04:00\",\"2022-06-28T00:00:00-04:00\",\"2022-06-29T00:00:00-04:00\",\"2022-06-30T00:00:00-04:00\",\"2022-07-01T00:00:00-04:00\",\"2022-07-05T00:00:00-04:00\",\"2022-07-06T00:00:00-04:00\",\"2022-07-07T00:00:00-04:00\",\"2022-07-08T00:00:00-04:00\",\"2022-07-11T00:00:00-04:00\",\"2022-07-12T00:00:00-04:00\",\"2022-07-13T00:00:00-04:00\",\"2022-07-14T00:00:00-04:00\",\"2022-07-15T00:00:00-04:00\",\"2022-07-18T00:00:00-04:00\",\"2022-07-19T00:00:00-04:00\",\"2022-07-20T00:00:00-04:00\",\"2022-07-21T00:00:00-04:00\",\"2022-07-22T00:00:00-04:00\",\"2022-07-25T00:00:00-04:00\",\"2022-07-26T00:00:00-04:00\",\"2022-07-27T00:00:00-04:00\",\"2022-07-28T00:00:00-04:00\",\"2022-07-29T00:00:00-04:00\",\"2022-08-01T00:00:00-04:00\",\"2022-08-02T00:00:00-04:00\",\"2022-08-03T00:00:00-04:00\",\"2022-08-04T00:00:00-04:00\",\"2022-08-05T00:00:00-04:00\",\"2022-08-08T00:00:00-04:00\",\"2022-08-09T00:00:00-04:00\",\"2022-08-10T00:00:00-04:00\",\"2022-08-11T00:00:00-04:00\",\"2022-08-12T00:00:00-04:00\",\"2022-08-15T00:00:00-04:00\",\"2022-08-16T00:00:00-04:00\",\"2022-08-17T00:00:00-04:00\",\"2022-08-18T00:00:00-04:00\",\"2022-08-19T00:00:00-04:00\",\"2022-08-22T00:00:00-04:00\",\"2022-08-23T00:00:00-04:00\",\"2022-08-24T00:00:00-04:00\",\"2022-08-25T00:00:00-04:00\",\"2022-08-26T00:00:00-04:00\",\"2022-08-29T00:00:00-04:00\",\"2022-08-30T00:00:00-04:00\",\"2022-08-31T00:00:00-04:00\",\"2022-09-01T00:00:00-04:00\",\"2022-09-02T00:00:00-04:00\",\"2022-09-06T00:00:00-04:00\",\"2022-09-07T00:00:00-04:00\",\"2022-09-08T00:00:00-04:00\",\"2022-09-09T00:00:00-04:00\",\"2022-09-12T00:00:00-04:00\",\"2022-09-13T00:00:00-04:00\",\"2022-09-14T00:00:00-04:00\",\"2022-09-15T00:00:00-04:00\",\"2022-09-16T00:00:00-04:00\",\"2022-09-19T00:00:00-04:00\",\"2022-09-20T00:00:00-04:00\",\"2022-09-21T00:00:00-04:00\",\"2022-09-22T00:00:00-04:00\",\"2022-09-23T00:00:00-04:00\",\"2022-09-26T00:00:00-04:00\",\"2022-09-27T00:00:00-04:00\",\"2022-09-28T00:00:00-04:00\",\"2022-09-29T00:00:00-04:00\",\"2022-09-30T00:00:00-04:00\",\"2022-10-03T00:00:00-04:00\",\"2022-10-04T00:00:00-04:00\",\"2022-10-05T00:00:00-04:00\",\"2022-10-06T00:00:00-04:00\",\"2022-10-07T00:00:00-04:00\",\"2022-10-10T00:00:00-04:00\",\"2022-10-11T00:00:00-04:00\",\"2022-10-12T00:00:00-04:00\",\"2022-10-13T00:00:00-04:00\",\"2022-10-14T00:00:00-04:00\",\"2022-10-17T00:00:00-04:00\",\"2022-10-18T00:00:00-04:00\",\"2022-10-19T00:00:00-04:00\",\"2022-10-20T00:00:00-04:00\",\"2022-10-21T00:00:00-04:00\",\"2022-10-24T00:00:00-04:00\",\"2022-10-25T00:00:00-04:00\",\"2022-10-26T00:00:00-04:00\",\"2022-10-27T00:00:00-04:00\",\"2022-10-28T00:00:00-04:00\",\"2022-10-31T00:00:00-04:00\",\"2022-11-01T00:00:00-04:00\",\"2022-11-02T00:00:00-04:00\",\"2022-11-03T00:00:00-04:00\",\"2022-11-04T00:00:00-04:00\",\"2022-11-07T00:00:00-05:00\",\"2022-11-08T00:00:00-05:00\",\"2022-11-09T00:00:00-05:00\",\"2022-11-10T00:00:00-05:00\",\"2022-11-11T00:00:00-05:00\",\"2022-11-14T00:00:00-05:00\",\"2022-11-15T00:00:00-05:00\",\"2022-11-16T00:00:00-05:00\",\"2022-11-17T00:00:00-05:00\",\"2022-11-18T00:00:00-05:00\",\"2022-11-21T00:00:00-05:00\",\"2022-11-22T00:00:00-05:00\",\"2022-11-23T00:00:00-05:00\",\"2022-11-25T00:00:00-05:00\",\"2022-11-28T00:00:00-05:00\",\"2022-11-29T00:00:00-05:00\",\"2022-11-30T00:00:00-05:00\",\"2022-12-01T00:00:00-05:00\",\"2022-12-02T00:00:00-05:00\",\"2022-12-05T00:00:00-05:00\",\"2022-12-06T00:00:00-05:00\",\"2022-12-07T00:00:00-05:00\",\"2022-12-08T00:00:00-05:00\",\"2022-12-09T00:00:00-05:00\",\"2022-12-12T00:00:00-05:00\",\"2022-12-13T00:00:00-05:00\",\"2022-12-14T00:00:00-05:00\",\"2022-12-15T00:00:00-05:00\",\"2022-12-16T00:00:00-05:00\",\"2022-12-19T00:00:00-05:00\",\"2022-12-20T00:00:00-05:00\",\"2022-12-21T00:00:00-05:00\",\"2022-12-22T00:00:00-05:00\",\"2022-12-23T00:00:00-05:00\",\"2022-12-27T00:00:00-05:00\",\"2022-12-28T00:00:00-05:00\",\"2022-12-29T00:00:00-05:00\",\"2022-12-30T00:00:00-05:00\",\"2023-01-03T00:00:00-05:00\",\"2023-01-04T00:00:00-05:00\",\"2023-01-05T00:00:00-05:00\",\"2023-01-06T00:00:00-05:00\",\"2023-01-09T00:00:00-05:00\",\"2023-01-10T00:00:00-05:00\",\"2023-01-11T00:00:00-05:00\",\"2023-01-12T00:00:00-05:00\",\"2023-01-13T00:00:00-05:00\",\"2023-01-17T00:00:00-05:00\",\"2023-01-18T00:00:00-05:00\",\"2023-01-19T00:00:00-05:00\",\"2023-01-20T00:00:00-05:00\",\"2023-01-23T00:00:00-05:00\",\"2023-01-24T00:00:00-05:00\",\"2023-01-25T00:00:00-05:00\",\"2023-01-26T00:00:00-05:00\",\"2023-01-27T00:00:00-05:00\",\"2023-01-30T00:00:00-05:00\",\"2023-01-31T00:00:00-05:00\",\"2023-02-01T00:00:00-05:00\",\"2023-02-02T00:00:00-05:00\",\"2023-02-03T00:00:00-05:00\",\"2023-02-06T00:00:00-05:00\",\"2023-02-07T00:00:00-05:00\",\"2023-02-08T00:00:00-05:00\",\"2023-02-09T00:00:00-05:00\",\"2023-02-10T00:00:00-05:00\",\"2023-02-13T00:00:00-05:00\",\"2023-02-14T00:00:00-05:00\",\"2023-02-15T00:00:00-05:00\",\"2023-02-16T00:00:00-05:00\",\"2023-02-17T00:00:00-05:00\",\"2023-02-21T00:00:00-05:00\",\"2023-02-22T00:00:00-05:00\",\"2023-02-23T00:00:00-05:00\",\"2023-02-24T00:00:00-05:00\",\"2023-02-27T00:00:00-05:00\",\"2023-02-28T00:00:00-05:00\",\"2023-03-01T00:00:00-05:00\",\"2023-03-02T00:00:00-05:00\",\"2023-03-03T00:00:00-05:00\",\"2023-03-06T00:00:00-05:00\",\"2023-03-07T00:00:00-05:00\",\"2023-03-08T00:00:00-05:00\",\"2023-03-09T00:00:00-05:00\",\"2023-03-10T00:00:00-05:00\",\"2023-03-13T00:00:00-04:00\",\"2023-03-14T00:00:00-04:00\",\"2023-03-15T00:00:00-04:00\",\"2023-03-16T00:00:00-04:00\",\"2023-03-17T00:00:00-04:00\",\"2023-03-20T00:00:00-04:00\",\"2023-03-21T00:00:00-04:00\",\"2023-03-22T00:00:00-04:00\",\"2023-03-23T00:00:00-04:00\",\"2023-03-24T00:00:00-04:00\",\"2023-03-27T00:00:00-04:00\",\"2023-03-28T00:00:00-04:00\",\"2023-03-29T00:00:00-04:00\",\"2023-03-30T00:00:00-04:00\",\"2023-03-31T00:00:00-04:00\",\"2023-04-03T00:00:00-04:00\",\"2023-04-04T00:00:00-04:00\",\"2023-04-05T00:00:00-04:00\",\"2023-04-06T00:00:00-04:00\",\"2023-04-10T00:00:00-04:00\",\"2023-04-11T00:00:00-04:00\",\"2023-04-12T00:00:00-04:00\",\"2023-04-13T00:00:00-04:00\",\"2023-04-14T00:00:00-04:00\",\"2023-04-17T00:00:00-04:00\",\"2023-04-18T00:00:00-04:00\",\"2023-04-19T00:00:00-04:00\",\"2023-04-20T00:00:00-04:00\",\"2023-04-21T00:00:00-04:00\",\"2023-04-24T00:00:00-04:00\",\"2023-04-25T00:00:00-04:00\",\"2023-04-26T00:00:00-04:00\",\"2023-04-27T00:00:00-04:00\",\"2023-04-28T00:00:00-04:00\",\"2023-05-01T00:00:00-04:00\",\"2023-05-02T00:00:00-04:00\",\"2023-05-03T00:00:00-04:00\",\"2023-05-04T00:00:00-04:00\",\"2023-05-05T00:00:00-04:00\",\"2023-05-08T00:00:00-04:00\",\"2023-05-09T00:00:00-04:00\",\"2023-05-10T00:00:00-04:00\",\"2023-05-11T00:00:00-04:00\",\"2023-05-12T00:00:00-04:00\",\"2023-05-15T00:00:00-04:00\",\"2023-05-16T00:00:00-04:00\",\"2023-05-17T00:00:00-04:00\",\"2023-05-18T00:00:00-04:00\",\"2023-05-19T00:00:00-04:00\",\"2023-05-22T00:00:00-04:00\",\"2023-05-23T00:00:00-04:00\",\"2023-05-24T00:00:00-04:00\",\"2023-05-25T00:00:00-04:00\",\"2023-05-26T00:00:00-04:00\",\"2023-05-30T00:00:00-04:00\",\"2023-05-31T00:00:00-04:00\",\"2023-06-01T00:00:00-04:00\",\"2023-06-02T00:00:00-04:00\",\"2023-06-05T00:00:00-04:00\",\"2023-06-06T00:00:00-04:00\",\"2023-06-07T00:00:00-04:00\",\"2023-06-08T00:00:00-04:00\",\"2023-06-09T00:00:00-04:00\",\"2023-06-12T00:00:00-04:00\",\"2023-06-13T00:00:00-04:00\",\"2023-06-14T00:00:00-04:00\",\"2023-06-15T00:00:00-04:00\",\"2023-06-16T00:00:00-04:00\",\"2023-06-20T00:00:00-04:00\",\"2023-06-21T00:00:00-04:00\",\"2023-06-22T00:00:00-04:00\",\"2023-06-23T00:00:00-04:00\",\"2023-06-26T00:00:00-04:00\",\"2023-06-27T00:00:00-04:00\",\"2023-06-28T00:00:00-04:00\",\"2023-06-29T00:00:00-04:00\",\"2023-06-30T00:00:00-04:00\",\"2023-07-03T00:00:00-04:00\",\"2023-07-05T00:00:00-04:00\",\"2023-07-06T00:00:00-04:00\",\"2023-07-07T00:00:00-04:00\",\"2023-07-10T00:00:00-04:00\",\"2023-07-11T00:00:00-04:00\",\"2023-07-12T00:00:00-04:00\",\"2023-07-13T00:00:00-04:00\",\"2023-07-14T00:00:00-04:00\",\"2023-07-17T00:00:00-04:00\",\"2023-07-18T00:00:00-04:00\",\"2023-07-19T00:00:00-04:00\",\"2023-07-20T00:00:00-04:00\",\"2023-07-21T00:00:00-04:00\",\"2023-07-24T00:00:00-04:00\",\"2023-07-25T00:00:00-04:00\",\"2023-07-26T00:00:00-04:00\",\"2023-07-27T00:00:00-04:00\",\"2023-07-28T00:00:00-04:00\",\"2023-07-31T00:00:00-04:00\",\"2023-08-01T00:00:00-04:00\",\"2023-08-02T00:00:00-04:00\",\"2023-08-03T00:00:00-04:00\",\"2023-08-04T00:00:00-04:00\",\"2023-08-07T00:00:00-04:00\",\"2023-08-08T00:00:00-04:00\",\"2023-08-09T00:00:00-04:00\",\"2023-08-10T00:00:00-04:00\",\"2023-08-11T00:00:00-04:00\",\"2023-08-14T00:00:00-04:00\",\"2023-08-15T00:00:00-04:00\",\"2023-08-16T00:00:00-04:00\",\"2023-08-17T00:00:00-04:00\",\"2023-08-18T00:00:00-04:00\",\"2023-08-21T00:00:00-04:00\",\"2023-08-22T00:00:00-04:00\",\"2023-08-23T00:00:00-04:00\",\"2023-08-24T00:00:00-04:00\",\"2023-08-25T00:00:00-04:00\",\"2023-08-28T00:00:00-04:00\",\"2023-08-29T00:00:00-04:00\",\"2023-08-30T00:00:00-04:00\",\"2023-08-31T00:00:00-04:00\",\"2023-09-01T00:00:00-04:00\",\"2023-09-05T00:00:00-04:00\",\"2023-09-06T00:00:00-04:00\",\"2023-09-07T00:00:00-04:00\",\"2023-09-08T00:00:00-04:00\",\"2023-09-11T00:00:00-04:00\",\"2023-09-12T00:00:00-04:00\",\"2023-09-13T00:00:00-04:00\",\"2023-09-14T00:00:00-04:00\",\"2023-09-15T00:00:00-04:00\",\"2023-09-18T00:00:00-04:00\",\"2023-09-19T00:00:00-04:00\",\"2023-09-20T00:00:00-04:00\",\"2023-09-21T00:00:00-04:00\",\"2023-09-22T00:00:00-04:00\",\"2023-09-25T00:00:00-04:00\",\"2023-09-26T00:00:00-04:00\",\"2023-09-27T00:00:00-04:00\",\"2023-09-28T00:00:00-04:00\",\"2023-09-29T00:00:00-04:00\",\"2023-10-02T00:00:00-04:00\",\"2023-10-03T00:00:00-04:00\",\"2023-10-04T00:00:00-04:00\",\"2023-10-05T00:00:00-04:00\",\"2023-10-06T00:00:00-04:00\",\"2023-10-09T00:00:00-04:00\",\"2023-10-10T00:00:00-04:00\",\"2023-10-11T00:00:00-04:00\",\"2023-10-12T00:00:00-04:00\",\"2023-10-13T00:00:00-04:00\",\"2023-10-16T00:00:00-04:00\",\"2023-10-17T00:00:00-04:00\",\"2023-10-18T00:00:00-04:00\",\"2023-10-19T00:00:00-04:00\",\"2023-10-20T00:00:00-04:00\",\"2023-10-23T00:00:00-04:00\",\"2023-10-24T00:00:00-04:00\",\"2023-10-25T00:00:00-04:00\",\"2023-10-26T00:00:00-04:00\",\"2023-10-27T00:00:00-04:00\",\"2023-10-30T00:00:00-04:00\",\"2023-10-31T00:00:00-04:00\",\"2023-11-01T00:00:00-04:00\",\"2023-11-02T00:00:00-04:00\",\"2023-11-03T00:00:00-04:00\",\"2023-11-06T00:00:00-05:00\",\"2023-11-07T00:00:00-05:00\",\"2023-11-08T00:00:00-05:00\",\"2023-11-09T00:00:00-05:00\",\"2023-11-10T00:00:00-05:00\",\"2023-11-13T00:00:00-05:00\",\"2023-11-14T00:00:00-05:00\",\"2023-11-15T00:00:00-05:00\",\"2023-11-16T00:00:00-05:00\",\"2023-11-17T00:00:00-05:00\",\"2023-11-20T00:00:00-05:00\",\"2023-11-21T00:00:00-05:00\",\"2023-11-22T00:00:00-05:00\",\"2023-11-24T00:00:00-05:00\",\"2023-11-27T00:00:00-05:00\",\"2023-11-28T00:00:00-05:00\",\"2023-11-29T00:00:00-05:00\",\"2023-11-30T00:00:00-05:00\",\"2023-12-01T00:00:00-05:00\",\"2023-12-04T00:00:00-05:00\",\"2023-12-05T00:00:00-05:00\",\"2023-12-06T00:00:00-05:00\",\"2023-12-07T00:00:00-05:00\",\"2023-12-08T00:00:00-05:00\",\"2023-12-11T00:00:00-05:00\",\"2023-12-12T00:00:00-05:00\",\"2023-12-13T00:00:00-05:00\",\"2023-12-14T00:00:00-05:00\",\"2023-12-15T00:00:00-05:00\",\"2023-12-18T00:00:00-05:00\",\"2023-12-19T00:00:00-05:00\",\"2023-12-20T00:00:00-05:00\",\"2023-12-21T00:00:00-05:00\",\"2023-12-22T00:00:00-05:00\",\"2023-12-26T00:00:00-05:00\",\"2023-12-27T00:00:00-05:00\",\"2023-12-28T00:00:00-05:00\",\"2023-12-29T00:00:00-05:00\",\"2024-01-02T00:00:00-05:00\",\"2024-01-03T00:00:00-05:00\",\"2024-01-04T00:00:00-05:00\",\"2024-01-05T00:00:00-05:00\",\"2024-01-08T00:00:00-05:00\",\"2024-01-09T00:00:00-05:00\",\"2024-01-10T00:00:00-05:00\",\"2024-01-11T00:00:00-05:00\",\"2024-01-12T00:00:00-05:00\",\"2024-01-16T00:00:00-05:00\",\"2024-01-17T00:00:00-05:00\",\"2024-01-18T00:00:00-05:00\",\"2024-01-19T00:00:00-05:00\",\"2024-01-22T00:00:00-05:00\",\"2024-01-23T00:00:00-05:00\",\"2024-01-24T00:00:00-05:00\",\"2024-01-25T00:00:00-05:00\",\"2024-01-26T00:00:00-05:00\",\"2024-01-29T00:00:00-05:00\",\"2024-01-30T00:00:00-05:00\",\"2024-01-31T00:00:00-05:00\",\"2024-02-01T00:00:00-05:00\",\"2024-02-02T00:00:00-05:00\",\"2024-02-05T00:00:00-05:00\",\"2024-02-06T00:00:00-05:00\",\"2024-02-07T00:00:00-05:00\",\"2024-02-08T00:00:00-05:00\",\"2024-02-09T00:00:00-05:00\",\"2024-02-12T00:00:00-05:00\",\"2024-02-13T00:00:00-05:00\",\"2024-02-14T00:00:00-05:00\",\"2024-02-15T00:00:00-05:00\",\"2024-02-16T00:00:00-05:00\",\"2024-02-20T00:00:00-05:00\",\"2024-02-21T00:00:00-05:00\",\"2024-02-22T00:00:00-05:00\",\"2024-02-23T00:00:00-05:00\",\"2024-02-26T00:00:00-05:00\",\"2024-02-27T00:00:00-05:00\",\"2024-02-28T00:00:00-05:00\",\"2024-02-29T00:00:00-05:00\",\"2024-03-01T00:00:00-05:00\",\"2024-03-04T00:00:00-05:00\",\"2024-03-05T00:00:00-05:00\",\"2024-03-06T00:00:00-05:00\",\"2024-03-07T00:00:00-05:00\",\"2024-03-08T00:00:00-05:00\",\"2024-03-11T00:00:00-04:00\",\"2024-03-12T00:00:00-04:00\",\"2024-03-13T00:00:00-04:00\",\"2024-03-14T00:00:00-04:00\",\"2024-03-15T00:00:00-04:00\",\"2024-03-18T00:00:00-04:00\",\"2024-03-19T00:00:00-04:00\",\"2024-03-20T00:00:00-04:00\",\"2024-03-21T00:00:00-04:00\",\"2024-03-22T00:00:00-04:00\",\"2024-03-25T00:00:00-04:00\",\"2024-03-26T00:00:00-04:00\",\"2024-03-27T00:00:00-04:00\",\"2024-03-28T00:00:00-04:00\",\"2024-04-01T00:00:00-04:00\",\"2024-04-02T00:00:00-04:00\",\"2024-04-03T00:00:00-04:00\",\"2024-04-04T00:00:00-04:00\",\"2024-04-05T00:00:00-04:00\",\"2024-04-08T00:00:00-04:00\",\"2024-04-09T00:00:00-04:00\",\"2024-04-10T00:00:00-04:00\",\"2024-04-11T00:00:00-04:00\",\"2024-04-12T00:00:00-04:00\",\"2024-04-15T00:00:00-04:00\",\"2024-04-16T00:00:00-04:00\",\"2024-04-17T00:00:00-04:00\",\"2024-04-18T00:00:00-04:00\",\"2024-04-19T00:00:00-04:00\",\"2024-04-22T00:00:00-04:00\",\"2024-04-23T00:00:00-04:00\",\"2024-04-24T00:00:00-04:00\",\"2024-04-25T00:00:00-04:00\",\"2024-04-26T00:00:00-04:00\",\"2024-04-29T00:00:00-04:00\",\"2024-04-30T00:00:00-04:00\",\"2024-05-01T00:00:00-04:00\",\"2024-05-02T00:00:00-04:00\",\"2024-05-03T00:00:00-04:00\",\"2024-05-06T00:00:00-04:00\",\"2024-05-07T00:00:00-04:00\",\"2024-05-08T00:00:00-04:00\",\"2024-05-09T00:00:00-04:00\",\"2024-05-10T00:00:00-04:00\",\"2024-05-13T00:00:00-04:00\",\"2024-05-14T00:00:00-04:00\",\"2024-05-15T00:00:00-04:00\",\"2024-05-16T00:00:00-04:00\",\"2024-05-17T00:00:00-04:00\",\"2024-05-20T00:00:00-04:00\",\"2024-05-21T00:00:00-04:00\",\"2024-05-22T00:00:00-04:00\",\"2024-05-23T00:00:00-04:00\",\"2024-05-24T00:00:00-04:00\",\"2024-05-28T00:00:00-04:00\",\"2024-05-29T00:00:00-04:00\",\"2024-05-30T00:00:00-04:00\",\"2024-05-31T00:00:00-04:00\",\"2024-06-03T00:00:00-04:00\",\"2024-06-04T00:00:00-04:00\",\"2024-06-05T00:00:00-04:00\",\"2024-06-06T00:00:00-04:00\",\"2024-06-07T00:00:00-04:00\",\"2024-06-10T00:00:00-04:00\",\"2024-06-11T00:00:00-04:00\",\"2024-06-12T00:00:00-04:00\",\"2024-06-13T00:00:00-04:00\",\"2024-06-14T00:00:00-04:00\",\"2024-06-17T00:00:00-04:00\",\"2024-06-18T00:00:00-04:00\",\"2024-06-20T00:00:00-04:00\",\"2024-06-21T00:00:00-04:00\",\"2024-06-24T00:00:00-04:00\",\"2024-06-25T00:00:00-04:00\",\"2024-06-26T00:00:00-04:00\",\"2024-06-27T00:00:00-04:00\",\"2024-06-28T00:00:00-04:00\",\"2024-07-01T00:00:00-04:00\",\"2024-07-02T00:00:00-04:00\",\"2024-07-03T00:00:00-04:00\",\"2024-07-05T00:00:00-04:00\",\"2024-07-08T00:00:00-04:00\",\"2024-07-09T00:00:00-04:00\",\"2024-07-10T00:00:00-04:00\",\"2024-07-11T00:00:00-04:00\",\"2024-07-12T00:00:00-04:00\",\"2024-07-15T00:00:00-04:00\",\"2024-07-16T00:00:00-04:00\",\"2024-07-17T00:00:00-04:00\",\"2024-07-18T00:00:00-04:00\",\"2024-07-19T00:00:00-04:00\",\"2024-07-22T00:00:00-04:00\",\"2024-07-23T00:00:00-04:00\",\"2024-07-24T00:00:00-04:00\",\"2024-07-25T00:00:00-04:00\",\"2024-07-26T00:00:00-04:00\",\"2024-07-29T00:00:00-04:00\",\"2024-07-30T00:00:00-04:00\",\"2024-07-31T00:00:00-04:00\",\"2024-08-01T00:00:00-04:00\",\"2024-08-02T00:00:00-04:00\",\"2024-08-05T00:00:00-04:00\",\"2024-08-06T00:00:00-04:00\",\"2024-08-07T00:00:00-04:00\",\"2024-08-08T00:00:00-04:00\",\"2024-08-09T00:00:00-04:00\",\"2024-08-12T00:00:00-04:00\",\"2024-08-13T00:00:00-04:00\",\"2024-08-14T00:00:00-04:00\",\"2024-08-15T00:00:00-04:00\",\"2024-08-16T00:00:00-04:00\",\"2024-08-19T00:00:00-04:00\",\"2024-08-20T00:00:00-04:00\",\"2024-08-21T00:00:00-04:00\",\"2024-08-22T00:00:00-04:00\",\"2024-08-23T00:00:00-04:00\",\"2024-08-26T00:00:00-04:00\",\"2024-08-27T00:00:00-04:00\",\"2024-08-28T00:00:00-04:00\",\"2024-08-29T00:00:00-04:00\",\"2024-08-30T00:00:00-04:00\",\"2024-09-03T00:00:00-04:00\",\"2024-09-04T00:00:00-04:00\",\"2024-09-05T00:00:00-04:00\",\"2024-09-06T00:00:00-04:00\",\"2024-09-09T00:00:00-04:00\",\"2024-09-10T00:00:00-04:00\",\"2024-09-11T00:00:00-04:00\",\"2024-09-12T00:00:00-04:00\",\"2024-09-13T00:00:00-04:00\",\"2024-09-16T00:00:00-04:00\",\"2024-09-17T00:00:00-04:00\",\"2024-09-18T00:00:00-04:00\",\"2024-09-19T00:00:00-04:00\",\"2024-09-20T00:00:00-04:00\",\"2024-09-23T00:00:00-04:00\",\"2024-09-24T00:00:00-04:00\",\"2024-09-25T00:00:00-04:00\",\"2024-09-26T00:00:00-04:00\",\"2024-09-27T00:00:00-04:00\",\"2024-09-30T00:00:00-04:00\",\"2024-10-01T00:00:00-04:00\",\"2024-10-02T00:00:00-04:00\",\"2024-10-03T00:00:00-04:00\",\"2024-10-04T00:00:00-04:00\",\"2024-10-07T00:00:00-04:00\",\"2024-10-08T00:00:00-04:00\",\"2024-10-09T00:00:00-04:00\",\"2024-10-10T00:00:00-04:00\",\"2024-10-11T00:00:00-04:00\",\"2024-10-14T00:00:00-04:00\",\"2024-10-15T00:00:00-04:00\",\"2024-10-16T00:00:00-04:00\",\"2024-10-17T00:00:00-04:00\",\"2024-10-18T00:00:00-04:00\",\"2024-10-21T00:00:00-04:00\",\"2024-10-22T00:00:00-04:00\",\"2024-10-23T00:00:00-04:00\",\"2024-10-24T00:00:00-04:00\",\"2024-10-25T00:00:00-04:00\",\"2024-10-28T00:00:00-04:00\",\"2024-10-29T00:00:00-04:00\",\"2024-10-30T00:00:00-04:00\",\"2024-10-31T00:00:00-04:00\",\"2024-11-01T00:00:00-04:00\",\"2024-11-04T00:00:00-05:00\",\"2024-11-05T00:00:00-05:00\",\"2024-11-06T00:00:00-05:00\",\"2024-11-07T00:00:00-05:00\",\"2024-11-08T00:00:00-05:00\",\"2024-11-11T00:00:00-05:00\",\"2024-11-12T00:00:00-05:00\",\"2024-11-13T00:00:00-05:00\",\"2024-11-14T00:00:00-05:00\",\"2024-11-15T00:00:00-05:00\",\"2024-11-18T00:00:00-05:00\",\"2024-11-19T00:00:00-05:00\",\"2024-11-20T00:00:00-05:00\",\"2024-11-21T00:00:00-05:00\",\"2024-11-22T00:00:00-05:00\",\"2024-11-25T00:00:00-05:00\",\"2024-11-26T00:00:00-05:00\",\"2024-11-27T00:00:00-05:00\",\"2024-11-29T00:00:00-05:00\",\"2024-12-02T00:00:00-05:00\",\"2024-12-03T00:00:00-05:00\",\"2024-12-04T00:00:00-05:00\",\"2024-12-05T00:00:00-05:00\",\"2024-12-06T00:00:00-05:00\",\"2024-12-09T00:00:00-05:00\",\"2024-12-10T00:00:00-05:00\",\"2024-12-11T00:00:00-05:00\",\"2024-12-12T00:00:00-05:00\",\"2024-12-13T00:00:00-05:00\",\"2024-12-16T00:00:00-05:00\",\"2024-12-17T00:00:00-05:00\",\"2024-12-18T00:00:00-05:00\",\"2024-12-19T00:00:00-05:00\",\"2024-12-20T00:00:00-05:00\"],\"type\":\"candlestick\"}],                        {\"template\":{\"data\":{\"histogram2dcontour\":[{\"type\":\"histogram2dcontour\",\"colorbar\":{\"outlinewidth\":0,\"ticks\":\"\"},\"colorscale\":[[0.0,\"#0d0887\"],[0.1111111111111111,\"#46039f\"],[0.2222222222222222,\"#7201a8\"],[0.3333333333333333,\"#9c179e\"],[0.4444444444444444,\"#bd3786\"],[0.5555555555555556,\"#d8576b\"],[0.6666666666666666,\"#ed7953\"],[0.7777777777777778,\"#fb9f3a\"],[0.8888888888888888,\"#fdca26\"],[1.0,\"#f0f921\"]]}],\"choropleth\":[{\"type\":\"choropleth\",\"colorbar\":{\"outlinewidth\":0,\"ticks\":\"\"}}],\"histogram2d\":[{\"type\":\"histogram2d\",\"colorbar\":{\"outlinewidth\":0,\"ticks\":\"\"},\"colorscale\":[[0.0,\"#0d0887\"],[0.1111111111111111,\"#46039f\"],[0.2222222222222222,\"#7201a8\"],[0.3333333333333333,\"#9c179e\"],[0.4444444444444444,\"#bd3786\"],[0.5555555555555556,\"#d8576b\"],[0.6666666666666666,\"#ed7953\"],[0.7777777777777778,\"#fb9f3a\"],[0.8888888888888888,\"#fdca26\"],[1.0,\"#f0f921\"]]}],\"heatmap\":[{\"type\":\"heatmap\",\"colorbar\":{\"outlinewidth\":0,\"ticks\":\"\"},\"colorscale\":[[0.0,\"#0d0887\"],[0.1111111111111111,\"#46039f\"],[0.2222222222222222,\"#7201a8\"],[0.3333333333333333,\"#9c179e\"],[0.4444444444444444,\"#bd3786\"],[0.5555555555555556,\"#d8576b\"],[0.6666666666666666,\"#ed7953\"],[0.7777777777777778,\"#fb9f3a\"],[0.8888888888888888,\"#fdca26\"],[1.0,\"#f0f921\"]]}],\"heatmapgl\":[{\"type\":\"heatmapgl\",\"colorbar\":{\"outlinewidth\":0,\"ticks\":\"\"},\"colorscale\":[[0.0,\"#0d0887\"],[0.1111111111111111,\"#46039f\"],[0.2222222222222222,\"#7201a8\"],[0.3333333333333333,\"#9c179e\"],[0.4444444444444444,\"#bd3786\"],[0.5555555555555556,\"#d8576b\"],[0.6666666666666666,\"#ed7953\"],[0.7777777777777778,\"#fb9f3a\"],[0.8888888888888888,\"#fdca26\"],[1.0,\"#f0f921\"]]}],\"contourcarpet\":[{\"type\":\"contourcarpet\",\"colorbar\":{\"outlinewidth\":0,\"ticks\":\"\"}}],\"contour\":[{\"type\":\"contour\",\"colorbar\":{\"outlinewidth\":0,\"ticks\":\"\"},\"colorscale\":[[0.0,\"#0d0887\"],[0.1111111111111111,\"#46039f\"],[0.2222222222222222,\"#7201a8\"],[0.3333333333333333,\"#9c179e\"],[0.4444444444444444,\"#bd3786\"],[0.5555555555555556,\"#d8576b\"],[0.6666666666666666,\"#ed7953\"],[0.7777777777777778,\"#fb9f3a\"],[0.8888888888888888,\"#fdca26\"],[1.0,\"#f0f921\"]]}],\"surface\":[{\"type\":\"surface\",\"colorbar\":{\"outlinewidth\":0,\"ticks\":\"\"},\"colorscale\":[[0.0,\"#0d0887\"],[0.1111111111111111,\"#46039f\"],[0.2222222222222222,\"#7201a8\"],[0.3333333333333333,\"#9c179e\"],[0.4444444444444444,\"#bd3786\"],[0.5555555555555556,\"#d8576b\"],[0.6666666666666666,\"#ed7953\"],[0.7777777777777778,\"#fb9f3a\"],[0.8888888888888888,\"#fdca26\"],[1.0,\"#f0f921\"]]}],\"mesh3d\":[{\"type\":\"mesh3d\",\"colorbar\":{\"outlinewidth\":0,\"ticks\":\"\"}}],\"scatter\":[{\"fillpattern\":{\"fillmode\":\"overlay\",\"size\":10,\"solidity\":0.2},\"type\":\"scatter\"}],\"parcoords\":[{\"type\":\"parcoords\",\"line\":{\"colorbar\":{\"outlinewidth\":0,\"ticks\":\"\"}}}],\"scatterpolargl\":[{\"type\":\"scatterpolargl\",\"marker\":{\"colorbar\":{\"outlinewidth\":0,\"ticks\":\"\"}}}],\"bar\":[{\"error_x\":{\"color\":\"#2a3f5f\"},\"error_y\":{\"color\":\"#2a3f5f\"},\"marker\":{\"line\":{\"color\":\"#E5ECF6\",\"width\":0.5},\"pattern\":{\"fillmode\":\"overlay\",\"size\":10,\"solidity\":0.2}},\"type\":\"bar\"}],\"scattergeo\":[{\"type\":\"scattergeo\",\"marker\":{\"colorbar\":{\"outlinewidth\":0,\"ticks\":\"\"}}}],\"scatterpolar\":[{\"type\":\"scatterpolar\",\"marker\":{\"colorbar\":{\"outlinewidth\":0,\"ticks\":\"\"}}}],\"histogram\":[{\"marker\":{\"pattern\":{\"fillmode\":\"overlay\",\"size\":10,\"solidity\":0.2}},\"type\":\"histogram\"}],\"scattergl\":[{\"type\":\"scattergl\",\"marker\":{\"colorbar\":{\"outlinewidth\":0,\"ticks\":\"\"}}}],\"scatter3d\":[{\"type\":\"scatter3d\",\"line\":{\"colorbar\":{\"outlinewidth\":0,\"ticks\":\"\"}},\"marker\":{\"colorbar\":{\"outlinewidth\":0,\"ticks\":\"\"}}}],\"scattermapbox\":[{\"type\":\"scattermapbox\",\"marker\":{\"colorbar\":{\"outlinewidth\":0,\"ticks\":\"\"}}}],\"scatterternary\":[{\"type\":\"scatterternary\",\"marker\":{\"colorbar\":{\"outlinewidth\":0,\"ticks\":\"\"}}}],\"scattercarpet\":[{\"type\":\"scattercarpet\",\"marker\":{\"colorbar\":{\"outlinewidth\":0,\"ticks\":\"\"}}}],\"carpet\":[{\"aaxis\":{\"endlinecolor\":\"#2a3f5f\",\"gridcolor\":\"white\",\"linecolor\":\"white\",\"minorgridcolor\":\"white\",\"startlinecolor\":\"#2a3f5f\"},\"baxis\":{\"endlinecolor\":\"#2a3f5f\",\"gridcolor\":\"white\",\"linecolor\":\"white\",\"minorgridcolor\":\"white\",\"startlinecolor\":\"#2a3f5f\"},\"type\":\"carpet\"}],\"table\":[{\"cells\":{\"fill\":{\"color\":\"#EBF0F8\"},\"line\":{\"color\":\"white\"}},\"header\":{\"fill\":{\"color\":\"#C8D4E3\"},\"line\":{\"color\":\"white\"}},\"type\":\"table\"}],\"barpolar\":[{\"marker\":{\"line\":{\"color\":\"#E5ECF6\",\"width\":0.5},\"pattern\":{\"fillmode\":\"overlay\",\"size\":10,\"solidity\":0.2}},\"type\":\"barpolar\"}],\"pie\":[{\"automargin\":true,\"type\":\"pie\"}]},\"layout\":{\"autotypenumbers\":\"strict\",\"colorway\":[\"#636efa\",\"#EF553B\",\"#00cc96\",\"#ab63fa\",\"#FFA15A\",\"#19d3f3\",\"#FF6692\",\"#B6E880\",\"#FF97FF\",\"#FECB52\"],\"font\":{\"color\":\"#2a3f5f\"},\"hovermode\":\"closest\",\"hoverlabel\":{\"align\":\"left\"},\"paper_bgcolor\":\"white\",\"plot_bgcolor\":\"#E5ECF6\",\"polar\":{\"bgcolor\":\"#E5ECF6\",\"angularaxis\":{\"gridcolor\":\"white\",\"linecolor\":\"white\",\"ticks\":\"\"},\"radialaxis\":{\"gridcolor\":\"white\",\"linecolor\":\"white\",\"ticks\":\"\"}},\"ternary\":{\"bgcolor\":\"#E5ECF6\",\"aaxis\":{\"gridcolor\":\"white\",\"linecolor\":\"white\",\"ticks\":\"\"},\"baxis\":{\"gridcolor\":\"white\",\"linecolor\":\"white\",\"ticks\":\"\"},\"caxis\":{\"gridcolor\":\"white\",\"linecolor\":\"white\",\"ticks\":\"\"}},\"coloraxis\":{\"colorbar\":{\"outlinewidth\":0,\"ticks\":\"\"}},\"colorscale\":{\"sequential\":[[0.0,\"#0d0887\"],[0.1111111111111111,\"#46039f\"],[0.2222222222222222,\"#7201a8\"],[0.3333333333333333,\"#9c179e\"],[0.4444444444444444,\"#bd3786\"],[0.5555555555555556,\"#d8576b\"],[0.6666666666666666,\"#ed7953\"],[0.7777777777777778,\"#fb9f3a\"],[0.8888888888888888,\"#fdca26\"],[1.0,\"#f0f921\"]],\"sequentialminus\":[[0.0,\"#0d0887\"],[0.1111111111111111,\"#46039f\"],[0.2222222222222222,\"#7201a8\"],[0.3333333333333333,\"#9c179e\"],[0.4444444444444444,\"#bd3786\"],[0.5555555555555556,\"#d8576b\"],[0.6666666666666666,\"#ed7953\"],[0.7777777777777778,\"#fb9f3a\"],[0.8888888888888888,\"#fdca26\"],[1.0,\"#f0f921\"]],\"diverging\":[[0,\"#8e0152\"],[0.1,\"#c51b7d\"],[0.2,\"#de77ae\"],[0.3,\"#f1b6da\"],[0.4,\"#fde0ef\"],[0.5,\"#f7f7f7\"],[0.6,\"#e6f5d0\"],[0.7,\"#b8e186\"],[0.8,\"#7fbc41\"],[0.9,\"#4d9221\"],[1,\"#276419\"]]},\"xaxis\":{\"gridcolor\":\"white\",\"linecolor\":\"white\",\"ticks\":\"\",\"title\":{\"standoff\":15},\"zerolinecolor\":\"white\",\"automargin\":true,\"zerolinewidth\":2},\"yaxis\":{\"gridcolor\":\"white\",\"linecolor\":\"white\",\"ticks\":\"\",\"title\":{\"standoff\":15},\"zerolinecolor\":\"white\",\"automargin\":true,\"zerolinewidth\":2},\"scene\":{\"xaxis\":{\"backgroundcolor\":\"#E5ECF6\",\"gridcolor\":\"white\",\"linecolor\":\"white\",\"showbackground\":true,\"ticks\":\"\",\"zerolinecolor\":\"white\",\"gridwidth\":2},\"yaxis\":{\"backgroundcolor\":\"#E5ECF6\",\"gridcolor\":\"white\",\"linecolor\":\"white\",\"showbackground\":true,\"ticks\":\"\",\"zerolinecolor\":\"white\",\"gridwidth\":2},\"zaxis\":{\"backgroundcolor\":\"#E5ECF6\",\"gridcolor\":\"white\",\"linecolor\":\"white\",\"showbackground\":true,\"ticks\":\"\",\"zerolinecolor\":\"white\",\"gridwidth\":2}},\"shapedefaults\":{\"line\":{\"color\":\"#2a3f5f\"}},\"annotationdefaults\":{\"arrowcolor\":\"#2a3f5f\",\"arrowhead\":0,\"arrowwidth\":1},\"geo\":{\"bgcolor\":\"white\",\"landcolor\":\"#E5ECF6\",\"subunitcolor\":\"white\",\"showland\":true,\"showlakes\":true,\"lakecolor\":\"white\"},\"title\":{\"x\":0.05},\"mapbox\":{\"style\":\"light\"}}},\"title\":{\"text\":\"Facebook Stock Prices - Candlestick Chart\"},\"xaxis\":{\"title\":{\"text\":\"Date\"}},\"yaxis\":{\"title\":{\"text\":\"Stock Price\"}}},                        {\"responsive\": true}                    ).then(function(){\n",
              "                            \n",
              "var gd = document.getElementById('52f42a68-5515-4783-b64b-0dd911de65a6');\n",
              "var x = new MutationObserver(function (mutations, observer) {{\n",
              "        var display = window.getComputedStyle(gd).display;\n",
              "        if (!display || display === 'none') {{\n",
              "            console.log([gd, 'removed!']);\n",
              "            Plotly.purge(gd);\n",
              "            observer.disconnect();\n",
              "        }}\n",
              "}});\n",
              "\n",
              "// Listen for the removal of the full notebook cells\n",
              "var notebookContainer = gd.closest('#notebook-container');\n",
              "if (notebookContainer) {{\n",
              "    x.observe(notebookContainer, {childList: true});\n",
              "}}\n",
              "\n",
              "// Listen for the clearing of the current output cell\n",
              "var outputEl = gd.closest('.output');\n",
              "if (outputEl) {{\n",
              "    x.observe(outputEl, {childList: true});\n",
              "}}\n",
              "\n",
              "                        })                };                            </script>        </div>\n",
              "</body>\n",
              "</html>"
            ]
          },
          "metadata": {}
        }
      ],
      "execution_count": 10
    },
    {
      "cell_type": "markdown",
      "source": [
        "## Data preprocessing"
      ],
      "metadata": {
        "id": "62p8M7c3oc3s"
      }
    },
    {
      "cell_type": "code",
      "source": [
        "df"
      ],
      "metadata": {
        "colab": {
          "base_uri": "https://localhost:8080/",
          "height": 423
        },
        "id": "7Rs9-kl4sdB6",
        "outputId": "218de997-020a-47a3-d5cc-ee05d780cef9"
      },
      "execution_count": 11,
      "outputs": [
        {
          "output_type": "execute_result",
          "data": {
            "text/plain": [
              "                          Date        Open        High         Low  \\\n",
              "0    2012-05-18 00:00:00-04:00   41.889986   44.828761   37.855398   \n",
              "1    2012-05-21 00:00:00-04:00   36.390988   36.520494   32.874422   \n",
              "2    2012-05-22 00:00:00-04:00   32.485908   33.462179   30.822263   \n",
              "3    2012-05-23 00:00:00-04:00   31.250625   32.376325   31.240663   \n",
              "4    2012-05-24 00:00:00-04:00   32.824611   33.083620   31.649101   \n",
              "...                        ...         ...         ...         ...   \n",
              "3164 2024-12-16 00:00:00-05:00  629.979980  631.150024  618.580017   \n",
              "3165 2024-12-17 00:00:00-05:00  626.169983  632.369995  616.539978   \n",
              "3166 2024-12-18 00:00:00-05:00  621.000000  627.359985  596.320007   \n",
              "3167 2024-12-19 00:00:00-05:00  610.390015  611.520020  595.000000   \n",
              "3168 2024-12-20 00:00:00-05:00  590.580017  603.109985  580.000000   \n",
              "\n",
              "           Close     Volume  Dividends  Stock Splits  \n",
              "0      38.084522  573576400        0.0           0.0  \n",
              "1      33.900501  168192700        0.0           0.0  \n",
              "2      30.882034  101786600        0.0           0.0  \n",
              "3      31.878227   73600000        0.0           0.0  \n",
              "4      32.904305   50237200        0.0           0.0  \n",
              "...          ...        ...        ...           ...  \n",
              "3164  624.239990   10885600        0.5           0.0  \n",
              "3165  619.440002   12897800        0.0           0.0  \n",
              "3166  597.190002   17075500        0.0           0.0  \n",
              "3167  595.570007   14958100        0.0           0.0  \n",
              "3168  585.250000   48917700        0.0           0.0  \n",
              "\n",
              "[3169 rows x 8 columns]"
            ],
            "text/html": [
              "\n",
              "  <div id=\"df-31dae5e7-2c69-4d9c-a1fc-18d15edfca01\" class=\"colab-df-container\">\n",
              "    <div>\n",
              "<style scoped>\n",
              "    .dataframe tbody tr th:only-of-type {\n",
              "        vertical-align: middle;\n",
              "    }\n",
              "\n",
              "    .dataframe tbody tr th {\n",
              "        vertical-align: top;\n",
              "    }\n",
              "\n",
              "    .dataframe thead th {\n",
              "        text-align: right;\n",
              "    }\n",
              "</style>\n",
              "<table border=\"1\" class=\"dataframe\">\n",
              "  <thead>\n",
              "    <tr style=\"text-align: right;\">\n",
              "      <th></th>\n",
              "      <th>Date</th>\n",
              "      <th>Open</th>\n",
              "      <th>High</th>\n",
              "      <th>Low</th>\n",
              "      <th>Close</th>\n",
              "      <th>Volume</th>\n",
              "      <th>Dividends</th>\n",
              "      <th>Stock Splits</th>\n",
              "    </tr>\n",
              "  </thead>\n",
              "  <tbody>\n",
              "    <tr>\n",
              "      <th>0</th>\n",
              "      <td>2012-05-18 00:00:00-04:00</td>\n",
              "      <td>41.889986</td>\n",
              "      <td>44.828761</td>\n",
              "      <td>37.855398</td>\n",
              "      <td>38.084522</td>\n",
              "      <td>573576400</td>\n",
              "      <td>0.0</td>\n",
              "      <td>0.0</td>\n",
              "    </tr>\n",
              "    <tr>\n",
              "      <th>1</th>\n",
              "      <td>2012-05-21 00:00:00-04:00</td>\n",
              "      <td>36.390988</td>\n",
              "      <td>36.520494</td>\n",
              "      <td>32.874422</td>\n",
              "      <td>33.900501</td>\n",
              "      <td>168192700</td>\n",
              "      <td>0.0</td>\n",
              "      <td>0.0</td>\n",
              "    </tr>\n",
              "    <tr>\n",
              "      <th>2</th>\n",
              "      <td>2012-05-22 00:00:00-04:00</td>\n",
              "      <td>32.485908</td>\n",
              "      <td>33.462179</td>\n",
              "      <td>30.822263</td>\n",
              "      <td>30.882034</td>\n",
              "      <td>101786600</td>\n",
              "      <td>0.0</td>\n",
              "      <td>0.0</td>\n",
              "    </tr>\n",
              "    <tr>\n",
              "      <th>3</th>\n",
              "      <td>2012-05-23 00:00:00-04:00</td>\n",
              "      <td>31.250625</td>\n",
              "      <td>32.376325</td>\n",
              "      <td>31.240663</td>\n",
              "      <td>31.878227</td>\n",
              "      <td>73600000</td>\n",
              "      <td>0.0</td>\n",
              "      <td>0.0</td>\n",
              "    </tr>\n",
              "    <tr>\n",
              "      <th>4</th>\n",
              "      <td>2012-05-24 00:00:00-04:00</td>\n",
              "      <td>32.824611</td>\n",
              "      <td>33.083620</td>\n",
              "      <td>31.649101</td>\n",
              "      <td>32.904305</td>\n",
              "      <td>50237200</td>\n",
              "      <td>0.0</td>\n",
              "      <td>0.0</td>\n",
              "    </tr>\n",
              "    <tr>\n",
              "      <th>...</th>\n",
              "      <td>...</td>\n",
              "      <td>...</td>\n",
              "      <td>...</td>\n",
              "      <td>...</td>\n",
              "      <td>...</td>\n",
              "      <td>...</td>\n",
              "      <td>...</td>\n",
              "      <td>...</td>\n",
              "    </tr>\n",
              "    <tr>\n",
              "      <th>3164</th>\n",
              "      <td>2024-12-16 00:00:00-05:00</td>\n",
              "      <td>629.979980</td>\n",
              "      <td>631.150024</td>\n",
              "      <td>618.580017</td>\n",
              "      <td>624.239990</td>\n",
              "      <td>10885600</td>\n",
              "      <td>0.5</td>\n",
              "      <td>0.0</td>\n",
              "    </tr>\n",
              "    <tr>\n",
              "      <th>3165</th>\n",
              "      <td>2024-12-17 00:00:00-05:00</td>\n",
              "      <td>626.169983</td>\n",
              "      <td>632.369995</td>\n",
              "      <td>616.539978</td>\n",
              "      <td>619.440002</td>\n",
              "      <td>12897800</td>\n",
              "      <td>0.0</td>\n",
              "      <td>0.0</td>\n",
              "    </tr>\n",
              "    <tr>\n",
              "      <th>3166</th>\n",
              "      <td>2024-12-18 00:00:00-05:00</td>\n",
              "      <td>621.000000</td>\n",
              "      <td>627.359985</td>\n",
              "      <td>596.320007</td>\n",
              "      <td>597.190002</td>\n",
              "      <td>17075500</td>\n",
              "      <td>0.0</td>\n",
              "      <td>0.0</td>\n",
              "    </tr>\n",
              "    <tr>\n",
              "      <th>3167</th>\n",
              "      <td>2024-12-19 00:00:00-05:00</td>\n",
              "      <td>610.390015</td>\n",
              "      <td>611.520020</td>\n",
              "      <td>595.000000</td>\n",
              "      <td>595.570007</td>\n",
              "      <td>14958100</td>\n",
              "      <td>0.0</td>\n",
              "      <td>0.0</td>\n",
              "    </tr>\n",
              "    <tr>\n",
              "      <th>3168</th>\n",
              "      <td>2024-12-20 00:00:00-05:00</td>\n",
              "      <td>590.580017</td>\n",
              "      <td>603.109985</td>\n",
              "      <td>580.000000</td>\n",
              "      <td>585.250000</td>\n",
              "      <td>48917700</td>\n",
              "      <td>0.0</td>\n",
              "      <td>0.0</td>\n",
              "    </tr>\n",
              "  </tbody>\n",
              "</table>\n",
              "<p>3169 rows × 8 columns</p>\n",
              "</div>\n",
              "    <div class=\"colab-df-buttons\">\n",
              "\n",
              "  <div class=\"colab-df-container\">\n",
              "    <button class=\"colab-df-convert\" onclick=\"convertToInteractive('df-31dae5e7-2c69-4d9c-a1fc-18d15edfca01')\"\n",
              "            title=\"Convert this dataframe to an interactive table.\"\n",
              "            style=\"display:none;\">\n",
              "\n",
              "  <svg xmlns=\"http://www.w3.org/2000/svg\" height=\"24px\" viewBox=\"0 -960 960 960\">\n",
              "    <path d=\"M120-120v-720h720v720H120Zm60-500h600v-160H180v160Zm220 220h160v-160H400v160Zm0 220h160v-160H400v160ZM180-400h160v-160H180v160Zm440 0h160v-160H620v160ZM180-180h160v-160H180v160Zm440 0h160v-160H620v160Z\"/>\n",
              "  </svg>\n",
              "    </button>\n",
              "\n",
              "  <style>\n",
              "    .colab-df-container {\n",
              "      display:flex;\n",
              "      gap: 12px;\n",
              "    }\n",
              "\n",
              "    .colab-df-convert {\n",
              "      background-color: #E8F0FE;\n",
              "      border: none;\n",
              "      border-radius: 50%;\n",
              "      cursor: pointer;\n",
              "      display: none;\n",
              "      fill: #1967D2;\n",
              "      height: 32px;\n",
              "      padding: 0 0 0 0;\n",
              "      width: 32px;\n",
              "    }\n",
              "\n",
              "    .colab-df-convert:hover {\n",
              "      background-color: #E2EBFA;\n",
              "      box-shadow: 0px 1px 2px rgba(60, 64, 67, 0.3), 0px 1px 3px 1px rgba(60, 64, 67, 0.15);\n",
              "      fill: #174EA6;\n",
              "    }\n",
              "\n",
              "    .colab-df-buttons div {\n",
              "      margin-bottom: 4px;\n",
              "    }\n",
              "\n",
              "    [theme=dark] .colab-df-convert {\n",
              "      background-color: #3B4455;\n",
              "      fill: #D2E3FC;\n",
              "    }\n",
              "\n",
              "    [theme=dark] .colab-df-convert:hover {\n",
              "      background-color: #434B5C;\n",
              "      box-shadow: 0px 1px 3px 1px rgba(0, 0, 0, 0.15);\n",
              "      filter: drop-shadow(0px 1px 2px rgba(0, 0, 0, 0.3));\n",
              "      fill: #FFFFFF;\n",
              "    }\n",
              "  </style>\n",
              "\n",
              "    <script>\n",
              "      const buttonEl =\n",
              "        document.querySelector('#df-31dae5e7-2c69-4d9c-a1fc-18d15edfca01 button.colab-df-convert');\n",
              "      buttonEl.style.display =\n",
              "        google.colab.kernel.accessAllowed ? 'block' : 'none';\n",
              "\n",
              "      async function convertToInteractive(key) {\n",
              "        const element = document.querySelector('#df-31dae5e7-2c69-4d9c-a1fc-18d15edfca01');\n",
              "        const dataTable =\n",
              "          await google.colab.kernel.invokeFunction('convertToInteractive',\n",
              "                                                    [key], {});\n",
              "        if (!dataTable) return;\n",
              "\n",
              "        const docLinkHtml = 'Like what you see? Visit the ' +\n",
              "          '<a target=\"_blank\" href=https://colab.research.google.com/notebooks/data_table.ipynb>data table notebook</a>'\n",
              "          + ' to learn more about interactive tables.';\n",
              "        element.innerHTML = '';\n",
              "        dataTable['output_type'] = 'display_data';\n",
              "        await google.colab.output.renderOutput(dataTable, element);\n",
              "        const docLink = document.createElement('div');\n",
              "        docLink.innerHTML = docLinkHtml;\n",
              "        element.appendChild(docLink);\n",
              "      }\n",
              "    </script>\n",
              "  </div>\n",
              "\n",
              "\n",
              "<div id=\"df-4bd3af86-6773-4fc1-9c34-f5be8008133c\">\n",
              "  <button class=\"colab-df-quickchart\" onclick=\"quickchart('df-4bd3af86-6773-4fc1-9c34-f5be8008133c')\"\n",
              "            title=\"Suggest charts\"\n",
              "            style=\"display:none;\">\n",
              "\n",
              "<svg xmlns=\"http://www.w3.org/2000/svg\" height=\"24px\"viewBox=\"0 0 24 24\"\n",
              "     width=\"24px\">\n",
              "    <g>\n",
              "        <path d=\"M19 3H5c-1.1 0-2 .9-2 2v14c0 1.1.9 2 2 2h14c1.1 0 2-.9 2-2V5c0-1.1-.9-2-2-2zM9 17H7v-7h2v7zm4 0h-2V7h2v10zm4 0h-2v-4h2v4z\"/>\n",
              "    </g>\n",
              "</svg>\n",
              "  </button>\n",
              "\n",
              "<style>\n",
              "  .colab-df-quickchart {\n",
              "      --bg-color: #E8F0FE;\n",
              "      --fill-color: #1967D2;\n",
              "      --hover-bg-color: #E2EBFA;\n",
              "      --hover-fill-color: #174EA6;\n",
              "      --disabled-fill-color: #AAA;\n",
              "      --disabled-bg-color: #DDD;\n",
              "  }\n",
              "\n",
              "  [theme=dark] .colab-df-quickchart {\n",
              "      --bg-color: #3B4455;\n",
              "      --fill-color: #D2E3FC;\n",
              "      --hover-bg-color: #434B5C;\n",
              "      --hover-fill-color: #FFFFFF;\n",
              "      --disabled-bg-color: #3B4455;\n",
              "      --disabled-fill-color: #666;\n",
              "  }\n",
              "\n",
              "  .colab-df-quickchart {\n",
              "    background-color: var(--bg-color);\n",
              "    border: none;\n",
              "    border-radius: 50%;\n",
              "    cursor: pointer;\n",
              "    display: none;\n",
              "    fill: var(--fill-color);\n",
              "    height: 32px;\n",
              "    padding: 0;\n",
              "    width: 32px;\n",
              "  }\n",
              "\n",
              "  .colab-df-quickchart:hover {\n",
              "    background-color: var(--hover-bg-color);\n",
              "    box-shadow: 0 1px 2px rgba(60, 64, 67, 0.3), 0 1px 3px 1px rgba(60, 64, 67, 0.15);\n",
              "    fill: var(--button-hover-fill-color);\n",
              "  }\n",
              "\n",
              "  .colab-df-quickchart-complete:disabled,\n",
              "  .colab-df-quickchart-complete:disabled:hover {\n",
              "    background-color: var(--disabled-bg-color);\n",
              "    fill: var(--disabled-fill-color);\n",
              "    box-shadow: none;\n",
              "  }\n",
              "\n",
              "  .colab-df-spinner {\n",
              "    border: 2px solid var(--fill-color);\n",
              "    border-color: transparent;\n",
              "    border-bottom-color: var(--fill-color);\n",
              "    animation:\n",
              "      spin 1s steps(1) infinite;\n",
              "  }\n",
              "\n",
              "  @keyframes spin {\n",
              "    0% {\n",
              "      border-color: transparent;\n",
              "      border-bottom-color: var(--fill-color);\n",
              "      border-left-color: var(--fill-color);\n",
              "    }\n",
              "    20% {\n",
              "      border-color: transparent;\n",
              "      border-left-color: var(--fill-color);\n",
              "      border-top-color: var(--fill-color);\n",
              "    }\n",
              "    30% {\n",
              "      border-color: transparent;\n",
              "      border-left-color: var(--fill-color);\n",
              "      border-top-color: var(--fill-color);\n",
              "      border-right-color: var(--fill-color);\n",
              "    }\n",
              "    40% {\n",
              "      border-color: transparent;\n",
              "      border-right-color: var(--fill-color);\n",
              "      border-top-color: var(--fill-color);\n",
              "    }\n",
              "    60% {\n",
              "      border-color: transparent;\n",
              "      border-right-color: var(--fill-color);\n",
              "    }\n",
              "    80% {\n",
              "      border-color: transparent;\n",
              "      border-right-color: var(--fill-color);\n",
              "      border-bottom-color: var(--fill-color);\n",
              "    }\n",
              "    90% {\n",
              "      border-color: transparent;\n",
              "      border-bottom-color: var(--fill-color);\n",
              "    }\n",
              "  }\n",
              "</style>\n",
              "\n",
              "  <script>\n",
              "    async function quickchart(key) {\n",
              "      const quickchartButtonEl =\n",
              "        document.querySelector('#' + key + ' button');\n",
              "      quickchartButtonEl.disabled = true;  // To prevent multiple clicks.\n",
              "      quickchartButtonEl.classList.add('colab-df-spinner');\n",
              "      try {\n",
              "        const charts = await google.colab.kernel.invokeFunction(\n",
              "            'suggestCharts', [key], {});\n",
              "      } catch (error) {\n",
              "        console.error('Error during call to suggestCharts:', error);\n",
              "      }\n",
              "      quickchartButtonEl.classList.remove('colab-df-spinner');\n",
              "      quickchartButtonEl.classList.add('colab-df-quickchart-complete');\n",
              "    }\n",
              "    (() => {\n",
              "      let quickchartButtonEl =\n",
              "        document.querySelector('#df-4bd3af86-6773-4fc1-9c34-f5be8008133c button');\n",
              "      quickchartButtonEl.style.display =\n",
              "        google.colab.kernel.accessAllowed ? 'block' : 'none';\n",
              "    })();\n",
              "  </script>\n",
              "</div>\n",
              "\n",
              "  <div id=\"id_786fd670-07db-4e14-8da5-4ca030ac9497\">\n",
              "    <style>\n",
              "      .colab-df-generate {\n",
              "        background-color: #E8F0FE;\n",
              "        border: none;\n",
              "        border-radius: 50%;\n",
              "        cursor: pointer;\n",
              "        display: none;\n",
              "        fill: #1967D2;\n",
              "        height: 32px;\n",
              "        padding: 0 0 0 0;\n",
              "        width: 32px;\n",
              "      }\n",
              "\n",
              "      .colab-df-generate:hover {\n",
              "        background-color: #E2EBFA;\n",
              "        box-shadow: 0px 1px 2px rgba(60, 64, 67, 0.3), 0px 1px 3px 1px rgba(60, 64, 67, 0.15);\n",
              "        fill: #174EA6;\n",
              "      }\n",
              "\n",
              "      [theme=dark] .colab-df-generate {\n",
              "        background-color: #3B4455;\n",
              "        fill: #D2E3FC;\n",
              "      }\n",
              "\n",
              "      [theme=dark] .colab-df-generate:hover {\n",
              "        background-color: #434B5C;\n",
              "        box-shadow: 0px 1px 3px 1px rgba(0, 0, 0, 0.15);\n",
              "        filter: drop-shadow(0px 1px 2px rgba(0, 0, 0, 0.3));\n",
              "        fill: #FFFFFF;\n",
              "      }\n",
              "    </style>\n",
              "    <button class=\"colab-df-generate\" onclick=\"generateWithVariable('df')\"\n",
              "            title=\"Generate code using this dataframe.\"\n",
              "            style=\"display:none;\">\n",
              "\n",
              "  <svg xmlns=\"http://www.w3.org/2000/svg\" height=\"24px\"viewBox=\"0 0 24 24\"\n",
              "       width=\"24px\">\n",
              "    <path d=\"M7,19H8.4L18.45,9,17,7.55,7,17.6ZM5,21V16.75L18.45,3.32a2,2,0,0,1,2.83,0l1.4,1.43a1.91,1.91,0,0,1,.58,1.4,1.91,1.91,0,0,1-.58,1.4L9.25,21ZM18.45,9,17,7.55Zm-12,3A5.31,5.31,0,0,0,4.9,8.1,5.31,5.31,0,0,0,1,6.5,5.31,5.31,0,0,0,4.9,4.9,5.31,5.31,0,0,0,6.5,1,5.31,5.31,0,0,0,8.1,4.9,5.31,5.31,0,0,0,12,6.5,5.46,5.46,0,0,0,6.5,12Z\"/>\n",
              "  </svg>\n",
              "    </button>\n",
              "    <script>\n",
              "      (() => {\n",
              "      const buttonEl =\n",
              "        document.querySelector('#id_786fd670-07db-4e14-8da5-4ca030ac9497 button.colab-df-generate');\n",
              "      buttonEl.style.display =\n",
              "        google.colab.kernel.accessAllowed ? 'block' : 'none';\n",
              "\n",
              "      buttonEl.onclick = () => {\n",
              "        google.colab.notebook.generateWithVariable('df');\n",
              "      }\n",
              "      })();\n",
              "    </script>\n",
              "  </div>\n",
              "\n",
              "    </div>\n",
              "  </div>\n"
            ],
            "application/vnd.google.colaboratory.intrinsic+json": {
              "type": "dataframe",
              "variable_name": "df",
              "summary": "{\n  \"name\": \"df\",\n  \"rows\": 3169,\n  \"fields\": [\n    {\n      \"column\": \"Date\",\n      \"properties\": {\n        \"dtype\": \"date\",\n        \"min\": \"2012-05-18 00:00:00-04:00\",\n        \"max\": \"2024-12-20 00:00:00-05:00\",\n        \"num_unique_values\": 3169,\n        \"samples\": [\n          \"2013-05-24 00:00:00-04:00\",\n          \"2024-12-12 00:00:00-05:00\",\n          \"2016-03-29 00:00:00-04:00\"\n        ],\n        \"semantic_type\": \"\",\n        \"description\": \"\"\n      }\n    },\n    {\n      \"column\": \"Open\",\n      \"properties\": {\n        \"dtype\": \"number\",\n        \"std\": 128.7895900800501,\n        \"min\": 18.011199410722718,\n        \"max\": 630.9910048638284,\n        \"num_unique_values\": 3169,\n        \"samples\": [\n          24.874979459847893,\n          630.9910048638284,\n          113.39683665800791\n        ],\n        \"semantic_type\": \"\",\n        \"description\": \"\"\n      }\n    },\n    {\n      \"column\": \"High\",\n      \"properties\": {\n        \"dtype\": \"number\",\n        \"std\": 130.3534082588388,\n        \"min\": 18.200476928504592,\n        \"max\": 637.8854652597508,\n        \"num_unique_values\": 3169,\n        \"samples\": [\n          24.874979459847893,\n          636.1468190198666,\n          115.87735916081641\n        ],\n        \"semantic_type\": \"\",\n        \"description\": \"\"\n      }\n    },\n    {\n      \"column\": \"Low\",\n      \"properties\": {\n        \"dtype\": \"number\",\n        \"std\": 127.17434104103036,\n        \"min\": 17.483215555895605,\n        \"max\": 626.7044846004596,\n        \"num_unique_values\": 3168,\n        \"samples\": [\n          279.76129840164066,\n          120.88820672773099,\n          30.692756043341237\n        ],\n        \"semantic_type\": \"\",\n        \"description\": \"\"\n      }\n    },\n    {\n      \"column\": \"Close\",\n      \"properties\": {\n        \"dtype\": \"number\",\n        \"std\": 128.78249919068804,\n        \"min\": 17.66253089904785,\n        \"max\": 632.1700439453125,\n        \"num_unique_values\": 3003,\n        \"samples\": [\n          374.8282165527344,\n          496.8648376464844,\n          186.2784423828125\n        ],\n        \"semantic_type\": \"\",\n        \"description\": \"\"\n      }\n    },\n    {\n      \"column\": \"Volume\",\n      \"properties\": {\n        \"dtype\": \"number\",\n        \"std\": 25788028,\n        \"min\": 5467500,\n        \"max\": 573576400,\n        \"num_unique_values\": 3161,\n        \"samples\": [\n          51751900,\n          25961200,\n          24806900\n        ],\n        \"semantic_type\": \"\",\n        \"description\": \"\"\n      }\n    },\n    {\n      \"column\": \"Dividends\",\n      \"properties\": {\n        \"dtype\": \"number\",\n        \"std\": 0.017755509994196214,\n        \"min\": 0.0,\n        \"max\": 0.5,\n        \"num_unique_values\": 2,\n        \"samples\": [\n          0.5,\n          0.0\n        ],\n        \"semantic_type\": \"\",\n        \"description\": \"\"\n      }\n    },\n    {\n      \"column\": \"Stock Splits\",\n      \"properties\": {\n        \"dtype\": \"number\",\n        \"std\": 0.0,\n        \"min\": 0.0,\n        \"max\": 0.0,\n        \"num_unique_values\": 1,\n        \"samples\": [\n          0.0\n        ],\n        \"semantic_type\": \"\",\n        \"description\": \"\"\n      }\n    }\n  ]\n}"
            }
          },
          "metadata": {},
          "execution_count": 11
        }
      ]
    },
    {
      "cell_type": "code",
      "source": [
        "train = df.iloc[:int(len(df)*0.9), :]"
      ],
      "metadata": {
        "id": "Qb-ZmDm5y7IO"
      },
      "execution_count": 12,
      "outputs": []
    },
    {
      "cell_type": "code",
      "source": [
        "test = df.iloc[int(len(df)*0.9):, :]"
      ],
      "metadata": {
        "id": "EZsYraHAzgwk"
      },
      "execution_count": 13,
      "outputs": []
    },
    {
      "cell_type": "code",
      "source": [
        "training_processed = train.iloc[:, 4:5].values\n",
        "training_processed"
      ],
      "metadata": {
        "execution": {
          "iopub.status.busy": "2023-07-30T09:59:28.080975Z",
          "iopub.execute_input": "2023-07-30T09:59:28.081571Z",
          "iopub.status.idle": "2023-07-30T09:59:28.090078Z",
          "shell.execute_reply.started": "2023-07-30T09:59:28.081537Z",
          "shell.execute_reply": "2023-07-30T09:59:28.088843Z"
        },
        "trusted": true,
        "colab": {
          "base_uri": "https://localhost:8080/"
        },
        "id": "cdQlS5HOoc3s",
        "outputId": "8a97f6c9-dee3-49c0-ab37-c40d5f960577"
      },
      "outputs": [
        {
          "output_type": "execute_result",
          "data": {
            "text/plain": [
              "array([[ 38.08452225],\n",
              "       [ 33.90050125],\n",
              "       [ 30.8820343 ],\n",
              "       ...,\n",
              "       [299.16720581],\n",
              "       [301.39868164],\n",
              "       [303.90908813]])"
            ]
          },
          "metadata": {},
          "execution_count": 14
        }
      ],
      "execution_count": 14
    },
    {
      "cell_type": "code",
      "source": [
        "testing_processed = test.iloc[:, 4:5].values"
      ],
      "metadata": {
        "id": "aq8npS83z2W_"
      },
      "execution_count": 15,
      "outputs": []
    },
    {
      "cell_type": "code",
      "source": [
        "scaler = MinMaxScaler(feature_range = (0, 1))\n",
        "\n",
        "training_scaled = scaler.fit_transform(training_processed)\n",
        "testing_scaled = scaler.fit_transform(testing_processed)\n"
      ],
      "metadata": {
        "papermill": {
          "duration": 0.889882,
          "end_time": "2022-08-12T10:33:22.656882",
          "exception": false,
          "start_time": "2022-08-12T10:33:21.767",
          "status": "completed"
        },
        "tags": [],
        "execution": {
          "iopub.status.busy": "2023-07-30T09:59:28.091804Z",
          "iopub.execute_input": "2023-07-30T09:59:28.092681Z",
          "iopub.status.idle": "2023-07-30T09:59:28.102203Z",
          "shell.execute_reply.started": "2023-07-30T09:59:28.092645Z",
          "shell.execute_reply": "2023-07-30T09:59:28.099549Z"
        },
        "trusted": true,
        "id": "-WvSK4k-oc3s"
      },
      "outputs": [],
      "execution_count": 16
    },
    {
      "cell_type": "code",
      "source": [
        "training_scaled.shape"
      ],
      "metadata": {
        "colab": {
          "base_uri": "https://localhost:8080/"
        },
        "id": "g2_7VCsAvUGy",
        "outputId": "8975512b-af65-4119-ea7d-6e700cc897fe"
      },
      "execution_count": 17,
      "outputs": [
        {
          "output_type": "execute_result",
          "data": {
            "text/plain": [
              "(2852, 1)"
            ]
          },
          "metadata": {},
          "execution_count": 17
        }
      ]
    },
    {
      "cell_type": "code",
      "source": [
        "features_set = []\n",
        "labels = []\n",
        "for i in range(60, training_scaled.shape[0]):\n",
        "    features_set.append(training_scaled[i-60:i, 0])\n",
        "    labels.append(training_scaled[i, 0])"
      ],
      "metadata": {
        "papermill": {
          "duration": 0.01548,
          "end_time": "2022-08-12T10:33:22.723927",
          "exception": false,
          "start_time": "2022-08-12T10:33:22.708447",
          "status": "completed"
        },
        "tags": [],
        "execution": {
          "iopub.status.busy": "2023-07-30T10:00:14.077991Z",
          "iopub.execute_input": "2023-07-30T10:00:14.0784Z",
          "iopub.status.idle": "2023-07-30T10:00:14.088217Z",
          "shell.execute_reply.started": "2023-07-30T10:00:14.078369Z",
          "shell.execute_reply": "2023-07-30T10:00:14.087276Z"
        },
        "trusted": true,
        "id": "ZTiJLydloc3s"
      },
      "outputs": [],
      "execution_count": 18
    },
    {
      "cell_type": "code",
      "source": [
        "test_features_set = []\n",
        "test_labels = []\n",
        "for i in range(60, testing_scaled.shape[0]):\n",
        "    test_features_set.append(testing_scaled[i-60:i, 0])\n",
        "    test_labels.append(testing_scaled[i, 0])"
      ],
      "metadata": {
        "id": "4r34UmXF0U7y"
      },
      "execution_count": 19,
      "outputs": []
    },
    {
      "cell_type": "code",
      "source": [
        "len(features_set)"
      ],
      "metadata": {
        "papermill": {
          "duration": 0.014997,
          "end_time": "2022-08-12T10:33:22.746209",
          "exception": false,
          "start_time": "2022-08-12T10:33:22.731212",
          "status": "completed"
        },
        "tags": [],
        "execution": {
          "iopub.status.busy": "2023-07-30T10:00:15.049673Z",
          "iopub.execute_input": "2023-07-30T10:00:15.050038Z",
          "iopub.status.idle": "2023-07-30T10:00:15.056233Z",
          "shell.execute_reply.started": "2023-07-30T10:00:15.049988Z",
          "shell.execute_reply": "2023-07-30T10:00:15.055212Z"
        },
        "trusted": true,
        "colab": {
          "base_uri": "https://localhost:8080/"
        },
        "id": "JXaQWIGYoc3s",
        "outputId": "b58cd8c7-fcbe-404f-d97c-feb46a01eb60"
      },
      "outputs": [
        {
          "output_type": "execute_result",
          "data": {
            "text/plain": [
              "2792"
            ]
          },
          "metadata": {},
          "execution_count": 20
        }
      ],
      "execution_count": 20
    },
    {
      "cell_type": "code",
      "source": [
        "len(labels)"
      ],
      "metadata": {
        "colab": {
          "base_uri": "https://localhost:8080/"
        },
        "id": "SgZ4iE_pvs6j",
        "outputId": "f06ded34-5cf5-450b-b710-bf21b484484b"
      },
      "execution_count": 21,
      "outputs": [
        {
          "output_type": "execute_result",
          "data": {
            "text/plain": [
              "2792"
            ]
          },
          "metadata": {},
          "execution_count": 21
        }
      ]
    },
    {
      "cell_type": "code",
      "source": [
        "features_set, labels = np.array(features_set), np.array(labels)"
      ],
      "metadata": {
        "papermill": {
          "duration": 0.014639,
          "end_time": "2022-08-12T10:33:22.767637",
          "exception": false,
          "start_time": "2022-08-12T10:33:22.752998",
          "status": "completed"
        },
        "tags": [],
        "execution": {
          "iopub.status.busy": "2023-07-30T10:00:16.390922Z",
          "iopub.execute_input": "2023-07-30T10:00:16.391651Z",
          "iopub.status.idle": "2023-07-30T10:00:16.403369Z",
          "shell.execute_reply.started": "2023-07-30T10:00:16.391606Z",
          "shell.execute_reply": "2023-07-30T10:00:16.4024Z"
        },
        "trusted": true,
        "id": "3D0O7nQfoc3s"
      },
      "outputs": [],
      "execution_count": 22
    },
    {
      "cell_type": "code",
      "source": [
        "test_features_set, test_labels = np.array(test_features_set), np.array(test_labels)"
      ],
      "metadata": {
        "id": "0X7Xtlnc0p8Y"
      },
      "execution_count": 23,
      "outputs": []
    },
    {
      "cell_type": "code",
      "source": [
        "features_set = np.reshape(features_set, (features_set.shape[0], features_set.shape[1], 1))\n",
        "print(features_set.shape)"
      ],
      "metadata": {
        "papermill": {
          "duration": 0.015045,
          "end_time": "2022-08-12T10:33:22.812629",
          "exception": false,
          "start_time": "2022-08-12T10:33:22.797584",
          "status": "completed"
        },
        "tags": [],
        "execution": {
          "iopub.status.busy": "2023-07-30T10:00:17.496743Z",
          "iopub.execute_input": "2023-07-30T10:00:17.497115Z",
          "iopub.status.idle": "2023-07-30T10:00:17.502961Z",
          "shell.execute_reply.started": "2023-07-30T10:00:17.497085Z",
          "shell.execute_reply": "2023-07-30T10:00:17.50204Z"
        },
        "trusted": true,
        "colab": {
          "base_uri": "https://localhost:8080/"
        },
        "id": "qCZ6dxKroc3t",
        "outputId": "c4c14247-fd31-4c5b-b78b-bcf63a945a15"
      },
      "outputs": [
        {
          "output_type": "stream",
          "name": "stdout",
          "text": [
            "(2792, 60, 1)\n"
          ]
        }
      ],
      "execution_count": 24
    },
    {
      "cell_type": "code",
      "source": [
        "test_features_set"
      ],
      "metadata": {
        "colab": {
          "base_uri": "https://localhost:8080/"
        },
        "id": "yY7_BEnv1b8_",
        "outputId": "a426f7c2-aa40-4b6f-de69-2d103f6c6e6e"
      },
      "execution_count": 25,
      "outputs": [
        {
          "output_type": "execute_result",
          "data": {
            "text/plain": [
              "array([[0.03269455, 0.02131496, 0.03099029, ..., 0.10666151, 0.1324822 ,\n",
              "        0.13398412],\n",
              "       [0.02131496, 0.03099029, 0.03604477, ..., 0.1324822 , 0.13398412,\n",
              "        0.12944971],\n",
              "       [0.03099029, 0.03604477, 0.03064372, ..., 0.13398412, 0.12944971,\n",
              "        0.13450401],\n",
              "       ...,\n",
              "       [0.79909947, 0.81352598, 0.81216466, ..., 0.96428109, 0.97700883,\n",
              "        0.96309248],\n",
              "       [0.81352598, 0.81216466, 0.81077396, ..., 0.97700883, 0.96309248,\n",
              "        0.89858426],\n",
              "       [0.81216466, 0.81077396, 0.82549032, ..., 0.96309248, 0.89858426,\n",
              "        0.8938875 ]])"
            ]
          },
          "metadata": {},
          "execution_count": 25
        }
      ]
    },
    {
      "cell_type": "code",
      "source": [
        "test_features_set = np.reshape(test_features_set, (test_features_set.shape[0], test_features_set.shape[1], 1))\n",
        "print(test_features_set.shape)"
      ],
      "metadata": {
        "colab": {
          "base_uri": "https://localhost:8080/"
        },
        "id": "Mc1hRAD002ZG",
        "outputId": "4ce879cf-83ca-4d0d-ed61-2272c1019df3"
      },
      "execution_count": 26,
      "outputs": [
        {
          "output_type": "stream",
          "name": "stdout",
          "text": [
            "(257, 60, 1)\n"
          ]
        }
      ]
    },
    {
      "cell_type": "markdown",
      "source": [
        "## RNN"
      ],
      "metadata": {
        "id": "zxZJeuSFoc3t"
      }
    },
    {
      "cell_type": "markdown",
      "source": [
        "#### Build RNN Model"
      ],
      "metadata": {
        "id": "tJu97C5loc3t"
      }
    },
    {
      "cell_type": "code",
      "source": [
        "RNN_model = Sequential()\n",
        "RNN_model.add(SimpleRNN(units=300, return_sequences=True, input_shape=(features_set.shape[1], 1)))\n",
        "RNN_model.add(Dropout(0.2))\n",
        "\n",
        "RNN_model.add(SimpleRNN(units=100, return_sequences=True))\n",
        "RNN_model.add(Dropout(0.2))\n",
        "\n",
        "RNN_model.add(SimpleRNN(units=100, return_sequences=True))\n",
        "RNN_model.add(Dropout(0.2))\n",
        "\n",
        "RNN_model.add(SimpleRNN(units=100))\n",
        "RNN_model.add(Dropout(0.2))\n",
        "\n",
        "RNN_model.add(Dense(units = 1))"
      ],
      "metadata": {
        "execution": {
          "iopub.status.busy": "2023-07-30T00:51:13.695955Z",
          "iopub.execute_input": "2023-07-30T00:51:13.696345Z",
          "iopub.status.idle": "2023-07-30T00:51:17.90413Z",
          "shell.execute_reply.started": "2023-07-30T00:51:13.69631Z",
          "shell.execute_reply": "2023-07-30T00:51:17.902952Z"
        },
        "trusted": true,
        "colab": {
          "base_uri": "https://localhost:8080/"
        },
        "id": "Z7W0jXeZoc3t",
        "outputId": "dc3abd32-ec4b-4b76-aabf-6a74146cebcc"
      },
      "outputs": [
        {
          "output_type": "stream",
          "name": "stderr",
          "text": [
            "/usr/local/lib/python3.10/dist-packages/keras/src/layers/rnn/rnn.py:204: UserWarning:\n",
            "\n",
            "Do not pass an `input_shape`/`input_dim` argument to a layer. When using Sequential models, prefer using an `Input(shape)` object as the first layer in the model instead.\n",
            "\n"
          ]
        }
      ],
      "execution_count": 27
    },
    {
      "cell_type": "markdown",
      "source": [
        "Compile RNN Model"
      ],
      "metadata": {
        "id": "aSS1u2Vkoc3t"
      }
    },
    {
      "cell_type": "code",
      "source": [
        "RNN_model.compile(optimizer = 'adam', loss = 'mean_squared_error')"
      ],
      "metadata": {
        "execution": {
          "iopub.status.busy": "2023-07-30T00:51:18.268851Z",
          "iopub.execute_input": "2023-07-30T00:51:18.269217Z",
          "iopub.status.idle": "2023-07-30T00:51:18.288944Z",
          "shell.execute_reply.started": "2023-07-30T00:51:18.269164Z",
          "shell.execute_reply": "2023-07-30T00:51:18.287917Z"
        },
        "trusted": true,
        "id": "XwufLVneoc3t"
      },
      "outputs": [],
      "execution_count": 28
    },
    {
      "cell_type": "code",
      "source": [
        "RNN_model.summary()"
      ],
      "metadata": {
        "execution": {
          "iopub.status.busy": "2023-07-30T00:51:18.827694Z",
          "iopub.execute_input": "2023-07-30T00:51:18.828037Z",
          "iopub.status.idle": "2023-07-30T00:51:18.86075Z",
          "shell.execute_reply.started": "2023-07-30T00:51:18.828006Z",
          "shell.execute_reply": "2023-07-30T00:51:18.860022Z"
        },
        "trusted": true,
        "colab": {
          "base_uri": "https://localhost:8080/",
          "height": 417
        },
        "id": "zrskPH1-oc30",
        "outputId": "f9604337-95f8-45fb-d68c-5a6c1d094e60"
      },
      "outputs": [
        {
          "output_type": "display_data",
          "data": {
            "text/plain": [
              "\u001b[1mModel: \"sequential\"\u001b[0m\n"
            ],
            "text/html": [
              "<pre style=\"white-space:pre;overflow-x:auto;line-height:normal;font-family:Menlo,'DejaVu Sans Mono',consolas,'Courier New',monospace\"><span style=\"font-weight: bold\">Model: \"sequential\"</span>\n",
              "</pre>\n"
            ]
          },
          "metadata": {}
        },
        {
          "output_type": "display_data",
          "data": {
            "text/plain": [
              "┏━━━━━━━━━━━━━━━━━━━━━━━━━━━━━━━━━━━━━━┳━━━━━━━━━━━━━━━━━━━━━━━━━━━━━┳━━━━━━━━━━━━━━━━━┓\n",
              "┃\u001b[1m \u001b[0m\u001b[1mLayer (type)                        \u001b[0m\u001b[1m \u001b[0m┃\u001b[1m \u001b[0m\u001b[1mOutput Shape               \u001b[0m\u001b[1m \u001b[0m┃\u001b[1m \u001b[0m\u001b[1m        Param #\u001b[0m\u001b[1m \u001b[0m┃\n",
              "┡━━━━━━━━━━━━━━━━━━━━━━━━━━━━━━━━━━━━━━╇━━━━━━━━━━━━━━━━━━━━━━━━━━━━━╇━━━━━━━━━━━━━━━━━┩\n",
              "│ simple_rnn (\u001b[38;5;33mSimpleRNN\u001b[0m)               │ (\u001b[38;5;45mNone\u001b[0m, \u001b[38;5;34m60\u001b[0m, \u001b[38;5;34m300\u001b[0m)             │          \u001b[38;5;34m90,600\u001b[0m │\n",
              "├──────────────────────────────────────┼─────────────────────────────┼─────────────────┤\n",
              "│ dropout (\u001b[38;5;33mDropout\u001b[0m)                    │ (\u001b[38;5;45mNone\u001b[0m, \u001b[38;5;34m60\u001b[0m, \u001b[38;5;34m300\u001b[0m)             │               \u001b[38;5;34m0\u001b[0m │\n",
              "├──────────────────────────────────────┼─────────────────────────────┼─────────────────┤\n",
              "│ simple_rnn_1 (\u001b[38;5;33mSimpleRNN\u001b[0m)             │ (\u001b[38;5;45mNone\u001b[0m, \u001b[38;5;34m60\u001b[0m, \u001b[38;5;34m100\u001b[0m)             │          \u001b[38;5;34m40,100\u001b[0m │\n",
              "├──────────────────────────────────────┼─────────────────────────────┼─────────────────┤\n",
              "│ dropout_1 (\u001b[38;5;33mDropout\u001b[0m)                  │ (\u001b[38;5;45mNone\u001b[0m, \u001b[38;5;34m60\u001b[0m, \u001b[38;5;34m100\u001b[0m)             │               \u001b[38;5;34m0\u001b[0m │\n",
              "├──────────────────────────────────────┼─────────────────────────────┼─────────────────┤\n",
              "│ simple_rnn_2 (\u001b[38;5;33mSimpleRNN\u001b[0m)             │ (\u001b[38;5;45mNone\u001b[0m, \u001b[38;5;34m60\u001b[0m, \u001b[38;5;34m100\u001b[0m)             │          \u001b[38;5;34m20,100\u001b[0m │\n",
              "├──────────────────────────────────────┼─────────────────────────────┼─────────────────┤\n",
              "│ dropout_2 (\u001b[38;5;33mDropout\u001b[0m)                  │ (\u001b[38;5;45mNone\u001b[0m, \u001b[38;5;34m60\u001b[0m, \u001b[38;5;34m100\u001b[0m)             │               \u001b[38;5;34m0\u001b[0m │\n",
              "├──────────────────────────────────────┼─────────────────────────────┼─────────────────┤\n",
              "│ simple_rnn_3 (\u001b[38;5;33mSimpleRNN\u001b[0m)             │ (\u001b[38;5;45mNone\u001b[0m, \u001b[38;5;34m100\u001b[0m)                 │          \u001b[38;5;34m20,100\u001b[0m │\n",
              "├──────────────────────────────────────┼─────────────────────────────┼─────────────────┤\n",
              "│ dropout_3 (\u001b[38;5;33mDropout\u001b[0m)                  │ (\u001b[38;5;45mNone\u001b[0m, \u001b[38;5;34m100\u001b[0m)                 │               \u001b[38;5;34m0\u001b[0m │\n",
              "├──────────────────────────────────────┼─────────────────────────────┼─────────────────┤\n",
              "│ dense (\u001b[38;5;33mDense\u001b[0m)                        │ (\u001b[38;5;45mNone\u001b[0m, \u001b[38;5;34m1\u001b[0m)                   │             \u001b[38;5;34m101\u001b[0m │\n",
              "└──────────────────────────────────────┴─────────────────────────────┴─────────────────┘\n"
            ],
            "text/html": [
              "<pre style=\"white-space:pre;overflow-x:auto;line-height:normal;font-family:Menlo,'DejaVu Sans Mono',consolas,'Courier New',monospace\">┏━━━━━━━━━━━━━━━━━━━━━━━━━━━━━━━━━━━━━━┳━━━━━━━━━━━━━━━━━━━━━━━━━━━━━┳━━━━━━━━━━━━━━━━━┓\n",
              "┃<span style=\"font-weight: bold\"> Layer (type)                         </span>┃<span style=\"font-weight: bold\"> Output Shape                </span>┃<span style=\"font-weight: bold\">         Param # </span>┃\n",
              "┡━━━━━━━━━━━━━━━━━━━━━━━━━━━━━━━━━━━━━━╇━━━━━━━━━━━━━━━━━━━━━━━━━━━━━╇━━━━━━━━━━━━━━━━━┩\n",
              "│ simple_rnn (<span style=\"color: #0087ff; text-decoration-color: #0087ff\">SimpleRNN</span>)               │ (<span style=\"color: #00d7ff; text-decoration-color: #00d7ff\">None</span>, <span style=\"color: #00af00; text-decoration-color: #00af00\">60</span>, <span style=\"color: #00af00; text-decoration-color: #00af00\">300</span>)             │          <span style=\"color: #00af00; text-decoration-color: #00af00\">90,600</span> │\n",
              "├──────────────────────────────────────┼─────────────────────────────┼─────────────────┤\n",
              "│ dropout (<span style=\"color: #0087ff; text-decoration-color: #0087ff\">Dropout</span>)                    │ (<span style=\"color: #00d7ff; text-decoration-color: #00d7ff\">None</span>, <span style=\"color: #00af00; text-decoration-color: #00af00\">60</span>, <span style=\"color: #00af00; text-decoration-color: #00af00\">300</span>)             │               <span style=\"color: #00af00; text-decoration-color: #00af00\">0</span> │\n",
              "├──────────────────────────────────────┼─────────────────────────────┼─────────────────┤\n",
              "│ simple_rnn_1 (<span style=\"color: #0087ff; text-decoration-color: #0087ff\">SimpleRNN</span>)             │ (<span style=\"color: #00d7ff; text-decoration-color: #00d7ff\">None</span>, <span style=\"color: #00af00; text-decoration-color: #00af00\">60</span>, <span style=\"color: #00af00; text-decoration-color: #00af00\">100</span>)             │          <span style=\"color: #00af00; text-decoration-color: #00af00\">40,100</span> │\n",
              "├──────────────────────────────────────┼─────────────────────────────┼─────────────────┤\n",
              "│ dropout_1 (<span style=\"color: #0087ff; text-decoration-color: #0087ff\">Dropout</span>)                  │ (<span style=\"color: #00d7ff; text-decoration-color: #00d7ff\">None</span>, <span style=\"color: #00af00; text-decoration-color: #00af00\">60</span>, <span style=\"color: #00af00; text-decoration-color: #00af00\">100</span>)             │               <span style=\"color: #00af00; text-decoration-color: #00af00\">0</span> │\n",
              "├──────────────────────────────────────┼─────────────────────────────┼─────────────────┤\n",
              "│ simple_rnn_2 (<span style=\"color: #0087ff; text-decoration-color: #0087ff\">SimpleRNN</span>)             │ (<span style=\"color: #00d7ff; text-decoration-color: #00d7ff\">None</span>, <span style=\"color: #00af00; text-decoration-color: #00af00\">60</span>, <span style=\"color: #00af00; text-decoration-color: #00af00\">100</span>)             │          <span style=\"color: #00af00; text-decoration-color: #00af00\">20,100</span> │\n",
              "├──────────────────────────────────────┼─────────────────────────────┼─────────────────┤\n",
              "│ dropout_2 (<span style=\"color: #0087ff; text-decoration-color: #0087ff\">Dropout</span>)                  │ (<span style=\"color: #00d7ff; text-decoration-color: #00d7ff\">None</span>, <span style=\"color: #00af00; text-decoration-color: #00af00\">60</span>, <span style=\"color: #00af00; text-decoration-color: #00af00\">100</span>)             │               <span style=\"color: #00af00; text-decoration-color: #00af00\">0</span> │\n",
              "├──────────────────────────────────────┼─────────────────────────────┼─────────────────┤\n",
              "│ simple_rnn_3 (<span style=\"color: #0087ff; text-decoration-color: #0087ff\">SimpleRNN</span>)             │ (<span style=\"color: #00d7ff; text-decoration-color: #00d7ff\">None</span>, <span style=\"color: #00af00; text-decoration-color: #00af00\">100</span>)                 │          <span style=\"color: #00af00; text-decoration-color: #00af00\">20,100</span> │\n",
              "├──────────────────────────────────────┼─────────────────────────────┼─────────────────┤\n",
              "│ dropout_3 (<span style=\"color: #0087ff; text-decoration-color: #0087ff\">Dropout</span>)                  │ (<span style=\"color: #00d7ff; text-decoration-color: #00d7ff\">None</span>, <span style=\"color: #00af00; text-decoration-color: #00af00\">100</span>)                 │               <span style=\"color: #00af00; text-decoration-color: #00af00\">0</span> │\n",
              "├──────────────────────────────────────┼─────────────────────────────┼─────────────────┤\n",
              "│ dense (<span style=\"color: #0087ff; text-decoration-color: #0087ff\">Dense</span>)                        │ (<span style=\"color: #00d7ff; text-decoration-color: #00d7ff\">None</span>, <span style=\"color: #00af00; text-decoration-color: #00af00\">1</span>)                   │             <span style=\"color: #00af00; text-decoration-color: #00af00\">101</span> │\n",
              "└──────────────────────────────────────┴─────────────────────────────┴─────────────────┘\n",
              "</pre>\n"
            ]
          },
          "metadata": {}
        },
        {
          "output_type": "display_data",
          "data": {
            "text/plain": [
              "\u001b[1m Total params: \u001b[0m\u001b[38;5;34m171,001\u001b[0m (667.97 KB)\n"
            ],
            "text/html": [
              "<pre style=\"white-space:pre;overflow-x:auto;line-height:normal;font-family:Menlo,'DejaVu Sans Mono',consolas,'Courier New',monospace\"><span style=\"font-weight: bold\"> Total params: </span><span style=\"color: #00af00; text-decoration-color: #00af00\">171,001</span> (667.97 KB)\n",
              "</pre>\n"
            ]
          },
          "metadata": {}
        },
        {
          "output_type": "display_data",
          "data": {
            "text/plain": [
              "\u001b[1m Trainable params: \u001b[0m\u001b[38;5;34m171,001\u001b[0m (667.97 KB)\n"
            ],
            "text/html": [
              "<pre style=\"white-space:pre;overflow-x:auto;line-height:normal;font-family:Menlo,'DejaVu Sans Mono',consolas,'Courier New',monospace\"><span style=\"font-weight: bold\"> Trainable params: </span><span style=\"color: #00af00; text-decoration-color: #00af00\">171,001</span> (667.97 KB)\n",
              "</pre>\n"
            ]
          },
          "metadata": {}
        },
        {
          "output_type": "display_data",
          "data": {
            "text/plain": [
              "\u001b[1m Non-trainable params: \u001b[0m\u001b[38;5;34m0\u001b[0m (0.00 B)\n"
            ],
            "text/html": [
              "<pre style=\"white-space:pre;overflow-x:auto;line-height:normal;font-family:Menlo,'DejaVu Sans Mono',consolas,'Courier New',monospace\"><span style=\"font-weight: bold\"> Non-trainable params: </span><span style=\"color: #00af00; text-decoration-color: #00af00\">0</span> (0.00 B)\n",
              "</pre>\n"
            ]
          },
          "metadata": {}
        }
      ],
      "execution_count": 29
    },
    {
      "cell_type": "markdown",
      "source": [
        "#### Fit RNN Model\n"
      ],
      "metadata": {
        "id": "7uNrmueHoc30"
      }
    },
    {
      "cell_type": "code",
      "source": [
        "RNN_History = RNN_model.fit(features_set, labels, epochs = 20, batch_size = 32)"
      ],
      "metadata": {
        "execution": {
          "iopub.status.busy": "2023-07-30T00:51:23.708285Z",
          "iopub.execute_input": "2023-07-30T00:51:23.70871Z",
          "iopub.status.idle": "2023-07-30T01:06:48.771848Z",
          "shell.execute_reply.started": "2023-07-30T00:51:23.708672Z",
          "shell.execute_reply": "2023-07-30T01:06:48.770747Z"
        },
        "trusted": true,
        "colab": {
          "base_uri": "https://localhost:8080/"
        },
        "id": "K4HtVvbroc30",
        "outputId": "2ace0757-7950-45eb-b1c1-a53e35fcfb82"
      },
      "outputs": [
        {
          "output_type": "stream",
          "name": "stdout",
          "text": [
            "Epoch 1/20\n",
            "\u001b[1m88/88\u001b[0m \u001b[32m━━━━━━━━━━━━━━━━━━━━\u001b[0m\u001b[37m\u001b[0m \u001b[1m31s\u001b[0m 163ms/step - loss: 0.6050\n",
            "Epoch 2/20\n",
            "\u001b[1m88/88\u001b[0m \u001b[32m━━━━━━━━━━━━━━━━━━━━\u001b[0m\u001b[37m\u001b[0m \u001b[1m19s\u001b[0m 44ms/step - loss: 0.2838\n",
            "Epoch 3/20\n",
            "\u001b[1m88/88\u001b[0m \u001b[32m━━━━━━━━━━━━━━━━━━━━\u001b[0m\u001b[37m\u001b[0m \u001b[1m4s\u001b[0m 33ms/step - loss: 0.2244\n",
            "Epoch 4/20\n",
            "\u001b[1m88/88\u001b[0m \u001b[32m━━━━━━━━━━━━━━━━━━━━\u001b[0m\u001b[37m\u001b[0m \u001b[1m3s\u001b[0m 30ms/step - loss: 0.1681\n",
            "Epoch 5/20\n",
            "\u001b[1m88/88\u001b[0m \u001b[32m━━━━━━━━━━━━━━━━━━━━\u001b[0m\u001b[37m\u001b[0m \u001b[1m6s\u001b[0m 45ms/step - loss: 0.1430\n",
            "Epoch 6/20\n",
            "\u001b[1m88/88\u001b[0m \u001b[32m━━━━━━━━━━━━━━━━━━━━\u001b[0m\u001b[37m\u001b[0m \u001b[1m4s\u001b[0m 29ms/step - loss: 0.1202\n",
            "Epoch 7/20\n",
            "\u001b[1m88/88\u001b[0m \u001b[32m━━━━━━━━━━━━━━━━━━━━\u001b[0m\u001b[37m\u001b[0m \u001b[1m6s\u001b[0m 34ms/step - loss: 0.1107\n",
            "Epoch 8/20\n",
            "\u001b[1m88/88\u001b[0m \u001b[32m━━━━━━━━━━━━━━━━━━━━\u001b[0m\u001b[37m\u001b[0m \u001b[1m5s\u001b[0m 36ms/step - loss: 0.0985\n",
            "Epoch 9/20\n",
            "\u001b[1m88/88\u001b[0m \u001b[32m━━━━━━━━━━━━━━━━━━━━\u001b[0m\u001b[37m\u001b[0m \u001b[1m4s\u001b[0m 27ms/step - loss: 0.0953\n",
            "Epoch 10/20\n",
            "\u001b[1m88/88\u001b[0m \u001b[32m━━━━━━━━━━━━━━━━━━━━\u001b[0m\u001b[37m\u001b[0m \u001b[1m2s\u001b[0m 27ms/step - loss: 0.0870\n",
            "Epoch 11/20\n",
            "\u001b[1m88/88\u001b[0m \u001b[32m━━━━━━━━━━━━━━━━━━━━\u001b[0m\u001b[37m\u001b[0m \u001b[1m3s\u001b[0m 30ms/step - loss: 0.0758\n",
            "Epoch 12/20\n",
            "\u001b[1m88/88\u001b[0m \u001b[32m━━━━━━━━━━━━━━━━━━━━\u001b[0m\u001b[37m\u001b[0m \u001b[1m5s\u001b[0m 28ms/step - loss: 0.0700\n",
            "Epoch 13/20\n",
            "\u001b[1m88/88\u001b[0m \u001b[32m━━━━━━━━━━━━━━━━━━━━\u001b[0m\u001b[37m\u001b[0m \u001b[1m2s\u001b[0m 26ms/step - loss: 0.0698\n",
            "Epoch 14/20\n",
            "\u001b[1m88/88\u001b[0m \u001b[32m━━━━━━━━━━━━━━━━━━━━\u001b[0m\u001b[37m\u001b[0m \u001b[1m2s\u001b[0m 27ms/step - loss: 0.0620\n",
            "Epoch 15/20\n",
            "\u001b[1m88/88\u001b[0m \u001b[32m━━━━━━━━━━━━━━━━━━━━\u001b[0m\u001b[37m\u001b[0m \u001b[1m2s\u001b[0m 27ms/step - loss: 0.0512\n",
            "Epoch 16/20\n",
            "\u001b[1m88/88\u001b[0m \u001b[32m━━━━━━━━━━━━━━━━━━━━\u001b[0m\u001b[37m\u001b[0m \u001b[1m3s\u001b[0m 31ms/step - loss: 0.0508\n",
            "Epoch 17/20\n",
            "\u001b[1m88/88\u001b[0m \u001b[32m━━━━━━━━━━━━━━━━━━━━\u001b[0m\u001b[37m\u001b[0m \u001b[1m2s\u001b[0m 26ms/step - loss: 0.0179\n",
            "Epoch 18/20\n",
            "\u001b[1m88/88\u001b[0m \u001b[32m━━━━━━━━━━━━━━━━━━━━\u001b[0m\u001b[37m\u001b[0m \u001b[1m3s\u001b[0m 26ms/step - loss: 0.0151\n",
            "Epoch 19/20\n",
            "\u001b[1m88/88\u001b[0m \u001b[32m━━━━━━━━━━━━━━━━━━━━\u001b[0m\u001b[37m\u001b[0m \u001b[1m2s\u001b[0m 26ms/step - loss: 0.0105\n",
            "Epoch 20/20\n",
            "\u001b[1m88/88\u001b[0m \u001b[32m━━━━━━━━━━━━━━━━━━━━\u001b[0m\u001b[37m\u001b[0m \u001b[1m2s\u001b[0m 26ms/step - loss: 0.0095\n"
          ]
        }
      ],
      "execution_count": 30
    },
    {
      "cell_type": "markdown",
      "source": [
        "## LSTM"
      ],
      "metadata": {
        "id": "UUirICweoc30"
      }
    },
    {
      "cell_type": "markdown",
      "source": [
        "####  Build LSTM Model"
      ],
      "metadata": {
        "id": "Z_sB8UGsoc30"
      }
    },
    {
      "cell_type": "code",
      "source": [
        "LSTM_model = Sequential()\n",
        "LSTM_model.add(LSTM(units=300, return_sequences=True, input_shape=(features_set.shape[1], 1)))\n",
        "LSTM_model.add(Dropout(0.2))\n",
        "\n",
        "LSTM_model.add(LSTM(units=100, return_sequences=True))\n",
        "LSTM_model.add(Dropout(0.2))\n",
        "\n",
        "LSTM_model.add(LSTM(units=100, return_sequences=True))\n",
        "LSTM_model.add(Dropout(0.2))\n",
        "\n",
        "LSTM_model.add(LSTM(units=100))\n",
        "LSTM_model.add(Dropout(0.2))\n",
        "\n",
        "LSTM_model.add(Dense(units = 1))"
      ],
      "metadata": {
        "papermill": {
          "duration": 2.678106,
          "end_time": "2022-08-12T10:33:30.682402",
          "exception": false,
          "start_time": "2022-08-12T10:33:28.004296",
          "status": "completed"
        },
        "tags": [],
        "execution": {
          "iopub.status.busy": "2023-07-30T01:06:48.774485Z",
          "iopub.execute_input": "2023-07-30T01:06:48.774902Z",
          "iopub.status.idle": "2023-07-30T01:06:49.817625Z",
          "shell.execute_reply.started": "2023-07-30T01:06:48.77486Z",
          "shell.execute_reply": "2023-07-30T01:06:49.81663Z"
        },
        "trusted": true,
        "id": "PUTCo-0Foc30"
      },
      "outputs": [],
      "execution_count": 31
    },
    {
      "cell_type": "markdown",
      "source": [
        "#### Compil LSTM Model"
      ],
      "metadata": {
        "id": "s1DdFNRZoc30"
      }
    },
    {
      "cell_type": "code",
      "source": [
        "LSTM_model.compile(optimizer = 'adam', loss = 'mean_squared_error')"
      ],
      "metadata": {
        "papermill": {
          "duration": 0.026632,
          "end_time": "2022-08-12T10:33:31.67537",
          "exception": false,
          "start_time": "2022-08-12T10:33:31.648738",
          "status": "completed"
        },
        "tags": [],
        "execution": {
          "iopub.status.busy": "2023-07-30T01:06:49.81912Z",
          "iopub.execute_input": "2023-07-30T01:06:49.819718Z",
          "iopub.status.idle": "2023-07-30T01:06:49.832091Z",
          "shell.execute_reply.started": "2023-07-30T01:06:49.819683Z",
          "shell.execute_reply": "2023-07-30T01:06:49.831114Z"
        },
        "trusted": true,
        "id": "6pribFfLoc30"
      },
      "outputs": [],
      "execution_count": 32
    },
    {
      "cell_type": "code",
      "source": [
        "LSTM_model.summary()"
      ],
      "metadata": {
        "papermill": {
          "duration": 0.016801,
          "end_time": "2022-08-12T10:33:31.69907",
          "exception": false,
          "start_time": "2022-08-12T10:33:31.682269",
          "status": "completed"
        },
        "tags": [],
        "execution": {
          "iopub.status.busy": "2023-07-30T01:06:49.835234Z",
          "iopub.execute_input": "2023-07-30T01:06:49.835586Z",
          "iopub.status.idle": "2023-07-30T01:06:49.866455Z",
          "shell.execute_reply.started": "2023-07-30T01:06:49.835552Z",
          "shell.execute_reply": "2023-07-30T01:06:49.865711Z"
        },
        "trusted": true,
        "colab": {
          "base_uri": "https://localhost:8080/",
          "height": 417
        },
        "id": "N0kNE_xaoc30",
        "outputId": "8477870b-e7a8-4e43-e41d-fe5706092054"
      },
      "outputs": [
        {
          "output_type": "display_data",
          "data": {
            "text/plain": [
              "\u001b[1mModel: \"sequential_1\"\u001b[0m\n"
            ],
            "text/html": [
              "<pre style=\"white-space:pre;overflow-x:auto;line-height:normal;font-family:Menlo,'DejaVu Sans Mono',consolas,'Courier New',monospace\"><span style=\"font-weight: bold\">Model: \"sequential_1\"</span>\n",
              "</pre>\n"
            ]
          },
          "metadata": {}
        },
        {
          "output_type": "display_data",
          "data": {
            "text/plain": [
              "┏━━━━━━━━━━━━━━━━━━━━━━━━━━━━━━━━━━━━━━┳━━━━━━━━━━━━━━━━━━━━━━━━━━━━━┳━━━━━━━━━━━━━━━━━┓\n",
              "┃\u001b[1m \u001b[0m\u001b[1mLayer (type)                        \u001b[0m\u001b[1m \u001b[0m┃\u001b[1m \u001b[0m\u001b[1mOutput Shape               \u001b[0m\u001b[1m \u001b[0m┃\u001b[1m \u001b[0m\u001b[1m        Param #\u001b[0m\u001b[1m \u001b[0m┃\n",
              "┡━━━━━━━━━━━━━━━━━━━━━━━━━━━━━━━━━━━━━━╇━━━━━━━━━━━━━━━━━━━━━━━━━━━━━╇━━━━━━━━━━━━━━━━━┩\n",
              "│ lstm (\u001b[38;5;33mLSTM\u001b[0m)                          │ (\u001b[38;5;45mNone\u001b[0m, \u001b[38;5;34m60\u001b[0m, \u001b[38;5;34m300\u001b[0m)             │         \u001b[38;5;34m362,400\u001b[0m │\n",
              "├──────────────────────────────────────┼─────────────────────────────┼─────────────────┤\n",
              "│ dropout_4 (\u001b[38;5;33mDropout\u001b[0m)                  │ (\u001b[38;5;45mNone\u001b[0m, \u001b[38;5;34m60\u001b[0m, \u001b[38;5;34m300\u001b[0m)             │               \u001b[38;5;34m0\u001b[0m │\n",
              "├──────────────────────────────────────┼─────────────────────────────┼─────────────────┤\n",
              "│ lstm_1 (\u001b[38;5;33mLSTM\u001b[0m)                        │ (\u001b[38;5;45mNone\u001b[0m, \u001b[38;5;34m60\u001b[0m, \u001b[38;5;34m100\u001b[0m)             │         \u001b[38;5;34m160,400\u001b[0m │\n",
              "├──────────────────────────────────────┼─────────────────────────────┼─────────────────┤\n",
              "│ dropout_5 (\u001b[38;5;33mDropout\u001b[0m)                  │ (\u001b[38;5;45mNone\u001b[0m, \u001b[38;5;34m60\u001b[0m, \u001b[38;5;34m100\u001b[0m)             │               \u001b[38;5;34m0\u001b[0m │\n",
              "├──────────────────────────────────────┼─────────────────────────────┼─────────────────┤\n",
              "│ lstm_2 (\u001b[38;5;33mLSTM\u001b[0m)                        │ (\u001b[38;5;45mNone\u001b[0m, \u001b[38;5;34m60\u001b[0m, \u001b[38;5;34m100\u001b[0m)             │          \u001b[38;5;34m80,400\u001b[0m │\n",
              "├──────────────────────────────────────┼─────────────────────────────┼─────────────────┤\n",
              "│ dropout_6 (\u001b[38;5;33mDropout\u001b[0m)                  │ (\u001b[38;5;45mNone\u001b[0m, \u001b[38;5;34m60\u001b[0m, \u001b[38;5;34m100\u001b[0m)             │               \u001b[38;5;34m0\u001b[0m │\n",
              "├──────────────────────────────────────┼─────────────────────────────┼─────────────────┤\n",
              "│ lstm_3 (\u001b[38;5;33mLSTM\u001b[0m)                        │ (\u001b[38;5;45mNone\u001b[0m, \u001b[38;5;34m100\u001b[0m)                 │          \u001b[38;5;34m80,400\u001b[0m │\n",
              "├──────────────────────────────────────┼─────────────────────────────┼─────────────────┤\n",
              "│ dropout_7 (\u001b[38;5;33mDropout\u001b[0m)                  │ (\u001b[38;5;45mNone\u001b[0m, \u001b[38;5;34m100\u001b[0m)                 │               \u001b[38;5;34m0\u001b[0m │\n",
              "├──────────────────────────────────────┼─────────────────────────────┼─────────────────┤\n",
              "│ dense_1 (\u001b[38;5;33mDense\u001b[0m)                      │ (\u001b[38;5;45mNone\u001b[0m, \u001b[38;5;34m1\u001b[0m)                   │             \u001b[38;5;34m101\u001b[0m │\n",
              "└──────────────────────────────────────┴─────────────────────────────┴─────────────────┘\n"
            ],
            "text/html": [
              "<pre style=\"white-space:pre;overflow-x:auto;line-height:normal;font-family:Menlo,'DejaVu Sans Mono',consolas,'Courier New',monospace\">┏━━━━━━━━━━━━━━━━━━━━━━━━━━━━━━━━━━━━━━┳━━━━━━━━━━━━━━━━━━━━━━━━━━━━━┳━━━━━━━━━━━━━━━━━┓\n",
              "┃<span style=\"font-weight: bold\"> Layer (type)                         </span>┃<span style=\"font-weight: bold\"> Output Shape                </span>┃<span style=\"font-weight: bold\">         Param # </span>┃\n",
              "┡━━━━━━━━━━━━━━━━━━━━━━━━━━━━━━━━━━━━━━╇━━━━━━━━━━━━━━━━━━━━━━━━━━━━━╇━━━━━━━━━━━━━━━━━┩\n",
              "│ lstm (<span style=\"color: #0087ff; text-decoration-color: #0087ff\">LSTM</span>)                          │ (<span style=\"color: #00d7ff; text-decoration-color: #00d7ff\">None</span>, <span style=\"color: #00af00; text-decoration-color: #00af00\">60</span>, <span style=\"color: #00af00; text-decoration-color: #00af00\">300</span>)             │         <span style=\"color: #00af00; text-decoration-color: #00af00\">362,400</span> │\n",
              "├──────────────────────────────────────┼─────────────────────────────┼─────────────────┤\n",
              "│ dropout_4 (<span style=\"color: #0087ff; text-decoration-color: #0087ff\">Dropout</span>)                  │ (<span style=\"color: #00d7ff; text-decoration-color: #00d7ff\">None</span>, <span style=\"color: #00af00; text-decoration-color: #00af00\">60</span>, <span style=\"color: #00af00; text-decoration-color: #00af00\">300</span>)             │               <span style=\"color: #00af00; text-decoration-color: #00af00\">0</span> │\n",
              "├──────────────────────────────────────┼─────────────────────────────┼─────────────────┤\n",
              "│ lstm_1 (<span style=\"color: #0087ff; text-decoration-color: #0087ff\">LSTM</span>)                        │ (<span style=\"color: #00d7ff; text-decoration-color: #00d7ff\">None</span>, <span style=\"color: #00af00; text-decoration-color: #00af00\">60</span>, <span style=\"color: #00af00; text-decoration-color: #00af00\">100</span>)             │         <span style=\"color: #00af00; text-decoration-color: #00af00\">160,400</span> │\n",
              "├──────────────────────────────────────┼─────────────────────────────┼─────────────────┤\n",
              "│ dropout_5 (<span style=\"color: #0087ff; text-decoration-color: #0087ff\">Dropout</span>)                  │ (<span style=\"color: #00d7ff; text-decoration-color: #00d7ff\">None</span>, <span style=\"color: #00af00; text-decoration-color: #00af00\">60</span>, <span style=\"color: #00af00; text-decoration-color: #00af00\">100</span>)             │               <span style=\"color: #00af00; text-decoration-color: #00af00\">0</span> │\n",
              "├──────────────────────────────────────┼─────────────────────────────┼─────────────────┤\n",
              "│ lstm_2 (<span style=\"color: #0087ff; text-decoration-color: #0087ff\">LSTM</span>)                        │ (<span style=\"color: #00d7ff; text-decoration-color: #00d7ff\">None</span>, <span style=\"color: #00af00; text-decoration-color: #00af00\">60</span>, <span style=\"color: #00af00; text-decoration-color: #00af00\">100</span>)             │          <span style=\"color: #00af00; text-decoration-color: #00af00\">80,400</span> │\n",
              "├──────────────────────────────────────┼─────────────────────────────┼─────────────────┤\n",
              "│ dropout_6 (<span style=\"color: #0087ff; text-decoration-color: #0087ff\">Dropout</span>)                  │ (<span style=\"color: #00d7ff; text-decoration-color: #00d7ff\">None</span>, <span style=\"color: #00af00; text-decoration-color: #00af00\">60</span>, <span style=\"color: #00af00; text-decoration-color: #00af00\">100</span>)             │               <span style=\"color: #00af00; text-decoration-color: #00af00\">0</span> │\n",
              "├──────────────────────────────────────┼─────────────────────────────┼─────────────────┤\n",
              "│ lstm_3 (<span style=\"color: #0087ff; text-decoration-color: #0087ff\">LSTM</span>)                        │ (<span style=\"color: #00d7ff; text-decoration-color: #00d7ff\">None</span>, <span style=\"color: #00af00; text-decoration-color: #00af00\">100</span>)                 │          <span style=\"color: #00af00; text-decoration-color: #00af00\">80,400</span> │\n",
              "├──────────────────────────────────────┼─────────────────────────────┼─────────────────┤\n",
              "│ dropout_7 (<span style=\"color: #0087ff; text-decoration-color: #0087ff\">Dropout</span>)                  │ (<span style=\"color: #00d7ff; text-decoration-color: #00d7ff\">None</span>, <span style=\"color: #00af00; text-decoration-color: #00af00\">100</span>)                 │               <span style=\"color: #00af00; text-decoration-color: #00af00\">0</span> │\n",
              "├──────────────────────────────────────┼─────────────────────────────┼─────────────────┤\n",
              "│ dense_1 (<span style=\"color: #0087ff; text-decoration-color: #0087ff\">Dense</span>)                      │ (<span style=\"color: #00d7ff; text-decoration-color: #00d7ff\">None</span>, <span style=\"color: #00af00; text-decoration-color: #00af00\">1</span>)                   │             <span style=\"color: #00af00; text-decoration-color: #00af00\">101</span> │\n",
              "└──────────────────────────────────────┴─────────────────────────────┴─────────────────┘\n",
              "</pre>\n"
            ]
          },
          "metadata": {}
        },
        {
          "output_type": "display_data",
          "data": {
            "text/plain": [
              "\u001b[1m Total params: \u001b[0m\u001b[38;5;34m683,701\u001b[0m (2.61 MB)\n"
            ],
            "text/html": [
              "<pre style=\"white-space:pre;overflow-x:auto;line-height:normal;font-family:Menlo,'DejaVu Sans Mono',consolas,'Courier New',monospace\"><span style=\"font-weight: bold\"> Total params: </span><span style=\"color: #00af00; text-decoration-color: #00af00\">683,701</span> (2.61 MB)\n",
              "</pre>\n"
            ]
          },
          "metadata": {}
        },
        {
          "output_type": "display_data",
          "data": {
            "text/plain": [
              "\u001b[1m Trainable params: \u001b[0m\u001b[38;5;34m683,701\u001b[0m (2.61 MB)\n"
            ],
            "text/html": [
              "<pre style=\"white-space:pre;overflow-x:auto;line-height:normal;font-family:Menlo,'DejaVu Sans Mono',consolas,'Courier New',monospace\"><span style=\"font-weight: bold\"> Trainable params: </span><span style=\"color: #00af00; text-decoration-color: #00af00\">683,701</span> (2.61 MB)\n",
              "</pre>\n"
            ]
          },
          "metadata": {}
        },
        {
          "output_type": "display_data",
          "data": {
            "text/plain": [
              "\u001b[1m Non-trainable params: \u001b[0m\u001b[38;5;34m0\u001b[0m (0.00 B)\n"
            ],
            "text/html": [
              "<pre style=\"white-space:pre;overflow-x:auto;line-height:normal;font-family:Menlo,'DejaVu Sans Mono',consolas,'Courier New',monospace\"><span style=\"font-weight: bold\"> Non-trainable params: </span><span style=\"color: #00af00; text-decoration-color: #00af00\">0</span> (0.00 B)\n",
              "</pre>\n"
            ]
          },
          "metadata": {}
        }
      ],
      "execution_count": 33
    },
    {
      "cell_type": "markdown",
      "source": [
        "#### Fit LSTM Model"
      ],
      "metadata": {
        "id": "0eNaXaltoc30"
      }
    },
    {
      "cell_type": "code",
      "source": [
        "LSTM_History = LSTM_model.fit(features_set, labels, epochs = 20, batch_size = 32)"
      ],
      "metadata": {
        "papermill": {
          "duration": 206.48292,
          "end_time": "2022-08-12T10:36:58.189128",
          "exception": false,
          "start_time": "2022-08-12T10:33:31.706208",
          "status": "completed"
        },
        "tags": [],
        "execution": {
          "iopub.status.busy": "2023-07-30T01:07:27.949271Z",
          "iopub.execute_input": "2023-07-30T01:07:27.949634Z",
          "iopub.status.idle": "2023-07-30T01:08:49.926394Z",
          "shell.execute_reply.started": "2023-07-30T01:07:27.949602Z",
          "shell.execute_reply": "2023-07-30T01:08:49.925246Z"
        },
        "trusted": true,
        "colab": {
          "base_uri": "https://localhost:8080/"
        },
        "id": "YfyjKRSUoc30",
        "outputId": "2f968326-0d1f-41e2-e04e-e700194c7eac"
      },
      "outputs": [
        {
          "output_type": "stream",
          "name": "stdout",
          "text": [
            "Epoch 1/20\n",
            "\u001b[1m88/88\u001b[0m \u001b[32m━━━━━━━━━━━━━━━━━━━━\u001b[0m\u001b[37m\u001b[0m \u001b[1m7s\u001b[0m 16ms/step - loss: 0.0362\n",
            "Epoch 2/20\n",
            "\u001b[1m88/88\u001b[0m \u001b[32m━━━━━━━━━━━━━━━━━━━━\u001b[0m\u001b[37m\u001b[0m \u001b[1m3s\u001b[0m 14ms/step - loss: 0.0030\n",
            "Epoch 3/20\n",
            "\u001b[1m88/88\u001b[0m \u001b[32m━━━━━━━━━━━━━━━━━━━━\u001b[0m\u001b[37m\u001b[0m \u001b[1m3s\u001b[0m 17ms/step - loss: 0.0022\n",
            "Epoch 4/20\n",
            "\u001b[1m88/88\u001b[0m \u001b[32m━━━━━━━━━━━━━━━━━━━━\u001b[0m\u001b[37m\u001b[0m \u001b[1m2s\u001b[0m 20ms/step - loss: 0.0019\n",
            "Epoch 5/20\n",
            "\u001b[1m88/88\u001b[0m \u001b[32m━━━━━━━━━━━━━━━━━━━━\u001b[0m\u001b[37m\u001b[0m \u001b[1m2s\u001b[0m 14ms/step - loss: 0.0020\n",
            "Epoch 6/20\n",
            "\u001b[1m88/88\u001b[0m \u001b[32m━━━━━━━━━━━━━━━━━━━━\u001b[0m\u001b[37m\u001b[0m \u001b[1m1s\u001b[0m 14ms/step - loss: 0.0017\n",
            "Epoch 7/20\n",
            "\u001b[1m88/88\u001b[0m \u001b[32m━━━━━━━━━━━━━━━━━━━━\u001b[0m\u001b[37m\u001b[0m \u001b[1m1s\u001b[0m 15ms/step - loss: 0.0020\n",
            "Epoch 8/20\n",
            "\u001b[1m88/88\u001b[0m \u001b[32m━━━━━━━━━━━━━━━━━━━━\u001b[0m\u001b[37m\u001b[0m \u001b[1m2s\u001b[0m 14ms/step - loss: 0.0027\n",
            "Epoch 9/20\n",
            "\u001b[1m88/88\u001b[0m \u001b[32m━━━━━━━━━━━━━━━━━━━━\u001b[0m\u001b[37m\u001b[0m \u001b[1m1s\u001b[0m 15ms/step - loss: 0.0015\n",
            "Epoch 10/20\n",
            "\u001b[1m88/88\u001b[0m \u001b[32m━━━━━━━━━━━━━━━━━━━━\u001b[0m\u001b[37m\u001b[0m \u001b[1m2s\u001b[0m 17ms/step - loss: 0.0014\n",
            "Epoch 11/20\n",
            "\u001b[1m88/88\u001b[0m \u001b[32m━━━━━━━━━━━━━━━━━━━━\u001b[0m\u001b[37m\u001b[0m \u001b[1m2s\u001b[0m 19ms/step - loss: 0.0015\n",
            "Epoch 12/20\n",
            "\u001b[1m88/88\u001b[0m \u001b[32m━━━━━━━━━━━━━━━━━━━━\u001b[0m\u001b[37m\u001b[0m \u001b[1m2s\u001b[0m 15ms/step - loss: 0.0014\n",
            "Epoch 13/20\n",
            "\u001b[1m88/88\u001b[0m \u001b[32m━━━━━━━━━━━━━━━━━━━━\u001b[0m\u001b[37m\u001b[0m \u001b[1m3s\u001b[0m 14ms/step - loss: 0.0014\n",
            "Epoch 14/20\n",
            "\u001b[1m88/88\u001b[0m \u001b[32m━━━━━━━━━━━━━━━━━━━━\u001b[0m\u001b[37m\u001b[0m \u001b[1m1s\u001b[0m 14ms/step - loss: 0.0014\n",
            "Epoch 15/20\n",
            "\u001b[1m88/88\u001b[0m \u001b[32m━━━━━━━━━━━━━━━━━━━━\u001b[0m\u001b[37m\u001b[0m \u001b[1m1s\u001b[0m 14ms/step - loss: 0.0015\n",
            "Epoch 16/20\n",
            "\u001b[1m88/88\u001b[0m \u001b[32m━━━━━━━━━━━━━━━━━━━━\u001b[0m\u001b[37m\u001b[0m \u001b[1m1s\u001b[0m 15ms/step - loss: 0.0018\n",
            "Epoch 17/20\n",
            "\u001b[1m88/88\u001b[0m \u001b[32m━━━━━━━━━━━━━━━━━━━━\u001b[0m\u001b[37m\u001b[0m \u001b[1m1s\u001b[0m 14ms/step - loss: 0.0012\n",
            "Epoch 18/20\n",
            "\u001b[1m88/88\u001b[0m \u001b[32m━━━━━━━━━━━━━━━━━━━━\u001b[0m\u001b[37m\u001b[0m \u001b[1m1s\u001b[0m 16ms/step - loss: 0.0011\n",
            "Epoch 19/20\n",
            "\u001b[1m88/88\u001b[0m \u001b[32m━━━━━━━━━━━━━━━━━━━━\u001b[0m\u001b[37m\u001b[0m \u001b[1m2s\u001b[0m 20ms/step - loss: 0.0012\n",
            "Epoch 20/20\n",
            "\u001b[1m88/88\u001b[0m \u001b[32m━━━━━━━━━━━━━━━━━━━━\u001b[0m\u001b[37m\u001b[0m \u001b[1m2s\u001b[0m 14ms/step - loss: 0.0014\n"
          ]
        }
      ],
      "execution_count": 34
    },
    {
      "cell_type": "markdown",
      "source": [
        "## GRU"
      ],
      "metadata": {
        "id": "vdTZIUp4oc30"
      }
    },
    {
      "cell_type": "markdown",
      "source": [
        "####  Build GRU Model"
      ],
      "metadata": {
        "id": "vOfuT8VAoc30"
      }
    },
    {
      "cell_type": "code",
      "source": [
        "GRU_model = Sequential()\n",
        "GRU_model.add(GRU(units=300, return_sequences=True, input_shape=(features_set.shape[1], 1)))\n",
        "GRU_model.add(Dropout(0.2))\n",
        "\n",
        "GRU_model.add(GRU(units=100, return_sequences=True))\n",
        "GRU_model.add(Dropout(0.2))\n",
        "\n",
        "GRU_model.add(GRU(units=100, return_sequences=True))\n",
        "GRU_model.add(Dropout(0.2))\n",
        "\n",
        "GRU_model.add(GRU(units=100))\n",
        "GRU_model.add(Dropout(0.2))\n",
        "\n",
        "GRU_model.add(Dense(units = 1))"
      ],
      "metadata": {
        "execution": {
          "iopub.status.busy": "2023-07-30T01:08:49.928979Z",
          "iopub.execute_input": "2023-07-30T01:08:49.930462Z",
          "iopub.status.idle": "2023-07-30T01:08:50.828466Z",
          "shell.execute_reply.started": "2023-07-30T01:08:49.930422Z",
          "shell.execute_reply": "2023-07-30T01:08:50.827468Z"
        },
        "trusted": true,
        "id": "bznHpR3ioc30"
      },
      "outputs": [],
      "execution_count": 35
    },
    {
      "cell_type": "markdown",
      "source": [
        "#### Compil GRU Model"
      ],
      "metadata": {
        "id": "YFz34__coc30"
      }
    },
    {
      "cell_type": "code",
      "source": [
        "GRU_model.compile(optimizer = 'adam', loss = 'mean_squared_error')"
      ],
      "metadata": {
        "execution": {
          "iopub.status.busy": "2023-07-30T01:08:50.830021Z",
          "iopub.execute_input": "2023-07-30T01:08:50.830396Z",
          "iopub.status.idle": "2023-07-30T01:08:50.842685Z",
          "shell.execute_reply.started": "2023-07-30T01:08:50.830361Z",
          "shell.execute_reply": "2023-07-30T01:08:50.841586Z"
        },
        "trusted": true,
        "id": "vkqFn-sioc30"
      },
      "outputs": [],
      "execution_count": 36
    },
    {
      "cell_type": "code",
      "source": [
        "GRU_model.summary()"
      ],
      "metadata": {
        "execution": {
          "iopub.status.busy": "2023-07-30T01:08:50.844764Z",
          "iopub.execute_input": "2023-07-30T01:08:50.845166Z",
          "iopub.status.idle": "2023-07-30T01:08:50.87018Z",
          "shell.execute_reply.started": "2023-07-30T01:08:50.845133Z",
          "shell.execute_reply": "2023-07-30T01:08:50.869478Z"
        },
        "trusted": true,
        "colab": {
          "base_uri": "https://localhost:8080/",
          "height": 417
        },
        "id": "gbjUxctPoc31",
        "outputId": "4c90e65f-752a-4812-b3de-29f8e6655911"
      },
      "outputs": [
        {
          "output_type": "display_data",
          "data": {
            "text/plain": [
              "\u001b[1mModel: \"sequential_2\"\u001b[0m\n"
            ],
            "text/html": [
              "<pre style=\"white-space:pre;overflow-x:auto;line-height:normal;font-family:Menlo,'DejaVu Sans Mono',consolas,'Courier New',monospace\"><span style=\"font-weight: bold\">Model: \"sequential_2\"</span>\n",
              "</pre>\n"
            ]
          },
          "metadata": {}
        },
        {
          "output_type": "display_data",
          "data": {
            "text/plain": [
              "┏━━━━━━━━━━━━━━━━━━━━━━━━━━━━━━━━━━━━━━┳━━━━━━━━━━━━━━━━━━━━━━━━━━━━━┳━━━━━━━━━━━━━━━━━┓\n",
              "┃\u001b[1m \u001b[0m\u001b[1mLayer (type)                        \u001b[0m\u001b[1m \u001b[0m┃\u001b[1m \u001b[0m\u001b[1mOutput Shape               \u001b[0m\u001b[1m \u001b[0m┃\u001b[1m \u001b[0m\u001b[1m        Param #\u001b[0m\u001b[1m \u001b[0m┃\n",
              "┡━━━━━━━━━━━━━━━━━━━━━━━━━━━━━━━━━━━━━━╇━━━━━━━━━━━━━━━━━━━━━━━━━━━━━╇━━━━━━━━━━━━━━━━━┩\n",
              "│ gru (\u001b[38;5;33mGRU\u001b[0m)                            │ (\u001b[38;5;45mNone\u001b[0m, \u001b[38;5;34m60\u001b[0m, \u001b[38;5;34m300\u001b[0m)             │         \u001b[38;5;34m272,700\u001b[0m │\n",
              "├──────────────────────────────────────┼─────────────────────────────┼─────────────────┤\n",
              "│ dropout_8 (\u001b[38;5;33mDropout\u001b[0m)                  │ (\u001b[38;5;45mNone\u001b[0m, \u001b[38;5;34m60\u001b[0m, \u001b[38;5;34m300\u001b[0m)             │               \u001b[38;5;34m0\u001b[0m │\n",
              "├──────────────────────────────────────┼─────────────────────────────┼─────────────────┤\n",
              "│ gru_1 (\u001b[38;5;33mGRU\u001b[0m)                          │ (\u001b[38;5;45mNone\u001b[0m, \u001b[38;5;34m60\u001b[0m, \u001b[38;5;34m100\u001b[0m)             │         \u001b[38;5;34m120,600\u001b[0m │\n",
              "├──────────────────────────────────────┼─────────────────────────────┼─────────────────┤\n",
              "│ dropout_9 (\u001b[38;5;33mDropout\u001b[0m)                  │ (\u001b[38;5;45mNone\u001b[0m, \u001b[38;5;34m60\u001b[0m, \u001b[38;5;34m100\u001b[0m)             │               \u001b[38;5;34m0\u001b[0m │\n",
              "├──────────────────────────────────────┼─────────────────────────────┼─────────────────┤\n",
              "│ gru_2 (\u001b[38;5;33mGRU\u001b[0m)                          │ (\u001b[38;5;45mNone\u001b[0m, \u001b[38;5;34m60\u001b[0m, \u001b[38;5;34m100\u001b[0m)             │          \u001b[38;5;34m60,600\u001b[0m │\n",
              "├──────────────────────────────────────┼─────────────────────────────┼─────────────────┤\n",
              "│ dropout_10 (\u001b[38;5;33mDropout\u001b[0m)                 │ (\u001b[38;5;45mNone\u001b[0m, \u001b[38;5;34m60\u001b[0m, \u001b[38;5;34m100\u001b[0m)             │               \u001b[38;5;34m0\u001b[0m │\n",
              "├──────────────────────────────────────┼─────────────────────────────┼─────────────────┤\n",
              "│ gru_3 (\u001b[38;5;33mGRU\u001b[0m)                          │ (\u001b[38;5;45mNone\u001b[0m, \u001b[38;5;34m100\u001b[0m)                 │          \u001b[38;5;34m60,600\u001b[0m │\n",
              "├──────────────────────────────────────┼─────────────────────────────┼─────────────────┤\n",
              "│ dropout_11 (\u001b[38;5;33mDropout\u001b[0m)                 │ (\u001b[38;5;45mNone\u001b[0m, \u001b[38;5;34m100\u001b[0m)                 │               \u001b[38;5;34m0\u001b[0m │\n",
              "├──────────────────────────────────────┼─────────────────────────────┼─────────────────┤\n",
              "│ dense_2 (\u001b[38;5;33mDense\u001b[0m)                      │ (\u001b[38;5;45mNone\u001b[0m, \u001b[38;5;34m1\u001b[0m)                   │             \u001b[38;5;34m101\u001b[0m │\n",
              "└──────────────────────────────────────┴─────────────────────────────┴─────────────────┘\n"
            ],
            "text/html": [
              "<pre style=\"white-space:pre;overflow-x:auto;line-height:normal;font-family:Menlo,'DejaVu Sans Mono',consolas,'Courier New',monospace\">┏━━━━━━━━━━━━━━━━━━━━━━━━━━━━━━━━━━━━━━┳━━━━━━━━━━━━━━━━━━━━━━━━━━━━━┳━━━━━━━━━━━━━━━━━┓\n",
              "┃<span style=\"font-weight: bold\"> Layer (type)                         </span>┃<span style=\"font-weight: bold\"> Output Shape                </span>┃<span style=\"font-weight: bold\">         Param # </span>┃\n",
              "┡━━━━━━━━━━━━━━━━━━━━━━━━━━━━━━━━━━━━━━╇━━━━━━━━━━━━━━━━━━━━━━━━━━━━━╇━━━━━━━━━━━━━━━━━┩\n",
              "│ gru (<span style=\"color: #0087ff; text-decoration-color: #0087ff\">GRU</span>)                            │ (<span style=\"color: #00d7ff; text-decoration-color: #00d7ff\">None</span>, <span style=\"color: #00af00; text-decoration-color: #00af00\">60</span>, <span style=\"color: #00af00; text-decoration-color: #00af00\">300</span>)             │         <span style=\"color: #00af00; text-decoration-color: #00af00\">272,700</span> │\n",
              "├──────────────────────────────────────┼─────────────────────────────┼─────────────────┤\n",
              "│ dropout_8 (<span style=\"color: #0087ff; text-decoration-color: #0087ff\">Dropout</span>)                  │ (<span style=\"color: #00d7ff; text-decoration-color: #00d7ff\">None</span>, <span style=\"color: #00af00; text-decoration-color: #00af00\">60</span>, <span style=\"color: #00af00; text-decoration-color: #00af00\">300</span>)             │               <span style=\"color: #00af00; text-decoration-color: #00af00\">0</span> │\n",
              "├──────────────────────────────────────┼─────────────────────────────┼─────────────────┤\n",
              "│ gru_1 (<span style=\"color: #0087ff; text-decoration-color: #0087ff\">GRU</span>)                          │ (<span style=\"color: #00d7ff; text-decoration-color: #00d7ff\">None</span>, <span style=\"color: #00af00; text-decoration-color: #00af00\">60</span>, <span style=\"color: #00af00; text-decoration-color: #00af00\">100</span>)             │         <span style=\"color: #00af00; text-decoration-color: #00af00\">120,600</span> │\n",
              "├──────────────────────────────────────┼─────────────────────────────┼─────────────────┤\n",
              "│ dropout_9 (<span style=\"color: #0087ff; text-decoration-color: #0087ff\">Dropout</span>)                  │ (<span style=\"color: #00d7ff; text-decoration-color: #00d7ff\">None</span>, <span style=\"color: #00af00; text-decoration-color: #00af00\">60</span>, <span style=\"color: #00af00; text-decoration-color: #00af00\">100</span>)             │               <span style=\"color: #00af00; text-decoration-color: #00af00\">0</span> │\n",
              "├──────────────────────────────────────┼─────────────────────────────┼─────────────────┤\n",
              "│ gru_2 (<span style=\"color: #0087ff; text-decoration-color: #0087ff\">GRU</span>)                          │ (<span style=\"color: #00d7ff; text-decoration-color: #00d7ff\">None</span>, <span style=\"color: #00af00; text-decoration-color: #00af00\">60</span>, <span style=\"color: #00af00; text-decoration-color: #00af00\">100</span>)             │          <span style=\"color: #00af00; text-decoration-color: #00af00\">60,600</span> │\n",
              "├──────────────────────────────────────┼─────────────────────────────┼─────────────────┤\n",
              "│ dropout_10 (<span style=\"color: #0087ff; text-decoration-color: #0087ff\">Dropout</span>)                 │ (<span style=\"color: #00d7ff; text-decoration-color: #00d7ff\">None</span>, <span style=\"color: #00af00; text-decoration-color: #00af00\">60</span>, <span style=\"color: #00af00; text-decoration-color: #00af00\">100</span>)             │               <span style=\"color: #00af00; text-decoration-color: #00af00\">0</span> │\n",
              "├──────────────────────────────────────┼─────────────────────────────┼─────────────────┤\n",
              "│ gru_3 (<span style=\"color: #0087ff; text-decoration-color: #0087ff\">GRU</span>)                          │ (<span style=\"color: #00d7ff; text-decoration-color: #00d7ff\">None</span>, <span style=\"color: #00af00; text-decoration-color: #00af00\">100</span>)                 │          <span style=\"color: #00af00; text-decoration-color: #00af00\">60,600</span> │\n",
              "├──────────────────────────────────────┼─────────────────────────────┼─────────────────┤\n",
              "│ dropout_11 (<span style=\"color: #0087ff; text-decoration-color: #0087ff\">Dropout</span>)                 │ (<span style=\"color: #00d7ff; text-decoration-color: #00d7ff\">None</span>, <span style=\"color: #00af00; text-decoration-color: #00af00\">100</span>)                 │               <span style=\"color: #00af00; text-decoration-color: #00af00\">0</span> │\n",
              "├──────────────────────────────────────┼─────────────────────────────┼─────────────────┤\n",
              "│ dense_2 (<span style=\"color: #0087ff; text-decoration-color: #0087ff\">Dense</span>)                      │ (<span style=\"color: #00d7ff; text-decoration-color: #00d7ff\">None</span>, <span style=\"color: #00af00; text-decoration-color: #00af00\">1</span>)                   │             <span style=\"color: #00af00; text-decoration-color: #00af00\">101</span> │\n",
              "└──────────────────────────────────────┴─────────────────────────────┴─────────────────┘\n",
              "</pre>\n"
            ]
          },
          "metadata": {}
        },
        {
          "output_type": "display_data",
          "data": {
            "text/plain": [
              "\u001b[1m Total params: \u001b[0m\u001b[38;5;34m514,601\u001b[0m (1.96 MB)\n"
            ],
            "text/html": [
              "<pre style=\"white-space:pre;overflow-x:auto;line-height:normal;font-family:Menlo,'DejaVu Sans Mono',consolas,'Courier New',monospace\"><span style=\"font-weight: bold\"> Total params: </span><span style=\"color: #00af00; text-decoration-color: #00af00\">514,601</span> (1.96 MB)\n",
              "</pre>\n"
            ]
          },
          "metadata": {}
        },
        {
          "output_type": "display_data",
          "data": {
            "text/plain": [
              "\u001b[1m Trainable params: \u001b[0m\u001b[38;5;34m514,601\u001b[0m (1.96 MB)\n"
            ],
            "text/html": [
              "<pre style=\"white-space:pre;overflow-x:auto;line-height:normal;font-family:Menlo,'DejaVu Sans Mono',consolas,'Courier New',monospace\"><span style=\"font-weight: bold\"> Trainable params: </span><span style=\"color: #00af00; text-decoration-color: #00af00\">514,601</span> (1.96 MB)\n",
              "</pre>\n"
            ]
          },
          "metadata": {}
        },
        {
          "output_type": "display_data",
          "data": {
            "text/plain": [
              "\u001b[1m Non-trainable params: \u001b[0m\u001b[38;5;34m0\u001b[0m (0.00 B)\n"
            ],
            "text/html": [
              "<pre style=\"white-space:pre;overflow-x:auto;line-height:normal;font-family:Menlo,'DejaVu Sans Mono',consolas,'Courier New',monospace\"><span style=\"font-weight: bold\"> Non-trainable params: </span><span style=\"color: #00af00; text-decoration-color: #00af00\">0</span> (0.00 B)\n",
              "</pre>\n"
            ]
          },
          "metadata": {}
        }
      ],
      "execution_count": 37
    },
    {
      "cell_type": "markdown",
      "source": [
        "#### Fit GRU Model"
      ],
      "metadata": {
        "id": "whLv4t7moc31"
      }
    },
    {
      "cell_type": "code",
      "source": [
        "GRU_History = GRU_model.fit(features_set, labels, epochs = 20, batch_size = 32)"
      ],
      "metadata": {
        "execution": {
          "iopub.status.busy": "2023-07-30T01:08:50.871104Z",
          "iopub.execute_input": "2023-07-30T01:08:50.87142Z",
          "iopub.status.idle": "2023-07-30T01:10:18.988162Z",
          "shell.execute_reply.started": "2023-07-30T01:08:50.871389Z",
          "shell.execute_reply": "2023-07-30T01:10:18.986883Z"
        },
        "trusted": true,
        "colab": {
          "base_uri": "https://localhost:8080/"
        },
        "id": "toj5GR8noc31",
        "outputId": "147ce44e-4f90-4bf9-dc74-0f5409a32ce0"
      },
      "outputs": [
        {
          "output_type": "stream",
          "name": "stdout",
          "text": [
            "Epoch 1/20\n",
            "\u001b[1m88/88\u001b[0m \u001b[32m━━━━━━━━━━━━━━━━━━━━\u001b[0m\u001b[37m\u001b[0m \u001b[1m4s\u001b[0m 15ms/step - loss: 0.0228\n",
            "Epoch 2/20\n",
            "\u001b[1m88/88\u001b[0m \u001b[32m━━━━━━━━━━━━━━━━━━━━\u001b[0m\u001b[37m\u001b[0m \u001b[1m1s\u001b[0m 14ms/step - loss: 0.0019\n",
            "Epoch 3/20\n",
            "\u001b[1m88/88\u001b[0m \u001b[32m━━━━━━━━━━━━━━━━━━━━\u001b[0m\u001b[37m\u001b[0m \u001b[1m3s\u001b[0m 14ms/step - loss: 0.0016\n",
            "Epoch 4/20\n",
            "\u001b[1m88/88\u001b[0m \u001b[32m━━━━━━━━━━━━━━━━━━━━\u001b[0m\u001b[37m\u001b[0m \u001b[1m2s\u001b[0m 17ms/step - loss: 0.0013\n",
            "Epoch 5/20\n",
            "\u001b[1m88/88\u001b[0m \u001b[32m━━━━━━━━━━━━━━━━━━━━\u001b[0m\u001b[37m\u001b[0m \u001b[1m2s\u001b[0m 14ms/step - loss: 0.0016\n",
            "Epoch 6/20\n",
            "\u001b[1m88/88\u001b[0m \u001b[32m━━━━━━━━━━━━━━━━━━━━\u001b[0m\u001b[37m\u001b[0m \u001b[1m1s\u001b[0m 14ms/step - loss: 0.0014\n",
            "Epoch 7/20\n",
            "\u001b[1m88/88\u001b[0m \u001b[32m━━━━━━━━━━━━━━━━━━━━\u001b[0m\u001b[37m\u001b[0m \u001b[1m2s\u001b[0m 13ms/step - loss: 0.0012\n",
            "Epoch 8/20\n",
            "\u001b[1m88/88\u001b[0m \u001b[32m━━━━━━━━━━━━━━━━━━━━\u001b[0m\u001b[37m\u001b[0m \u001b[1m1s\u001b[0m 14ms/step - loss: 0.0016\n",
            "Epoch 9/20\n",
            "\u001b[1m88/88\u001b[0m \u001b[32m━━━━━━━━━━━━━━━━━━━━\u001b[0m\u001b[37m\u001b[0m \u001b[1m1s\u001b[0m 13ms/step - loss: 0.0013\n",
            "Epoch 10/20\n",
            "\u001b[1m88/88\u001b[0m \u001b[32m━━━━━━━━━━━━━━━━━━━━\u001b[0m\u001b[37m\u001b[0m \u001b[1m1s\u001b[0m 13ms/step - loss: 0.0011\n",
            "Epoch 11/20\n",
            "\u001b[1m88/88\u001b[0m \u001b[32m━━━━━━━━━━━━━━━━━━━━\u001b[0m\u001b[37m\u001b[0m \u001b[1m1s\u001b[0m 14ms/step - loss: 0.0012\n",
            "Epoch 12/20\n",
            "\u001b[1m88/88\u001b[0m \u001b[32m━━━━━━━━━━━━━━━━━━━━\u001b[0m\u001b[37m\u001b[0m \u001b[1m3s\u001b[0m 21ms/step - loss: 0.0013\n",
            "Epoch 13/20\n",
            "\u001b[1m88/88\u001b[0m \u001b[32m━━━━━━━━━━━━━━━━━━━━\u001b[0m\u001b[37m\u001b[0m \u001b[1m2s\u001b[0m 21ms/step - loss: 0.0011\n",
            "Epoch 14/20\n",
            "\u001b[1m88/88\u001b[0m \u001b[32m━━━━━━━━━━━━━━━━━━━━\u001b[0m\u001b[37m\u001b[0m \u001b[1m2s\u001b[0m 17ms/step - loss: 0.0010\n",
            "Epoch 15/20\n",
            "\u001b[1m88/88\u001b[0m \u001b[32m━━━━━━━━━━━━━━━━━━━━\u001b[0m\u001b[37m\u001b[0m \u001b[1m2s\u001b[0m 14ms/step - loss: 0.0010\n",
            "Epoch 16/20\n",
            "\u001b[1m88/88\u001b[0m \u001b[32m━━━━━━━━━━━━━━━━━━━━\u001b[0m\u001b[37m\u001b[0m \u001b[1m1s\u001b[0m 13ms/step - loss: 9.3973e-04\n",
            "Epoch 17/20\n",
            "\u001b[1m88/88\u001b[0m \u001b[32m━━━━━━━━━━━━━━━━━━━━\u001b[0m\u001b[37m\u001b[0m \u001b[1m1s\u001b[0m 14ms/step - loss: 0.0011\n",
            "Epoch 18/20\n",
            "\u001b[1m88/88\u001b[0m \u001b[32m━━━━━━━━━━━━━━━━━━━━\u001b[0m\u001b[37m\u001b[0m \u001b[1m2s\u001b[0m 18ms/step - loss: 0.0010\n",
            "Epoch 19/20\n",
            "\u001b[1m88/88\u001b[0m \u001b[32m━━━━━━━━━━━━━━━━━━━━\u001b[0m\u001b[37m\u001b[0m \u001b[1m2s\u001b[0m 13ms/step - loss: 8.8479e-04\n",
            "Epoch 20/20\n",
            "\u001b[1m88/88\u001b[0m \u001b[32m━━━━━━━━━━━━━━━━━━━━\u001b[0m\u001b[37m\u001b[0m \u001b[1m1s\u001b[0m 13ms/step - loss: 0.0010\n"
          ]
        }
      ],
      "execution_count": 38
    },
    {
      "cell_type": "markdown",
      "source": [
        "## Evaluate The Model"
      ],
      "metadata": {
        "id": "U8nszLrUoc31"
      }
    },
    {
      "cell_type": "markdown",
      "source": [
        "#### Evalute Model Training"
      ],
      "metadata": {
        "id": "uTRr8YrNoc31"
      }
    },
    {
      "cell_type": "code",
      "source": [
        "fig = go.Figure()\n",
        "\n",
        "# Training loss trace\n",
        "fig.add_trace(go.Scatter(x=list(range(1, len(RNN_History.history['loss']) + 1)),\n",
        "                         y=RNN_History.history['loss'],\n",
        "                         mode='lines',\n",
        "                         name='RNN Training Loss'))\n",
        "fig.add_trace(go.Scatter(x=list(range(1, len(LSTM_History.history['loss']) + 1)),\n",
        "                         y=LSTM_History.history['loss'],\n",
        "                         mode='lines',\n",
        "                         name='LSTM Training Loss'))\n",
        "fig.add_trace(go.Scatter(x=list(range(1, len(GRU_History.history['loss']) + 1)),\n",
        "                         y=GRU_History.history['loss'],\n",
        "                         mode='lines',\n",
        "                         name='GRU Training Loss'))\n",
        "\n",
        "fig.update_layout(title='Training and Validation Loss',\n",
        "                  xaxis_title='Epoch',\n",
        "                  yaxis_title='Loss',\n",
        "                  legend_title='Loss Type',\n",
        "                  hovermode='x',\n",
        "                  hoverlabel=dict(bgcolor='white', font_size=12, font_family='Rockwell'),\n",
        "                  template='plotly_white')\n",
        "\n",
        "fig.show()"
      ],
      "metadata": {
        "execution": {
          "iopub.status.busy": "2023-07-30T01:10:18.99035Z",
          "iopub.execute_input": "2023-07-30T01:10:18.99067Z",
          "iopub.status.idle": "2023-07-30T01:10:19.05607Z",
          "shell.execute_reply.started": "2023-07-30T01:10:18.990639Z",
          "shell.execute_reply": "2023-07-30T01:10:19.055113Z"
        },
        "trusted": true,
        "colab": {
          "base_uri": "https://localhost:8080/",
          "height": 542
        },
        "id": "y0ZW6dPUoc31",
        "outputId": "7b0b3b38-d199-40b3-f93e-63db397b5d5a"
      },
      "outputs": [
        {
          "output_type": "display_data",
          "data": {
            "text/html": [
              "<html>\n",
              "<head><meta charset=\"utf-8\" /></head>\n",
              "<body>\n",
              "    <div>            <script src=\"https://cdnjs.cloudflare.com/ajax/libs/mathjax/2.7.5/MathJax.js?config=TeX-AMS-MML_SVG\"></script><script type=\"text/javascript\">if (window.MathJax && window.MathJax.Hub && window.MathJax.Hub.Config) {window.MathJax.Hub.Config({SVG: {font: \"STIX-Web\"}});}</script>                <script type=\"text/javascript\">window.PlotlyConfig = {MathJaxConfig: 'local'};</script>\n",
              "        <script charset=\"utf-8\" src=\"https://cdn.plot.ly/plotly-2.35.2.min.js\"></script>                <div id=\"e57bae25-162d-4132-9605-1576724a504b\" class=\"plotly-graph-div\" style=\"height:525px; width:100%;\"></div>            <script type=\"text/javascript\">                                    window.PLOTLYENV=window.PLOTLYENV || {};                                    if (document.getElementById(\"e57bae25-162d-4132-9605-1576724a504b\")) {                    Plotly.newPlot(                        \"e57bae25-162d-4132-9605-1576724a504b\",                        [{\"mode\":\"lines\",\"name\":\"RNN Training Loss\",\"x\":[1,2,3,4,5,6,7,8,9,10,11,12,13,14,15,16,17,18,19,20],\"y\":[0.4577011466026306,0.2740205228328705,0.20693516731262207,0.17052872478961945,0.14102347195148468,0.1191764548420906,0.10860815644264221,0.09786834567785263,0.09313449263572693,0.08472701162099838,0.07619436830282211,0.07066751271486282,0.0669645220041275,0.06375618278980255,0.04634489864110947,0.03718539699912071,0.017810214310884476,0.012643840163946152,0.009801368229091167,0.009403127245604992],\"type\":\"scatter\"},{\"mode\":\"lines\",\"name\":\"LSTM Training Loss\",\"x\":[1,2,3,4,5,6,7,8,9,10,11,12,13,14,15,16,17,18,19,20],\"y\":[0.012172989547252655,0.002455896232277155,0.002277025254443288,0.001966014737263322,0.0019622633699327707,0.0016856236616149545,0.0019613769836723804,0.00222962349653244,0.0014345970703288913,0.0016633261693641543,0.0015584822976961732,0.0014533327193930745,0.0013989845756441355,0.001345822704024613,0.0013591754250228405,0.0014717580052092671,0.0011832896852865815,0.0012223392259329557,0.0012003015726804733,0.0011918621603399515],\"type\":\"scatter\"},{\"mode\":\"lines\",\"name\":\"GRU Training Loss\",\"x\":[1,2,3,4,5,6,7,8,9,10,11,12,13,14,15,16,17,18,19,20],\"y\":[0.008504700846970081,0.0018426293972879648,0.0015074994880706072,0.0014438998186960816,0.0014786745887249708,0.0012885365867987275,0.0012558893067762256,0.0014895910862833261,0.0011493104975670576,0.0012145439395681024,0.0012061893939971924,0.001264581922441721,0.0011206255294382572,0.0010178625816479325,0.0010316146072000265,0.0008818254573270679,0.0009889508364722133,0.0010459565091878176,0.0008990757633000612,0.0010792012326419353],\"type\":\"scatter\"}],                        {\"template\":{\"data\":{\"barpolar\":[{\"marker\":{\"line\":{\"color\":\"white\",\"width\":0.5},\"pattern\":{\"fillmode\":\"overlay\",\"size\":10,\"solidity\":0.2}},\"type\":\"barpolar\"}],\"bar\":[{\"error_x\":{\"color\":\"#2a3f5f\"},\"error_y\":{\"color\":\"#2a3f5f\"},\"marker\":{\"line\":{\"color\":\"white\",\"width\":0.5},\"pattern\":{\"fillmode\":\"overlay\",\"size\":10,\"solidity\":0.2}},\"type\":\"bar\"}],\"carpet\":[{\"aaxis\":{\"endlinecolor\":\"#2a3f5f\",\"gridcolor\":\"#C8D4E3\",\"linecolor\":\"#C8D4E3\",\"minorgridcolor\":\"#C8D4E3\",\"startlinecolor\":\"#2a3f5f\"},\"baxis\":{\"endlinecolor\":\"#2a3f5f\",\"gridcolor\":\"#C8D4E3\",\"linecolor\":\"#C8D4E3\",\"minorgridcolor\":\"#C8D4E3\",\"startlinecolor\":\"#2a3f5f\"},\"type\":\"carpet\"}],\"choropleth\":[{\"colorbar\":{\"outlinewidth\":0,\"ticks\":\"\"},\"type\":\"choropleth\"}],\"contourcarpet\":[{\"colorbar\":{\"outlinewidth\":0,\"ticks\":\"\"},\"type\":\"contourcarpet\"}],\"contour\":[{\"colorbar\":{\"outlinewidth\":0,\"ticks\":\"\"},\"colorscale\":[[0.0,\"#0d0887\"],[0.1111111111111111,\"#46039f\"],[0.2222222222222222,\"#7201a8\"],[0.3333333333333333,\"#9c179e\"],[0.4444444444444444,\"#bd3786\"],[0.5555555555555556,\"#d8576b\"],[0.6666666666666666,\"#ed7953\"],[0.7777777777777778,\"#fb9f3a\"],[0.8888888888888888,\"#fdca26\"],[1.0,\"#f0f921\"]],\"type\":\"contour\"}],\"heatmapgl\":[{\"colorbar\":{\"outlinewidth\":0,\"ticks\":\"\"},\"colorscale\":[[0.0,\"#0d0887\"],[0.1111111111111111,\"#46039f\"],[0.2222222222222222,\"#7201a8\"],[0.3333333333333333,\"#9c179e\"],[0.4444444444444444,\"#bd3786\"],[0.5555555555555556,\"#d8576b\"],[0.6666666666666666,\"#ed7953\"],[0.7777777777777778,\"#fb9f3a\"],[0.8888888888888888,\"#fdca26\"],[1.0,\"#f0f921\"]],\"type\":\"heatmapgl\"}],\"heatmap\":[{\"colorbar\":{\"outlinewidth\":0,\"ticks\":\"\"},\"colorscale\":[[0.0,\"#0d0887\"],[0.1111111111111111,\"#46039f\"],[0.2222222222222222,\"#7201a8\"],[0.3333333333333333,\"#9c179e\"],[0.4444444444444444,\"#bd3786\"],[0.5555555555555556,\"#d8576b\"],[0.6666666666666666,\"#ed7953\"],[0.7777777777777778,\"#fb9f3a\"],[0.8888888888888888,\"#fdca26\"],[1.0,\"#f0f921\"]],\"type\":\"heatmap\"}],\"histogram2dcontour\":[{\"colorbar\":{\"outlinewidth\":0,\"ticks\":\"\"},\"colorscale\":[[0.0,\"#0d0887\"],[0.1111111111111111,\"#46039f\"],[0.2222222222222222,\"#7201a8\"],[0.3333333333333333,\"#9c179e\"],[0.4444444444444444,\"#bd3786\"],[0.5555555555555556,\"#d8576b\"],[0.6666666666666666,\"#ed7953\"],[0.7777777777777778,\"#fb9f3a\"],[0.8888888888888888,\"#fdca26\"],[1.0,\"#f0f921\"]],\"type\":\"histogram2dcontour\"}],\"histogram2d\":[{\"colorbar\":{\"outlinewidth\":0,\"ticks\":\"\"},\"colorscale\":[[0.0,\"#0d0887\"],[0.1111111111111111,\"#46039f\"],[0.2222222222222222,\"#7201a8\"],[0.3333333333333333,\"#9c179e\"],[0.4444444444444444,\"#bd3786\"],[0.5555555555555556,\"#d8576b\"],[0.6666666666666666,\"#ed7953\"],[0.7777777777777778,\"#fb9f3a\"],[0.8888888888888888,\"#fdca26\"],[1.0,\"#f0f921\"]],\"type\":\"histogram2d\"}],\"histogram\":[{\"marker\":{\"pattern\":{\"fillmode\":\"overlay\",\"size\":10,\"solidity\":0.2}},\"type\":\"histogram\"}],\"mesh3d\":[{\"colorbar\":{\"outlinewidth\":0,\"ticks\":\"\"},\"type\":\"mesh3d\"}],\"parcoords\":[{\"line\":{\"colorbar\":{\"outlinewidth\":0,\"ticks\":\"\"}},\"type\":\"parcoords\"}],\"pie\":[{\"automargin\":true,\"type\":\"pie\"}],\"scatter3d\":[{\"line\":{\"colorbar\":{\"outlinewidth\":0,\"ticks\":\"\"}},\"marker\":{\"colorbar\":{\"outlinewidth\":0,\"ticks\":\"\"}},\"type\":\"scatter3d\"}],\"scattercarpet\":[{\"marker\":{\"colorbar\":{\"outlinewidth\":0,\"ticks\":\"\"}},\"type\":\"scattercarpet\"}],\"scattergeo\":[{\"marker\":{\"colorbar\":{\"outlinewidth\":0,\"ticks\":\"\"}},\"type\":\"scattergeo\"}],\"scattergl\":[{\"marker\":{\"colorbar\":{\"outlinewidth\":0,\"ticks\":\"\"}},\"type\":\"scattergl\"}],\"scattermapbox\":[{\"marker\":{\"colorbar\":{\"outlinewidth\":0,\"ticks\":\"\"}},\"type\":\"scattermapbox\"}],\"scatterpolargl\":[{\"marker\":{\"colorbar\":{\"outlinewidth\":0,\"ticks\":\"\"}},\"type\":\"scatterpolargl\"}],\"scatterpolar\":[{\"marker\":{\"colorbar\":{\"outlinewidth\":0,\"ticks\":\"\"}},\"type\":\"scatterpolar\"}],\"scatter\":[{\"fillpattern\":{\"fillmode\":\"overlay\",\"size\":10,\"solidity\":0.2},\"type\":\"scatter\"}],\"scatterternary\":[{\"marker\":{\"colorbar\":{\"outlinewidth\":0,\"ticks\":\"\"}},\"type\":\"scatterternary\"}],\"surface\":[{\"colorbar\":{\"outlinewidth\":0,\"ticks\":\"\"},\"colorscale\":[[0.0,\"#0d0887\"],[0.1111111111111111,\"#46039f\"],[0.2222222222222222,\"#7201a8\"],[0.3333333333333333,\"#9c179e\"],[0.4444444444444444,\"#bd3786\"],[0.5555555555555556,\"#d8576b\"],[0.6666666666666666,\"#ed7953\"],[0.7777777777777778,\"#fb9f3a\"],[0.8888888888888888,\"#fdca26\"],[1.0,\"#f0f921\"]],\"type\":\"surface\"}],\"table\":[{\"cells\":{\"fill\":{\"color\":\"#EBF0F8\"},\"line\":{\"color\":\"white\"}},\"header\":{\"fill\":{\"color\":\"#C8D4E3\"},\"line\":{\"color\":\"white\"}},\"type\":\"table\"}]},\"layout\":{\"annotationdefaults\":{\"arrowcolor\":\"#2a3f5f\",\"arrowhead\":0,\"arrowwidth\":1},\"autotypenumbers\":\"strict\",\"coloraxis\":{\"colorbar\":{\"outlinewidth\":0,\"ticks\":\"\"}},\"colorscale\":{\"diverging\":[[0,\"#8e0152\"],[0.1,\"#c51b7d\"],[0.2,\"#de77ae\"],[0.3,\"#f1b6da\"],[0.4,\"#fde0ef\"],[0.5,\"#f7f7f7\"],[0.6,\"#e6f5d0\"],[0.7,\"#b8e186\"],[0.8,\"#7fbc41\"],[0.9,\"#4d9221\"],[1,\"#276419\"]],\"sequential\":[[0.0,\"#0d0887\"],[0.1111111111111111,\"#46039f\"],[0.2222222222222222,\"#7201a8\"],[0.3333333333333333,\"#9c179e\"],[0.4444444444444444,\"#bd3786\"],[0.5555555555555556,\"#d8576b\"],[0.6666666666666666,\"#ed7953\"],[0.7777777777777778,\"#fb9f3a\"],[0.8888888888888888,\"#fdca26\"],[1.0,\"#f0f921\"]],\"sequentialminus\":[[0.0,\"#0d0887\"],[0.1111111111111111,\"#46039f\"],[0.2222222222222222,\"#7201a8\"],[0.3333333333333333,\"#9c179e\"],[0.4444444444444444,\"#bd3786\"],[0.5555555555555556,\"#d8576b\"],[0.6666666666666666,\"#ed7953\"],[0.7777777777777778,\"#fb9f3a\"],[0.8888888888888888,\"#fdca26\"],[1.0,\"#f0f921\"]]},\"colorway\":[\"#636efa\",\"#EF553B\",\"#00cc96\",\"#ab63fa\",\"#FFA15A\",\"#19d3f3\",\"#FF6692\",\"#B6E880\",\"#FF97FF\",\"#FECB52\"],\"font\":{\"color\":\"#2a3f5f\"},\"geo\":{\"bgcolor\":\"white\",\"lakecolor\":\"white\",\"landcolor\":\"white\",\"showlakes\":true,\"showland\":true,\"subunitcolor\":\"#C8D4E3\"},\"hoverlabel\":{\"align\":\"left\"},\"hovermode\":\"closest\",\"mapbox\":{\"style\":\"light\"},\"paper_bgcolor\":\"white\",\"plot_bgcolor\":\"white\",\"polar\":{\"angularaxis\":{\"gridcolor\":\"#EBF0F8\",\"linecolor\":\"#EBF0F8\",\"ticks\":\"\"},\"bgcolor\":\"white\",\"radialaxis\":{\"gridcolor\":\"#EBF0F8\",\"linecolor\":\"#EBF0F8\",\"ticks\":\"\"}},\"scene\":{\"xaxis\":{\"backgroundcolor\":\"white\",\"gridcolor\":\"#DFE8F3\",\"gridwidth\":2,\"linecolor\":\"#EBF0F8\",\"showbackground\":true,\"ticks\":\"\",\"zerolinecolor\":\"#EBF0F8\"},\"yaxis\":{\"backgroundcolor\":\"white\",\"gridcolor\":\"#DFE8F3\",\"gridwidth\":2,\"linecolor\":\"#EBF0F8\",\"showbackground\":true,\"ticks\":\"\",\"zerolinecolor\":\"#EBF0F8\"},\"zaxis\":{\"backgroundcolor\":\"white\",\"gridcolor\":\"#DFE8F3\",\"gridwidth\":2,\"linecolor\":\"#EBF0F8\",\"showbackground\":true,\"ticks\":\"\",\"zerolinecolor\":\"#EBF0F8\"}},\"shapedefaults\":{\"line\":{\"color\":\"#2a3f5f\"}},\"ternary\":{\"aaxis\":{\"gridcolor\":\"#DFE8F3\",\"linecolor\":\"#A2B1C6\",\"ticks\":\"\"},\"baxis\":{\"gridcolor\":\"#DFE8F3\",\"linecolor\":\"#A2B1C6\",\"ticks\":\"\"},\"bgcolor\":\"white\",\"caxis\":{\"gridcolor\":\"#DFE8F3\",\"linecolor\":\"#A2B1C6\",\"ticks\":\"\"}},\"title\":{\"x\":0.05},\"xaxis\":{\"automargin\":true,\"gridcolor\":\"#EBF0F8\",\"linecolor\":\"#EBF0F8\",\"ticks\":\"\",\"title\":{\"standoff\":15},\"zerolinecolor\":\"#EBF0F8\",\"zerolinewidth\":2},\"yaxis\":{\"automargin\":true,\"gridcolor\":\"#EBF0F8\",\"linecolor\":\"#EBF0F8\",\"ticks\":\"\",\"title\":{\"standoff\":15},\"zerolinecolor\":\"#EBF0F8\",\"zerolinewidth\":2}}},\"hoverlabel\":{\"font\":{\"size\":12,\"family\":\"Rockwell\"},\"bgcolor\":\"white\"},\"title\":{\"text\":\"Training and Validation Loss\"},\"xaxis\":{\"title\":{\"text\":\"Epoch\"}},\"yaxis\":{\"title\":{\"text\":\"Loss\"}},\"legend\":{\"title\":{\"text\":\"Loss Type\"}},\"hovermode\":\"x\"},                        {\"responsive\": true}                    ).then(function(){\n",
              "                            \n",
              "var gd = document.getElementById('e57bae25-162d-4132-9605-1576724a504b');\n",
              "var x = new MutationObserver(function (mutations, observer) {{\n",
              "        var display = window.getComputedStyle(gd).display;\n",
              "        if (!display || display === 'none') {{\n",
              "            console.log([gd, 'removed!']);\n",
              "            Plotly.purge(gd);\n",
              "            observer.disconnect();\n",
              "        }}\n",
              "}});\n",
              "\n",
              "// Listen for the removal of the full notebook cells\n",
              "var notebookContainer = gd.closest('#notebook-container');\n",
              "if (notebookContainer) {{\n",
              "    x.observe(notebookContainer, {childList: true});\n",
              "}}\n",
              "\n",
              "// Listen for the clearing of the current output cell\n",
              "var outputEl = gd.closest('.output');\n",
              "if (outputEl) {{\n",
              "    x.observe(outputEl, {childList: true});\n",
              "}}\n",
              "\n",
              "                        })                };                            </script>        </div>\n",
              "</body>\n",
              "</html>"
            ]
          },
          "metadata": {}
        }
      ],
      "execution_count": 39
    },
    {
      "cell_type": "markdown",
      "source": [
        "#### Evalute Model Prediction"
      ],
      "metadata": {
        "id": "mbPg4Xy8oc31"
      }
    },
    {
      "cell_type": "code",
      "source": [
        "testing_complete = test\n",
        "testing_processed = testing_complete.iloc[:, 1:2].values\n",
        "\n",
        "google_total = pd.concat((train['Close'], testing_complete['Close']), axis=0)\n",
        "\n",
        "test_inputs = google_total[len(google_total) - len(testing_complete) - 60:].values"
      ],
      "metadata": {
        "id": "wUaHXJbu5LFN"
      },
      "execution_count": 40,
      "outputs": []
    },
    {
      "cell_type": "code",
      "source": [
        "len(test)"
      ],
      "metadata": {
        "colab": {
          "base_uri": "https://localhost:8080/"
        },
        "id": "37Qutzz_6NHm",
        "outputId": "1c712525-8bdd-45ea-8f8e-4a504271c11b"
      },
      "execution_count": 41,
      "outputs": [
        {
          "output_type": "execute_result",
          "data": {
            "text/plain": [
              "317"
            ]
          },
          "metadata": {},
          "execution_count": 41
        }
      ]
    },
    {
      "cell_type": "code",
      "source": [
        "test_inputs = test_inputs.reshape(-1,1)\n",
        "test_inputs = scaler.transform(test_inputs)\n",
        "\n",
        "test_features = []\n",
        "for i in range(60, len(test_inputs)):\n",
        "    test_features.append(test_inputs[i-60:i, 0])\n",
        "\n",
        "test_features = np.array(test_features)\n",
        "test_features = np.reshape(test_features, (test_features.shape[0], test_features.shape[1], 1))\n",
        "test_features.shape"
      ],
      "metadata": {
        "colab": {
          "base_uri": "https://localhost:8080/"
        },
        "id": "_UpXFymS5nac",
        "outputId": "71a1fce2-ce0f-4a6c-c7b8-79a9dc1fdd62"
      },
      "execution_count": 42,
      "outputs": [
        {
          "output_type": "execute_result",
          "data": {
            "text/plain": [
              "(317, 60, 1)"
            ]
          },
          "metadata": {},
          "execution_count": 42
        }
      ]
    },
    {
      "cell_type": "code",
      "source": [
        "# Evaluate the model on the test set\n",
        "## RNN\n",
        "RNN_test_loss = RNN_model.evaluate(test_features_set, test_labels)\n",
        "print(f'RNN Test Loss: {RNN_test_loss}')\n",
        "\n",
        "## LSTM\n",
        "LSTM_test_loss = LSTM_model.evaluate(test_features_set, test_labels)\n",
        "print(f'LSTM Test Loss: {LSTM_test_loss}')\n",
        "\n",
        "## GRU\n",
        "GRU_test_loss = GRU_model.evaluate(test_features_set, test_labels)\n",
        "print(f'LSTM Test Loss: {GRU_test_loss}')"
      ],
      "metadata": {
        "execution": {
          "iopub.status.busy": "2023-07-30T01:12:36.128034Z",
          "iopub.execute_input": "2023-07-30T01:12:36.128537Z",
          "iopub.status.idle": "2023-07-30T01:12:39.478383Z",
          "shell.execute_reply.started": "2023-07-30T01:12:36.128499Z",
          "shell.execute_reply": "2023-07-30T01:12:39.477417Z"
        },
        "trusted": true,
        "colab": {
          "base_uri": "https://localhost:8080/"
        },
        "id": "fKvXnS5qoc31",
        "outputId": "dc1a20e2-f823-42e6-e50c-88423b6c2aab"
      },
      "outputs": [
        {
          "output_type": "stream",
          "name": "stdout",
          "text": [
            "\u001b[1m9/9\u001b[0m \u001b[32m━━━━━━━━━━━━━━━━━━━━\u001b[0m\u001b[37m\u001b[0m \u001b[1m1s\u001b[0m 64ms/step - loss: 0.0158\n",
            "RNN Test Loss: 0.010376575402915478\n",
            "\u001b[1m9/9\u001b[0m \u001b[32m━━━━━━━━━━━━━━━━━━━━\u001b[0m\u001b[37m\u001b[0m \u001b[1m1s\u001b[0m 10ms/step - loss: 0.0030\n",
            "LSTM Test Loss: 0.0029588951729238033\n",
            "\u001b[1m9/9\u001b[0m \u001b[32m━━━━━━━━━━━━━━━━━━━━\u001b[0m\u001b[37m\u001b[0m \u001b[1m0s\u001b[0m 9ms/step - loss: 0.0013\n",
            "LSTM Test Loss: 0.0014498461969196796\n"
          ]
        }
      ],
      "execution_count": 43
    },
    {
      "cell_type": "markdown",
      "source": [
        "## Make predictions"
      ],
      "metadata": {
        "id": "6dP2HuIkoc31"
      }
    },
    {
      "cell_type": "code",
      "source": [
        "# RNN\n",
        "RNN_predictions = RNN_model.predict(test_features_set)\n",
        "RNN_predictions = scaler.inverse_transform(RNN_predictions)\n",
        "\n",
        "# LSTM\n",
        "LSTM_predictions = LSTM_model.predict(test_features_set)\n",
        "LSTM_predictions = scaler.inverse_transform(LSTM_predictions)\n",
        "\n",
        "# GRU\n",
        "GRU_predictions = GRU_model.predict(test_features_set)\n",
        "GRU_predictions = scaler.inverse_transform(GRU_predictions)"
      ],
      "metadata": {
        "execution": {
          "iopub.status.busy": "2023-07-30T01:13:08.729644Z",
          "iopub.execute_input": "2023-07-30T01:13:08.730077Z",
          "iopub.status.idle": "2023-07-30T01:13:12.00954Z",
          "shell.execute_reply.started": "2023-07-30T01:13:08.730034Z",
          "shell.execute_reply": "2023-07-30T01:13:12.008493Z"
        },
        "trusted": true,
        "colab": {
          "base_uri": "https://localhost:8080/"
        },
        "id": "sH1wu6MJoc31",
        "outputId": "1644e34e-71b4-4fdf-d1de-934365f623af"
      },
      "outputs": [
        {
          "output_type": "stream",
          "name": "stdout",
          "text": [
            "\u001b[1m9/9\u001b[0m \u001b[32m━━━━━━━━━━━━━━━━━━━━\u001b[0m\u001b[37m\u001b[0m \u001b[1m1s\u001b[0m 105ms/step\n",
            "\u001b[1m9/9\u001b[0m \u001b[32m━━━━━━━━━━━━━━━━━━━━\u001b[0m\u001b[37m\u001b[0m \u001b[1m1s\u001b[0m 57ms/step\n",
            "\u001b[1m9/9\u001b[0m \u001b[32m━━━━━━━━━━━━━━━━━━━━\u001b[0m\u001b[37m\u001b[0m \u001b[1m1s\u001b[0m 51ms/step\n"
          ]
        }
      ],
      "execution_count": 44
    },
    {
      "cell_type": "code",
      "source": [
        "len(RNN_predictions)"
      ],
      "metadata": {
        "colab": {
          "base_uri": "https://localhost:8080/"
        },
        "id": "f4YODATi6jGG",
        "outputId": "0b971451-9393-4824-b7ee-c3577b192852"
      },
      "execution_count": 45,
      "outputs": [
        {
          "output_type": "execute_result",
          "data": {
            "text/plain": [
              "257"
            ]
          },
          "metadata": {},
          "execution_count": 45
        }
      ]
    },
    {
      "cell_type": "code",
      "source": [
        "prediction = test['Date'].iloc[60:]\n",
        "prediction = pd.DataFrame(test.iloc[60:])\n",
        "prediction['RNN_Open'] = RNN_predictions\n",
        "prediction['LSTM_Open'] = LSTM_predictions\n",
        "prediction['GRU_Open'] = GRU_predictions\n",
        "\n",
        "prediction"
      ],
      "metadata": {
        "execution": {
          "iopub.status.busy": "2023-07-30T01:13:47.346354Z",
          "iopub.execute_input": "2023-07-30T01:13:47.346717Z",
          "iopub.status.idle": "2023-07-30T01:13:47.366788Z",
          "shell.execute_reply.started": "2023-07-30T01:13:47.346686Z",
          "shell.execute_reply": "2023-07-30T01:13:47.365382Z"
        },
        "trusted": true,
        "colab": {
          "base_uri": "https://localhost:8080/",
          "height": 423
        },
        "id": "CeGw21b0oc31",
        "outputId": "e6720d88-69bf-4435-d232-d1dc05ec3d2f"
      },
      "outputs": [
        {
          "output_type": "execute_result",
          "data": {
            "text/plain": [
              "                          Date        Open        High         Low  \\\n",
              "2912 2023-12-14 00:00:00-05:00  332.579596  333.426368  327.389431   \n",
              "2913 2023-12-15 00:00:00-05:00  330.726635  337.371266  329.959576   \n",
              "2914 2023-12-18 00:00:00-05:00  336.195780  346.237408  335.737508   \n",
              "2915 2023-12-19 00:00:00-05:00  344.264924  352.254425  343.806683   \n",
              "2916 2023-12-20 00:00:00-05:00  347.323229  353.609214  346.466516   \n",
              "...                        ...         ...         ...         ...   \n",
              "3164 2024-12-16 00:00:00-05:00  629.979980  631.150024  618.580017   \n",
              "3165 2024-12-17 00:00:00-05:00  626.169983  632.369995  616.539978   \n",
              "3166 2024-12-18 00:00:00-05:00  621.000000  627.359985  596.320007   \n",
              "3167 2024-12-19 00:00:00-05:00  610.390015  611.520020  595.000000   \n",
              "3168 2024-12-20 00:00:00-05:00  590.580017  603.109985  580.000000   \n",
              "\n",
              "           Close    Volume  Dividends  Stock Splits    RNN_Open   LSTM_Open  \\\n",
              "2912  331.902191  19607300        0.0           0.0  288.057129  321.021729   \n",
              "2913  333.645508  30001600        0.0           0.0  288.485260  323.041687   \n",
              "2914  343.308594  18993900        0.0           0.0  288.947449  325.236908   \n",
              "2915  349.026733  17729400        0.0           0.0  289.533875  327.593781   \n",
              "2916  347.950836  16369900        0.0           0.0  290.343384  330.307709   \n",
              "...          ...       ...        ...           ...         ...         ...   \n",
              "3164  624.239990  10885600        0.5           0.0  609.035400  628.406067   \n",
              "3165  619.440002  12897800        0.0           0.0  609.211182  629.586853   \n",
              "3166  597.190002  17075500        0.0           0.0  609.304443  629.640320   \n",
              "3167  595.570007  14958100        0.0           0.0  609.218262  627.622803   \n",
              "3168  585.250000  48917700        0.0           0.0  608.966797  623.444763   \n",
              "\n",
              "        GRU_Open  \n",
              "2912  335.778900  \n",
              "2913  336.202057  \n",
              "2914  336.790375  \n",
              "2915  341.512085  \n",
              "2916  347.212494  \n",
              "...          ...  \n",
              "3164  609.541077  \n",
              "3165  611.530090  \n",
              "3166  610.723694  \n",
              "3167  597.502197  \n",
              "3168  592.720703  \n",
              "\n",
              "[257 rows x 11 columns]"
            ],
            "text/html": [
              "\n",
              "  <div id=\"df-cd8ea396-519d-4690-8a57-2e8343af83d5\" class=\"colab-df-container\">\n",
              "    <div>\n",
              "<style scoped>\n",
              "    .dataframe tbody tr th:only-of-type {\n",
              "        vertical-align: middle;\n",
              "    }\n",
              "\n",
              "    .dataframe tbody tr th {\n",
              "        vertical-align: top;\n",
              "    }\n",
              "\n",
              "    .dataframe thead th {\n",
              "        text-align: right;\n",
              "    }\n",
              "</style>\n",
              "<table border=\"1\" class=\"dataframe\">\n",
              "  <thead>\n",
              "    <tr style=\"text-align: right;\">\n",
              "      <th></th>\n",
              "      <th>Date</th>\n",
              "      <th>Open</th>\n",
              "      <th>High</th>\n",
              "      <th>Low</th>\n",
              "      <th>Close</th>\n",
              "      <th>Volume</th>\n",
              "      <th>Dividends</th>\n",
              "      <th>Stock Splits</th>\n",
              "      <th>RNN_Open</th>\n",
              "      <th>LSTM_Open</th>\n",
              "      <th>GRU_Open</th>\n",
              "    </tr>\n",
              "  </thead>\n",
              "  <tbody>\n",
              "    <tr>\n",
              "      <th>2912</th>\n",
              "      <td>2023-12-14 00:00:00-05:00</td>\n",
              "      <td>332.579596</td>\n",
              "      <td>333.426368</td>\n",
              "      <td>327.389431</td>\n",
              "      <td>331.902191</td>\n",
              "      <td>19607300</td>\n",
              "      <td>0.0</td>\n",
              "      <td>0.0</td>\n",
              "      <td>288.057129</td>\n",
              "      <td>321.021729</td>\n",
              "      <td>335.778900</td>\n",
              "    </tr>\n",
              "    <tr>\n",
              "      <th>2913</th>\n",
              "      <td>2023-12-15 00:00:00-05:00</td>\n",
              "      <td>330.726635</td>\n",
              "      <td>337.371266</td>\n",
              "      <td>329.959576</td>\n",
              "      <td>333.645508</td>\n",
              "      <td>30001600</td>\n",
              "      <td>0.0</td>\n",
              "      <td>0.0</td>\n",
              "      <td>288.485260</td>\n",
              "      <td>323.041687</td>\n",
              "      <td>336.202057</td>\n",
              "    </tr>\n",
              "    <tr>\n",
              "      <th>2914</th>\n",
              "      <td>2023-12-18 00:00:00-05:00</td>\n",
              "      <td>336.195780</td>\n",
              "      <td>346.237408</td>\n",
              "      <td>335.737508</td>\n",
              "      <td>343.308594</td>\n",
              "      <td>18993900</td>\n",
              "      <td>0.0</td>\n",
              "      <td>0.0</td>\n",
              "      <td>288.947449</td>\n",
              "      <td>325.236908</td>\n",
              "      <td>336.790375</td>\n",
              "    </tr>\n",
              "    <tr>\n",
              "      <th>2915</th>\n",
              "      <td>2023-12-19 00:00:00-05:00</td>\n",
              "      <td>344.264924</td>\n",
              "      <td>352.254425</td>\n",
              "      <td>343.806683</td>\n",
              "      <td>349.026733</td>\n",
              "      <td>17729400</td>\n",
              "      <td>0.0</td>\n",
              "      <td>0.0</td>\n",
              "      <td>289.533875</td>\n",
              "      <td>327.593781</td>\n",
              "      <td>341.512085</td>\n",
              "    </tr>\n",
              "    <tr>\n",
              "      <th>2916</th>\n",
              "      <td>2023-12-20 00:00:00-05:00</td>\n",
              "      <td>347.323229</td>\n",
              "      <td>353.609214</td>\n",
              "      <td>346.466516</td>\n",
              "      <td>347.950836</td>\n",
              "      <td>16369900</td>\n",
              "      <td>0.0</td>\n",
              "      <td>0.0</td>\n",
              "      <td>290.343384</td>\n",
              "      <td>330.307709</td>\n",
              "      <td>347.212494</td>\n",
              "    </tr>\n",
              "    <tr>\n",
              "      <th>...</th>\n",
              "      <td>...</td>\n",
              "      <td>...</td>\n",
              "      <td>...</td>\n",
              "      <td>...</td>\n",
              "      <td>...</td>\n",
              "      <td>...</td>\n",
              "      <td>...</td>\n",
              "      <td>...</td>\n",
              "      <td>...</td>\n",
              "      <td>...</td>\n",
              "      <td>...</td>\n",
              "    </tr>\n",
              "    <tr>\n",
              "      <th>3164</th>\n",
              "      <td>2024-12-16 00:00:00-05:00</td>\n",
              "      <td>629.979980</td>\n",
              "      <td>631.150024</td>\n",
              "      <td>618.580017</td>\n",
              "      <td>624.239990</td>\n",
              "      <td>10885600</td>\n",
              "      <td>0.5</td>\n",
              "      <td>0.0</td>\n",
              "      <td>609.035400</td>\n",
              "      <td>628.406067</td>\n",
              "      <td>609.541077</td>\n",
              "    </tr>\n",
              "    <tr>\n",
              "      <th>3165</th>\n",
              "      <td>2024-12-17 00:00:00-05:00</td>\n",
              "      <td>626.169983</td>\n",
              "      <td>632.369995</td>\n",
              "      <td>616.539978</td>\n",
              "      <td>619.440002</td>\n",
              "      <td>12897800</td>\n",
              "      <td>0.0</td>\n",
              "      <td>0.0</td>\n",
              "      <td>609.211182</td>\n",
              "      <td>629.586853</td>\n",
              "      <td>611.530090</td>\n",
              "    </tr>\n",
              "    <tr>\n",
              "      <th>3166</th>\n",
              "      <td>2024-12-18 00:00:00-05:00</td>\n",
              "      <td>621.000000</td>\n",
              "      <td>627.359985</td>\n",
              "      <td>596.320007</td>\n",
              "      <td>597.190002</td>\n",
              "      <td>17075500</td>\n",
              "      <td>0.0</td>\n",
              "      <td>0.0</td>\n",
              "      <td>609.304443</td>\n",
              "      <td>629.640320</td>\n",
              "      <td>610.723694</td>\n",
              "    </tr>\n",
              "    <tr>\n",
              "      <th>3167</th>\n",
              "      <td>2024-12-19 00:00:00-05:00</td>\n",
              "      <td>610.390015</td>\n",
              "      <td>611.520020</td>\n",
              "      <td>595.000000</td>\n",
              "      <td>595.570007</td>\n",
              "      <td>14958100</td>\n",
              "      <td>0.0</td>\n",
              "      <td>0.0</td>\n",
              "      <td>609.218262</td>\n",
              "      <td>627.622803</td>\n",
              "      <td>597.502197</td>\n",
              "    </tr>\n",
              "    <tr>\n",
              "      <th>3168</th>\n",
              "      <td>2024-12-20 00:00:00-05:00</td>\n",
              "      <td>590.580017</td>\n",
              "      <td>603.109985</td>\n",
              "      <td>580.000000</td>\n",
              "      <td>585.250000</td>\n",
              "      <td>48917700</td>\n",
              "      <td>0.0</td>\n",
              "      <td>0.0</td>\n",
              "      <td>608.966797</td>\n",
              "      <td>623.444763</td>\n",
              "      <td>592.720703</td>\n",
              "    </tr>\n",
              "  </tbody>\n",
              "</table>\n",
              "<p>257 rows × 11 columns</p>\n",
              "</div>\n",
              "    <div class=\"colab-df-buttons\">\n",
              "\n",
              "  <div class=\"colab-df-container\">\n",
              "    <button class=\"colab-df-convert\" onclick=\"convertToInteractive('df-cd8ea396-519d-4690-8a57-2e8343af83d5')\"\n",
              "            title=\"Convert this dataframe to an interactive table.\"\n",
              "            style=\"display:none;\">\n",
              "\n",
              "  <svg xmlns=\"http://www.w3.org/2000/svg\" height=\"24px\" viewBox=\"0 -960 960 960\">\n",
              "    <path d=\"M120-120v-720h720v720H120Zm60-500h600v-160H180v160Zm220 220h160v-160H400v160Zm0 220h160v-160H400v160ZM180-400h160v-160H180v160Zm440 0h160v-160H620v160ZM180-180h160v-160H180v160Zm440 0h160v-160H620v160Z\"/>\n",
              "  </svg>\n",
              "    </button>\n",
              "\n",
              "  <style>\n",
              "    .colab-df-container {\n",
              "      display:flex;\n",
              "      gap: 12px;\n",
              "    }\n",
              "\n",
              "    .colab-df-convert {\n",
              "      background-color: #E8F0FE;\n",
              "      border: none;\n",
              "      border-radius: 50%;\n",
              "      cursor: pointer;\n",
              "      display: none;\n",
              "      fill: #1967D2;\n",
              "      height: 32px;\n",
              "      padding: 0 0 0 0;\n",
              "      width: 32px;\n",
              "    }\n",
              "\n",
              "    .colab-df-convert:hover {\n",
              "      background-color: #E2EBFA;\n",
              "      box-shadow: 0px 1px 2px rgba(60, 64, 67, 0.3), 0px 1px 3px 1px rgba(60, 64, 67, 0.15);\n",
              "      fill: #174EA6;\n",
              "    }\n",
              "\n",
              "    .colab-df-buttons div {\n",
              "      margin-bottom: 4px;\n",
              "    }\n",
              "\n",
              "    [theme=dark] .colab-df-convert {\n",
              "      background-color: #3B4455;\n",
              "      fill: #D2E3FC;\n",
              "    }\n",
              "\n",
              "    [theme=dark] .colab-df-convert:hover {\n",
              "      background-color: #434B5C;\n",
              "      box-shadow: 0px 1px 3px 1px rgba(0, 0, 0, 0.15);\n",
              "      filter: drop-shadow(0px 1px 2px rgba(0, 0, 0, 0.3));\n",
              "      fill: #FFFFFF;\n",
              "    }\n",
              "  </style>\n",
              "\n",
              "    <script>\n",
              "      const buttonEl =\n",
              "        document.querySelector('#df-cd8ea396-519d-4690-8a57-2e8343af83d5 button.colab-df-convert');\n",
              "      buttonEl.style.display =\n",
              "        google.colab.kernel.accessAllowed ? 'block' : 'none';\n",
              "\n",
              "      async function convertToInteractive(key) {\n",
              "        const element = document.querySelector('#df-cd8ea396-519d-4690-8a57-2e8343af83d5');\n",
              "        const dataTable =\n",
              "          await google.colab.kernel.invokeFunction('convertToInteractive',\n",
              "                                                    [key], {});\n",
              "        if (!dataTable) return;\n",
              "\n",
              "        const docLinkHtml = 'Like what you see? Visit the ' +\n",
              "          '<a target=\"_blank\" href=https://colab.research.google.com/notebooks/data_table.ipynb>data table notebook</a>'\n",
              "          + ' to learn more about interactive tables.';\n",
              "        element.innerHTML = '';\n",
              "        dataTable['output_type'] = 'display_data';\n",
              "        await google.colab.output.renderOutput(dataTable, element);\n",
              "        const docLink = document.createElement('div');\n",
              "        docLink.innerHTML = docLinkHtml;\n",
              "        element.appendChild(docLink);\n",
              "      }\n",
              "    </script>\n",
              "  </div>\n",
              "\n",
              "\n",
              "<div id=\"df-ab75838b-0c37-4f15-b024-85f2bced38f1\">\n",
              "  <button class=\"colab-df-quickchart\" onclick=\"quickchart('df-ab75838b-0c37-4f15-b024-85f2bced38f1')\"\n",
              "            title=\"Suggest charts\"\n",
              "            style=\"display:none;\">\n",
              "\n",
              "<svg xmlns=\"http://www.w3.org/2000/svg\" height=\"24px\"viewBox=\"0 0 24 24\"\n",
              "     width=\"24px\">\n",
              "    <g>\n",
              "        <path d=\"M19 3H5c-1.1 0-2 .9-2 2v14c0 1.1.9 2 2 2h14c1.1 0 2-.9 2-2V5c0-1.1-.9-2-2-2zM9 17H7v-7h2v7zm4 0h-2V7h2v10zm4 0h-2v-4h2v4z\"/>\n",
              "    </g>\n",
              "</svg>\n",
              "  </button>\n",
              "\n",
              "<style>\n",
              "  .colab-df-quickchart {\n",
              "      --bg-color: #E8F0FE;\n",
              "      --fill-color: #1967D2;\n",
              "      --hover-bg-color: #E2EBFA;\n",
              "      --hover-fill-color: #174EA6;\n",
              "      --disabled-fill-color: #AAA;\n",
              "      --disabled-bg-color: #DDD;\n",
              "  }\n",
              "\n",
              "  [theme=dark] .colab-df-quickchart {\n",
              "      --bg-color: #3B4455;\n",
              "      --fill-color: #D2E3FC;\n",
              "      --hover-bg-color: #434B5C;\n",
              "      --hover-fill-color: #FFFFFF;\n",
              "      --disabled-bg-color: #3B4455;\n",
              "      --disabled-fill-color: #666;\n",
              "  }\n",
              "\n",
              "  .colab-df-quickchart {\n",
              "    background-color: var(--bg-color);\n",
              "    border: none;\n",
              "    border-radius: 50%;\n",
              "    cursor: pointer;\n",
              "    display: none;\n",
              "    fill: var(--fill-color);\n",
              "    height: 32px;\n",
              "    padding: 0;\n",
              "    width: 32px;\n",
              "  }\n",
              "\n",
              "  .colab-df-quickchart:hover {\n",
              "    background-color: var(--hover-bg-color);\n",
              "    box-shadow: 0 1px 2px rgba(60, 64, 67, 0.3), 0 1px 3px 1px rgba(60, 64, 67, 0.15);\n",
              "    fill: var(--button-hover-fill-color);\n",
              "  }\n",
              "\n",
              "  .colab-df-quickchart-complete:disabled,\n",
              "  .colab-df-quickchart-complete:disabled:hover {\n",
              "    background-color: var(--disabled-bg-color);\n",
              "    fill: var(--disabled-fill-color);\n",
              "    box-shadow: none;\n",
              "  }\n",
              "\n",
              "  .colab-df-spinner {\n",
              "    border: 2px solid var(--fill-color);\n",
              "    border-color: transparent;\n",
              "    border-bottom-color: var(--fill-color);\n",
              "    animation:\n",
              "      spin 1s steps(1) infinite;\n",
              "  }\n",
              "\n",
              "  @keyframes spin {\n",
              "    0% {\n",
              "      border-color: transparent;\n",
              "      border-bottom-color: var(--fill-color);\n",
              "      border-left-color: var(--fill-color);\n",
              "    }\n",
              "    20% {\n",
              "      border-color: transparent;\n",
              "      border-left-color: var(--fill-color);\n",
              "      border-top-color: var(--fill-color);\n",
              "    }\n",
              "    30% {\n",
              "      border-color: transparent;\n",
              "      border-left-color: var(--fill-color);\n",
              "      border-top-color: var(--fill-color);\n",
              "      border-right-color: var(--fill-color);\n",
              "    }\n",
              "    40% {\n",
              "      border-color: transparent;\n",
              "      border-right-color: var(--fill-color);\n",
              "      border-top-color: var(--fill-color);\n",
              "    }\n",
              "    60% {\n",
              "      border-color: transparent;\n",
              "      border-right-color: var(--fill-color);\n",
              "    }\n",
              "    80% {\n",
              "      border-color: transparent;\n",
              "      border-right-color: var(--fill-color);\n",
              "      border-bottom-color: var(--fill-color);\n",
              "    }\n",
              "    90% {\n",
              "      border-color: transparent;\n",
              "      border-bottom-color: var(--fill-color);\n",
              "    }\n",
              "  }\n",
              "</style>\n",
              "\n",
              "  <script>\n",
              "    async function quickchart(key) {\n",
              "      const quickchartButtonEl =\n",
              "        document.querySelector('#' + key + ' button');\n",
              "      quickchartButtonEl.disabled = true;  // To prevent multiple clicks.\n",
              "      quickchartButtonEl.classList.add('colab-df-spinner');\n",
              "      try {\n",
              "        const charts = await google.colab.kernel.invokeFunction(\n",
              "            'suggestCharts', [key], {});\n",
              "      } catch (error) {\n",
              "        console.error('Error during call to suggestCharts:', error);\n",
              "      }\n",
              "      quickchartButtonEl.classList.remove('colab-df-spinner');\n",
              "      quickchartButtonEl.classList.add('colab-df-quickchart-complete');\n",
              "    }\n",
              "    (() => {\n",
              "      let quickchartButtonEl =\n",
              "        document.querySelector('#df-ab75838b-0c37-4f15-b024-85f2bced38f1 button');\n",
              "      quickchartButtonEl.style.display =\n",
              "        google.colab.kernel.accessAllowed ? 'block' : 'none';\n",
              "    })();\n",
              "  </script>\n",
              "</div>\n",
              "\n",
              "  <div id=\"id_0137c4dc-3dcf-4256-a41a-a4463cb0c479\">\n",
              "    <style>\n",
              "      .colab-df-generate {\n",
              "        background-color: #E8F0FE;\n",
              "        border: none;\n",
              "        border-radius: 50%;\n",
              "        cursor: pointer;\n",
              "        display: none;\n",
              "        fill: #1967D2;\n",
              "        height: 32px;\n",
              "        padding: 0 0 0 0;\n",
              "        width: 32px;\n",
              "      }\n",
              "\n",
              "      .colab-df-generate:hover {\n",
              "        background-color: #E2EBFA;\n",
              "        box-shadow: 0px 1px 2px rgba(60, 64, 67, 0.3), 0px 1px 3px 1px rgba(60, 64, 67, 0.15);\n",
              "        fill: #174EA6;\n",
              "      }\n",
              "\n",
              "      [theme=dark] .colab-df-generate {\n",
              "        background-color: #3B4455;\n",
              "        fill: #D2E3FC;\n",
              "      }\n",
              "\n",
              "      [theme=dark] .colab-df-generate:hover {\n",
              "        background-color: #434B5C;\n",
              "        box-shadow: 0px 1px 3px 1px rgba(0, 0, 0, 0.15);\n",
              "        filter: drop-shadow(0px 1px 2px rgba(0, 0, 0, 0.3));\n",
              "        fill: #FFFFFF;\n",
              "      }\n",
              "    </style>\n",
              "    <button class=\"colab-df-generate\" onclick=\"generateWithVariable('prediction')\"\n",
              "            title=\"Generate code using this dataframe.\"\n",
              "            style=\"display:none;\">\n",
              "\n",
              "  <svg xmlns=\"http://www.w3.org/2000/svg\" height=\"24px\"viewBox=\"0 0 24 24\"\n",
              "       width=\"24px\">\n",
              "    <path d=\"M7,19H8.4L18.45,9,17,7.55,7,17.6ZM5,21V16.75L18.45,3.32a2,2,0,0,1,2.83,0l1.4,1.43a1.91,1.91,0,0,1,.58,1.4,1.91,1.91,0,0,1-.58,1.4L9.25,21ZM18.45,9,17,7.55Zm-12,3A5.31,5.31,0,0,0,4.9,8.1,5.31,5.31,0,0,0,1,6.5,5.31,5.31,0,0,0,4.9,4.9,5.31,5.31,0,0,0,6.5,1,5.31,5.31,0,0,0,8.1,4.9,5.31,5.31,0,0,0,12,6.5,5.46,5.46,0,0,0,6.5,12Z\"/>\n",
              "  </svg>\n",
              "    </button>\n",
              "    <script>\n",
              "      (() => {\n",
              "      const buttonEl =\n",
              "        document.querySelector('#id_0137c4dc-3dcf-4256-a41a-a4463cb0c479 button.colab-df-generate');\n",
              "      buttonEl.style.display =\n",
              "        google.colab.kernel.accessAllowed ? 'block' : 'none';\n",
              "\n",
              "      buttonEl.onclick = () => {\n",
              "        google.colab.notebook.generateWithVariable('prediction');\n",
              "      }\n",
              "      })();\n",
              "    </script>\n",
              "  </div>\n",
              "\n",
              "    </div>\n",
              "  </div>\n"
            ],
            "application/vnd.google.colaboratory.intrinsic+json": {
              "type": "dataframe",
              "variable_name": "prediction",
              "summary": "{\n  \"name\": \"prediction\",\n  \"rows\": 257,\n  \"fields\": [\n    {\n      \"column\": \"Date\",\n      \"properties\": {\n        \"dtype\": \"date\",\n        \"min\": \"2023-12-14 00:00:00-05:00\",\n        \"max\": \"2024-12-20 00:00:00-05:00\",\n        \"num_unique_values\": 257,\n        \"samples\": [\n          \"2024-08-13 00:00:00-04:00\",\n          \"2024-09-12 00:00:00-04:00\",\n          \"2024-04-15 00:00:00-04:00\"\n        ],\n        \"semantic_type\": \"\",\n        \"description\": \"\"\n      }\n    },\n    {\n      \"column\": \"Open\",\n      \"properties\": {\n        \"dtype\": \"number\",\n        \"std\": 69.0962697991963,\n        \"min\": 330.72663453811526,\n        \"max\": 630.9910048638284,\n        \"num_unique_values\": 257,\n        \"samples\": [\n          519.0956865494239,\n          516.1408274194697,\n          515.2998333066029\n        ],\n        \"semantic_type\": \"\",\n        \"description\": \"\"\n      }\n    },\n    {\n      \"column\": \"High\",\n      \"properties\": {\n        \"dtype\": \"number\",\n        \"std\": 69.34230658627132,\n        \"min\": 333.4263677892299,\n        \"max\": 637.8854652597508,\n        \"num_unique_values\": 257,\n        \"samples\": [\n          530.5654741634111,\n          525.7838757747878,\n          517.1049171905591\n        ],\n        \"semantic_type\": \"\",\n        \"description\": \"\"\n      }\n    },\n    {\n      \"column\": \"Low\",\n      \"properties\": {\n        \"dtype\": \"number\",\n        \"std\": 67.69340503653497,\n        \"min\": 327.3894305287566,\n        \"max\": 626.7044846004596,\n        \"num_unique_values\": 257,\n        \"samples\": [\n          517.2389715729635,\n          514.3140281597395,\n          495.9132896082773\n        ],\n        \"semantic_type\": \"\",\n        \"description\": \"\"\n      }\n    },\n    {\n      \"column\": \"Close\",\n      \"properties\": {\n        \"dtype\": \"number\",\n        \"std\": 68.27140643991467,\n        \"min\": 331.9021911621094,\n        \"max\": 632.1700439453125,\n        \"num_unique_values\": 255,\n        \"samples\": [\n          558.6493530273438,\n          352.04522705078125,\n          518.4013061523438\n        ],\n        \"semantic_type\": \"\",\n        \"description\": \"\"\n      }\n    },\n    {\n      \"column\": \"Volume\",\n      \"properties\": {\n        \"dtype\": \"number\",\n        \"std\": 8569459,\n        \"min\": 6005600,\n        \"max\": 84615500,\n        \"num_unique_values\": 257,\n        \"samples\": [\n          13743800,\n          11993300,\n          13512900\n        ],\n        \"semantic_type\": \"\",\n        \"description\": \"\"\n      }\n    },\n    {\n      \"column\": \"Dividends\",\n      \"properties\": {\n        \"dtype\": \"number\",\n        \"std\": 0.06201171126997181,\n        \"min\": 0.0,\n        \"max\": 0.5,\n        \"num_unique_values\": 2,\n        \"samples\": [\n          0.5,\n          0.0\n        ],\n        \"semantic_type\": \"\",\n        \"description\": \"\"\n      }\n    },\n    {\n      \"column\": \"Stock Splits\",\n      \"properties\": {\n        \"dtype\": \"number\",\n        \"std\": 0.0,\n        \"min\": 0.0,\n        \"max\": 0.0,\n        \"num_unique_values\": 1,\n        \"samples\": [\n          0.0\n        ],\n        \"semantic_type\": \"\",\n        \"description\": \"\"\n      }\n    },\n    {\n      \"column\": \"RNN_Open\",\n      \"properties\": {\n        \"dtype\": \"float32\",\n        \"num_unique_values\": 257,\n        \"samples\": [\n          477.9850769042969\n        ],\n        \"semantic_type\": \"\",\n        \"description\": \"\"\n      }\n    },\n    {\n      \"column\": \"LSTM_Open\",\n      \"properties\": {\n        \"dtype\": \"float32\",\n        \"num_unique_values\": 257,\n        \"samples\": [\n          501.7843017578125\n        ],\n        \"semantic_type\": \"\",\n        \"description\": \"\"\n      }\n    },\n    {\n      \"column\": \"GRU_Open\",\n      \"properties\": {\n        \"dtype\": \"float32\",\n        \"num_unique_values\": 257,\n        \"samples\": [\n          505.9499206542969\n        ],\n        \"semantic_type\": \"\",\n        \"description\": \"\"\n      }\n    }\n  ]\n}"
            }
          },
          "metadata": {},
          "execution_count": 46
        }
      ],
      "execution_count": 46
    },
    {
      "cell_type": "code",
      "source": [
        "len(prediction)"
      ],
      "metadata": {
        "colab": {
          "base_uri": "https://localhost:8080/"
        },
        "id": "cxAOGot448ms",
        "outputId": "9ce39822-ae23-45fc-e203-5959e7b2234b"
      },
      "execution_count": 47,
      "outputs": [
        {
          "output_type": "execute_result",
          "data": {
            "text/plain": [
              "257"
            ]
          },
          "metadata": {},
          "execution_count": 47
        }
      ]
    },
    {
      "cell_type": "code",
      "source": [
        "fig = go.Figure()\n",
        "\n",
        "# Actual facebook stock price trace\n",
        "fig.add_trace(go.Scatter(x=testing_complete.Date,\n",
        "                         y=testing_complete.Open,\n",
        "                         mode='lines',\n",
        "                         name='Actual Facebook Stock Price',\n",
        "                         line=dict(color='blue')))\n",
        "\n",
        "# RNN Predicted facebook stock price trace\n",
        "fig.add_trace(go.Scatter(x=prediction.Date,\n",
        "                         y=prediction.RNN_Open,\n",
        "                         mode='lines',\n",
        "                         name='RNN Predicted Facebook Stock Price',\n",
        "                         line=dict(color='red')))\n",
        "\n",
        "# LSTM Predicted facebook stock price trace\n",
        "fig.add_trace(go.Scatter(x=prediction.Date,\n",
        "                         y=prediction.LSTM_Open,\n",
        "                         mode='lines',\n",
        "                         name='LSTM Predicted Facebook Stock Price',\n",
        "                         line=dict(color='green')))\n",
        "\n",
        "# LSTM Predicted facebook stock price trace\n",
        "fig.add_trace(go.Scatter(x=prediction.Date,\n",
        "                         y=prediction.GRU_Open,\n",
        "                         mode='lines',\n",
        "                         name='GRU Predicted Facebook Stock Price',\n",
        "                         line=dict(color='yellow')))\n",
        "\n",
        "fig.update_layout(title='Facebook Stock Price Prediction',\n",
        "                  xaxis_title='Date',\n",
        "                  yaxis_title='Facebook Stock Price',\n",
        "                  legend_title='Price Type',\n",
        "                  hovermode='x',\n",
        "                  hoverlabel=dict(bgcolor='white', font_size=12, font_family='Rockwell'),\n",
        "                  template='plotly_white')\n",
        "\n",
        "fig.show()"
      ],
      "metadata": {
        "execution": {
          "iopub.status.busy": "2023-07-30T01:15:39.157154Z",
          "iopub.execute_input": "2023-07-30T01:15:39.158129Z",
          "iopub.status.idle": "2023-07-30T01:15:39.208806Z",
          "shell.execute_reply.started": "2023-07-30T01:15:39.158094Z",
          "shell.execute_reply": "2023-07-30T01:15:39.207646Z"
        },
        "trusted": true,
        "colab": {
          "base_uri": "https://localhost:8080/",
          "height": 542
        },
        "id": "dL6iTntroc31",
        "outputId": "afb7b32f-27c0-46e9-eb12-2e9deda58532"
      },
      "outputs": [
        {
          "output_type": "display_data",
          "data": {
            "text/html": [
              "<html>\n",
              "<head><meta charset=\"utf-8\" /></head>\n",
              "<body>\n",
              "    <div>            <script src=\"https://cdnjs.cloudflare.com/ajax/libs/mathjax/2.7.5/MathJax.js?config=TeX-AMS-MML_SVG\"></script><script type=\"text/javascript\">if (window.MathJax && window.MathJax.Hub && window.MathJax.Hub.Config) {window.MathJax.Hub.Config({SVG: {font: \"STIX-Web\"}});}</script>                <script type=\"text/javascript\">window.PlotlyConfig = {MathJaxConfig: 'local'};</script>\n",
              "        <script charset=\"utf-8\" src=\"https://cdn.plot.ly/plotly-2.35.2.min.js\"></script>                <div id=\"f99e6955-9254-4ad8-b26d-7323e975ea8f\" class=\"plotly-graph-div\" style=\"height:525px; width:100%;\"></div>            <script type=\"text/javascript\">                                    window.PLOTLYENV=window.PLOTLYENV || {};                                    if (document.getElementById(\"f99e6955-9254-4ad8-b26d-7323e975ea8f\")) {                    Plotly.newPlot(                        \"f99e6955-9254-4ad8-b26d-7323e975ea8f\",                        [{\"line\":{\"color\":\"blue\"},\"mode\":\"lines\",\"name\":\"Actual Facebook Stock Price\",\"x\":[\"2023-09-20T00:00:00-04:00\",\"2023-09-21T00:00:00-04:00\",\"2023-09-22T00:00:00-04:00\",\"2023-09-25T00:00:00-04:00\",\"2023-09-26T00:00:00-04:00\",\"2023-09-27T00:00:00-04:00\",\"2023-09-28T00:00:00-04:00\",\"2023-09-29T00:00:00-04:00\",\"2023-10-02T00:00:00-04:00\",\"2023-10-03T00:00:00-04:00\",\"2023-10-04T00:00:00-04:00\",\"2023-10-05T00:00:00-04:00\",\"2023-10-06T00:00:00-04:00\",\"2023-10-09T00:00:00-04:00\",\"2023-10-10T00:00:00-04:00\",\"2023-10-11T00:00:00-04:00\",\"2023-10-12T00:00:00-04:00\",\"2023-10-13T00:00:00-04:00\",\"2023-10-16T00:00:00-04:00\",\"2023-10-17T00:00:00-04:00\",\"2023-10-18T00:00:00-04:00\",\"2023-10-19T00:00:00-04:00\",\"2023-10-20T00:00:00-04:00\",\"2023-10-23T00:00:00-04:00\",\"2023-10-24T00:00:00-04:00\",\"2023-10-25T00:00:00-04:00\",\"2023-10-26T00:00:00-04:00\",\"2023-10-27T00:00:00-04:00\",\"2023-10-30T00:00:00-04:00\",\"2023-10-31T00:00:00-04:00\",\"2023-11-01T00:00:00-04:00\",\"2023-11-02T00:00:00-04:00\",\"2023-11-03T00:00:00-04:00\",\"2023-11-06T00:00:00-05:00\",\"2023-11-07T00:00:00-05:00\",\"2023-11-08T00:00:00-05:00\",\"2023-11-09T00:00:00-05:00\",\"2023-11-10T00:00:00-05:00\",\"2023-11-13T00:00:00-05:00\",\"2023-11-14T00:00:00-05:00\",\"2023-11-15T00:00:00-05:00\",\"2023-11-16T00:00:00-05:00\",\"2023-11-17T00:00:00-05:00\",\"2023-11-20T00:00:00-05:00\",\"2023-11-21T00:00:00-05:00\",\"2023-11-22T00:00:00-05:00\",\"2023-11-24T00:00:00-05:00\",\"2023-11-27T00:00:00-05:00\",\"2023-11-28T00:00:00-05:00\",\"2023-11-29T00:00:00-05:00\",\"2023-11-30T00:00:00-05:00\",\"2023-12-01T00:00:00-05:00\",\"2023-12-04T00:00:00-05:00\",\"2023-12-05T00:00:00-05:00\",\"2023-12-06T00:00:00-05:00\",\"2023-12-07T00:00:00-05:00\",\"2023-12-08T00:00:00-05:00\",\"2023-12-11T00:00:00-05:00\",\"2023-12-12T00:00:00-05:00\",\"2023-12-13T00:00:00-05:00\",\"2023-12-14T00:00:00-05:00\",\"2023-12-15T00:00:00-05:00\",\"2023-12-18T00:00:00-05:00\",\"2023-12-19T00:00:00-05:00\",\"2023-12-20T00:00:00-05:00\",\"2023-12-21T00:00:00-05:00\",\"2023-12-22T00:00:00-05:00\",\"2023-12-26T00:00:00-05:00\",\"2023-12-27T00:00:00-05:00\",\"2023-12-28T00:00:00-05:00\",\"2023-12-29T00:00:00-05:00\",\"2024-01-02T00:00:00-05:00\",\"2024-01-03T00:00:00-05:00\",\"2024-01-04T00:00:00-05:00\",\"2024-01-05T00:00:00-05:00\",\"2024-01-08T00:00:00-05:00\",\"2024-01-09T00:00:00-05:00\",\"2024-01-10T00:00:00-05:00\",\"2024-01-11T00:00:00-05:00\",\"2024-01-12T00:00:00-05:00\",\"2024-01-16T00:00:00-05:00\",\"2024-01-17T00:00:00-05:00\",\"2024-01-18T00:00:00-05:00\",\"2024-01-19T00:00:00-05:00\",\"2024-01-22T00:00:00-05:00\",\"2024-01-23T00:00:00-05:00\",\"2024-01-24T00:00:00-05:00\",\"2024-01-25T00:00:00-05:00\",\"2024-01-26T00:00:00-05:00\",\"2024-01-29T00:00:00-05:00\",\"2024-01-30T00:00:00-05:00\",\"2024-01-31T00:00:00-05:00\",\"2024-02-01T00:00:00-05:00\",\"2024-02-02T00:00:00-05:00\",\"2024-02-05T00:00:00-05:00\",\"2024-02-06T00:00:00-05:00\",\"2024-02-07T00:00:00-05:00\",\"2024-02-08T00:00:00-05:00\",\"2024-02-09T00:00:00-05:00\",\"2024-02-12T00:00:00-05:00\",\"2024-02-13T00:00:00-05:00\",\"2024-02-14T00:00:00-05:00\",\"2024-02-15T00:00:00-05:00\",\"2024-02-16T00:00:00-05:00\",\"2024-02-20T00:00:00-05:00\",\"2024-02-21T00:00:00-05:00\",\"2024-02-22T00:00:00-05:00\",\"2024-02-23T00:00:00-05:00\",\"2024-02-26T00:00:00-05:00\",\"2024-02-27T00:00:00-05:00\",\"2024-02-28T00:00:00-05:00\",\"2024-02-29T00:00:00-05:00\",\"2024-03-01T00:00:00-05:00\",\"2024-03-04T00:00:00-05:00\",\"2024-03-05T00:00:00-05:00\",\"2024-03-06T00:00:00-05:00\",\"2024-03-07T00:00:00-05:00\",\"2024-03-08T00:00:00-05:00\",\"2024-03-11T00:00:00-04:00\",\"2024-03-12T00:00:00-04:00\",\"2024-03-13T00:00:00-04:00\",\"2024-03-14T00:00:00-04:00\",\"2024-03-15T00:00:00-04:00\",\"2024-03-18T00:00:00-04:00\",\"2024-03-19T00:00:00-04:00\",\"2024-03-20T00:00:00-04:00\",\"2024-03-21T00:00:00-04:00\",\"2024-03-22T00:00:00-04:00\",\"2024-03-25T00:00:00-04:00\",\"2024-03-26T00:00:00-04:00\",\"2024-03-27T00:00:00-04:00\",\"2024-03-28T00:00:00-04:00\",\"2024-04-01T00:00:00-04:00\",\"2024-04-02T00:00:00-04:00\",\"2024-04-03T00:00:00-04:00\",\"2024-04-04T00:00:00-04:00\",\"2024-04-05T00:00:00-04:00\",\"2024-04-08T00:00:00-04:00\",\"2024-04-09T00:00:00-04:00\",\"2024-04-10T00:00:00-04:00\",\"2024-04-11T00:00:00-04:00\",\"2024-04-12T00:00:00-04:00\",\"2024-04-15T00:00:00-04:00\",\"2024-04-16T00:00:00-04:00\",\"2024-04-17T00:00:00-04:00\",\"2024-04-18T00:00:00-04:00\",\"2024-04-19T00:00:00-04:00\",\"2024-04-22T00:00:00-04:00\",\"2024-04-23T00:00:00-04:00\",\"2024-04-24T00:00:00-04:00\",\"2024-04-25T00:00:00-04:00\",\"2024-04-26T00:00:00-04:00\",\"2024-04-29T00:00:00-04:00\",\"2024-04-30T00:00:00-04:00\",\"2024-05-01T00:00:00-04:00\",\"2024-05-02T00:00:00-04:00\",\"2024-05-03T00:00:00-04:00\",\"2024-05-06T00:00:00-04:00\",\"2024-05-07T00:00:00-04:00\",\"2024-05-08T00:00:00-04:00\",\"2024-05-09T00:00:00-04:00\",\"2024-05-10T00:00:00-04:00\",\"2024-05-13T00:00:00-04:00\",\"2024-05-14T00:00:00-04:00\",\"2024-05-15T00:00:00-04:00\",\"2024-05-16T00:00:00-04:00\",\"2024-05-17T00:00:00-04:00\",\"2024-05-20T00:00:00-04:00\",\"2024-05-21T00:00:00-04:00\",\"2024-05-22T00:00:00-04:00\",\"2024-05-23T00:00:00-04:00\",\"2024-05-24T00:00:00-04:00\",\"2024-05-28T00:00:00-04:00\",\"2024-05-29T00:00:00-04:00\",\"2024-05-30T00:00:00-04:00\",\"2024-05-31T00:00:00-04:00\",\"2024-06-03T00:00:00-04:00\",\"2024-06-04T00:00:00-04:00\",\"2024-06-05T00:00:00-04:00\",\"2024-06-06T00:00:00-04:00\",\"2024-06-07T00:00:00-04:00\",\"2024-06-10T00:00:00-04:00\",\"2024-06-11T00:00:00-04:00\",\"2024-06-12T00:00:00-04:00\",\"2024-06-13T00:00:00-04:00\",\"2024-06-14T00:00:00-04:00\",\"2024-06-17T00:00:00-04:00\",\"2024-06-18T00:00:00-04:00\",\"2024-06-20T00:00:00-04:00\",\"2024-06-21T00:00:00-04:00\",\"2024-06-24T00:00:00-04:00\",\"2024-06-25T00:00:00-04:00\",\"2024-06-26T00:00:00-04:00\",\"2024-06-27T00:00:00-04:00\",\"2024-06-28T00:00:00-04:00\",\"2024-07-01T00:00:00-04:00\",\"2024-07-02T00:00:00-04:00\",\"2024-07-03T00:00:00-04:00\",\"2024-07-05T00:00:00-04:00\",\"2024-07-08T00:00:00-04:00\",\"2024-07-09T00:00:00-04:00\",\"2024-07-10T00:00:00-04:00\",\"2024-07-11T00:00:00-04:00\",\"2024-07-12T00:00:00-04:00\",\"2024-07-15T00:00:00-04:00\",\"2024-07-16T00:00:00-04:00\",\"2024-07-17T00:00:00-04:00\",\"2024-07-18T00:00:00-04:00\",\"2024-07-19T00:00:00-04:00\",\"2024-07-22T00:00:00-04:00\",\"2024-07-23T00:00:00-04:00\",\"2024-07-24T00:00:00-04:00\",\"2024-07-25T00:00:00-04:00\",\"2024-07-26T00:00:00-04:00\",\"2024-07-29T00:00:00-04:00\",\"2024-07-30T00:00:00-04:00\",\"2024-07-31T00:00:00-04:00\",\"2024-08-01T00:00:00-04:00\",\"2024-08-02T00:00:00-04:00\",\"2024-08-05T00:00:00-04:00\",\"2024-08-06T00:00:00-04:00\",\"2024-08-07T00:00:00-04:00\",\"2024-08-08T00:00:00-04:00\",\"2024-08-09T00:00:00-04:00\",\"2024-08-12T00:00:00-04:00\",\"2024-08-13T00:00:00-04:00\",\"2024-08-14T00:00:00-04:00\",\"2024-08-15T00:00:00-04:00\",\"2024-08-16T00:00:00-04:00\",\"2024-08-19T00:00:00-04:00\",\"2024-08-20T00:00:00-04:00\",\"2024-08-21T00:00:00-04:00\",\"2024-08-22T00:00:00-04:00\",\"2024-08-23T00:00:00-04:00\",\"2024-08-26T00:00:00-04:00\",\"2024-08-27T00:00:00-04:00\",\"2024-08-28T00:00:00-04:00\",\"2024-08-29T00:00:00-04:00\",\"2024-08-30T00:00:00-04:00\",\"2024-09-03T00:00:00-04:00\",\"2024-09-04T00:00:00-04:00\",\"2024-09-05T00:00:00-04:00\",\"2024-09-06T00:00:00-04:00\",\"2024-09-09T00:00:00-04:00\",\"2024-09-10T00:00:00-04:00\",\"2024-09-11T00:00:00-04:00\",\"2024-09-12T00:00:00-04:00\",\"2024-09-13T00:00:00-04:00\",\"2024-09-16T00:00:00-04:00\",\"2024-09-17T00:00:00-04:00\",\"2024-09-18T00:00:00-04:00\",\"2024-09-19T00:00:00-04:00\",\"2024-09-20T00:00:00-04:00\",\"2024-09-23T00:00:00-04:00\",\"2024-09-24T00:00:00-04:00\",\"2024-09-25T00:00:00-04:00\",\"2024-09-26T00:00:00-04:00\",\"2024-09-27T00:00:00-04:00\",\"2024-09-30T00:00:00-04:00\",\"2024-10-01T00:00:00-04:00\",\"2024-10-02T00:00:00-04:00\",\"2024-10-03T00:00:00-04:00\",\"2024-10-04T00:00:00-04:00\",\"2024-10-07T00:00:00-04:00\",\"2024-10-08T00:00:00-04:00\",\"2024-10-09T00:00:00-04:00\",\"2024-10-10T00:00:00-04:00\",\"2024-10-11T00:00:00-04:00\",\"2024-10-14T00:00:00-04:00\",\"2024-10-15T00:00:00-04:00\",\"2024-10-16T00:00:00-04:00\",\"2024-10-17T00:00:00-04:00\",\"2024-10-18T00:00:00-04:00\",\"2024-10-21T00:00:00-04:00\",\"2024-10-22T00:00:00-04:00\",\"2024-10-23T00:00:00-04:00\",\"2024-10-24T00:00:00-04:00\",\"2024-10-25T00:00:00-04:00\",\"2024-10-28T00:00:00-04:00\",\"2024-10-29T00:00:00-04:00\",\"2024-10-30T00:00:00-04:00\",\"2024-10-31T00:00:00-04:00\",\"2024-11-01T00:00:00-04:00\",\"2024-11-04T00:00:00-05:00\",\"2024-11-05T00:00:00-05:00\",\"2024-11-06T00:00:00-05:00\",\"2024-11-07T00:00:00-05:00\",\"2024-11-08T00:00:00-05:00\",\"2024-11-11T00:00:00-05:00\",\"2024-11-12T00:00:00-05:00\",\"2024-11-13T00:00:00-05:00\",\"2024-11-14T00:00:00-05:00\",\"2024-11-15T00:00:00-05:00\",\"2024-11-18T00:00:00-05:00\",\"2024-11-19T00:00:00-05:00\",\"2024-11-20T00:00:00-05:00\",\"2024-11-21T00:00:00-05:00\",\"2024-11-22T00:00:00-05:00\",\"2024-11-25T00:00:00-05:00\",\"2024-11-26T00:00:00-05:00\",\"2024-11-27T00:00:00-05:00\",\"2024-11-29T00:00:00-05:00\",\"2024-12-02T00:00:00-05:00\",\"2024-12-03T00:00:00-05:00\",\"2024-12-04T00:00:00-05:00\",\"2024-12-05T00:00:00-05:00\",\"2024-12-06T00:00:00-05:00\",\"2024-12-09T00:00:00-05:00\",\"2024-12-10T00:00:00-05:00\",\"2024-12-11T00:00:00-05:00\",\"2024-12-12T00:00:00-05:00\",\"2024-12-13T00:00:00-05:00\",\"2024-12-16T00:00:00-05:00\",\"2024-12-17T00:00:00-05:00\",\"2024-12-18T00:00:00-05:00\",\"2024-12-19T00:00:00-05:00\",\"2024-12-20T00:00:00-05:00\"],\"y\":[303.88916474675915,294.5747601529643,298.16099749907136,294.51498912452007,296.5272554664833,299.3067041037911,297.80239804800976,306.21029442290103,301.58794429882886,303.1021731117906,297.59326564467193,303.47073218663917,300.29289252026376,311.3108127668467,317.90558411773225,321.78081633758194,326.75183634082794,322.29881824176135,317.42742893227734,316.96916932809273,320.16698731962435,318.66276319829853,312.94459301258905,308.3222162830386,315.57454054181323,308.82032591139335,293.87743522806903,293.3593922624319,297.9518481394076,302.1557499213808,300.7013533210004,316.09253572689846,311.3606148291629,314.77760474839,315.85346871880904,316.9293973651803,318.20449530704985,318.7225053674266,324.9587046410309,333.26695885797955,336.6440149088127,328.116608684554,329.0032362244676,333.61561448702196,337.0425007227325,337.9191682073353,338.8356652210929,334.9007097071492,332.13125778806415,338.39737094150405,330.62704292772753,324.24141539571593,316.0825932565716,317.7661731115653,320.70490602969704,316.56078430288767,321.8605208304549,328.14646123889196,323.3647637288815,332.6592712912048,332.5795962405077,330.72663453811526,336.19577979232724,344.2649243182355,347.32322874193824,351.63676183984126,354.2268652725796,353.63913112122106,354.7150408206543,358.33120480917404,357.62389480245247,349.9830865162906,343.66721813563737,343.1890472206602,345.6695403534004,353.35027401392244,355.0437145797441,358.7994190594283,370.7139053766167,368.75140159107906,372.22809228321756,364.9060705610555,370.07631202431554,377.55773627942625,386.4737131071769,383.1563819718862,388.5159084294594,388.6852821328243,392.8493595968491,393.4869051476428,402.0541940628019,387.5196885852341,392.4409101302402,457.85104547308083,468.09190134825633,462.2342778467363,456.25711750265236,466.53788709604834,471.15022162626246,466.4083414662073,455.13141666051735,466.1493262626268,473.4713769246856,476.29061035612744,467.93252964090965,465.21782823708315,478.9200883885395,486.70864764249717,482.1412107369271,478.6608493540087,483.66701476706055,487.09760125117754,490.7574380227447,501.6175479595631,493.6395420956379,496.2623079349238,501.8967723955973,512.7767915090476,495.64399319559266,491.9043421088278,494.02847931297975,498.8850950832054,487.6659788635188,490.55803236870526,486.8283017669424,498.1271715899645,513.2953820823078,505.60654769094856,504.39988805944944,503.74169445106367,497.92770610698483,491.48544780141845,485.86095449988574,483.7667551182063,497.55872706072597,515.0006307036361,515.439388045014,527.8252761921575,520.7946772560042,507.8902659720688,519.6777533793505,516.3270311463515,515.2998333066029,496.74095468824316,501.7172779535386,498.44629872495153,501.4180909852817,488.3740050762476,489.89983501684435,506.66362655985995,420.2418034096759,440.2466982561305,438.3518665599465,429.8652877727225,427.42204968812496,437.63387365717415,444.7043783000628,454.32786875946704,465.0084720600217,462.2261212061843,468.70822552760484,475.7787428964639,471.4506871426977,462.09642734216504,473.6745544520464,473.6944760560221,469.5359578200446,468.6583871866377,465.8361434698256,466.58407271694114,471.58033983417823,466.33476708315254,475.2701356697819,473.3554376300837,470.37365465582303,464.51976813760433,469.56586003819484,475.6889983677552,483.1185465412948,491.6250990798411,494.54703740728706,492.50265879963933,498.78537987063237,512.5773066023279,504.32009904500313,501.7662047936306,500.78792648080076,503.6728174607218,501.11733141699733,502.5648032467386,498.32227450510305,496.1760460963113,505.7591484551514,513.345762675726,516.2407234913114,504.0621472889219,499.8795336071508,505.47967026400573,510.7004435956451,541.3963393602018,532.8115217100899,529.8566501859987,529.9565731964901,496.88482516258756,497.753255834621,500.6182353165117,478.32748890233796,474.1648246132329,475.22296323213175,485.7244642271597,488.9787213991181,471.4795511350415,462.44544906299063,463.3838324436564,469.05382518347886,466.1788783098484,470.19181855359017,520.083950441522,488.14018098484985,450.5564161536223,478.15778839988604,502.24537033145316,496.62527045629236,506.8172797160644,515.9512198702542,519.0956865494239,527.1315032782409,530.854955645074,530.9647789453869,525.9436295161199,527.4209796933175,526.2231294111205,536.0557825742578,535.9759548140944,526.6723223880106,518.0674717264212,516.7597877748765,518.1373345139735,520.4332793155028,518.726317716563,505.1801848565831,510.82028599103717,520.9624005532694,505.2700215548743,507.26650495103047,506.1185214716629,516.1408274194697,519.4251278847123,524.1172127067206,537.1666930097264,536.6371228680351,549.5567118260615,559.5486344803471,569.0410025939483,566.2232520887292,563.5953525955609,575.265980085071,569.640491844112,567.2424677117614,577.5141638836731,574.3966631929802,569.6904698692135,583.2595352414568,597.7378250756824,589.2147372774183,593.5112332153118,587.0964117473287,584.3586796276534,593.7410167185426,589.6843036586223,580.931403835105,582.8598932908519,580.6316444752367,575.5657660455028,573.8271446016755,579.5025030116825,566.6728872134042,573.4674084728663,581.5309014773494,579.6824570250664,600.4955916647551,584.5285013352179,567.1525303872367,563.6453148058769,566.8427577068867,562.2964360130583,576.4250827660793,591.0632294019905,585.8873824891895,588.065605158264,582.1404134944723,576.5349800009285,570.7595614845304,556.5910118841139,551.4152148138388,562.4762696970146,569.0609794569406,563.0958111453639,561.6469571351098,565.5437970415496,574.4266886217266,568.5413971962214,577.0345718134193,594.520463013781,612.4659929347591,616.5826646645681,609.6082467951667,623.4171345099019,617.0622705435762,622.867550372131,630.9910048638284,626.7144335100988,629.97998046875,626.1699829101562,621.0,610.3900146484375,590.5800170898438],\"type\":\"scatter\"},{\"line\":{\"color\":\"red\"},\"mode\":\"lines\",\"name\":\"RNN Predicted Facebook Stock Price\",\"x\":[\"2023-12-14T00:00:00-05:00\",\"2023-12-15T00:00:00-05:00\",\"2023-12-18T00:00:00-05:00\",\"2023-12-19T00:00:00-05:00\",\"2023-12-20T00:00:00-05:00\",\"2023-12-21T00:00:00-05:00\",\"2023-12-22T00:00:00-05:00\",\"2023-12-26T00:00:00-05:00\",\"2023-12-27T00:00:00-05:00\",\"2023-12-28T00:00:00-05:00\",\"2023-12-29T00:00:00-05:00\",\"2024-01-02T00:00:00-05:00\",\"2024-01-03T00:00:00-05:00\",\"2024-01-04T00:00:00-05:00\",\"2024-01-05T00:00:00-05:00\",\"2024-01-08T00:00:00-05:00\",\"2024-01-09T00:00:00-05:00\",\"2024-01-10T00:00:00-05:00\",\"2024-01-11T00:00:00-05:00\",\"2024-01-12T00:00:00-05:00\",\"2024-01-16T00:00:00-05:00\",\"2024-01-17T00:00:00-05:00\",\"2024-01-18T00:00:00-05:00\",\"2024-01-19T00:00:00-05:00\",\"2024-01-22T00:00:00-05:00\",\"2024-01-23T00:00:00-05:00\",\"2024-01-24T00:00:00-05:00\",\"2024-01-25T00:00:00-05:00\",\"2024-01-26T00:00:00-05:00\",\"2024-01-29T00:00:00-05:00\",\"2024-01-30T00:00:00-05:00\",\"2024-01-31T00:00:00-05:00\",\"2024-02-01T00:00:00-05:00\",\"2024-02-02T00:00:00-05:00\",\"2024-02-05T00:00:00-05:00\",\"2024-02-06T00:00:00-05:00\",\"2024-02-07T00:00:00-05:00\",\"2024-02-08T00:00:00-05:00\",\"2024-02-09T00:00:00-05:00\",\"2024-02-12T00:00:00-05:00\",\"2024-02-13T00:00:00-05:00\",\"2024-02-14T00:00:00-05:00\",\"2024-02-15T00:00:00-05:00\",\"2024-02-16T00:00:00-05:00\",\"2024-02-20T00:00:00-05:00\",\"2024-02-21T00:00:00-05:00\",\"2024-02-22T00:00:00-05:00\",\"2024-02-23T00:00:00-05:00\",\"2024-02-26T00:00:00-05:00\",\"2024-02-27T00:00:00-05:00\",\"2024-02-28T00:00:00-05:00\",\"2024-02-29T00:00:00-05:00\",\"2024-03-01T00:00:00-05:00\",\"2024-03-04T00:00:00-05:00\",\"2024-03-05T00:00:00-05:00\",\"2024-03-06T00:00:00-05:00\",\"2024-03-07T00:00:00-05:00\",\"2024-03-08T00:00:00-05:00\",\"2024-03-11T00:00:00-04:00\",\"2024-03-12T00:00:00-04:00\",\"2024-03-13T00:00:00-04:00\",\"2024-03-14T00:00:00-04:00\",\"2024-03-15T00:00:00-04:00\",\"2024-03-18T00:00:00-04:00\",\"2024-03-19T00:00:00-04:00\",\"2024-03-20T00:00:00-04:00\",\"2024-03-21T00:00:00-04:00\",\"2024-03-22T00:00:00-04:00\",\"2024-03-25T00:00:00-04:00\",\"2024-03-26T00:00:00-04:00\",\"2024-03-27T00:00:00-04:00\",\"2024-03-28T00:00:00-04:00\",\"2024-04-01T00:00:00-04:00\",\"2024-04-02T00:00:00-04:00\",\"2024-04-03T00:00:00-04:00\",\"2024-04-04T00:00:00-04:00\",\"2024-04-05T00:00:00-04:00\",\"2024-04-08T00:00:00-04:00\",\"2024-04-09T00:00:00-04:00\",\"2024-04-10T00:00:00-04:00\",\"2024-04-11T00:00:00-04:00\",\"2024-04-12T00:00:00-04:00\",\"2024-04-15T00:00:00-04:00\",\"2024-04-16T00:00:00-04:00\",\"2024-04-17T00:00:00-04:00\",\"2024-04-18T00:00:00-04:00\",\"2024-04-19T00:00:00-04:00\",\"2024-04-22T00:00:00-04:00\",\"2024-04-23T00:00:00-04:00\",\"2024-04-24T00:00:00-04:00\",\"2024-04-25T00:00:00-04:00\",\"2024-04-26T00:00:00-04:00\",\"2024-04-29T00:00:00-04:00\",\"2024-04-30T00:00:00-04:00\",\"2024-05-01T00:00:00-04:00\",\"2024-05-02T00:00:00-04:00\",\"2024-05-03T00:00:00-04:00\",\"2024-05-06T00:00:00-04:00\",\"2024-05-07T00:00:00-04:00\",\"2024-05-08T00:00:00-04:00\",\"2024-05-09T00:00:00-04:00\",\"2024-05-10T00:00:00-04:00\",\"2024-05-13T00:00:00-04:00\",\"2024-05-14T00:00:00-04:00\",\"2024-05-15T00:00:00-04:00\",\"2024-05-16T00:00:00-04:00\",\"2024-05-17T00:00:00-04:00\",\"2024-05-20T00:00:00-04:00\",\"2024-05-21T00:00:00-04:00\",\"2024-05-22T00:00:00-04:00\",\"2024-05-23T00:00:00-04:00\",\"2024-05-24T00:00:00-04:00\",\"2024-05-28T00:00:00-04:00\",\"2024-05-29T00:00:00-04:00\",\"2024-05-30T00:00:00-04:00\",\"2024-05-31T00:00:00-04:00\",\"2024-06-03T00:00:00-04:00\",\"2024-06-04T00:00:00-04:00\",\"2024-06-05T00:00:00-04:00\",\"2024-06-06T00:00:00-04:00\",\"2024-06-07T00:00:00-04:00\",\"2024-06-10T00:00:00-04:00\",\"2024-06-11T00:00:00-04:00\",\"2024-06-12T00:00:00-04:00\",\"2024-06-13T00:00:00-04:00\",\"2024-06-14T00:00:00-04:00\",\"2024-06-17T00:00:00-04:00\",\"2024-06-18T00:00:00-04:00\",\"2024-06-20T00:00:00-04:00\",\"2024-06-21T00:00:00-04:00\",\"2024-06-24T00:00:00-04:00\",\"2024-06-25T00:00:00-04:00\",\"2024-06-26T00:00:00-04:00\",\"2024-06-27T00:00:00-04:00\",\"2024-06-28T00:00:00-04:00\",\"2024-07-01T00:00:00-04:00\",\"2024-07-02T00:00:00-04:00\",\"2024-07-03T00:00:00-04:00\",\"2024-07-05T00:00:00-04:00\",\"2024-07-08T00:00:00-04:00\",\"2024-07-09T00:00:00-04:00\",\"2024-07-10T00:00:00-04:00\",\"2024-07-11T00:00:00-04:00\",\"2024-07-12T00:00:00-04:00\",\"2024-07-15T00:00:00-04:00\",\"2024-07-16T00:00:00-04:00\",\"2024-07-17T00:00:00-04:00\",\"2024-07-18T00:00:00-04:00\",\"2024-07-19T00:00:00-04:00\",\"2024-07-22T00:00:00-04:00\",\"2024-07-23T00:00:00-04:00\",\"2024-07-24T00:00:00-04:00\",\"2024-07-25T00:00:00-04:00\",\"2024-07-26T00:00:00-04:00\",\"2024-07-29T00:00:00-04:00\",\"2024-07-30T00:00:00-04:00\",\"2024-07-31T00:00:00-04:00\",\"2024-08-01T00:00:00-04:00\",\"2024-08-02T00:00:00-04:00\",\"2024-08-05T00:00:00-04:00\",\"2024-08-06T00:00:00-04:00\",\"2024-08-07T00:00:00-04:00\",\"2024-08-08T00:00:00-04:00\",\"2024-08-09T00:00:00-04:00\",\"2024-08-12T00:00:00-04:00\",\"2024-08-13T00:00:00-04:00\",\"2024-08-14T00:00:00-04:00\",\"2024-08-15T00:00:00-04:00\",\"2024-08-16T00:00:00-04:00\",\"2024-08-19T00:00:00-04:00\",\"2024-08-20T00:00:00-04:00\",\"2024-08-21T00:00:00-04:00\",\"2024-08-22T00:00:00-04:00\",\"2024-08-23T00:00:00-04:00\",\"2024-08-26T00:00:00-04:00\",\"2024-08-27T00:00:00-04:00\",\"2024-08-28T00:00:00-04:00\",\"2024-08-29T00:00:00-04:00\",\"2024-08-30T00:00:00-04:00\",\"2024-09-03T00:00:00-04:00\",\"2024-09-04T00:00:00-04:00\",\"2024-09-05T00:00:00-04:00\",\"2024-09-06T00:00:00-04:00\",\"2024-09-09T00:00:00-04:00\",\"2024-09-10T00:00:00-04:00\",\"2024-09-11T00:00:00-04:00\",\"2024-09-12T00:00:00-04:00\",\"2024-09-13T00:00:00-04:00\",\"2024-09-16T00:00:00-04:00\",\"2024-09-17T00:00:00-04:00\",\"2024-09-18T00:00:00-04:00\",\"2024-09-19T00:00:00-04:00\",\"2024-09-20T00:00:00-04:00\",\"2024-09-23T00:00:00-04:00\",\"2024-09-24T00:00:00-04:00\",\"2024-09-25T00:00:00-04:00\",\"2024-09-26T00:00:00-04:00\",\"2024-09-27T00:00:00-04:00\",\"2024-09-30T00:00:00-04:00\",\"2024-10-01T00:00:00-04:00\",\"2024-10-02T00:00:00-04:00\",\"2024-10-03T00:00:00-04:00\",\"2024-10-04T00:00:00-04:00\",\"2024-10-07T00:00:00-04:00\",\"2024-10-08T00:00:00-04:00\",\"2024-10-09T00:00:00-04:00\",\"2024-10-10T00:00:00-04:00\",\"2024-10-11T00:00:00-04:00\",\"2024-10-14T00:00:00-04:00\",\"2024-10-15T00:00:00-04:00\",\"2024-10-16T00:00:00-04:00\",\"2024-10-17T00:00:00-04:00\",\"2024-10-18T00:00:00-04:00\",\"2024-10-21T00:00:00-04:00\",\"2024-10-22T00:00:00-04:00\",\"2024-10-23T00:00:00-04:00\",\"2024-10-24T00:00:00-04:00\",\"2024-10-25T00:00:00-04:00\",\"2024-10-28T00:00:00-04:00\",\"2024-10-29T00:00:00-04:00\",\"2024-10-30T00:00:00-04:00\",\"2024-10-31T00:00:00-04:00\",\"2024-11-01T00:00:00-04:00\",\"2024-11-04T00:00:00-05:00\",\"2024-11-05T00:00:00-05:00\",\"2024-11-06T00:00:00-05:00\",\"2024-11-07T00:00:00-05:00\",\"2024-11-08T00:00:00-05:00\",\"2024-11-11T00:00:00-05:00\",\"2024-11-12T00:00:00-05:00\",\"2024-11-13T00:00:00-05:00\",\"2024-11-14T00:00:00-05:00\",\"2024-11-15T00:00:00-05:00\",\"2024-11-18T00:00:00-05:00\",\"2024-11-19T00:00:00-05:00\",\"2024-11-20T00:00:00-05:00\",\"2024-11-21T00:00:00-05:00\",\"2024-11-22T00:00:00-05:00\",\"2024-11-25T00:00:00-05:00\",\"2024-11-26T00:00:00-05:00\",\"2024-11-27T00:00:00-05:00\",\"2024-11-29T00:00:00-05:00\",\"2024-12-02T00:00:00-05:00\",\"2024-12-03T00:00:00-05:00\",\"2024-12-04T00:00:00-05:00\",\"2024-12-05T00:00:00-05:00\",\"2024-12-06T00:00:00-05:00\",\"2024-12-09T00:00:00-05:00\",\"2024-12-10T00:00:00-05:00\",\"2024-12-11T00:00:00-05:00\",\"2024-12-12T00:00:00-05:00\",\"2024-12-13T00:00:00-05:00\",\"2024-12-16T00:00:00-05:00\",\"2024-12-17T00:00:00-05:00\",\"2024-12-18T00:00:00-05:00\",\"2024-12-19T00:00:00-05:00\",\"2024-12-20T00:00:00-05:00\"],\"y\":[288.05713,288.48526,288.94745,289.53387,290.34338,291.335,292.51627,293.79736,295.08798,296.37384,297.6138,298.6705,299.28345,299.33337,298.95126,298.43567,298.14722,298.20496,298.87195,300.1558,302.02518,304.16553,306.24622,308.29272,310.54453,313.10953,316.0696,319.5308,323.51276,327.92847,332.85297,338.12296,342.95096,346.89377,353.66876,364.9006,379.60464,395.90643,410.88687,422.91882,431.881,437.93616,442.10156,445.73743,449.10657,451.98126,453.9134,455.55643,457.3688,459.35474,461.49155,463.47412,465.44977,467.95215,471.0139,474.01196,476.6378,479.4864,482.76572,485.33472,486.93826,487.63724,487.61612,486.70554,485.37653,484.23517,483.97183,484.95056,487.00214,489.5318,491.5867,492.59512,492.0554,490.3365,488.2975,487.0576,487.30405,489.71878,493.9449,499.05304,504.3289,509.44824,513.8164,516.34656,516.5354,514.34656,510.7062,505.7025,499.54718,493.47772,488.46375,482.71512,474.99133,465.1884,454.34064,444.30307,436.18622,430.7315,428.31146,428.7228,431.27017,435.12286,439.47498,443.41983,446.60922,449.43195,451.86203,453.80905,455.02713,455.30453,454.89856,454.0661,453.5541,453.79993,454.5953,455.2644,455.32898,455.21136,455.32285,456.5715,459.0895,462.4525,466.48868,471.09344,476.1826,481.24976,485.85483,489.8424,492.9309,495.06094,496.01465,495.99048,495.89938,496.50424,498.3477,500.67926,502.68436,504.15393,505.22495,507.46918,511.37274,516.6153,522.72205,528.17395,531.1704,530.6383,526.49744,518.2679,507.1293,495.266,485.0833,477.91693,472.57178,467.53223,462.51587,458.02496,454.403,452.14578,452.15442,454.15768,456.88687,459.95505,462.95035,466.65317,471.72684,477.98508,485.42102,493.6553,502.72607,511.9649,520.6814,528.26935,534.74426,540.2247,544.51715,547.2677,548.2312,547.4951,545.4221,542.7117,539.508,535.9221,532.362,528.4544,524.08075,519.4689,515.342,512.92883,512.70593,514.88275,519.21936,525.2101,533.09564,542.837,553.77637,564.6775,574.4395,582.37897,588.26373,592.4573,595.4714,597.6091,599.234,600.7357,602.01996,603.0811,603.9423,604.5145,604.9066,605.19446,605.3684,605.3529,605.1634,604.88104,604.53625,604.2487,603.8553,603.32336,602.83484,602.5004,602.56104,602.9624,603.24976,603.2473,602.9413,602.525,602.16235,602.11444,602.4458,602.8883,603.35236,603.7148,603.91473,603.70184,603.0199,602.1132,601.1865,600.3382,599.5137,598.8297,598.51447,598.52295,598.80505,599.57526,601.01855,602.81287,604.45856,605.8574,606.91376,607.64813,608.24805,608.728,609.0354,609.2112,609.30444,609.21826,608.9668],\"type\":\"scatter\"},{\"line\":{\"color\":\"green\"},\"mode\":\"lines\",\"name\":\"LSTM Predicted Facebook Stock Price\",\"x\":[\"2023-12-14T00:00:00-05:00\",\"2023-12-15T00:00:00-05:00\",\"2023-12-18T00:00:00-05:00\",\"2023-12-19T00:00:00-05:00\",\"2023-12-20T00:00:00-05:00\",\"2023-12-21T00:00:00-05:00\",\"2023-12-22T00:00:00-05:00\",\"2023-12-26T00:00:00-05:00\",\"2023-12-27T00:00:00-05:00\",\"2023-12-28T00:00:00-05:00\",\"2023-12-29T00:00:00-05:00\",\"2024-01-02T00:00:00-05:00\",\"2024-01-03T00:00:00-05:00\",\"2024-01-04T00:00:00-05:00\",\"2024-01-05T00:00:00-05:00\",\"2024-01-08T00:00:00-05:00\",\"2024-01-09T00:00:00-05:00\",\"2024-01-10T00:00:00-05:00\",\"2024-01-11T00:00:00-05:00\",\"2024-01-12T00:00:00-05:00\",\"2024-01-16T00:00:00-05:00\",\"2024-01-17T00:00:00-05:00\",\"2024-01-18T00:00:00-05:00\",\"2024-01-19T00:00:00-05:00\",\"2024-01-22T00:00:00-05:00\",\"2024-01-23T00:00:00-05:00\",\"2024-01-24T00:00:00-05:00\",\"2024-01-25T00:00:00-05:00\",\"2024-01-26T00:00:00-05:00\",\"2024-01-29T00:00:00-05:00\",\"2024-01-30T00:00:00-05:00\",\"2024-01-31T00:00:00-05:00\",\"2024-02-01T00:00:00-05:00\",\"2024-02-02T00:00:00-05:00\",\"2024-02-05T00:00:00-05:00\",\"2024-02-06T00:00:00-05:00\",\"2024-02-07T00:00:00-05:00\",\"2024-02-08T00:00:00-05:00\",\"2024-02-09T00:00:00-05:00\",\"2024-02-12T00:00:00-05:00\",\"2024-02-13T00:00:00-05:00\",\"2024-02-14T00:00:00-05:00\",\"2024-02-15T00:00:00-05:00\",\"2024-02-16T00:00:00-05:00\",\"2024-02-20T00:00:00-05:00\",\"2024-02-21T00:00:00-05:00\",\"2024-02-22T00:00:00-05:00\",\"2024-02-23T00:00:00-05:00\",\"2024-02-26T00:00:00-05:00\",\"2024-02-27T00:00:00-05:00\",\"2024-02-28T00:00:00-05:00\",\"2024-02-29T00:00:00-05:00\",\"2024-03-01T00:00:00-05:00\",\"2024-03-04T00:00:00-05:00\",\"2024-03-05T00:00:00-05:00\",\"2024-03-06T00:00:00-05:00\",\"2024-03-07T00:00:00-05:00\",\"2024-03-08T00:00:00-05:00\",\"2024-03-11T00:00:00-04:00\",\"2024-03-12T00:00:00-04:00\",\"2024-03-13T00:00:00-04:00\",\"2024-03-14T00:00:00-04:00\",\"2024-03-15T00:00:00-04:00\",\"2024-03-18T00:00:00-04:00\",\"2024-03-19T00:00:00-04:00\",\"2024-03-20T00:00:00-04:00\",\"2024-03-21T00:00:00-04:00\",\"2024-03-22T00:00:00-04:00\",\"2024-03-25T00:00:00-04:00\",\"2024-03-26T00:00:00-04:00\",\"2024-03-27T00:00:00-04:00\",\"2024-03-28T00:00:00-04:00\",\"2024-04-01T00:00:00-04:00\",\"2024-04-02T00:00:00-04:00\",\"2024-04-03T00:00:00-04:00\",\"2024-04-04T00:00:00-04:00\",\"2024-04-05T00:00:00-04:00\",\"2024-04-08T00:00:00-04:00\",\"2024-04-09T00:00:00-04:00\",\"2024-04-10T00:00:00-04:00\",\"2024-04-11T00:00:00-04:00\",\"2024-04-12T00:00:00-04:00\",\"2024-04-15T00:00:00-04:00\",\"2024-04-16T00:00:00-04:00\",\"2024-04-17T00:00:00-04:00\",\"2024-04-18T00:00:00-04:00\",\"2024-04-19T00:00:00-04:00\",\"2024-04-22T00:00:00-04:00\",\"2024-04-23T00:00:00-04:00\",\"2024-04-24T00:00:00-04:00\",\"2024-04-25T00:00:00-04:00\",\"2024-04-26T00:00:00-04:00\",\"2024-04-29T00:00:00-04:00\",\"2024-04-30T00:00:00-04:00\",\"2024-05-01T00:00:00-04:00\",\"2024-05-02T00:00:00-04:00\",\"2024-05-03T00:00:00-04:00\",\"2024-05-06T00:00:00-04:00\",\"2024-05-07T00:00:00-04:00\",\"2024-05-08T00:00:00-04:00\",\"2024-05-09T00:00:00-04:00\",\"2024-05-10T00:00:00-04:00\",\"2024-05-13T00:00:00-04:00\",\"2024-05-14T00:00:00-04:00\",\"2024-05-15T00:00:00-04:00\",\"2024-05-16T00:00:00-04:00\",\"2024-05-17T00:00:00-04:00\",\"2024-05-20T00:00:00-04:00\",\"2024-05-21T00:00:00-04:00\",\"2024-05-22T00:00:00-04:00\",\"2024-05-23T00:00:00-04:00\",\"2024-05-24T00:00:00-04:00\",\"2024-05-28T00:00:00-04:00\",\"2024-05-29T00:00:00-04:00\",\"2024-05-30T00:00:00-04:00\",\"2024-05-31T00:00:00-04:00\",\"2024-06-03T00:00:00-04:00\",\"2024-06-04T00:00:00-04:00\",\"2024-06-05T00:00:00-04:00\",\"2024-06-06T00:00:00-04:00\",\"2024-06-07T00:00:00-04:00\",\"2024-06-10T00:00:00-04:00\",\"2024-06-11T00:00:00-04:00\",\"2024-06-12T00:00:00-04:00\",\"2024-06-13T00:00:00-04:00\",\"2024-06-14T00:00:00-04:00\",\"2024-06-17T00:00:00-04:00\",\"2024-06-18T00:00:00-04:00\",\"2024-06-20T00:00:00-04:00\",\"2024-06-21T00:00:00-04:00\",\"2024-06-24T00:00:00-04:00\",\"2024-06-25T00:00:00-04:00\",\"2024-06-26T00:00:00-04:00\",\"2024-06-27T00:00:00-04:00\",\"2024-06-28T00:00:00-04:00\",\"2024-07-01T00:00:00-04:00\",\"2024-07-02T00:00:00-04:00\",\"2024-07-03T00:00:00-04:00\",\"2024-07-05T00:00:00-04:00\",\"2024-07-08T00:00:00-04:00\",\"2024-07-09T00:00:00-04:00\",\"2024-07-10T00:00:00-04:00\",\"2024-07-11T00:00:00-04:00\",\"2024-07-12T00:00:00-04:00\",\"2024-07-15T00:00:00-04:00\",\"2024-07-16T00:00:00-04:00\",\"2024-07-17T00:00:00-04:00\",\"2024-07-18T00:00:00-04:00\",\"2024-07-19T00:00:00-04:00\",\"2024-07-22T00:00:00-04:00\",\"2024-07-23T00:00:00-04:00\",\"2024-07-24T00:00:00-04:00\",\"2024-07-25T00:00:00-04:00\",\"2024-07-26T00:00:00-04:00\",\"2024-07-29T00:00:00-04:00\",\"2024-07-30T00:00:00-04:00\",\"2024-07-31T00:00:00-04:00\",\"2024-08-01T00:00:00-04:00\",\"2024-08-02T00:00:00-04:00\",\"2024-08-05T00:00:00-04:00\",\"2024-08-06T00:00:00-04:00\",\"2024-08-07T00:00:00-04:00\",\"2024-08-08T00:00:00-04:00\",\"2024-08-09T00:00:00-04:00\",\"2024-08-12T00:00:00-04:00\",\"2024-08-13T00:00:00-04:00\",\"2024-08-14T00:00:00-04:00\",\"2024-08-15T00:00:00-04:00\",\"2024-08-16T00:00:00-04:00\",\"2024-08-19T00:00:00-04:00\",\"2024-08-20T00:00:00-04:00\",\"2024-08-21T00:00:00-04:00\",\"2024-08-22T00:00:00-04:00\",\"2024-08-23T00:00:00-04:00\",\"2024-08-26T00:00:00-04:00\",\"2024-08-27T00:00:00-04:00\",\"2024-08-28T00:00:00-04:00\",\"2024-08-29T00:00:00-04:00\",\"2024-08-30T00:00:00-04:00\",\"2024-09-03T00:00:00-04:00\",\"2024-09-04T00:00:00-04:00\",\"2024-09-05T00:00:00-04:00\",\"2024-09-06T00:00:00-04:00\",\"2024-09-09T00:00:00-04:00\",\"2024-09-10T00:00:00-04:00\",\"2024-09-11T00:00:00-04:00\",\"2024-09-12T00:00:00-04:00\",\"2024-09-13T00:00:00-04:00\",\"2024-09-16T00:00:00-04:00\",\"2024-09-17T00:00:00-04:00\",\"2024-09-18T00:00:00-04:00\",\"2024-09-19T00:00:00-04:00\",\"2024-09-20T00:00:00-04:00\",\"2024-09-23T00:00:00-04:00\",\"2024-09-24T00:00:00-04:00\",\"2024-09-25T00:00:00-04:00\",\"2024-09-26T00:00:00-04:00\",\"2024-09-27T00:00:00-04:00\",\"2024-09-30T00:00:00-04:00\",\"2024-10-01T00:00:00-04:00\",\"2024-10-02T00:00:00-04:00\",\"2024-10-03T00:00:00-04:00\",\"2024-10-04T00:00:00-04:00\",\"2024-10-07T00:00:00-04:00\",\"2024-10-08T00:00:00-04:00\",\"2024-10-09T00:00:00-04:00\",\"2024-10-10T00:00:00-04:00\",\"2024-10-11T00:00:00-04:00\",\"2024-10-14T00:00:00-04:00\",\"2024-10-15T00:00:00-04:00\",\"2024-10-16T00:00:00-04:00\",\"2024-10-17T00:00:00-04:00\",\"2024-10-18T00:00:00-04:00\",\"2024-10-21T00:00:00-04:00\",\"2024-10-22T00:00:00-04:00\",\"2024-10-23T00:00:00-04:00\",\"2024-10-24T00:00:00-04:00\",\"2024-10-25T00:00:00-04:00\",\"2024-10-28T00:00:00-04:00\",\"2024-10-29T00:00:00-04:00\",\"2024-10-30T00:00:00-04:00\",\"2024-10-31T00:00:00-04:00\",\"2024-11-01T00:00:00-04:00\",\"2024-11-04T00:00:00-05:00\",\"2024-11-05T00:00:00-05:00\",\"2024-11-06T00:00:00-05:00\",\"2024-11-07T00:00:00-05:00\",\"2024-11-08T00:00:00-05:00\",\"2024-11-11T00:00:00-05:00\",\"2024-11-12T00:00:00-05:00\",\"2024-11-13T00:00:00-05:00\",\"2024-11-14T00:00:00-05:00\",\"2024-11-15T00:00:00-05:00\",\"2024-11-18T00:00:00-05:00\",\"2024-11-19T00:00:00-05:00\",\"2024-11-20T00:00:00-05:00\",\"2024-11-21T00:00:00-05:00\",\"2024-11-22T00:00:00-05:00\",\"2024-11-25T00:00:00-05:00\",\"2024-11-26T00:00:00-05:00\",\"2024-11-27T00:00:00-05:00\",\"2024-11-29T00:00:00-05:00\",\"2024-12-02T00:00:00-05:00\",\"2024-12-03T00:00:00-05:00\",\"2024-12-04T00:00:00-05:00\",\"2024-12-05T00:00:00-05:00\",\"2024-12-06T00:00:00-05:00\",\"2024-12-09T00:00:00-05:00\",\"2024-12-10T00:00:00-05:00\",\"2024-12-11T00:00:00-05:00\",\"2024-12-12T00:00:00-05:00\",\"2024-12-13T00:00:00-05:00\",\"2024-12-16T00:00:00-05:00\",\"2024-12-17T00:00:00-05:00\",\"2024-12-18T00:00:00-05:00\",\"2024-12-19T00:00:00-05:00\",\"2024-12-20T00:00:00-05:00\"],\"y\":[321.02173,323.0417,325.2369,327.59378,330.3077,333.37738,336.74954,340.2009,343.4768,346.44302,349.02472,351.02393,352.06247,351.9326,350.83722,349.34924,348.23346,347.93182,348.9352,351.28995,354.77502,358.64905,362.18005,365.159,367.85226,370.4386,373.04782,375.84518,378.89856,382.10953,385.49118,388.89932,391.7243,393.67093,397.71057,405.39142,416.16605,428.81918,441.65988,453.0018,461.77792,467.29733,470.20908,471.94696,473.1637,474.04446,474.47116,475.1368,476.42795,478.24496,480.486,482.78857,485.06244,487.7512,490.84244,493.69144,496.00122,498.38177,500.95685,502.57803,503.20706,502.98907,502.0661,500.35855,498.55423,497.23026,497.06345,498.33383,500.87555,503.85986,506.17435,507.10587,506.2165,503.9695,501.39062,499.73,499.80865,502.40118,506.96442,512.24884,517.1825,521.22125,523.66003,523.794,521.6819,517.7693,513.2132,508.19144,502.96472,498.53055,495.50546,491.83884,486.287,478.45706,468.9453,459.2811,451.00232,445.46454,443.6895,445.71765,450.77054,457.58,464.75693,470.79727,474.9907,477.6952,479.1422,479.55896,479.10397,477.84833,476.13602,474.27585,473.04672,472.983,473.89468,474.99744,475.64102,475.99597,476.34543,477.63052,480.23346,483.87128,488.31516,493.31546,498.47382,503.07693,506.6101,508.993,510.06635,510.0405,508.9994,507.3888,506.1975,506.15454,507.69177,509.92252,511.90277,513.275,514.0386,515.70355,518.65204,522.557,526.93823,530.17584,530.676,528.0157,522.6379,514.5247,505.04053,495.8201,488.59427,484.34528,481.95996,479.81497,477.44635,474.97134,472.61227,471.07278,471.71622,474.6372,478.54657,482.8679,486.9314,491.15045,496.12183,501.7843,508.16492,514.7717,521.3889,527.1675,531.5356,534.1895,535.6304,536.28406,536.3182,535.57574,534.0074,531.7266,529.1308,526.79987,524.707,522.8274,521.36426,519.71533,517.734,515.5618,513.77893,513.403,514.7893,518.03577,522.76996,528.26697,534.6697,541.83795,549.31604,556.3195,562.3756,567.15436,570.5165,572.7974,574.551,575.94006,577.4902,580.06555,583.26294,586.8051,590.15924,592.5448,593.9231,594.54193,594.5047,593.5141,591.61884,589.14453,586.48553,584.3708,582.319,580.2052,578.37524,577.3638,578.1265,580.7647,583.45825,584.7983,583.9961,581.8229,579.2854,578.1367,579.0744,581.52673,584.6101,587.2564,588.70685,587.6591,584.0011,578.87366,573.8209,569.8475,567.1903,565.98694,566.44977,568.1307,570.61536,574.31726,580.21826,588.1989,596.91003,605.60895,612.95685,618.4228,622.6678,626.1208,628.40607,629.58685,629.6403,627.6228,623.44476],\"type\":\"scatter\"},{\"line\":{\"color\":\"yellow\"},\"mode\":\"lines\",\"name\":\"GRU Predicted Facebook Stock Price\",\"x\":[\"2023-12-14T00:00:00-05:00\",\"2023-12-15T00:00:00-05:00\",\"2023-12-18T00:00:00-05:00\",\"2023-12-19T00:00:00-05:00\",\"2023-12-20T00:00:00-05:00\",\"2023-12-21T00:00:00-05:00\",\"2023-12-22T00:00:00-05:00\",\"2023-12-26T00:00:00-05:00\",\"2023-12-27T00:00:00-05:00\",\"2023-12-28T00:00:00-05:00\",\"2023-12-29T00:00:00-05:00\",\"2024-01-02T00:00:00-05:00\",\"2024-01-03T00:00:00-05:00\",\"2024-01-04T00:00:00-05:00\",\"2024-01-05T00:00:00-05:00\",\"2024-01-08T00:00:00-05:00\",\"2024-01-09T00:00:00-05:00\",\"2024-01-10T00:00:00-05:00\",\"2024-01-11T00:00:00-05:00\",\"2024-01-12T00:00:00-05:00\",\"2024-01-16T00:00:00-05:00\",\"2024-01-17T00:00:00-05:00\",\"2024-01-18T00:00:00-05:00\",\"2024-01-19T00:00:00-05:00\",\"2024-01-22T00:00:00-05:00\",\"2024-01-23T00:00:00-05:00\",\"2024-01-24T00:00:00-05:00\",\"2024-01-25T00:00:00-05:00\",\"2024-01-26T00:00:00-05:00\",\"2024-01-29T00:00:00-05:00\",\"2024-01-30T00:00:00-05:00\",\"2024-01-31T00:00:00-05:00\",\"2024-02-01T00:00:00-05:00\",\"2024-02-02T00:00:00-05:00\",\"2024-02-05T00:00:00-05:00\",\"2024-02-06T00:00:00-05:00\",\"2024-02-07T00:00:00-05:00\",\"2024-02-08T00:00:00-05:00\",\"2024-02-09T00:00:00-05:00\",\"2024-02-12T00:00:00-05:00\",\"2024-02-13T00:00:00-05:00\",\"2024-02-14T00:00:00-05:00\",\"2024-02-15T00:00:00-05:00\",\"2024-02-16T00:00:00-05:00\",\"2024-02-20T00:00:00-05:00\",\"2024-02-21T00:00:00-05:00\",\"2024-02-22T00:00:00-05:00\",\"2024-02-23T00:00:00-05:00\",\"2024-02-26T00:00:00-05:00\",\"2024-02-27T00:00:00-05:00\",\"2024-02-28T00:00:00-05:00\",\"2024-02-29T00:00:00-05:00\",\"2024-03-01T00:00:00-05:00\",\"2024-03-04T00:00:00-05:00\",\"2024-03-05T00:00:00-05:00\",\"2024-03-06T00:00:00-05:00\",\"2024-03-07T00:00:00-05:00\",\"2024-03-08T00:00:00-05:00\",\"2024-03-11T00:00:00-04:00\",\"2024-03-12T00:00:00-04:00\",\"2024-03-13T00:00:00-04:00\",\"2024-03-14T00:00:00-04:00\",\"2024-03-15T00:00:00-04:00\",\"2024-03-18T00:00:00-04:00\",\"2024-03-19T00:00:00-04:00\",\"2024-03-20T00:00:00-04:00\",\"2024-03-21T00:00:00-04:00\",\"2024-03-22T00:00:00-04:00\",\"2024-03-25T00:00:00-04:00\",\"2024-03-26T00:00:00-04:00\",\"2024-03-27T00:00:00-04:00\",\"2024-03-28T00:00:00-04:00\",\"2024-04-01T00:00:00-04:00\",\"2024-04-02T00:00:00-04:00\",\"2024-04-03T00:00:00-04:00\",\"2024-04-04T00:00:00-04:00\",\"2024-04-05T00:00:00-04:00\",\"2024-04-08T00:00:00-04:00\",\"2024-04-09T00:00:00-04:00\",\"2024-04-10T00:00:00-04:00\",\"2024-04-11T00:00:00-04:00\",\"2024-04-12T00:00:00-04:00\",\"2024-04-15T00:00:00-04:00\",\"2024-04-16T00:00:00-04:00\",\"2024-04-17T00:00:00-04:00\",\"2024-04-18T00:00:00-04:00\",\"2024-04-19T00:00:00-04:00\",\"2024-04-22T00:00:00-04:00\",\"2024-04-23T00:00:00-04:00\",\"2024-04-24T00:00:00-04:00\",\"2024-04-25T00:00:00-04:00\",\"2024-04-26T00:00:00-04:00\",\"2024-04-29T00:00:00-04:00\",\"2024-04-30T00:00:00-04:00\",\"2024-05-01T00:00:00-04:00\",\"2024-05-02T00:00:00-04:00\",\"2024-05-03T00:00:00-04:00\",\"2024-05-06T00:00:00-04:00\",\"2024-05-07T00:00:00-04:00\",\"2024-05-08T00:00:00-04:00\",\"2024-05-09T00:00:00-04:00\",\"2024-05-10T00:00:00-04:00\",\"2024-05-13T00:00:00-04:00\",\"2024-05-14T00:00:00-04:00\",\"2024-05-15T00:00:00-04:00\",\"2024-05-16T00:00:00-04:00\",\"2024-05-17T00:00:00-04:00\",\"2024-05-20T00:00:00-04:00\",\"2024-05-21T00:00:00-04:00\",\"2024-05-22T00:00:00-04:00\",\"2024-05-23T00:00:00-04:00\",\"2024-05-24T00:00:00-04:00\",\"2024-05-28T00:00:00-04:00\",\"2024-05-29T00:00:00-04:00\",\"2024-05-30T00:00:00-04:00\",\"2024-05-31T00:00:00-04:00\",\"2024-06-03T00:00:00-04:00\",\"2024-06-04T00:00:00-04:00\",\"2024-06-05T00:00:00-04:00\",\"2024-06-06T00:00:00-04:00\",\"2024-06-07T00:00:00-04:00\",\"2024-06-10T00:00:00-04:00\",\"2024-06-11T00:00:00-04:00\",\"2024-06-12T00:00:00-04:00\",\"2024-06-13T00:00:00-04:00\",\"2024-06-14T00:00:00-04:00\",\"2024-06-17T00:00:00-04:00\",\"2024-06-18T00:00:00-04:00\",\"2024-06-20T00:00:00-04:00\",\"2024-06-21T00:00:00-04:00\",\"2024-06-24T00:00:00-04:00\",\"2024-06-25T00:00:00-04:00\",\"2024-06-26T00:00:00-04:00\",\"2024-06-27T00:00:00-04:00\",\"2024-06-28T00:00:00-04:00\",\"2024-07-01T00:00:00-04:00\",\"2024-07-02T00:00:00-04:00\",\"2024-07-03T00:00:00-04:00\",\"2024-07-05T00:00:00-04:00\",\"2024-07-08T00:00:00-04:00\",\"2024-07-09T00:00:00-04:00\",\"2024-07-10T00:00:00-04:00\",\"2024-07-11T00:00:00-04:00\",\"2024-07-12T00:00:00-04:00\",\"2024-07-15T00:00:00-04:00\",\"2024-07-16T00:00:00-04:00\",\"2024-07-17T00:00:00-04:00\",\"2024-07-18T00:00:00-04:00\",\"2024-07-19T00:00:00-04:00\",\"2024-07-22T00:00:00-04:00\",\"2024-07-23T00:00:00-04:00\",\"2024-07-24T00:00:00-04:00\",\"2024-07-25T00:00:00-04:00\",\"2024-07-26T00:00:00-04:00\",\"2024-07-29T00:00:00-04:00\",\"2024-07-30T00:00:00-04:00\",\"2024-07-31T00:00:00-04:00\",\"2024-08-01T00:00:00-04:00\",\"2024-08-02T00:00:00-04:00\",\"2024-08-05T00:00:00-04:00\",\"2024-08-06T00:00:00-04:00\",\"2024-08-07T00:00:00-04:00\",\"2024-08-08T00:00:00-04:00\",\"2024-08-09T00:00:00-04:00\",\"2024-08-12T00:00:00-04:00\",\"2024-08-13T00:00:00-04:00\",\"2024-08-14T00:00:00-04:00\",\"2024-08-15T00:00:00-04:00\",\"2024-08-16T00:00:00-04:00\",\"2024-08-19T00:00:00-04:00\",\"2024-08-20T00:00:00-04:00\",\"2024-08-21T00:00:00-04:00\",\"2024-08-22T00:00:00-04:00\",\"2024-08-23T00:00:00-04:00\",\"2024-08-26T00:00:00-04:00\",\"2024-08-27T00:00:00-04:00\",\"2024-08-28T00:00:00-04:00\",\"2024-08-29T00:00:00-04:00\",\"2024-08-30T00:00:00-04:00\",\"2024-09-03T00:00:00-04:00\",\"2024-09-04T00:00:00-04:00\",\"2024-09-05T00:00:00-04:00\",\"2024-09-06T00:00:00-04:00\",\"2024-09-09T00:00:00-04:00\",\"2024-09-10T00:00:00-04:00\",\"2024-09-11T00:00:00-04:00\",\"2024-09-12T00:00:00-04:00\",\"2024-09-13T00:00:00-04:00\",\"2024-09-16T00:00:00-04:00\",\"2024-09-17T00:00:00-04:00\",\"2024-09-18T00:00:00-04:00\",\"2024-09-19T00:00:00-04:00\",\"2024-09-20T00:00:00-04:00\",\"2024-09-23T00:00:00-04:00\",\"2024-09-24T00:00:00-04:00\",\"2024-09-25T00:00:00-04:00\",\"2024-09-26T00:00:00-04:00\",\"2024-09-27T00:00:00-04:00\",\"2024-09-30T00:00:00-04:00\",\"2024-10-01T00:00:00-04:00\",\"2024-10-02T00:00:00-04:00\",\"2024-10-03T00:00:00-04:00\",\"2024-10-04T00:00:00-04:00\",\"2024-10-07T00:00:00-04:00\",\"2024-10-08T00:00:00-04:00\",\"2024-10-09T00:00:00-04:00\",\"2024-10-10T00:00:00-04:00\",\"2024-10-11T00:00:00-04:00\",\"2024-10-14T00:00:00-04:00\",\"2024-10-15T00:00:00-04:00\",\"2024-10-16T00:00:00-04:00\",\"2024-10-17T00:00:00-04:00\",\"2024-10-18T00:00:00-04:00\",\"2024-10-21T00:00:00-04:00\",\"2024-10-22T00:00:00-04:00\",\"2024-10-23T00:00:00-04:00\",\"2024-10-24T00:00:00-04:00\",\"2024-10-25T00:00:00-04:00\",\"2024-10-28T00:00:00-04:00\",\"2024-10-29T00:00:00-04:00\",\"2024-10-30T00:00:00-04:00\",\"2024-10-31T00:00:00-04:00\",\"2024-11-01T00:00:00-04:00\",\"2024-11-04T00:00:00-05:00\",\"2024-11-05T00:00:00-05:00\",\"2024-11-06T00:00:00-05:00\",\"2024-11-07T00:00:00-05:00\",\"2024-11-08T00:00:00-05:00\",\"2024-11-11T00:00:00-05:00\",\"2024-11-12T00:00:00-05:00\",\"2024-11-13T00:00:00-05:00\",\"2024-11-14T00:00:00-05:00\",\"2024-11-15T00:00:00-05:00\",\"2024-11-18T00:00:00-05:00\",\"2024-11-19T00:00:00-05:00\",\"2024-11-20T00:00:00-05:00\",\"2024-11-21T00:00:00-05:00\",\"2024-11-22T00:00:00-05:00\",\"2024-11-25T00:00:00-05:00\",\"2024-11-26T00:00:00-05:00\",\"2024-11-27T00:00:00-05:00\",\"2024-11-29T00:00:00-05:00\",\"2024-12-02T00:00:00-05:00\",\"2024-12-03T00:00:00-05:00\",\"2024-12-04T00:00:00-05:00\",\"2024-12-05T00:00:00-05:00\",\"2024-12-06T00:00:00-05:00\",\"2024-12-09T00:00:00-05:00\",\"2024-12-10T00:00:00-05:00\",\"2024-12-11T00:00:00-05:00\",\"2024-12-12T00:00:00-05:00\",\"2024-12-13T00:00:00-05:00\",\"2024-12-16T00:00:00-05:00\",\"2024-12-17T00:00:00-05:00\",\"2024-12-18T00:00:00-05:00\",\"2024-12-19T00:00:00-05:00\",\"2024-12-20T00:00:00-05:00\"],\"y\":[335.7789,336.20206,336.79037,341.5121,347.2125,349.4773,352.1197,353.72498,355.024,357.14996,358.70514,357.50476,353.26617,350.09583,350.0903,352.5676,356.80194,358.45828,364.37534,368.04053,371.23245,370.03427,369.28482,372.97668,378.79358,380.82788,382.6742,386.53384,389.93237,391.84274,395.86084,397.9148,394.0189,393.7229,432.79266,446.17032,443.75253,451.85205,458.90964,460.37643,461.5002,458.59357,463.78326,472.67313,470.57468,467.82614,466.30515,475.00305,478.3124,477.1189,479.59006,479.98227,482.82434,490.65717,491.86807,487.5102,489.17047,499.27576,500.03745,487.68906,490.9537,492.86096,490.09308,484.84097,489.4346,491.8526,496.3172,499.53516,501.49802,499.07162,494.50632,492.0994,487.40604,487.97745,491.77118,497.61392,501.74097,511.53375,511.60678,509.59253,511.49908,514.7228,509.97147,501.70624,498.8549,495.64005,497.52252,487.9448,482.81076,489.24033,490.7377,463.87524,450.89163,444.3069,439.21808,440.28098,441.98166,446.69275,455.42078,460.33795,463.8614,467.1818,469.32663,466.3437,466.9009,472.9775,471.55392,469.22894,467.5022,464.92044,465.249,464.71127,470.20013,473.88193,471.85324,467.1637,465.50784,470.69415,472.8735,481.87668,485.69983,485.8898,491.33313,496.9822,499.61505,498.24252,498.3087,500.35138,497.6531,497.30676,494.34106,494.86975,501.54593,505.43124,509.4517,503.4217,500.87473,503.76315,505.22757,520.75616,521.7277,520.53046,524.16797,514.89734,503.37866,498.68256,494.30777,477.77686,476.19302,478.20395,482.67908,484.58066,470.99625,460.26987,463.39035,465.64798,463.62216,468.01068,482.25497,483.1241,475.44534,482.35464,484.8694,494.80835,503.987,505.94992,513.23706,516.4602,522.912,521.0084,520.96576,520.89014,525.3908,525.71246,523.2176,519.075,516.77155,514.9922,514.8347,516.28284,511.66675,509.78375,511.88522,504.03378,502.1364,502.68115,505.9576,514.1157,516.5467,521.4914,525.77246,528.1788,540.59076,547.0127,550.0301,551.4041,555.4372,557.28705,557.71094,561.1004,564.9443,564.1542,569.37305,579.17737,575.78546,578.7473,580.1851,576.7292,579.24286,581.11224,578.9267,573.0463,571.6023,571.40314,570.112,573.0741,564.10065,562.4583,566.20593,569.4663,578.052,579.98865,566.7844,562.6834,559.9027,564.52423,565.6463,575.6796,577.95465,574.33417,574.92285,573.5139,571.25555,558.2255,553.65466,556.94836,559.6433,557.989,554.9222,557.3736,563.06744,562.0542,563.95996,575.585,590.9543,594.81805,593.2127,602.90564,601.4514,603.70435,613.5032,615.34796,609.5411,611.5301,610.7237,597.5022,592.7207],\"type\":\"scatter\"}],                        {\"template\":{\"data\":{\"barpolar\":[{\"marker\":{\"line\":{\"color\":\"white\",\"width\":0.5},\"pattern\":{\"fillmode\":\"overlay\",\"size\":10,\"solidity\":0.2}},\"type\":\"barpolar\"}],\"bar\":[{\"error_x\":{\"color\":\"#2a3f5f\"},\"error_y\":{\"color\":\"#2a3f5f\"},\"marker\":{\"line\":{\"color\":\"white\",\"width\":0.5},\"pattern\":{\"fillmode\":\"overlay\",\"size\":10,\"solidity\":0.2}},\"type\":\"bar\"}],\"carpet\":[{\"aaxis\":{\"endlinecolor\":\"#2a3f5f\",\"gridcolor\":\"#C8D4E3\",\"linecolor\":\"#C8D4E3\",\"minorgridcolor\":\"#C8D4E3\",\"startlinecolor\":\"#2a3f5f\"},\"baxis\":{\"endlinecolor\":\"#2a3f5f\",\"gridcolor\":\"#C8D4E3\",\"linecolor\":\"#C8D4E3\",\"minorgridcolor\":\"#C8D4E3\",\"startlinecolor\":\"#2a3f5f\"},\"type\":\"carpet\"}],\"choropleth\":[{\"colorbar\":{\"outlinewidth\":0,\"ticks\":\"\"},\"type\":\"choropleth\"}],\"contourcarpet\":[{\"colorbar\":{\"outlinewidth\":0,\"ticks\":\"\"},\"type\":\"contourcarpet\"}],\"contour\":[{\"colorbar\":{\"outlinewidth\":0,\"ticks\":\"\"},\"colorscale\":[[0.0,\"#0d0887\"],[0.1111111111111111,\"#46039f\"],[0.2222222222222222,\"#7201a8\"],[0.3333333333333333,\"#9c179e\"],[0.4444444444444444,\"#bd3786\"],[0.5555555555555556,\"#d8576b\"],[0.6666666666666666,\"#ed7953\"],[0.7777777777777778,\"#fb9f3a\"],[0.8888888888888888,\"#fdca26\"],[1.0,\"#f0f921\"]],\"type\":\"contour\"}],\"heatmapgl\":[{\"colorbar\":{\"outlinewidth\":0,\"ticks\":\"\"},\"colorscale\":[[0.0,\"#0d0887\"],[0.1111111111111111,\"#46039f\"],[0.2222222222222222,\"#7201a8\"],[0.3333333333333333,\"#9c179e\"],[0.4444444444444444,\"#bd3786\"],[0.5555555555555556,\"#d8576b\"],[0.6666666666666666,\"#ed7953\"],[0.7777777777777778,\"#fb9f3a\"],[0.8888888888888888,\"#fdca26\"],[1.0,\"#f0f921\"]],\"type\":\"heatmapgl\"}],\"heatmap\":[{\"colorbar\":{\"outlinewidth\":0,\"ticks\":\"\"},\"colorscale\":[[0.0,\"#0d0887\"],[0.1111111111111111,\"#46039f\"],[0.2222222222222222,\"#7201a8\"],[0.3333333333333333,\"#9c179e\"],[0.4444444444444444,\"#bd3786\"],[0.5555555555555556,\"#d8576b\"],[0.6666666666666666,\"#ed7953\"],[0.7777777777777778,\"#fb9f3a\"],[0.8888888888888888,\"#fdca26\"],[1.0,\"#f0f921\"]],\"type\":\"heatmap\"}],\"histogram2dcontour\":[{\"colorbar\":{\"outlinewidth\":0,\"ticks\":\"\"},\"colorscale\":[[0.0,\"#0d0887\"],[0.1111111111111111,\"#46039f\"],[0.2222222222222222,\"#7201a8\"],[0.3333333333333333,\"#9c179e\"],[0.4444444444444444,\"#bd3786\"],[0.5555555555555556,\"#d8576b\"],[0.6666666666666666,\"#ed7953\"],[0.7777777777777778,\"#fb9f3a\"],[0.8888888888888888,\"#fdca26\"],[1.0,\"#f0f921\"]],\"type\":\"histogram2dcontour\"}],\"histogram2d\":[{\"colorbar\":{\"outlinewidth\":0,\"ticks\":\"\"},\"colorscale\":[[0.0,\"#0d0887\"],[0.1111111111111111,\"#46039f\"],[0.2222222222222222,\"#7201a8\"],[0.3333333333333333,\"#9c179e\"],[0.4444444444444444,\"#bd3786\"],[0.5555555555555556,\"#d8576b\"],[0.6666666666666666,\"#ed7953\"],[0.7777777777777778,\"#fb9f3a\"],[0.8888888888888888,\"#fdca26\"],[1.0,\"#f0f921\"]],\"type\":\"histogram2d\"}],\"histogram\":[{\"marker\":{\"pattern\":{\"fillmode\":\"overlay\",\"size\":10,\"solidity\":0.2}},\"type\":\"histogram\"}],\"mesh3d\":[{\"colorbar\":{\"outlinewidth\":0,\"ticks\":\"\"},\"type\":\"mesh3d\"}],\"parcoords\":[{\"line\":{\"colorbar\":{\"outlinewidth\":0,\"ticks\":\"\"}},\"type\":\"parcoords\"}],\"pie\":[{\"automargin\":true,\"type\":\"pie\"}],\"scatter3d\":[{\"line\":{\"colorbar\":{\"outlinewidth\":0,\"ticks\":\"\"}},\"marker\":{\"colorbar\":{\"outlinewidth\":0,\"ticks\":\"\"}},\"type\":\"scatter3d\"}],\"scattercarpet\":[{\"marker\":{\"colorbar\":{\"outlinewidth\":0,\"ticks\":\"\"}},\"type\":\"scattercarpet\"}],\"scattergeo\":[{\"marker\":{\"colorbar\":{\"outlinewidth\":0,\"ticks\":\"\"}},\"type\":\"scattergeo\"}],\"scattergl\":[{\"marker\":{\"colorbar\":{\"outlinewidth\":0,\"ticks\":\"\"}},\"type\":\"scattergl\"}],\"scattermapbox\":[{\"marker\":{\"colorbar\":{\"outlinewidth\":0,\"ticks\":\"\"}},\"type\":\"scattermapbox\"}],\"scatterpolargl\":[{\"marker\":{\"colorbar\":{\"outlinewidth\":0,\"ticks\":\"\"}},\"type\":\"scatterpolargl\"}],\"scatterpolar\":[{\"marker\":{\"colorbar\":{\"outlinewidth\":0,\"ticks\":\"\"}},\"type\":\"scatterpolar\"}],\"scatter\":[{\"fillpattern\":{\"fillmode\":\"overlay\",\"size\":10,\"solidity\":0.2},\"type\":\"scatter\"}],\"scatterternary\":[{\"marker\":{\"colorbar\":{\"outlinewidth\":0,\"ticks\":\"\"}},\"type\":\"scatterternary\"}],\"surface\":[{\"colorbar\":{\"outlinewidth\":0,\"ticks\":\"\"},\"colorscale\":[[0.0,\"#0d0887\"],[0.1111111111111111,\"#46039f\"],[0.2222222222222222,\"#7201a8\"],[0.3333333333333333,\"#9c179e\"],[0.4444444444444444,\"#bd3786\"],[0.5555555555555556,\"#d8576b\"],[0.6666666666666666,\"#ed7953\"],[0.7777777777777778,\"#fb9f3a\"],[0.8888888888888888,\"#fdca26\"],[1.0,\"#f0f921\"]],\"type\":\"surface\"}],\"table\":[{\"cells\":{\"fill\":{\"color\":\"#EBF0F8\"},\"line\":{\"color\":\"white\"}},\"header\":{\"fill\":{\"color\":\"#C8D4E3\"},\"line\":{\"color\":\"white\"}},\"type\":\"table\"}]},\"layout\":{\"annotationdefaults\":{\"arrowcolor\":\"#2a3f5f\",\"arrowhead\":0,\"arrowwidth\":1},\"autotypenumbers\":\"strict\",\"coloraxis\":{\"colorbar\":{\"outlinewidth\":0,\"ticks\":\"\"}},\"colorscale\":{\"diverging\":[[0,\"#8e0152\"],[0.1,\"#c51b7d\"],[0.2,\"#de77ae\"],[0.3,\"#f1b6da\"],[0.4,\"#fde0ef\"],[0.5,\"#f7f7f7\"],[0.6,\"#e6f5d0\"],[0.7,\"#b8e186\"],[0.8,\"#7fbc41\"],[0.9,\"#4d9221\"],[1,\"#276419\"]],\"sequential\":[[0.0,\"#0d0887\"],[0.1111111111111111,\"#46039f\"],[0.2222222222222222,\"#7201a8\"],[0.3333333333333333,\"#9c179e\"],[0.4444444444444444,\"#bd3786\"],[0.5555555555555556,\"#d8576b\"],[0.6666666666666666,\"#ed7953\"],[0.7777777777777778,\"#fb9f3a\"],[0.8888888888888888,\"#fdca26\"],[1.0,\"#f0f921\"]],\"sequentialminus\":[[0.0,\"#0d0887\"],[0.1111111111111111,\"#46039f\"],[0.2222222222222222,\"#7201a8\"],[0.3333333333333333,\"#9c179e\"],[0.4444444444444444,\"#bd3786\"],[0.5555555555555556,\"#d8576b\"],[0.6666666666666666,\"#ed7953\"],[0.7777777777777778,\"#fb9f3a\"],[0.8888888888888888,\"#fdca26\"],[1.0,\"#f0f921\"]]},\"colorway\":[\"#636efa\",\"#EF553B\",\"#00cc96\",\"#ab63fa\",\"#FFA15A\",\"#19d3f3\",\"#FF6692\",\"#B6E880\",\"#FF97FF\",\"#FECB52\"],\"font\":{\"color\":\"#2a3f5f\"},\"geo\":{\"bgcolor\":\"white\",\"lakecolor\":\"white\",\"landcolor\":\"white\",\"showlakes\":true,\"showland\":true,\"subunitcolor\":\"#C8D4E3\"},\"hoverlabel\":{\"align\":\"left\"},\"hovermode\":\"closest\",\"mapbox\":{\"style\":\"light\"},\"paper_bgcolor\":\"white\",\"plot_bgcolor\":\"white\",\"polar\":{\"angularaxis\":{\"gridcolor\":\"#EBF0F8\",\"linecolor\":\"#EBF0F8\",\"ticks\":\"\"},\"bgcolor\":\"white\",\"radialaxis\":{\"gridcolor\":\"#EBF0F8\",\"linecolor\":\"#EBF0F8\",\"ticks\":\"\"}},\"scene\":{\"xaxis\":{\"backgroundcolor\":\"white\",\"gridcolor\":\"#DFE8F3\",\"gridwidth\":2,\"linecolor\":\"#EBF0F8\",\"showbackground\":true,\"ticks\":\"\",\"zerolinecolor\":\"#EBF0F8\"},\"yaxis\":{\"backgroundcolor\":\"white\",\"gridcolor\":\"#DFE8F3\",\"gridwidth\":2,\"linecolor\":\"#EBF0F8\",\"showbackground\":true,\"ticks\":\"\",\"zerolinecolor\":\"#EBF0F8\"},\"zaxis\":{\"backgroundcolor\":\"white\",\"gridcolor\":\"#DFE8F3\",\"gridwidth\":2,\"linecolor\":\"#EBF0F8\",\"showbackground\":true,\"ticks\":\"\",\"zerolinecolor\":\"#EBF0F8\"}},\"shapedefaults\":{\"line\":{\"color\":\"#2a3f5f\"}},\"ternary\":{\"aaxis\":{\"gridcolor\":\"#DFE8F3\",\"linecolor\":\"#A2B1C6\",\"ticks\":\"\"},\"baxis\":{\"gridcolor\":\"#DFE8F3\",\"linecolor\":\"#A2B1C6\",\"ticks\":\"\"},\"bgcolor\":\"white\",\"caxis\":{\"gridcolor\":\"#DFE8F3\",\"linecolor\":\"#A2B1C6\",\"ticks\":\"\"}},\"title\":{\"x\":0.05},\"xaxis\":{\"automargin\":true,\"gridcolor\":\"#EBF0F8\",\"linecolor\":\"#EBF0F8\",\"ticks\":\"\",\"title\":{\"standoff\":15},\"zerolinecolor\":\"#EBF0F8\",\"zerolinewidth\":2},\"yaxis\":{\"automargin\":true,\"gridcolor\":\"#EBF0F8\",\"linecolor\":\"#EBF0F8\",\"ticks\":\"\",\"title\":{\"standoff\":15},\"zerolinecolor\":\"#EBF0F8\",\"zerolinewidth\":2}}},\"hoverlabel\":{\"font\":{\"size\":12,\"family\":\"Rockwell\"},\"bgcolor\":\"white\"},\"title\":{\"text\":\"Facebook Stock Price Prediction\"},\"xaxis\":{\"title\":{\"text\":\"Date\"}},\"yaxis\":{\"title\":{\"text\":\"Facebook Stock Price\"}},\"legend\":{\"title\":{\"text\":\"Price Type\"}},\"hovermode\":\"x\"},                        {\"responsive\": true}                    ).then(function(){\n",
              "                            \n",
              "var gd = document.getElementById('f99e6955-9254-4ad8-b26d-7323e975ea8f');\n",
              "var x = new MutationObserver(function (mutations, observer) {{\n",
              "        var display = window.getComputedStyle(gd).display;\n",
              "        if (!display || display === 'none') {{\n",
              "            console.log([gd, 'removed!']);\n",
              "            Plotly.purge(gd);\n",
              "            observer.disconnect();\n",
              "        }}\n",
              "}});\n",
              "\n",
              "// Listen for the removal of the full notebook cells\n",
              "var notebookContainer = gd.closest('#notebook-container');\n",
              "if (notebookContainer) {{\n",
              "    x.observe(notebookContainer, {childList: true});\n",
              "}}\n",
              "\n",
              "// Listen for the clearing of the current output cell\n",
              "var outputEl = gd.closest('.output');\n",
              "if (outputEl) {{\n",
              "    x.observe(outputEl, {childList: true});\n",
              "}}\n",
              "\n",
              "                        })                };                            </script>        </div>\n",
              "</body>\n",
              "</html>"
            ]
          },
          "metadata": {}
        }
      ],
      "execution_count": 48
    },
    {
      "cell_type": "code",
      "source": [],
      "metadata": {
        "id": "6w_xIEd77DY6"
      },
      "execution_count": null,
      "outputs": []
    }
  ]
}